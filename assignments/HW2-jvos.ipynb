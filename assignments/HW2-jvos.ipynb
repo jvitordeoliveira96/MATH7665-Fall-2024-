{
 "cells": [
  {
   "cell_type": "markdown",
   "id": "6f184304",
   "metadata": {},
   "source": [
    "## Homework 2\n",
    "\n",
    "### João Vitor de Oliveira Silva\n",
    "### MATH 7665"
   ]
  },
  {
   "cell_type": "code",
   "execution_count": 88,
   "id": "5d00f3f2",
   "metadata": {},
   "outputs": [],
   "source": [
    "using LinearAlgebra\n",
    "using PlotlyJS"
   ]
  },
  {
   "cell_type": "markdown",
   "id": "b163d84e",
   "metadata": {},
   "source": [
    "## Exercise 7"
   ]
  },
  {
   "cell_type": "code",
   "execution_count": 89,
   "id": "80e7810e",
   "metadata": {},
   "outputs": [
    {
     "data": {
      "text/plain": [
       "3×3 Matrix{Int64}:\n",
       " 0  1  2\n",
       " 2  0  1\n",
       " 1  2  0"
      ]
     },
     "execution_count": 89,
     "metadata": {},
     "output_type": "execute_result"
    }
   ],
   "source": [
    "A = [0 1 2;2 0 1;1 2 0]"
   ]
  },
  {
   "cell_type": "code",
   "execution_count": 90,
   "id": "059ca08f",
   "metadata": {},
   "outputs": [],
   "source": [
    "eigvals, V = eigen(A);"
   ]
  },
  {
   "cell_type": "code",
   "execution_count": 91,
   "id": "eb2c2d94",
   "metadata": {},
   "outputs": [
    {
     "data": {
      "text/plain": [
       "3×3 Matrix{ComplexF64}:\n",
       " -1.5-0.866025im   0.0+0.0im       0.0+0.0im\n",
       "  0.0+0.0im       -1.5+0.866025im  0.0+0.0im\n",
       "  0.0+0.0im        0.0+0.0im       3.0+0.0im"
      ]
     },
     "execution_count": 91,
     "metadata": {},
     "output_type": "execute_result"
    }
   ],
   "source": [
    "D = diagm(eigvals)"
   ]
  },
  {
   "cell_type": "code",
   "execution_count": 92,
   "id": "4ab98af0",
   "metadata": {},
   "outputs": [
    {
     "data": {
      "text/plain": [
       "3×3 Matrix{ComplexF64}:\n",
       "   0.57735-0.0im    0.57735+0.0im  0.57735+0.0im\n",
       " -0.288675+0.5im  -0.288675-0.5im  0.57735+0.0im\n",
       " -0.288675-0.5im  -0.288675+0.5im  0.57735+0.0im"
      ]
     },
     "execution_count": 92,
     "metadata": {},
     "output_type": "execute_result"
    }
   ],
   "source": [
    "V"
   ]
  },
  {
   "cell_type": "code",
   "execution_count": 93,
   "id": "e1393dcf",
   "metadata": {},
   "outputs": [
    {
     "data": {
      "text/plain": [
       "3.3306690738754696e-15"
      ]
     },
     "execution_count": 93,
     "metadata": {},
     "output_type": "execute_result"
    }
   ],
   "source": [
    "opnorm(A - V * D * V', 1)"
   ]
  },
  {
   "cell_type": "markdown",
   "id": "281df5c5",
   "metadata": {},
   "source": [
    "We notice that the eigendecomposition is correct, since $\\|A - V_{num} D_{num} V_{num}^H\\| < 10^{-15}$"
   ]
  },
  {
   "cell_type": "code",
   "execution_count": 94,
   "id": "891b108a",
   "metadata": {},
   "outputs": [
    {
     "data": {
      "text/plain": [
       "circulant_mat (generic function with 1 method)"
      ]
     },
     "execution_count": 94,
     "metadata": {},
     "output_type": "execute_result"
    }
   ],
   "source": [
    "function circulant_mat(n)\n",
    "    M = zeros(n, n)\n",
    "    for k = 1:n\n",
    "        M[:, k] = cat(collect(k-1:-1:0), collect(n-1:-1:k), dims = 1)\n",
    "    end\n",
    "    return M\n",
    "end"
   ]
  },
  {
   "cell_type": "code",
   "execution_count": 95,
   "id": "9883c572",
   "metadata": {},
   "outputs": [
    {
     "name": "stdout",
     "output_type": "stream",
     "text": [
      "C = \n"
     ]
    },
    {
     "data": {
      "text/plain": [
       "3×3 Matrix{Float64}:\n",
       " 0.0  1.0  2.0\n",
       " 2.0  0.0  1.0\n",
       " 1.0  2.0  0.0"
      ]
     },
     "metadata": {},
     "output_type": "display_data"
    },
    {
     "name": "stdout",
     "output_type": "stream",
     "text": [
      "V = \n"
     ]
    },
    {
     "data": {
      "text/plain": [
       "3×3 Matrix{ComplexF64}:\n",
       "   0.57735-0.0im    0.57735+0.0im  0.57735+0.0im\n",
       " -0.288675+0.5im  -0.288675-0.5im  0.57735+0.0im\n",
       " -0.288675-0.5im  -0.288675+0.5im  0.57735+0.0im"
      ]
     },
     "metadata": {},
     "output_type": "display_data"
    },
    {
     "name": "stdout",
     "output_type": "stream",
     "text": [
      "D = \n"
     ]
    },
    {
     "data": {
      "text/plain": [
       "3×3 Matrix{ComplexF64}:\n",
       " -1.5-0.866025im   0.0+0.0im       0.0+0.0im\n",
       "  0.0+0.0im       -1.5+0.866025im  0.0+0.0im\n",
       "  0.0+0.0im        0.0+0.0im       3.0+0.0im"
      ]
     },
     "metadata": {},
     "output_type": "display_data"
    },
    {
     "name": "stdout",
     "output_type": "stream",
     "text": [
      "||A - VDV^H|| = 3.3306690738754696e-15\n"
     ]
    }
   ],
   "source": [
    "# Testing to check if results are correct\n",
    "C = circulant_mat(3);\n",
    "eigvals, V = eigen(C);\n",
    "D = diagm(eigvals);\n",
    "diffval = opnorm(C - V * D * V', 1);\n",
    "println(\"C = \")\n",
    "display(C)\n",
    "println(\"V = \")\n",
    "display(V)\n",
    "println(\"D = \")\n",
    "display(D)\n",
    "println(\"||A - VDV^H|| = \", diffval)"
   ]
  },
  {
   "cell_type": "code",
   "execution_count": 96,
   "id": "2fd92bf7",
   "metadata": {},
   "outputs": [
    {
     "name": "stdout",
     "output_type": "stream",
     "text": [
      "C = \n"
     ]
    },
    {
     "data": {
      "text/plain": [
       "4×4 Matrix{Float64}:\n",
       " 0.0  1.0  2.0  3.0\n",
       " 3.0  0.0  1.0  2.0\n",
       " 2.0  3.0  0.0  1.0\n",
       " 1.0  2.0  3.0  0.0"
      ]
     },
     "metadata": {},
     "output_type": "display_data"
    },
    {
     "name": "stdout",
     "output_type": "stream",
     "text": [
      "V = \n"
     ]
    },
    {
     "data": {
      "text/plain": [
       "4×4 Matrix{ComplexF64}:\n",
       "          0.5-0.0im          …  -0.5+0.0im  0.5+0.0im\n",
       " -2.75337e-17+0.5im              0.5+0.0im  0.5+0.0im\n",
       "         -0.5+1.38943e-17im     -0.5+0.0im  0.5+0.0im\n",
       "  1.79984e-16-0.5im              0.5+0.0im  0.5+0.0im"
      ]
     },
     "metadata": {},
     "output_type": "display_data"
    },
    {
     "name": "stdout",
     "output_type": "stream",
     "text": [
      "D = \n"
     ]
    },
    {
     "data": {
      "text/plain": [
       "4×4 Matrix{ComplexF64}:\n",
       " -2.0-2.0im   0.0+0.0im   0.0+0.0im  0.0+0.0im\n",
       "  0.0+0.0im  -2.0+2.0im   0.0+0.0im  0.0+0.0im\n",
       "  0.0+0.0im   0.0+0.0im  -2.0+0.0im  0.0+0.0im\n",
       "  0.0+0.0im   0.0+0.0im   0.0+0.0im  6.0+0.0im"
      ]
     },
     "metadata": {},
     "output_type": "display_data"
    },
    {
     "name": "stdout",
     "output_type": "stream",
     "text": [
      "||A - VDV^H|| = 1.0130818220192422e-14\n"
     ]
    }
   ],
   "source": [
    "# Testing to check if results are correct\n",
    "C = circulant_mat(4);\n",
    "eigvals, V = eigen(C);\n",
    "D = diagm(eigvals);\n",
    "diffval = opnorm(C - V * D * V', 1);\n",
    "println(\"C = \")\n",
    "display(C)\n",
    "println(\"V = \")\n",
    "display(V)\n",
    "println(\"D = \")\n",
    "display(D)\n",
    "println(\"||A - VDV^H|| = \", diffval)"
   ]
  },
  {
   "cell_type": "code",
   "execution_count": 97,
   "id": "fc1628ea",
   "metadata": {},
   "outputs": [
    {
     "name": "stdout",
     "output_type": "stream",
     "text": [
      "Size; ||A - VDV^H||\n",
      "1;0.0\n",
      "11;7.597198387890618e-14\n",
      "21;5.311587362615064e-13\n",
      "31;9.326336927943295e-13\n",
      "41;1.874391037990533e-12\n",
      "51;3.936101470043644e-12\n",
      "61;5.293616048800542e-12\n",
      "71;1.3084333117926126e-11\n",
      "81;1.4442684130497681e-11\n",
      "91;1.7669531201490437e-11\n",
      "101;2.2769263335144905e-11\n",
      "111;2.6313128084767876e-11\n",
      "121;4.022868205547667e-11\n",
      "131;5.436884696227777e-11\n",
      "141;7.486114066212887e-11\n",
      "151;7.306957972453926e-11\n",
      "161;8.689740942445761e-11\n",
      "171;1.0858358201060841e-10\n",
      "181;1.1541624470937607e-10\n",
      "191;1.505035012890784e-10\n",
      "201;1.4685710333894208e-10\n",
      "211;2.0145142331441834e-10\n",
      "221;2.352915685493198e-10\n",
      "231;2.486381092032257e-10\n",
      "241;3.186592050421009e-10\n",
      "251;3.182325892542735e-10\n",
      "261;3.3956346032669335e-10\n",
      "271;4.197615750790502e-10\n",
      "281;4.797766204153768e-10\n",
      "291;5.661359932239958e-10\n",
      "301;5.837101867052081e-10\n",
      "311;6.326041355347485e-10\n",
      "321;7.224027770217056e-10\n",
      "331;7.379475537024074e-10\n",
      "341;7.750882725066096e-10\n",
      "351;7.971066569965118e-10\n",
      "361;9.285856228111645e-10\n",
      "371;8.984729836418976e-10\n",
      "381;9.328030907507843e-10\n",
      "391;1.0170756625661852e-9\n",
      "401;1.1980084845985856e-9\n",
      "411;1.2470991224146585e-9\n",
      "421;1.3191488739580595e-9\n",
      "431;1.386926497205078e-9\n",
      "441;1.7109466510735883e-9\n",
      "451;1.5432705111471423e-9\n",
      "461;1.758967881225982e-9\n",
      "471;1.666132704255684e-9\n",
      "481;1.8868525975555853e-9\n",
      "491;2.219773672125792e-9\n",
      "501;2.0133612230290087e-9\n"
     ]
    }
   ],
   "source": [
    "# Checking errors as n increases to infinity\n",
    "max_size = 500\n",
    "println(\"Size\", \"; ||A - VDV^H||\")\n",
    "for k = 1:10:(max_size+1)\n",
    "    A = circulant_mat(k);\n",
    "    eigvals, V = eigen(A);\n",
    "    D = diagm(eigvals);\n",
    "    diffval = opnorm(A - V * D * V', 1)\n",
    "    println(k,\";\", diffval)\n",
    "end"
   ]
  },
  {
   "cell_type": "markdown",
   "id": "700340ad",
   "metadata": {},
   "source": [
    "The error increases, which is expected since the number of floating point operations increase as the matrix size increases."
   ]
  },
  {
   "cell_type": "markdown",
   "id": "079e2bf5",
   "metadata": {},
   "source": [
    "## Exercise 13"
   ]
  },
  {
   "cell_type": "code",
   "execution_count": 168,
   "id": "a434dd5a",
   "metadata": {},
   "outputs": [
    {
     "data": {
      "text/plain": [
       "2×1 Matrix{Float64}:\n",
       " -0.07041547850481787\n",
       "  1.095347698752643"
      ]
     },
     "execution_count": 168,
     "metadata": {},
     "output_type": "execute_result"
    }
   ],
   "source": [
    "v1 = randn(2, 1)"
   ]
  },
  {
   "cell_type": "code",
   "execution_count": 169,
   "id": "ecbb9968",
   "metadata": {},
   "outputs": [
    {
     "data": {
      "text/plain": [
       "2×1 Matrix{Float64}:\n",
       " -0.07041547850481787\n",
       "  1.095347698752643"
      ]
     },
     "execution_count": 169,
     "metadata": {},
     "output_type": "execute_result"
    }
   ],
   "source": [
    "X = zeros(2, 2)\n",
    "X[:, 1] = v1"
   ]
  },
  {
   "cell_type": "code",
   "execution_count": 170,
   "id": "4925ac15",
   "metadata": {},
   "outputs": [
    {
     "name": "stdout",
     "output_type": "stream",
     "text": [
      "X = "
     ]
    },
    {
     "data": {
      "text/plain": [
       "2×2 Matrix{Float64}:\n",
       " -0.0704155  0.940603\n",
       "  1.09535    0.377373"
      ]
     },
     "metadata": {},
     "output_type": "display_data"
    },
    {
     "name": "stdout",
     "output_type": "stream",
     "text": [
      "A = "
     ]
    },
    {
     "data": {
      "text/plain": [
       "2×2 Matrix{Float64}:\n",
       " -0.949713  -0.125339\n",
       " -0.782232   0.949713"
      ]
     },
     "metadata": {},
     "output_type": "display_data"
    },
    {
     "name": "stdout",
     "output_type": "stream",
     "text": [
      "sigma_1 = 1.3810038324575271\n",
      "X = "
     ]
    },
    {
     "data": {
      "text/plain": [
       "2×2 Matrix{Float64}:\n",
       " -0.0704155  0.089183\n",
       "  1.09535    1.15037"
      ]
     },
     "metadata": {},
     "output_type": "display_data"
    },
    {
     "name": "stdout",
     "output_type": "stream",
     "text": [
      "A = "
     ]
    },
    {
     "data": {
      "text/plain": [
       "2×2 Matrix{Float64}:\n",
       "  -0.0933581  -0.0702876\n",
       " -14.1033      0.0933581"
      ]
     },
     "metadata": {},
     "output_type": "display_data"
    },
    {
     "name": "stdout",
     "output_type": "stream",
     "text": [
      "sigma_1 = 14.103878877037415\n",
      "X = "
     ]
    },
    {
     "data": {
      "text/plain": [
       "2×2 Matrix{Float64}:\n",
       " -0.0704155  0.0553197\n",
       "  1.09535    1.18423"
      ]
     },
     "metadata": {},
     "output_type": "display_data"
    },
    {
     "name": "stdout",
     "output_type": "stream",
     "text": [
      "A = "
     ]
    },
    {
     "data": {
      "text/plain": [
       "2×2 Matrix{Float64}:\n",
       "   0.158309  -0.0541089\n",
       " -18.0181    -0.158309"
      ]
     },
     "metadata": {},
     "output_type": "display_data"
    },
    {
     "name": "stdout",
     "output_type": "stream",
     "text": [
      "sigma_1 = 18.01946547550979\n",
      "X = "
     ]
    },
    {
     "data": {
      "text/plain": [
       "2×2 Matrix{Float64}:\n",
       " -0.0704155  -0.0776497\n",
       "  1.09535     1.07682"
      ]
     },
     "metadata": {},
     "output_type": "display_data"
    },
    {
     "name": "stdout",
     "output_type": "stream",
     "text": [
      "A = "
     ]
    },
    {
     "data": {
      "text/plain": [
       "2×2 Matrix{Float64}:\n",
       " -17.4328  -1.18497\n",
       " 255.62    17.4328"
      ]
     },
     "metadata": {},
     "output_type": "display_data"
    },
    {
     "name": "stdout",
     "output_type": "stream",
     "text": [
      "sigma_1 = 256.80896410825585\n",
      "X = "
     ]
    },
    {
     "data": {
      "text/plain": [
       "2×2 Matrix{Float64}:\n",
       " -0.0704155  -0.0642476\n",
       "  1.09535     1.06677"
      ]
     },
     "metadata": {},
     "output_type": "display_data"
    },
    {
     "name": "stdout",
     "output_type": "stream",
     "text": [
      "A = "
     ]
    },
    {
     "data": {
      "text/plain": [
       "2×2 Matrix{Float64}:\n",
       "   30.6692    1.90731\n",
       " -492.629   -30.6692"
      ]
     },
     "metadata": {},
     "output_type": "display_data"
    },
    {
     "name": "stdout",
     "output_type": "stream",
     "text": [
      "sigma_1 = 494.5386971897766\n",
      "X = "
     ]
    },
    {
     "data": {
      "text/plain": [
       "2×2 Matrix{Float64}:\n",
       " -0.0704155  -0.075663\n",
       "  1.09535     1.09218"
      ]
     },
     "metadata": {},
     "output_type": "display_data"
    },
    {
     "name": "stdout",
     "output_type": "stream",
     "text": [
      "A = "
     ]
    },
    {
     "data": {
      "text/plain": [
       "2×2 Matrix{Float64}:\n",
       " -26.7599  -1.78457\n",
       " 400.707   26.7599"
      ]
     },
     "metadata": {},
     "output_type": "display_data"
    },
    {
     "name": "stdout",
     "output_type": "stream",
     "text": [
      "sigma_1 = 402.49432583990387\n",
      "X = "
     ]
    },
    {
     "data": {
      "text/plain": [
       "2×2 Matrix{Float64}:\n",
       " -0.0704155  -0.0627802\n",
       "  1.09535     1.10005"
      ]
     },
     "metadata": {},
     "output_type": "display_data"
    },
    {
     "name": "stdout",
     "output_type": "stream",
     "text": [
      "A = "
     ]
    },
    {
     "data": {
      "text/plain": [
       "2×2 Matrix{Float64}:\n",
       "   16.8182    1.01689\n",
       " -277.171   -16.8182"
      ]
     },
     "metadata": {},
     "output_type": "display_data"
    },
    {
     "name": "stdout",
     "output_type": "stream",
     "text": [
      "sigma_1 = 278.1911022692797\n",
      "X = "
     ]
    },
    {
     "data": {
      "text/plain": [
       "2×2 Matrix{Float64}:\n",
       " -0.0704155  -0.0692496\n",
       "  1.09535     1.08882"
      ]
     },
     "metadata": {},
     "output_type": "display_data"
    },
    {
     "name": "stdout",
     "output_type": "stream",
     "text": [
      "A = "
     ]
    },
    {
     "data": {
      "text/plain": [
       "2×2 Matrix{Float64}:\n",
       "   186.608    11.932\n",
       " -2918.34   -186.608"
      ]
     },
     "metadata": {},
     "output_type": "display_data"
    },
    {
     "name": "stdout",
     "output_type": "stream",
     "text": [
      "sigma_1 = 2930.2700136818185\n",
      "X = "
     ]
    },
    {
     "data": {
      "text/plain": [
       "2×2 Matrix{Float64}:\n",
       " -0.0704155  -0.0709779\n",
       "  1.09535     1.09788"
      ]
     },
     "metadata": {},
     "output_type": "display_data"
    },
    {
     "name": "stdout",
     "output_type": "stream",
     "text": [
      "A = "
     ]
    },
    {
     "data": {
      "text/plain": [
       "2×2 Matrix{Float64}:\n",
       " -353.947  -22.8181\n",
       " 5490.26   353.947"
      ]
     },
     "metadata": {},
     "output_type": "display_data"
    },
    {
     "name": "stdout",
     "output_type": "stream",
     "text": [
      "sigma_1 = 5513.079516532183\n",
      "X = "
     ]
    },
    {
     "data": {
      "text/plain": [
       "2×2 Matrix{Float64}:\n",
       " -0.0704155  -0.0703088\n",
       "  1.09535     1.09519"
      ]
     },
     "metadata": {},
     "output_type": "display_data"
    },
    {
     "name": "stdout",
     "output_type": "stream",
     "text": [
      "A = "
     ]
    },
    {
     "data": {
      "text/plain": [
       "2×2 Matrix{Float64}:\n",
       "   1456.55     93.5716\n",
       " -22672.9   -1456.55"
      ]
     },
     "metadata": {},
     "output_type": "display_data"
    },
    {
     "name": "stdout",
     "output_type": "stream",
     "text": [
      "sigma_1 = 22766.518430664608\n",
      "X = "
     ]
    },
    {
     "data": {
      "text/plain": [
       "2×2 Matrix{Float64}:\n",
       " -0.0704155  -0.0708661\n",
       "  1.09535     1.09491"
      ]
     },
     "metadata": {},
     "output_type": "display_data"
    },
    {
     "name": "stdout",
     "output_type": "stream",
     "text": [
      "A = "
     ]
    },
    {
     "data": {
      "text/plain": [
       "2×2 Matrix{Float64}:\n",
       " -295.035  -19.0309\n",
       " 4573.85   295.035"
      ]
     },
     "metadata": {},
     "output_type": "display_data"
    },
    {
     "name": "stdout",
     "output_type": "stream",
     "text": [
      "sigma_1 = 4592.884437085185\n",
      "X = "
     ]
    },
    {
     "data": {
      "text/plain": [
       "2×2 Matrix{Float64}:\n",
       " -0.0704155  -0.0705716\n",
       "  1.09535     1.09547"
      ]
     },
     "metadata": {},
     "output_type": "display_data"
    },
    {
     "name": "stdout",
     "output_type": "stream",
     "text": [
      "A = "
     ]
    },
    {
     "data": {
      "text/plain": [
       "2×2 Matrix{Float64}:\n",
       "  -949.2  -61.0845\n",
       " 14749.7  949.2"
      ]
     },
     "metadata": {},
     "output_type": "display_data"
    },
    {
     "name": "stdout",
     "output_type": "stream",
     "text": [
      "sigma_1 = 14810.810969226834\n",
      "X = "
     ]
    },
    {
     "data": {
      "text/plain": [
       "2×2 Matrix{Float64}:\n",
       " -0.0704155  -0.0701965\n",
       "  1.09535     1.09518"
      ]
     },
     "metadata": {},
     "output_type": "display_data"
    },
    {
     "name": "stdout",
     "output_type": "stream",
     "text": [
      "A = "
     ]
    },
    {
     "data": {
      "text/plain": [
       "2×2 Matrix{Float64}:\n",
       "    674.992    43.3282\n",
       " -10515.4    -674.992"
      ]
     },
     "metadata": {},
     "output_type": "display_data"
    },
    {
     "name": "stdout",
     "output_type": "stream",
     "text": [
      "sigma_1 = 10558.722597200145\n",
      "X = "
     ]
    },
    {
     "data": {
      "text/plain": [
       "2×2 Matrix{Float64}:\n",
       " -0.0704155  -0.0703744\n",
       "  1.09535     1.09537"
      ]
     },
     "metadata": {},
     "output_type": "display_data"
    },
    {
     "name": "stdout",
     "output_type": "stream",
     "text": [
      "A = "
     ]
    },
    {
     "data": {
      "text/plain": [
       "2×2 Matrix{Float64}:\n",
       "   3301.03    212.146\n",
       " -51364.7   -3301.03"
      ]
     },
     "metadata": {},
     "output_type": "display_data"
    },
    {
     "name": "stdout",
     "output_type": "stream",
     "text": [
      "sigma_1 = 51576.881174664406\n",
      "X = "
     ]
    },
    {
     "data": {
      "text/plain": [
       "2×2 Matrix{Float64}:\n",
       " -0.0704155  -0.0704074\n",
       "  1.09535     1.09539"
      ]
     },
     "metadata": {},
     "output_type": "display_data"
    },
    {
     "name": "stdout",
     "output_type": "stream",
     "text": [
      "A = "
     ]
    },
    {
     "data": {
      "text/plain": [
       "2×2 Matrix{Float64}:\n",
       "   12893.0     828.776\n",
       " -200573.0  -12893.0"
      ]
     },
     "metadata": {},
     "output_type": "display_data"
    },
    {
     "name": "stdout",
     "output_type": "stream",
     "text": [
      "sigma_1 = 201401.75844095924\n",
      "X = "
     ]
    },
    {
     "data": {
      "text/plain": [
       "2×2 Matrix{Float64}:\n",
       " -0.0704155  -0.070413\n",
       "  1.09535     1.09534"
      ]
     },
     "metadata": {},
     "output_type": "display_data"
    },
    {
     "name": "stdout",
     "output_type": "stream",
     "text": [
      "A = "
     ]
    },
    {
     "data": {
      "text/plain": [
       "2×2 Matrix{Float64}:\n",
       " 63944.5          4110.67\n",
       "    -9.94704e5  -63944.5"
      ]
     },
     "metadata": {},
     "output_type": "display_data"
    },
    {
     "name": "stdout",
     "output_type": "stream",
     "text": [
      "sigma_1 = 998814.3214379725\n",
      "X = "
     ]
    },
    {
     "data": {
      "text/plain": [
       "2×2 Matrix{Float64}:\n",
       " -0.0704155  -0.070414\n",
       "  1.09535     1.09535"
      ]
     },
     "metadata": {},
     "output_type": "display_data"
    },
    {
     "name": "stdout",
     "output_type": "stream",
     "text": [
      "A = "
     ]
    },
    {
     "data": {
      "text/plain": [
       "2×2 Matrix{Float64}:\n",
       " 93337.1          6000.2\n",
       "    -1.45192e6  -93337.1"
      ]
     },
     "metadata": {},
     "output_type": "display_data"
    },
    {
     "name": "stdout",
     "output_type": "stream",
     "text": [
      "sigma_1 = 1.4579211876791602e6\n",
      "X = "
     ]
    },
    {
     "data": {
      "text/plain": [
       "2×2 Matrix{Float64}:\n",
       " -0.0704155  -0.0704214\n",
       "  1.09535     1.09535"
      ]
     },
     "metadata": {},
     "output_type": "display_data"
    },
    {
     "name": "stdout",
     "output_type": "stream",
     "text": [
      "A = "
     ]
    },
    {
     "data": {
      "text/plain": [
       "2×2 Matrix{Float64}:\n",
       " -25266.4        -1624.34\n",
       "      3.93015e5  25266.4"
      ]
     },
     "metadata": {},
     "output_type": "display_data"
    },
    {
     "name": "stdout",
     "output_type": "stream",
     "text": [
      "sigma_1 = 394639.57004972483\n",
      "X = "
     ]
    },
    {
     "data": {
      "text/plain": [
       "2×2 Matrix{Float64}:\n",
       " -0.0704155  -0.0704171\n",
       "  1.09535     1.09535"
      ]
     },
     "metadata": {},
     "output_type": "display_data"
    },
    {
     "name": "stdout",
     "output_type": "stream",
     "text": [
      "A = "
     ]
    },
    {
     "data": {
      "text/plain": [
       "2×2 Matrix{Float64}:\n",
       " -88859.1        -5712.45\n",
       "      1.38223e6  88859.1"
      ]
     },
     "metadata": {},
     "output_type": "display_data"
    },
    {
     "name": "stdout",
     "output_type": "stream",
     "text": [
      "sigma_1 = 1.3879437384076845e6\n",
      "X = "
     ]
    },
    {
     "data": {
      "text/plain": [
       "2×2 Matrix{Float64}:\n",
       " -0.0704155  -0.0704139\n",
       "  1.09535     1.09535"
      ]
     },
     "metadata": {},
     "output_type": "display_data"
    },
    {
     "name": "stdout",
     "output_type": "stream",
     "text": [
      "A = "
     ]
    },
    {
     "data": {
      "text/plain": [
       "2×2 Matrix{Float64}:\n",
       " 86083.9          5533.92\n",
       "    -1.33909e6  -86083.9"
      ]
     },
     "metadata": {},
     "output_type": "display_data"
    },
    {
     "name": "stdout",
     "output_type": "stream",
     "text": [
      "sigma_1 = 1.3446277542814508e6\n",
      "X = "
     ]
    },
    {
     "data": {
      "text/plain": [
       "2×2 Matrix{Float64}:\n",
       " -0.0704155  -0.0704156\n",
       "  1.09535     1.09535"
      ]
     },
     "metadata": {},
     "output_type": "display_data"
    },
    {
     "name": "stdout",
     "output_type": "stream",
     "text": [
      "A = "
     ]
    },
    {
     "data": {
      "text/plain": [
       "2×2 Matrix{Float64}:\n",
       " -1.0136e6   -65160.5\n",
       "  1.57671e7       1.0136e6"
      ]
     },
     "metadata": {},
     "output_type": "display_data"
    },
    {
     "name": "stdout",
     "output_type": "stream",
     "text": [
      "sigma_1 = 1.5832237712725533e7\n",
      "X = "
     ]
    },
    {
     "data": {
      "text/plain": [
       "2×2 Matrix{Float64}:\n",
       " -0.0704155  -0.0704157\n",
       "  1.09535     1.09535"
      ]
     },
     "metadata": {},
     "output_type": "display_data"
    },
    {
     "name": "stdout",
     "output_type": "stream",
     "text": [
      "A = "
     ]
    },
    {
     "data": {
      "text/plain": [
       "2×2 Matrix{Float64}:\n",
       " -6.33308e5  -40712.9\n",
       "  9.85141e6       6.33308e5"
      ]
     },
     "metadata": {},
     "output_type": "display_data"
    },
    {
     "name": "stdout",
     "output_type": "stream",
     "text": [
      "sigma_1 = 9.892122158427045e6\n",
      "X = "
     ]
    },
    {
     "data": {
      "text/plain": [
       "2×2 Matrix{Float64}:\n",
       " -0.0704155  -0.0704155\n",
       "  1.09535     1.09535"
      ]
     },
     "metadata": {},
     "output_type": "display_data"
    },
    {
     "name": "stdout",
     "output_type": "stream",
     "text": [
      "A = "
     ]
    },
    {
     "data": {
      "text/plain": [
       "2×2 Matrix{Float64}:\n",
       " -1.13959e7  -7.32593e5\n",
       "  1.77268e8   1.13959e7"
      ]
     },
     "metadata": {},
     "output_type": "display_data"
    },
    {
     "name": "stdout",
     "output_type": "stream",
     "text": [
      "sigma_1 = 1.7800072388390175e8\n",
      "X = "
     ]
    },
    {
     "data": {
      "text/plain": [
       "2×2 Matrix{Float64}:\n",
       " -0.0704155  -0.0704154\n",
       "  1.09535     1.09535"
      ]
     },
     "metadata": {},
     "output_type": "display_data"
    },
    {
     "name": "stdout",
     "output_type": "stream",
     "text": [
      "A = "
     ]
    },
    {
     "data": {
      "text/plain": [
       "2×2 Matrix{Float64}:\n",
       "  4.00777e6  257643.0\n",
       " -6.23428e7      -4.00777e6"
      ]
     },
     "metadata": {},
     "output_type": "display_data"
    },
    {
     "name": "stdout",
     "output_type": "stream",
     "text": [
      "sigma_1 = 6.26004458451081e7\n",
      "X = "
     ]
    },
    {
     "data": {
      "text/plain": [
       "2×2 Matrix{Float64}:\n",
       " -0.0704155  -0.0704155\n",
       "  1.09535     1.09535"
      ]
     },
     "metadata": {},
     "output_type": "display_data"
    },
    {
     "name": "stdout",
     "output_type": "stream",
     "text": [
      "A = "
     ]
    },
    {
     "data": {
      "text/plain": [
       "2×2 Matrix{Float64}:\n",
       " -9.55789e6  -6.14438e5\n",
       "  1.48678e8   9.55789e6"
      ]
     },
     "metadata": {},
     "output_type": "display_data"
    },
    {
     "name": "stdout",
     "output_type": "stream",
     "text": [
      "sigma_1 = 1.4929214843942982e8\n",
      "X = "
     ]
    },
    {
     "data": {
      "text/plain": [
       "2×2 Matrix{Float64}:\n",
       " -0.0704155  -0.0704154\n",
       "  1.09535     1.09535"
      ]
     },
     "metadata": {},
     "output_type": "display_data"
    },
    {
     "name": "stdout",
     "output_type": "stream",
     "text": [
      "A = "
     ]
    },
    {
     "data": {
      "text/plain": [
       "2×2 Matrix{Float64}:\n",
       "  4.45849e6   2.86618e5\n",
       " -6.93541e7  -4.45849e6"
      ]
     },
     "metadata": {},
     "output_type": "display_data"
    },
    {
     "name": "stdout",
     "output_type": "stream",
     "text": [
      "sigma_1 = 6.964069058629775e7\n",
      "X = "
     ]
    },
    {
     "data": {
      "text/plain": [
       "2×2 Matrix{Float64}:\n",
       " -0.0704155  -0.0704155\n",
       "  1.09535     1.09535"
      ]
     },
     "metadata": {},
     "output_type": "display_data"
    },
    {
     "name": "stdout",
     "output_type": "stream",
     "text": [
      "A = "
     ]
    },
    {
     "data": {
      "text/plain": [
       "2×2 Matrix{Float64}:\n",
       " -6.20422e7  -3.98844e6\n",
       "  9.65098e8   6.20422e7"
      ]
     },
     "metadata": {},
     "output_type": "display_data"
    },
    {
     "name": "stdout",
     "output_type": "stream",
     "text": [
      "sigma_1 = 9.690860324934976e8\n",
      "X = "
     ]
    },
    {
     "data": {
      "text/plain": [
       "2×2 Matrix{Float64}:\n",
       " -0.0704155  -0.0704155\n",
       "  1.09535     1.09535"
      ]
     },
     "metadata": {},
     "output_type": "display_data"
    },
    {
     "name": "stdout",
     "output_type": "stream",
     "text": [
      "A = "
     ]
    },
    {
     "data": {
      "text/plain": [
       "2×2 Matrix{Float64}:\n",
       "  4.29497e8   2.76107e7\n",
       " -6.68105e9  -4.29497e8"
      ]
     },
     "metadata": {},
     "output_type": "display_data"
    },
    {
     "name": "stdout",
     "output_type": "stream",
     "text": [
      "sigma_1 = 6.708656008289416e9\n",
      "X = "
     ]
    },
    {
     "data": {
      "text/plain": [
       "2×2 Matrix{Float64}:\n",
       " -0.0704155  -0.0704155\n",
       "  1.09535     1.09535"
      ]
     },
     "metadata": {},
     "output_type": "display_data"
    },
    {
     "name": "stdout",
     "output_type": "stream",
     "text": [
      "A = "
     ]
    },
    {
     "data": {
      "text/plain": [
       "2×2 Matrix{Float64}:\n",
       "  5.02639e7   3.23126e6\n",
       " -7.8188e8   -5.02639e7"
      ]
     },
     "metadata": {},
     "output_type": "display_data"
    },
    {
     "name": "stdout",
     "output_type": "stream",
     "text": [
      "sigma_1 = 7.851116553773296e8\n",
      "X = "
     ]
    },
    {
     "data": {
      "text/plain": [
       "2×2 Matrix{Float64}:\n",
       " -0.0704155  -0.0704155\n",
       "  1.09535     1.09535"
      ]
     },
     "metadata": {},
     "output_type": "display_data"
    },
    {
     "name": "stdout",
     "output_type": "stream",
     "text": [
      "A = "
     ]
    },
    {
     "data": {
      "text/plain": [
       "2×2 Matrix{Float64}:\n",
       "  1.37927e8   8.86675e6\n",
       " -2.14552e9  -1.37927e8"
      ]
     },
     "metadata": {},
     "output_type": "display_data"
    },
    {
     "name": "stdout",
     "output_type": "stream",
     "text": [
      "sigma_1 = 2.1543841552769e9\n"
     ]
    }
   ],
   "source": [
    "k = 30\n",
    "for i = 1:k\n",
    "    X[:, 2] = v1 + randn(2, 1)/(2^i)\n",
    "    A = X * diagm([1, -1]) * inv(X)\n",
    "    print(\"X = \")\n",
    "    display(X)\n",
    "    print(\"A = \")\n",
    "    display(A)\n",
    "    println(\"sigma_1 = \", opnorm(A))\n",
    "end"
   ]
  },
  {
   "cell_type": "code",
   "execution_count": 171,
   "id": "36aaaad1",
   "metadata": {},
   "outputs": [
    {
     "data": {
      "text/plain": [
       "2×1 Matrix{Float64}:\n",
       " 0.2718163812584051\n",
       " 0.9626887604599392"
      ]
     },
     "execution_count": 171,
     "metadata": {},
     "output_type": "execute_result"
    }
   ],
   "source": [
    "v1 = rand(2, 1)"
   ]
  },
  {
   "cell_type": "code",
   "execution_count": 172,
   "id": "16798cb6",
   "metadata": {},
   "outputs": [
    {
     "data": {
      "text/plain": [
       "2×1 Matrix{Float64}:\n",
       " 0.2718163812584051\n",
       " 0.9626887604599392"
      ]
     },
     "execution_count": 172,
     "metadata": {},
     "output_type": "execute_result"
    }
   ],
   "source": [
    "X = zeros(2, 2)\n",
    "X[:, 1] = v1"
   ]
  },
  {
   "cell_type": "code",
   "execution_count": 174,
   "id": "edeaa9d4",
   "metadata": {},
   "outputs": [
    {
     "name": "stdout",
     "output_type": "stream",
     "text": [
      "X = "
     ]
    },
    {
     "data": {
      "text/plain": [
       "2×2 Matrix{Float64}:\n",
       " 0.271816  0.592113\n",
       " 0.962689  0.963549"
      ]
     },
     "metadata": {},
     "output_type": "display_data"
    },
    {
     "name": "stdout",
     "output_type": "stream",
     "text": [
      "A = "
     ]
    },
    {
     "data": {
      "text/plain": [
       "2×2 Matrix{Float64}:\n",
       " -2.70009  1.04472\n",
       " -6.02117  2.70009"
      ]
     },
     "metadata": {},
     "output_type": "display_data"
    },
    {
     "name": "stdout",
     "output_type": "stream",
     "text": [
      "sigma_1 = 7.204693246374041\n",
      "X = "
     ]
    },
    {
     "data": {
      "text/plain": [
       "2×2 Matrix{Float64}:\n",
       " 0.271816  0.29778\n",
       " 0.962689  0.964791"
      ]
     },
     "metadata": {},
     "output_type": "display_data"
    },
    {
     "name": "stdout",
     "output_type": "stream",
     "text": [
      "A = "
     ]
    },
    {
     "data": {
      "text/plain": [
       "2×2 Matrix{Float64}:\n",
       " -22.4751   6.62822\n",
       " -76.0581  22.4751"
      ]
     },
     "metadata": {},
     "output_type": "display_data"
    },
    {
     "name": "stdout",
     "output_type": "stream",
     "text": [
      "sigma_1 = 82.69837936543468\n",
      "X = "
     ]
    },
    {
     "data": {
      "text/plain": [
       "2×2 Matrix{Float64}:\n",
       " 0.271816  0.279484\n",
       " 0.962689  0.969997"
      ]
     },
     "metadata": {},
     "output_type": "display_data"
    },
    {
     "name": "stdout",
     "output_type": "stream",
     "text": [
      "A = "
     ]
    },
    {
     "data": {
      "text/plain": [
       "2×2 Matrix{Float64}:\n",
       "  -98.7515  28.165\n",
       " -346.205   98.7515"
      ]
     },
     "metadata": {},
     "output_type": "display_data"
    },
    {
     "name": "stdout",
     "output_type": "stream",
     "text": [
      "sigma_1 = 374.3728410036576\n",
      "X = "
     ]
    },
    {
     "data": {
      "text/plain": [
       "2×2 Matrix{Float64}:\n",
       " 0.271816  0.288013\n",
       " 0.962689  0.991311"
      ]
     },
     "metadata": {},
     "output_type": "display_data"
    },
    {
     "name": "stdout",
     "output_type": "stream",
     "text": [
      "A = "
     ]
    },
    {
     "data": {
      "text/plain": [
       "2×2 Matrix{Float64}:\n",
       "  -69.9835  20.0423\n",
       " -244.318   69.9835"
      ]
     },
     "metadata": {},
     "output_type": "display_data"
    },
    {
     "name": "stdout",
     "output_type": "stream",
     "text": [
      "sigma_1 = 264.3639816891434\n",
      "X = "
     ]
    },
    {
     "data": {
      "text/plain": [
       "2×2 Matrix{Float64}:\n",
       " 0.271816  0.274997\n",
       " 0.962689  0.981626"
      ]
     },
     "metadata": {},
     "output_type": "display_data"
    },
    {
     "name": "stdout",
     "output_type": "stream",
     "text": [
      "A = "
     ]
    },
    {
     "data": {
      "text/plain": [
       "2×2 Matrix{Float64}:\n",
       " 254.915   -71.6933\n",
       " 906.372  -254.915"
      ]
     },
     "metadata": {},
     "output_type": "display_data"
    },
    {
     "name": "stdout",
     "output_type": "stream",
     "text": [
      "sigma_1 = 978.066391844202\n",
      "X = "
     ]
    },
    {
     "data": {
      "text/plain": [
       "2×2 Matrix{Float64}:\n",
       " 0.271816  0.284881\n",
       " 0.962689  0.965317"
      ]
     },
     "metadata": {},
     "output_type": "display_data"
    },
    {
     "name": "stdout",
     "output_type": "stream",
     "text": [
      "A = "
     ]
    },
    {
     "data": {
      "text/plain": [
       "2×2 Matrix{Float64}:\n",
       "  -45.2381  13.0554\n",
       " -156.678   45.2381"
      ]
     },
     "metadata": {},
     "output_type": "display_data"
    },
    {
     "name": "stdout",
     "output_type": "stream",
     "text": [
      "sigma_1 = 169.73896085725994\n",
      "X = "
     ]
    },
    {
     "data": {
      "text/plain": [
       "2×2 Matrix{Float64}:\n",
       " 0.271816  0.275387\n",
       " 0.962689  0.967438"
      ]
     },
     "metadata": {},
     "output_type": "display_data"
    },
    {
     "name": "stdout",
     "output_type": "stream",
     "text": [
      "A = "
     ]
    },
    {
     "data": {
      "text/plain": [
       "2×2 Matrix{Float64}:\n",
       " -246.054   69.756\n",
       " -867.905  246.054"
      ]
     },
     "metadata": {},
     "output_type": "display_data"
    },
    {
     "name": "stdout",
     "output_type": "stream",
     "text": [
      "sigma_1 = 937.6621935368704\n",
      "X = "
     ]
    },
    {
     "data": {
      "text/plain": [
       "2×2 Matrix{Float64}:\n",
       " 0.271816  0.272981\n",
       " 0.962689  0.963172"
      ]
     },
     "metadata": {},
     "output_type": "display_data"
    },
    {
     "name": "stdout",
     "output_type": "stream",
     "text": [
      "A = "
     ]
    },
    {
     "data": {
      "text/plain": [
       "2×2 Matrix{Float64}:\n",
       "  -530.125  149.964\n",
       " -1874.0    530.125"
      ]
     },
     "metadata": {},
     "output_type": "display_data"
    },
    {
     "name": "stdout",
     "output_type": "stream",
     "text": [
      "sigma_1 = 2023.9606869198062\n",
      "X = "
     ]
    },
    {
     "data": {
      "text/plain": [
       "2×2 Matrix{Float64}:\n",
       " 0.271816  0.273642\n",
       " 0.962689  0.964506"
      ]
     },
     "metadata": {},
     "output_type": "display_data"
    },
    {
     "name": "stdout",
     "output_type": "stream",
     "text": [
      "A = "
     ]
    },
    {
     "data": {
      "text/plain": [
       "2×2 Matrix{Float64}:\n",
       "  -416.091  117.766\n",
       " -1470.12   416.091"
      ]
     },
     "metadata": {},
     "output_type": "display_data"
    },
    {
     "name": "stdout",
     "output_type": "stream",
     "text": [
      "sigma_1 = 1587.8897691523623\n",
      "X = "
     ]
    },
    {
     "data": {
      "text/plain": [
       "2×2 Matrix{Float64}:\n",
       " 0.271816  0.272465\n",
       " 0.962689  0.96319"
      ]
     },
     "metadata": {},
     "output_type": "display_data"
    },
    {
     "name": "stdout",
     "output_type": "stream",
     "text": [
      "A = "
     ]
    },
    {
     "data": {
      "text/plain": [
       "2×2 Matrix{Float64}:\n",
       " -1072.97   303.238\n",
       " -3796.59  1072.97"
      ]
     },
     "metadata": {},
     "output_type": "display_data"
    },
    {
     "name": "stdout",
     "output_type": "stream",
     "text": [
      "sigma_1 = 4099.831641500573\n",
      "X = "
     ]
    },
    {
     "data": {
      "text/plain": [
       "2×2 Matrix{Float64}:\n",
       " 0.271816  0.272249\n",
       " 0.962689  0.962768"
      ]
     },
     "metadata": {},
     "output_type": "display_data"
    },
    {
     "name": "stdout",
     "output_type": "stream",
     "text": [
      "A = "
     ]
    },
    {
     "data": {
      "text/plain": [
       "2×2 Matrix{Float64}:\n",
       " -1326.85   374.92\n",
       " -4695.74  1326.85"
      ]
     },
     "metadata": {},
     "output_type": "display_data"
    },
    {
     "name": "stdout",
     "output_type": "stream",
     "text": [
      "sigma_1 = 5070.662425744529\n",
      "X = "
     ]
    },
    {
     "data": {
      "text/plain": [
       "2×2 Matrix{Float64}:\n",
       " 0.271816  0.271995\n",
       " 0.962689  0.962751"
      ]
     },
     "metadata": {},
     "output_type": "display_data"
    },
    {
     "name": "stdout",
     "output_type": "stream",
     "text": [
      "A = "
     ]
    },
    {
     "data": {
      "text/plain": [
       "2×2 Matrix{Float64}:\n",
       "  -3378.07   954.086\n",
       " -11960.5   3378.07"
      ]
     },
     "metadata": {},
     "output_type": "display_data"
    },
    {
     "name": "stdout",
     "output_type": "stream",
     "text": [
      "sigma_1 = 12914.627678618048\n",
      "X = "
     ]
    },
    {
     "data": {
      "text/plain": [
       "2×2 Matrix{Float64}:\n",
       " 0.271816  0.271839\n",
       " 0.962689  0.962764"
      ]
     },
     "metadata": {},
     "output_type": "display_data"
    },
    {
     "name": "stdout",
     "output_type": "stream",
     "text": [
      "A = "
     ]
    },
    {
     "data": {
      "text/plain": [
       "2×2 Matrix{Float64}:\n",
       " -3.57333e5  1.00894e5\n",
       " -1.26556e6  3.57333e5"
      ]
     },
     "metadata": {},
     "output_type": "display_data"
    },
    {
     "name": "stdout",
     "output_type": "stream",
     "text": [
      "sigma_1 = 1.3664513227358805e6\n",
      "X = "
     ]
    },
    {
     "data": {
      "text/plain": [
       "2×2 Matrix{Float64}:\n",
       " 0.271816  0.271876\n",
       " 0.962689  0.962745"
      ]
     },
     "metadata": {},
     "output_type": "display_data"
    },
    {
     "name": "stdout",
     "output_type": "stream",
     "text": [
      "A = "
     ]
    },
    {
     "data": {
      "text/plain": [
       "2×2 Matrix{Float64}:\n",
       " -12439.9   3512.69\n",
       " -44054.6  12439.9"
      ]
     },
     "metadata": {},
     "output_type": "display_data"
    },
    {
     "name": "stdout",
     "output_type": "stream",
     "text": [
      "sigma_1 = 47567.24723614944\n",
      "X = "
     ]
    },
    {
     "data": {
      "text/plain": [
       "2×2 Matrix{Float64}:\n",
       " 0.271816  0.271833\n",
       " 0.962689  0.96269"
      ]
     },
     "metadata": {},
     "output_type": "display_data"
    },
    {
     "name": "stdout",
     "output_type": "stream",
     "text": [
      "A = "
     ]
    },
    {
     "data": {
      "text/plain": [
       "2×2 Matrix{Float64}:\n",
       " -33168.4         9365.41\n",
       "     -1.17468e5  33168.4"
      ]
     },
     "metadata": {},
     "output_type": "display_data"
    },
    {
     "name": "stdout",
     "output_type": "stream",
     "text": [
      "sigma_1 = 126833.85391527538\n",
      "X = "
     ]
    },
    {
     "data": {
      "text/plain": [
       "2×2 Matrix{Float64}:\n",
       " 0.271816  0.271829\n",
       " 0.962689  0.962694"
      ]
     },
     "metadata": {},
     "output_type": "display_data"
    },
    {
     "name": "stdout",
     "output_type": "stream",
     "text": [
      "A = "
     ]
    },
    {
     "data": {
      "text/plain": [
       "2×2 Matrix{Float64}:\n",
       " -49554.4        13992.0\n",
       "     -1.75503e5  49554.4"
      ]
     },
     "metadata": {},
     "output_type": "display_data"
    },
    {
     "name": "stdout",
     "output_type": "stream",
     "text": [
      "sigma_1 = 189494.8038398776\n",
      "X = "
     ]
    },
    {
     "data": {
      "text/plain": [
       "2×2 Matrix{Float64}:\n",
       " 0.271816  0.271819\n",
       " 0.962689  0.962689"
      ]
     },
     "metadata": {},
     "output_type": "display_data"
    },
    {
     "name": "stdout",
     "output_type": "stream",
     "text": [
      "A = "
     ]
    },
    {
     "data": {
      "text/plain": [
       "2×2 Matrix{Float64}:\n",
       " -2.72726e5  77004.7\n",
       " -9.65906e5      2.72726e5"
      ]
     },
     "metadata": {},
     "output_type": "display_data"
    },
    {
     "name": "stdout",
     "output_type": "stream",
     "text": [
      "sigma_1 = 1.042910665716362e6\n",
      "X = "
     ]
    },
    {
     "data": {
      "text/plain": [
       "2×2 Matrix{Float64}:\n",
       " 0.271816  0.27182\n",
       " 0.962689  0.962691"
      ]
     },
     "metadata": {},
     "output_type": "display_data"
    },
    {
     "name": "stdout",
     "output_type": "stream",
     "text": [
      "A = "
     ]
    },
    {
     "data": {
      "text/plain": [
       "2×2 Matrix{Float64}:\n",
       " -1.72836e5  48800.9\n",
       " -6.12129e5      1.72836e5"
      ]
     },
     "metadata": {},
     "output_type": "display_data"
    },
    {
     "name": "stdout",
     "output_type": "stream",
     "text": [
      "sigma_1 = 660930.0740073607\n",
      "X = "
     ]
    },
    {
     "data": {
      "text/plain": [
       "2×2 Matrix{Float64}:\n",
       " 0.271816  0.271817\n",
       " 0.962689  0.962689"
      ]
     },
     "metadata": {},
     "output_type": "display_data"
    },
    {
     "name": "stdout",
     "output_type": "stream",
     "text": [
      "A = "
     ]
    },
    {
     "data": {
      "text/plain": [
       "2×2 Matrix{Float64}:\n",
       " -3.70858e6  1.04712e6\n",
       " -1.31346e7  3.70858e6"
      ]
     },
     "metadata": {},
     "output_type": "display_data"
    },
    {
     "name": "stdout",
     "output_type": "stream",
     "text": [
      "sigma_1 = 1.4181760239069102e7\n",
      "X = "
     ]
    },
    {
     "data": {
      "text/plain": [
       "2×2 Matrix{Float64}:\n",
       " 0.271816  0.271817\n",
       " 0.962689  0.96269"
      ]
     },
     "metadata": {},
     "output_type": "display_data"
    },
    {
     "name": "stdout",
     "output_type": "stream",
     "text": [
      "A = "
     ]
    },
    {
     "data": {
      "text/plain": [
       "2×2 Matrix{Float64}:\n",
       " -8.88806e5  2.50956e5\n",
       " -3.14787e6  8.88806e5"
      ]
     },
     "metadata": {},
     "output_type": "display_data"
    },
    {
     "name": "stdout",
     "output_type": "stream",
     "text": [
      "sigma_1 = 3.3988261853903746e6\n",
      "X = "
     ]
    },
    {
     "data": {
      "text/plain": [
       "2×2 Matrix{Float64}:\n",
       " 0.271816  0.271817\n",
       " 0.962689  0.962689"
      ]
     },
     "metadata": {},
     "output_type": "display_data"
    },
    {
     "name": "stdout",
     "output_type": "stream",
     "text": [
      "A = "
     ]
    },
    {
     "data": {
      "text/plain": [
       "2×2 Matrix{Float64}:\n",
       " -1.2496e6   3.52826e5\n",
       " -4.42569e6  1.2496e6"
      ]
     },
     "metadata": {},
     "output_type": "display_data"
    },
    {
     "name": "stdout",
     "output_type": "stream",
     "text": [
      "sigma_1 = 4.778513825457558e6\n",
      "X = "
     ]
    },
    {
     "data": {
      "text/plain": [
       "2×2 Matrix{Float64}:\n",
       " 0.271816  0.271817\n",
       " 0.962689  0.962689"
      ]
     },
     "metadata": {},
     "output_type": "display_data"
    },
    {
     "name": "stdout",
     "output_type": "stream",
     "text": [
      "A = "
     ]
    },
    {
     "data": {
      "text/plain": [
       "2×2 Matrix{Float64}:\n",
       " -3.14158e6  8.8703e5\n",
       " -1.11265e7  3.14158e6"
      ]
     },
     "metadata": {},
     "output_type": "display_data"
    },
    {
     "name": "stdout",
     "output_type": "stream",
     "text": [
      "sigma_1 = 1.2013526303305365e7\n",
      "X = "
     ]
    },
    {
     "data": {
      "text/plain": [
       "2×2 Matrix{Float64}:\n",
       " 0.271816  0.271816\n",
       " 0.962689  0.962689"
      ]
     },
     "metadata": {},
     "output_type": "display_data"
    },
    {
     "name": "stdout",
     "output_type": "stream",
     "text": [
      "A = "
     ]
    },
    {
     "data": {
      "text/plain": [
       "2×2 Matrix{Float64}:\n",
       " -9.24248e7  2.60963e7\n",
       " -3.2734e8   9.24248e7"
      ]
     },
     "metadata": {},
     "output_type": "display_data"
    },
    {
     "name": "stdout",
     "output_type": "stream",
     "text": [
      "sigma_1 = 3.5343602521186733e8\n",
      "X = "
     ]
    },
    {
     "data": {
      "text/plain": [
       "2×2 Matrix{Float64}:\n",
       " 0.271816  0.271816\n",
       " 0.962689  0.962689"
      ]
     },
     "metadata": {},
     "output_type": "display_data"
    },
    {
     "name": "stdout",
     "output_type": "stream",
     "text": [
      "A = "
     ]
    },
    {
     "data": {
      "text/plain": [
       "2×2 Matrix{Float64}:\n",
       " -2.39796e8  6.77068e7\n",
       " -8.49284e8  2.39796e8"
      ]
     },
     "metadata": {},
     "output_type": "display_data"
    },
    {
     "name": "stdout",
     "output_type": "stream",
     "text": [
      "sigma_1 = 9.169910908551826e8\n",
      "X = "
     ]
    },
    {
     "data": {
      "text/plain": [
       "2×2 Matrix{Float64}:\n",
       " 0.271816  0.271816\n",
       " 0.962689  0.962689"
      ]
     },
     "metadata": {},
     "output_type": "display_data"
    },
    {
     "name": "stdout",
     "output_type": "stream",
     "text": [
      "A = "
     ]
    },
    {
     "data": {
      "text/plain": [
       "2×2 Matrix{Float64}:\n",
       " -4.75477e7  1.34252e7\n",
       " -1.68399e8  4.75477e7"
      ]
     },
     "metadata": {},
     "output_type": "display_data"
    },
    {
     "name": "stdout",
     "output_type": "stream",
     "text": [
      "sigma_1 = 1.8182431866049904e8\n",
      "X = "
     ]
    },
    {
     "data": {
      "text/plain": [
       "2×2 Matrix{Float64}:\n",
       " 0.271816  0.271816\n",
       " 0.962689  0.962689"
      ]
     },
     "metadata": {},
     "output_type": "display_data"
    },
    {
     "name": "stdout",
     "output_type": "stream",
     "text": [
      "A = "
     ]
    },
    {
     "data": {
      "text/plain": [
       "2×2 Matrix{Float64}:\n",
       " -5.67973e7  1.60368e7\n",
       " -2.01158e8  5.67973e7"
      ]
     },
     "metadata": {},
     "output_type": "display_data"
    },
    {
     "name": "stdout",
     "output_type": "stream",
     "text": [
      "sigma_1 = 2.1719502817352536e8\n",
      "X = "
     ]
    },
    {
     "data": {
      "text/plain": [
       "2×2 Matrix{Float64}:\n",
       " 0.271816  0.271816\n",
       " 0.962689  0.962689"
      ]
     },
     "metadata": {},
     "output_type": "display_data"
    },
    {
     "name": "stdout",
     "output_type": "stream",
     "text": [
      "A = "
     ]
    },
    {
     "data": {
      "text/plain": [
       "2×2 Matrix{Float64}:\n",
       " -3.12608e8  8.82652e7\n",
       " -1.10716e9  3.12608e8"
      ]
     },
     "metadata": {},
     "output_type": "display_data"
    },
    {
     "name": "stdout",
     "output_type": "stream",
     "text": [
      "sigma_1 = 1.1954246474777265e9\n",
      "X = "
     ]
    },
    {
     "data": {
      "text/plain": [
       "2×2 Matrix{Float64}:\n",
       " 0.271816  0.271816\n",
       " 0.962689  0.962689"
      ]
     },
     "metadata": {},
     "output_type": "display_data"
    },
    {
     "name": "stdout",
     "output_type": "stream",
     "text": [
      "A = "
     ]
    },
    {
     "data": {
      "text/plain": [
       "2×2 Matrix{Float64}:\n",
       " -2.09233e8  5.90771e7\n",
       " -7.41037e8  2.09233e8"
      ]
     },
     "metadata": {},
     "output_type": "display_data"
    },
    {
     "name": "stdout",
     "output_type": "stream",
     "text": [
      "sigma_1 = 8.001138090088948e8\n",
      "X = "
     ]
    },
    {
     "data": {
      "text/plain": [
       "2×2 Matrix{Float64}:\n",
       " 0.271816  0.271816\n",
       " 0.962689  0.962689"
      ]
     },
     "metadata": {},
     "output_type": "display_data"
    },
    {
     "name": "stdout",
     "output_type": "stream",
     "text": [
      "A = "
     ]
    },
    {
     "data": {
      "text/plain": [
       "2×2 Matrix{Float64}:\n",
       " -5.65879e8  1.59777e8\n",
       " -2.00417e9  5.65879e8"
      ]
     },
     "metadata": {},
     "output_type": "display_data"
    },
    {
     "name": "stdout",
     "output_type": "stream",
     "text": [
      "sigma_1 = 2.1639424826742525e9\n",
      "X = "
     ]
    },
    {
     "data": {
      "text/plain": [
       "2×2 Matrix{Float64}:\n",
       " 0.271816  0.271816\n",
       " 0.962689  0.962689"
      ]
     },
     "metadata": {},
     "output_type": "display_data"
    },
    {
     "name": "stdout",
     "output_type": "stream",
     "text": [
      "A = "
     ]
    },
    {
     "data": {
      "text/plain": [
       "2×2 Matrix{Float64}:\n",
       " -8.25301e8  2.33025e8\n",
       " -2.92296e9  8.25301e8"
      ]
     },
     "metadata": {},
     "output_type": "display_data"
    },
    {
     "name": "stdout",
     "output_type": "stream",
     "text": [
      "sigma_1 = 3.1559835127868624e9\n"
     ]
    }
   ],
   "source": [
    "k = 30\n",
    "for i = 1:k\n",
    "    X[:, 2] = v1 + rand(2, 1)/(2^i)\n",
    "    A = X * diagm([1, -1]) * inv(X)\n",
    "    print(\"X = \")\n",
    "    display(X)\n",
    "    print(\"A = \")\n",
    "    display(A)\n",
    "    println(\"sigma_1 = \", opnorm(A))\n",
    "end"
   ]
  },
  {
   "cell_type": "markdown",
   "id": "03ebf8da",
   "metadata": {},
   "source": [
    "If the first column $[Xe_1]_i \\sim \\mathcal{N}(0, 1), i = 1,2$  or $[Xe_1]_i \\sim \\mathcal{U}([0, 1]), i = 1,2$, after some experiments as $[Xe_2] \\to [Xe_1]$, $\\sigma_1$ appears to blow to +$\\infty$.\n",
    "This is somewhat expected, since the eigenvector basis matrix $X$ is becoming very ill conditioned, which strongly affects $A$ (that is expressed in terms of its inverse)."
   ]
  },
  {
   "cell_type": "code",
   "execution_count": null,
   "id": "06882b5c",
   "metadata": {},
   "outputs": [],
   "source": []
  }
 ],
 "metadata": {
  "@webio": {
   "lastCommId": "ef4dd016c6a54afd9c954f8b24178817",
   "lastKernelId": "e257a364-e486-4d62-b962-74c15016a676"
  },
  "kernelspec": {
   "display_name": "Julia 1.10.0",
   "language": "julia",
   "name": "julia-1.10"
  },
  "language_info": {
   "file_extension": ".jl",
   "mimetype": "application/julia",
   "name": "julia",
   "version": "1.10.0"
  }
 },
 "nbformat": 4,
 "nbformat_minor": 5
}
