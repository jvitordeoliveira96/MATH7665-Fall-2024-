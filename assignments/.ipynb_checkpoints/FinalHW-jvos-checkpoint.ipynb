{
 "cells": [
  {
   "cell_type": "code",
   "execution_count": 984,
   "id": "6fa5b7c0",
   "metadata": {},
   "outputs": [],
   "source": [
    "using LinearAlgebra\n",
    "using PlotlyJS"
   ]
  },
  {
   "cell_type": "code",
   "execution_count": 985,
   "id": "90fc72a5",
   "metadata": {},
   "outputs": [
    {
     "data": {
      "text/plain": [
       "bidiagonalize (generic function with 2 methods)"
      ]
     },
     "execution_count": 985,
     "metadata": {},
     "output_type": "execute_result"
    }
   ],
   "source": [
    "function householder(x)\n",
    "    \"\"\"Computes the Householder transformation for input vector x\n",
    "    \n",
    "    Returns \n",
    "    beta: float, the multiplier for future Householder reflection\n",
    "    v: vector, the householder reflector vector  \n",
    "    \"\"\"\n",
    "    sigma = dot(x[2:end],x[2:end])\n",
    "    v = copy(x)\n",
    "\n",
    "    if sigma == 0\n",
    "        beta = 0\n",
    "        return beta, v\n",
    "    end\n",
    "\n",
    "    sq = sqrt(x[1]^2 + sigma)\n",
    "    if x[1] > 0\n",
    "        v[1] += sq\n",
    "    else\n",
    "        v[1] -= sq\n",
    "    end\n",
    "\n",
    "    beta = 2.0 / (v[1]^2 + sigma)\n",
    "\n",
    "    return beta, v\n",
    "end\n",
    "\n",
    "\n",
    "function apply_householder_col!(B, H, cidx, m)\n",
    "    \"\"\"Apply Householder reflection from the left (B<- H * B)\n",
    "    \n",
    "    Returns (inplace) \n",
    "    B: input matrix\n",
    "    H: householder vectors v  \n",
    "    \"\"\"\n",
    "    beta, v = householder(B[cidx:m, cidx])\n",
    "    B[cidx:m, cidx:end] = B[cidx:m, cidx:end] - beta * v * (v' * B[cidx:m, cidx:end])\n",
    "    H[cidx:end, cidx] = v / norm(v)\n",
    "\n",
    "    return beta\n",
    "end\n",
    "\n",
    "function apply_householder_row!(B, H, ridx, n)\n",
    "    \"\"\"Apply Householder reflection from the right (B<- B * H)\n",
    "    \n",
    "    Returns (inplace) \n",
    "    B: input matrix\n",
    "    H: householder vectors v  \n",
    "    \"\"\"\n",
    "    beta, v = householder(B[ridx, ridx+1:n])\n",
    "    B[ridx:end, ridx+1:n] = B[ridx:end, ridx+1:n] - (B[ridx:end, ridx+1:n] * v) * (beta * v')\n",
    "    H[ridx, ridx+1:end] = v / norm(v)\n",
    "\n",
    "end\n",
    "\n",
    "function update_col_sim!(U, H, cidx, m)\n",
    "    \"\"\"Update column unitary transform (U<- H * U)\n",
    "    \n",
    "    Input:\n",
    "    U: Left Householder matrix (orthogonal)\n",
    "    H: householder vectors v\n",
    "    cidx: index of column where householder transform is applied\n",
    "    m: number of columns of original matrix\n",
    "    \n",
    "    Returns (inplace) \n",
    "    U: Left Householder matrix (orthogonal)\n",
    "    \"\"\"\n",
    "    v = H[cidx:end, cidx]\n",
    "    if cidx > 1\n",
    "        v = [zeros(cidx-1);v]\n",
    "    end\n",
    "    \n",
    "    \n",
    "    \n",
    "    U[:,:] = U - 2 * v * (v' * U)\n",
    "    \n",
    "    return U\n",
    "    \n",
    "end\n",
    "\n",
    "function update_row_sim!(V, H, ridx, n)\n",
    "    \"\"\"Update row unitary transform (V<- V * H)\n",
    "    \n",
    "    Input:\n",
    "    V: Right Householder matrix (orthogonal)\n",
    "    H: householder vectors v\n",
    "    ridx: index of row where householder transform is applied\n",
    "    n: number of rows of original matrix\n",
    "    \n",
    "    Returns (inplace) \n",
    "    V: Right Householder matrix (orthogonal) \n",
    "    \"\"\"\n",
    "    v = H[ridx, ridx+1:end]\n",
    "    v = [zeros(ridx);v]\n",
    "    \n",
    "    \n",
    "\n",
    "    V[:,:] = V - 2 * (V * v) * v'\n",
    "    \n",
    "    return V\n",
    "    \n",
    "end\n",
    "\n",
    "\n",
    "function bidiagonalize(A, return_orth = false)\n",
    "    \"\"\"Performs matrix bidiagonalization (for future singular value decomposition computation)\n",
    "    \n",
    "    Input:\n",
    "    A: Rectangular m x n matrix\n",
    "    \n",
    "    Returns (inplace) \n",
    "    B: bidiagonal matrix with same singular values as input matrix (A = U * B * V')\n",
    "    \"\"\"\n",
    "    m, n = size(A)\n",
    "    B = copy(A)\n",
    "    H = copy(A)  # v vectors in householder\n",
    "    \n",
    "    if return_orth\n",
    "        U = zeros(m, m) + I\n",
    "        V = zeros(n, n) + I\n",
    "    end\n",
    "    \n",
    "    for k = 1:min(m,n)\n",
    "        \n",
    "        # column\n",
    "        \n",
    "        apply_householder_col!(B, H, k, m)\n",
    "    \n",
    "        \n",
    "        if return_orth\n",
    "            update_col_sim!(U, H, k, m)\n",
    "        end\n",
    "        \n",
    "        \n",
    "        # row\n",
    "        if k < n\n",
    "            apply_householder_row!(B, H, k, n) \n",
    "            \n",
    "            if return_orth \n",
    "                update_row_sim!(V, H, k, n)\n",
    "            end\n",
    "        end\n",
    "        \n",
    "                \n",
    "    end\n",
    "    \n",
    "    if return_orth\n",
    "        V[:, end] = -V[:, end] \n",
    "        U[end, :] = -U[end, :]\n",
    "        return U', B, V\n",
    "    else\n",
    "        return B, H\n",
    "    end\n",
    "end\n",
    "\n"
   ]
  },
  {
   "cell_type": "code",
   "execution_count": 986,
   "id": "c38571cb",
   "metadata": {},
   "outputs": [
    {
     "data": {
      "text/plain": [
       "svd_num (generic function with 3 methods)"
      ]
     },
     "execution_count": 986,
     "metadata": {},
     "output_type": "execute_result"
    }
   ],
   "source": [
    "function givens_rotation(v)\n",
    "    \"\"\" Computers the 2x2 Givens Rotation matrix for a given 2d vector v.\n",
    "    \n",
    "    Input:\n",
    "    v: 2d vector\n",
    "    \n",
    "    Returns\n",
    "    G:  givens rotation matrix\n",
    "    \"\"\"\n",
    "    a, b = v[1], v[2]\n",
    "    if b == 0\n",
    "        c = 1\n",
    "        s = 0\n",
    "    else\n",
    "        if abs(b) > abs(a)\n",
    "            tau = -a/b\n",
    "            s = 1.0/sqrt(1.0+tau*tau)\n",
    "            c = s*tau\n",
    "        else\n",
    "            tau = -b/a\n",
    "            c = 1.0/sqrt(1.0+tau*tau)\n",
    "            s = c*tau\n",
    "        end\n",
    "    end\n",
    "    return [c -s;s c]\n",
    "end\n",
    "\n",
    "\n",
    "function svd_golub_reinsh!(B, U, V, maxiter, eps=1e-12)\n",
    "    \"\"\"Computes the Singular value decomposition of a bidiagonal matrix. Based on \n",
    "    https://www.cs.utexas.edu/~inderjit/public_papers/HLA_SVD.pdf\n",
    "    and\n",
    "    https://link.springer.com/article/10.1007/s11075-022-01459-9\n",
    "    \n",
    "    Returns  \n",
    "    U: Left singular vector matrix\n",
    "    S: Singular values matrix\n",
    "    Vt: Right singular vector matrix\n",
    "    \"\"\"\n",
    "    \n",
    "    function golub_kahan_step!(B, U, V, l, k)\n",
    "        # Considering B22 -> (l:k x l:k)\n",
    "        \n",
    "        # Step 1: compute appropriate shift\n",
    "        \n",
    "        if k > 2\n",
    "            a, b, d = B[k-1, k-1]^2 + B[k-2, k-1]^2, B[k-1, k-1] * B[k-1, k], B[k, k]^2 + B[k-1, k]^2\n",
    "            t, r = - a - d, a * d - b^2\n",
    "            s_1, s_2 = 0.5 * (-t + sqrt(t^2 -4 * r)), 0.5 * (-t - sqrt(t^2 -4 * r))\n",
    "            if abs(B[k, k]^2 + B[k-1, k]^2 - s_1) < abs(B[k, k]^2 + B[k-1, k]^2 - s_2)\n",
    "                s = s_1 \n",
    "            else\n",
    "                s = s_2 \n",
    "            end\n",
    "        else\n",
    "           s = B[2, 2]^2 + B[1, 2]^2 \n",
    "        end\n",
    "        \n",
    "        # Step 2: Computing Givens Rotations\n",
    "        alpha, beta = B[l, l]^2-s, B[l, l] * B[l, l + 1]\n",
    "        v = [alpha;beta]\n",
    "        for p = l:k-1\n",
    "            # Right rotation\n",
    "            G = givens_rotation(v)\n",
    "            B[:, p:p+1] = B[:, p:p+1] * G'\n",
    "            V[:, p:p+1] = V[:, p:p+1] * G'\n",
    "            \n",
    "            \n",
    "            # Left rotation\n",
    "            alpha, beta = B[p, p], B[p + 1, p] \n",
    "            v = [alpha; beta]\n",
    "            G = givens_rotation(v)\n",
    "            B[p:p+1, :] = G * B[p:p+1, :]\n",
    "            U[:, p:p+1] = U[:, p:p+1] * G'\n",
    "            \n",
    "            # Updating alpha, beta and v\n",
    "            if p < k -1 \n",
    "                alpha, beta = B[p, p+1], B[p, p+2]\n",
    "                v = [alpha;beta]\n",
    "            end\n",
    "        end\n",
    "    end\n",
    "    \n",
    "    m, n = size(B)\n",
    "    maxiter_ = maxiter * log2(n * m) \n",
    "    \n",
    "    for iters = 1:min(maxiter, maxiter_)\n",
    "        \n",
    "        # Step 1 of main loop\n",
    "        # Find l and k such that matrix can be blocked as B11, B22 and B33 (diag) \n",
    "        \n",
    "        k = n\n",
    "        for j = n:-1:2  \n",
    "            k = abs(B[j-1, j]) < eps * (abs(B[j, j]) + abs(B[j-1, j-1]))  ? j-1 : k\n",
    "        end\n",
    "\n",
    "        \n",
    "        if k == 1\n",
    "           # Diagonal matrix, convergence obtained\n",
    "           return U, B, V\n",
    "        end\n",
    "        \n",
    "        # Step 2 of main loop\n",
    "        # Performing Golub Kahan at matrix B22\n",
    "        if k == n \n",
    "            # B22 should be the full matrix \n",
    "            golub_kahan_step!(B, U, V, 1, n)\n",
    "    \n",
    "        else \n",
    "            # B33 (diagonal) found, have to check where B22 starts (l) and ends (k)\n",
    "            l = k\n",
    "            for j = k:-1:2\n",
    "                l = B[j-1, j] == 0 ? j-1 : l \n",
    "            end\n",
    "            \n",
    "            # If l is equal to k after previous scan, then l = 1 and there is no B11 matrix\n",
    "            l = (l == k) ? 1 : l \n",
    "            \n",
    "            golub_kahan_step!(B, U, V, l, k)\n",
    "        end\n",
    "    end\n",
    "end\n",
    "\n",
    "\n",
    "function svd_num(A, maxiter = 80, save_results = false)\n",
    "   \"\"\"Performs singular value decompositon of a rectangular m x n matrix A.\n",
    "    \n",
    "    Returns \n",
    "        U: Left singular vector matrix\n",
    "        S: Singular values matrix\n",
    "        Vt: Right singular vector matrix\n",
    "    \"\"\" \n",
    "    # Flag for transpose (case n > m)\n",
    "    m, n = size(A)\n",
    "    transpose_flag = false\n",
    "    \n",
    "    if n > m\n",
    "        transpose_flag = true\n",
    "    end\n",
    "    \n",
    "    # First main step: Find bidiagonalized matrix B\n",
    "    if transpose_flag\n",
    "        P_l, B, P_r = bidiagonalize(A', true);\n",
    "    else\n",
    "        P_l, B, P_r = bidiagonalize(A, true);\n",
    "    end\n",
    "    \n",
    "    # Second main step: perform svd_golub_reinsh algorithm iterations\n",
    "    if save_results\n",
    "        t = min(m, n)\n",
    "        results = zeros(2, t-1, maxiter)\n",
    "        \n",
    "        for k = 1:maxiter\n",
    "            for j = 2:t\n",
    "                results[:, j-1, k] = copy(B[j-1:j, j])\n",
    "            end\n",
    "            svd_golub_reinsh!(B, P_l, P_r, 1)\n",
    "        end\n",
    "        \n",
    "        B[isapprox.(B, 0.0, atol = 1e-12)] .= 0.0;\n",
    "        # Check if transpose\n",
    "        if transpose_flag\n",
    "            return P_r, B', P_l, results\n",
    "        else\n",
    "            return P_l, B, P_r, results\n",
    "        end\n",
    "        \n",
    "    else\n",
    "        svd_golub_reinsh!(B, P_l, P_r, maxiter)\n",
    "        B[isapprox.(B, 0.0, atol = 1e-12)] .= 0.0;\n",
    "        \n",
    "        # Check if transpose\n",
    "        if transpose_flag\n",
    "            return P_r, B', P_l\n",
    "        else\n",
    "            return P_l, B, P_r\n",
    "        end\n",
    "    end\n",
    "    \n",
    "    \n",
    "    \n",
    "    \n",
    "    \n",
    "end"
   ]
  },
  {
   "cell_type": "markdown",
   "id": "926b764c",
   "metadata": {},
   "source": [
    "## Initial tests"
   ]
  },
  {
   "cell_type": "code",
   "execution_count": 987,
   "id": "f80bcc4e",
   "metadata": {},
   "outputs": [
    {
     "data": {
      "text/plain": [
       "8×6 Matrix{Float64}:\n",
       " -1.22171    0.233606    1.31613    -0.137042    -1.35723    -0.855544\n",
       " -0.374584  -0.184286    0.850247    0.643659     1.58288    -0.501268\n",
       "  1.71843    0.0438497  -0.479739   -0.681081     0.864115    0.476992\n",
       "  1.17597   -1.04059     0.666625    0.954249    -0.0820237   0.83031\n",
       "  1.98986   -0.636702   -0.110931    1.06078     -1.19195     1.34735\n",
       "  1.82578   -0.628474   -0.21075     1.95819      0.0173218  -0.570325\n",
       "  0.185577   0.212865    0.0402281   0.00857565   0.353748   -0.314626\n",
       "  0.753572   0.182925   -0.0187285   0.581051    -1.08265     0.073575"
      ]
     },
     "execution_count": 987,
     "metadata": {},
     "output_type": "execute_result"
    }
   ],
   "source": [
    "# Example usage 1:\n",
    "A = randn(8, 6)"
   ]
  },
  {
   "cell_type": "code",
   "execution_count": 988,
   "id": "5821ce87",
   "metadata": {},
   "outputs": [
    {
     "data": {
      "text/plain": [
       "8×6 Matrix{Float64}:\n",
       " -1.22171    0.233606    1.31613    -0.137042    -1.35723    -0.855544\n",
       " -0.374584  -0.184286    0.850247    0.643659     1.58288    -0.501268\n",
       "  1.71843    0.0438497  -0.479739   -0.681081     0.864115    0.476992\n",
       "  1.17597   -1.04059     0.666625    0.954249    -0.0820237   0.83031\n",
       "  1.98986   -0.636702   -0.110931    1.06078     -1.19195     1.34735\n",
       "  1.82578   -0.628474   -0.21075     1.95819      0.0173218  -0.570325\n",
       "  0.185577   0.212865    0.0402281   0.00857565   0.353748   -0.314626\n",
       "  0.753572   0.182925   -0.0187285   0.581051    -1.08265     0.073575"
      ]
     },
     "execution_count": 988,
     "metadata": {},
     "output_type": "execute_result"
    }
   ],
   "source": [
    "A"
   ]
  },
  {
   "cell_type": "code",
   "execution_count": 989,
   "id": "ad91435d",
   "metadata": {},
   "outputs": [],
   "source": [
    "P_l, B, P_r = bidiagonalize(A, true);"
   ]
  },
  {
   "cell_type": "code",
   "execution_count": 990,
   "id": "77b9c26f",
   "metadata": {},
   "outputs": [
    {
     "data": {
      "text/plain": [
       "8×6 Matrix{Float64}:\n",
       "  3.72345       2.36954      0.0          …   0.0       0.0\n",
       "  5.55112e-17  -1.55429      1.42162          0.0       5.55112e-17\n",
       " -4.44089e-16   2.22045e-16  2.24465          0.0       0.0\n",
       " -2.22045e-16  -1.11022e-16  2.22045e-16      1.0651    0.0\n",
       " -4.44089e-16  -1.11022e-16  2.22045e-16     -1.85253  -0.314941\n",
       " -2.22045e-16  -2.77556e-17  4.44089e-16  …   0.0       0.435647\n",
       " -5.55112e-17   1.66533e-16  1.11022e-16      0.0      -2.77556e-17\n",
       " -1.11022e-16   2.08167e-17  2.22045e-16      0.0       0.0"
      ]
     },
     "execution_count": 990,
     "metadata": {},
     "output_type": "execute_result"
    }
   ],
   "source": [
    "B"
   ]
  },
  {
   "cell_type": "code",
   "execution_count": 991,
   "id": "be11de7a",
   "metadata": {},
   "outputs": [
    {
     "name": "stdout",
     "output_type": "stream",
     "text": [
      "3.5752650839881994e-15"
     ]
    }
   ],
   "source": [
    "show(stdout, \"text/plain\", opnorm(P_l * B * P_r' - A, 1))"
   ]
  },
  {
   "cell_type": "code",
   "execution_count": 992,
   "id": "70eb8121",
   "metadata": {},
   "outputs": [],
   "source": [
    "U, S, V = svd_num(A);"
   ]
  },
  {
   "cell_type": "code",
   "execution_count": 993,
   "id": "cdc346e0",
   "metadata": {},
   "outputs": [
    {
     "name": "stdout",
     "output_type": "stream",
     "text": [
      "8×8 adjoint(::Matrix{Float64}) with eltype Float64:\n",
      " -0.297407    -0.644204    0.212823    0.0637331  -0.60653    -0.161701   -0.0230215   0.229431\n",
      " -0.0845831    0.331811    0.673435    0.291116   -0.108352    0.511174   -0.206617    0.169571\n",
      "  0.258234     0.502981   -0.329413   -0.018465   -0.718221   -0.0969591  -0.203197    0.0702922\n",
      "  0.396692    -0.083899    0.217689    0.638727   -0.0668031  -0.33453     0.107497   -0.502302\n",
      "  0.607447    -0.300375   -0.225977    0.250003    0.0782908   0.337122    0.121619    0.540966\n",
      "  0.516655    -0.0131319   0.529095   -0.577674    0.0151884  -0.324292   -0.0420845   0.109903\n",
      " -0.00741236   0.11838     0.0904436  -0.162746   -0.257434    0.247589    0.897945   -0.131864\n",
      "  0.210633    -0.332359   -0.0781197  -0.283164   -0.165666    0.557787   -0.284724   -0.58245"
     ]
    }
   ],
   "source": [
    "show(stdout, \"text/plain\", U)"
   ]
  },
  {
   "cell_type": "code",
   "execution_count": 994,
   "id": "5e896b14",
   "metadata": {},
   "outputs": [
    {
     "name": "stdout",
     "output_type": "stream",
     "text": [
      "8×6 Matrix{Float64}:\n",
      " 4.51316   0.0       0.0           0.0       0.0      0.0\n",
      " 0.0      -2.86496  -2.90233e-12   0.0       0.0      0.0\n",
      " 0.0       0.0       2.46876       0.0       0.0      0.0\n",
      " 0.0       0.0       0.0          -1.51795   0.0      0.0\n",
      " 0.0       0.0       0.0           0.0      -1.00833  0.0\n",
      " 0.0       0.0       0.0           0.0       0.0      0.426657\n",
      " 0.0       0.0       0.0           0.0       0.0      0.0\n",
      " 0.0       0.0       0.0           0.0       0.0      0.0"
     ]
    }
   ],
   "source": [
    "show(stdout, \"text/plain\", S)"
   ]
  },
  {
   "cell_type": "code",
   "execution_count": 995,
   "id": "e5caf66a",
   "metadata": {},
   "outputs": [
    {
     "name": "stdout",
     "output_type": "stream",
     "text": [
      "6×6 adjoint(::Matrix{Float64}) with eltype Float64:\n",
      "  0.800917   -0.250351   -0.111517   0.43592   -0.10755     0.286055\n",
      " -0.201834   -0.0215103   0.284781   0.2294    -0.907717   -0.0335622\n",
      " -0.140991   -0.202141    0.435238   0.643286   0.352282   -0.460335\n",
      "  0.17678     0.386567   -0.565777   0.152309  -0.162688   -0.670482\n",
      "  0.515973    0.226311    0.604472  -0.449377  -0.0315193  -0.337987\n",
      " -0.0209135   0.833877    0.177602   0.344084   0.113666    0.375974"
     ]
    }
   ],
   "source": [
    "show(stdout, \"text/plain\", V')"
   ]
  },
  {
   "cell_type": "code",
   "execution_count": 996,
   "id": "3ee210f5",
   "metadata": {},
   "outputs": [
    {
     "name": "stdout",
     "output_type": "stream",
     "text": [
      "1.4098481629358565e-15"
     ]
    }
   ],
   "source": [
    "show(stdout, \"text/plain\", opnorm(U * S * V' - A, 1)/opnorm(A, 1))"
   ]
  },
  {
   "cell_type": "code",
   "execution_count": 997,
   "id": "344049e1",
   "metadata": {},
   "outputs": [
    {
     "name": "stdout",
     "output_type": "stream",
     "text": [
      "2.119969625361317e-15"
     ]
    }
   ],
   "source": [
    "show(stdout, \"text/plain\", opnorm(U * U' - I, 1))"
   ]
  },
  {
   "cell_type": "code",
   "execution_count": 998,
   "id": "e35404a6",
   "metadata": {},
   "outputs": [
    {
     "name": "stdout",
     "output_type": "stream",
     "text": [
      "2.031065067959966e-15"
     ]
    }
   ],
   "source": [
    "show(stdout, \"text/plain\", opnorm(V * V' - I, 1))"
   ]
  },
  {
   "cell_type": "code",
   "execution_count": null,
   "id": "447d5638",
   "metadata": {},
   "outputs": [],
   "source": []
  },
  {
   "cell_type": "code",
   "execution_count": 999,
   "id": "6392b9b3",
   "metadata": {},
   "outputs": [
    {
     "data": {
      "text/plain": [
       "9×7 Matrix{Float64}:\n",
       "  1.38094   -0.368812  -0.340407   …   0.451576   1.74632     0.808075\n",
       " -1.81207    1.3306    -0.670393      -0.482116  -0.961233    0.169656\n",
       " -0.293423   0.879646  -0.966709      -0.454261   0.0892117  -0.0306507\n",
       " -2.64274   -0.74185   -0.926277       0.852429  -0.675763    0.800132\n",
       " -2.30382   -0.243845  -0.868822      -1.39812    0.155706    0.0887309\n",
       "  0.466675   0.522945   0.0185426  …   2.17915    0.505091   -0.244521\n",
       "  1.80123    0.568044  -0.36094       -0.971073   0.517981   -0.38294\n",
       "  0.225     -0.120363  -0.2793         0.411145   1.15998     0.46907\n",
       "  0.777079  -0.74897   -0.65994        0.182945  -1.07299    -3.19768"
      ]
     },
     "execution_count": 999,
     "metadata": {},
     "output_type": "execute_result"
    }
   ],
   "source": [
    "# Example usage 2:\n",
    "A = randn(9, 7)"
   ]
  },
  {
   "cell_type": "code",
   "execution_count": 1000,
   "id": "260e879f",
   "metadata": {},
   "outputs": [],
   "source": [
    "U, S, V = svd_num(A);"
   ]
  },
  {
   "cell_type": "code",
   "execution_count": 1001,
   "id": "b607efa2",
   "metadata": {},
   "outputs": [
    {
     "name": "stdout",
     "output_type": "stream",
     "text": [
      "9×9 adjoint(::Matrix{Float64}) with eltype Float64:\n",
      " -0.421705   -0.374599   -0.0672983  -0.0102742  -0.524783   -0.411663    0.136581  -0.436328     0.15266\n",
      "  0.133308   -0.191121    0.735626   -0.240872    0.26986    -0.205612    0.137278   0.00116344   0.461073\n",
      " -0.0963914  -0.139302    0.451922   -0.287055   -0.151145   -0.0662597  -0.296127   0.0376553   -0.753874\n",
      "  0.562527   -0.155104    0.0549484   0.454208   -0.277434   -0.300151   -0.517894   0.0618876    0.105252\n",
      "  0.483949   -0.0293591   0.0620951  -0.315575   -0.510065    0.538894    0.207479  -0.253104     0.0616902\n",
      " -0.338803   -0.200847    0.326439    0.548755    0.0590302   0.589284   -0.179173  -0.224505     0.0627092\n",
      " -0.266742    0.133083   -0.112183   -0.460765   -0.0872938   0.155305   -0.701593   0.0503822    0.399671\n",
      " -0.181766   -0.28015     0.0402178   0.0471726  -0.369673    0.128382    0.17819    0.828511     0.115376\n",
      " -0.15963     0.80143     0.34993     0.194732   -0.37952    -0.124546    0.086367   0.030569     0.0625818"
     ]
    }
   ],
   "source": [
    "show(stdout, \"text/plain\", U)"
   ]
  },
  {
   "cell_type": "code",
   "execution_count": 1002,
   "id": "e3bb4ce5",
   "metadata": {},
   "outputs": [
    {
     "name": "stdout",
     "output_type": "stream",
     "text": [
      "9×7 Matrix{Float64}:\n",
      " -5.86502  0.0       0.0          0.0       0.0      0.0        0.0\n",
      "  0.0      3.94279   2.97959e-12  0.0       0.0      0.0        0.0\n",
      "  0.0      0.0      -3.48044      0.0       0.0      0.0        0.0\n",
      "  0.0      0.0       0.0          3.00258   0.0      0.0        0.0\n",
      "  0.0      0.0       0.0          0.0      -2.03745  0.0        0.0\n",
      "  0.0      0.0       0.0          0.0       0.0      0.710442   0.0\n",
      "  0.0      0.0       0.0          0.0       0.0      0.0       -0.882476\n",
      "  0.0      0.0       0.0          0.0       0.0      0.0        0.0\n",
      "  0.0      0.0       0.0          0.0       0.0      0.0        0.0"
     ]
    }
   ],
   "source": [
    "show(stdout, \"text/plain\", S)"
   ]
  },
  {
   "cell_type": "code",
   "execution_count": 1003,
   "id": "45fddd81",
   "metadata": {},
   "outputs": [
    {
     "name": "stdout",
     "output_type": "stream",
     "text": [
      "7×7 adjoint(::Matrix{Float64}) with eltype Float64:\n",
      "  0.716229   0.0808968   0.0934434  -0.597792    0.169007    0.260325   -0.134358\n",
      "  0.26711   -0.18069     0.0144757   0.254966   -0.162418   -0.405816   -0.799825\n",
      "  0.464185  -0.340568    0.346966    0.605103   -0.07773     0.297039    0.296203\n",
      " -0.126134  -0.318232    0.110148    0.0622537   0.922057   -0.0945229  -0.0876727\n",
      " -0.11345   -0.520202   -0.603838   -0.0391748  -0.0835354   0.548851   -0.205298\n",
      " -0.194105   0.542517    0.215435    0.266692    0.137036    0.591489   -0.426408\n",
      "  0.365709   0.422627   -0.66896     0.367359    0.251134   -0.138854    0.151109"
     ]
    }
   ],
   "source": [
    "show(stdout, \"text/plain\", V')"
   ]
  },
  {
   "cell_type": "code",
   "execution_count": 1004,
   "id": "05b103f4",
   "metadata": {},
   "outputs": [
    {
     "name": "stdout",
     "output_type": "stream",
     "text": [
      "8.857680597909574e-14"
     ]
    }
   ],
   "source": [
    "show(stdout, \"text/plain\", opnorm(U * S * V' - A, 1)/opnorm(A, 1))"
   ]
  },
  {
   "cell_type": "code",
   "execution_count": 1005,
   "id": "6a5a8c65",
   "metadata": {},
   "outputs": [
    {
     "name": "stdout",
     "output_type": "stream",
     "text": [
      "2.2856682086432482e-15"
     ]
    }
   ],
   "source": [
    "show(stdout, \"text/plain\", opnorm(U * U' - I, 1))"
   ]
  },
  {
   "cell_type": "code",
   "execution_count": 1006,
   "id": "792fa114",
   "metadata": {},
   "outputs": [
    {
     "name": "stdout",
     "output_type": "stream",
     "text": [
      "1.3499413199454106e-15"
     ]
    }
   ],
   "source": [
    "show(stdout, \"text/plain\", opnorm(V * V' - I, 1))"
   ]
  },
  {
   "cell_type": "code",
   "execution_count": null,
   "id": "3890ec62",
   "metadata": {},
   "outputs": [],
   "source": []
  },
  {
   "cell_type": "code",
   "execution_count": 1007,
   "id": "e3666b7b",
   "metadata": {},
   "outputs": [
    {
     "data": {
      "text/plain": [
       "7×7 Matrix{Float64}:\n",
       " -2.12984    0.481909   4.10877   …  -1.88848   -0.567348   0.146\n",
       "  0.481909  -0.881156   0.706425     -0.695603  -0.196634   0.919064\n",
       "  4.10877    0.706425   2.74779      -1.56039   -1.04075   -0.953511\n",
       " -2.80514   -0.937981  -1.66809       0.484343   2.36318    0.0498807\n",
       " -1.88848   -0.695603  -1.56039      -0.37572    1.19283    0.106419\n",
       " -0.567348  -0.196634  -1.04075   …   1.19283   -1.82667    0.528821\n",
       "  0.146      0.919064  -0.953511      0.106419   0.528821  -0.111033"
      ]
     },
     "execution_count": 1007,
     "metadata": {},
     "output_type": "execute_result"
    }
   ],
   "source": [
    "# Example usage 3:\n",
    "A = randn(7, 7)\n",
    "A = A + A'"
   ]
  },
  {
   "cell_type": "code",
   "execution_count": 1008,
   "id": "965e0646",
   "metadata": {},
   "outputs": [],
   "source": [
    "U, S, V = svd_num(A);"
   ]
  },
  {
   "cell_type": "code",
   "execution_count": 1009,
   "id": "0a8bfa1d",
   "metadata": {},
   "outputs": [
    {
     "name": "stdout",
     "output_type": "stream",
     "text": [
      "7×7 adjoint(::Matrix{Float64}) with eltype Float64:\n",
      "  0.441843   -0.81578    -0.27879    -0.110756    0.094577    0.180332    0.0884472\n",
      "  0.139866   -0.074329    0.0127331  -0.491252   -0.0779932  -0.835034   -0.173371\n",
      "  0.613895    0.359121    0.232223   -0.0764826   0.368015   -0.0283457   0.546031\n",
      " -0.518876   -0.282444    0.260603   -0.257498   -0.127795   -0.0410007   0.70623\n",
      " -0.274956   -0.241316    0.260209    0.248623    0.815468   -0.208071   -0.16841\n",
      " -0.242958    0.233553   -0.825874   -0.200443    0.346616   -0.0316036   0.207457\n",
      " -0.0669549   0.0863452   0.224713   -0.756478    0.219262    0.472675   -0.306282"
     ]
    }
   ],
   "source": [
    "show(stdout, \"text/plain\", U)"
   ]
  },
  {
   "cell_type": "code",
   "execution_count": 1010,
   "id": "0b215648",
   "metadata": {},
   "outputs": [
    {
     "name": "stdout",
     "output_type": "stream",
     "text": [
      "7×7 Matrix{Float64}:\n",
      " 8.49065  2.02175e-12   0.0      0.0       0.0        0.0           0.0\n",
      " 0.0      5.27756       0.0      0.0       0.0        0.0           0.0\n",
      " 0.0      0.0          -2.98793  0.0       0.0        0.0           0.0\n",
      " 0.0      0.0           0.0      0.532897  0.0        0.0           0.0\n",
      " 0.0      0.0           0.0      0.0       0.772682   1.07256e-12   0.0\n",
      " 0.0      0.0           0.0      0.0       0.0       -1.70831       0.0\n",
      " 0.0      0.0           0.0      0.0       0.0        0.0          -1.65224"
     ]
    }
   ],
   "source": [
    "show(stdout, \"text/plain\", S)"
   ]
  },
  {
   "cell_type": "code",
   "execution_count": 1011,
   "id": "593fd832",
   "metadata": {},
   "outputs": [
    {
     "name": "stdout",
     "output_type": "stream",
     "text": [
      "7×7 adjoint(::Matrix{Float64}) with eltype Float64:\n",
      "  0.441843    0.139866    0.613895   -0.518876   -0.274956  -0.242958   -0.0669549\n",
      "  0.81578     0.074329   -0.359121    0.282444    0.241316  -0.233553   -0.0863452\n",
      " -0.27879     0.0127331   0.232223    0.260603    0.260209  -0.825874    0.224713\n",
      " -0.110756   -0.491252   -0.0764826  -0.257498    0.248623  -0.200443   -0.756478\n",
      " -0.094577    0.0779932  -0.368015    0.127795   -0.815468  -0.346616   -0.219262\n",
      "  0.180332   -0.835034   -0.0283457  -0.0410007  -0.208071  -0.0316036   0.472675\n",
      " -0.0884472   0.173371   -0.546031   -0.70623     0.16841   -0.207457    0.306282"
     ]
    }
   ],
   "source": [
    "show(stdout, \"text/plain\", V')"
   ]
  },
  {
   "cell_type": "code",
   "execution_count": 1012,
   "id": "8898dd3c",
   "metadata": {},
   "outputs": [
    {
     "name": "stdout",
     "output_type": "stream",
     "text": [
      "8.988947674057197e-14"
     ]
    }
   ],
   "source": [
    "show(stdout, \"text/plain\", opnorm(U * S * V' - A, 1)/opnorm(A, 1))"
   ]
  },
  {
   "cell_type": "code",
   "execution_count": 1013,
   "id": "a4360cca",
   "metadata": {},
   "outputs": [
    {
     "name": "stdout",
     "output_type": "stream",
     "text": [
      "3.2087602712912088e-15"
     ]
    }
   ],
   "source": [
    "show(stdout, \"text/plain\", opnorm(U * U' - I, 1))"
   ]
  },
  {
   "cell_type": "code",
   "execution_count": 1014,
   "id": "d1ecd7aa",
   "metadata": {},
   "outputs": [
    {
     "name": "stdout",
     "output_type": "stream",
     "text": [
      "1.895512949811143e-15"
     ]
    }
   ],
   "source": [
    "show(stdout, \"text/plain\", opnorm(V * V' - I, 1))"
   ]
  },
  {
   "cell_type": "code",
   "execution_count": null,
   "id": "cfe630ad",
   "metadata": {},
   "outputs": [],
   "source": []
  },
  {
   "cell_type": "code",
   "execution_count": null,
   "id": "a2e6a3dd",
   "metadata": {},
   "outputs": [],
   "source": []
  },
  {
   "cell_type": "markdown",
   "id": "bbb5671b",
   "metadata": {},
   "source": [
    "## Cubic convergence depiction"
   ]
  },
  {
   "cell_type": "markdown",
   "id": "1c280c17",
   "metadata": {},
   "source": [
    "### Square 7 x 7"
   ]
  },
  {
   "cell_type": "code",
   "execution_count": 1015,
   "id": "a1136bbc",
   "metadata": {},
   "outputs": [
    {
     "data": {
      "text/plain": [
       "7×7 Matrix{Float64}:\n",
       " -0.580772   0.147533   -0.106461    …  -1.3489    -0.598577  -0.840475\n",
       "  0.152986   0.137215    0.497523       -1.33759   -0.33129   -0.0204833\n",
       "  2.03717    2.11836     1.10054        -0.276066  -1.17295   -0.481577\n",
       " -0.256688  -0.270827   -2.08137         1.14638    1.2368    -0.328911\n",
       " -0.182723  -0.535633   -4.38952e-5     -0.818669   1.33274   -1.90949\n",
       " -0.396727  -0.660086   -0.0277177   …  -0.342824   0.421169  -0.537468\n",
       " -0.930788   0.0438853   1.04414        -0.716094  -0.404759   0.13166"
      ]
     },
     "execution_count": 1015,
     "metadata": {},
     "output_type": "execute_result"
    }
   ],
   "source": [
    "A = randn(7, 7)"
   ]
  },
  {
   "cell_type": "code",
   "execution_count": 1016,
   "id": "a41fc28b",
   "metadata": {},
   "outputs": [],
   "source": [
    "U, S, V, results = svd_num(A, 20, true);"
   ]
  },
  {
   "cell_type": "code",
   "execution_count": 1017,
   "id": "f0501f22",
   "metadata": {},
   "outputs": [
    {
     "name": "stdout",
     "output_type": "stream",
     "text": [
      "1.929529530994163e-14"
     ]
    }
   ],
   "source": [
    "show(stdout, \"text/plain\", opnorm(U * S * V' - A, 1)/opnorm(A, 1))"
   ]
  },
  {
   "cell_type": "code",
   "execution_count": 1018,
   "id": "7dc19f63",
   "metadata": {},
   "outputs": [
    {
     "data": {
      "application/vnd.plotly.v1+json": {
       "config": {
        "editable": false,
        "responsive": true,
        "scrollZoom": true,
        "showLink": false,
        "staticPlot": false
       },
       "data": [
        {
         "line": {
          "shape": "linear"
         },
         "marker": {
          "color": 1
         },
         "mode": "lines+markers",
         "name": "σ2",
         "type": "scatter",
         "x": [
          1,
          2,
          3,
          4,
          5,
          6,
          7,
          8,
          9,
          10,
          11,
          12,
          13,
          14,
          15,
          16,
          17,
          18,
          19,
          20
         ],
         "y": [
          2.6362429515096313,
          1.2945863011256755,
          0.5877357317567863,
          0.26134204942897094,
          0.12424246331101313,
          0.0614003430991926,
          0.02902946585088591,
          0.01385075059003409,
          0.006383398809504911,
          0.001823768592711045,
          0.0005213774416499906,
          3.130059222908625e-11,
          1.974540084909195e-20,
          1.974540084909195e-20,
          1.974540084909195e-20,
          1.974540084909195e-20,
          1.974540084909195e-20,
          1.974540084909195e-20,
          1.974540084909195e-20,
          1.974540084909195e-20
         ]
        },
        {
         "line": {
          "shape": "linear"
         },
         "marker": {
          "color": 2
         },
         "mode": "lines+markers",
         "name": "σ3",
         "type": "scatter",
         "x": [
          1,
          2,
          3,
          4,
          5,
          6,
          7,
          8,
          9,
          10,
          11,
          12,
          13,
          14,
          15,
          16,
          17,
          18,
          19,
          20
         ],
         "y": [
          2.47498520613483,
          0.7726883454836286,
          0.6612779629580472,
          0.5263476652190625,
          0.36675466820267544,
          0.23761505700939947,
          0.13734396590229006,
          0.07817944417879948,
          0.04177526843979134,
          8.256026337350384e-10,
          8.114161665797227e-18,
          8.114161541334257e-18,
          8.114161541334272e-18,
          8.114161541334272e-18,
          8.114161541334272e-18,
          8.114161541334272e-18,
          8.114161541334272e-18,
          8.114161541334272e-18,
          8.114161541334272e-18,
          8.114161541334272e-18
         ]
        },
        {
         "line": {
          "shape": "linear"
         },
         "marker": {
          "color": 3
         },
         "mode": "lines+markers",
         "name": "σ4",
         "type": "scatter",
         "x": [
          1,
          2,
          3,
          4,
          5,
          6,
          7,
          8,
          9,
          10,
          11,
          12,
          13,
          14,
          15,
          16,
          17,
          18,
          19,
          20
         ],
         "y": [
          1.7932691458359176,
          1.0788834040397552,
          0.17617180920488668,
          0.031494510953795074,
          0.007217128807401266,
          0.0018355790742769235,
          0.0002035078881998076,
          2.4625455462623006e-05,
          2.249647852545609e-17,
          2.2493680848460668e-17,
          2.2493680848652174e-17,
          2.2493680848652174e-17,
          2.2493680848652174e-17,
          2.2493680848652174e-17,
          2.2493680848652174e-17,
          2.2493680848652174e-17,
          2.2493680848652174e-17,
          2.2493680848652174e-17,
          2.2493680848652174e-17,
          2.2493680848652174e-17
         ]
        },
        {
         "line": {
          "shape": "linear"
         },
         "marker": {
          "color": 4
         },
         "mode": "lines+markers",
         "name": "σ5",
         "type": "scatter",
         "x": [
          1,
          2,
          3,
          4,
          5,
          6,
          7,
          8,
          9,
          10,
          11,
          12,
          13,
          14,
          15,
          16,
          17,
          18,
          19,
          20
         ],
         "y": [
          1.4418810186055357,
          0.3411908483796043,
          0.23297597350475652,
          0.24266014269135225,
          0.21256268666079928,
          0.16262119711163645,
          2.002040083966809e-07,
          8.744747152395001e-14,
          8.744747154407976e-14,
          8.744747154407976e-14,
          8.744747154407976e-14,
          8.744747154407976e-14,
          8.744747154407976e-14,
          8.744747154407976e-14,
          8.744747154407976e-14,
          8.744747154407976e-14,
          8.744747154407976e-14,
          8.744747154407976e-14,
          8.744747154407976e-14,
          8.744747154407976e-14
         ]
        },
        {
         "line": {
          "shape": "linear"
         },
         "marker": {
          "color": 5
         },
         "mode": "lines+markers",
         "name": "σ6",
         "type": "scatter",
         "x": [
          1,
          2,
          3,
          4,
          5,
          6,
          7,
          8,
          9,
          10,
          11,
          12,
          13,
          14,
          15,
          16,
          17,
          18,
          19,
          20
         ],
         "y": [
          0.4188924693343645,
          0.9949936779676674,
          0.20385854631717482,
          0.023595371929496144,
          4.834683902714032e-07,
          2.7843617767175072e-18,
          2.6323105207691643e-18,
          2.6323108550205585e-18,
          2.6323108550205585e-18,
          2.6323108550205585e-18,
          2.6323108550205585e-18,
          2.6323108550205585e-18,
          2.6323108550205585e-18,
          2.6323108550205585e-18,
          2.6323108550205585e-18,
          2.6323108550205585e-18,
          2.6323108550205585e-18,
          2.6323108550205585e-18,
          2.6323108550205585e-18,
          2.6323108550205585e-18
         ]
        },
        {
         "line": {
          "shape": "linear"
         },
         "marker": {
          "color": 6
         },
         "mode": "lines+markers",
         "name": "σ7",
         "type": "scatter",
         "x": [
          1,
          2,
          3,
          4,
          5,
          6,
          7,
          8,
          9,
          10,
          11,
          12,
          13,
          14,
          15,
          16,
          17,
          18,
          19,
          20
         ],
         "y": [
          0.18823017604453654,
          0.0002986991222801175,
          8.098085337848875e-11,
          1.336294754199589e-16,
          1.3360772848877764e-16,
          1.336077293315432e-16,
          1.336077293315432e-16,
          1.336077293315432e-16,
          1.336077293315432e-16,
          1.336077293315432e-16,
          1.336077293315432e-16,
          1.336077293315432e-16,
          1.336077293315432e-16,
          1.336077293315432e-16,
          1.336077293315432e-16,
          1.336077293315432e-16,
          1.336077293315432e-16,
          1.336077293315432e-16,
          1.336077293315432e-16,
          1.336077293315432e-16
         ]
        }
       ],
       "frames": [],
       "layout": {
        "margin": {
         "b": 50,
         "l": 50,
         "r": 50,
         "t": 60
        },
        "showlegend": true,
        "template": {
         "data": {
          "bar": [
           {
            "error_x": {
             "color": "#2a3f5f"
            },
            "error_y": {
             "color": "#2a3f5f"
            },
            "marker": {
             "line": {
              "color": "#E5ECF6",
              "width": 0.5
             }
            },
            "type": "bar"
           }
          ],
          "barpolar": [
           {
            "marker": {
             "line": {
              "color": "#E5ECF6",
              "width": 0.5
             }
            },
            "type": "barpolar"
           }
          ],
          "carpet": [
           {
            "aaxis": {
             "endlinecolor": "#2a3f5f",
             "gridcolor": "white",
             "linecolor": "white",
             "minorgridcolor": "white",
             "startlinecolor": "#2a3f5f"
            },
            "baxis": {
             "endlinecolor": "#2a3f5f",
             "gridcolor": "white",
             "linecolor": "white",
             "minorgridcolor": "white",
             "startlinecolor": "#2a3f5f"
            },
            "type": "carpet"
           }
          ],
          "choropleth": [
           {
            "colorbar": {
             "outlinewidth": 0,
             "ticks": ""
            },
            "type": "choropleth"
           }
          ],
          "contour": [
           {
            "colorbar": {
             "outlinewidth": 0,
             "ticks": ""
            },
            "colorscale": [
             [
              0,
              "#0d0887"
             ],
             [
              0.1111111111111111,
              "#46039f"
             ],
             [
              0.2222222222222222,
              "#7201a8"
             ],
             [
              0.3333333333333333,
              "#9c179e"
             ],
             [
              0.4444444444444444,
              "#bd3786"
             ],
             [
              0.5555555555555556,
              "#d8576b"
             ],
             [
              0.6666666666666666,
              "#ed7953"
             ],
             [
              0.7777777777777778,
              "#fb9f3a"
             ],
             [
              0.8888888888888888,
              "#fdca26"
             ],
             [
              1,
              "#f0f921"
             ]
            ],
            "type": "contour"
           }
          ],
          "contourcarpet": [
           {
            "colorbar": {
             "outlinewidth": 0,
             "ticks": ""
            },
            "type": "contourcarpet"
           }
          ],
          "heatmap": [
           {
            "colorbar": {
             "outlinewidth": 0,
             "ticks": ""
            },
            "colorscale": [
             [
              0,
              "#0d0887"
             ],
             [
              0.1111111111111111,
              "#46039f"
             ],
             [
              0.2222222222222222,
              "#7201a8"
             ],
             [
              0.3333333333333333,
              "#9c179e"
             ],
             [
              0.4444444444444444,
              "#bd3786"
             ],
             [
              0.5555555555555556,
              "#d8576b"
             ],
             [
              0.6666666666666666,
              "#ed7953"
             ],
             [
              0.7777777777777778,
              "#fb9f3a"
             ],
             [
              0.8888888888888888,
              "#fdca26"
             ],
             [
              1,
              "#f0f921"
             ]
            ],
            "type": "heatmap"
           }
          ],
          "heatmapgl": [
           {
            "colorbar": {
             "outlinewidth": 0,
             "ticks": ""
            },
            "colorscale": [
             [
              0,
              "#0d0887"
             ],
             [
              0.1111111111111111,
              "#46039f"
             ],
             [
              0.2222222222222222,
              "#7201a8"
             ],
             [
              0.3333333333333333,
              "#9c179e"
             ],
             [
              0.4444444444444444,
              "#bd3786"
             ],
             [
              0.5555555555555556,
              "#d8576b"
             ],
             [
              0.6666666666666666,
              "#ed7953"
             ],
             [
              0.7777777777777778,
              "#fb9f3a"
             ],
             [
              0.8888888888888888,
              "#fdca26"
             ],
             [
              1,
              "#f0f921"
             ]
            ],
            "type": "heatmapgl"
           }
          ],
          "histogram": [
           {
            "marker": {
             "colorbar": {
              "outlinewidth": 0,
              "ticks": ""
             }
            },
            "type": "histogram"
           }
          ],
          "histogram2d": [
           {
            "colorbar": {
             "outlinewidth": 0,
             "ticks": ""
            },
            "colorscale": [
             [
              0,
              "#0d0887"
             ],
             [
              0.1111111111111111,
              "#46039f"
             ],
             [
              0.2222222222222222,
              "#7201a8"
             ],
             [
              0.3333333333333333,
              "#9c179e"
             ],
             [
              0.4444444444444444,
              "#bd3786"
             ],
             [
              0.5555555555555556,
              "#d8576b"
             ],
             [
              0.6666666666666666,
              "#ed7953"
             ],
             [
              0.7777777777777778,
              "#fb9f3a"
             ],
             [
              0.8888888888888888,
              "#fdca26"
             ],
             [
              1,
              "#f0f921"
             ]
            ],
            "type": "histogram2d"
           }
          ],
          "histogram2dcontour": [
           {
            "colorbar": {
             "outlinewidth": 0,
             "ticks": ""
            },
            "colorscale": [
             [
              0,
              "#0d0887"
             ],
             [
              0.1111111111111111,
              "#46039f"
             ],
             [
              0.2222222222222222,
              "#7201a8"
             ],
             [
              0.3333333333333333,
              "#9c179e"
             ],
             [
              0.4444444444444444,
              "#bd3786"
             ],
             [
              0.5555555555555556,
              "#d8576b"
             ],
             [
              0.6666666666666666,
              "#ed7953"
             ],
             [
              0.7777777777777778,
              "#fb9f3a"
             ],
             [
              0.8888888888888888,
              "#fdca26"
             ],
             [
              1,
              "#f0f921"
             ]
            ],
            "type": "histogram2dcontour"
           }
          ],
          "mesh3d": [
           {
            "colorbar": {
             "outlinewidth": 0,
             "ticks": ""
            },
            "type": "mesh3d"
           }
          ],
          "parcoords": [
           {
            "line": {
             "colorbar": {
              "outlinewidth": 0,
              "ticks": ""
             }
            },
            "type": "parcoords"
           }
          ],
          "pie": [
           {
            "automargin": true,
            "type": "pie"
           }
          ],
          "scatter": [
           {
            "marker": {
             "colorbar": {
              "outlinewidth": 0,
              "ticks": ""
             }
            },
            "type": "scatter"
           }
          ],
          "scatter3d": [
           {
            "line": {
             "colorbar": {
              "outlinewidth": 0,
              "ticks": ""
             }
            },
            "marker": {
             "colorbar": {
              "outlinewidth": 0,
              "ticks": ""
             }
            },
            "type": "scatter3d"
           }
          ],
          "scattercarpet": [
           {
            "marker": {
             "colorbar": {
              "outlinewidth": 0,
              "ticks": ""
             }
            },
            "type": "scattercarpet"
           }
          ],
          "scattergeo": [
           {
            "marker": {
             "colorbar": {
              "outlinewidth": 0,
              "ticks": ""
             }
            },
            "type": "scattergeo"
           }
          ],
          "scattergl": [
           {
            "marker": {
             "colorbar": {
              "outlinewidth": 0,
              "ticks": ""
             }
            },
            "type": "scattergl"
           }
          ],
          "scattermapbox": [
           {
            "marker": {
             "colorbar": {
              "outlinewidth": 0,
              "ticks": ""
             }
            },
            "type": "scattermapbox"
           }
          ],
          "scatterpolar": [
           {
            "marker": {
             "colorbar": {
              "outlinewidth": 0,
              "ticks": ""
             }
            },
            "type": "scatterpolar"
           }
          ],
          "scatterpolargl": [
           {
            "marker": {
             "colorbar": {
              "outlinewidth": 0,
              "ticks": ""
             }
            },
            "type": "scatterpolargl"
           }
          ],
          "scatterternary": [
           {
            "marker": {
             "colorbar": {
              "outlinewidth": 0,
              "ticks": ""
             }
            },
            "type": "scatterternary"
           }
          ],
          "surface": [
           {
            "colorbar": {
             "outlinewidth": 0,
             "ticks": ""
            },
            "colorscale": [
             [
              0,
              "#0d0887"
             ],
             [
              0.1111111111111111,
              "#46039f"
             ],
             [
              0.2222222222222222,
              "#7201a8"
             ],
             [
              0.3333333333333333,
              "#9c179e"
             ],
             [
              0.4444444444444444,
              "#bd3786"
             ],
             [
              0.5555555555555556,
              "#d8576b"
             ],
             [
              0.6666666666666666,
              "#ed7953"
             ],
             [
              0.7777777777777778,
              "#fb9f3a"
             ],
             [
              0.8888888888888888,
              "#fdca26"
             ],
             [
              1,
              "#f0f921"
             ]
            ],
            "type": "surface"
           }
          ],
          "table": [
           {
            "cells": {
             "fill": {
              "color": "#EBF0F8"
             },
             "line": {
              "color": "white"
             }
            },
            "header": {
             "fill": {
              "color": "#C8D4E3"
             },
             "line": {
              "color": "white"
             }
            },
            "type": "table"
           }
          ]
         },
         "layout": {
          "annotationdefaults": {
           "arrowcolor": "#2a3f5f",
           "arrowhead": 0,
           "arrowwidth": 1
          },
          "autotypenumbers": "strict",
          "coloraxis": {
           "colorbar": {
            "outlinewidth": 0,
            "ticks": ""
           }
          },
          "colorscale": {
           "diverging": [
            [
             0,
             "#8e0152"
            ],
            [
             0.1,
             "#c51b7d"
            ],
            [
             0.2,
             "#de77ae"
            ],
            [
             0.3,
             "#f1b6da"
            ],
            [
             0.4,
             "#fde0ef"
            ],
            [
             0.5,
             "#f7f7f7"
            ],
            [
             0.6,
             "#e6f5d0"
            ],
            [
             0.7,
             "#b8e186"
            ],
            [
             0.8,
             "#7fbc41"
            ],
            [
             0.9,
             "#4d9221"
            ],
            [
             1,
             "#276419"
            ]
           ],
           "sequential": [
            [
             0,
             "#0d0887"
            ],
            [
             0.1111111111111111,
             "#46039f"
            ],
            [
             0.2222222222222222,
             "#7201a8"
            ],
            [
             0.3333333333333333,
             "#9c179e"
            ],
            [
             0.4444444444444444,
             "#bd3786"
            ],
            [
             0.5555555555555556,
             "#d8576b"
            ],
            [
             0.6666666666666666,
             "#ed7953"
            ],
            [
             0.7777777777777778,
             "#fb9f3a"
            ],
            [
             0.8888888888888888,
             "#fdca26"
            ],
            [
             1,
             "#f0f921"
            ]
           ],
           "sequentialminus": [
            [
             0,
             "#0d0887"
            ],
            [
             0.1111111111111111,
             "#46039f"
            ],
            [
             0.2222222222222222,
             "#7201a8"
            ],
            [
             0.3333333333333333,
             "#9c179e"
            ],
            [
             0.4444444444444444,
             "#bd3786"
            ],
            [
             0.5555555555555556,
             "#d8576b"
            ],
            [
             0.6666666666666666,
             "#ed7953"
            ],
            [
             0.7777777777777778,
             "#fb9f3a"
            ],
            [
             0.8888888888888888,
             "#fdca26"
            ],
            [
             1,
             "#f0f921"
            ]
           ]
          },
          "colorway": [
           "#636efa",
           "#EF553B",
           "#00cc96",
           "#ab63fa",
           "#FFA15A",
           "#19d3f3",
           "#FF6692",
           "#B6E880",
           "#FF97FF",
           "#FECB52"
          ],
          "font": {
           "color": "#2a3f5f"
          },
          "geo": {
           "bgcolor": "white",
           "lakecolor": "white",
           "landcolor": "#E5ECF6",
           "showlakes": true,
           "showland": true,
           "subunitcolor": "white"
          },
          "hoverlabel": {
           "align": "left"
          },
          "hovermode": "closest",
          "mapbox": {
           "style": "light"
          },
          "paper_bgcolor": "white",
          "plot_bgcolor": "#E5ECF6",
          "polar": {
           "angularaxis": {
            "gridcolor": "white",
            "linecolor": "white",
            "ticks": ""
           },
           "bgcolor": "#E5ECF6",
           "radialaxis": {
            "gridcolor": "white",
            "linecolor": "white",
            "ticks": ""
           }
          },
          "scene": {
           "xaxis": {
            "backgroundcolor": "#E5ECF6",
            "gridcolor": "white",
            "gridwidth": 2,
            "linecolor": "white",
            "showbackground": true,
            "ticks": "",
            "zerolinecolor": "white"
           },
           "yaxis": {
            "backgroundcolor": "#E5ECF6",
            "gridcolor": "white",
            "gridwidth": 2,
            "linecolor": "white",
            "showbackground": true,
            "ticks": "",
            "zerolinecolor": "white"
           },
           "zaxis": {
            "backgroundcolor": "#E5ECF6",
            "gridcolor": "white",
            "gridwidth": 2,
            "linecolor": "white",
            "showbackground": true,
            "ticks": "",
            "zerolinecolor": "white"
           }
          },
          "shapedefaults": {
           "line": {
            "color": "#2a3f5f"
           }
          },
          "ternary": {
           "aaxis": {
            "gridcolor": "white",
            "linecolor": "white",
            "ticks": ""
           },
           "baxis": {
            "gridcolor": "white",
            "linecolor": "white",
            "ticks": ""
           },
           "bgcolor": "#E5ECF6",
           "caxis": {
            "gridcolor": "white",
            "linecolor": "white",
            "ticks": ""
           }
          },
          "title": {
           "x": 0.05
          },
          "xaxis": {
           "automargin": true,
           "gridcolor": "white",
           "linecolor": "white",
           "ticks": "",
           "title": {
            "standoff": 15
           },
           "zerolinecolor": "white",
           "zerolinewidth": 2
          },
          "yaxis": {
           "automargin": true,
           "gridcolor": "white",
           "linecolor": "white",
           "ticks": "",
           "title": {
            "standoff": 15
           },
           "zerolinecolor": "white",
           "zerolinewidth": 2
          }
         }
        },
        "title": "Value of element above diagonal σ_i",
        "xaxis": {
         "title": {
          "text": "Iteration"
         }
        },
        "yaxis": {
         "tickformat": "e",
         "title": {
          "text": "Error"
         },
         "type": "log"
        }
       }
      },
      "text/html": [
       "<div\n",
       "    class=\"webio-mountpoint\"\n",
       "    data-webio-mountpoint=\"2274992864227067465\"\n",
       ">\n",
       "    <script>\n",
       "    (function(){\n",
       "    // Some integrations (namely, IJulia/Jupyter) use an alternate render pathway than\n",
       "    // just putting the html on the page. If WebIO isn't defined, then it's pretty likely\n",
       "    // that we're in one of those situations and the integration just isn't installed\n",
       "    // correctly.\n",
       "    if (typeof window.WebIO === \"undefined\") {\n",
       "        document\n",
       "            .querySelector('[data-webio-mountpoint=\"2274992864227067465\"]')\n",
       "            .innerHTML = (\n",
       "                '<div style=\"padding: 1em; background-color: #f8d6da; border: 1px solid #f5c6cb; font-weight: bold;\">' +\n",
       "                '<p><strong>WebIO not detected.</strong></p>' +\n",
       "                '<p>Please read ' +\n",
       "                '<a href=\"https://juliagizmos.github.io/WebIO.jl/latest/troubleshooting/not-detected/\" target=\"_blank\">the troubleshooting guide</a> ' +\n",
       "                'for more information on how to resolve this issue.</p>' +\n",
       "                '<p><a href=\"https://juliagizmos.github.io/WebIO.jl/latest/troubleshooting/not-detected/\" target=\"_blank\">https://juliagizmos.github.io/WebIO.jl/latest/troubleshooting/not-detected/</a></p>' +\n",
       "                '</div>'\n",
       "            );\n",
       "        return;\n",
       "    }\n",
       "    WebIO.mount(\n",
       "        document.querySelector('[data-webio-mountpoint=\"2274992864227067465\"]'),\n",
       "        {\"props\":{},\"nodeType\":\"Scope\",\"type\":\"node\",\"instanceArgs\":{\"imports\":{\"data\":[{\"name\":\"Plotly\",\"type\":\"js\",\"url\":\"\\/assetserver\\/d6feb8d8ce4676ebdde817a0745950a35b4ba3ae-plotly.min.js\"},{\"name\":null,\"type\":\"js\",\"url\":\"\\/assetserver\\/46c9ff4df7c73b5875052df387368a00f6cfc484-plotly_webio.bundle.js\"}],\"type\":\"async_block\"},\"id\":\"7655934332012335576\",\"handlers\":{\"_toImage\":[\"(function (options){return this.Plotly.toImage(this.plotElem,options).then((function (data){return WebIO.setval({\\\"name\\\":\\\"image\\\",\\\"scope\\\":\\\"7655934332012335576\\\",\\\"id\\\":\\\"585\\\",\\\"type\\\":\\\"observable\\\"},data)}))})\"],\"__get_gd_contents\":[\"(function (prop){prop==\\\"data\\\" ? (WebIO.setval({\\\"name\\\":\\\"__gd_contents\\\",\\\"scope\\\":\\\"7655934332012335576\\\",\\\"id\\\":\\\"586\\\",\\\"type\\\":\\\"observable\\\"},this.plotElem.data)) : undefined; return prop==\\\"layout\\\" ? (WebIO.setval({\\\"name\\\":\\\"__gd_contents\\\",\\\"scope\\\":\\\"7655934332012335576\\\",\\\"id\\\":\\\"586\\\",\\\"type\\\":\\\"observable\\\"},this.plotElem.layout)) : undefined})\"],\"_downloadImage\":[\"(function (options){return this.Plotly.downloadImage(this.plotElem,options)})\"],\"_commands\":[\"(function (args){var fn=args.shift(); var elem=this.plotElem; var Plotly=this.Plotly; args.unshift(elem); return Plotly[fn].apply(this,args)})\"]},\"systemjs_options\":null,\"mount_callbacks\":[\"function () {\\n    var handler = ((function (Plotly,PlotlyWebIO){PlotlyWebIO.init(WebIO); var gd=this.dom.querySelector(\\\"#plot-33d33972-1eec-4a80-a105-7a11d41919ac\\\"); this.plotElem=gd; this.Plotly=Plotly; (window.Blink!==undefined) ? (gd.style.width=\\\"100%\\\", gd.style.height=\\\"100vh\\\", gd.style.marginLeft=\\\"0%\\\", gd.style.marginTop=\\\"0vh\\\") : undefined; window.onresize=(function (){return Plotly.Plots.resize(gd)}); Plotly.newPlot(gd,[{\\\"x\\\":[1,2,3,4,5,6,7,8,9,10,11,12,13,14,15,16,17,18,19,20],\\\"mode\\\":\\\"lines+markers\\\",\\\"line\\\":{\\\"shape\\\":\\\"linear\\\"},\\\"y\\\":[2.6362429515096313,1.2945863011256755,0.5877357317567863,0.26134204942897094,0.12424246331101313,0.0614003430991926,0.02902946585088591,0.01385075059003409,0.006383398809504911,0.001823768592711045,0.0005213774416499906,3.130059222908625e-11,1.974540084909195e-20,1.974540084909195e-20,1.974540084909195e-20,1.974540084909195e-20,1.974540084909195e-20,1.974540084909195e-20,1.974540084909195e-20,1.974540084909195e-20],\\\"type\\\":\\\"scatter\\\",\\\"name\\\":\\\"σ2\\\",\\\"marker\\\":{\\\"color\\\":1}},{\\\"x\\\":[1,2,3,4,5,6,7,8,9,10,11,12,13,14,15,16,17,18,19,20],\\\"mode\\\":\\\"lines+markers\\\",\\\"line\\\":{\\\"shape\\\":\\\"linear\\\"},\\\"y\\\":[2.47498520613483,0.7726883454836286,0.6612779629580472,0.5263476652190625,0.36675466820267544,0.23761505700939947,0.13734396590229006,0.07817944417879948,0.04177526843979134,8.256026337350384e-10,8.114161665797227e-18,8.114161541334257e-18,8.114161541334272e-18,8.114161541334272e-18,8.114161541334272e-18,8.114161541334272e-18,8.114161541334272e-18,8.114161541334272e-18,8.114161541334272e-18,8.114161541334272e-18],\\\"type\\\":\\\"scatter\\\",\\\"name\\\":\\\"σ3\\\",\\\"marker\\\":{\\\"color\\\":2}},{\\\"x\\\":[1,2,3,4,5,6,7,8,9,10,11,12,13,14,15,16,17,18,19,20],\\\"mode\\\":\\\"lines+markers\\\",\\\"line\\\":{\\\"shape\\\":\\\"linear\\\"},\\\"y\\\":[1.7932691458359176,1.0788834040397552,0.17617180920488668,0.031494510953795074,0.007217128807401266,0.0018355790742769235,0.0002035078881998076,2.4625455462623006e-5,2.249647852545609e-17,2.2493680848460668e-17,2.2493680848652174e-17,2.2493680848652174e-17,2.2493680848652174e-17,2.2493680848652174e-17,2.2493680848652174e-17,2.2493680848652174e-17,2.2493680848652174e-17,2.2493680848652174e-17,2.2493680848652174e-17,2.2493680848652174e-17],\\\"type\\\":\\\"scatter\\\",\\\"name\\\":\\\"σ4\\\",\\\"marker\\\":{\\\"color\\\":3}},{\\\"x\\\":[1,2,3,4,5,6,7,8,9,10,11,12,13,14,15,16,17,18,19,20],\\\"mode\\\":\\\"lines+markers\\\",\\\"line\\\":{\\\"shape\\\":\\\"linear\\\"},\\\"y\\\":[1.4418810186055357,0.3411908483796043,0.23297597350475652,0.24266014269135225,0.21256268666079928,0.16262119711163645,2.002040083966809e-7,8.744747152395001e-14,8.744747154407976e-14,8.744747154407976e-14,8.744747154407976e-14,8.744747154407976e-14,8.744747154407976e-14,8.744747154407976e-14,8.744747154407976e-14,8.744747154407976e-14,8.744747154407976e-14,8.744747154407976e-14,8.744747154407976e-14,8.744747154407976e-14],\\\"type\\\":\\\"scatter\\\",\\\"name\\\":\\\"σ5\\\",\\\"marker\\\":{\\\"color\\\":4}},{\\\"x\\\":[1,2,3,4,5,6,7,8,9,10,11,12,13,14,15,16,17,18,19,20],\\\"mode\\\":\\\"lines+markers\\\",\\\"line\\\":{\\\"shape\\\":\\\"linear\\\"},\\\"y\\\":[0.4188924693343645,0.9949936779676674,0.20385854631717482,0.023595371929496144,4.834683902714032e-7,2.7843617767175072e-18,2.6323105207691643e-18,2.6323108550205585e-18,2.6323108550205585e-18,2.6323108550205585e-18,2.6323108550205585e-18,2.6323108550205585e-18,2.6323108550205585e-18,2.6323108550205585e-18,2.6323108550205585e-18,2.6323108550205585e-18,2.6323108550205585e-18,2.6323108550205585e-18,2.6323108550205585e-18,2.6323108550205585e-18],\\\"type\\\":\\\"scatter\\\",\\\"name\\\":\\\"σ6\\\",\\\"marker\\\":{\\\"color\\\":5}},{\\\"x\\\":[1,2,3,4,5,6,7,8,9,10,11,12,13,14,15,16,17,18,19,20],\\\"mode\\\":\\\"lines+markers\\\",\\\"line\\\":{\\\"shape\\\":\\\"linear\\\"},\\\"y\\\":[0.18823017604453654,0.0002986991222801175,8.098085337848875e-11,1.336294754199589e-16,1.3360772848877764e-16,1.336077293315432e-16,1.336077293315432e-16,1.336077293315432e-16,1.336077293315432e-16,1.336077293315432e-16,1.336077293315432e-16,1.336077293315432e-16,1.336077293315432e-16,1.336077293315432e-16,1.336077293315432e-16,1.336077293315432e-16,1.336077293315432e-16,1.336077293315432e-16,1.336077293315432e-16,1.336077293315432e-16],\\\"type\\\":\\\"scatter\\\",\\\"name\\\":\\\"σ7\\\",\\\"marker\\\":{\\\"color\\\":6}}],{\\\"showlegend\\\":true,\\\"xaxis\\\":{\\\"title\\\":{\\\"text\\\":\\\"Iteration\\\"}},\\\"template\\\":{\\\"layout\\\":{\\\"coloraxis\\\":{\\\"colorbar\\\":{\\\"ticks\\\":\\\"\\\",\\\"outlinewidth\\\":0}},\\\"xaxis\\\":{\\\"gridcolor\\\":\\\"white\\\",\\\"zerolinewidth\\\":2,\\\"title\\\":{\\\"standoff\\\":15},\\\"ticks\\\":\\\"\\\",\\\"zerolinecolor\\\":\\\"white\\\",\\\"automargin\\\":true,\\\"linecolor\\\":\\\"white\\\"},\\\"hovermode\\\":\\\"closest\\\",\\\"paper_bgcolor\\\":\\\"white\\\",\\\"geo\\\":{\\\"showlakes\\\":true,\\\"showland\\\":true,\\\"landcolor\\\":\\\"#E5ECF6\\\",\\\"bgcolor\\\":\\\"white\\\",\\\"subunitcolor\\\":\\\"white\\\",\\\"lakecolor\\\":\\\"white\\\"},\\\"colorscale\\\":{\\\"sequential\\\":[[0.0,\\\"#0d0887\\\"],[0.1111111111111111,\\\"#46039f\\\"],[0.2222222222222222,\\\"#7201a8\\\"],[0.3333333333333333,\\\"#9c179e\\\"],[0.4444444444444444,\\\"#bd3786\\\"],[0.5555555555555556,\\\"#d8576b\\\"],[0.6666666666666666,\\\"#ed7953\\\"],[0.7777777777777778,\\\"#fb9f3a\\\"],[0.8888888888888888,\\\"#fdca26\\\"],[1.0,\\\"#f0f921\\\"]],\\\"diverging\\\":[[0,\\\"#8e0152\\\"],[0.1,\\\"#c51b7d\\\"],[0.2,\\\"#de77ae\\\"],[0.3,\\\"#f1b6da\\\"],[0.4,\\\"#fde0ef\\\"],[0.5,\\\"#f7f7f7\\\"],[0.6,\\\"#e6f5d0\\\"],[0.7,\\\"#b8e186\\\"],[0.8,\\\"#7fbc41\\\"],[0.9,\\\"#4d9221\\\"],[1,\\\"#276419\\\"]],\\\"sequentialminus\\\":[[0.0,\\\"#0d0887\\\"],[0.1111111111111111,\\\"#46039f\\\"],[0.2222222222222222,\\\"#7201a8\\\"],[0.3333333333333333,\\\"#9c179e\\\"],[0.4444444444444444,\\\"#bd3786\\\"],[0.5555555555555556,\\\"#d8576b\\\"],[0.6666666666666666,\\\"#ed7953\\\"],[0.7777777777777778,\\\"#fb9f3a\\\"],[0.8888888888888888,\\\"#fdca26\\\"],[1.0,\\\"#f0f921\\\"]]},\\\"yaxis\\\":{\\\"gridcolor\\\":\\\"white\\\",\\\"zerolinewidth\\\":2,\\\"title\\\":{\\\"standoff\\\":15},\\\"ticks\\\":\\\"\\\",\\\"zerolinecolor\\\":\\\"white\\\",\\\"automargin\\\":true,\\\"linecolor\\\":\\\"white\\\"},\\\"shapedefaults\\\":{\\\"line\\\":{\\\"color\\\":\\\"#2a3f5f\\\"}},\\\"hoverlabel\\\":{\\\"align\\\":\\\"left\\\"},\\\"mapbox\\\":{\\\"style\\\":\\\"light\\\"},\\\"polar\\\":{\\\"angularaxis\\\":{\\\"gridcolor\\\":\\\"white\\\",\\\"ticks\\\":\\\"\\\",\\\"linecolor\\\":\\\"white\\\"},\\\"bgcolor\\\":\\\"#E5ECF6\\\",\\\"radialaxis\\\":{\\\"gridcolor\\\":\\\"white\\\",\\\"ticks\\\":\\\"\\\",\\\"linecolor\\\":\\\"white\\\"}},\\\"autotypenumbers\\\":\\\"strict\\\",\\\"font\\\":{\\\"color\\\":\\\"#2a3f5f\\\"},\\\"ternary\\\":{\\\"baxis\\\":{\\\"gridcolor\\\":\\\"white\\\",\\\"ticks\\\":\\\"\\\",\\\"linecolor\\\":\\\"white\\\"},\\\"bgcolor\\\":\\\"#E5ECF6\\\",\\\"caxis\\\":{\\\"gridcolor\\\":\\\"white\\\",\\\"ticks\\\":\\\"\\\",\\\"linecolor\\\":\\\"white\\\"},\\\"aaxis\\\":{\\\"gridcolor\\\":\\\"white\\\",\\\"ticks\\\":\\\"\\\",\\\"linecolor\\\":\\\"white\\\"}},\\\"annotationdefaults\\\":{\\\"arrowhead\\\":0,\\\"arrowwidth\\\":1,\\\"arrowcolor\\\":\\\"#2a3f5f\\\"},\\\"plot_bgcolor\\\":\\\"#E5ECF6\\\",\\\"title\\\":{\\\"x\\\":0.05},\\\"scene\\\":{\\\"xaxis\\\":{\\\"gridcolor\\\":\\\"white\\\",\\\"gridwidth\\\":2,\\\"backgroundcolor\\\":\\\"#E5ECF6\\\",\\\"ticks\\\":\\\"\\\",\\\"showbackground\\\":true,\\\"zerolinecolor\\\":\\\"white\\\",\\\"linecolor\\\":\\\"white\\\"},\\\"zaxis\\\":{\\\"gridcolor\\\":\\\"white\\\",\\\"gridwidth\\\":2,\\\"backgroundcolor\\\":\\\"#E5ECF6\\\",\\\"ticks\\\":\\\"\\\",\\\"showbackground\\\":true,\\\"zerolinecolor\\\":\\\"white\\\",\\\"linecolor\\\":\\\"white\\\"},\\\"yaxis\\\":{\\\"gridcolor\\\":\\\"white\\\",\\\"gridwidth\\\":2,\\\"backgroundcolor\\\":\\\"#E5ECF6\\\",\\\"ticks\\\":\\\"\\\",\\\"showbackground\\\":true,\\\"zerolinecolor\\\":\\\"white\\\",\\\"linecolor\\\":\\\"white\\\"}},\\\"colorway\\\":[\\\"#636efa\\\",\\\"#EF553B\\\",\\\"#00cc96\\\",\\\"#ab63fa\\\",\\\"#FFA15A\\\",\\\"#19d3f3\\\",\\\"#FF6692\\\",\\\"#B6E880\\\",\\\"#FF97FF\\\",\\\"#FECB52\\\"]},\\\"data\\\":{\\\"barpolar\\\":[{\\\"type\\\":\\\"barpolar\\\",\\\"marker\\\":{\\\"line\\\":{\\\"color\\\":\\\"#E5ECF6\\\",\\\"width\\\":0.5}}}],\\\"carpet\\\":[{\\\"aaxis\\\":{\\\"gridcolor\\\":\\\"white\\\",\\\"endlinecolor\\\":\\\"#2a3f5f\\\",\\\"minorgridcolor\\\":\\\"white\\\",\\\"startlinecolor\\\":\\\"#2a3f5f\\\",\\\"linecolor\\\":\\\"white\\\"},\\\"type\\\":\\\"carpet\\\",\\\"baxis\\\":{\\\"gridcolor\\\":\\\"white\\\",\\\"endlinecolor\\\":\\\"#2a3f5f\\\",\\\"minorgridcolor\\\":\\\"white\\\",\\\"startlinecolor\\\":\\\"#2a3f5f\\\",\\\"linecolor\\\":\\\"white\\\"}}],\\\"scatterpolar\\\":[{\\\"type\\\":\\\"scatterpolar\\\",\\\"marker\\\":{\\\"colorbar\\\":{\\\"ticks\\\":\\\"\\\",\\\"outlinewidth\\\":0}}}],\\\"parcoords\\\":[{\\\"line\\\":{\\\"colorbar\\\":{\\\"ticks\\\":\\\"\\\",\\\"outlinewidth\\\":0}},\\\"type\\\":\\\"parcoords\\\"}],\\\"scatter\\\":[{\\\"type\\\":\\\"scatter\\\",\\\"marker\\\":{\\\"colorbar\\\":{\\\"ticks\\\":\\\"\\\",\\\"outlinewidth\\\":0}}}],\\\"histogram2dcontour\\\":[{\\\"colorbar\\\":{\\\"ticks\\\":\\\"\\\",\\\"outlinewidth\\\":0},\\\"type\\\":\\\"histogram2dcontour\\\",\\\"colorscale\\\":[[0.0,\\\"#0d0887\\\"],[0.1111111111111111,\\\"#46039f\\\"],[0.2222222222222222,\\\"#7201a8\\\"],[0.3333333333333333,\\\"#9c179e\\\"],[0.4444444444444444,\\\"#bd3786\\\"],[0.5555555555555556,\\\"#d8576b\\\"],[0.6666666666666666,\\\"#ed7953\\\"],[0.7777777777777778,\\\"#fb9f3a\\\"],[0.8888888888888888,\\\"#fdca26\\\"],[1.0,\\\"#f0f921\\\"]]}],\\\"contour\\\":[{\\\"colorbar\\\":{\\\"ticks\\\":\\\"\\\",\\\"outlinewidth\\\":0},\\\"type\\\":\\\"contour\\\",\\\"colorscale\\\":[[0.0,\\\"#0d0887\\\"],[0.1111111111111111,\\\"#46039f\\\"],[0.2222222222222222,\\\"#7201a8\\\"],[0.3333333333333333,\\\"#9c179e\\\"],[0.4444444444444444,\\\"#bd3786\\\"],[0.5555555555555556,\\\"#d8576b\\\"],[0.6666666666666666,\\\"#ed7953\\\"],[0.7777777777777778,\\\"#fb9f3a\\\"],[0.8888888888888888,\\\"#fdca26\\\"],[1.0,\\\"#f0f921\\\"]]}],\\\"scattercarpet\\\":[{\\\"type\\\":\\\"scattercarpet\\\",\\\"marker\\\":{\\\"colorbar\\\":{\\\"ticks\\\":\\\"\\\",\\\"outlinewidth\\\":0}}}],\\\"mesh3d\\\":[{\\\"colorbar\\\":{\\\"ticks\\\":\\\"\\\",\\\"outlinewidth\\\":0},\\\"type\\\":\\\"mesh3d\\\"}],\\\"surface\\\":[{\\\"colorbar\\\":{\\\"ticks\\\":\\\"\\\",\\\"outlinewidth\\\":0},\\\"type\\\":\\\"surface\\\",\\\"colorscale\\\":[[0.0,\\\"#0d0887\\\"],[0.1111111111111111,\\\"#46039f\\\"],[0.2222222222222222,\\\"#7201a8\\\"],[0.3333333333333333,\\\"#9c179e\\\"],[0.4444444444444444,\\\"#bd3786\\\"],[0.5555555555555556,\\\"#d8576b\\\"],[0.6666666666666666,\\\"#ed7953\\\"],[0.7777777777777778,\\\"#fb9f3a\\\"],[0.8888888888888888,\\\"#fdca26\\\"],[1.0,\\\"#f0f921\\\"]]}],\\\"scattermapbox\\\":[{\\\"type\\\":\\\"scattermapbox\\\",\\\"marker\\\":{\\\"colorbar\\\":{\\\"ticks\\\":\\\"\\\",\\\"outlinewidth\\\":0}}}],\\\"scattergeo\\\":[{\\\"type\\\":\\\"scattergeo\\\",\\\"marker\\\":{\\\"colorbar\\\":{\\\"ticks\\\":\\\"\\\",\\\"outlinewidth\\\":0}}}],\\\"histogram\\\":[{\\\"type\\\":\\\"histogram\\\",\\\"marker\\\":{\\\"colorbar\\\":{\\\"ticks\\\":\\\"\\\",\\\"outlinewidth\\\":0}}}],\\\"pie\\\":[{\\\"type\\\":\\\"pie\\\",\\\"automargin\\\":true}],\\\"choropleth\\\":[{\\\"colorbar\\\":{\\\"ticks\\\":\\\"\\\",\\\"outlinewidth\\\":0},\\\"type\\\":\\\"choropleth\\\"}],\\\"heatmapgl\\\":[{\\\"colorbar\\\":{\\\"ticks\\\":\\\"\\\",\\\"outlinewidth\\\":0},\\\"type\\\":\\\"heatmapgl\\\",\\\"colorscale\\\":[[0.0,\\\"#0d0887\\\"],[0.1111111111111111,\\\"#46039f\\\"],[0.2222222222222222,\\\"#7201a8\\\"],[0.3333333333333333,\\\"#9c179e\\\"],[0.4444444444444444,\\\"#bd3786\\\"],[0.5555555555555556,\\\"#d8576b\\\"],[0.6666666666666666,\\\"#ed7953\\\"],[0.7777777777777778,\\\"#fb9f3a\\\"],[0.8888888888888888,\\\"#fdca26\\\"],[1.0,\\\"#f0f921\\\"]]}],\\\"bar\\\":[{\\\"type\\\":\\\"bar\\\",\\\"error_y\\\":{\\\"color\\\":\\\"#2a3f5f\\\"},\\\"error_x\\\":{\\\"color\\\":\\\"#2a3f5f\\\"},\\\"marker\\\":{\\\"line\\\":{\\\"color\\\":\\\"#E5ECF6\\\",\\\"width\\\":0.5}}}],\\\"heatmap\\\":[{\\\"colorbar\\\":{\\\"ticks\\\":\\\"\\\",\\\"outlinewidth\\\":0},\\\"type\\\":\\\"heatmap\\\",\\\"colorscale\\\":[[0.0,\\\"#0d0887\\\"],[0.1111111111111111,\\\"#46039f\\\"],[0.2222222222222222,\\\"#7201a8\\\"],[0.3333333333333333,\\\"#9c179e\\\"],[0.4444444444444444,\\\"#bd3786\\\"],[0.5555555555555556,\\\"#d8576b\\\"],[0.6666666666666666,\\\"#ed7953\\\"],[0.7777777777777778,\\\"#fb9f3a\\\"],[0.8888888888888888,\\\"#fdca26\\\"],[1.0,\\\"#f0f921\\\"]]}],\\\"contourcarpet\\\":[{\\\"colorbar\\\":{\\\"ticks\\\":\\\"\\\",\\\"outlinewidth\\\":0},\\\"type\\\":\\\"contourcarpet\\\"}],\\\"table\\\":[{\\\"type\\\":\\\"table\\\",\\\"header\\\":{\\\"line\\\":{\\\"color\\\":\\\"white\\\"},\\\"fill\\\":{\\\"color\\\":\\\"#C8D4E3\\\"}},\\\"cells\\\":{\\\"line\\\":{\\\"color\\\":\\\"white\\\"},\\\"fill\\\":{\\\"color\\\":\\\"#EBF0F8\\\"}}}],\\\"scatter3d\\\":[{\\\"line\\\":{\\\"colorbar\\\":{\\\"ticks\\\":\\\"\\\",\\\"outlinewidth\\\":0}},\\\"type\\\":\\\"scatter3d\\\",\\\"marker\\\":{\\\"colorbar\\\":{\\\"ticks\\\":\\\"\\\",\\\"outlinewidth\\\":0}}}],\\\"scattergl\\\":[{\\\"type\\\":\\\"scattergl\\\",\\\"marker\\\":{\\\"colorbar\\\":{\\\"ticks\\\":\\\"\\\",\\\"outlinewidth\\\":0}}}],\\\"histogram2d\\\":[{\\\"colorbar\\\":{\\\"ticks\\\":\\\"\\\",\\\"outlinewidth\\\":0},\\\"type\\\":\\\"histogram2d\\\",\\\"colorscale\\\":[[0.0,\\\"#0d0887\\\"],[0.1111111111111111,\\\"#46039f\\\"],[0.2222222222222222,\\\"#7201a8\\\"],[0.3333333333333333,\\\"#9c179e\\\"],[0.4444444444444444,\\\"#bd3786\\\"],[0.5555555555555556,\\\"#d8576b\\\"],[0.6666666666666666,\\\"#ed7953\\\"],[0.7777777777777778,\\\"#fb9f3a\\\"],[0.8888888888888888,\\\"#fdca26\\\"],[1.0,\\\"#f0f921\\\"]]}],\\\"scatterternary\\\":[{\\\"type\\\":\\\"scatterternary\\\",\\\"marker\\\":{\\\"colorbar\\\":{\\\"ticks\\\":\\\"\\\",\\\"outlinewidth\\\":0}}}],\\\"scatterpolargl\\\":[{\\\"type\\\":\\\"scatterpolargl\\\",\\\"marker\\\":{\\\"colorbar\\\":{\\\"ticks\\\":\\\"\\\",\\\"outlinewidth\\\":0}}}]}},\\\"margin\\\":{\\\"l\\\":50,\\\"b\\\":50,\\\"r\\\":50,\\\"t\\\":60},\\\"title\\\":\\\"Value of element above diagonal σ_i\\\",\\\"yaxis\\\":{\\\"type\\\":\\\"log\\\",\\\"title\\\":{\\\"text\\\":\\\"Error\\\"},\\\"tickformat\\\":\\\"e\\\"}},{\\\"showLink\\\":false,\\\"editable\\\":false,\\\"responsive\\\":true,\\\"staticPlot\\\":false,\\\"scrollZoom\\\":true}); gd.on(\\\"plotly_hover\\\",(function (data){var filtered_data=WebIO.PlotlyCommands.filterEventData(gd,data,\\\"hover\\\"); return !(filtered_data.isnil) ? (WebIO.setval({\\\"name\\\":\\\"hover\\\",\\\"scope\\\":\\\"7655934332012335576\\\",\\\"id\\\":\\\"581\\\",\\\"type\\\":\\\"observable\\\"},filtered_data.out)) : undefined})); gd.on(\\\"plotly_unhover\\\",(function (){return WebIO.setval({\\\"name\\\":\\\"hover\\\",\\\"scope\\\":\\\"7655934332012335576\\\",\\\"id\\\":\\\"581\\\",\\\"type\\\":\\\"observable\\\"},{})})); gd.on(\\\"plotly_selected\\\",(function (data){var filtered_data=WebIO.PlotlyCommands.filterEventData(gd,data,\\\"selected\\\"); return !(filtered_data.isnil) ? (WebIO.setval({\\\"name\\\":\\\"selected\\\",\\\"scope\\\":\\\"7655934332012335576\\\",\\\"id\\\":\\\"582\\\",\\\"type\\\":\\\"observable\\\"},filtered_data.out)) : undefined})); gd.on(\\\"plotly_deselect\\\",(function (){return WebIO.setval({\\\"name\\\":\\\"selected\\\",\\\"scope\\\":\\\"7655934332012335576\\\",\\\"id\\\":\\\"582\\\",\\\"type\\\":\\\"observable\\\"},{})})); gd.on(\\\"plotly_relayout\\\",(function (data){var filtered_data=WebIO.PlotlyCommands.filterEventData(gd,data,\\\"relayout\\\"); return !(filtered_data.isnil) ? (WebIO.setval({\\\"name\\\":\\\"relayout\\\",\\\"scope\\\":\\\"7655934332012335576\\\",\\\"id\\\":\\\"584\\\",\\\"type\\\":\\\"observable\\\"},filtered_data.out)) : undefined})); return gd.on(\\\"plotly_click\\\",(function (data){var filtered_data=WebIO.PlotlyCommands.filterEventData(gd,data,\\\"click\\\"); return !(filtered_data.isnil) ? (WebIO.setval({\\\"name\\\":\\\"click\\\",\\\"scope\\\":\\\"7655934332012335576\\\",\\\"id\\\":\\\"583\\\",\\\"type\\\":\\\"observable\\\"},filtered_data.out)) : undefined}))}));\\n    (WebIO.importBlock({\\\"data\\\":[{\\\"name\\\":\\\"Plotly\\\",\\\"type\\\":\\\"js\\\",\\\"url\\\":\\\"\\/assetserver\\/d6feb8d8ce4676ebdde817a0745950a35b4ba3ae-plotly.min.js\\\"},{\\\"name\\\":null,\\\"type\\\":\\\"js\\\",\\\"url\\\":\\\"\\/assetserver\\/46c9ff4df7c73b5875052df387368a00f6cfc484-plotly_webio.bundle.js\\\"}],\\\"type\\\":\\\"async_block\\\"})).then((imports) => handler.apply(this, imports));\\n}\\n\"],\"observables\":{\"_toImage\":{\"sync\":false,\"id\":\"588\",\"value\":{}},\"hover\":{\"sync\":false,\"id\":\"581\",\"value\":{}},\"selected\":{\"sync\":false,\"id\":\"582\",\"value\":{}},\"__gd_contents\":{\"sync\":false,\"id\":\"586\",\"value\":{}},\"click\":{\"sync\":false,\"id\":\"583\",\"value\":{}},\"image\":{\"sync\":true,\"id\":\"585\",\"value\":\"\"},\"__get_gd_contents\":{\"sync\":false,\"id\":\"590\",\"value\":\"\"},\"_downloadImage\":{\"sync\":false,\"id\":\"589\",\"value\":{}},\"relayout\":{\"sync\":false,\"id\":\"584\",\"value\":{}},\"_commands\":{\"sync\":false,\"id\":\"587\",\"value\":[]}}},\"children\":[{\"props\":{\"id\":\"plot-33d33972-1eec-4a80-a105-7a11d41919ac\"},\"nodeType\":\"DOM\",\"type\":\"node\",\"instanceArgs\":{\"namespace\":\"html\",\"tag\":\"div\"},\"children\":[]}]},\n",
       "        window,\n",
       "    );\n",
       "    })()\n",
       "    </script>\n",
       "</div>\n"
      ],
      "text/plain": [
       "data: [\n",
       "  \"scatter with fields line, marker, mode, name, type, x, and y\",\n",
       "  \"scatter with fields line, marker, mode, name, type, x, and y\",\n",
       "  \"scatter with fields line, marker, mode, name, type, x, and y\",\n",
       "  \"scatter with fields line, marker, mode, name, type, x, and y\",\n",
       "  \"scatter with fields line, marker, mode, name, type, x, and y\",\n",
       "  \"scatter with fields line, marker, mode, name, type, x, and y\"\n",
       "]\n",
       "\n",
       "layout: \"layout with fields margin, showlegend, template, title, xaxis, and yaxis\"\n",
       "\n"
      ]
     },
     "execution_count": 1018,
     "metadata": {},
     "output_type": "execute_result"
    }
   ],
   "source": [
    "function plot_convergence_error(error_vectors, labels)\n",
    "    iterations = 1:length(error_vectors[1])\n",
    "    traces = Vector{GenericTrace{Dict{Symbol, Any}}}()\n",
    "    \n",
    "    for (i, error_vector) in enumerate(error_vectors)\n",
    "        trace = scatter(\n",
    "            x = iterations,\n",
    "            y = error_vector,\n",
    "            mode = \"lines+markers\",\n",
    "            marker_color = i,\n",
    "            line_shape = \"linear\",\n",
    "            name = labels[i]\n",
    "        )\n",
    "        push!(traces, trace)\n",
    "    end\n",
    "    \n",
    "    layout = Layout(\n",
    "        title = \"Value of element above diagonal σ_i\",\n",
    "        xaxis_title = \"Iteration\",\n",
    "        yaxis_title = \"Error\",\n",
    "        yaxis_type = \"log\",\n",
    "        yaxis_tickformat = \"e\",\n",
    "        showlegend = true\n",
    "    )\n",
    "    \n",
    "    plot(traces, layout)\n",
    "end\n",
    "\n",
    "error_vectors = [\n",
    "    abs.(results[1, 1, :]),\n",
    "    abs.(results[1, 2, :]),\n",
    "    abs.(results[1, 3, :]),\n",
    "    abs.(results[1, 4, :]),\n",
    "    abs.(results[1, 5, :]),\n",
    "    abs.(results[1, 6, :])\n",
    "]\n",
    "labels = [\"σ2\", \"σ3\", \"σ4\", \"σ5\", \"σ6\", \"σ7\"]\n",
    "plot_convergence_error(error_vectors, labels)"
   ]
  },
  {
   "cell_type": "code",
   "execution_count": 1019,
   "id": "05362722",
   "metadata": {},
   "outputs": [
    {
     "name": "stdout",
     "output_type": "stream",
     "text": [
      "1×20 adjoint(::Vector{Float64}) with eltype Float64:\n",
      " 2.38158  -2.88769  -2.87955  -2.98102  -3.05232  -3.08695  -3.10288  -3.10819  -3.11  -3.11073  -3.11073  -3.11073  -3.11073  -3.11073  -3.11073  -3.11073  -3.11073  -3.11073  -3.11073  -3.11073"
     ]
    }
   ],
   "source": [
    "# σ_2\n",
    "show(stdout, \"text/plain\", results[2, 1, :]')"
   ]
  },
  {
   "cell_type": "code",
   "execution_count": 1020,
   "id": "d819f534",
   "metadata": {},
   "outputs": [
    {
     "name": "stdout",
     "output_type": "stream",
     "text": [
      "1×20 adjoint(::Vector{Float64}) with eltype Float64:\n",
      " -1.39699  -2.59299  -2.67706  -2.55824  -2.49206  -2.46262  -2.44959  -2.44532  -2.44388  -2.4433  -2.4433  -2.4433  -2.4433  -2.4433  -2.4433  -2.4433  -2.4433  -2.4433  -2.4433  -2.4433"
     ]
    }
   ],
   "source": [
    "# σ_3\n",
    "show(stdout, \"text/plain\", results[2, 2, :]')"
   ]
  },
  {
   "cell_type": "code",
   "execution_count": 1021,
   "id": "c46fa999",
   "metadata": {},
   "outputs": [
    {
     "name": "stdout",
     "output_type": "stream",
     "text": [
      "1×20 adjoint(::Vector{Float64}) with eltype Float64:\n",
      " -1.97484  1.19014  1.15156  1.20436  1.25184  1.28478  1.31855  1.31855  1.31855  1.31855  1.31855  1.31855  1.31855  1.31855  1.31855  1.31855  1.31855  1.31855  1.31855  1.31855"
     ]
    }
   ],
   "source": [
    "# σ_4\n",
    "show(stdout, \"text/plain\", results[2, 3, :]')"
   ]
  },
  {
   "cell_type": "code",
   "execution_count": 1022,
   "id": "56d199f1",
   "metadata": {},
   "outputs": [
    {
     "name": "stdout",
     "output_type": "stream",
     "text": [
      "1×20 adjoint(::Vector{Float64}) with eltype Float64:\n",
      " -0.582516  0.715327  1.21527  1.17608  1.13162  1.1026  1.07435  1.07435  1.07435  1.07435  1.07435  1.07435  1.07435  1.07435  1.07435  1.07435  1.07435  1.07435  1.07435  1.07435"
     ]
    }
   ],
   "source": [
    "# σ_5\n",
    "show(stdout, \"text/plain\", results[2, 4, :]')"
   ]
  },
  {
   "cell_type": "code",
   "execution_count": 1023,
   "id": "9ae74165",
   "metadata": {},
   "outputs": [
    {
     "name": "stdout",
     "output_type": "stream",
     "text": [
      "1×20 adjoint(::Vector{Float64}) with eltype Float64:\n",
      " 1.20527  -0.431724  -0.237094  -0.233608  -0.233557  -0.233557  -0.233557  -0.233557  -0.233557  -0.233557  -0.233557  -0.233557  -0.233557  -0.233557  -0.233557  -0.233557  -0.233557  -0.233557  -0.233557  -0.233557"
     ]
    }
   ],
   "source": [
    "# σ_6\n",
    "show(stdout, \"text/plain\", results[2, 5, :]')"
   ]
  },
  {
   "cell_type": "code",
   "execution_count": 1024,
   "id": "345906ad",
   "metadata": {},
   "outputs": [
    {
     "name": "stdout",
     "output_type": "stream",
     "text": [
      "1×20 adjoint(::Vector{Float64}) with eltype Float64:\n",
      " 0.440102  0.440363  0.440363  0.440363  0.440363  0.440363  0.440363  0.440363  0.440363  0.440363  0.440363  0.440363  0.440363  0.440363  0.440363  0.440363  0.440363  0.440363  0.440363  0.440363"
     ]
    }
   ],
   "source": [
    "# σ_7\n",
    "show(stdout, \"text/plain\", results[2, 6, :]')"
   ]
  },
  {
   "cell_type": "code",
   "execution_count": 1025,
   "id": "97deb2f4",
   "metadata": {},
   "outputs": [
    {
     "data": {
      "text/plain": [
       "7×7 Matrix{Float64}:\n",
       " 4.3516   0.0       0.0     0.0      0.0       0.0       0.0\n",
       " 0.0     -3.11073   0.0     0.0      0.0       0.0       0.0\n",
       " 0.0      0.0      -2.4433  0.0      0.0       0.0       0.0\n",
       " 0.0      0.0       0.0     1.31855  0.0       0.0       0.0\n",
       " 0.0      0.0       0.0     0.0      1.07435   0.0       0.0\n",
       " 0.0      0.0       0.0     0.0      0.0      -0.233557  0.0\n",
       " 0.0      0.0       0.0     0.0      0.0       0.0       0.440363"
      ]
     },
     "execution_count": 1025,
     "metadata": {},
     "output_type": "execute_result"
    }
   ],
   "source": [
    "S"
   ]
  },
  {
   "cell_type": "markdown",
   "id": "8c73abb3",
   "metadata": {},
   "source": [
    "### Rectangular 9 x 7"
   ]
  },
  {
   "cell_type": "code",
   "execution_count": 1026,
   "id": "27caf84a",
   "metadata": {},
   "outputs": [
    {
     "data": {
      "text/plain": [
       "9×7 Matrix{Float64}:\n",
       "  0.543105   -0.278273    1.29883    …   0.563661    0.0556868  -0.0439231\n",
       "  0.891825   -0.759537   -0.407143      -0.437829   -1.17603     0.991998\n",
       "  1.0386      0.0997983  -0.180994      -0.107601   -1.68721    -1.32035\n",
       " -1.24854    -0.223681    2.46235        0.469211    0.420167   -1.30332\n",
       " -1.14996     0.158933   -0.0515083      0.323799   -1.85297     0.43316\n",
       " -0.353496    1.79451     0.534322   …  -0.0453961   0.232003    0.028331\n",
       "  0.875255   -0.110205    0.376168       2.85106     0.678114    2.2774\n",
       "  0.0281053   0.0143283  -1.60362       -0.206587   -0.557265   -0.163481\n",
       "  0.519704    0.461953    0.424803      -1.31291     2.156       0.848169"
      ]
     },
     "execution_count": 1026,
     "metadata": {},
     "output_type": "execute_result"
    }
   ],
   "source": [
    "A = randn(9, 7)"
   ]
  },
  {
   "cell_type": "code",
   "execution_count": 1027,
   "id": "39a9cf1f",
   "metadata": {},
   "outputs": [],
   "source": [
    "U, S, V, results = svd_num(A, 20, true);"
   ]
  },
  {
   "cell_type": "code",
   "execution_count": 1028,
   "id": "81e9a12f",
   "metadata": {},
   "outputs": [
    {
     "name": "stdout",
     "output_type": "stream",
     "text": [
      "1.761596244971605e-15"
     ]
    }
   ],
   "source": [
    "show(stdout, \"text/plain\", opnorm(U * S * V' - A, 1)/opnorm(A, 1))"
   ]
  },
  {
   "cell_type": "code",
   "execution_count": 1029,
   "id": "1479be04",
   "metadata": {},
   "outputs": [
    {
     "data": {
      "application/vnd.plotly.v1+json": {
       "config": {
        "editable": false,
        "responsive": true,
        "scrollZoom": true,
        "showLink": false,
        "staticPlot": false
       },
       "data": [
        {
         "line": {
          "shape": "linear"
         },
         "marker": {
          "color": 1
         },
         "mode": "lines+markers",
         "name": "σ2",
         "type": "scatter",
         "x": [
          1,
          2,
          3,
          4,
          5,
          6,
          7,
          8,
          9,
          10,
          11,
          12,
          13,
          14,
          15,
          16,
          17,
          18,
          19,
          20
         ],
         "y": [
          1.8369186886808708,
          1.4667577486498646,
          0.8681426525792356,
          0.897163569856148,
          1.0250723846586511,
          0.8548288750540037,
          0.5932979500888191,
          0.37364331778999677,
          0.24099435697020655,
          0.1534845391381154,
          0.042817550675257256,
          0.011893814881693924,
          5.117306704169038e-07,
          1.863345177510406e-18,
          1.863345177510406e-18,
          1.863345177510406e-18,
          1.863345177510406e-18,
          1.863345177510406e-18,
          1.863345177510406e-18,
          1.863345177510406e-18
         ]
        },
        {
         "line": {
          "shape": "linear"
         },
         "marker": {
          "color": 2
         },
         "mode": "lines+markers",
         "name": "σ3",
         "type": "scatter",
         "x": [
          1,
          2,
          3,
          4,
          5,
          6,
          7,
          8,
          9,
          10,
          11,
          12,
          13,
          14,
          15,
          16,
          17,
          18,
          19,
          20
         ],
         "y": [
          1.860279354937089,
          4.016320535164592,
          3.5119938322107624,
          1.4323265251381585,
          0.515030297602082,
          0.21731602462361868,
          0.08460744753680831,
          0.056514038424483375,
          0.04330493080455794,
          0.03350874968902818,
          6.488335685568681e-07,
          8.459272514993481e-18,
          8.4591571728484e-18,
          8.459157182772636e-18,
          8.459157182772636e-18,
          8.459157182772636e-18,
          8.459157182772636e-18,
          8.459157182772636e-18,
          8.459157182772636e-18,
          8.459157182772636e-18
         ]
        },
        {
         "line": {
          "shape": "linear"
         },
         "marker": {
          "color": 3
         },
         "mode": "lines+markers",
         "name": "σ4",
         "type": "scatter",
         "x": [
          1,
          2,
          3,
          4,
          5,
          6,
          7,
          8,
          9,
          10,
          11,
          12,
          13,
          14,
          15,
          16,
          17,
          18,
          19,
          20
         ],
         "y": [
          3.9947814392729786,
          2.643324837620419,
          2.952326705231929,
          3.112761022911766,
          3.071794764785342,
          2.8896112313940083,
          1.3037694473561192,
          0.3513679311235168,
          9.963430133359792e-07,
          3.601248846437418e-17,
          3.600140289541679e-17,
          3.600140345638099e-17,
          3.600140345638099e-17,
          3.600140345638099e-17,
          3.600140345638099e-17,
          3.600140345638099e-17,
          3.600140345638099e-17,
          3.600140345638099e-17,
          3.600140345638099e-17,
          3.600140345638099e-17
         ]
        },
        {
         "line": {
          "shape": "linear"
         },
         "marker": {
          "color": 4
         },
         "mode": "lines+markers",
         "name": "σ5",
         "type": "scatter",
         "x": [
          1,
          2,
          3,
          4,
          5,
          6,
          7,
          8,
          9,
          10,
          11,
          12,
          13,
          14,
          15,
          16,
          17,
          18,
          19,
          20
         ],
         "y": [
          2.455073638720574,
          1.0116290703644557,
          0.08252163892859188,
          0.01947663043548005,
          0.009273359795102387,
          0.004661625178421734,
          4.265519642789424e-09,
          2.678420019411239e-17,
          2.6775643694497607e-17,
          2.677564373635161e-17,
          2.677564373635161e-17,
          2.677564373635161e-17,
          2.677564373635161e-17,
          2.677564373635161e-17,
          2.677564373635161e-17,
          2.677564373635161e-17,
          2.677564373635161e-17,
          2.677564373635161e-17,
          2.677564373635161e-17,
          2.677564373635161e-17
         ]
        },
        {
         "line": {
          "shape": "linear"
         },
         "marker": {
          "color": 5
         },
         "mode": "lines+markers",
         "name": "σ6",
         "type": "scatter",
         "x": [
          1,
          2,
          3,
          4,
          5,
          6,
          7,
          8,
          9,
          10,
          11,
          12,
          13,
          14,
          15,
          16,
          17,
          18,
          19,
          20
         ],
         "y": [
          0.147890247576136,
          0.13282384981884293,
          0.5447335239398233,
          0.39102033693554483,
          8.866670557325718e-07,
          2.5139662469594315e-15,
          2.513941946044956e-15,
          2.5139419460752253e-15,
          2.5139419460752253e-15,
          2.5139419460752253e-15,
          2.5139419460752253e-15,
          2.5139419460752253e-15,
          2.5139419460752253e-15,
          2.5139419460752253e-15,
          2.5139419460752253e-15,
          2.5139419460752253e-15,
          2.5139419460752253e-15,
          2.5139419460752253e-15,
          2.5139419460752253e-15,
          2.5139419460752253e-15
         ]
        },
        {
         "line": {
          "shape": "linear"
         },
         "marker": {
          "color": 6
         },
         "mode": "lines+markers",
         "name": "σ7",
         "type": "scatter",
         "x": [
          1,
          2,
          3,
          4,
          5,
          6,
          7,
          8,
          9,
          10,
          11,
          12,
          13,
          14,
          15,
          16,
          17,
          18,
          19,
          20
         ],
         "y": [
          0.3566195692146097,
          0.00043291915525507364,
          4.861409250922679e-12,
          8.429233168516366e-18,
          8.098108277998913e-18,
          8.098106480112463e-18,
          8.098106480112463e-18,
          8.098106480112463e-18,
          8.098106480112463e-18,
          8.098106480112463e-18,
          8.098106480112463e-18,
          8.098106480112463e-18,
          8.098106480112463e-18,
          8.098106480112463e-18,
          8.098106480112463e-18,
          8.098106480112463e-18,
          8.098106480112463e-18,
          8.098106480112463e-18,
          8.098106480112463e-18,
          8.098106480112463e-18
         ]
        }
       ],
       "frames": [],
       "layout": {
        "margin": {
         "b": 50,
         "l": 50,
         "r": 50,
         "t": 60
        },
        "showlegend": true,
        "template": {
         "data": {
          "bar": [
           {
            "error_x": {
             "color": "#2a3f5f"
            },
            "error_y": {
             "color": "#2a3f5f"
            },
            "marker": {
             "line": {
              "color": "#E5ECF6",
              "width": 0.5
             }
            },
            "type": "bar"
           }
          ],
          "barpolar": [
           {
            "marker": {
             "line": {
              "color": "#E5ECF6",
              "width": 0.5
             }
            },
            "type": "barpolar"
           }
          ],
          "carpet": [
           {
            "aaxis": {
             "endlinecolor": "#2a3f5f",
             "gridcolor": "white",
             "linecolor": "white",
             "minorgridcolor": "white",
             "startlinecolor": "#2a3f5f"
            },
            "baxis": {
             "endlinecolor": "#2a3f5f",
             "gridcolor": "white",
             "linecolor": "white",
             "minorgridcolor": "white",
             "startlinecolor": "#2a3f5f"
            },
            "type": "carpet"
           }
          ],
          "choropleth": [
           {
            "colorbar": {
             "outlinewidth": 0,
             "ticks": ""
            },
            "type": "choropleth"
           }
          ],
          "contour": [
           {
            "colorbar": {
             "outlinewidth": 0,
             "ticks": ""
            },
            "colorscale": [
             [
              0,
              "#0d0887"
             ],
             [
              0.1111111111111111,
              "#46039f"
             ],
             [
              0.2222222222222222,
              "#7201a8"
             ],
             [
              0.3333333333333333,
              "#9c179e"
             ],
             [
              0.4444444444444444,
              "#bd3786"
             ],
             [
              0.5555555555555556,
              "#d8576b"
             ],
             [
              0.6666666666666666,
              "#ed7953"
             ],
             [
              0.7777777777777778,
              "#fb9f3a"
             ],
             [
              0.8888888888888888,
              "#fdca26"
             ],
             [
              1,
              "#f0f921"
             ]
            ],
            "type": "contour"
           }
          ],
          "contourcarpet": [
           {
            "colorbar": {
             "outlinewidth": 0,
             "ticks": ""
            },
            "type": "contourcarpet"
           }
          ],
          "heatmap": [
           {
            "colorbar": {
             "outlinewidth": 0,
             "ticks": ""
            },
            "colorscale": [
             [
              0,
              "#0d0887"
             ],
             [
              0.1111111111111111,
              "#46039f"
             ],
             [
              0.2222222222222222,
              "#7201a8"
             ],
             [
              0.3333333333333333,
              "#9c179e"
             ],
             [
              0.4444444444444444,
              "#bd3786"
             ],
             [
              0.5555555555555556,
              "#d8576b"
             ],
             [
              0.6666666666666666,
              "#ed7953"
             ],
             [
              0.7777777777777778,
              "#fb9f3a"
             ],
             [
              0.8888888888888888,
              "#fdca26"
             ],
             [
              1,
              "#f0f921"
             ]
            ],
            "type": "heatmap"
           }
          ],
          "heatmapgl": [
           {
            "colorbar": {
             "outlinewidth": 0,
             "ticks": ""
            },
            "colorscale": [
             [
              0,
              "#0d0887"
             ],
             [
              0.1111111111111111,
              "#46039f"
             ],
             [
              0.2222222222222222,
              "#7201a8"
             ],
             [
              0.3333333333333333,
              "#9c179e"
             ],
             [
              0.4444444444444444,
              "#bd3786"
             ],
             [
              0.5555555555555556,
              "#d8576b"
             ],
             [
              0.6666666666666666,
              "#ed7953"
             ],
             [
              0.7777777777777778,
              "#fb9f3a"
             ],
             [
              0.8888888888888888,
              "#fdca26"
             ],
             [
              1,
              "#f0f921"
             ]
            ],
            "type": "heatmapgl"
           }
          ],
          "histogram": [
           {
            "marker": {
             "colorbar": {
              "outlinewidth": 0,
              "ticks": ""
             }
            },
            "type": "histogram"
           }
          ],
          "histogram2d": [
           {
            "colorbar": {
             "outlinewidth": 0,
             "ticks": ""
            },
            "colorscale": [
             [
              0,
              "#0d0887"
             ],
             [
              0.1111111111111111,
              "#46039f"
             ],
             [
              0.2222222222222222,
              "#7201a8"
             ],
             [
              0.3333333333333333,
              "#9c179e"
             ],
             [
              0.4444444444444444,
              "#bd3786"
             ],
             [
              0.5555555555555556,
              "#d8576b"
             ],
             [
              0.6666666666666666,
              "#ed7953"
             ],
             [
              0.7777777777777778,
              "#fb9f3a"
             ],
             [
              0.8888888888888888,
              "#fdca26"
             ],
             [
              1,
              "#f0f921"
             ]
            ],
            "type": "histogram2d"
           }
          ],
          "histogram2dcontour": [
           {
            "colorbar": {
             "outlinewidth": 0,
             "ticks": ""
            },
            "colorscale": [
             [
              0,
              "#0d0887"
             ],
             [
              0.1111111111111111,
              "#46039f"
             ],
             [
              0.2222222222222222,
              "#7201a8"
             ],
             [
              0.3333333333333333,
              "#9c179e"
             ],
             [
              0.4444444444444444,
              "#bd3786"
             ],
             [
              0.5555555555555556,
              "#d8576b"
             ],
             [
              0.6666666666666666,
              "#ed7953"
             ],
             [
              0.7777777777777778,
              "#fb9f3a"
             ],
             [
              0.8888888888888888,
              "#fdca26"
             ],
             [
              1,
              "#f0f921"
             ]
            ],
            "type": "histogram2dcontour"
           }
          ],
          "mesh3d": [
           {
            "colorbar": {
             "outlinewidth": 0,
             "ticks": ""
            },
            "type": "mesh3d"
           }
          ],
          "parcoords": [
           {
            "line": {
             "colorbar": {
              "outlinewidth": 0,
              "ticks": ""
             }
            },
            "type": "parcoords"
           }
          ],
          "pie": [
           {
            "automargin": true,
            "type": "pie"
           }
          ],
          "scatter": [
           {
            "marker": {
             "colorbar": {
              "outlinewidth": 0,
              "ticks": ""
             }
            },
            "type": "scatter"
           }
          ],
          "scatter3d": [
           {
            "line": {
             "colorbar": {
              "outlinewidth": 0,
              "ticks": ""
             }
            },
            "marker": {
             "colorbar": {
              "outlinewidth": 0,
              "ticks": ""
             }
            },
            "type": "scatter3d"
           }
          ],
          "scattercarpet": [
           {
            "marker": {
             "colorbar": {
              "outlinewidth": 0,
              "ticks": ""
             }
            },
            "type": "scattercarpet"
           }
          ],
          "scattergeo": [
           {
            "marker": {
             "colorbar": {
              "outlinewidth": 0,
              "ticks": ""
             }
            },
            "type": "scattergeo"
           }
          ],
          "scattergl": [
           {
            "marker": {
             "colorbar": {
              "outlinewidth": 0,
              "ticks": ""
             }
            },
            "type": "scattergl"
           }
          ],
          "scattermapbox": [
           {
            "marker": {
             "colorbar": {
              "outlinewidth": 0,
              "ticks": ""
             }
            },
            "type": "scattermapbox"
           }
          ],
          "scatterpolar": [
           {
            "marker": {
             "colorbar": {
              "outlinewidth": 0,
              "ticks": ""
             }
            },
            "type": "scatterpolar"
           }
          ],
          "scatterpolargl": [
           {
            "marker": {
             "colorbar": {
              "outlinewidth": 0,
              "ticks": ""
             }
            },
            "type": "scatterpolargl"
           }
          ],
          "scatterternary": [
           {
            "marker": {
             "colorbar": {
              "outlinewidth": 0,
              "ticks": ""
             }
            },
            "type": "scatterternary"
           }
          ],
          "surface": [
           {
            "colorbar": {
             "outlinewidth": 0,
             "ticks": ""
            },
            "colorscale": [
             [
              0,
              "#0d0887"
             ],
             [
              0.1111111111111111,
              "#46039f"
             ],
             [
              0.2222222222222222,
              "#7201a8"
             ],
             [
              0.3333333333333333,
              "#9c179e"
             ],
             [
              0.4444444444444444,
              "#bd3786"
             ],
             [
              0.5555555555555556,
              "#d8576b"
             ],
             [
              0.6666666666666666,
              "#ed7953"
             ],
             [
              0.7777777777777778,
              "#fb9f3a"
             ],
             [
              0.8888888888888888,
              "#fdca26"
             ],
             [
              1,
              "#f0f921"
             ]
            ],
            "type": "surface"
           }
          ],
          "table": [
           {
            "cells": {
             "fill": {
              "color": "#EBF0F8"
             },
             "line": {
              "color": "white"
             }
            },
            "header": {
             "fill": {
              "color": "#C8D4E3"
             },
             "line": {
              "color": "white"
             }
            },
            "type": "table"
           }
          ]
         },
         "layout": {
          "annotationdefaults": {
           "arrowcolor": "#2a3f5f",
           "arrowhead": 0,
           "arrowwidth": 1
          },
          "autotypenumbers": "strict",
          "coloraxis": {
           "colorbar": {
            "outlinewidth": 0,
            "ticks": ""
           }
          },
          "colorscale": {
           "diverging": [
            [
             0,
             "#8e0152"
            ],
            [
             0.1,
             "#c51b7d"
            ],
            [
             0.2,
             "#de77ae"
            ],
            [
             0.3,
             "#f1b6da"
            ],
            [
             0.4,
             "#fde0ef"
            ],
            [
             0.5,
             "#f7f7f7"
            ],
            [
             0.6,
             "#e6f5d0"
            ],
            [
             0.7,
             "#b8e186"
            ],
            [
             0.8,
             "#7fbc41"
            ],
            [
             0.9,
             "#4d9221"
            ],
            [
             1,
             "#276419"
            ]
           ],
           "sequential": [
            [
             0,
             "#0d0887"
            ],
            [
             0.1111111111111111,
             "#46039f"
            ],
            [
             0.2222222222222222,
             "#7201a8"
            ],
            [
             0.3333333333333333,
             "#9c179e"
            ],
            [
             0.4444444444444444,
             "#bd3786"
            ],
            [
             0.5555555555555556,
             "#d8576b"
            ],
            [
             0.6666666666666666,
             "#ed7953"
            ],
            [
             0.7777777777777778,
             "#fb9f3a"
            ],
            [
             0.8888888888888888,
             "#fdca26"
            ],
            [
             1,
             "#f0f921"
            ]
           ],
           "sequentialminus": [
            [
             0,
             "#0d0887"
            ],
            [
             0.1111111111111111,
             "#46039f"
            ],
            [
             0.2222222222222222,
             "#7201a8"
            ],
            [
             0.3333333333333333,
             "#9c179e"
            ],
            [
             0.4444444444444444,
             "#bd3786"
            ],
            [
             0.5555555555555556,
             "#d8576b"
            ],
            [
             0.6666666666666666,
             "#ed7953"
            ],
            [
             0.7777777777777778,
             "#fb9f3a"
            ],
            [
             0.8888888888888888,
             "#fdca26"
            ],
            [
             1,
             "#f0f921"
            ]
           ]
          },
          "colorway": [
           "#636efa",
           "#EF553B",
           "#00cc96",
           "#ab63fa",
           "#FFA15A",
           "#19d3f3",
           "#FF6692",
           "#B6E880",
           "#FF97FF",
           "#FECB52"
          ],
          "font": {
           "color": "#2a3f5f"
          },
          "geo": {
           "bgcolor": "white",
           "lakecolor": "white",
           "landcolor": "#E5ECF6",
           "showlakes": true,
           "showland": true,
           "subunitcolor": "white"
          },
          "hoverlabel": {
           "align": "left"
          },
          "hovermode": "closest",
          "mapbox": {
           "style": "light"
          },
          "paper_bgcolor": "white",
          "plot_bgcolor": "#E5ECF6",
          "polar": {
           "angularaxis": {
            "gridcolor": "white",
            "linecolor": "white",
            "ticks": ""
           },
           "bgcolor": "#E5ECF6",
           "radialaxis": {
            "gridcolor": "white",
            "linecolor": "white",
            "ticks": ""
           }
          },
          "scene": {
           "xaxis": {
            "backgroundcolor": "#E5ECF6",
            "gridcolor": "white",
            "gridwidth": 2,
            "linecolor": "white",
            "showbackground": true,
            "ticks": "",
            "zerolinecolor": "white"
           },
           "yaxis": {
            "backgroundcolor": "#E5ECF6",
            "gridcolor": "white",
            "gridwidth": 2,
            "linecolor": "white",
            "showbackground": true,
            "ticks": "",
            "zerolinecolor": "white"
           },
           "zaxis": {
            "backgroundcolor": "#E5ECF6",
            "gridcolor": "white",
            "gridwidth": 2,
            "linecolor": "white",
            "showbackground": true,
            "ticks": "",
            "zerolinecolor": "white"
           }
          },
          "shapedefaults": {
           "line": {
            "color": "#2a3f5f"
           }
          },
          "ternary": {
           "aaxis": {
            "gridcolor": "white",
            "linecolor": "white",
            "ticks": ""
           },
           "baxis": {
            "gridcolor": "white",
            "linecolor": "white",
            "ticks": ""
           },
           "bgcolor": "#E5ECF6",
           "caxis": {
            "gridcolor": "white",
            "linecolor": "white",
            "ticks": ""
           }
          },
          "title": {
           "x": 0.05
          },
          "xaxis": {
           "automargin": true,
           "gridcolor": "white",
           "linecolor": "white",
           "ticks": "",
           "title": {
            "standoff": 15
           },
           "zerolinecolor": "white",
           "zerolinewidth": 2
          },
          "yaxis": {
           "automargin": true,
           "gridcolor": "white",
           "linecolor": "white",
           "ticks": "",
           "title": {
            "standoff": 15
           },
           "zerolinecolor": "white",
           "zerolinewidth": 2
          }
         }
        },
        "title": "Value of element above diagonal σ_i",
        "xaxis": {
         "title": {
          "text": "Iteration"
         }
        },
        "yaxis": {
         "tickformat": "e",
         "title": {
          "text": "Error"
         },
         "type": "log"
        }
       }
      },
      "text/html": [
       "<div\n",
       "    class=\"webio-mountpoint\"\n",
       "    data-webio-mountpoint=\"2788125856219323\"\n",
       ">\n",
       "    <script>\n",
       "    (function(){\n",
       "    // Some integrations (namely, IJulia/Jupyter) use an alternate render pathway than\n",
       "    // just putting the html on the page. If WebIO isn't defined, then it's pretty likely\n",
       "    // that we're in one of those situations and the integration just isn't installed\n",
       "    // correctly.\n",
       "    if (typeof window.WebIO === \"undefined\") {\n",
       "        document\n",
       "            .querySelector('[data-webio-mountpoint=\"2788125856219323\"]')\n",
       "            .innerHTML = (\n",
       "                '<div style=\"padding: 1em; background-color: #f8d6da; border: 1px solid #f5c6cb; font-weight: bold;\">' +\n",
       "                '<p><strong>WebIO not detected.</strong></p>' +\n",
       "                '<p>Please read ' +\n",
       "                '<a href=\"https://juliagizmos.github.io/WebIO.jl/latest/troubleshooting/not-detected/\" target=\"_blank\">the troubleshooting guide</a> ' +\n",
       "                'for more information on how to resolve this issue.</p>' +\n",
       "                '<p><a href=\"https://juliagizmos.github.io/WebIO.jl/latest/troubleshooting/not-detected/\" target=\"_blank\">https://juliagizmos.github.io/WebIO.jl/latest/troubleshooting/not-detected/</a></p>' +\n",
       "                '</div>'\n",
       "            );\n",
       "        return;\n",
       "    }\n",
       "    WebIO.mount(\n",
       "        document.querySelector('[data-webio-mountpoint=\"2788125856219323\"]'),\n",
       "        {\"props\":{},\"nodeType\":\"Scope\",\"type\":\"node\",\"instanceArgs\":{\"imports\":{\"data\":[{\"name\":\"Plotly\",\"type\":\"js\",\"url\":\"\\/assetserver\\/d6feb8d8ce4676ebdde817a0745950a35b4ba3ae-plotly.min.js\"},{\"name\":null,\"type\":\"js\",\"url\":\"\\/assetserver\\/46c9ff4df7c73b5875052df387368a00f6cfc484-plotly_webio.bundle.js\"}],\"type\":\"async_block\"},\"id\":\"8645912884610808139\",\"handlers\":{\"_toImage\":[\"(function (options){return this.Plotly.toImage(this.plotElem,options).then((function (data){return WebIO.setval({\\\"name\\\":\\\"image\\\",\\\"scope\\\":\\\"8645912884610808139\\\",\\\"id\\\":\\\"595\\\",\\\"type\\\":\\\"observable\\\"},data)}))})\"],\"__get_gd_contents\":[\"(function (prop){prop==\\\"data\\\" ? (WebIO.setval({\\\"name\\\":\\\"__gd_contents\\\",\\\"scope\\\":\\\"8645912884610808139\\\",\\\"id\\\":\\\"596\\\",\\\"type\\\":\\\"observable\\\"},this.plotElem.data)) : undefined; return prop==\\\"layout\\\" ? (WebIO.setval({\\\"name\\\":\\\"__gd_contents\\\",\\\"scope\\\":\\\"8645912884610808139\\\",\\\"id\\\":\\\"596\\\",\\\"type\\\":\\\"observable\\\"},this.plotElem.layout)) : undefined})\"],\"_downloadImage\":[\"(function (options){return this.Plotly.downloadImage(this.plotElem,options)})\"],\"_commands\":[\"(function (args){var fn=args.shift(); var elem=this.plotElem; var Plotly=this.Plotly; args.unshift(elem); return Plotly[fn].apply(this,args)})\"]},\"systemjs_options\":null,\"mount_callbacks\":[\"function () {\\n    var handler = ((function (Plotly,PlotlyWebIO){PlotlyWebIO.init(WebIO); var gd=this.dom.querySelector(\\\"#plot-6a19e192-8739-4e1e-b47f-9509af46fa18\\\"); this.plotElem=gd; this.Plotly=Plotly; (window.Blink!==undefined) ? (gd.style.width=\\\"100%\\\", gd.style.height=\\\"100vh\\\", gd.style.marginLeft=\\\"0%\\\", gd.style.marginTop=\\\"0vh\\\") : undefined; window.onresize=(function (){return Plotly.Plots.resize(gd)}); Plotly.newPlot(gd,[{\\\"x\\\":[1,2,3,4,5,6,7,8,9,10,11,12,13,14,15,16,17,18,19,20],\\\"mode\\\":\\\"lines+markers\\\",\\\"line\\\":{\\\"shape\\\":\\\"linear\\\"},\\\"y\\\":[1.8369186886808708,1.4667577486498646,0.8681426525792356,0.897163569856148,1.0250723846586511,0.8548288750540037,0.5932979500888191,0.37364331778999677,0.24099435697020655,0.1534845391381154,0.042817550675257256,0.011893814881693924,5.117306704169038e-7,1.863345177510406e-18,1.863345177510406e-18,1.863345177510406e-18,1.863345177510406e-18,1.863345177510406e-18,1.863345177510406e-18,1.863345177510406e-18],\\\"type\\\":\\\"scatter\\\",\\\"name\\\":\\\"σ2\\\",\\\"marker\\\":{\\\"color\\\":1}},{\\\"x\\\":[1,2,3,4,5,6,7,8,9,10,11,12,13,14,15,16,17,18,19,20],\\\"mode\\\":\\\"lines+markers\\\",\\\"line\\\":{\\\"shape\\\":\\\"linear\\\"},\\\"y\\\":[1.860279354937089,4.016320535164592,3.5119938322107624,1.4323265251381585,0.515030297602082,0.21731602462361868,0.08460744753680831,0.056514038424483375,0.04330493080455794,0.03350874968902818,6.488335685568681e-7,8.459272514993481e-18,8.4591571728484e-18,8.459157182772636e-18,8.459157182772636e-18,8.459157182772636e-18,8.459157182772636e-18,8.459157182772636e-18,8.459157182772636e-18,8.459157182772636e-18],\\\"type\\\":\\\"scatter\\\",\\\"name\\\":\\\"σ3\\\",\\\"marker\\\":{\\\"color\\\":2}},{\\\"x\\\":[1,2,3,4,5,6,7,8,9,10,11,12,13,14,15,16,17,18,19,20],\\\"mode\\\":\\\"lines+markers\\\",\\\"line\\\":{\\\"shape\\\":\\\"linear\\\"},\\\"y\\\":[3.9947814392729786,2.643324837620419,2.952326705231929,3.112761022911766,3.071794764785342,2.8896112313940083,1.3037694473561192,0.3513679311235168,9.963430133359792e-7,3.601248846437418e-17,3.600140289541679e-17,3.600140345638099e-17,3.600140345638099e-17,3.600140345638099e-17,3.600140345638099e-17,3.600140345638099e-17,3.600140345638099e-17,3.600140345638099e-17,3.600140345638099e-17,3.600140345638099e-17],\\\"type\\\":\\\"scatter\\\",\\\"name\\\":\\\"σ4\\\",\\\"marker\\\":{\\\"color\\\":3}},{\\\"x\\\":[1,2,3,4,5,6,7,8,9,10,11,12,13,14,15,16,17,18,19,20],\\\"mode\\\":\\\"lines+markers\\\",\\\"line\\\":{\\\"shape\\\":\\\"linear\\\"},\\\"y\\\":[2.455073638720574,1.0116290703644557,0.08252163892859188,0.01947663043548005,0.009273359795102387,0.004661625178421734,4.265519642789424e-9,2.678420019411239e-17,2.6775643694497607e-17,2.677564373635161e-17,2.677564373635161e-17,2.677564373635161e-17,2.677564373635161e-17,2.677564373635161e-17,2.677564373635161e-17,2.677564373635161e-17,2.677564373635161e-17,2.677564373635161e-17,2.677564373635161e-17,2.677564373635161e-17],\\\"type\\\":\\\"scatter\\\",\\\"name\\\":\\\"σ5\\\",\\\"marker\\\":{\\\"color\\\":4}},{\\\"x\\\":[1,2,3,4,5,6,7,8,9,10,11,12,13,14,15,16,17,18,19,20],\\\"mode\\\":\\\"lines+markers\\\",\\\"line\\\":{\\\"shape\\\":\\\"linear\\\"},\\\"y\\\":[0.147890247576136,0.13282384981884293,0.5447335239398233,0.39102033693554483,8.866670557325718e-7,2.5139662469594315e-15,2.513941946044956e-15,2.5139419460752253e-15,2.5139419460752253e-15,2.5139419460752253e-15,2.5139419460752253e-15,2.5139419460752253e-15,2.5139419460752253e-15,2.5139419460752253e-15,2.5139419460752253e-15,2.5139419460752253e-15,2.5139419460752253e-15,2.5139419460752253e-15,2.5139419460752253e-15,2.5139419460752253e-15],\\\"type\\\":\\\"scatter\\\",\\\"name\\\":\\\"σ6\\\",\\\"marker\\\":{\\\"color\\\":5}},{\\\"x\\\":[1,2,3,4,5,6,7,8,9,10,11,12,13,14,15,16,17,18,19,20],\\\"mode\\\":\\\"lines+markers\\\",\\\"line\\\":{\\\"shape\\\":\\\"linear\\\"},\\\"y\\\":[0.3566195692146097,0.00043291915525507364,4.861409250922679e-12,8.429233168516366e-18,8.098108277998913e-18,8.098106480112463e-18,8.098106480112463e-18,8.098106480112463e-18,8.098106480112463e-18,8.098106480112463e-18,8.098106480112463e-18,8.098106480112463e-18,8.098106480112463e-18,8.098106480112463e-18,8.098106480112463e-18,8.098106480112463e-18,8.098106480112463e-18,8.098106480112463e-18,8.098106480112463e-18,8.098106480112463e-18],\\\"type\\\":\\\"scatter\\\",\\\"name\\\":\\\"σ7\\\",\\\"marker\\\":{\\\"color\\\":6}}],{\\\"showlegend\\\":true,\\\"xaxis\\\":{\\\"title\\\":{\\\"text\\\":\\\"Iteration\\\"}},\\\"template\\\":{\\\"layout\\\":{\\\"coloraxis\\\":{\\\"colorbar\\\":{\\\"ticks\\\":\\\"\\\",\\\"outlinewidth\\\":0}},\\\"xaxis\\\":{\\\"gridcolor\\\":\\\"white\\\",\\\"zerolinewidth\\\":2,\\\"title\\\":{\\\"standoff\\\":15},\\\"ticks\\\":\\\"\\\",\\\"zerolinecolor\\\":\\\"white\\\",\\\"automargin\\\":true,\\\"linecolor\\\":\\\"white\\\"},\\\"hovermode\\\":\\\"closest\\\",\\\"paper_bgcolor\\\":\\\"white\\\",\\\"geo\\\":{\\\"showlakes\\\":true,\\\"showland\\\":true,\\\"landcolor\\\":\\\"#E5ECF6\\\",\\\"bgcolor\\\":\\\"white\\\",\\\"subunitcolor\\\":\\\"white\\\",\\\"lakecolor\\\":\\\"white\\\"},\\\"colorscale\\\":{\\\"sequential\\\":[[0.0,\\\"#0d0887\\\"],[0.1111111111111111,\\\"#46039f\\\"],[0.2222222222222222,\\\"#7201a8\\\"],[0.3333333333333333,\\\"#9c179e\\\"],[0.4444444444444444,\\\"#bd3786\\\"],[0.5555555555555556,\\\"#d8576b\\\"],[0.6666666666666666,\\\"#ed7953\\\"],[0.7777777777777778,\\\"#fb9f3a\\\"],[0.8888888888888888,\\\"#fdca26\\\"],[1.0,\\\"#f0f921\\\"]],\\\"diverging\\\":[[0,\\\"#8e0152\\\"],[0.1,\\\"#c51b7d\\\"],[0.2,\\\"#de77ae\\\"],[0.3,\\\"#f1b6da\\\"],[0.4,\\\"#fde0ef\\\"],[0.5,\\\"#f7f7f7\\\"],[0.6,\\\"#e6f5d0\\\"],[0.7,\\\"#b8e186\\\"],[0.8,\\\"#7fbc41\\\"],[0.9,\\\"#4d9221\\\"],[1,\\\"#276419\\\"]],\\\"sequentialminus\\\":[[0.0,\\\"#0d0887\\\"],[0.1111111111111111,\\\"#46039f\\\"],[0.2222222222222222,\\\"#7201a8\\\"],[0.3333333333333333,\\\"#9c179e\\\"],[0.4444444444444444,\\\"#bd3786\\\"],[0.5555555555555556,\\\"#d8576b\\\"],[0.6666666666666666,\\\"#ed7953\\\"],[0.7777777777777778,\\\"#fb9f3a\\\"],[0.8888888888888888,\\\"#fdca26\\\"],[1.0,\\\"#f0f921\\\"]]},\\\"yaxis\\\":{\\\"gridcolor\\\":\\\"white\\\",\\\"zerolinewidth\\\":2,\\\"title\\\":{\\\"standoff\\\":15},\\\"ticks\\\":\\\"\\\",\\\"zerolinecolor\\\":\\\"white\\\",\\\"automargin\\\":true,\\\"linecolor\\\":\\\"white\\\"},\\\"shapedefaults\\\":{\\\"line\\\":{\\\"color\\\":\\\"#2a3f5f\\\"}},\\\"hoverlabel\\\":{\\\"align\\\":\\\"left\\\"},\\\"mapbox\\\":{\\\"style\\\":\\\"light\\\"},\\\"polar\\\":{\\\"angularaxis\\\":{\\\"gridcolor\\\":\\\"white\\\",\\\"ticks\\\":\\\"\\\",\\\"linecolor\\\":\\\"white\\\"},\\\"bgcolor\\\":\\\"#E5ECF6\\\",\\\"radialaxis\\\":{\\\"gridcolor\\\":\\\"white\\\",\\\"ticks\\\":\\\"\\\",\\\"linecolor\\\":\\\"white\\\"}},\\\"autotypenumbers\\\":\\\"strict\\\",\\\"font\\\":{\\\"color\\\":\\\"#2a3f5f\\\"},\\\"ternary\\\":{\\\"baxis\\\":{\\\"gridcolor\\\":\\\"white\\\",\\\"ticks\\\":\\\"\\\",\\\"linecolor\\\":\\\"white\\\"},\\\"bgcolor\\\":\\\"#E5ECF6\\\",\\\"caxis\\\":{\\\"gridcolor\\\":\\\"white\\\",\\\"ticks\\\":\\\"\\\",\\\"linecolor\\\":\\\"white\\\"},\\\"aaxis\\\":{\\\"gridcolor\\\":\\\"white\\\",\\\"ticks\\\":\\\"\\\",\\\"linecolor\\\":\\\"white\\\"}},\\\"annotationdefaults\\\":{\\\"arrowhead\\\":0,\\\"arrowwidth\\\":1,\\\"arrowcolor\\\":\\\"#2a3f5f\\\"},\\\"plot_bgcolor\\\":\\\"#E5ECF6\\\",\\\"title\\\":{\\\"x\\\":0.05},\\\"scene\\\":{\\\"xaxis\\\":{\\\"gridcolor\\\":\\\"white\\\",\\\"gridwidth\\\":2,\\\"backgroundcolor\\\":\\\"#E5ECF6\\\",\\\"ticks\\\":\\\"\\\",\\\"showbackground\\\":true,\\\"zerolinecolor\\\":\\\"white\\\",\\\"linecolor\\\":\\\"white\\\"},\\\"zaxis\\\":{\\\"gridcolor\\\":\\\"white\\\",\\\"gridwidth\\\":2,\\\"backgroundcolor\\\":\\\"#E5ECF6\\\",\\\"ticks\\\":\\\"\\\",\\\"showbackground\\\":true,\\\"zerolinecolor\\\":\\\"white\\\",\\\"linecolor\\\":\\\"white\\\"},\\\"yaxis\\\":{\\\"gridcolor\\\":\\\"white\\\",\\\"gridwidth\\\":2,\\\"backgroundcolor\\\":\\\"#E5ECF6\\\",\\\"ticks\\\":\\\"\\\",\\\"showbackground\\\":true,\\\"zerolinecolor\\\":\\\"white\\\",\\\"linecolor\\\":\\\"white\\\"}},\\\"colorway\\\":[\\\"#636efa\\\",\\\"#EF553B\\\",\\\"#00cc96\\\",\\\"#ab63fa\\\",\\\"#FFA15A\\\",\\\"#19d3f3\\\",\\\"#FF6692\\\",\\\"#B6E880\\\",\\\"#FF97FF\\\",\\\"#FECB52\\\"]},\\\"data\\\":{\\\"barpolar\\\":[{\\\"type\\\":\\\"barpolar\\\",\\\"marker\\\":{\\\"line\\\":{\\\"color\\\":\\\"#E5ECF6\\\",\\\"width\\\":0.5}}}],\\\"carpet\\\":[{\\\"aaxis\\\":{\\\"gridcolor\\\":\\\"white\\\",\\\"endlinecolor\\\":\\\"#2a3f5f\\\",\\\"minorgridcolor\\\":\\\"white\\\",\\\"startlinecolor\\\":\\\"#2a3f5f\\\",\\\"linecolor\\\":\\\"white\\\"},\\\"type\\\":\\\"carpet\\\",\\\"baxis\\\":{\\\"gridcolor\\\":\\\"white\\\",\\\"endlinecolor\\\":\\\"#2a3f5f\\\",\\\"minorgridcolor\\\":\\\"white\\\",\\\"startlinecolor\\\":\\\"#2a3f5f\\\",\\\"linecolor\\\":\\\"white\\\"}}],\\\"scatterpolar\\\":[{\\\"type\\\":\\\"scatterpolar\\\",\\\"marker\\\":{\\\"colorbar\\\":{\\\"ticks\\\":\\\"\\\",\\\"outlinewidth\\\":0}}}],\\\"parcoords\\\":[{\\\"line\\\":{\\\"colorbar\\\":{\\\"ticks\\\":\\\"\\\",\\\"outlinewidth\\\":0}},\\\"type\\\":\\\"parcoords\\\"}],\\\"scatter\\\":[{\\\"type\\\":\\\"scatter\\\",\\\"marker\\\":{\\\"colorbar\\\":{\\\"ticks\\\":\\\"\\\",\\\"outlinewidth\\\":0}}}],\\\"histogram2dcontour\\\":[{\\\"colorbar\\\":{\\\"ticks\\\":\\\"\\\",\\\"outlinewidth\\\":0},\\\"type\\\":\\\"histogram2dcontour\\\",\\\"colorscale\\\":[[0.0,\\\"#0d0887\\\"],[0.1111111111111111,\\\"#46039f\\\"],[0.2222222222222222,\\\"#7201a8\\\"],[0.3333333333333333,\\\"#9c179e\\\"],[0.4444444444444444,\\\"#bd3786\\\"],[0.5555555555555556,\\\"#d8576b\\\"],[0.6666666666666666,\\\"#ed7953\\\"],[0.7777777777777778,\\\"#fb9f3a\\\"],[0.8888888888888888,\\\"#fdca26\\\"],[1.0,\\\"#f0f921\\\"]]}],\\\"contour\\\":[{\\\"colorbar\\\":{\\\"ticks\\\":\\\"\\\",\\\"outlinewidth\\\":0},\\\"type\\\":\\\"contour\\\",\\\"colorscale\\\":[[0.0,\\\"#0d0887\\\"],[0.1111111111111111,\\\"#46039f\\\"],[0.2222222222222222,\\\"#7201a8\\\"],[0.3333333333333333,\\\"#9c179e\\\"],[0.4444444444444444,\\\"#bd3786\\\"],[0.5555555555555556,\\\"#d8576b\\\"],[0.6666666666666666,\\\"#ed7953\\\"],[0.7777777777777778,\\\"#fb9f3a\\\"],[0.8888888888888888,\\\"#fdca26\\\"],[1.0,\\\"#f0f921\\\"]]}],\\\"scattercarpet\\\":[{\\\"type\\\":\\\"scattercarpet\\\",\\\"marker\\\":{\\\"colorbar\\\":{\\\"ticks\\\":\\\"\\\",\\\"outlinewidth\\\":0}}}],\\\"mesh3d\\\":[{\\\"colorbar\\\":{\\\"ticks\\\":\\\"\\\",\\\"outlinewidth\\\":0},\\\"type\\\":\\\"mesh3d\\\"}],\\\"surface\\\":[{\\\"colorbar\\\":{\\\"ticks\\\":\\\"\\\",\\\"outlinewidth\\\":0},\\\"type\\\":\\\"surface\\\",\\\"colorscale\\\":[[0.0,\\\"#0d0887\\\"],[0.1111111111111111,\\\"#46039f\\\"],[0.2222222222222222,\\\"#7201a8\\\"],[0.3333333333333333,\\\"#9c179e\\\"],[0.4444444444444444,\\\"#bd3786\\\"],[0.5555555555555556,\\\"#d8576b\\\"],[0.6666666666666666,\\\"#ed7953\\\"],[0.7777777777777778,\\\"#fb9f3a\\\"],[0.8888888888888888,\\\"#fdca26\\\"],[1.0,\\\"#f0f921\\\"]]}],\\\"scattermapbox\\\":[{\\\"type\\\":\\\"scattermapbox\\\",\\\"marker\\\":{\\\"colorbar\\\":{\\\"ticks\\\":\\\"\\\",\\\"outlinewidth\\\":0}}}],\\\"scattergeo\\\":[{\\\"type\\\":\\\"scattergeo\\\",\\\"marker\\\":{\\\"colorbar\\\":{\\\"ticks\\\":\\\"\\\",\\\"outlinewidth\\\":0}}}],\\\"histogram\\\":[{\\\"type\\\":\\\"histogram\\\",\\\"marker\\\":{\\\"colorbar\\\":{\\\"ticks\\\":\\\"\\\",\\\"outlinewidth\\\":0}}}],\\\"pie\\\":[{\\\"type\\\":\\\"pie\\\",\\\"automargin\\\":true}],\\\"choropleth\\\":[{\\\"colorbar\\\":{\\\"ticks\\\":\\\"\\\",\\\"outlinewidth\\\":0},\\\"type\\\":\\\"choropleth\\\"}],\\\"heatmapgl\\\":[{\\\"colorbar\\\":{\\\"ticks\\\":\\\"\\\",\\\"outlinewidth\\\":0},\\\"type\\\":\\\"heatmapgl\\\",\\\"colorscale\\\":[[0.0,\\\"#0d0887\\\"],[0.1111111111111111,\\\"#46039f\\\"],[0.2222222222222222,\\\"#7201a8\\\"],[0.3333333333333333,\\\"#9c179e\\\"],[0.4444444444444444,\\\"#bd3786\\\"],[0.5555555555555556,\\\"#d8576b\\\"],[0.6666666666666666,\\\"#ed7953\\\"],[0.7777777777777778,\\\"#fb9f3a\\\"],[0.8888888888888888,\\\"#fdca26\\\"],[1.0,\\\"#f0f921\\\"]]}],\\\"bar\\\":[{\\\"type\\\":\\\"bar\\\",\\\"error_y\\\":{\\\"color\\\":\\\"#2a3f5f\\\"},\\\"error_x\\\":{\\\"color\\\":\\\"#2a3f5f\\\"},\\\"marker\\\":{\\\"line\\\":{\\\"color\\\":\\\"#E5ECF6\\\",\\\"width\\\":0.5}}}],\\\"heatmap\\\":[{\\\"colorbar\\\":{\\\"ticks\\\":\\\"\\\",\\\"outlinewidth\\\":0},\\\"type\\\":\\\"heatmap\\\",\\\"colorscale\\\":[[0.0,\\\"#0d0887\\\"],[0.1111111111111111,\\\"#46039f\\\"],[0.2222222222222222,\\\"#7201a8\\\"],[0.3333333333333333,\\\"#9c179e\\\"],[0.4444444444444444,\\\"#bd3786\\\"],[0.5555555555555556,\\\"#d8576b\\\"],[0.6666666666666666,\\\"#ed7953\\\"],[0.7777777777777778,\\\"#fb9f3a\\\"],[0.8888888888888888,\\\"#fdca26\\\"],[1.0,\\\"#f0f921\\\"]]}],\\\"contourcarpet\\\":[{\\\"colorbar\\\":{\\\"ticks\\\":\\\"\\\",\\\"outlinewidth\\\":0},\\\"type\\\":\\\"contourcarpet\\\"}],\\\"table\\\":[{\\\"type\\\":\\\"table\\\",\\\"header\\\":{\\\"line\\\":{\\\"color\\\":\\\"white\\\"},\\\"fill\\\":{\\\"color\\\":\\\"#C8D4E3\\\"}},\\\"cells\\\":{\\\"line\\\":{\\\"color\\\":\\\"white\\\"},\\\"fill\\\":{\\\"color\\\":\\\"#EBF0F8\\\"}}}],\\\"scatter3d\\\":[{\\\"line\\\":{\\\"colorbar\\\":{\\\"ticks\\\":\\\"\\\",\\\"outlinewidth\\\":0}},\\\"type\\\":\\\"scatter3d\\\",\\\"marker\\\":{\\\"colorbar\\\":{\\\"ticks\\\":\\\"\\\",\\\"outlinewidth\\\":0}}}],\\\"scattergl\\\":[{\\\"type\\\":\\\"scattergl\\\",\\\"marker\\\":{\\\"colorbar\\\":{\\\"ticks\\\":\\\"\\\",\\\"outlinewidth\\\":0}}}],\\\"histogram2d\\\":[{\\\"colorbar\\\":{\\\"ticks\\\":\\\"\\\",\\\"outlinewidth\\\":0},\\\"type\\\":\\\"histogram2d\\\",\\\"colorscale\\\":[[0.0,\\\"#0d0887\\\"],[0.1111111111111111,\\\"#46039f\\\"],[0.2222222222222222,\\\"#7201a8\\\"],[0.3333333333333333,\\\"#9c179e\\\"],[0.4444444444444444,\\\"#bd3786\\\"],[0.5555555555555556,\\\"#d8576b\\\"],[0.6666666666666666,\\\"#ed7953\\\"],[0.7777777777777778,\\\"#fb9f3a\\\"],[0.8888888888888888,\\\"#fdca26\\\"],[1.0,\\\"#f0f921\\\"]]}],\\\"scatterternary\\\":[{\\\"type\\\":\\\"scatterternary\\\",\\\"marker\\\":{\\\"colorbar\\\":{\\\"ticks\\\":\\\"\\\",\\\"outlinewidth\\\":0}}}],\\\"scatterpolargl\\\":[{\\\"type\\\":\\\"scatterpolargl\\\",\\\"marker\\\":{\\\"colorbar\\\":{\\\"ticks\\\":\\\"\\\",\\\"outlinewidth\\\":0}}}]}},\\\"margin\\\":{\\\"l\\\":50,\\\"b\\\":50,\\\"r\\\":50,\\\"t\\\":60},\\\"title\\\":\\\"Value of element above diagonal σ_i\\\",\\\"yaxis\\\":{\\\"type\\\":\\\"log\\\",\\\"title\\\":{\\\"text\\\":\\\"Error\\\"},\\\"tickformat\\\":\\\"e\\\"}},{\\\"showLink\\\":false,\\\"editable\\\":false,\\\"responsive\\\":true,\\\"staticPlot\\\":false,\\\"scrollZoom\\\":true}); gd.on(\\\"plotly_hover\\\",(function (data){var filtered_data=WebIO.PlotlyCommands.filterEventData(gd,data,\\\"hover\\\"); return !(filtered_data.isnil) ? (WebIO.setval({\\\"name\\\":\\\"hover\\\",\\\"scope\\\":\\\"8645912884610808139\\\",\\\"id\\\":\\\"591\\\",\\\"type\\\":\\\"observable\\\"},filtered_data.out)) : undefined})); gd.on(\\\"plotly_unhover\\\",(function (){return WebIO.setval({\\\"name\\\":\\\"hover\\\",\\\"scope\\\":\\\"8645912884610808139\\\",\\\"id\\\":\\\"591\\\",\\\"type\\\":\\\"observable\\\"},{})})); gd.on(\\\"plotly_selected\\\",(function (data){var filtered_data=WebIO.PlotlyCommands.filterEventData(gd,data,\\\"selected\\\"); return !(filtered_data.isnil) ? (WebIO.setval({\\\"name\\\":\\\"selected\\\",\\\"scope\\\":\\\"8645912884610808139\\\",\\\"id\\\":\\\"592\\\",\\\"type\\\":\\\"observable\\\"},filtered_data.out)) : undefined})); gd.on(\\\"plotly_deselect\\\",(function (){return WebIO.setval({\\\"name\\\":\\\"selected\\\",\\\"scope\\\":\\\"8645912884610808139\\\",\\\"id\\\":\\\"592\\\",\\\"type\\\":\\\"observable\\\"},{})})); gd.on(\\\"plotly_relayout\\\",(function (data){var filtered_data=WebIO.PlotlyCommands.filterEventData(gd,data,\\\"relayout\\\"); return !(filtered_data.isnil) ? (WebIO.setval({\\\"name\\\":\\\"relayout\\\",\\\"scope\\\":\\\"8645912884610808139\\\",\\\"id\\\":\\\"594\\\",\\\"type\\\":\\\"observable\\\"},filtered_data.out)) : undefined})); return gd.on(\\\"plotly_click\\\",(function (data){var filtered_data=WebIO.PlotlyCommands.filterEventData(gd,data,\\\"click\\\"); return !(filtered_data.isnil) ? (WebIO.setval({\\\"name\\\":\\\"click\\\",\\\"scope\\\":\\\"8645912884610808139\\\",\\\"id\\\":\\\"593\\\",\\\"type\\\":\\\"observable\\\"},filtered_data.out)) : undefined}))}));\\n    (WebIO.importBlock({\\\"data\\\":[{\\\"name\\\":\\\"Plotly\\\",\\\"type\\\":\\\"js\\\",\\\"url\\\":\\\"\\/assetserver\\/d6feb8d8ce4676ebdde817a0745950a35b4ba3ae-plotly.min.js\\\"},{\\\"name\\\":null,\\\"type\\\":\\\"js\\\",\\\"url\\\":\\\"\\/assetserver\\/46c9ff4df7c73b5875052df387368a00f6cfc484-plotly_webio.bundle.js\\\"}],\\\"type\\\":\\\"async_block\\\"})).then((imports) => handler.apply(this, imports));\\n}\\n\"],\"observables\":{\"_toImage\":{\"sync\":false,\"id\":\"598\",\"value\":{}},\"hover\":{\"sync\":false,\"id\":\"591\",\"value\":{}},\"selected\":{\"sync\":false,\"id\":\"592\",\"value\":{}},\"__gd_contents\":{\"sync\":false,\"id\":\"596\",\"value\":{}},\"click\":{\"sync\":false,\"id\":\"593\",\"value\":{}},\"image\":{\"sync\":true,\"id\":\"595\",\"value\":\"\"},\"__get_gd_contents\":{\"sync\":false,\"id\":\"600\",\"value\":\"\"},\"_downloadImage\":{\"sync\":false,\"id\":\"599\",\"value\":{}},\"relayout\":{\"sync\":false,\"id\":\"594\",\"value\":{}},\"_commands\":{\"sync\":false,\"id\":\"597\",\"value\":[]}}},\"children\":[{\"props\":{\"id\":\"plot-6a19e192-8739-4e1e-b47f-9509af46fa18\"},\"nodeType\":\"DOM\",\"type\":\"node\",\"instanceArgs\":{\"namespace\":\"html\",\"tag\":\"div\"},\"children\":[]}]},\n",
       "        window,\n",
       "    );\n",
       "    })()\n",
       "    </script>\n",
       "</div>\n"
      ],
      "text/plain": [
       "data: [\n",
       "  \"scatter with fields line, marker, mode, name, type, x, and y\",\n",
       "  \"scatter with fields line, marker, mode, name, type, x, and y\",\n",
       "  \"scatter with fields line, marker, mode, name, type, x, and y\",\n",
       "  \"scatter with fields line, marker, mode, name, type, x, and y\",\n",
       "  \"scatter with fields line, marker, mode, name, type, x, and y\",\n",
       "  \"scatter with fields line, marker, mode, name, type, x, and y\"\n",
       "]\n",
       "\n",
       "layout: \"layout with fields margin, showlegend, template, title, xaxis, and yaxis\"\n",
       "\n"
      ]
     },
     "execution_count": 1029,
     "metadata": {},
     "output_type": "execute_result"
    }
   ],
   "source": [
    "error_vectors = [\n",
    "    abs.(results[1, 1, :]),\n",
    "    abs.(results[1, 2, :]),\n",
    "    abs.(results[1, 3, :]),\n",
    "    abs.(results[1, 4, :]),\n",
    "    abs.(results[1, 5, :]),\n",
    "    abs.(results[1, 6, :])\n",
    "]\n",
    "labels = [\"σ2\", \"σ3\", \"σ4\", \"σ5\", \"σ6\", \"σ7\"]\n",
    "plot_convergence_error(error_vectors, labels)"
   ]
  },
  {
   "cell_type": "code",
   "execution_count": 1030,
   "id": "df187797",
   "metadata": {},
   "outputs": [
    {
     "name": "stdout",
     "output_type": "stream",
     "text": [
      "1×20 adjoint(::Vector{Float64}) with eltype Float64:\n",
      " -2.74954  -1.36689  3.18962  4.46064  4.38672  4.14458  4.02487  3.97226  3.95406  3.94674  3.94258  3.94221  3.94217  3.94217  3.94217  3.94217  3.94217  3.94217  3.94217  3.94217"
     ]
    }
   ],
   "source": [
    "# σ_2\n",
    "show(stdout, \"text/plain\", results[2, 1, :]')"
   ]
  },
  {
   "cell_type": "code",
   "execution_count": 1031,
   "id": "9a719726",
   "metadata": {},
   "outputs": [
    {
     "name": "stdout",
     "output_type": "stream",
     "text": [
      "1×20 adjoint(::Vector{Float64}) with eltype Float64:\n",
      " -1.43981  -1.99232  -1.07638  -1.09722  1.41046  -1.84408  -3.22263  -3.4605  -3.47788  -3.47751  -3.47694  -3.47694  -3.47694  -3.47694  -3.47694  -3.47694  -3.47694  -3.47694  -3.47694  -3.47694"
     ]
    }
   ],
   "source": [
    "# σ_3\n",
    "show(stdout, \"text/plain\", results[2, 2, :]')"
   ]
  },
  {
   "cell_type": "code",
   "execution_count": 1032,
   "id": "fcaad9fa",
   "metadata": {},
   "outputs": [
    {
     "name": "stdout",
     "output_type": "stream",
     "text": [
      "1×20 adjoint(::Vector{Float64}) with eltype Float64:\n",
      " -2.02716  2.65288  -1.92991  -1.28982  0.954642  -0.724644  -0.413921  -0.385305  -0.383309  -0.383309  -0.383309  -0.383309  -0.383309  -0.383309  -0.383309  -0.383309  -0.383309  -0.383309  -0.383309  -0.383309"
     ]
    }
   ],
   "source": [
    "# σ_4\n",
    "show(stdout, \"text/plain\", results[2, 3, :]')"
   ]
  },
  {
   "cell_type": "code",
   "execution_count": 1033,
   "id": "1f6bd205",
   "metadata": {},
   "outputs": [
    {
     "name": "stdout",
     "output_type": "stream",
     "text": [
      "1×20 adjoint(::Vector{Float64}) with eltype Float64:\n",
      " 2.92383  -2.21839  -2.07921  -1.64906  -1.594  -1.59402  -1.59403  -1.59403  -1.59403  -1.59403  -1.59403  -1.59403  -1.59403  -1.59403  -1.59403  -1.59403  -1.59403  -1.59403  -1.59403  -1.59403"
     ]
    }
   ],
   "source": [
    "# σ_5\n",
    "show(stdout, \"text/plain\", results[2, 4, :]')"
   ]
  },
  {
   "cell_type": "code",
   "execution_count": 1034,
   "id": "3af660e5",
   "metadata": {},
   "outputs": [
    {
     "name": "stdout",
     "output_type": "stream",
     "text": [
      "1×20 adjoint(::Vector{Float64}) with eltype Float64:\n",
      " -1.64704  -1.59843  -1.72108  -2.171  -2.2461  -2.2461  -2.2461  -2.2461  -2.2461  -2.2461  -2.2461  -2.2461  -2.2461  -2.2461  -2.2461  -2.2461  -2.2461  -2.2461  -2.2461  -2.2461"
     ]
    }
   ],
   "source": [
    "# σ_6\n",
    "show(stdout, \"text/plain\", results[2, 5, :]')"
   ]
  },
  {
   "cell_type": "code",
   "execution_count": 1035,
   "id": "bc6fb460",
   "metadata": {},
   "outputs": [
    {
     "name": "stdout",
     "output_type": "stream",
     "text": [
      "1×20 adjoint(::Vector{Float64}) with eltype Float64:\n",
      " -2.0899  -2.16115  -2.16115  -2.16115  -2.16115  -2.16115  -2.16115  -2.16115  -2.16115  -2.16115  -2.16115  -2.16115  -2.16115  -2.16115  -2.16115  -2.16115  -2.16115  -2.16115  -2.16115  -2.16115"
     ]
    }
   ],
   "source": [
    "# σ_7\n",
    "show(stdout, \"text/plain\", results[2, 6, :]')"
   ]
  },
  {
   "cell_type": "code",
   "execution_count": 1036,
   "id": "53439d20",
   "metadata": {},
   "outputs": [
    {
     "data": {
      "text/plain": [
       "9×7 Matrix{Float64}:\n",
       " -4.95178  0.0       0.0       0.0        0.0       0.0      0.0\n",
       "  0.0      3.94217   0.0       0.0        0.0       0.0      0.0\n",
       "  0.0      0.0      -3.47694   0.0        0.0       0.0      0.0\n",
       "  0.0      0.0       0.0      -0.383309   0.0       0.0      0.0\n",
       "  0.0      0.0       0.0       0.0       -1.59403   0.0      0.0\n",
       "  0.0      0.0       0.0       0.0        0.0      -2.2461   0.0\n",
       "  0.0      0.0       0.0       0.0        0.0       0.0     -2.16115\n",
       "  0.0      0.0       0.0       0.0        0.0       0.0      0.0\n",
       "  0.0      0.0       0.0       0.0        0.0       0.0      0.0"
      ]
     },
     "execution_count": 1036,
     "metadata": {},
     "output_type": "execute_result"
    }
   ],
   "source": [
    "S"
   ]
  },
  {
   "cell_type": "markdown",
   "id": "7edea586",
   "metadata": {},
   "source": [
    "### Rectangular 7 x 9"
   ]
  },
  {
   "cell_type": "code",
   "execution_count": 1037,
   "id": "022bafbb",
   "metadata": {},
   "outputs": [
    {
     "data": {
      "text/plain": [
       "7×9 Matrix{Float64}:\n",
       "  1.15242   -0.613381    0.484037  …   1.00148   -0.135562   0.599141\n",
       "  0.549875   0.0444981   1.07999      -1.87375    0.577872  -2.08652\n",
       " -0.337832  -0.162021    0.182423      0.935028   0.8517     1.15197\n",
       " -0.143251  -0.279768    0.538681      0.58682   -0.493972  -0.213476\n",
       "  0.397573   1.48991    -0.727834     -2.30472   -0.222902  -0.48914\n",
       " -0.990749   0.501166    0.82382   …  -0.670944  -1.69145   -0.4325\n",
       "  1.11269   -1.18263    -0.178186      1.54898    1.81868    0.697078"
      ]
     },
     "execution_count": 1037,
     "metadata": {},
     "output_type": "execute_result"
    }
   ],
   "source": [
    "A = randn(7, 9)"
   ]
  },
  {
   "cell_type": "code",
   "execution_count": 1038,
   "id": "bd92fe59",
   "metadata": {},
   "outputs": [],
   "source": [
    "U, S, V, results = svd_num(A, 20, true);"
   ]
  },
  {
   "cell_type": "code",
   "execution_count": 1039,
   "id": "830aad45",
   "metadata": {},
   "outputs": [
    {
     "name": "stdout",
     "output_type": "stream",
     "text": [
      "1.4167541439889405e-14"
     ]
    }
   ],
   "source": [
    "show(stdout, \"text/plain\", opnorm(U * S * V' - A, 1)/opnorm(A, 1))"
   ]
  },
  {
   "cell_type": "code",
   "execution_count": 1040,
   "id": "68de8cf4",
   "metadata": {},
   "outputs": [
    {
     "data": {
      "application/vnd.plotly.v1+json": {
       "config": {
        "editable": false,
        "responsive": true,
        "scrollZoom": true,
        "showLink": false,
        "staticPlot": false
       },
       "data": [
        {
         "line": {
          "shape": "linear"
         },
         "marker": {
          "color": 1
         },
         "mode": "lines+markers",
         "name": "σ2",
         "type": "scatter",
         "x": [
          1,
          2,
          3,
          4,
          5,
          6,
          7,
          8,
          9,
          10,
          11,
          12,
          13,
          14,
          15,
          16,
          17,
          18,
          19,
          20
         ],
         "y": [
          3.2362444788515123,
          1.7134660120636662,
          0.5384374395036823,
          0.18230147322367043,
          0.06974841908650342,
          0.0335303525391767,
          0.01666339614088045,
          0.008976108220243747,
          0.004837552573988011,
          0.0017821201823851607,
          0.0006565189652012124,
          0.00037562104828883623,
          1.104175613629004e-11,
          8.320002042285512e-20,
          8.320002042285512e-20,
          8.320002042285512e-20,
          8.320002042285512e-20,
          8.320002042285512e-20,
          8.320002042285512e-20,
          8.320002042285512e-20
         ]
        },
        {
         "line": {
          "shape": "linear"
         },
         "marker": {
          "color": 2
         },
         "mode": "lines+markers",
         "name": "σ3",
         "type": "scatter",
         "x": [
          1,
          2,
          3,
          4,
          5,
          6,
          7,
          8,
          9,
          10,
          11,
          12,
          13,
          14,
          15,
          16,
          17,
          18,
          19,
          20
         ],
         "y": [
          2.1297703250483035,
          2.8059034573029233,
          2.999630282317464,
          2.565449674057801,
          1.1046404215866452,
          0.39025626038464684,
          0.1337661358410004,
          0.019346487940832952,
          0.002964672501046498,
          0.003579424176194725,
          0.004626980483407665,
          1.918220198945287e-16,
          1.9182201825979718e-16,
          1.9182201825979728e-16,
          1.9182201825979728e-16,
          1.9182201825979728e-16,
          1.9182201825979728e-16,
          1.9182201825979728e-16,
          1.9182201825979728e-16,
          1.9182201825979728e-16
         ]
        },
        {
         "line": {
          "shape": "linear"
         },
         "marker": {
          "color": 3
         },
         "mode": "lines+markers",
         "name": "σ4",
         "type": "scatter",
         "x": [
          1,
          2,
          3,
          4,
          5,
          6,
          7,
          8,
          9,
          10,
          11,
          12,
          13,
          14,
          15,
          16,
          17,
          18,
          19,
          20
         ],
         "y": [
          2.1674144695457755,
          1.3800887208557637,
          0.9133489302907063,
          0.6445824727636107,
          0.4209868238710025,
          0.3647061028110995,
          0.40103529483694644,
          1.235482681813165,
          2.2933174901651805,
          1.4793783725800535e-06,
          2.968339860570401e-16,
          2.968339805085553e-16,
          2.968339805085553e-16,
          2.968339805085553e-16,
          2.968339805085553e-16,
          2.968339805085553e-16,
          2.968339805085553e-16,
          2.968339805085553e-16,
          2.968339805085553e-16,
          2.968339805085553e-16
         ]
        },
        {
         "line": {
          "shape": "linear"
         },
         "marker": {
          "color": 4
         },
         "mode": "lines+markers",
         "name": "σ5",
         "type": "scatter",
         "x": [
          1,
          2,
          3,
          4,
          5,
          6,
          7,
          8,
          9,
          10,
          11,
          12,
          13,
          14,
          15,
          16,
          17,
          18,
          19,
          20
         ],
         "y": [
          1.8570240913900593,
          1.6789452596841863,
          1.5043073718871034,
          1.182607293773723,
          1.499183903481212,
          1.0293627638340594,
          0.49070354652267373,
          0.0001628884728797923,
          8.790624513680118e-14,
          4.4936022585026346e-14,
          4.493598346029335e-14,
          4.493598346029335e-14,
          4.493598346029335e-14,
          4.493598346029335e-14,
          4.493598346029335e-14,
          4.493598346029335e-14,
          4.493598346029335e-14,
          4.493598346029335e-14,
          4.493598346029335e-14,
          4.493598346029335e-14
         ]
        },
        {
         "line": {
          "shape": "linear"
         },
         "marker": {
          "color": 5
         },
         "mode": "lines+markers",
         "name": "σ6",
         "type": "scatter",
         "x": [
          1,
          2,
          3,
          4,
          5,
          6,
          7,
          8,
          9,
          10,
          11,
          12,
          13,
          14,
          15,
          16,
          17,
          18,
          19,
          20
         ],
         "y": [
          1.1543482043798234,
          0.8615360166872164,
          0.5711986274820186,
          0.37803094063558446,
          0.011496042406968669,
          1.446936610523965e-06,
          7.477084221945014e-17,
          8.128941981512436e-17,
          8.128418392740968e-17,
          8.128418392740968e-17,
          8.128418392740968e-17,
          8.128418392740968e-17,
          8.128418392740968e-17,
          8.128418392740968e-17,
          8.128418392740968e-17,
          8.128418392740968e-17,
          8.128418392740968e-17,
          8.128418392740968e-17,
          8.128418392740968e-17,
          8.128418392740968e-17
         ]
        },
        {
         "line": {
          "shape": "linear"
         },
         "marker": {
          "color": 6
         },
         "mode": "lines+markers",
         "name": "σ7",
         "type": "scatter",
         "x": [
          1,
          2,
          3,
          4,
          5,
          6,
          7,
          8,
          9,
          10,
          11,
          12,
          13,
          14,
          15,
          16,
          17,
          18,
          19,
          20
         ],
         "y": [
          0.7558423035556718,
          0.045367987328184534,
          1.5447301899824824e-05,
          6.82314615478366e-16,
          6.48417024906653e-16,
          6.500720810807294e-16,
          6.500717728248411e-16,
          6.500717728248411e-16,
          6.500717728248411e-16,
          6.500717728248411e-16,
          6.500717728248411e-16,
          6.500717728248411e-16,
          6.500717728248411e-16,
          6.500717728248411e-16,
          6.500717728248411e-16,
          6.500717728248411e-16,
          6.500717728248411e-16,
          6.500717728248411e-16,
          6.500717728248411e-16,
          6.500717728248411e-16
         ]
        }
       ],
       "frames": [],
       "layout": {
        "margin": {
         "b": 50,
         "l": 50,
         "r": 50,
         "t": 60
        },
        "showlegend": true,
        "template": {
         "data": {
          "bar": [
           {
            "error_x": {
             "color": "#2a3f5f"
            },
            "error_y": {
             "color": "#2a3f5f"
            },
            "marker": {
             "line": {
              "color": "#E5ECF6",
              "width": 0.5
             }
            },
            "type": "bar"
           }
          ],
          "barpolar": [
           {
            "marker": {
             "line": {
              "color": "#E5ECF6",
              "width": 0.5
             }
            },
            "type": "barpolar"
           }
          ],
          "carpet": [
           {
            "aaxis": {
             "endlinecolor": "#2a3f5f",
             "gridcolor": "white",
             "linecolor": "white",
             "minorgridcolor": "white",
             "startlinecolor": "#2a3f5f"
            },
            "baxis": {
             "endlinecolor": "#2a3f5f",
             "gridcolor": "white",
             "linecolor": "white",
             "minorgridcolor": "white",
             "startlinecolor": "#2a3f5f"
            },
            "type": "carpet"
           }
          ],
          "choropleth": [
           {
            "colorbar": {
             "outlinewidth": 0,
             "ticks": ""
            },
            "type": "choropleth"
           }
          ],
          "contour": [
           {
            "colorbar": {
             "outlinewidth": 0,
             "ticks": ""
            },
            "colorscale": [
             [
              0,
              "#0d0887"
             ],
             [
              0.1111111111111111,
              "#46039f"
             ],
             [
              0.2222222222222222,
              "#7201a8"
             ],
             [
              0.3333333333333333,
              "#9c179e"
             ],
             [
              0.4444444444444444,
              "#bd3786"
             ],
             [
              0.5555555555555556,
              "#d8576b"
             ],
             [
              0.6666666666666666,
              "#ed7953"
             ],
             [
              0.7777777777777778,
              "#fb9f3a"
             ],
             [
              0.8888888888888888,
              "#fdca26"
             ],
             [
              1,
              "#f0f921"
             ]
            ],
            "type": "contour"
           }
          ],
          "contourcarpet": [
           {
            "colorbar": {
             "outlinewidth": 0,
             "ticks": ""
            },
            "type": "contourcarpet"
           }
          ],
          "heatmap": [
           {
            "colorbar": {
             "outlinewidth": 0,
             "ticks": ""
            },
            "colorscale": [
             [
              0,
              "#0d0887"
             ],
             [
              0.1111111111111111,
              "#46039f"
             ],
             [
              0.2222222222222222,
              "#7201a8"
             ],
             [
              0.3333333333333333,
              "#9c179e"
             ],
             [
              0.4444444444444444,
              "#bd3786"
             ],
             [
              0.5555555555555556,
              "#d8576b"
             ],
             [
              0.6666666666666666,
              "#ed7953"
             ],
             [
              0.7777777777777778,
              "#fb9f3a"
             ],
             [
              0.8888888888888888,
              "#fdca26"
             ],
             [
              1,
              "#f0f921"
             ]
            ],
            "type": "heatmap"
           }
          ],
          "heatmapgl": [
           {
            "colorbar": {
             "outlinewidth": 0,
             "ticks": ""
            },
            "colorscale": [
             [
              0,
              "#0d0887"
             ],
             [
              0.1111111111111111,
              "#46039f"
             ],
             [
              0.2222222222222222,
              "#7201a8"
             ],
             [
              0.3333333333333333,
              "#9c179e"
             ],
             [
              0.4444444444444444,
              "#bd3786"
             ],
             [
              0.5555555555555556,
              "#d8576b"
             ],
             [
              0.6666666666666666,
              "#ed7953"
             ],
             [
              0.7777777777777778,
              "#fb9f3a"
             ],
             [
              0.8888888888888888,
              "#fdca26"
             ],
             [
              1,
              "#f0f921"
             ]
            ],
            "type": "heatmapgl"
           }
          ],
          "histogram": [
           {
            "marker": {
             "colorbar": {
              "outlinewidth": 0,
              "ticks": ""
             }
            },
            "type": "histogram"
           }
          ],
          "histogram2d": [
           {
            "colorbar": {
             "outlinewidth": 0,
             "ticks": ""
            },
            "colorscale": [
             [
              0,
              "#0d0887"
             ],
             [
              0.1111111111111111,
              "#46039f"
             ],
             [
              0.2222222222222222,
              "#7201a8"
             ],
             [
              0.3333333333333333,
              "#9c179e"
             ],
             [
              0.4444444444444444,
              "#bd3786"
             ],
             [
              0.5555555555555556,
              "#d8576b"
             ],
             [
              0.6666666666666666,
              "#ed7953"
             ],
             [
              0.7777777777777778,
              "#fb9f3a"
             ],
             [
              0.8888888888888888,
              "#fdca26"
             ],
             [
              1,
              "#f0f921"
             ]
            ],
            "type": "histogram2d"
           }
          ],
          "histogram2dcontour": [
           {
            "colorbar": {
             "outlinewidth": 0,
             "ticks": ""
            },
            "colorscale": [
             [
              0,
              "#0d0887"
             ],
             [
              0.1111111111111111,
              "#46039f"
             ],
             [
              0.2222222222222222,
              "#7201a8"
             ],
             [
              0.3333333333333333,
              "#9c179e"
             ],
             [
              0.4444444444444444,
              "#bd3786"
             ],
             [
              0.5555555555555556,
              "#d8576b"
             ],
             [
              0.6666666666666666,
              "#ed7953"
             ],
             [
              0.7777777777777778,
              "#fb9f3a"
             ],
             [
              0.8888888888888888,
              "#fdca26"
             ],
             [
              1,
              "#f0f921"
             ]
            ],
            "type": "histogram2dcontour"
           }
          ],
          "mesh3d": [
           {
            "colorbar": {
             "outlinewidth": 0,
             "ticks": ""
            },
            "type": "mesh3d"
           }
          ],
          "parcoords": [
           {
            "line": {
             "colorbar": {
              "outlinewidth": 0,
              "ticks": ""
             }
            },
            "type": "parcoords"
           }
          ],
          "pie": [
           {
            "automargin": true,
            "type": "pie"
           }
          ],
          "scatter": [
           {
            "marker": {
             "colorbar": {
              "outlinewidth": 0,
              "ticks": ""
             }
            },
            "type": "scatter"
           }
          ],
          "scatter3d": [
           {
            "line": {
             "colorbar": {
              "outlinewidth": 0,
              "ticks": ""
             }
            },
            "marker": {
             "colorbar": {
              "outlinewidth": 0,
              "ticks": ""
             }
            },
            "type": "scatter3d"
           }
          ],
          "scattercarpet": [
           {
            "marker": {
             "colorbar": {
              "outlinewidth": 0,
              "ticks": ""
             }
            },
            "type": "scattercarpet"
           }
          ],
          "scattergeo": [
           {
            "marker": {
             "colorbar": {
              "outlinewidth": 0,
              "ticks": ""
             }
            },
            "type": "scattergeo"
           }
          ],
          "scattergl": [
           {
            "marker": {
             "colorbar": {
              "outlinewidth": 0,
              "ticks": ""
             }
            },
            "type": "scattergl"
           }
          ],
          "scattermapbox": [
           {
            "marker": {
             "colorbar": {
              "outlinewidth": 0,
              "ticks": ""
             }
            },
            "type": "scattermapbox"
           }
          ],
          "scatterpolar": [
           {
            "marker": {
             "colorbar": {
              "outlinewidth": 0,
              "ticks": ""
             }
            },
            "type": "scatterpolar"
           }
          ],
          "scatterpolargl": [
           {
            "marker": {
             "colorbar": {
              "outlinewidth": 0,
              "ticks": ""
             }
            },
            "type": "scatterpolargl"
           }
          ],
          "scatterternary": [
           {
            "marker": {
             "colorbar": {
              "outlinewidth": 0,
              "ticks": ""
             }
            },
            "type": "scatterternary"
           }
          ],
          "surface": [
           {
            "colorbar": {
             "outlinewidth": 0,
             "ticks": ""
            },
            "colorscale": [
             [
              0,
              "#0d0887"
             ],
             [
              0.1111111111111111,
              "#46039f"
             ],
             [
              0.2222222222222222,
              "#7201a8"
             ],
             [
              0.3333333333333333,
              "#9c179e"
             ],
             [
              0.4444444444444444,
              "#bd3786"
             ],
             [
              0.5555555555555556,
              "#d8576b"
             ],
             [
              0.6666666666666666,
              "#ed7953"
             ],
             [
              0.7777777777777778,
              "#fb9f3a"
             ],
             [
              0.8888888888888888,
              "#fdca26"
             ],
             [
              1,
              "#f0f921"
             ]
            ],
            "type": "surface"
           }
          ],
          "table": [
           {
            "cells": {
             "fill": {
              "color": "#EBF0F8"
             },
             "line": {
              "color": "white"
             }
            },
            "header": {
             "fill": {
              "color": "#C8D4E3"
             },
             "line": {
              "color": "white"
             }
            },
            "type": "table"
           }
          ]
         },
         "layout": {
          "annotationdefaults": {
           "arrowcolor": "#2a3f5f",
           "arrowhead": 0,
           "arrowwidth": 1
          },
          "autotypenumbers": "strict",
          "coloraxis": {
           "colorbar": {
            "outlinewidth": 0,
            "ticks": ""
           }
          },
          "colorscale": {
           "diverging": [
            [
             0,
             "#8e0152"
            ],
            [
             0.1,
             "#c51b7d"
            ],
            [
             0.2,
             "#de77ae"
            ],
            [
             0.3,
             "#f1b6da"
            ],
            [
             0.4,
             "#fde0ef"
            ],
            [
             0.5,
             "#f7f7f7"
            ],
            [
             0.6,
             "#e6f5d0"
            ],
            [
             0.7,
             "#b8e186"
            ],
            [
             0.8,
             "#7fbc41"
            ],
            [
             0.9,
             "#4d9221"
            ],
            [
             1,
             "#276419"
            ]
           ],
           "sequential": [
            [
             0,
             "#0d0887"
            ],
            [
             0.1111111111111111,
             "#46039f"
            ],
            [
             0.2222222222222222,
             "#7201a8"
            ],
            [
             0.3333333333333333,
             "#9c179e"
            ],
            [
             0.4444444444444444,
             "#bd3786"
            ],
            [
             0.5555555555555556,
             "#d8576b"
            ],
            [
             0.6666666666666666,
             "#ed7953"
            ],
            [
             0.7777777777777778,
             "#fb9f3a"
            ],
            [
             0.8888888888888888,
             "#fdca26"
            ],
            [
             1,
             "#f0f921"
            ]
           ],
           "sequentialminus": [
            [
             0,
             "#0d0887"
            ],
            [
             0.1111111111111111,
             "#46039f"
            ],
            [
             0.2222222222222222,
             "#7201a8"
            ],
            [
             0.3333333333333333,
             "#9c179e"
            ],
            [
             0.4444444444444444,
             "#bd3786"
            ],
            [
             0.5555555555555556,
             "#d8576b"
            ],
            [
             0.6666666666666666,
             "#ed7953"
            ],
            [
             0.7777777777777778,
             "#fb9f3a"
            ],
            [
             0.8888888888888888,
             "#fdca26"
            ],
            [
             1,
             "#f0f921"
            ]
           ]
          },
          "colorway": [
           "#636efa",
           "#EF553B",
           "#00cc96",
           "#ab63fa",
           "#FFA15A",
           "#19d3f3",
           "#FF6692",
           "#B6E880",
           "#FF97FF",
           "#FECB52"
          ],
          "font": {
           "color": "#2a3f5f"
          },
          "geo": {
           "bgcolor": "white",
           "lakecolor": "white",
           "landcolor": "#E5ECF6",
           "showlakes": true,
           "showland": true,
           "subunitcolor": "white"
          },
          "hoverlabel": {
           "align": "left"
          },
          "hovermode": "closest",
          "mapbox": {
           "style": "light"
          },
          "paper_bgcolor": "white",
          "plot_bgcolor": "#E5ECF6",
          "polar": {
           "angularaxis": {
            "gridcolor": "white",
            "linecolor": "white",
            "ticks": ""
           },
           "bgcolor": "#E5ECF6",
           "radialaxis": {
            "gridcolor": "white",
            "linecolor": "white",
            "ticks": ""
           }
          },
          "scene": {
           "xaxis": {
            "backgroundcolor": "#E5ECF6",
            "gridcolor": "white",
            "gridwidth": 2,
            "linecolor": "white",
            "showbackground": true,
            "ticks": "",
            "zerolinecolor": "white"
           },
           "yaxis": {
            "backgroundcolor": "#E5ECF6",
            "gridcolor": "white",
            "gridwidth": 2,
            "linecolor": "white",
            "showbackground": true,
            "ticks": "",
            "zerolinecolor": "white"
           },
           "zaxis": {
            "backgroundcolor": "#E5ECF6",
            "gridcolor": "white",
            "gridwidth": 2,
            "linecolor": "white",
            "showbackground": true,
            "ticks": "",
            "zerolinecolor": "white"
           }
          },
          "shapedefaults": {
           "line": {
            "color": "#2a3f5f"
           }
          },
          "ternary": {
           "aaxis": {
            "gridcolor": "white",
            "linecolor": "white",
            "ticks": ""
           },
           "baxis": {
            "gridcolor": "white",
            "linecolor": "white",
            "ticks": ""
           },
           "bgcolor": "#E5ECF6",
           "caxis": {
            "gridcolor": "white",
            "linecolor": "white",
            "ticks": ""
           }
          },
          "title": {
           "x": 0.05
          },
          "xaxis": {
           "automargin": true,
           "gridcolor": "white",
           "linecolor": "white",
           "ticks": "",
           "title": {
            "standoff": 15
           },
           "zerolinecolor": "white",
           "zerolinewidth": 2
          },
          "yaxis": {
           "automargin": true,
           "gridcolor": "white",
           "linecolor": "white",
           "ticks": "",
           "title": {
            "standoff": 15
           },
           "zerolinecolor": "white",
           "zerolinewidth": 2
          }
         }
        },
        "title": "Value of element above diagonal σ_i",
        "xaxis": {
         "title": {
          "text": "Iteration"
         }
        },
        "yaxis": {
         "tickformat": "e",
         "title": {
          "text": "Error"
         },
         "type": "log"
        }
       }
      },
      "text/html": [
       "<div\n",
       "    class=\"webio-mountpoint\"\n",
       "    data-webio-mountpoint=\"14040663463297746780\"\n",
       ">\n",
       "    <script>\n",
       "    (function(){\n",
       "    // Some integrations (namely, IJulia/Jupyter) use an alternate render pathway than\n",
       "    // just putting the html on the page. If WebIO isn't defined, then it's pretty likely\n",
       "    // that we're in one of those situations and the integration just isn't installed\n",
       "    // correctly.\n",
       "    if (typeof window.WebIO === \"undefined\") {\n",
       "        document\n",
       "            .querySelector('[data-webio-mountpoint=\"14040663463297746780\"]')\n",
       "            .innerHTML = (\n",
       "                '<div style=\"padding: 1em; background-color: #f8d6da; border: 1px solid #f5c6cb; font-weight: bold;\">' +\n",
       "                '<p><strong>WebIO not detected.</strong></p>' +\n",
       "                '<p>Please read ' +\n",
       "                '<a href=\"https://juliagizmos.github.io/WebIO.jl/latest/troubleshooting/not-detected/\" target=\"_blank\">the troubleshooting guide</a> ' +\n",
       "                'for more information on how to resolve this issue.</p>' +\n",
       "                '<p><a href=\"https://juliagizmos.github.io/WebIO.jl/latest/troubleshooting/not-detected/\" target=\"_blank\">https://juliagizmos.github.io/WebIO.jl/latest/troubleshooting/not-detected/</a></p>' +\n",
       "                '</div>'\n",
       "            );\n",
       "        return;\n",
       "    }\n",
       "    WebIO.mount(\n",
       "        document.querySelector('[data-webio-mountpoint=\"14040663463297746780\"]'),\n",
       "        {\"props\":{},\"nodeType\":\"Scope\",\"type\":\"node\",\"instanceArgs\":{\"imports\":{\"data\":[{\"name\":\"Plotly\",\"type\":\"js\",\"url\":\"\\/assetserver\\/d6feb8d8ce4676ebdde817a0745950a35b4ba3ae-plotly.min.js\"},{\"name\":null,\"type\":\"js\",\"url\":\"\\/assetserver\\/46c9ff4df7c73b5875052df387368a00f6cfc484-plotly_webio.bundle.js\"}],\"type\":\"async_block\"},\"id\":\"18080805938413661314\",\"handlers\":{\"_toImage\":[\"(function (options){return this.Plotly.toImage(this.plotElem,options).then((function (data){return WebIO.setval({\\\"name\\\":\\\"image\\\",\\\"scope\\\":\\\"18080805938413661314\\\",\\\"id\\\":\\\"605\\\",\\\"type\\\":\\\"observable\\\"},data)}))})\"],\"__get_gd_contents\":[\"(function (prop){prop==\\\"data\\\" ? (WebIO.setval({\\\"name\\\":\\\"__gd_contents\\\",\\\"scope\\\":\\\"18080805938413661314\\\",\\\"id\\\":\\\"606\\\",\\\"type\\\":\\\"observable\\\"},this.plotElem.data)) : undefined; return prop==\\\"layout\\\" ? (WebIO.setval({\\\"name\\\":\\\"__gd_contents\\\",\\\"scope\\\":\\\"18080805938413661314\\\",\\\"id\\\":\\\"606\\\",\\\"type\\\":\\\"observable\\\"},this.plotElem.layout)) : undefined})\"],\"_downloadImage\":[\"(function (options){return this.Plotly.downloadImage(this.plotElem,options)})\"],\"_commands\":[\"(function (args){var fn=args.shift(); var elem=this.plotElem; var Plotly=this.Plotly; args.unshift(elem); return Plotly[fn].apply(this,args)})\"]},\"systemjs_options\":null,\"mount_callbacks\":[\"function () {\\n    var handler = ((function (Plotly,PlotlyWebIO){PlotlyWebIO.init(WebIO); var gd=this.dom.querySelector(\\\"#plot-1cd15bfe-f7bd-4074-8ee0-c867c211d67a\\\"); this.plotElem=gd; this.Plotly=Plotly; (window.Blink!==undefined) ? (gd.style.width=\\\"100%\\\", gd.style.height=\\\"100vh\\\", gd.style.marginLeft=\\\"0%\\\", gd.style.marginTop=\\\"0vh\\\") : undefined; window.onresize=(function (){return Plotly.Plots.resize(gd)}); Plotly.newPlot(gd,[{\\\"x\\\":[1,2,3,4,5,6,7,8,9,10,11,12,13,14,15,16,17,18,19,20],\\\"mode\\\":\\\"lines+markers\\\",\\\"line\\\":{\\\"shape\\\":\\\"linear\\\"},\\\"y\\\":[3.2362444788515123,1.7134660120636662,0.5384374395036823,0.18230147322367043,0.06974841908650342,0.0335303525391767,0.01666339614088045,0.008976108220243747,0.004837552573988011,0.0017821201823851607,0.0006565189652012124,0.00037562104828883623,1.104175613629004e-11,8.320002042285512e-20,8.320002042285512e-20,8.320002042285512e-20,8.320002042285512e-20,8.320002042285512e-20,8.320002042285512e-20,8.320002042285512e-20],\\\"type\\\":\\\"scatter\\\",\\\"name\\\":\\\"σ2\\\",\\\"marker\\\":{\\\"color\\\":1}},{\\\"x\\\":[1,2,3,4,5,6,7,8,9,10,11,12,13,14,15,16,17,18,19,20],\\\"mode\\\":\\\"lines+markers\\\",\\\"line\\\":{\\\"shape\\\":\\\"linear\\\"},\\\"y\\\":[2.1297703250483035,2.8059034573029233,2.999630282317464,2.565449674057801,1.1046404215866452,0.39025626038464684,0.1337661358410004,0.019346487940832952,0.002964672501046498,0.003579424176194725,0.004626980483407665,1.918220198945287e-16,1.9182201825979718e-16,1.9182201825979728e-16,1.9182201825979728e-16,1.9182201825979728e-16,1.9182201825979728e-16,1.9182201825979728e-16,1.9182201825979728e-16,1.9182201825979728e-16],\\\"type\\\":\\\"scatter\\\",\\\"name\\\":\\\"σ3\\\",\\\"marker\\\":{\\\"color\\\":2}},{\\\"x\\\":[1,2,3,4,5,6,7,8,9,10,11,12,13,14,15,16,17,18,19,20],\\\"mode\\\":\\\"lines+markers\\\",\\\"line\\\":{\\\"shape\\\":\\\"linear\\\"},\\\"y\\\":[2.1674144695457755,1.3800887208557637,0.9133489302907063,0.6445824727636107,0.4209868238710025,0.3647061028110995,0.40103529483694644,1.235482681813165,2.2933174901651805,1.4793783725800535e-6,2.968339860570401e-16,2.968339805085553e-16,2.968339805085553e-16,2.968339805085553e-16,2.968339805085553e-16,2.968339805085553e-16,2.968339805085553e-16,2.968339805085553e-16,2.968339805085553e-16,2.968339805085553e-16],\\\"type\\\":\\\"scatter\\\",\\\"name\\\":\\\"σ4\\\",\\\"marker\\\":{\\\"color\\\":3}},{\\\"x\\\":[1,2,3,4,5,6,7,8,9,10,11,12,13,14,15,16,17,18,19,20],\\\"mode\\\":\\\"lines+markers\\\",\\\"line\\\":{\\\"shape\\\":\\\"linear\\\"},\\\"y\\\":[1.8570240913900593,1.6789452596841863,1.5043073718871034,1.182607293773723,1.499183903481212,1.0293627638340594,0.49070354652267373,0.0001628884728797923,8.790624513680118e-14,4.4936022585026346e-14,4.493598346029335e-14,4.493598346029335e-14,4.493598346029335e-14,4.493598346029335e-14,4.493598346029335e-14,4.493598346029335e-14,4.493598346029335e-14,4.493598346029335e-14,4.493598346029335e-14,4.493598346029335e-14],\\\"type\\\":\\\"scatter\\\",\\\"name\\\":\\\"σ5\\\",\\\"marker\\\":{\\\"color\\\":4}},{\\\"x\\\":[1,2,3,4,5,6,7,8,9,10,11,12,13,14,15,16,17,18,19,20],\\\"mode\\\":\\\"lines+markers\\\",\\\"line\\\":{\\\"shape\\\":\\\"linear\\\"},\\\"y\\\":[1.1543482043798234,0.8615360166872164,0.5711986274820186,0.37803094063558446,0.011496042406968669,1.446936610523965e-6,7.477084221945014e-17,8.128941981512436e-17,8.128418392740968e-17,8.128418392740968e-17,8.128418392740968e-17,8.128418392740968e-17,8.128418392740968e-17,8.128418392740968e-17,8.128418392740968e-17,8.128418392740968e-17,8.128418392740968e-17,8.128418392740968e-17,8.128418392740968e-17,8.128418392740968e-17],\\\"type\\\":\\\"scatter\\\",\\\"name\\\":\\\"σ6\\\",\\\"marker\\\":{\\\"color\\\":5}},{\\\"x\\\":[1,2,3,4,5,6,7,8,9,10,11,12,13,14,15,16,17,18,19,20],\\\"mode\\\":\\\"lines+markers\\\",\\\"line\\\":{\\\"shape\\\":\\\"linear\\\"},\\\"y\\\":[0.7558423035556718,0.045367987328184534,1.5447301899824824e-5,6.82314615478366e-16,6.48417024906653e-16,6.500720810807294e-16,6.500717728248411e-16,6.500717728248411e-16,6.500717728248411e-16,6.500717728248411e-16,6.500717728248411e-16,6.500717728248411e-16,6.500717728248411e-16,6.500717728248411e-16,6.500717728248411e-16,6.500717728248411e-16,6.500717728248411e-16,6.500717728248411e-16,6.500717728248411e-16,6.500717728248411e-16],\\\"type\\\":\\\"scatter\\\",\\\"name\\\":\\\"σ7\\\",\\\"marker\\\":{\\\"color\\\":6}}],{\\\"showlegend\\\":true,\\\"xaxis\\\":{\\\"title\\\":{\\\"text\\\":\\\"Iteration\\\"}},\\\"template\\\":{\\\"layout\\\":{\\\"coloraxis\\\":{\\\"colorbar\\\":{\\\"ticks\\\":\\\"\\\",\\\"outlinewidth\\\":0}},\\\"xaxis\\\":{\\\"gridcolor\\\":\\\"white\\\",\\\"zerolinewidth\\\":2,\\\"title\\\":{\\\"standoff\\\":15},\\\"ticks\\\":\\\"\\\",\\\"zerolinecolor\\\":\\\"white\\\",\\\"automargin\\\":true,\\\"linecolor\\\":\\\"white\\\"},\\\"hovermode\\\":\\\"closest\\\",\\\"paper_bgcolor\\\":\\\"white\\\",\\\"geo\\\":{\\\"showlakes\\\":true,\\\"showland\\\":true,\\\"landcolor\\\":\\\"#E5ECF6\\\",\\\"bgcolor\\\":\\\"white\\\",\\\"subunitcolor\\\":\\\"white\\\",\\\"lakecolor\\\":\\\"white\\\"},\\\"colorscale\\\":{\\\"sequential\\\":[[0.0,\\\"#0d0887\\\"],[0.1111111111111111,\\\"#46039f\\\"],[0.2222222222222222,\\\"#7201a8\\\"],[0.3333333333333333,\\\"#9c179e\\\"],[0.4444444444444444,\\\"#bd3786\\\"],[0.5555555555555556,\\\"#d8576b\\\"],[0.6666666666666666,\\\"#ed7953\\\"],[0.7777777777777778,\\\"#fb9f3a\\\"],[0.8888888888888888,\\\"#fdca26\\\"],[1.0,\\\"#f0f921\\\"]],\\\"diverging\\\":[[0,\\\"#8e0152\\\"],[0.1,\\\"#c51b7d\\\"],[0.2,\\\"#de77ae\\\"],[0.3,\\\"#f1b6da\\\"],[0.4,\\\"#fde0ef\\\"],[0.5,\\\"#f7f7f7\\\"],[0.6,\\\"#e6f5d0\\\"],[0.7,\\\"#b8e186\\\"],[0.8,\\\"#7fbc41\\\"],[0.9,\\\"#4d9221\\\"],[1,\\\"#276419\\\"]],\\\"sequentialminus\\\":[[0.0,\\\"#0d0887\\\"],[0.1111111111111111,\\\"#46039f\\\"],[0.2222222222222222,\\\"#7201a8\\\"],[0.3333333333333333,\\\"#9c179e\\\"],[0.4444444444444444,\\\"#bd3786\\\"],[0.5555555555555556,\\\"#d8576b\\\"],[0.6666666666666666,\\\"#ed7953\\\"],[0.7777777777777778,\\\"#fb9f3a\\\"],[0.8888888888888888,\\\"#fdca26\\\"],[1.0,\\\"#f0f921\\\"]]},\\\"yaxis\\\":{\\\"gridcolor\\\":\\\"white\\\",\\\"zerolinewidth\\\":2,\\\"title\\\":{\\\"standoff\\\":15},\\\"ticks\\\":\\\"\\\",\\\"zerolinecolor\\\":\\\"white\\\",\\\"automargin\\\":true,\\\"linecolor\\\":\\\"white\\\"},\\\"shapedefaults\\\":{\\\"line\\\":{\\\"color\\\":\\\"#2a3f5f\\\"}},\\\"hoverlabel\\\":{\\\"align\\\":\\\"left\\\"},\\\"mapbox\\\":{\\\"style\\\":\\\"light\\\"},\\\"polar\\\":{\\\"angularaxis\\\":{\\\"gridcolor\\\":\\\"white\\\",\\\"ticks\\\":\\\"\\\",\\\"linecolor\\\":\\\"white\\\"},\\\"bgcolor\\\":\\\"#E5ECF6\\\",\\\"radialaxis\\\":{\\\"gridcolor\\\":\\\"white\\\",\\\"ticks\\\":\\\"\\\",\\\"linecolor\\\":\\\"white\\\"}},\\\"autotypenumbers\\\":\\\"strict\\\",\\\"font\\\":{\\\"color\\\":\\\"#2a3f5f\\\"},\\\"ternary\\\":{\\\"baxis\\\":{\\\"gridcolor\\\":\\\"white\\\",\\\"ticks\\\":\\\"\\\",\\\"linecolor\\\":\\\"white\\\"},\\\"bgcolor\\\":\\\"#E5ECF6\\\",\\\"caxis\\\":{\\\"gridcolor\\\":\\\"white\\\",\\\"ticks\\\":\\\"\\\",\\\"linecolor\\\":\\\"white\\\"},\\\"aaxis\\\":{\\\"gridcolor\\\":\\\"white\\\",\\\"ticks\\\":\\\"\\\",\\\"linecolor\\\":\\\"white\\\"}},\\\"annotationdefaults\\\":{\\\"arrowhead\\\":0,\\\"arrowwidth\\\":1,\\\"arrowcolor\\\":\\\"#2a3f5f\\\"},\\\"plot_bgcolor\\\":\\\"#E5ECF6\\\",\\\"title\\\":{\\\"x\\\":0.05},\\\"scene\\\":{\\\"xaxis\\\":{\\\"gridcolor\\\":\\\"white\\\",\\\"gridwidth\\\":2,\\\"backgroundcolor\\\":\\\"#E5ECF6\\\",\\\"ticks\\\":\\\"\\\",\\\"showbackground\\\":true,\\\"zerolinecolor\\\":\\\"white\\\",\\\"linecolor\\\":\\\"white\\\"},\\\"zaxis\\\":{\\\"gridcolor\\\":\\\"white\\\",\\\"gridwidth\\\":2,\\\"backgroundcolor\\\":\\\"#E5ECF6\\\",\\\"ticks\\\":\\\"\\\",\\\"showbackground\\\":true,\\\"zerolinecolor\\\":\\\"white\\\",\\\"linecolor\\\":\\\"white\\\"},\\\"yaxis\\\":{\\\"gridcolor\\\":\\\"white\\\",\\\"gridwidth\\\":2,\\\"backgroundcolor\\\":\\\"#E5ECF6\\\",\\\"ticks\\\":\\\"\\\",\\\"showbackground\\\":true,\\\"zerolinecolor\\\":\\\"white\\\",\\\"linecolor\\\":\\\"white\\\"}},\\\"colorway\\\":[\\\"#636efa\\\",\\\"#EF553B\\\",\\\"#00cc96\\\",\\\"#ab63fa\\\",\\\"#FFA15A\\\",\\\"#19d3f3\\\",\\\"#FF6692\\\",\\\"#B6E880\\\",\\\"#FF97FF\\\",\\\"#FECB52\\\"]},\\\"data\\\":{\\\"barpolar\\\":[{\\\"type\\\":\\\"barpolar\\\",\\\"marker\\\":{\\\"line\\\":{\\\"color\\\":\\\"#E5ECF6\\\",\\\"width\\\":0.5}}}],\\\"carpet\\\":[{\\\"aaxis\\\":{\\\"gridcolor\\\":\\\"white\\\",\\\"endlinecolor\\\":\\\"#2a3f5f\\\",\\\"minorgridcolor\\\":\\\"white\\\",\\\"startlinecolor\\\":\\\"#2a3f5f\\\",\\\"linecolor\\\":\\\"white\\\"},\\\"type\\\":\\\"carpet\\\",\\\"baxis\\\":{\\\"gridcolor\\\":\\\"white\\\",\\\"endlinecolor\\\":\\\"#2a3f5f\\\",\\\"minorgridcolor\\\":\\\"white\\\",\\\"startlinecolor\\\":\\\"#2a3f5f\\\",\\\"linecolor\\\":\\\"white\\\"}}],\\\"scatterpolar\\\":[{\\\"type\\\":\\\"scatterpolar\\\",\\\"marker\\\":{\\\"colorbar\\\":{\\\"ticks\\\":\\\"\\\",\\\"outlinewidth\\\":0}}}],\\\"parcoords\\\":[{\\\"line\\\":{\\\"colorbar\\\":{\\\"ticks\\\":\\\"\\\",\\\"outlinewidth\\\":0}},\\\"type\\\":\\\"parcoords\\\"}],\\\"scatter\\\":[{\\\"type\\\":\\\"scatter\\\",\\\"marker\\\":{\\\"colorbar\\\":{\\\"ticks\\\":\\\"\\\",\\\"outlinewidth\\\":0}}}],\\\"histogram2dcontour\\\":[{\\\"colorbar\\\":{\\\"ticks\\\":\\\"\\\",\\\"outlinewidth\\\":0},\\\"type\\\":\\\"histogram2dcontour\\\",\\\"colorscale\\\":[[0.0,\\\"#0d0887\\\"],[0.1111111111111111,\\\"#46039f\\\"],[0.2222222222222222,\\\"#7201a8\\\"],[0.3333333333333333,\\\"#9c179e\\\"],[0.4444444444444444,\\\"#bd3786\\\"],[0.5555555555555556,\\\"#d8576b\\\"],[0.6666666666666666,\\\"#ed7953\\\"],[0.7777777777777778,\\\"#fb9f3a\\\"],[0.8888888888888888,\\\"#fdca26\\\"],[1.0,\\\"#f0f921\\\"]]}],\\\"contour\\\":[{\\\"colorbar\\\":{\\\"ticks\\\":\\\"\\\",\\\"outlinewidth\\\":0},\\\"type\\\":\\\"contour\\\",\\\"colorscale\\\":[[0.0,\\\"#0d0887\\\"],[0.1111111111111111,\\\"#46039f\\\"],[0.2222222222222222,\\\"#7201a8\\\"],[0.3333333333333333,\\\"#9c179e\\\"],[0.4444444444444444,\\\"#bd3786\\\"],[0.5555555555555556,\\\"#d8576b\\\"],[0.6666666666666666,\\\"#ed7953\\\"],[0.7777777777777778,\\\"#fb9f3a\\\"],[0.8888888888888888,\\\"#fdca26\\\"],[1.0,\\\"#f0f921\\\"]]}],\\\"scattercarpet\\\":[{\\\"type\\\":\\\"scattercarpet\\\",\\\"marker\\\":{\\\"colorbar\\\":{\\\"ticks\\\":\\\"\\\",\\\"outlinewidth\\\":0}}}],\\\"mesh3d\\\":[{\\\"colorbar\\\":{\\\"ticks\\\":\\\"\\\",\\\"outlinewidth\\\":0},\\\"type\\\":\\\"mesh3d\\\"}],\\\"surface\\\":[{\\\"colorbar\\\":{\\\"ticks\\\":\\\"\\\",\\\"outlinewidth\\\":0},\\\"type\\\":\\\"surface\\\",\\\"colorscale\\\":[[0.0,\\\"#0d0887\\\"],[0.1111111111111111,\\\"#46039f\\\"],[0.2222222222222222,\\\"#7201a8\\\"],[0.3333333333333333,\\\"#9c179e\\\"],[0.4444444444444444,\\\"#bd3786\\\"],[0.5555555555555556,\\\"#d8576b\\\"],[0.6666666666666666,\\\"#ed7953\\\"],[0.7777777777777778,\\\"#fb9f3a\\\"],[0.8888888888888888,\\\"#fdca26\\\"],[1.0,\\\"#f0f921\\\"]]}],\\\"scattermapbox\\\":[{\\\"type\\\":\\\"scattermapbox\\\",\\\"marker\\\":{\\\"colorbar\\\":{\\\"ticks\\\":\\\"\\\",\\\"outlinewidth\\\":0}}}],\\\"scattergeo\\\":[{\\\"type\\\":\\\"scattergeo\\\",\\\"marker\\\":{\\\"colorbar\\\":{\\\"ticks\\\":\\\"\\\",\\\"outlinewidth\\\":0}}}],\\\"histogram\\\":[{\\\"type\\\":\\\"histogram\\\",\\\"marker\\\":{\\\"colorbar\\\":{\\\"ticks\\\":\\\"\\\",\\\"outlinewidth\\\":0}}}],\\\"pie\\\":[{\\\"type\\\":\\\"pie\\\",\\\"automargin\\\":true}],\\\"choropleth\\\":[{\\\"colorbar\\\":{\\\"ticks\\\":\\\"\\\",\\\"outlinewidth\\\":0},\\\"type\\\":\\\"choropleth\\\"}],\\\"heatmapgl\\\":[{\\\"colorbar\\\":{\\\"ticks\\\":\\\"\\\",\\\"outlinewidth\\\":0},\\\"type\\\":\\\"heatmapgl\\\",\\\"colorscale\\\":[[0.0,\\\"#0d0887\\\"],[0.1111111111111111,\\\"#46039f\\\"],[0.2222222222222222,\\\"#7201a8\\\"],[0.3333333333333333,\\\"#9c179e\\\"],[0.4444444444444444,\\\"#bd3786\\\"],[0.5555555555555556,\\\"#d8576b\\\"],[0.6666666666666666,\\\"#ed7953\\\"],[0.7777777777777778,\\\"#fb9f3a\\\"],[0.8888888888888888,\\\"#fdca26\\\"],[1.0,\\\"#f0f921\\\"]]}],\\\"bar\\\":[{\\\"type\\\":\\\"bar\\\",\\\"error_y\\\":{\\\"color\\\":\\\"#2a3f5f\\\"},\\\"error_x\\\":{\\\"color\\\":\\\"#2a3f5f\\\"},\\\"marker\\\":{\\\"line\\\":{\\\"color\\\":\\\"#E5ECF6\\\",\\\"width\\\":0.5}}}],\\\"heatmap\\\":[{\\\"colorbar\\\":{\\\"ticks\\\":\\\"\\\",\\\"outlinewidth\\\":0},\\\"type\\\":\\\"heatmap\\\",\\\"colorscale\\\":[[0.0,\\\"#0d0887\\\"],[0.1111111111111111,\\\"#46039f\\\"],[0.2222222222222222,\\\"#7201a8\\\"],[0.3333333333333333,\\\"#9c179e\\\"],[0.4444444444444444,\\\"#bd3786\\\"],[0.5555555555555556,\\\"#d8576b\\\"],[0.6666666666666666,\\\"#ed7953\\\"],[0.7777777777777778,\\\"#fb9f3a\\\"],[0.8888888888888888,\\\"#fdca26\\\"],[1.0,\\\"#f0f921\\\"]]}],\\\"contourcarpet\\\":[{\\\"colorbar\\\":{\\\"ticks\\\":\\\"\\\",\\\"outlinewidth\\\":0},\\\"type\\\":\\\"contourcarpet\\\"}],\\\"table\\\":[{\\\"type\\\":\\\"table\\\",\\\"header\\\":{\\\"line\\\":{\\\"color\\\":\\\"white\\\"},\\\"fill\\\":{\\\"color\\\":\\\"#C8D4E3\\\"}},\\\"cells\\\":{\\\"line\\\":{\\\"color\\\":\\\"white\\\"},\\\"fill\\\":{\\\"color\\\":\\\"#EBF0F8\\\"}}}],\\\"scatter3d\\\":[{\\\"line\\\":{\\\"colorbar\\\":{\\\"ticks\\\":\\\"\\\",\\\"outlinewidth\\\":0}},\\\"type\\\":\\\"scatter3d\\\",\\\"marker\\\":{\\\"colorbar\\\":{\\\"ticks\\\":\\\"\\\",\\\"outlinewidth\\\":0}}}],\\\"scattergl\\\":[{\\\"type\\\":\\\"scattergl\\\",\\\"marker\\\":{\\\"colorbar\\\":{\\\"ticks\\\":\\\"\\\",\\\"outlinewidth\\\":0}}}],\\\"histogram2d\\\":[{\\\"colorbar\\\":{\\\"ticks\\\":\\\"\\\",\\\"outlinewidth\\\":0},\\\"type\\\":\\\"histogram2d\\\",\\\"colorscale\\\":[[0.0,\\\"#0d0887\\\"],[0.1111111111111111,\\\"#46039f\\\"],[0.2222222222222222,\\\"#7201a8\\\"],[0.3333333333333333,\\\"#9c179e\\\"],[0.4444444444444444,\\\"#bd3786\\\"],[0.5555555555555556,\\\"#d8576b\\\"],[0.6666666666666666,\\\"#ed7953\\\"],[0.7777777777777778,\\\"#fb9f3a\\\"],[0.8888888888888888,\\\"#fdca26\\\"],[1.0,\\\"#f0f921\\\"]]}],\\\"scatterternary\\\":[{\\\"type\\\":\\\"scatterternary\\\",\\\"marker\\\":{\\\"colorbar\\\":{\\\"ticks\\\":\\\"\\\",\\\"outlinewidth\\\":0}}}],\\\"scatterpolargl\\\":[{\\\"type\\\":\\\"scatterpolargl\\\",\\\"marker\\\":{\\\"colorbar\\\":{\\\"ticks\\\":\\\"\\\",\\\"outlinewidth\\\":0}}}]}},\\\"margin\\\":{\\\"l\\\":50,\\\"b\\\":50,\\\"r\\\":50,\\\"t\\\":60},\\\"title\\\":\\\"Value of element above diagonal σ_i\\\",\\\"yaxis\\\":{\\\"type\\\":\\\"log\\\",\\\"title\\\":{\\\"text\\\":\\\"Error\\\"},\\\"tickformat\\\":\\\"e\\\"}},{\\\"showLink\\\":false,\\\"editable\\\":false,\\\"responsive\\\":true,\\\"staticPlot\\\":false,\\\"scrollZoom\\\":true}); gd.on(\\\"plotly_hover\\\",(function (data){var filtered_data=WebIO.PlotlyCommands.filterEventData(gd,data,\\\"hover\\\"); return !(filtered_data.isnil) ? (WebIO.setval({\\\"name\\\":\\\"hover\\\",\\\"scope\\\":\\\"18080805938413661314\\\",\\\"id\\\":\\\"601\\\",\\\"type\\\":\\\"observable\\\"},filtered_data.out)) : undefined})); gd.on(\\\"plotly_unhover\\\",(function (){return WebIO.setval({\\\"name\\\":\\\"hover\\\",\\\"scope\\\":\\\"18080805938413661314\\\",\\\"id\\\":\\\"601\\\",\\\"type\\\":\\\"observable\\\"},{})})); gd.on(\\\"plotly_selected\\\",(function (data){var filtered_data=WebIO.PlotlyCommands.filterEventData(gd,data,\\\"selected\\\"); return !(filtered_data.isnil) ? (WebIO.setval({\\\"name\\\":\\\"selected\\\",\\\"scope\\\":\\\"18080805938413661314\\\",\\\"id\\\":\\\"602\\\",\\\"type\\\":\\\"observable\\\"},filtered_data.out)) : undefined})); gd.on(\\\"plotly_deselect\\\",(function (){return WebIO.setval({\\\"name\\\":\\\"selected\\\",\\\"scope\\\":\\\"18080805938413661314\\\",\\\"id\\\":\\\"602\\\",\\\"type\\\":\\\"observable\\\"},{})})); gd.on(\\\"plotly_relayout\\\",(function (data){var filtered_data=WebIO.PlotlyCommands.filterEventData(gd,data,\\\"relayout\\\"); return !(filtered_data.isnil) ? (WebIO.setval({\\\"name\\\":\\\"relayout\\\",\\\"scope\\\":\\\"18080805938413661314\\\",\\\"id\\\":\\\"604\\\",\\\"type\\\":\\\"observable\\\"},filtered_data.out)) : undefined})); return gd.on(\\\"plotly_click\\\",(function (data){var filtered_data=WebIO.PlotlyCommands.filterEventData(gd,data,\\\"click\\\"); return !(filtered_data.isnil) ? (WebIO.setval({\\\"name\\\":\\\"click\\\",\\\"scope\\\":\\\"18080805938413661314\\\",\\\"id\\\":\\\"603\\\",\\\"type\\\":\\\"observable\\\"},filtered_data.out)) : undefined}))}));\\n    (WebIO.importBlock({\\\"data\\\":[{\\\"name\\\":\\\"Plotly\\\",\\\"type\\\":\\\"js\\\",\\\"url\\\":\\\"\\/assetserver\\/d6feb8d8ce4676ebdde817a0745950a35b4ba3ae-plotly.min.js\\\"},{\\\"name\\\":null,\\\"type\\\":\\\"js\\\",\\\"url\\\":\\\"\\/assetserver\\/46c9ff4df7c73b5875052df387368a00f6cfc484-plotly_webio.bundle.js\\\"}],\\\"type\\\":\\\"async_block\\\"})).then((imports) => handler.apply(this, imports));\\n}\\n\"],\"observables\":{\"_toImage\":{\"sync\":false,\"id\":\"608\",\"value\":{}},\"hover\":{\"sync\":false,\"id\":\"601\",\"value\":{}},\"selected\":{\"sync\":false,\"id\":\"602\",\"value\":{}},\"__gd_contents\":{\"sync\":false,\"id\":\"606\",\"value\":{}},\"click\":{\"sync\":false,\"id\":\"603\",\"value\":{}},\"image\":{\"sync\":true,\"id\":\"605\",\"value\":\"\"},\"__get_gd_contents\":{\"sync\":false,\"id\":\"610\",\"value\":\"\"},\"_downloadImage\":{\"sync\":false,\"id\":\"609\",\"value\":{}},\"relayout\":{\"sync\":false,\"id\":\"604\",\"value\":{}},\"_commands\":{\"sync\":false,\"id\":\"607\",\"value\":[]}}},\"children\":[{\"props\":{\"id\":\"plot-1cd15bfe-f7bd-4074-8ee0-c867c211d67a\"},\"nodeType\":\"DOM\",\"type\":\"node\",\"instanceArgs\":{\"namespace\":\"html\",\"tag\":\"div\"},\"children\":[]}]},\n",
       "        window,\n",
       "    );\n",
       "    })()\n",
       "    </script>\n",
       "</div>\n"
      ],
      "text/plain": [
       "data: [\n",
       "  \"scatter with fields line, marker, mode, name, type, x, and y\",\n",
       "  \"scatter with fields line, marker, mode, name, type, x, and y\",\n",
       "  \"scatter with fields line, marker, mode, name, type, x, and y\",\n",
       "  \"scatter with fields line, marker, mode, name, type, x, and y\",\n",
       "  \"scatter with fields line, marker, mode, name, type, x, and y\",\n",
       "  \"scatter with fields line, marker, mode, name, type, x, and y\"\n",
       "]\n",
       "\n",
       "layout: \"layout with fields margin, showlegend, template, title, xaxis, and yaxis\"\n",
       "\n"
      ]
     },
     "execution_count": 1040,
     "metadata": {},
     "output_type": "execute_result"
    }
   ],
   "source": [
    "error_vectors = [\n",
    "    abs.(results[1, 1, :]),\n",
    "    abs.(results[1, 2, :]),\n",
    "    abs.(results[1, 3, :]),\n",
    "    abs.(results[1, 4, :]),\n",
    "    abs.(results[1, 5, :]),\n",
    "    abs.(results[1, 6, :])\n",
    "]\n",
    "labels = [\"σ2\", \"σ3\", \"σ4\", \"σ5\", \"σ6\", \"σ7\"]\n",
    "plot_convergence_error(error_vectors, labels)"
   ]
  },
  {
   "cell_type": "code",
   "execution_count": 1041,
   "id": "3d43a122",
   "metadata": {},
   "outputs": [
    {
     "name": "stdout",
     "output_type": "stream",
     "text": [
      "1×20 adjoint(::Vector{Float64}) with eltype Float64:\n",
      " -2.88582  1.8687  2.29709  -2.94626  -3.8047  -3.947  -3.9644  -3.96664  -3.96668  -3.96668  -3.96668  -3.96668  -3.96668  -3.96668  -3.96668  -3.96668  -3.96668  -3.96668  -3.96668  -3.96668"
     ]
    }
   ],
   "source": [
    "# σ_2\n",
    "show(stdout, \"text/plain\", results[2, 1, :]')"
   ]
  },
  {
   "cell_type": "code",
   "execution_count": 1042,
   "id": "9cb803de",
   "metadata": {},
   "outputs": [
    {
     "name": "stdout",
     "output_type": "stream",
     "text": [
      "1×20 adjoint(::Vector{Float64}) with eltype Float64:\n",
      " 2.63002  2.30644  1.48609  -1.03467  -0.739596  -0.69856  -0.693378  -0.75662  1.25225  0.685351  0.685351  0.685351  0.685351  0.685351  0.685351  0.685351  0.685351  0.685351  0.685351  0.685351"
     ]
    }
   ],
   "source": [
    "# σ_3\n",
    "show(stdout, \"text/plain\", results[2, 2, :]')"
   ]
  },
  {
   "cell_type": "code",
   "execution_count": 1043,
   "id": "c1839f21",
   "metadata": {},
   "outputs": [
    {
     "name": "stdout",
     "output_type": "stream",
     "text": [
      "1×20 adjoint(::Vector{Float64}) with eltype Float64:\n",
      " 2.03909  1.73981  -1.65123  1.58219  -2.16355  2.72333  2.92947  2.72896  -1.64884  -3.01271  -3.01271  -3.01271  -3.01271  -3.01271  -3.01271  -3.01271  -3.01271  -3.01271  -3.01271  -3.01271"
     ]
    }
   ],
   "source": [
    "# σ_4\n",
    "show(stdout, \"text/plain\", results[2, 3, :]')"
   ]
  },
  {
   "cell_type": "code",
   "execution_count": 1044,
   "id": "fe3ac699",
   "metadata": {},
   "outputs": [
    {
     "name": "stdout",
     "output_type": "stream",
     "text": [
      "1×20 adjoint(::Vector{Float64}) with eltype Float64:\n",
      " 1.85655  -2.01495  2.31067  -2.62562  2.08068  -1.6867  -1.57274  -1.5463  -1.5463  -1.5463  -1.5463  -1.5463  -1.5463  -1.5463  -1.5463  -1.5463  -1.5463  -1.5463  -1.5463  -1.5463"
     ]
    }
   ],
   "source": [
    "# σ_5\n",
    "show(stdout, \"text/plain\", results[2, 4, :]')"
   ]
  },
  {
   "cell_type": "code",
   "execution_count": 1045,
   "id": "aa6eb1cb",
   "metadata": {},
   "outputs": [
    {
     "name": "stdout",
     "output_type": "stream",
     "text": [
      "1×20 adjoint(::Vector{Float64}) with eltype Float64:\n",
      " -1.72534  -1.88263  -2.0453  -2.0896  -2.08721  -2.08724  -2.08724  -2.08724  -2.08724  -2.08724  -2.08724  -2.08724  -2.08724  -2.08724  -2.08724  -2.08724  -2.08724  -2.08724  -2.08724  -2.08724"
     ]
    }
   ],
   "source": [
    "# σ_6\n",
    "show(stdout, \"text/plain\", results[2, 5, :]')"
   ]
  },
  {
   "cell_type": "code",
   "execution_count": 1046,
   "id": "d1cfc363",
   "metadata": {},
   "outputs": [
    {
     "name": "stdout",
     "output_type": "stream",
     "text": [
      "1×20 adjoint(::Vector{Float64}) with eltype Float64:\n",
      " 2.28272  2.529  2.52992  2.52992  2.52992  2.52992  2.52992  2.52992  2.52992  2.52992  2.52992  2.52992  2.52992  2.52992  2.52992  2.52992  2.52992  2.52992  2.52992  2.52992"
     ]
    }
   ],
   "source": [
    "# σ_7\n",
    "show(stdout, \"text/plain\", results[2, 6, :]')"
   ]
  },
  {
   "cell_type": "code",
   "execution_count": 1047,
   "id": "d7aef93d",
   "metadata": {},
   "outputs": [
    {
     "data": {
      "text/plain": [
       "7×9 adjoint(::Matrix{Float64}) with eltype Float64:\n",
       " -5.21056   0.0      0.0        0.0       0.0      0.0      0.0      0.0  0.0\n",
       "  0.0      -3.96668  0.0        0.0       0.0      0.0      0.0      0.0  0.0\n",
       "  0.0       0.0      0.685351   0.0       0.0      0.0      0.0      0.0  0.0\n",
       "  0.0       0.0      0.0       -3.01271   0.0      0.0      0.0      0.0  0.0\n",
       "  0.0       0.0      0.0        0.0      -1.5463   0.0      0.0      0.0  0.0\n",
       "  0.0       0.0      0.0        0.0       0.0     -2.08724  0.0      0.0  0.0\n",
       "  0.0       0.0      0.0        0.0       0.0      0.0      2.52992  0.0  0.0"
      ]
     },
     "execution_count": 1047,
     "metadata": {},
     "output_type": "execute_result"
    }
   ],
   "source": [
    "S"
   ]
  },
  {
   "cell_type": "code",
   "execution_count": null,
   "id": "12d4f9af",
   "metadata": {},
   "outputs": [],
   "source": []
  }
 ],
 "metadata": {
  "@webio": {
   "lastCommId": "d008c432603d4f53a433a13dd3f025fb",
   "lastKernelId": "c546c7e2-c080-49c1-941b-b3ca785785da"
  },
  "kernelspec": {
   "display_name": "Julia 1.10.0",
   "language": "julia",
   "name": "julia-1.10"
  },
  "language_info": {
   "file_extension": ".jl",
   "mimetype": "application/julia",
   "name": "julia",
   "version": "1.10.0"
  }
 },
 "nbformat": 4,
 "nbformat_minor": 5
}
