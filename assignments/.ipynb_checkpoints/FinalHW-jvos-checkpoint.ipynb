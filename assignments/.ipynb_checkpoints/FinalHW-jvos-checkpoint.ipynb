{
 "cells": [
  {
   "cell_type": "code",
   "execution_count": 1752,
   "id": "6fa5b7c0",
   "metadata": {},
   "outputs": [],
   "source": [
    "using LinearAlgebra"
   ]
  },
  {
   "cell_type": "code",
   "execution_count": 1753,
   "id": "d3d9ec97",
   "metadata": {},
   "outputs": [
    {
     "data": {
      "text/plain": [
       "7×5 Matrix{Float64}:\n",
       "  0.770781     1.13022   -1.22551    0.532862  -0.51905\n",
       " -1.97588      0.124216  -1.7007    -0.391158   0.0201075\n",
       " -0.0512523   -0.347051  -0.954833  -1.87424    0.921049\n",
       " -0.466192     2.41887    0.238914   0.356778  -0.909014\n",
       "  0.00283121  -0.752909  -1.80722    0.856591   2.22221\n",
       " -0.263429     2.25957    0.702891  -0.167325  -0.386621\n",
       "  1.69305      0.256977   0.627253   0.447653  -0.542368"
      ]
     },
     "execution_count": 1753,
     "metadata": {},
     "output_type": "execute_result"
    }
   ],
   "source": [
    "# Example usage:\n",
    "A = randn(7, 5)"
   ]
  },
  {
   "cell_type": "code",
   "execution_count": 1754,
   "id": "90fc72a5",
   "metadata": {},
   "outputs": [
    {
     "data": {
      "text/plain": [
       "bidiagonalize (generic function with 2 methods)"
      ]
     },
     "execution_count": 1754,
     "metadata": {},
     "output_type": "execute_result"
    }
   ],
   "source": [
    "function householder(x)\n",
    "    \"\"\"Computes the Householder transformation for input vector x\n",
    "    \n",
    "    Returns \n",
    "    beta: float, the multiplier for future Householder reflection\n",
    "    v: vector, the householder reflector vector  \n",
    "    \"\"\"\n",
    "    sigma = dot(x[2:end],x[2:end])\n",
    "    v = copy(x)\n",
    "\n",
    "    if sigma == 0\n",
    "        beta = 0\n",
    "        return beta, v\n",
    "    end\n",
    "\n",
    "    sq = sqrt(x[1]^2 + sigma)\n",
    "    if x[1] > 0\n",
    "        v[1] += sq\n",
    "    else\n",
    "        v[1] -= sq\n",
    "    end\n",
    "\n",
    "    beta = 2.0 / (v[1]^2 + sigma)\n",
    "\n",
    "    return beta, v\n",
    "end\n",
    "\n",
    "\n",
    "function apply_householder_col!(B, H, cidx, m)\n",
    "    \"\"\"Apply Householder reflection from the left (B<- H * B)\n",
    "    \n",
    "    Returns (inplace) \n",
    "    B: input matrix\n",
    "    H: householder vectors v  \n",
    "    \"\"\"\n",
    "    beta, v = householder(B[cidx:m, cidx])\n",
    "    B[cidx:m, cidx:end] = B[cidx:m, cidx:end] - beta * v * (v' * B[cidx:m, cidx:end])\n",
    "    H[cidx:end, cidx] = v / norm(v)\n",
    "\n",
    "    return beta\n",
    "end\n",
    "\n",
    "function apply_householder_row!(B, H, ridx, n)\n",
    "    \"\"\"Apply Householder reflection from the right (B<- B * H)\n",
    "    \n",
    "    Returns (inplace) \n",
    "    B: input matrix\n",
    "    H: householder vectors v  \n",
    "    \"\"\"\n",
    "    beta, v = householder(B[ridx, ridx+1:n])\n",
    "    B[ridx:end, ridx+1:n] = B[ridx:end, ridx+1:n] - (B[ridx:end, ridx+1:n] * v) * (beta * v')\n",
    "    H[ridx, ridx+1:end] = v / norm(v)\n",
    "\n",
    "end\n",
    "\n",
    "function update_col_sim!(U, H, cidx, m)\n",
    "    \"\"\"Update column unitary transform (U<- H * U)\n",
    "    \n",
    "    Returns (inplace) \n",
    "    U: input matrix  \n",
    "    \"\"\"\n",
    "    v = H[cidx:end, cidx]\n",
    "    if cidx > 1\n",
    "        v = [zeros(cidx-1);v]\n",
    "    end\n",
    "    #U[cidx:end, cidx:end] = U[cidx:end, cidx:end] - 2 * v * (v' * U[cidx:end, cidx:end])\n",
    "    #show(stdout, \"text/plain\", I - 2 * v * v')\n",
    "    U[:,:] = U - 2 * v * (v' * U)\n",
    "    \n",
    "    return U\n",
    "    \n",
    "end\n",
    "\n",
    "function update_row_sim!(V, H, ridx, n)\n",
    "    \"\"\"Update row unitary transform (V<- V * H)\n",
    "    \n",
    "    Returns (inplace) \n",
    "    H: input matrix  \n",
    "    \"\"\"\n",
    "    v = H[ridx, ridx+1:end]\n",
    "    v = [zeros(ridx);v]\n",
    "    \n",
    "    \n",
    "    #V[ridx:end, ridx+1:end] = V[ridx:end, ridx+1:end] - (V[ridx:end, ridx+1:n] * v) * (2 * v')\n",
    "    #show(stdout, \"text/plain\", I - 2 * v * v')\n",
    "\n",
    "    V[:,:] = V - 2 * (V * v) * v'\n",
    "    \n",
    "    return V\n",
    "    \n",
    "end\n",
    "\n",
    "\n",
    "function bidiagonalize(A, return_orth = false)\n",
    "    \"\"\"Performs matrix bidiagonalization (for future singular value decomposition computation)\n",
    "    \n",
    "    Returns (inplace) \n",
    "    B: bidiagonal matrix with same singular values as input matrix (B = Q_r * A * Q_l)\n",
    "    \"\"\"\n",
    "    m, n = size(A)\n",
    "    B = copy(A)\n",
    "    H = copy(A)  # v vectors in householder\n",
    "    \n",
    "    if return_orth\n",
    "        U = zeros(m, m) + I\n",
    "        V = zeros(n, n) + I\n",
    "    end\n",
    "    \n",
    "    for k = 1:min(m,n)\n",
    "        \n",
    "        # column\n",
    "        \n",
    "        apply_householder_col!(B, H, k, m)\n",
    "    \n",
    "        \n",
    "        if return_orth\n",
    "            update_col_sim!(U, H, k, m)\n",
    "        end\n",
    "        \n",
    "        \n",
    "        # row\n",
    "        if k < n\n",
    "            apply_householder_row!(B, H, k, n) \n",
    "            \n",
    "            if return_orth \n",
    "                update_row_sim!(V, H, k, n)\n",
    "                #print(\"\\ni = \",k,\"\\n\")\n",
    "                #show(stdout, \"text/plain\", B)\n",
    "                #print(\"\\n\\n\")\n",
    "                #show(stdout, \"text/plain\", U * A * V)\n",
    "            end\n",
    "        end\n",
    "        \n",
    "                \n",
    "    end\n",
    "    \n",
    "    if return_orth\n",
    "        V[:, end] = -V[:, end] \n",
    "        U[end, :] = -U[end, :]\n",
    "        return U, B, V'\n",
    "    else\n",
    "        return B, H\n",
    "    end\n",
    "end\n",
    "\n"
   ]
  },
  {
   "cell_type": "code",
   "execution_count": null,
   "id": "9748442d",
   "metadata": {},
   "outputs": [],
   "source": []
  },
  {
   "cell_type": "code",
   "execution_count": 1755,
   "id": "c50b9c9c",
   "metadata": {},
   "outputs": [],
   "source": [
    "B, H = bidiagonalize(A);"
   ]
  },
  {
   "cell_type": "code",
   "execution_count": 1756,
   "id": "e5ec0a3e",
   "metadata": {},
   "outputs": [
    {
     "name": "stdout",
     "output_type": "stream",
     "text": [
      "7×5 Matrix{Float64}:\n",
      " -2.76659      -1.41196       2.22045e-16   1.11022e-16  -5.55112e-17\n",
      "  2.22045e-16   2.75373      -1.80315      -2.77556e-17   0.0\n",
      "  6.93889e-18   0.0           3.45774       1.22557       5.55112e-17\n",
      "  0.0           0.0           0.0           2.39988       0.651603\n",
      " -4.33681e-19  -2.22045e-16   2.22045e-16   1.11022e-16  -1.55396\n",
      "  0.0           0.0           0.0           2.22045e-16   5.55112e-17\n",
      " -2.22045e-16   0.0          -6.93889e-18  -5.55112e-17   3.46945e-18"
     ]
    }
   ],
   "source": [
    "show(stdout, \"text/plain\", B)"
   ]
  },
  {
   "cell_type": "code",
   "execution_count": 1757,
   "id": "6230d674",
   "metadata": {},
   "outputs": [
    {
     "name": "stdout",
     "output_type": "stream",
     "text": [
      "7×5 Matrix{Float64}:\n",
      "  0.799564      0.763377   -0.540753   -0.321555    0.146438\n",
      " -0.446616     -0.856996    0.91101    -0.0530451  -0.408959\n",
      " -0.0115847    -0.391613   -0.751063   -0.983674   -0.179961\n",
      " -0.105375      0.0536453  -0.397681   -0.935164    1.0\n",
      "  0.000639949  -0.305985    0.381996   -0.157537    0.992111\n",
      " -0.0595437     0.0539553  -0.362939   -0.312254    0.12512\n",
      "  0.382686      0.113054    0.0104067   0.0561063   0.00776536"
     ]
    }
   ],
   "source": [
    "show(stdout, \"text/plain\", H)"
   ]
  },
  {
   "cell_type": "code",
   "execution_count": 1758,
   "id": "f04791ed",
   "metadata": {},
   "outputs": [
    {
     "name": "stdout",
     "output_type": "stream",
     "text": [
      "4×2 Matrix{Float64}:\n",
      " 0.186025  0.304832\n",
      " 0.25348   0.498181\n",
      " 0.376726  0.0\n",
      " 0.843756  0.0"
     ]
    }
   ],
   "source": [
    "show(stdout, \"text/plain\", beta)"
   ]
  },
  {
   "cell_type": "code",
   "execution_count": 1759,
   "id": "c29fc561",
   "metadata": {},
   "outputs": [],
   "source": [
    "_, S1, _ = svd(B);"
   ]
  },
  {
   "cell_type": "code",
   "execution_count": 1760,
   "id": "57d80223",
   "metadata": {},
   "outputs": [
    {
     "data": {
      "text/plain": [
       "5-element Vector{Float64}:\n",
       " 4.419505740707396\n",
       " 3.342588717511165\n",
       " 2.52907354706405\n",
       " 1.8466535837110387\n",
       " 1.4239130324313867"
      ]
     },
     "execution_count": 1760,
     "metadata": {},
     "output_type": "execute_result"
    }
   ],
   "source": [
    "S1"
   ]
  },
  {
   "cell_type": "code",
   "execution_count": 1761,
   "id": "b11cbb27",
   "metadata": {},
   "outputs": [],
   "source": [
    "_, S2, _ = svd(A);"
   ]
  },
  {
   "cell_type": "code",
   "execution_count": 1762,
   "id": "48fd1c4c",
   "metadata": {},
   "outputs": [
    {
     "data": {
      "text/plain": [
       "5-element Vector{Float64}:\n",
       " 4.419505740707398\n",
       " 3.3425887175111626\n",
       " 2.5290735470640504\n",
       " 1.8466535837110383\n",
       " 1.423913032431386"
      ]
     },
     "execution_count": 1762,
     "metadata": {},
     "output_type": "execute_result"
    }
   ],
   "source": [
    "S2"
   ]
  },
  {
   "cell_type": "code",
   "execution_count": 1763,
   "id": "f493fdc0",
   "metadata": {},
   "outputs": [],
   "source": [
    "P_l, B, P_r = bidiagonalize(A, true);"
   ]
  },
  {
   "cell_type": "code",
   "execution_count": 1764,
   "id": "da87be52",
   "metadata": {},
   "outputs": [],
   "source": [
    "# Checking correctness"
   ]
  },
  {
   "cell_type": "code",
   "execution_count": 1765,
   "id": "c859b79f",
   "metadata": {},
   "outputs": [
    {
     "name": "stdout",
     "output_type": "stream",
     "text": [
      "2.621616308303392e-15"
     ]
    }
   ],
   "source": [
    "show(stdout, \"text/plain\", opnorm(B - P_l * A * P_r', 1))"
   ]
  },
  {
   "cell_type": "code",
   "execution_count": 1766,
   "id": "22ea2285",
   "metadata": {},
   "outputs": [
    {
     "name": "stdout",
     "output_type": "stream",
     "text": [
      "4.2627314773588948e-16"
     ]
    }
   ],
   "source": [
    "show(stdout, \"text/plain\", opnorm(P_r' * P_r -  I, 1))"
   ]
  },
  {
   "cell_type": "code",
   "execution_count": 1740,
   "id": "d5f5026e",
   "metadata": {},
   "outputs": [
    {
     "name": "stdout",
     "output_type": "stream",
     "text": [
      "2.0342880257769244e-15"
     ]
    }
   ],
   "source": [
    "show(stdout, \"text/plain\", opnorm(P_l' * P_l - I, 1))"
   ]
  },
  {
   "cell_type": "code",
   "execution_count": 1776,
   "id": "91f3b132",
   "metadata": {},
   "outputs": [
    {
     "data": {
      "text/plain": [
       "SVD{Float64, Float64, Matrix{Float64}, Vector{Float64}}\n",
       "U factor:\n",
       "7×5 Matrix{Float64}:\n",
       " -0.246744     -0.77834      -0.434062      0.37157       0.0826489\n",
       "  0.627269      0.305335     -0.362977      0.596083      0.161977\n",
       " -0.721167      0.46881       0.0123069     0.478084      0.177256\n",
       " -0.159624      0.283028     -0.798996     -0.369653     -0.34551\n",
       "  0.0094425    -0.0327222     0.203202      0.376049     -0.903402\n",
       " -1.47399e-17   2.60861e-17  -7.33011e-17  -3.30454e-17  -3.4745e-17\n",
       " -2.89312e-18  -4.96155e-17  -2.63876e-17   6.98219e-17   4.27143e-17\n",
       "singular values:\n",
       "5-element Vector{Float64}:\n",
       " 4.419505740707396\n",
       " 3.342588717511165\n",
       " 2.52907354706405\n",
       " 1.8466535837110387\n",
       " 1.4239130324313867\n",
       "Vt factor:\n",
       "5×5 Matrix{Float64}:\n",
       "  0.15446    0.469673  -0.820153  -0.286665  -0.0268547\n",
       "  0.644214   0.580326   0.320248   0.375096   0.0703859\n",
       "  0.474826  -0.152889   0.275618  -0.752216  -0.330713\n",
       " -0.556672   0.604778   0.313138  -0.163105  -0.44688\n",
       " -0.160582   0.231296   0.22532   -0.429761   0.8278"
      ]
     },
     "execution_count": 1776,
     "metadata": {},
     "output_type": "execute_result"
    }
   ],
   "source": [
    "U, S, V = svd(B)"
   ]
  },
  {
   "cell_type": "code",
   "execution_count": 1777,
   "id": "86ad59a8",
   "metadata": {},
   "outputs": [
    {
     "data": {
      "text/plain": [
       "7×5 Matrix{Float64}:\n",
       "  0.136845  -0.201905   0.588527   -0.269078   -0.563226\n",
       " -0.251184  -0.675716  -0.150942    0.246084   -0.371147\n",
       " -0.318882  -0.176888  -0.281679   -0.865098    0.0162422\n",
       "  0.491294  -0.438752   0.164504    0.0220205   0.138615\n",
       " -0.560068  -0.117936   0.657767    0.041961    0.470783\n",
       "  0.44923   -0.32574    0.0119517  -0.228615    0.516169\n",
       "  0.244216   0.39854    0.302732   -0.253248   -0.193603"
      ]
     },
     "execution_count": 1777,
     "metadata": {},
     "output_type": "execute_result"
    }
   ],
   "source": [
    "P_l' * U"
   ]
  },
  {
   "cell_type": "code",
   "execution_count": 1778,
   "id": "dbb365ea",
   "metadata": {},
   "outputs": [
    {
     "data": {
      "text/plain": [
       "5×5 Matrix{Float64}:\n",
       "  0.15446    -0.0674035  0.281525   0.917828    0.223461\n",
       "  0.469673   -0.367587   0.711417  -0.259436   -0.266206\n",
       " -0.820153   -0.406799   0.371538  -0.0419753   0.148527\n",
       " -0.286665    0.460174   0.209095   0.209376   -0.78645\n",
       " -0.0268547   0.695048   0.482564  -0.211389    0.488503"
      ]
     },
     "execution_count": 1778,
     "metadata": {},
     "output_type": "execute_result"
    }
   ],
   "source": [
    "V * P_r"
   ]
  },
  {
   "cell_type": "code",
   "execution_count": 1779,
   "id": "bcebca1b",
   "metadata": {},
   "outputs": [
    {
     "data": {
      "text/plain": [
       "SVD{Float64, Float64, Matrix{Float64}, Vector{Float64}}\n",
       "U factor:\n",
       "7×5 Matrix{Float64}:\n",
       " -0.136845   0.201905  -0.588527    0.269078    0.563226\n",
       "  0.251184   0.675716   0.150942   -0.246084    0.371147\n",
       "  0.318882   0.176888   0.281679    0.865098   -0.0162422\n",
       " -0.491294   0.438752  -0.164504   -0.0220205  -0.138615\n",
       "  0.560068   0.117936  -0.657767   -0.041961   -0.470783\n",
       " -0.44923    0.32574   -0.0119517   0.228615   -0.516169\n",
       " -0.244216  -0.39854   -0.302732    0.253248    0.193603\n",
       "singular values:\n",
       "5-element Vector{Float64}:\n",
       " 4.419505740707398\n",
       " 3.3425887175111626\n",
       " 2.5290735470640504\n",
       " 1.8466535837110383\n",
       " 1.423913032431386\n",
       "Vt factor:\n",
       "5×5 Matrix{Float64}:\n",
       " -0.15446   -0.661162  -0.489297  -0.112801    0.535603\n",
       " -0.644214   0.555512  -0.507052  -0.138697    0.00753153\n",
       " -0.474826  -0.297203   0.453417  -0.654875   -0.227512\n",
       "  0.556672   0.288789  -0.187991  -0.731294    0.191273\n",
       "  0.160582  -0.287302  -0.512406  -0.0662272  -0.790396"
      ]
     },
     "execution_count": 1779,
     "metadata": {},
     "output_type": "execute_result"
    }
   ],
   "source": [
    "svd(A)"
   ]
  },
  {
   "cell_type": "code",
   "execution_count": 1741,
   "id": "d679607f",
   "metadata": {},
   "outputs": [
    {
     "data": {
      "text/plain": [
       "givens_rotation (generic function with 1 method)"
      ]
     },
     "execution_count": 1741,
     "metadata": {},
     "output_type": "execute_result"
    }
   ],
   "source": [
    "function givens_rotation(v)\n",
    "    a, b = v[1], v[2]\n",
    "    if b == 0\n",
    "        c = 1\n",
    "        s = 0\n",
    "    else\n",
    "        if abs(b) > abs(a)\n",
    "            tau = -a/b\n",
    "            s = 1.0/sqrt(1.0+tau*tau)\n",
    "            c = s*tau\n",
    "        else\n",
    "            tau = -b/a\n",
    "            c = 1.0/sqrt(1.0+tau*tau)\n",
    "            s = c*tau\n",
    "        end\n",
    "    end\n",
    "    return [c -s;s c]\n",
    "end"
   ]
  },
  {
   "cell_type": "code",
   "execution_count": 1742,
   "id": "0f13d10d",
   "metadata": {},
   "outputs": [
    {
     "data": {
      "text/plain": [
       "3×3 Matrix{Float64}:\n",
       " 1.0   3.0   4.0\n",
       " 4.0  -1.0   8.0\n",
       " 7.0   8.0  -1.0"
      ]
     },
     "execution_count": 1742,
     "metadata": {},
     "output_type": "execute_result"
    }
   ],
   "source": [
    "A = [1.0 3 4;4 -1 8;7 8 -1]"
   ]
  },
  {
   "cell_type": "code",
   "execution_count": 1743,
   "id": "81b0f829",
   "metadata": {},
   "outputs": [
    {
     "data": {
      "text/plain": [
       "2×2 Matrix{Float64}:\n",
       " -0.242536  -0.970143\n",
       "  0.970143  -0.242536"
      ]
     },
     "execution_count": 1743,
     "metadata": {},
     "output_type": "execute_result"
    }
   ],
   "source": [
    "G = givens_rotation(A[[1,2], 1])"
   ]
  },
  {
   "cell_type": "code",
   "execution_count": 1744,
   "id": "9886036d",
   "metadata": {},
   "outputs": [
    {
     "data": {
      "text/plain": [
       "3×3 Matrix{Float64}:\n",
       " -4.12311  0.242536  -8.73128\n",
       "  0.0      3.15296    1.94029\n",
       "  7.0      8.0       -1.0"
      ]
     },
     "execution_count": 1744,
     "metadata": {},
     "output_type": "execute_result"
    }
   ],
   "source": [
    "A[[1,2], :] = G * A[[1,2], :];\n",
    "A"
   ]
  },
  {
   "cell_type": "code",
   "execution_count": 1745,
   "id": "d9a7a0f1",
   "metadata": {},
   "outputs": [
    {
     "data": {
      "text/plain": [
       "2×2 Matrix{Float64}:\n",
       " 0.507519  -0.86164\n",
       " 0.86164    0.507519"
      ]
     },
     "execution_count": 1745,
     "metadata": {},
     "output_type": "execute_result"
    }
   ],
   "source": [
    "G = givens_rotation(A[[1,3], 1])"
   ]
  },
  {
   "cell_type": "code",
   "execution_count": 1746,
   "id": "be703efe",
   "metadata": {},
   "outputs": [
    {
     "data": {
      "text/plain": [
       "3×3 Matrix{Float64}:\n",
       " -8.12404      -6.77003  -3.56965\n",
       "  0.0           3.15296   1.94029\n",
       " -3.33067e-16   4.26913  -8.03075"
      ]
     },
     "execution_count": 1746,
     "metadata": {},
     "output_type": "execute_result"
    }
   ],
   "source": [
    "A[[1,3], :] = G * A[[1,3], :];\n",
    "A\n"
   ]
  },
  {
   "cell_type": "code",
   "execution_count": 1747,
   "id": "9964f8b9",
   "metadata": {},
   "outputs": [
    {
     "data": {
      "text/plain": [
       "2×2 Matrix{Float64}:\n",
       " -0.594089  -0.8044\n",
       "  0.8044    -0.594089"
      ]
     },
     "execution_count": 1747,
     "metadata": {},
     "output_type": "execute_result"
    }
   ],
   "source": [
    "G = givens_rotation(A[[2,3], 2])"
   ]
  },
  {
   "cell_type": "code",
   "execution_count": 1748,
   "id": "3dbfc0ea",
   "metadata": {},
   "outputs": [
    {
     "data": {
      "text/plain": [
       "3×3 Matrix{Float64}:\n",
       " -8.12404      -6.77003      -3.56965\n",
       "  2.67919e-16  -5.30723       5.30723\n",
       "  1.97871e-16   2.10348e-16   6.33174"
      ]
     },
     "execution_count": 1748,
     "metadata": {},
     "output_type": "execute_result"
    }
   ],
   "source": [
    "A[[2,3], :] = G * A[[2,3], :];\n",
    "A\n"
   ]
  },
  {
   "cell_type": "code",
   "execution_count": 1749,
   "id": "b4c6336b",
   "metadata": {},
   "outputs": [
    {
     "data": {
      "text/plain": [
       "LinearAlgebra.QRCompactWY{Float64, Matrix{Float64}, Matrix{Float64}}\n",
       "Q factor: 3×3 LinearAlgebra.QRCompactWYQ{Float64, Matrix{Float64}, Matrix{Float64}}\n",
       "R factor:\n",
       "3×3 Matrix{Float64}:\n",
       " 8.12404  6.77003   3.56965\n",
       " 0.0      5.30723  -5.30723\n",
       " 0.0      0.0       6.33174"
      ]
     },
     "execution_count": 1749,
     "metadata": {},
     "output_type": "execute_result"
    }
   ],
   "source": [
    "qr(A)"
   ]
  },
  {
   "cell_type": "code",
   "execution_count": null,
   "id": "a8b05392",
   "metadata": {},
   "outputs": [],
   "source": []
  },
  {
   "cell_type": "code",
   "execution_count": null,
   "id": "086ee794",
   "metadata": {},
   "outputs": [],
   "source": []
  }
 ],
 "metadata": {
  "kernelspec": {
   "display_name": "Julia 1.10.0",
   "language": "julia",
   "name": "julia-1.10"
  },
  "language_info": {
   "file_extension": ".jl",
   "mimetype": "application/julia",
   "name": "julia",
   "version": "1.10.0"
  }
 },
 "nbformat": 4,
 "nbformat_minor": 5
}
