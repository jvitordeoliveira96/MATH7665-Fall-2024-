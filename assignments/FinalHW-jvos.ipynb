{
 "cells": [
  {
   "cell_type": "code",
   "execution_count": 304,
   "id": "6fa5b7c0",
   "metadata": {},
   "outputs": [],
   "source": [
    "using LinearAlgebra\n",
    "using PlotlyJS"
   ]
  },
  {
   "cell_type": "code",
   "execution_count": 305,
   "id": "90fc72a5",
   "metadata": {},
   "outputs": [
    {
     "data": {
      "text/plain": [
       "bidiagonalize (generic function with 2 methods)"
      ]
     },
     "execution_count": 305,
     "metadata": {},
     "output_type": "execute_result"
    }
   ],
   "source": [
    "function householder(x)\n",
    "    \"\"\"Computes the Householder transformation for input vector x\n",
    "    \n",
    "    Returns \n",
    "    beta: float, the multiplier for future Householder reflection\n",
    "    v: vector, the householder reflector vector  \n",
    "    \"\"\"\n",
    "    sigma = dot(x[2:end],x[2:end])\n",
    "    v = copy(x)\n",
    "\n",
    "    if sigma == 0\n",
    "        beta = 0\n",
    "        return beta, v\n",
    "    end\n",
    "\n",
    "    sq = sqrt(x[1]^2 + sigma)\n",
    "    if x[1] > 0\n",
    "        v[1] += sq\n",
    "    else\n",
    "        v[1] -= sq\n",
    "    end\n",
    "\n",
    "    beta = 2.0 / (v[1]^2 + sigma)\n",
    "\n",
    "    return beta, v\n",
    "end\n",
    "\n",
    "\n",
    "function apply_householder_col!(B, H, cidx, m)\n",
    "    \"\"\"Apply Householder reflection from the left (B<- H * B)\n",
    "    \n",
    "    Returns (inplace) \n",
    "    B: input matrix\n",
    "    H: householder vectors v  \n",
    "    \"\"\"\n",
    "    beta, v = householder(B[cidx:m, cidx])\n",
    "    B[cidx:m, cidx:end] = B[cidx:m, cidx:end] - beta * v * (v' * B[cidx:m, cidx:end])\n",
    "    H[cidx:end, cidx] = v / norm(v)\n",
    "\n",
    "    return beta\n",
    "end\n",
    "\n",
    "function apply_householder_row!(B, H, ridx, n)\n",
    "    \"\"\"Apply Householder reflection from the right (B<- B * H)\n",
    "    \n",
    "    Returns (inplace) \n",
    "    B: input matrix\n",
    "    H: householder vectors v  \n",
    "    \"\"\"\n",
    "    beta, v = householder(B[ridx, ridx+1:n])\n",
    "    B[ridx:end, ridx+1:n] = B[ridx:end, ridx+1:n] - (B[ridx:end, ridx+1:n] * v) * (beta * v')\n",
    "    H[ridx, ridx+1:end] = v / norm(v)\n",
    "\n",
    "end\n",
    "\n",
    "function update_col_sim!(U, H, cidx, m)\n",
    "    \"\"\"Update column unitary transform (U<- H * U)\n",
    "    \n",
    "    Input:\n",
    "    U: Left Householder matrix (orthogonal)\n",
    "    H: householder vectors v\n",
    "    cidx: index of column where householder transform is applied\n",
    "    m: number of columns of original matrix\n",
    "    \n",
    "    Returns (inplace) \n",
    "    U: Left Householder matrix (orthogonal)\n",
    "    \"\"\"\n",
    "    v = H[cidx:end, cidx]\n",
    "    if cidx > 1\n",
    "        v = [zeros(cidx-1);v]\n",
    "    end\n",
    "    \n",
    "    \n",
    "    \n",
    "    U[:,:] = U - 2 * v * (v' * U)\n",
    "    \n",
    "    return U\n",
    "    \n",
    "end\n",
    "\n",
    "function update_row_sim!(V, H, ridx, n)\n",
    "    \"\"\"Update row unitary transform (V<- V * H)\n",
    "    \n",
    "    Input:\n",
    "    V: Right Householder matrix (orthogonal)\n",
    "    H: householder vectors v\n",
    "    ridx: index of row where householder transform is applied\n",
    "    n: number of rows of original matrix\n",
    "    \n",
    "    Returns (inplace) \n",
    "    V: Right Householder matrix (orthogonal) \n",
    "    \"\"\"\n",
    "    v = H[ridx, ridx+1:end]\n",
    "    v = [zeros(ridx);v]\n",
    "    \n",
    "    \n",
    "\n",
    "    V[:,:] = V - 2 * (V * v) * v'\n",
    "    \n",
    "    return V\n",
    "    \n",
    "end\n",
    "\n",
    "\n",
    "function bidiagonalize(A, return_orth = false)\n",
    "    \"\"\"Performs matrix bidiagonalization (for future singular value decomposition computation)\n",
    "    \n",
    "    Input:\n",
    "    A: Rectangular m x n matrix\n",
    "    \n",
    "    Returns (inplace) \n",
    "    B: bidiagonal matrix with same singular values as input matrix (A = U * B * V')\n",
    "    \"\"\"\n",
    "    m, n = size(A)\n",
    "    B = copy(A)\n",
    "    H = copy(A)  # v vectors in householder\n",
    "    \n",
    "    if return_orth\n",
    "        U = zeros(m, m) + I\n",
    "        V = zeros(n, n) + I\n",
    "    end\n",
    "    \n",
    "    for k = 1:min(m,n)\n",
    "        \n",
    "        # column\n",
    "        \n",
    "        apply_householder_col!(B, H, k, m)\n",
    "    \n",
    "        \n",
    "        if return_orth\n",
    "            update_col_sim!(U, H, k, m)\n",
    "        end\n",
    "        \n",
    "        \n",
    "        # row\n",
    "        if k < n\n",
    "            apply_householder_row!(B, H, k, n) \n",
    "            \n",
    "            if return_orth \n",
    "                update_row_sim!(V, H, k, n)\n",
    "            end\n",
    "        end\n",
    "        \n",
    "                \n",
    "    end\n",
    "    \n",
    "    if return_orth\n",
    "        V[:, end] = -V[:, end] \n",
    "        U[end, :] = -U[end, :]\n",
    "        return U', B, V\n",
    "    else\n",
    "        return B, H\n",
    "    end\n",
    "end\n",
    "\n"
   ]
  },
  {
   "cell_type": "code",
   "execution_count": 386,
   "id": "c38571cb",
   "metadata": {},
   "outputs": [
    {
     "data": {
      "text/plain": [
       "svd_num (generic function with 3 methods)"
      ]
     },
     "execution_count": 386,
     "metadata": {},
     "output_type": "execute_result"
    }
   ],
   "source": [
    "function givens_rotation(v)\n",
    "    \"\"\" Computers the 2x2 Givens Rotation matrix for a given 2d vector v.\n",
    "    \n",
    "    Input:\n",
    "    v: 2d vector\n",
    "    \n",
    "    Returns\n",
    "    G:  givens rotation matrix\n",
    "    \"\"\"\n",
    "    a, b = v[1], v[2]\n",
    "    if b == 0\n",
    "        c = 1\n",
    "        s = 0\n",
    "    else\n",
    "        if abs(b) > abs(a)\n",
    "            tau = -a/b\n",
    "            s = 1.0/sqrt(1.0+tau*tau)\n",
    "            c = s*tau\n",
    "        else\n",
    "            tau = -b/a\n",
    "            c = 1.0/sqrt(1.0+tau*tau)\n",
    "            s = c*tau\n",
    "        end\n",
    "    end\n",
    "    return [c -s;s c]\n",
    "end\n",
    "\n",
    "\n",
    "function svd_golub_reinsh!(B, U, V, maxiter, eps=1e-12)\n",
    "    \"\"\"Computes the Singular value decomposition of a bidiagonal matrix. Based on \n",
    "    https://www.cs.utexas.edu/~inderjit/public_papers/HLA_SVD.pdf\n",
    "    and\n",
    "    https://link.springer.com/article/10.1007/s11075-022-01459-9\n",
    "    \n",
    "    Returns  \n",
    "    U: Left singular vector matrix\n",
    "    S: Singular values matrix\n",
    "    Vt: Right singular vector matrix\n",
    "    \"\"\"\n",
    "    \n",
    "    function golub_kahan_step!(B, U, V, l, k)\n",
    "        # Considering B22 -> (l:k x l:k)\n",
    "        \n",
    "        # Step 1: compute appropriate shift\n",
    "        \n",
    "        if k > 2\n",
    "            a, b, d = B[k-1, k-1]^2 + B[k-2, k-1]^2, B[k-1, k-1] * B[k-1, k], B[k, k]^2 + B[k-1, k]^2\n",
    "            t, r = - a - d, a * d - b^2\n",
    "            s_1, s_2 = 0.5 * (-t + sqrt(t^2 -4 * r)), 0.5 * (-t - sqrt(t^2 -4 * r))\n",
    "            if abs(B[k, k]^2 + B[k-1, k]^2 - s_1) < abs(B[k, k]^2 + B[k-1, k]^2 - s_2)\n",
    "                s = s_1 \n",
    "            else\n",
    "                s = s_2 \n",
    "            end\n",
    "        else\n",
    "           s = B[2, 2]^2 + B[1, 2]^2 \n",
    "        end\n",
    "        \n",
    "        # Step 2: Computing Givens Rotations\n",
    "        alpha, beta = B[l, l]^2-s, B[l, l] * B[l, l + 1]\n",
    "        v = [alpha;beta]\n",
    "        for p = l:k-1\n",
    "            # Right rotation\n",
    "            G = givens_rotation(v)\n",
    "            B[:, p:p+1] = B[:, p:p+1] * G'\n",
    "            V[:, p:p+1] = V[:, p:p+1] * G'\n",
    "            \n",
    "            \n",
    "            # Left rotation\n",
    "            alpha, beta = B[p, p], B[p + 1, p] \n",
    "            v = [alpha; beta]\n",
    "            G = givens_rotation(v)\n",
    "            B[p:p+1, :] = G * B[p:p+1, :]\n",
    "            U[:, p:p+1] = U[:, p:p+1] * G'\n",
    "            \n",
    "            # Updating alpha, beta and v\n",
    "            if p < k -1 \n",
    "                alpha, beta = B[p, p+1], B[p, p+2]\n",
    "                v = [alpha;beta]\n",
    "            end\n",
    "        end\n",
    "    end\n",
    "    \n",
    "    m, n = size(B)\n",
    "    maxiter_ = maxiter * log2(n * m) \n",
    "    \n",
    "    for iters = 1:min(maxiter, maxiter_)\n",
    "        \n",
    "        # Step 1 of main loop\n",
    "        # Find l and k such that matrix can be blocked as B11, B22 and B33 (diag) \n",
    "        \n",
    "        k = n\n",
    "        for j = n:-1:2  \n",
    "            k = abs(B[j-1, j]) < eps * (abs(B[j, j]) + abs(B[j-1, j-1]))  ? j-1 : k\n",
    "        end\n",
    "\n",
    "        \n",
    "        if k == 1\n",
    "           # Diagonal matrix, convergence obtained\n",
    "           return U, B, V\n",
    "        end\n",
    "        \n",
    "        # Step 2 of main loop\n",
    "        # Performing Golub Kahan at matrix B22\n",
    "        if k == n \n",
    "            # B22 should be the full matrix \n",
    "            golub_kahan_step!(B, U, V, 1, n)\n",
    "    \n",
    "        else \n",
    "            # B33 (diagonal) found, have to check where B22 starts (l) and ends (k)\n",
    "            l = k\n",
    "            for j = k:-1:2\n",
    "                l = abs(B[j-1, j]) < eps * (abs(B[j, j]) + abs(B[j-1, j-1])) ? j-1 : l\n",
    "                \n",
    "                if l!=k\n",
    "                    break\n",
    "                end\n",
    "                \n",
    "            end \n",
    "            \n",
    "            # If l is equal to k after previous scan, then l = 1 and there is no B11 matrix\n",
    "            l = (l == k) ? 1 : l \n",
    "            \n",
    "            golub_kahan_step!(B, U, V, l, k)\n",
    "        end\n",
    "    end\n",
    "end\n",
    "\n",
    "\n",
    "function svd_num(A, maxiter = 80, save_results = false)\n",
    "   \"\"\"Performs singular value decompositon of a rectangular m x n matrix A.\n",
    "    \n",
    "    Returns \n",
    "        U: Left singular vector matrix\n",
    "        S: Singular values matrix\n",
    "        Vt: Right singular vector matrix\n",
    "    \"\"\" \n",
    "    # Flag for transpose (case n > m)\n",
    "    m, n = size(A)\n",
    "    transpose_flag = false\n",
    "    \n",
    "    if n > m\n",
    "        transpose_flag = true\n",
    "    end\n",
    "    \n",
    "    # First main step: Find bidiagonalized matrix B\n",
    "    if transpose_flag\n",
    "        P_l, B, P_r = bidiagonalize(A', true);\n",
    "    else\n",
    "        P_l, B, P_r = bidiagonalize(A, true);\n",
    "    end\n",
    "    \n",
    "    # Second main step: perform svd_golub_reinsh algorithm iterations\n",
    "    if save_results\n",
    "        t = min(m, n)\n",
    "        results = zeros(2, t-1, maxiter)\n",
    "        \n",
    "        for k = 1:maxiter\n",
    "            for j = 2:t\n",
    "                results[:, j-1, k] = copy(B[j-1:j, j])\n",
    "            end\n",
    "            svd_golub_reinsh!(B, P_l, P_r, 1)\n",
    "        end\n",
    "        \n",
    "        B = [i == j ? B[i, j] : 0 for i in 1:size(B, 1), j in 1:size(B, 2)];\n",
    "        # Check if transpose\n",
    "        if transpose_flag\n",
    "            return P_r, B', P_l, results\n",
    "        else\n",
    "            return P_l, B, P_r, results\n",
    "        end\n",
    "        \n",
    "    else\n",
    "        svd_golub_reinsh!(B, P_l, P_r, maxiter)\n",
    "        B = [i == j ? B[i, j] : 0 for i in 1:size(B, 1), j in 1:size(B, 2)];\n",
    "        \n",
    "        # Check if transpose\n",
    "        if transpose_flag\n",
    "            return P_r, B', P_l\n",
    "        else\n",
    "            return P_l, B, P_r\n",
    "        end\n",
    "    end\n",
    "    \n",
    "    \n",
    "    \n",
    "    \n",
    "    \n",
    "end"
   ]
  },
  {
   "cell_type": "markdown",
   "id": "926b764c",
   "metadata": {},
   "source": [
    "## Initial tests"
   ]
  },
  {
   "cell_type": "code",
   "execution_count": 387,
   "id": "f80bcc4e",
   "metadata": {},
   "outputs": [
    {
     "data": {
      "text/plain": [
       "5×7 Matrix{Float64}:\n",
       "  1.29227     0.447238  -0.198909  …   1.16099   -1.4223      1.08897\n",
       " -1.91053     1.29579    0.383112     -0.377166   0.387062   -0.540492\n",
       "  0.0890129   0.586602  -0.628978      0.851026  -0.119422    0.423432\n",
       "  1.34847    -0.60477    2.01311      -0.988612  -0.0703459  -1.01091\n",
       "  0.840133    0.130262  -0.3901       -1.02072    0.496854    0.206035"
      ]
     },
     "execution_count": 387,
     "metadata": {},
     "output_type": "execute_result"
    }
   ],
   "source": [
    "# Example usage 1:\n",
    "A = randn(5, 7)"
   ]
  },
  {
   "cell_type": "code",
   "execution_count": 388,
   "id": "5821ce87",
   "metadata": {},
   "outputs": [
    {
     "data": {
      "text/plain": [
       "5×7 Matrix{Float64}:\n",
       "  1.29227     0.447238  -0.198909  …   1.16099   -1.4223      1.08897\n",
       " -1.91053     1.29579    0.383112     -0.377166   0.387062   -0.540492\n",
       "  0.0890129   0.586602  -0.628978      0.851026  -0.119422    0.423432\n",
       "  1.34847    -0.60477    2.01311      -0.988612  -0.0703459  -1.01091\n",
       "  0.840133    0.130262  -0.3901       -1.02072    0.496854    0.206035"
      ]
     },
     "execution_count": 388,
     "metadata": {},
     "output_type": "execute_result"
    }
   ],
   "source": [
    "A"
   ]
  },
  {
   "cell_type": "code",
   "execution_count": 389,
   "id": "ad91435d",
   "metadata": {},
   "outputs": [],
   "source": [
    "P_l, B, P_r = bidiagonalize(A, true);"
   ]
  },
  {
   "cell_type": "code",
   "execution_count": 390,
   "id": "77b9c26f",
   "metadata": {},
   "outputs": [
    {
     "data": {
      "text/plain": [
       "5×7 Matrix{Float64}:\n",
       " -2.80217      -1.58007  -1.11022e-16  …   2.22045e-16  -1.11022e-16\n",
       " -2.22045e-16   1.81411  -2.62289         -2.22045e-16   2.22045e-16\n",
       "  1.38778e-17   0.0       2.53583          3.46945e-18  -5.55112e-17\n",
       "  0.0           0.0       2.22045e-16      1.11022e-16   0.0\n",
       "  1.11022e-16   0.0       4.44089e-16      1.02677       1.11022e-16"
      ]
     },
     "execution_count": 390,
     "metadata": {},
     "output_type": "execute_result"
    }
   ],
   "source": [
    "B"
   ]
  },
  {
   "cell_type": "code",
   "execution_count": 391,
   "id": "be11de7a",
   "metadata": {},
   "outputs": [
    {
     "name": "stdout",
     "output_type": "stream",
     "text": [
      "4.274358644806853e-15"
     ]
    }
   ],
   "source": [
    "show(stdout, \"text/plain\", opnorm(P_l * B * P_r' - A, 1))"
   ]
  },
  {
   "cell_type": "code",
   "execution_count": 392,
   "id": "70eb8121",
   "metadata": {},
   "outputs": [],
   "source": [
    "U, S, V = svd_num(A);"
   ]
  },
  {
   "cell_type": "code",
   "execution_count": 393,
   "id": "cdc346e0",
   "metadata": {},
   "outputs": [
    {
     "name": "stdout",
     "output_type": "stream",
     "text": [
      "5×5 Matrix{Float64}:\n",
      "  0.37717   -0.668243    0.0966841  -0.613449    -0.15977\n",
      "  0.297924   0.71078     0.306664   -0.55618      0.051526\n",
      "  0.670407  -0.102872    0.293492    0.436968     0.512732\n",
      " -0.474364  -0.171748    0.85896     0.00810081   0.0872012\n",
      " -0.307438  -0.0903532  -0.269555   -0.351193     0.837449"
     ]
    }
   ],
   "source": [
    "show(stdout, \"text/plain\", U)"
   ]
  },
  {
   "cell_type": "code",
   "execution_count": 394,
   "id": "5e896b14",
   "metadata": {},
   "outputs": [
    {
     "name": "stdout",
     "output_type": "stream",
     "text": [
      "5×7 adjoint(::Matrix{Real}) with eltype Real:\n",
      " -4.09424   0        0         0       0        0  0\n",
      "  0        -3.17969  0         0       0        0  0\n",
      "  0         0        2.40351   0       0        0  0\n",
      "  0         0        0        -1.0263  0        0  0\n",
      "  0         0        0         0       1.26891  0  0"
     ]
    }
   ],
   "source": [
    "show(stdout, \"text/plain\", S)"
   ]
  },
  {
   "cell_type": "code",
   "execution_count": 395,
   "id": "e5caf66a",
   "metadata": {},
   "outputs": [
    {
     "name": "stdout",
     "output_type": "stream",
     "text": [
      "7×7 Matrix{Float64}:\n",
      "  0.224722   -0.291831    0.297386    0.728677   -0.410047   0.151573  -0.231977\n",
      "  0.798247   -0.205652   -0.0501401   0.0247874   0.273434  -0.378977   0.314628\n",
      "  0.206778    0.0242101   0.727267   -0.52004    -0.136335  -0.103274  -0.357835\n",
      " -0.0239963   0.769139    0.207145    0.279038   -0.214261  -0.418965   0.2562\n",
      "  0.442811    0.277743   -0.332662   -0.276925   -0.559207   0.469621   0.0785431\n",
      "  0.187116    0.359564    0.272657    0.184812    0.591173   0.614393   0.0154618\n",
      "  0.194615    0.271943   -0.390148    0.0962761   0.174362  -0.221769  -0.804427"
     ]
    }
   ],
   "source": [
    "show(stdout, \"text/plain\", V')"
   ]
  },
  {
   "cell_type": "code",
   "execution_count": 396,
   "id": "3ee210f5",
   "metadata": {},
   "outputs": [
    {
     "name": "stdout",
     "output_type": "stream",
     "text": [
      "8.614346197595915e-16"
     ]
    }
   ],
   "source": [
    "show(stdout, \"text/plain\", opnorm(U * S * V' - A, 1)/opnorm(A, 1))"
   ]
  },
  {
   "cell_type": "code",
   "execution_count": 397,
   "id": "344049e1",
   "metadata": {},
   "outputs": [
    {
     "name": "stdout",
     "output_type": "stream",
     "text": [
      "3.2057663169902076e-15"
     ]
    }
   ],
   "source": [
    "show(stdout, \"text/plain\", opnorm(U * U' - I, 1))"
   ]
  },
  {
   "cell_type": "code",
   "execution_count": 398,
   "id": "e35404a6",
   "metadata": {},
   "outputs": [
    {
     "name": "stdout",
     "output_type": "stream",
     "text": [
      "1.5385204872580683e-15"
     ]
    }
   ],
   "source": [
    "show(stdout, \"text/plain\", opnorm(V * V' - I, 1))"
   ]
  },
  {
   "cell_type": "code",
   "execution_count": null,
   "id": "447d5638",
   "metadata": {},
   "outputs": [],
   "source": []
  },
  {
   "cell_type": "code",
   "execution_count": 399,
   "id": "6392b9b3",
   "metadata": {},
   "outputs": [
    {
     "data": {
      "text/plain": [
       "9×7 Matrix{Float64}:\n",
       " -0.887124    0.179505   0.475723   …   0.373461  -1.87523    1.92313\n",
       " -1.31888    -1.1728    -0.613743      -0.152413   0.456912   1.62091\n",
       "  2.53349     1.12529    0.4377         0.682256   0.192326   1.54823\n",
       "  0.472543   -1.4034    -0.0483896     -1.4389     0.949135  -1.24798\n",
       "  0.416243    0.992643   0.824781      -0.34751    2.18749   -0.0378228\n",
       " -0.219434    0.981766   1.13015    …  -1.84485   -0.486568   0.326385\n",
       "  0.0953919   0.411669  -0.480796      -1.51698    0.840462  -0.127824\n",
       "  0.837387    0.470189   0.92463        0.539794   0.515653   0.415429\n",
       "  1.23483    -0.580178   0.915381       0.917184   0.312006  -0.513466"
      ]
     },
     "execution_count": 399,
     "metadata": {},
     "output_type": "execute_result"
    }
   ],
   "source": [
    "# Example usage 2:\n",
    "A = randn(9, 7)"
   ]
  },
  {
   "cell_type": "code",
   "execution_count": 400,
   "id": "260e879f",
   "metadata": {},
   "outputs": [],
   "source": [
    "U, S, V = svd_num(A);"
   ]
  },
  {
   "cell_type": "code",
   "execution_count": 401,
   "id": "b607efa2",
   "metadata": {},
   "outputs": [
    {
     "name": "stdout",
     "output_type": "stream",
     "text": [
      "9×9 adjoint(::Matrix{Float64}) with eltype Float64:\n",
      " -0.510114   -0.45394      0.20805    -0.0365872  -0.292803    -0.175781   0.273132   0.471798     0.274358\n",
      " -0.0017078  -0.363        0.0832691   0.78794     0.217238    -0.21611    0.182992  -0.243528    -0.231856\n",
      " -0.610093    0.472174     0.0735493   0.137582    0.0587656   -0.423643  -0.377847  -0.200249     0.121267\n",
      "  0.522321    0.176395    -0.0350247   0.0392724   0.00669206  -0.649635   0.192789   0.132951     0.465169\n",
      "  0.0270786   0.47851      0.32095     0.420176   -0.325982     0.45667    0.299028   0.00443733   0.294089\n",
      "  0.0309906   0.00470819   0.729233   -0.390375    0.0737694   -0.170323   0.299261  -0.387968    -0.200788\n",
      "  0.230869    0.129075     0.400386    0.158488   -0.157825    -0.129733  -0.40515    0.568077    -0.464773\n",
      " -0.154332    0.263088     0.0181863  -0.0236616   0.772467     0.104273   0.331681   0.431336    -0.049339\n",
      " -0.126235    0.305347    -0.384339   -0.0521669  -0.36091     -0.235874   0.508767   0.0319863   -0.542798"
     ]
    }
   ],
   "source": [
    "show(stdout, \"text/plain\", U)"
   ]
  },
  {
   "cell_type": "code",
   "execution_count": 402,
   "id": "e3bb4ce5",
   "metadata": {},
   "outputs": [
    {
     "name": "stdout",
     "output_type": "stream",
     "text": [
      "9×7 Matrix{Real}:\n",
      " 4.38498   0         0         0        0       0        0\n",
      " 0        -4.20818   0         0        0       0        0\n",
      " 0         0        -3.03526   0        0       0        0\n",
      " 0         0         0        -2.4451   0       0        0\n",
      " 0         0         0         0       -1.1049  0        0\n",
      " 0         0         0         0        0       1.76178  0\n",
      " 0         0         0         0        0       0        1.5846\n",
      " 0         0         0         0        0       0        0\n",
      " 0         0         0         0        0       0        0"
     ]
    }
   ],
   "source": [
    "show(stdout, \"text/plain\", S)"
   ]
  },
  {
   "cell_type": "code",
   "execution_count": 403,
   "id": "45fddd81",
   "metadata": {},
   "outputs": [
    {
     "name": "stdout",
     "output_type": "stream",
     "text": [
      "7×7 adjoint(::Matrix{Float64}) with eltype Float64:\n",
      " -0.251467  -0.30926     -0.192893   -0.373978    -0.450161     0.331459   -0.592912\n",
      " -0.705499  -0.263134    -0.253238   -0.05449     -0.00128848  -0.553085    0.245007\n",
      "  0.188517  -0.495013    -0.211879    0.0040914    0.738436    -0.066562   -0.353266\n",
      "  0.183295   0.2915       0.279392   -0.246083    -0.0722774   -0.697791   -0.500677\n",
      " -0.144402  -0.00531045  -0.024474    0.888898    -0.17247     -0.0634296  -0.393208\n",
      " -0.52684    0.610428     0.0125195  -0.0800308    0.457089     0.275741   -0.241437\n",
      " -0.267372  -0.363946     0.880315    0.00731615   0.0903649    0.113282    0.00694201"
     ]
    }
   ],
   "source": [
    "show(stdout, \"text/plain\", V')"
   ]
  },
  {
   "cell_type": "code",
   "execution_count": 404,
   "id": "05b103f4",
   "metadata": {},
   "outputs": [
    {
     "name": "stdout",
     "output_type": "stream",
     "text": [
      "5.627428485739987e-14"
     ]
    }
   ],
   "source": [
    "show(stdout, \"text/plain\", opnorm(U * S * V' - A, 1)/opnorm(A, 1))"
   ]
  },
  {
   "cell_type": "code",
   "execution_count": 405,
   "id": "6a5a8c65",
   "metadata": {},
   "outputs": [
    {
     "name": "stdout",
     "output_type": "stream",
     "text": [
      "3.712868460778858e-15"
     ]
    }
   ],
   "source": [
    "show(stdout, \"text/plain\", opnorm(U * U' - I, 1))"
   ]
  },
  {
   "cell_type": "code",
   "execution_count": 406,
   "id": "792fa114",
   "metadata": {},
   "outputs": [
    {
     "name": "stdout",
     "output_type": "stream",
     "text": [
      "2.7876478511029994e-15"
     ]
    }
   ],
   "source": [
    "show(stdout, \"text/plain\", opnorm(V * V' - I, 1))"
   ]
  },
  {
   "cell_type": "code",
   "execution_count": null,
   "id": "3890ec62",
   "metadata": {},
   "outputs": [],
   "source": []
  },
  {
   "cell_type": "code",
   "execution_count": 407,
   "id": "e3666b7b",
   "metadata": {},
   "outputs": [
    {
     "data": {
      "text/plain": [
       "7×7 Matrix{Float64}:\n",
       "  1.18542    -0.432996  -0.843059  …  -0.0644463   2.46817    0.232591\n",
       " -0.432996   -2.09249    0.660181     -1.99029     2.78665   -1.19762\n",
       " -0.843059    0.660181   0.387442      1.54375    -0.293791  -1.65488\n",
       " -0.0782165   1.51003    0.992661     -0.899455   -3.23983    1.582\n",
       " -0.0644463  -1.99029    1.54375      -0.654      -0.159486   0.898734\n",
       "  2.46817     2.78665   -0.293791  …  -0.159486    1.446      0.734863\n",
       "  0.232591   -1.19762   -1.65488       0.898734    0.734863  -0.92576"
      ]
     },
     "execution_count": 407,
     "metadata": {},
     "output_type": "execute_result"
    }
   ],
   "source": [
    "# Example usage 3:\n",
    "A = randn(7, 7)\n",
    "A = A + A'"
   ]
  },
  {
   "cell_type": "code",
   "execution_count": 408,
   "id": "965e0646",
   "metadata": {},
   "outputs": [],
   "source": [
    "U, S, V = svd_num(A);"
   ]
  },
  {
   "cell_type": "code",
   "execution_count": 409,
   "id": "0a8bfa1d",
   "metadata": {},
   "outputs": [
    {
     "name": "stdout",
     "output_type": "stream",
     "text": [
      "7×7 adjoint(::Matrix{Float64}) with eltype Float64:\n",
      "  0.186806   -0.459279   -0.274878    -0.127755   -0.55663    0.593675  -5.26547e-5\n",
      "  0.595898   -0.163218    0.493377    -0.378418    0.22971    0.04857   -0.420142\n",
      "  0.0886797   0.201796    0.571979     0.361451    0.0452521  0.513294   0.477587\n",
      " -0.488437    0.408035    0.00613621  -0.523996    0.143258   0.493734  -0.23671\n",
      "  0.0400427   0.0661217  -0.204459     0.643714    0.235017   0.302706  -0.625292\n",
      " -0.493778   -0.742063    0.211632     0.0323685   0.394542   0.056176   0.0295159\n",
      "  0.343736   -0.0133849  -0.516946    -0.140869    0.635555   0.207751   0.384057"
     ]
    }
   ],
   "source": [
    "show(stdout, \"text/plain\", U)"
   ]
  },
  {
   "cell_type": "code",
   "execution_count": 410,
   "id": "0b215648",
   "metadata": {},
   "outputs": [
    {
     "name": "stdout",
     "output_type": "stream",
     "text": [
      "7×7 Matrix{Real}:\n",
      " 6.50138  0         0         0        0          0          0\n",
      " 0        5.47536   0         0        0          0          0\n",
      " 0        0        -2.20783   0        0          0          0\n",
      " 0        0         0        -1.92312  0          0          0\n",
      " 0        0         0         0        0.535034   0          0\n",
      " 0        0         0         0        0         -0.638111   0\n",
      " 0        0         0         0        0          0         -4.05537"
     ]
    }
   ],
   "source": [
    "show(stdout, \"text/plain\", S)"
   ]
  },
  {
   "cell_type": "code",
   "execution_count": 411,
   "id": "593fd832",
   "metadata": {},
   "outputs": [
    {
     "name": "stdout",
     "output_type": "stream",
     "text": [
      "7×7 adjoint(::Matrix{Float64}) with eltype Float64:\n",
      " -0.186806    -0.595898  -0.0886797   0.488437    -0.0400427   0.493778   -0.343736\n",
      " -0.459279    -0.163218   0.201796    0.408035     0.0661217  -0.742063   -0.0133849\n",
      "  0.274878    -0.493377  -0.571979   -0.00613621   0.204459   -0.211632    0.516946\n",
      "  0.127755     0.378418  -0.361451    0.523996    -0.643714   -0.0323685   0.140869\n",
      "  0.55663     -0.22971   -0.0452521  -0.143258    -0.235017   -0.394542   -0.635555\n",
      " -0.593675    -0.04857   -0.513294   -0.493734    -0.302706   -0.056176   -0.207751\n",
      " -5.26547e-5  -0.420142   0.477587   -0.23671     -0.625292    0.0295159   0.384057"
     ]
    }
   ],
   "source": [
    "show(stdout, \"text/plain\", V')"
   ]
  },
  {
   "cell_type": "code",
   "execution_count": 412,
   "id": "8898dd3c",
   "metadata": {},
   "outputs": [
    {
     "name": "stdout",
     "output_type": "stream",
     "text": [
      "5.507826889774333e-14"
     ]
    }
   ],
   "source": [
    "show(stdout, \"text/plain\", opnorm(U * S * V' - A, 1)/opnorm(A, 1))"
   ]
  },
  {
   "cell_type": "code",
   "execution_count": 413,
   "id": "a4360cca",
   "metadata": {},
   "outputs": [
    {
     "name": "stdout",
     "output_type": "stream",
     "text": [
      "2.631518128901807e-15"
     ]
    }
   ],
   "source": [
    "show(stdout, \"text/plain\", opnorm(U * U' - I, 1))"
   ]
  },
  {
   "cell_type": "code",
   "execution_count": 414,
   "id": "d1ecd7aa",
   "metadata": {},
   "outputs": [
    {
     "name": "stdout",
     "output_type": "stream",
     "text": [
      "1.9601398518470555e-15"
     ]
    }
   ],
   "source": [
    "show(stdout, \"text/plain\", opnorm(V * V' - I, 1))"
   ]
  },
  {
   "cell_type": "code",
   "execution_count": null,
   "id": "cfe630ad",
   "metadata": {},
   "outputs": [],
   "source": []
  },
  {
   "cell_type": "code",
   "execution_count": null,
   "id": "a2e6a3dd",
   "metadata": {},
   "outputs": [],
   "source": []
  },
  {
   "cell_type": "markdown",
   "id": "bbb5671b",
   "metadata": {},
   "source": [
    "## Cubic convergence depiction"
   ]
  },
  {
   "cell_type": "markdown",
   "id": "1c280c17",
   "metadata": {},
   "source": [
    "### Square 7 x 7"
   ]
  },
  {
   "cell_type": "code",
   "execution_count": 415,
   "id": "a1136bbc",
   "metadata": {},
   "outputs": [
    {
     "data": {
      "text/plain": [
       "7×7 Matrix{Float64}:\n",
       "  0.216951   -0.614549   1.08938    1.23056    0.307265  -0.729862   1.29003\n",
       " -1.16573     0.700209   1.16469    0.510615   0.867353   1.63862   -0.328677\n",
       "  0.0591166  -0.814118   2.64423   -2.11629    1.29781    0.902478   0.560716\n",
       " -1.16342     0.60594    0.817585  -0.234041   0.172582  -1.28458    0.690064\n",
       " -0.223629   -0.585731   0.322173  -0.372459  -1.06023    1.04343    1.03257\n",
       " -2.11292     1.64245    0.740388   0.271954   1.17428    1.36481    1.66583\n",
       "  0.542812   -0.908377  -0.143009   0.16448   -0.449775  -1.14218   -0.803935"
      ]
     },
     "execution_count": 415,
     "metadata": {},
     "output_type": "execute_result"
    }
   ],
   "source": [
    "A = randn(7, 7)"
   ]
  },
  {
   "cell_type": "code",
   "execution_count": 416,
   "id": "a41fc28b",
   "metadata": {},
   "outputs": [],
   "source": [
    "U, S, V, results = svd_num(A, 20, true);"
   ]
  },
  {
   "cell_type": "code",
   "execution_count": 417,
   "id": "f0501f22",
   "metadata": {},
   "outputs": [
    {
     "name": "stdout",
     "output_type": "stream",
     "text": [
      "4.6204672046101144e-14"
     ]
    }
   ],
   "source": [
    "show(stdout, \"text/plain\", opnorm(U * S * V' - A, 1)/opnorm(A, 1))"
   ]
  },
  {
   "cell_type": "code",
   "execution_count": 418,
   "id": "7dc19f63",
   "metadata": {},
   "outputs": [
    {
     "data": {
      "application/vnd.plotly.v1+json": {
       "config": {
        "editable": false,
        "responsive": true,
        "scrollZoom": true,
        "showLink": false,
        "staticPlot": false
       },
       "data": [
        {
         "line": {
          "shape": "linear"
         },
         "marker": {
          "color": 1
         },
         "mode": "lines+markers",
         "name": "σ2",
         "type": "scatter",
         "x": [
          1,
          2,
          3,
          4,
          5,
          6,
          7,
          8,
          9,
          10,
          11,
          12,
          13,
          14,
          15,
          16,
          17,
          18,
          19,
          20
         ],
         "y": [
          3.511541322862213,
          1.228016807995406,
          0.39635541773991345,
          0.1554485153568252,
          0.05789455409037976,
          0.02158857437246755,
          0.009770624392011127,
          0.004417729224684997,
          0.001997442446633407,
          0.0009475117217944439,
          0.00044946391881708425,
          0.00012336301873565122,
          2.684496576482814e-13,
          2.684496576482814e-13,
          2.684496576482814e-13,
          2.684496576482814e-13,
          2.684496576482814e-13,
          2.684496576482814e-13,
          2.684496576482814e-13,
          2.684496576482814e-13
         ]
        },
        {
         "line": {
          "shape": "linear"
         },
         "marker": {
          "color": 2
         },
         "mode": "lines+markers",
         "name": "σ3",
         "type": "scatter",
         "x": [
          1,
          2,
          3,
          4,
          5,
          6,
          7,
          8,
          9,
          10,
          11,
          12,
          13,
          14,
          15,
          16,
          17,
          18,
          19,
          20
         ],
         "y": [
          2.5685189246354048,
          2.382819564942368,
          0.9935847554095744,
          0.33201890673806955,
          0.1686719830168194,
          0.08614167086152605,
          0.008296987789764041,
          0.0017864455652761937,
          0.0008874534477498261,
          0.0005139473862108869,
          0.00029850663796337915,
          6.445456662367327e-19,
          6.445456658956053e-19,
          6.445456658956053e-19,
          6.445456658956053e-19,
          6.445456658956053e-19,
          6.445456658956053e-19,
          6.445456658956053e-19,
          6.445456658956053e-19,
          6.445456658956053e-19
         ]
        },
        {
         "line": {
          "shape": "linear"
         },
         "marker": {
          "color": 3
         },
         "mode": "lines+markers",
         "name": "σ4",
         "type": "scatter",
         "x": [
          1,
          2,
          3,
          4,
          5,
          6,
          7,
          8,
          9,
          10,
          11,
          12,
          13,
          14,
          15,
          16,
          17,
          18,
          19,
          20
         ],
         "y": [
          1.41819222736751,
          1.0528137291571138,
          1.372411041836521,
          1.8034746666894637,
          1.6161801445640038,
          1.3762293038196594,
          2.380506831207196,
          1.0636736753618437,
          0.20036763746969125,
          1.2790925001077415e-10,
          7.424780129700949e-19,
          7.424779339329093e-19,
          7.424779339329093e-19,
          7.424779339329093e-19,
          7.424779339329093e-19,
          7.424779339329093e-19,
          7.424779339329093e-19,
          7.424779339329093e-19,
          7.424779339329093e-19,
          7.424779339329093e-19
         ]
        },
        {
         "line": {
          "shape": "linear"
         },
         "marker": {
          "color": 4
         },
         "mode": "lines+markers",
         "name": "σ5",
         "type": "scatter",
         "x": [
          1,
          2,
          3,
          4,
          5,
          6,
          7,
          8,
          9,
          10,
          11,
          12,
          13,
          14,
          15,
          16,
          17,
          18,
          19,
          20
         ],
         "y": [
          1.4717500985356933,
          1.873651509185046,
          1.4266586861020616,
          0.959022300153198,
          0.9212790612037538,
          0.8897238353013887,
          0.01400972174707782,
          2.1946461553933218e-07,
          2.721190526292833e-16,
          2.7211170096581896e-16,
          2.7211170096582833e-16,
          2.7211170096582833e-16,
          2.7211170096582833e-16,
          2.7211170096582833e-16,
          2.7211170096582833e-16,
          2.7211170096582833e-16,
          2.7211170096582833e-16,
          2.7211170096582833e-16,
          2.7211170096582833e-16,
          2.7211170096582833e-16
         ]
        },
        {
         "line": {
          "shape": "linear"
         },
         "marker": {
          "color": 5
         },
         "mode": "lines+markers",
         "name": "σ6",
         "type": "scatter",
         "x": [
          1,
          2,
          3,
          4,
          5,
          6,
          7,
          8,
          9,
          10,
          11,
          12,
          13,
          14,
          15,
          16,
          17,
          18,
          19,
          20
         ],
         "y": [
          1.8307359966010066,
          1.0538135974925833,
          0.47222477880949487,
          0.20357920869372284,
          0.0001904392442125229,
          2.338237459714062e-13,
          2.0160804791300546e-13,
          2.0316205720990258e-13,
          2.031620321570193e-13,
          2.031620321570193e-13,
          2.031620321570193e-13,
          2.031620321570193e-13,
          2.031620321570193e-13,
          2.031620321570193e-13,
          2.031620321570193e-13,
          2.031620321570193e-13,
          2.031620321570193e-13,
          2.031620321570193e-13,
          2.031620321570193e-13,
          2.031620321570193e-13
         ]
        },
        {
         "line": {
          "shape": "linear"
         },
         "marker": {
          "color": 6
         },
         "mode": "lines+markers",
         "name": "σ7",
         "type": "scatter",
         "x": [
          1,
          2,
          3,
          4,
          5,
          6,
          7,
          8,
          9,
          10,
          11,
          12,
          13,
          14,
          15,
          16,
          17,
          18,
          19,
          20
         ],
         "y": [
          0.8990350555636402,
          0.048035923739114125,
          1.300424846174718e-05,
          2.3247932752669634e-16,
          2.327052701051295e-16,
          2.327040510339373e-16,
          2.327040510339373e-16,
          2.327040510339373e-16,
          2.327040510339373e-16,
          2.327040510339373e-16,
          2.327040510339373e-16,
          2.327040510339373e-16,
          2.327040510339373e-16,
          2.327040510339373e-16,
          2.327040510339373e-16,
          2.327040510339373e-16,
          2.327040510339373e-16,
          2.327040510339373e-16,
          2.327040510339373e-16,
          2.327040510339373e-16
         ]
        }
       ],
       "frames": [],
       "layout": {
        "margin": {
         "b": 50,
         "l": 50,
         "r": 50,
         "t": 60
        },
        "showlegend": true,
        "template": {
         "data": {
          "bar": [
           {
            "error_x": {
             "color": "#2a3f5f"
            },
            "error_y": {
             "color": "#2a3f5f"
            },
            "marker": {
             "line": {
              "color": "#E5ECF6",
              "width": 0.5
             }
            },
            "type": "bar"
           }
          ],
          "barpolar": [
           {
            "marker": {
             "line": {
              "color": "#E5ECF6",
              "width": 0.5
             }
            },
            "type": "barpolar"
           }
          ],
          "carpet": [
           {
            "aaxis": {
             "endlinecolor": "#2a3f5f",
             "gridcolor": "white",
             "linecolor": "white",
             "minorgridcolor": "white",
             "startlinecolor": "#2a3f5f"
            },
            "baxis": {
             "endlinecolor": "#2a3f5f",
             "gridcolor": "white",
             "linecolor": "white",
             "minorgridcolor": "white",
             "startlinecolor": "#2a3f5f"
            },
            "type": "carpet"
           }
          ],
          "choropleth": [
           {
            "colorbar": {
             "outlinewidth": 0,
             "ticks": ""
            },
            "type": "choropleth"
           }
          ],
          "contour": [
           {
            "colorbar": {
             "outlinewidth": 0,
             "ticks": ""
            },
            "colorscale": [
             [
              0,
              "#0d0887"
             ],
             [
              0.1111111111111111,
              "#46039f"
             ],
             [
              0.2222222222222222,
              "#7201a8"
             ],
             [
              0.3333333333333333,
              "#9c179e"
             ],
             [
              0.4444444444444444,
              "#bd3786"
             ],
             [
              0.5555555555555556,
              "#d8576b"
             ],
             [
              0.6666666666666666,
              "#ed7953"
             ],
             [
              0.7777777777777778,
              "#fb9f3a"
             ],
             [
              0.8888888888888888,
              "#fdca26"
             ],
             [
              1,
              "#f0f921"
             ]
            ],
            "type": "contour"
           }
          ],
          "contourcarpet": [
           {
            "colorbar": {
             "outlinewidth": 0,
             "ticks": ""
            },
            "type": "contourcarpet"
           }
          ],
          "heatmap": [
           {
            "colorbar": {
             "outlinewidth": 0,
             "ticks": ""
            },
            "colorscale": [
             [
              0,
              "#0d0887"
             ],
             [
              0.1111111111111111,
              "#46039f"
             ],
             [
              0.2222222222222222,
              "#7201a8"
             ],
             [
              0.3333333333333333,
              "#9c179e"
             ],
             [
              0.4444444444444444,
              "#bd3786"
             ],
             [
              0.5555555555555556,
              "#d8576b"
             ],
             [
              0.6666666666666666,
              "#ed7953"
             ],
             [
              0.7777777777777778,
              "#fb9f3a"
             ],
             [
              0.8888888888888888,
              "#fdca26"
             ],
             [
              1,
              "#f0f921"
             ]
            ],
            "type": "heatmap"
           }
          ],
          "heatmapgl": [
           {
            "colorbar": {
             "outlinewidth": 0,
             "ticks": ""
            },
            "colorscale": [
             [
              0,
              "#0d0887"
             ],
             [
              0.1111111111111111,
              "#46039f"
             ],
             [
              0.2222222222222222,
              "#7201a8"
             ],
             [
              0.3333333333333333,
              "#9c179e"
             ],
             [
              0.4444444444444444,
              "#bd3786"
             ],
             [
              0.5555555555555556,
              "#d8576b"
             ],
             [
              0.6666666666666666,
              "#ed7953"
             ],
             [
              0.7777777777777778,
              "#fb9f3a"
             ],
             [
              0.8888888888888888,
              "#fdca26"
             ],
             [
              1,
              "#f0f921"
             ]
            ],
            "type": "heatmapgl"
           }
          ],
          "histogram": [
           {
            "marker": {
             "colorbar": {
              "outlinewidth": 0,
              "ticks": ""
             }
            },
            "type": "histogram"
           }
          ],
          "histogram2d": [
           {
            "colorbar": {
             "outlinewidth": 0,
             "ticks": ""
            },
            "colorscale": [
             [
              0,
              "#0d0887"
             ],
             [
              0.1111111111111111,
              "#46039f"
             ],
             [
              0.2222222222222222,
              "#7201a8"
             ],
             [
              0.3333333333333333,
              "#9c179e"
             ],
             [
              0.4444444444444444,
              "#bd3786"
             ],
             [
              0.5555555555555556,
              "#d8576b"
             ],
             [
              0.6666666666666666,
              "#ed7953"
             ],
             [
              0.7777777777777778,
              "#fb9f3a"
             ],
             [
              0.8888888888888888,
              "#fdca26"
             ],
             [
              1,
              "#f0f921"
             ]
            ],
            "type": "histogram2d"
           }
          ],
          "histogram2dcontour": [
           {
            "colorbar": {
             "outlinewidth": 0,
             "ticks": ""
            },
            "colorscale": [
             [
              0,
              "#0d0887"
             ],
             [
              0.1111111111111111,
              "#46039f"
             ],
             [
              0.2222222222222222,
              "#7201a8"
             ],
             [
              0.3333333333333333,
              "#9c179e"
             ],
             [
              0.4444444444444444,
              "#bd3786"
             ],
             [
              0.5555555555555556,
              "#d8576b"
             ],
             [
              0.6666666666666666,
              "#ed7953"
             ],
             [
              0.7777777777777778,
              "#fb9f3a"
             ],
             [
              0.8888888888888888,
              "#fdca26"
             ],
             [
              1,
              "#f0f921"
             ]
            ],
            "type": "histogram2dcontour"
           }
          ],
          "mesh3d": [
           {
            "colorbar": {
             "outlinewidth": 0,
             "ticks": ""
            },
            "type": "mesh3d"
           }
          ],
          "parcoords": [
           {
            "line": {
             "colorbar": {
              "outlinewidth": 0,
              "ticks": ""
             }
            },
            "type": "parcoords"
           }
          ],
          "pie": [
           {
            "automargin": true,
            "type": "pie"
           }
          ],
          "scatter": [
           {
            "marker": {
             "colorbar": {
              "outlinewidth": 0,
              "ticks": ""
             }
            },
            "type": "scatter"
           }
          ],
          "scatter3d": [
           {
            "line": {
             "colorbar": {
              "outlinewidth": 0,
              "ticks": ""
             }
            },
            "marker": {
             "colorbar": {
              "outlinewidth": 0,
              "ticks": ""
             }
            },
            "type": "scatter3d"
           }
          ],
          "scattercarpet": [
           {
            "marker": {
             "colorbar": {
              "outlinewidth": 0,
              "ticks": ""
             }
            },
            "type": "scattercarpet"
           }
          ],
          "scattergeo": [
           {
            "marker": {
             "colorbar": {
              "outlinewidth": 0,
              "ticks": ""
             }
            },
            "type": "scattergeo"
           }
          ],
          "scattergl": [
           {
            "marker": {
             "colorbar": {
              "outlinewidth": 0,
              "ticks": ""
             }
            },
            "type": "scattergl"
           }
          ],
          "scattermapbox": [
           {
            "marker": {
             "colorbar": {
              "outlinewidth": 0,
              "ticks": ""
             }
            },
            "type": "scattermapbox"
           }
          ],
          "scatterpolar": [
           {
            "marker": {
             "colorbar": {
              "outlinewidth": 0,
              "ticks": ""
             }
            },
            "type": "scatterpolar"
           }
          ],
          "scatterpolargl": [
           {
            "marker": {
             "colorbar": {
              "outlinewidth": 0,
              "ticks": ""
             }
            },
            "type": "scatterpolargl"
           }
          ],
          "scatterternary": [
           {
            "marker": {
             "colorbar": {
              "outlinewidth": 0,
              "ticks": ""
             }
            },
            "type": "scatterternary"
           }
          ],
          "surface": [
           {
            "colorbar": {
             "outlinewidth": 0,
             "ticks": ""
            },
            "colorscale": [
             [
              0,
              "#0d0887"
             ],
             [
              0.1111111111111111,
              "#46039f"
             ],
             [
              0.2222222222222222,
              "#7201a8"
             ],
             [
              0.3333333333333333,
              "#9c179e"
             ],
             [
              0.4444444444444444,
              "#bd3786"
             ],
             [
              0.5555555555555556,
              "#d8576b"
             ],
             [
              0.6666666666666666,
              "#ed7953"
             ],
             [
              0.7777777777777778,
              "#fb9f3a"
             ],
             [
              0.8888888888888888,
              "#fdca26"
             ],
             [
              1,
              "#f0f921"
             ]
            ],
            "type": "surface"
           }
          ],
          "table": [
           {
            "cells": {
             "fill": {
              "color": "#EBF0F8"
             },
             "line": {
              "color": "white"
             }
            },
            "header": {
             "fill": {
              "color": "#C8D4E3"
             },
             "line": {
              "color": "white"
             }
            },
            "type": "table"
           }
          ]
         },
         "layout": {
          "annotationdefaults": {
           "arrowcolor": "#2a3f5f",
           "arrowhead": 0,
           "arrowwidth": 1
          },
          "autotypenumbers": "strict",
          "coloraxis": {
           "colorbar": {
            "outlinewidth": 0,
            "ticks": ""
           }
          },
          "colorscale": {
           "diverging": [
            [
             0,
             "#8e0152"
            ],
            [
             0.1,
             "#c51b7d"
            ],
            [
             0.2,
             "#de77ae"
            ],
            [
             0.3,
             "#f1b6da"
            ],
            [
             0.4,
             "#fde0ef"
            ],
            [
             0.5,
             "#f7f7f7"
            ],
            [
             0.6,
             "#e6f5d0"
            ],
            [
             0.7,
             "#b8e186"
            ],
            [
             0.8,
             "#7fbc41"
            ],
            [
             0.9,
             "#4d9221"
            ],
            [
             1,
             "#276419"
            ]
           ],
           "sequential": [
            [
             0,
             "#0d0887"
            ],
            [
             0.1111111111111111,
             "#46039f"
            ],
            [
             0.2222222222222222,
             "#7201a8"
            ],
            [
             0.3333333333333333,
             "#9c179e"
            ],
            [
             0.4444444444444444,
             "#bd3786"
            ],
            [
             0.5555555555555556,
             "#d8576b"
            ],
            [
             0.6666666666666666,
             "#ed7953"
            ],
            [
             0.7777777777777778,
             "#fb9f3a"
            ],
            [
             0.8888888888888888,
             "#fdca26"
            ],
            [
             1,
             "#f0f921"
            ]
           ],
           "sequentialminus": [
            [
             0,
             "#0d0887"
            ],
            [
             0.1111111111111111,
             "#46039f"
            ],
            [
             0.2222222222222222,
             "#7201a8"
            ],
            [
             0.3333333333333333,
             "#9c179e"
            ],
            [
             0.4444444444444444,
             "#bd3786"
            ],
            [
             0.5555555555555556,
             "#d8576b"
            ],
            [
             0.6666666666666666,
             "#ed7953"
            ],
            [
             0.7777777777777778,
             "#fb9f3a"
            ],
            [
             0.8888888888888888,
             "#fdca26"
            ],
            [
             1,
             "#f0f921"
            ]
           ]
          },
          "colorway": [
           "#636efa",
           "#EF553B",
           "#00cc96",
           "#ab63fa",
           "#FFA15A",
           "#19d3f3",
           "#FF6692",
           "#B6E880",
           "#FF97FF",
           "#FECB52"
          ],
          "font": {
           "color": "#2a3f5f"
          },
          "geo": {
           "bgcolor": "white",
           "lakecolor": "white",
           "landcolor": "#E5ECF6",
           "showlakes": true,
           "showland": true,
           "subunitcolor": "white"
          },
          "hoverlabel": {
           "align": "left"
          },
          "hovermode": "closest",
          "mapbox": {
           "style": "light"
          },
          "paper_bgcolor": "white",
          "plot_bgcolor": "#E5ECF6",
          "polar": {
           "angularaxis": {
            "gridcolor": "white",
            "linecolor": "white",
            "ticks": ""
           },
           "bgcolor": "#E5ECF6",
           "radialaxis": {
            "gridcolor": "white",
            "linecolor": "white",
            "ticks": ""
           }
          },
          "scene": {
           "xaxis": {
            "backgroundcolor": "#E5ECF6",
            "gridcolor": "white",
            "gridwidth": 2,
            "linecolor": "white",
            "showbackground": true,
            "ticks": "",
            "zerolinecolor": "white"
           },
           "yaxis": {
            "backgroundcolor": "#E5ECF6",
            "gridcolor": "white",
            "gridwidth": 2,
            "linecolor": "white",
            "showbackground": true,
            "ticks": "",
            "zerolinecolor": "white"
           },
           "zaxis": {
            "backgroundcolor": "#E5ECF6",
            "gridcolor": "white",
            "gridwidth": 2,
            "linecolor": "white",
            "showbackground": true,
            "ticks": "",
            "zerolinecolor": "white"
           }
          },
          "shapedefaults": {
           "line": {
            "color": "#2a3f5f"
           }
          },
          "ternary": {
           "aaxis": {
            "gridcolor": "white",
            "linecolor": "white",
            "ticks": ""
           },
           "baxis": {
            "gridcolor": "white",
            "linecolor": "white",
            "ticks": ""
           },
           "bgcolor": "#E5ECF6",
           "caxis": {
            "gridcolor": "white",
            "linecolor": "white",
            "ticks": ""
           }
          },
          "title": {
           "x": 0.05
          },
          "xaxis": {
           "automargin": true,
           "gridcolor": "white",
           "linecolor": "white",
           "ticks": "",
           "title": {
            "standoff": 15
           },
           "zerolinecolor": "white",
           "zerolinewidth": 2
          },
          "yaxis": {
           "automargin": true,
           "gridcolor": "white",
           "linecolor": "white",
           "ticks": "",
           "title": {
            "standoff": 15
           },
           "zerolinecolor": "white",
           "zerolinewidth": 2
          }
         }
        },
        "title": "Value of element above diagonal σ_i",
        "xaxis": {
         "title": {
          "text": "Iteration"
         }
        },
        "yaxis": {
         "tickformat": "e",
         "title": {
          "text": "Error"
         },
         "type": "log"
        }
       }
      },
      "text/html": [
       "<div\n",
       "    class=\"webio-mountpoint\"\n",
       "    data-webio-mountpoint=\"216370289081058783\"\n",
       ">\n",
       "    <script>\n",
       "    (function(){\n",
       "    // Some integrations (namely, IJulia/Jupyter) use an alternate render pathway than\n",
       "    // just putting the html on the page. If WebIO isn't defined, then it's pretty likely\n",
       "    // that we're in one of those situations and the integration just isn't installed\n",
       "    // correctly.\n",
       "    if (typeof window.WebIO === \"undefined\") {\n",
       "        document\n",
       "            .querySelector('[data-webio-mountpoint=\"216370289081058783\"]')\n",
       "            .innerHTML = (\n",
       "                '<div style=\"padding: 1em; background-color: #f8d6da; border: 1px solid #f5c6cb; font-weight: bold;\">' +\n",
       "                '<p><strong>WebIO not detected.</strong></p>' +\n",
       "                '<p>Please read ' +\n",
       "                '<a href=\"https://juliagizmos.github.io/WebIO.jl/latest/troubleshooting/not-detected/\" target=\"_blank\">the troubleshooting guide</a> ' +\n",
       "                'for more information on how to resolve this issue.</p>' +\n",
       "                '<p><a href=\"https://juliagizmos.github.io/WebIO.jl/latest/troubleshooting/not-detected/\" target=\"_blank\">https://juliagizmos.github.io/WebIO.jl/latest/troubleshooting/not-detected/</a></p>' +\n",
       "                '</div>'\n",
       "            );\n",
       "        return;\n",
       "    }\n",
       "    WebIO.mount(\n",
       "        document.querySelector('[data-webio-mountpoint=\"216370289081058783\"]'),\n",
       "        {\"props\":{},\"nodeType\":\"Scope\",\"type\":\"node\",\"instanceArgs\":{\"imports\":{\"data\":[{\"name\":\"Plotly\",\"type\":\"js\",\"url\":\"\\/assetserver\\/d6feb8d8ce4676ebdde817a0745950a35b4ba3ae-plotly.min.js\"},{\"name\":null,\"type\":\"js\",\"url\":\"\\/assetserver\\/46c9ff4df7c73b5875052df387368a00f6cfc484-plotly_webio.bundle.js\"}],\"type\":\"async_block\"},\"id\":\"2268670952304992936\",\"handlers\":{\"_toImage\":[\"(function (options){return this.Plotly.toImage(this.plotElem,options).then((function (data){return WebIO.setval({\\\"name\\\":\\\"image\\\",\\\"scope\\\":\\\"2268670952304992936\\\",\\\"id\\\":\\\"215\\\",\\\"type\\\":\\\"observable\\\"},data)}))})\"],\"__get_gd_contents\":[\"(function (prop){prop==\\\"data\\\" ? (WebIO.setval({\\\"name\\\":\\\"__gd_contents\\\",\\\"scope\\\":\\\"2268670952304992936\\\",\\\"id\\\":\\\"216\\\",\\\"type\\\":\\\"observable\\\"},this.plotElem.data)) : undefined; return prop==\\\"layout\\\" ? (WebIO.setval({\\\"name\\\":\\\"__gd_contents\\\",\\\"scope\\\":\\\"2268670952304992936\\\",\\\"id\\\":\\\"216\\\",\\\"type\\\":\\\"observable\\\"},this.plotElem.layout)) : undefined})\"],\"_downloadImage\":[\"(function (options){return this.Plotly.downloadImage(this.plotElem,options)})\"],\"_commands\":[\"(function (args){var fn=args.shift(); var elem=this.plotElem; var Plotly=this.Plotly; args.unshift(elem); return Plotly[fn].apply(this,args)})\"]},\"systemjs_options\":null,\"mount_callbacks\":[\"function () {\\n    var handler = ((function (Plotly,PlotlyWebIO){PlotlyWebIO.init(WebIO); var gd=this.dom.querySelector(\\\"#plot-973d3432-2b53-44c2-8b6a-e0ff4099e199\\\"); this.plotElem=gd; this.Plotly=Plotly; (window.Blink!==undefined) ? (gd.style.width=\\\"100%\\\", gd.style.height=\\\"100vh\\\", gd.style.marginLeft=\\\"0%\\\", gd.style.marginTop=\\\"0vh\\\") : undefined; window.onresize=(function (){return Plotly.Plots.resize(gd)}); Plotly.newPlot(gd,[{\\\"x\\\":[1,2,3,4,5,6,7,8,9,10,11,12,13,14,15,16,17,18,19,20],\\\"mode\\\":\\\"lines+markers\\\",\\\"line\\\":{\\\"shape\\\":\\\"linear\\\"},\\\"y\\\":[3.511541322862213,1.228016807995406,0.39635541773991345,0.1554485153568252,0.05789455409037976,0.02158857437246755,0.009770624392011127,0.004417729224684997,0.001997442446633407,0.0009475117217944439,0.00044946391881708425,0.00012336301873565122,2.684496576482814e-13,2.684496576482814e-13,2.684496576482814e-13,2.684496576482814e-13,2.684496576482814e-13,2.684496576482814e-13,2.684496576482814e-13,2.684496576482814e-13],\\\"type\\\":\\\"scatter\\\",\\\"name\\\":\\\"σ2\\\",\\\"marker\\\":{\\\"color\\\":1}},{\\\"x\\\":[1,2,3,4,5,6,7,8,9,10,11,12,13,14,15,16,17,18,19,20],\\\"mode\\\":\\\"lines+markers\\\",\\\"line\\\":{\\\"shape\\\":\\\"linear\\\"},\\\"y\\\":[2.5685189246354048,2.382819564942368,0.9935847554095744,0.33201890673806955,0.1686719830168194,0.08614167086152605,0.008296987789764041,0.0017864455652761937,0.0008874534477498261,0.0005139473862108869,0.00029850663796337915,6.445456662367327e-19,6.445456658956053e-19,6.445456658956053e-19,6.445456658956053e-19,6.445456658956053e-19,6.445456658956053e-19,6.445456658956053e-19,6.445456658956053e-19,6.445456658956053e-19],\\\"type\\\":\\\"scatter\\\",\\\"name\\\":\\\"σ3\\\",\\\"marker\\\":{\\\"color\\\":2}},{\\\"x\\\":[1,2,3,4,5,6,7,8,9,10,11,12,13,14,15,16,17,18,19,20],\\\"mode\\\":\\\"lines+markers\\\",\\\"line\\\":{\\\"shape\\\":\\\"linear\\\"},\\\"y\\\":[1.41819222736751,1.0528137291571138,1.372411041836521,1.8034746666894637,1.6161801445640038,1.3762293038196594,2.380506831207196,1.0636736753618437,0.20036763746969125,1.2790925001077415e-10,7.424780129700949e-19,7.424779339329093e-19,7.424779339329093e-19,7.424779339329093e-19,7.424779339329093e-19,7.424779339329093e-19,7.424779339329093e-19,7.424779339329093e-19,7.424779339329093e-19,7.424779339329093e-19],\\\"type\\\":\\\"scatter\\\",\\\"name\\\":\\\"σ4\\\",\\\"marker\\\":{\\\"color\\\":3}},{\\\"x\\\":[1,2,3,4,5,6,7,8,9,10,11,12,13,14,15,16,17,18,19,20],\\\"mode\\\":\\\"lines+markers\\\",\\\"line\\\":{\\\"shape\\\":\\\"linear\\\"},\\\"y\\\":[1.4717500985356933,1.873651509185046,1.4266586861020616,0.959022300153198,0.9212790612037538,0.8897238353013887,0.01400972174707782,2.1946461553933218e-7,2.721190526292833e-16,2.7211170096581896e-16,2.7211170096582833e-16,2.7211170096582833e-16,2.7211170096582833e-16,2.7211170096582833e-16,2.7211170096582833e-16,2.7211170096582833e-16,2.7211170096582833e-16,2.7211170096582833e-16,2.7211170096582833e-16,2.7211170096582833e-16],\\\"type\\\":\\\"scatter\\\",\\\"name\\\":\\\"σ5\\\",\\\"marker\\\":{\\\"color\\\":4}},{\\\"x\\\":[1,2,3,4,5,6,7,8,9,10,11,12,13,14,15,16,17,18,19,20],\\\"mode\\\":\\\"lines+markers\\\",\\\"line\\\":{\\\"shape\\\":\\\"linear\\\"},\\\"y\\\":[1.8307359966010066,1.0538135974925833,0.47222477880949487,0.20357920869372284,0.0001904392442125229,2.338237459714062e-13,2.0160804791300546e-13,2.0316205720990258e-13,2.031620321570193e-13,2.031620321570193e-13,2.031620321570193e-13,2.031620321570193e-13,2.031620321570193e-13,2.031620321570193e-13,2.031620321570193e-13,2.031620321570193e-13,2.031620321570193e-13,2.031620321570193e-13,2.031620321570193e-13,2.031620321570193e-13],\\\"type\\\":\\\"scatter\\\",\\\"name\\\":\\\"σ6\\\",\\\"marker\\\":{\\\"color\\\":5}},{\\\"x\\\":[1,2,3,4,5,6,7,8,9,10,11,12,13,14,15,16,17,18,19,20],\\\"mode\\\":\\\"lines+markers\\\",\\\"line\\\":{\\\"shape\\\":\\\"linear\\\"},\\\"y\\\":[0.8990350555636402,0.048035923739114125,1.300424846174718e-5,2.3247932752669634e-16,2.327052701051295e-16,2.327040510339373e-16,2.327040510339373e-16,2.327040510339373e-16,2.327040510339373e-16,2.327040510339373e-16,2.327040510339373e-16,2.327040510339373e-16,2.327040510339373e-16,2.327040510339373e-16,2.327040510339373e-16,2.327040510339373e-16,2.327040510339373e-16,2.327040510339373e-16,2.327040510339373e-16,2.327040510339373e-16],\\\"type\\\":\\\"scatter\\\",\\\"name\\\":\\\"σ7\\\",\\\"marker\\\":{\\\"color\\\":6}}],{\\\"showlegend\\\":true,\\\"xaxis\\\":{\\\"title\\\":{\\\"text\\\":\\\"Iteration\\\"}},\\\"template\\\":{\\\"layout\\\":{\\\"coloraxis\\\":{\\\"colorbar\\\":{\\\"ticks\\\":\\\"\\\",\\\"outlinewidth\\\":0}},\\\"xaxis\\\":{\\\"gridcolor\\\":\\\"white\\\",\\\"zerolinewidth\\\":2,\\\"title\\\":{\\\"standoff\\\":15},\\\"ticks\\\":\\\"\\\",\\\"zerolinecolor\\\":\\\"white\\\",\\\"automargin\\\":true,\\\"linecolor\\\":\\\"white\\\"},\\\"hovermode\\\":\\\"closest\\\",\\\"paper_bgcolor\\\":\\\"white\\\",\\\"geo\\\":{\\\"showlakes\\\":true,\\\"showland\\\":true,\\\"landcolor\\\":\\\"#E5ECF6\\\",\\\"bgcolor\\\":\\\"white\\\",\\\"subunitcolor\\\":\\\"white\\\",\\\"lakecolor\\\":\\\"white\\\"},\\\"colorscale\\\":{\\\"sequential\\\":[[0.0,\\\"#0d0887\\\"],[0.1111111111111111,\\\"#46039f\\\"],[0.2222222222222222,\\\"#7201a8\\\"],[0.3333333333333333,\\\"#9c179e\\\"],[0.4444444444444444,\\\"#bd3786\\\"],[0.5555555555555556,\\\"#d8576b\\\"],[0.6666666666666666,\\\"#ed7953\\\"],[0.7777777777777778,\\\"#fb9f3a\\\"],[0.8888888888888888,\\\"#fdca26\\\"],[1.0,\\\"#f0f921\\\"]],\\\"diverging\\\":[[0,\\\"#8e0152\\\"],[0.1,\\\"#c51b7d\\\"],[0.2,\\\"#de77ae\\\"],[0.3,\\\"#f1b6da\\\"],[0.4,\\\"#fde0ef\\\"],[0.5,\\\"#f7f7f7\\\"],[0.6,\\\"#e6f5d0\\\"],[0.7,\\\"#b8e186\\\"],[0.8,\\\"#7fbc41\\\"],[0.9,\\\"#4d9221\\\"],[1,\\\"#276419\\\"]],\\\"sequentialminus\\\":[[0.0,\\\"#0d0887\\\"],[0.1111111111111111,\\\"#46039f\\\"],[0.2222222222222222,\\\"#7201a8\\\"],[0.3333333333333333,\\\"#9c179e\\\"],[0.4444444444444444,\\\"#bd3786\\\"],[0.5555555555555556,\\\"#d8576b\\\"],[0.6666666666666666,\\\"#ed7953\\\"],[0.7777777777777778,\\\"#fb9f3a\\\"],[0.8888888888888888,\\\"#fdca26\\\"],[1.0,\\\"#f0f921\\\"]]},\\\"yaxis\\\":{\\\"gridcolor\\\":\\\"white\\\",\\\"zerolinewidth\\\":2,\\\"title\\\":{\\\"standoff\\\":15},\\\"ticks\\\":\\\"\\\",\\\"zerolinecolor\\\":\\\"white\\\",\\\"automargin\\\":true,\\\"linecolor\\\":\\\"white\\\"},\\\"shapedefaults\\\":{\\\"line\\\":{\\\"color\\\":\\\"#2a3f5f\\\"}},\\\"hoverlabel\\\":{\\\"align\\\":\\\"left\\\"},\\\"mapbox\\\":{\\\"style\\\":\\\"light\\\"},\\\"polar\\\":{\\\"angularaxis\\\":{\\\"gridcolor\\\":\\\"white\\\",\\\"ticks\\\":\\\"\\\",\\\"linecolor\\\":\\\"white\\\"},\\\"bgcolor\\\":\\\"#E5ECF6\\\",\\\"radialaxis\\\":{\\\"gridcolor\\\":\\\"white\\\",\\\"ticks\\\":\\\"\\\",\\\"linecolor\\\":\\\"white\\\"}},\\\"autotypenumbers\\\":\\\"strict\\\",\\\"font\\\":{\\\"color\\\":\\\"#2a3f5f\\\"},\\\"ternary\\\":{\\\"baxis\\\":{\\\"gridcolor\\\":\\\"white\\\",\\\"ticks\\\":\\\"\\\",\\\"linecolor\\\":\\\"white\\\"},\\\"bgcolor\\\":\\\"#E5ECF6\\\",\\\"caxis\\\":{\\\"gridcolor\\\":\\\"white\\\",\\\"ticks\\\":\\\"\\\",\\\"linecolor\\\":\\\"white\\\"},\\\"aaxis\\\":{\\\"gridcolor\\\":\\\"white\\\",\\\"ticks\\\":\\\"\\\",\\\"linecolor\\\":\\\"white\\\"}},\\\"annotationdefaults\\\":{\\\"arrowhead\\\":0,\\\"arrowwidth\\\":1,\\\"arrowcolor\\\":\\\"#2a3f5f\\\"},\\\"plot_bgcolor\\\":\\\"#E5ECF6\\\",\\\"title\\\":{\\\"x\\\":0.05},\\\"scene\\\":{\\\"xaxis\\\":{\\\"gridcolor\\\":\\\"white\\\",\\\"gridwidth\\\":2,\\\"backgroundcolor\\\":\\\"#E5ECF6\\\",\\\"ticks\\\":\\\"\\\",\\\"showbackground\\\":true,\\\"zerolinecolor\\\":\\\"white\\\",\\\"linecolor\\\":\\\"white\\\"},\\\"zaxis\\\":{\\\"gridcolor\\\":\\\"white\\\",\\\"gridwidth\\\":2,\\\"backgroundcolor\\\":\\\"#E5ECF6\\\",\\\"ticks\\\":\\\"\\\",\\\"showbackground\\\":true,\\\"zerolinecolor\\\":\\\"white\\\",\\\"linecolor\\\":\\\"white\\\"},\\\"yaxis\\\":{\\\"gridcolor\\\":\\\"white\\\",\\\"gridwidth\\\":2,\\\"backgroundcolor\\\":\\\"#E5ECF6\\\",\\\"ticks\\\":\\\"\\\",\\\"showbackground\\\":true,\\\"zerolinecolor\\\":\\\"white\\\",\\\"linecolor\\\":\\\"white\\\"}},\\\"colorway\\\":[\\\"#636efa\\\",\\\"#EF553B\\\",\\\"#00cc96\\\",\\\"#ab63fa\\\",\\\"#FFA15A\\\",\\\"#19d3f3\\\",\\\"#FF6692\\\",\\\"#B6E880\\\",\\\"#FF97FF\\\",\\\"#FECB52\\\"]},\\\"data\\\":{\\\"barpolar\\\":[{\\\"type\\\":\\\"barpolar\\\",\\\"marker\\\":{\\\"line\\\":{\\\"color\\\":\\\"#E5ECF6\\\",\\\"width\\\":0.5}}}],\\\"carpet\\\":[{\\\"aaxis\\\":{\\\"gridcolor\\\":\\\"white\\\",\\\"endlinecolor\\\":\\\"#2a3f5f\\\",\\\"minorgridcolor\\\":\\\"white\\\",\\\"startlinecolor\\\":\\\"#2a3f5f\\\",\\\"linecolor\\\":\\\"white\\\"},\\\"type\\\":\\\"carpet\\\",\\\"baxis\\\":{\\\"gridcolor\\\":\\\"white\\\",\\\"endlinecolor\\\":\\\"#2a3f5f\\\",\\\"minorgridcolor\\\":\\\"white\\\",\\\"startlinecolor\\\":\\\"#2a3f5f\\\",\\\"linecolor\\\":\\\"white\\\"}}],\\\"scatterpolar\\\":[{\\\"type\\\":\\\"scatterpolar\\\",\\\"marker\\\":{\\\"colorbar\\\":{\\\"ticks\\\":\\\"\\\",\\\"outlinewidth\\\":0}}}],\\\"parcoords\\\":[{\\\"line\\\":{\\\"colorbar\\\":{\\\"ticks\\\":\\\"\\\",\\\"outlinewidth\\\":0}},\\\"type\\\":\\\"parcoords\\\"}],\\\"scatter\\\":[{\\\"type\\\":\\\"scatter\\\",\\\"marker\\\":{\\\"colorbar\\\":{\\\"ticks\\\":\\\"\\\",\\\"outlinewidth\\\":0}}}],\\\"histogram2dcontour\\\":[{\\\"colorbar\\\":{\\\"ticks\\\":\\\"\\\",\\\"outlinewidth\\\":0},\\\"type\\\":\\\"histogram2dcontour\\\",\\\"colorscale\\\":[[0.0,\\\"#0d0887\\\"],[0.1111111111111111,\\\"#46039f\\\"],[0.2222222222222222,\\\"#7201a8\\\"],[0.3333333333333333,\\\"#9c179e\\\"],[0.4444444444444444,\\\"#bd3786\\\"],[0.5555555555555556,\\\"#d8576b\\\"],[0.6666666666666666,\\\"#ed7953\\\"],[0.7777777777777778,\\\"#fb9f3a\\\"],[0.8888888888888888,\\\"#fdca26\\\"],[1.0,\\\"#f0f921\\\"]]}],\\\"contour\\\":[{\\\"colorbar\\\":{\\\"ticks\\\":\\\"\\\",\\\"outlinewidth\\\":0},\\\"type\\\":\\\"contour\\\",\\\"colorscale\\\":[[0.0,\\\"#0d0887\\\"],[0.1111111111111111,\\\"#46039f\\\"],[0.2222222222222222,\\\"#7201a8\\\"],[0.3333333333333333,\\\"#9c179e\\\"],[0.4444444444444444,\\\"#bd3786\\\"],[0.5555555555555556,\\\"#d8576b\\\"],[0.6666666666666666,\\\"#ed7953\\\"],[0.7777777777777778,\\\"#fb9f3a\\\"],[0.8888888888888888,\\\"#fdca26\\\"],[1.0,\\\"#f0f921\\\"]]}],\\\"scattercarpet\\\":[{\\\"type\\\":\\\"scattercarpet\\\",\\\"marker\\\":{\\\"colorbar\\\":{\\\"ticks\\\":\\\"\\\",\\\"outlinewidth\\\":0}}}],\\\"mesh3d\\\":[{\\\"colorbar\\\":{\\\"ticks\\\":\\\"\\\",\\\"outlinewidth\\\":0},\\\"type\\\":\\\"mesh3d\\\"}],\\\"surface\\\":[{\\\"colorbar\\\":{\\\"ticks\\\":\\\"\\\",\\\"outlinewidth\\\":0},\\\"type\\\":\\\"surface\\\",\\\"colorscale\\\":[[0.0,\\\"#0d0887\\\"],[0.1111111111111111,\\\"#46039f\\\"],[0.2222222222222222,\\\"#7201a8\\\"],[0.3333333333333333,\\\"#9c179e\\\"],[0.4444444444444444,\\\"#bd3786\\\"],[0.5555555555555556,\\\"#d8576b\\\"],[0.6666666666666666,\\\"#ed7953\\\"],[0.7777777777777778,\\\"#fb9f3a\\\"],[0.8888888888888888,\\\"#fdca26\\\"],[1.0,\\\"#f0f921\\\"]]}],\\\"scattermapbox\\\":[{\\\"type\\\":\\\"scattermapbox\\\",\\\"marker\\\":{\\\"colorbar\\\":{\\\"ticks\\\":\\\"\\\",\\\"outlinewidth\\\":0}}}],\\\"scattergeo\\\":[{\\\"type\\\":\\\"scattergeo\\\",\\\"marker\\\":{\\\"colorbar\\\":{\\\"ticks\\\":\\\"\\\",\\\"outlinewidth\\\":0}}}],\\\"histogram\\\":[{\\\"type\\\":\\\"histogram\\\",\\\"marker\\\":{\\\"colorbar\\\":{\\\"ticks\\\":\\\"\\\",\\\"outlinewidth\\\":0}}}],\\\"pie\\\":[{\\\"type\\\":\\\"pie\\\",\\\"automargin\\\":true}],\\\"choropleth\\\":[{\\\"colorbar\\\":{\\\"ticks\\\":\\\"\\\",\\\"outlinewidth\\\":0},\\\"type\\\":\\\"choropleth\\\"}],\\\"heatmapgl\\\":[{\\\"colorbar\\\":{\\\"ticks\\\":\\\"\\\",\\\"outlinewidth\\\":0},\\\"type\\\":\\\"heatmapgl\\\",\\\"colorscale\\\":[[0.0,\\\"#0d0887\\\"],[0.1111111111111111,\\\"#46039f\\\"],[0.2222222222222222,\\\"#7201a8\\\"],[0.3333333333333333,\\\"#9c179e\\\"],[0.4444444444444444,\\\"#bd3786\\\"],[0.5555555555555556,\\\"#d8576b\\\"],[0.6666666666666666,\\\"#ed7953\\\"],[0.7777777777777778,\\\"#fb9f3a\\\"],[0.8888888888888888,\\\"#fdca26\\\"],[1.0,\\\"#f0f921\\\"]]}],\\\"bar\\\":[{\\\"type\\\":\\\"bar\\\",\\\"error_y\\\":{\\\"color\\\":\\\"#2a3f5f\\\"},\\\"error_x\\\":{\\\"color\\\":\\\"#2a3f5f\\\"},\\\"marker\\\":{\\\"line\\\":{\\\"color\\\":\\\"#E5ECF6\\\",\\\"width\\\":0.5}}}],\\\"heatmap\\\":[{\\\"colorbar\\\":{\\\"ticks\\\":\\\"\\\",\\\"outlinewidth\\\":0},\\\"type\\\":\\\"heatmap\\\",\\\"colorscale\\\":[[0.0,\\\"#0d0887\\\"],[0.1111111111111111,\\\"#46039f\\\"],[0.2222222222222222,\\\"#7201a8\\\"],[0.3333333333333333,\\\"#9c179e\\\"],[0.4444444444444444,\\\"#bd3786\\\"],[0.5555555555555556,\\\"#d8576b\\\"],[0.6666666666666666,\\\"#ed7953\\\"],[0.7777777777777778,\\\"#fb9f3a\\\"],[0.8888888888888888,\\\"#fdca26\\\"],[1.0,\\\"#f0f921\\\"]]}],\\\"contourcarpet\\\":[{\\\"colorbar\\\":{\\\"ticks\\\":\\\"\\\",\\\"outlinewidth\\\":0},\\\"type\\\":\\\"contourcarpet\\\"}],\\\"table\\\":[{\\\"type\\\":\\\"table\\\",\\\"header\\\":{\\\"line\\\":{\\\"color\\\":\\\"white\\\"},\\\"fill\\\":{\\\"color\\\":\\\"#C8D4E3\\\"}},\\\"cells\\\":{\\\"line\\\":{\\\"color\\\":\\\"white\\\"},\\\"fill\\\":{\\\"color\\\":\\\"#EBF0F8\\\"}}}],\\\"scatter3d\\\":[{\\\"line\\\":{\\\"colorbar\\\":{\\\"ticks\\\":\\\"\\\",\\\"outlinewidth\\\":0}},\\\"type\\\":\\\"scatter3d\\\",\\\"marker\\\":{\\\"colorbar\\\":{\\\"ticks\\\":\\\"\\\",\\\"outlinewidth\\\":0}}}],\\\"scattergl\\\":[{\\\"type\\\":\\\"scattergl\\\",\\\"marker\\\":{\\\"colorbar\\\":{\\\"ticks\\\":\\\"\\\",\\\"outlinewidth\\\":0}}}],\\\"histogram2d\\\":[{\\\"colorbar\\\":{\\\"ticks\\\":\\\"\\\",\\\"outlinewidth\\\":0},\\\"type\\\":\\\"histogram2d\\\",\\\"colorscale\\\":[[0.0,\\\"#0d0887\\\"],[0.1111111111111111,\\\"#46039f\\\"],[0.2222222222222222,\\\"#7201a8\\\"],[0.3333333333333333,\\\"#9c179e\\\"],[0.4444444444444444,\\\"#bd3786\\\"],[0.5555555555555556,\\\"#d8576b\\\"],[0.6666666666666666,\\\"#ed7953\\\"],[0.7777777777777778,\\\"#fb9f3a\\\"],[0.8888888888888888,\\\"#fdca26\\\"],[1.0,\\\"#f0f921\\\"]]}],\\\"scatterternary\\\":[{\\\"type\\\":\\\"scatterternary\\\",\\\"marker\\\":{\\\"colorbar\\\":{\\\"ticks\\\":\\\"\\\",\\\"outlinewidth\\\":0}}}],\\\"scatterpolargl\\\":[{\\\"type\\\":\\\"scatterpolargl\\\",\\\"marker\\\":{\\\"colorbar\\\":{\\\"ticks\\\":\\\"\\\",\\\"outlinewidth\\\":0}}}]}},\\\"margin\\\":{\\\"l\\\":50,\\\"b\\\":50,\\\"r\\\":50,\\\"t\\\":60},\\\"title\\\":\\\"Value of element above diagonal σ_i\\\",\\\"yaxis\\\":{\\\"type\\\":\\\"log\\\",\\\"title\\\":{\\\"text\\\":\\\"Error\\\"},\\\"tickformat\\\":\\\"e\\\"}},{\\\"showLink\\\":false,\\\"editable\\\":false,\\\"responsive\\\":true,\\\"staticPlot\\\":false,\\\"scrollZoom\\\":true}); gd.on(\\\"plotly_hover\\\",(function (data){var filtered_data=WebIO.PlotlyCommands.filterEventData(gd,data,\\\"hover\\\"); return !(filtered_data.isnil) ? (WebIO.setval({\\\"name\\\":\\\"hover\\\",\\\"scope\\\":\\\"2268670952304992936\\\",\\\"id\\\":\\\"211\\\",\\\"type\\\":\\\"observable\\\"},filtered_data.out)) : undefined})); gd.on(\\\"plotly_unhover\\\",(function (){return WebIO.setval({\\\"name\\\":\\\"hover\\\",\\\"scope\\\":\\\"2268670952304992936\\\",\\\"id\\\":\\\"211\\\",\\\"type\\\":\\\"observable\\\"},{})})); gd.on(\\\"plotly_selected\\\",(function (data){var filtered_data=WebIO.PlotlyCommands.filterEventData(gd,data,\\\"selected\\\"); return !(filtered_data.isnil) ? (WebIO.setval({\\\"name\\\":\\\"selected\\\",\\\"scope\\\":\\\"2268670952304992936\\\",\\\"id\\\":\\\"212\\\",\\\"type\\\":\\\"observable\\\"},filtered_data.out)) : undefined})); gd.on(\\\"plotly_deselect\\\",(function (){return WebIO.setval({\\\"name\\\":\\\"selected\\\",\\\"scope\\\":\\\"2268670952304992936\\\",\\\"id\\\":\\\"212\\\",\\\"type\\\":\\\"observable\\\"},{})})); gd.on(\\\"plotly_relayout\\\",(function (data){var filtered_data=WebIO.PlotlyCommands.filterEventData(gd,data,\\\"relayout\\\"); return !(filtered_data.isnil) ? (WebIO.setval({\\\"name\\\":\\\"relayout\\\",\\\"scope\\\":\\\"2268670952304992936\\\",\\\"id\\\":\\\"214\\\",\\\"type\\\":\\\"observable\\\"},filtered_data.out)) : undefined})); return gd.on(\\\"plotly_click\\\",(function (data){var filtered_data=WebIO.PlotlyCommands.filterEventData(gd,data,\\\"click\\\"); return !(filtered_data.isnil) ? (WebIO.setval({\\\"name\\\":\\\"click\\\",\\\"scope\\\":\\\"2268670952304992936\\\",\\\"id\\\":\\\"213\\\",\\\"type\\\":\\\"observable\\\"},filtered_data.out)) : undefined}))}));\\n    (WebIO.importBlock({\\\"data\\\":[{\\\"name\\\":\\\"Plotly\\\",\\\"type\\\":\\\"js\\\",\\\"url\\\":\\\"\\/assetserver\\/d6feb8d8ce4676ebdde817a0745950a35b4ba3ae-plotly.min.js\\\"},{\\\"name\\\":null,\\\"type\\\":\\\"js\\\",\\\"url\\\":\\\"\\/assetserver\\/46c9ff4df7c73b5875052df387368a00f6cfc484-plotly_webio.bundle.js\\\"}],\\\"type\\\":\\\"async_block\\\"})).then((imports) => handler.apply(this, imports));\\n}\\n\"],\"observables\":{\"_toImage\":{\"sync\":false,\"id\":\"218\",\"value\":{}},\"hover\":{\"sync\":false,\"id\":\"211\",\"value\":{}},\"selected\":{\"sync\":false,\"id\":\"212\",\"value\":{}},\"__gd_contents\":{\"sync\":false,\"id\":\"216\",\"value\":{}},\"click\":{\"sync\":false,\"id\":\"213\",\"value\":{}},\"image\":{\"sync\":true,\"id\":\"215\",\"value\":\"\"},\"__get_gd_contents\":{\"sync\":false,\"id\":\"220\",\"value\":\"\"},\"_downloadImage\":{\"sync\":false,\"id\":\"219\",\"value\":{}},\"relayout\":{\"sync\":false,\"id\":\"214\",\"value\":{}},\"_commands\":{\"sync\":false,\"id\":\"217\",\"value\":[]}}},\"children\":[{\"props\":{\"id\":\"plot-973d3432-2b53-44c2-8b6a-e0ff4099e199\"},\"nodeType\":\"DOM\",\"type\":\"node\",\"instanceArgs\":{\"namespace\":\"html\",\"tag\":\"div\"},\"children\":[]}]},\n",
       "        window,\n",
       "    );\n",
       "    })()\n",
       "    </script>\n",
       "</div>\n"
      ],
      "text/plain": [
       "data: [\n",
       "  \"scatter with fields line, marker, mode, name, type, x, and y\",\n",
       "  \"scatter with fields line, marker, mode, name, type, x, and y\",\n",
       "  \"scatter with fields line, marker, mode, name, type, x, and y\",\n",
       "  \"scatter with fields line, marker, mode, name, type, x, and y\",\n",
       "  \"scatter with fields line, marker, mode, name, type, x, and y\",\n",
       "  \"scatter with fields line, marker, mode, name, type, x, and y\"\n",
       "]\n",
       "\n",
       "layout: \"layout with fields margin, showlegend, template, title, xaxis, and yaxis\"\n",
       "\n"
      ]
     },
     "execution_count": 418,
     "metadata": {},
     "output_type": "execute_result"
    }
   ],
   "source": [
    "function plot_convergence_error(error_vectors, labels)\n",
    "    iterations = 1:length(error_vectors[1])\n",
    "    traces = Vector{GenericTrace{Dict{Symbol, Any}}}()\n",
    "    \n",
    "    for (i, error_vector) in enumerate(error_vectors)\n",
    "        trace = scatter(\n",
    "            x = iterations,\n",
    "            y = error_vector,\n",
    "            mode = \"lines+markers\",\n",
    "            marker_color = i,\n",
    "            line_shape = \"linear\",\n",
    "            name = labels[i]\n",
    "        )\n",
    "        push!(traces, trace)\n",
    "    end\n",
    "    \n",
    "    layout = Layout(\n",
    "        title = \"Value of element above diagonal σ_i\",\n",
    "        xaxis_title = \"Iteration\",\n",
    "        yaxis_title = \"Error\",\n",
    "        yaxis_type = \"log\",\n",
    "        yaxis_tickformat = \"e\",\n",
    "        showlegend = true\n",
    "    )\n",
    "    \n",
    "    plot(traces, layout)\n",
    "end\n",
    "\n",
    "error_vectors = [\n",
    "    abs.(results[1, 1, :]),\n",
    "    abs.(results[1, 2, :]),\n",
    "    abs.(results[1, 3, :]),\n",
    "    abs.(results[1, 4, :]),\n",
    "    abs.(results[1, 5, :]),\n",
    "    abs.(results[1, 6, :])\n",
    "]\n",
    "labels = [\"σ2\", \"σ3\", \"σ4\", \"σ5\", \"σ6\", \"σ7\"]\n",
    "plot_convergence_error(error_vectors, labels)"
   ]
  },
  {
   "cell_type": "code",
   "execution_count": 419,
   "id": "05362722",
   "metadata": {},
   "outputs": [
    {
     "name": "stdout",
     "output_type": "stream",
     "text": [
      "1×20 adjoint(::Vector{Float64}) with eltype Float64:\n",
      " 2.28433  2.60322  -3.34888  -3.46567  -3.47521  -3.47793  -3.47895  -3.47895  -3.47895  -3.47895  -3.47895  -3.47895  -3.47895  -3.47895  -3.47895  -3.47895  -3.47895  -3.47895  -3.47895  -3.47895"
     ]
    }
   ],
   "source": [
    "# σ_2\n",
    "show(stdout, \"text/plain\", results[2, 1, :]')"
   ]
  },
  {
   "cell_type": "code",
   "execution_count": 420,
   "id": "d819f534",
   "metadata": {},
   "outputs": [
    {
     "name": "stdout",
     "output_type": "stream",
     "text": [
      "1×20 adjoint(::Vector{Float64}) with eltype Float64:\n",
      " 2.33098  0.890415  -0.555888  0.502768  0.407899  -0.345732  -0.994724  -2.43166  -2.64887  -2.6565  -2.6565  -2.6565  -2.6565  -2.6565  -2.6565  -2.6565  -2.6565  -2.6565  -2.6565  -2.6565"
     ]
    }
   ],
   "source": [
    "# σ_3\n",
    "show(stdout, \"text/plain\", results[2, 2, :]')"
   ]
  },
  {
   "cell_type": "code",
   "execution_count": 421,
   "id": "c46fa999",
   "metadata": {},
   "outputs": [
    {
     "name": "stdout",
     "output_type": "stream",
     "text": [
      "1×20 adjoint(::Vector{Float64}) with eltype Float64:\n",
      " -1.31927  1.59928  1.87086  1.77673  1.94616  -2.11325  -0.682696  -0.279246  -0.256348  -0.255611  -0.255611  -0.255611  -0.255611  -0.255611  -0.255611  -0.255611  -0.255611  -0.255611  -0.255611  -0.255611"
     ]
    }
   ],
   "source": [
    "# σ_4\n",
    "show(stdout, \"text/plain\", results[2, 3, :]')"
   ]
  },
  {
   "cell_type": "code",
   "execution_count": 422,
   "id": "56d199f1",
   "metadata": {},
   "outputs": [
    {
     "name": "stdout",
     "output_type": "stream",
     "text": [
      "1×20 adjoint(::Vector{Float64}) with eltype Float64:\n",
      " 1.3314  0.812126  -0.735281  0.803759  0.895994  0.972659  1.04613  1.04623  1.04623  1.04623  1.04623  1.04623  1.04623  1.04623  1.04623  1.04623  1.04623  1.04623  1.04623  1.04623"
     ]
    }
   ],
   "source": [
    "# σ_5\n",
    "show(stdout, \"text/plain\", results[2, 4, :]')"
   ]
  },
  {
   "cell_type": "code",
   "execution_count": 423,
   "id": "9ae74165",
   "metadata": {},
   "outputs": [
    {
     "name": "stdout",
     "output_type": "stream",
     "text": [
      "1×20 adjoint(::Vector{Float64}) with eltype Float64:\n",
      " 1.00129  -1.75554  1.98063  2.02854  2.04046  2.04046  2.04046  2.04046  2.04046  2.04046  2.04046  2.04046  2.04046  2.04046  2.04046  2.04046  2.04046  2.04046  2.04046  2.04046"
     ]
    }
   ],
   "source": [
    "# σ_6\n",
    "show(stdout, \"text/plain\", results[2, 5, :]')"
   ]
  },
  {
   "cell_type": "code",
   "execution_count": 424,
   "id": "345906ad",
   "metadata": {},
   "outputs": [
    {
     "name": "stdout",
     "output_type": "stream",
     "text": [
      "1×20 adjoint(::Vector{Float64}) with eltype Float64:\n",
      " -1.735  1.75875  1.75767  1.75767  1.75767  1.75767  1.75767  1.75767  1.75767  1.75767  1.75767  1.75767  1.75767  1.75767  1.75767  1.75767  1.75767  1.75767  1.75767  1.75767"
     ]
    }
   ],
   "source": [
    "# σ_7\n",
    "show(stdout, \"text/plain\", results[2, 6, :]')"
   ]
  },
  {
   "cell_type": "code",
   "execution_count": 425,
   "id": "97deb2f4",
   "metadata": {},
   "outputs": [
    {
     "data": {
      "text/plain": [
       "7×7 Matrix{Real}:\n",
       " 5.04401   0         0        0         0        0        0\n",
       " 0        -3.47895   0        0         0        0        0\n",
       " 0         0        -2.6565   0         0        0        0\n",
       " 0         0         0       -0.255611  0        0        0\n",
       " 0         0         0        0         1.04623  0        0\n",
       " 0         0         0        0         0        2.04046  0\n",
       " 0         0         0        0         0        0        1.75767"
      ]
     },
     "execution_count": 425,
     "metadata": {},
     "output_type": "execute_result"
    }
   ],
   "source": [
    "S"
   ]
  },
  {
   "cell_type": "markdown",
   "id": "8c73abb3",
   "metadata": {},
   "source": [
    "### Rectangular 9 x 7"
   ]
  },
  {
   "cell_type": "code",
   "execution_count": 426,
   "id": "27caf84a",
   "metadata": {},
   "outputs": [
    {
     "data": {
      "text/plain": [
       "9×7 Matrix{Float64}:\n",
       "  0.531472   -0.471773    0.465741  …   0.351069   -1.99085   -1.03265\n",
       "  0.0360165   0.0647897  -1.15668      -0.717835   -1.29214   -0.366458\n",
       " -0.755366   -0.776155   -1.18559       0.527637   -0.101869   0.364256\n",
       "  0.545841   -1.29451     1.19833       0.917372   -1.81745    1.26737\n",
       " -0.0999943   0.236245   -0.19643       0.561593   -0.251219  -0.835842\n",
       "  0.377985   -2.30091     0.282727  …   0.510967   -1.5463     1.43837\n",
       " -1.19762    -0.31658    -1.15287      -1.46589    -0.615143   0.990382\n",
       "  1.44659    -1.52206     1.07478      -1.95508    -0.174399   0.115243\n",
       " -0.363244    0.438131   -0.753763      0.0778388   0.500505  -0.10534"
      ]
     },
     "execution_count": 426,
     "metadata": {},
     "output_type": "execute_result"
    }
   ],
   "source": [
    "A = randn(9, 7)"
   ]
  },
  {
   "cell_type": "code",
   "execution_count": 427,
   "id": "39a9cf1f",
   "metadata": {},
   "outputs": [],
   "source": [
    "U, S, V, results = svd_num(A, 20, true);"
   ]
  },
  {
   "cell_type": "code",
   "execution_count": 428,
   "id": "81e9a12f",
   "metadata": {},
   "outputs": [
    {
     "name": "stdout",
     "output_type": "stream",
     "text": [
      "4.358432614134915e-14"
     ]
    }
   ],
   "source": [
    "show(stdout, \"text/plain\", opnorm(U * S * V' - A, 1)/opnorm(A, 1))"
   ]
  },
  {
   "cell_type": "code",
   "execution_count": 429,
   "id": "1479be04",
   "metadata": {},
   "outputs": [
    {
     "data": {
      "application/vnd.plotly.v1+json": {
       "config": {
        "editable": false,
        "responsive": true,
        "scrollZoom": true,
        "showLink": false,
        "staticPlot": false
       },
       "data": [
        {
         "line": {
          "shape": "linear"
         },
         "marker": {
          "color": 1
         },
         "mode": "lines+markers",
         "name": "σ2",
         "type": "scatter",
         "x": [
          1,
          2,
          3,
          4,
          5,
          6,
          7,
          8,
          9,
          10,
          11,
          12,
          13,
          14,
          15,
          16,
          17,
          18,
          19,
          20
         ],
         "y": [
          3.0067948940298637,
          2.02515826997658,
          0.9840161853726349,
          0.38377881461502344,
          0.15240301113884047,
          0.06629473078359209,
          0.029542773047542187,
          0.013351357030064764,
          0.006243004706944152,
          0.0014267272464660778,
          0.00032849304485154453,
          6.645200032912747e-05,
          3.776600634237939e-14,
          3.776600634237939e-14,
          3.776600634237939e-14,
          3.776600634237939e-14,
          3.776600634237939e-14,
          3.776600634237939e-14,
          3.776600634237939e-14,
          3.776600634237939e-14
         ]
        },
        {
         "line": {
          "shape": "linear"
         },
         "marker": {
          "color": 2
         },
         "mode": "lines+markers",
         "name": "σ3",
         "type": "scatter",
         "x": [
          1,
          2,
          3,
          4,
          5,
          6,
          7,
          8,
          9,
          10,
          11,
          12,
          13,
          14,
          15,
          16,
          17,
          18,
          19,
          20
         ],
         "y": [
          3.667142458331438,
          1.1694299170080389,
          0.6017197924857631,
          0.5314839666193468,
          0.4312299498472827,
          0.33025447142677333,
          0.24188232538495272,
          0.17296079469858378,
          0.12467708633937068,
          0.018682168127266165,
          0.002846949050043562,
          9.723889041043086e-16,
          9.723889039736009e-16,
          9.723889039736009e-16,
          9.723889039736009e-16,
          9.723889039736009e-16,
          9.723889039736009e-16,
          9.723889039736009e-16,
          9.723889039736009e-16,
          9.723889039736009e-16
         ]
        },
        {
         "line": {
          "shape": "linear"
         },
         "marker": {
          "color": 3
         },
         "mode": "lines+markers",
         "name": "σ4",
         "type": "scatter",
         "x": [
          1,
          2,
          3,
          4,
          5,
          6,
          7,
          8,
          9,
          10,
          11,
          12,
          13,
          14,
          15,
          16,
          17,
          18,
          19,
          20
         ],
         "y": [
          1.3806348275086822,
          2.804762435700994,
          0.8765773694941119,
          0.1754850698529937,
          0.07436064955392303,
          0.06146420008348894,
          0.056159509305101794,
          0.05180157490478437,
          0.04822635843275829,
          0.00016804778443294625,
          1.5602457376253055e-13,
          1.5602414294667716e-13,
          1.5602414294667716e-13,
          1.5602414294667716e-13,
          1.5602414294667716e-13,
          1.5602414294667716e-13,
          1.5602414294667716e-13,
          1.5602414294667716e-13,
          1.5602414294667716e-13,
          1.5602414294667716e-13
         ]
        },
        {
         "line": {
          "shape": "linear"
         },
         "marker": {
          "color": 4
         },
         "mode": "lines+markers",
         "name": "σ5",
         "type": "scatter",
         "x": [
          1,
          2,
          3,
          4,
          5,
          6,
          7,
          8,
          9,
          10,
          11,
          12,
          13,
          14,
          15,
          16,
          17,
          18,
          19,
          20
         ],
         "y": [
          1.4147259603441795,
          0.6171146648720504,
          1.744679007284986,
          2.519217886864201,
          1.1490367715790466,
          0.09500618033337889,
          0.007389885480019813,
          0.0005749583199410718,
          6.8621388566807235e-15,
          6.695756895228087e-15,
          6.696872488349678e-15,
          6.696872488349678e-15,
          6.696872488349678e-15,
          6.696872488349678e-15,
          6.696872488349678e-15,
          6.696872488349678e-15,
          6.696872488349678e-15,
          6.696872488349678e-15,
          6.696872488349678e-15,
          6.696872488349678e-15
         ]
        },
        {
         "line": {
          "shape": "linear"
         },
         "marker": {
          "color": 5
         },
         "mode": "lines+markers",
         "name": "σ6",
         "type": "scatter",
         "x": [
          1,
          2,
          3,
          4,
          5,
          6,
          7,
          8,
          9,
          10,
          11,
          12,
          13,
          14,
          15,
          16,
          17,
          18,
          19,
          20
         ],
         "y": [
          1.266297881526187,
          2.1150935430652034,
          0.5653775020214276,
          0.23419196653365337,
          0.14176034383125743,
          0.0024352680247408387,
          9.087391169397777e-11,
          1.2724463491992228e-15,
          1.2724463383367715e-15,
          1.2724463383367715e-15,
          1.2724463383367715e-15,
          1.2724463383367715e-15,
          1.2724463383367715e-15,
          1.2724463383367715e-15,
          1.2724463383367715e-15,
          1.2724463383367715e-15,
          1.2724463383367715e-15,
          1.2724463383367715e-15,
          1.2724463383367715e-15,
          1.2724463383367715e-15
         ]
        },
        {
         "line": {
          "shape": "linear"
         },
         "marker": {
          "color": 6
         },
         "mode": "lines+markers",
         "name": "σ7",
         "type": "scatter",
         "x": [
          1,
          2,
          3,
          4,
          5,
          6,
          7,
          8,
          9,
          10,
          11,
          12,
          13,
          14,
          15,
          16,
          17,
          18,
          19,
          20
         ],
         "y": [
          1.1727557848562513,
          0.08741553842075343,
          0.0003736131662739375,
          1.0085674943449381e-11,
          4.586802141384974e-18,
          4.6005819691168516e-18,
          4.602119725295979e-18,
          4.6021197253517286e-18,
          4.6021197253517286e-18,
          4.6021197253517286e-18,
          4.6021197253517286e-18,
          4.6021197253517286e-18,
          4.6021197253517286e-18,
          4.6021197253517286e-18,
          4.6021197253517286e-18,
          4.6021197253517286e-18,
          4.6021197253517286e-18,
          4.6021197253517286e-18,
          4.6021197253517286e-18,
          4.6021197253517286e-18
         ]
        }
       ],
       "frames": [],
       "layout": {
        "margin": {
         "b": 50,
         "l": 50,
         "r": 50,
         "t": 60
        },
        "showlegend": true,
        "template": {
         "data": {
          "bar": [
           {
            "error_x": {
             "color": "#2a3f5f"
            },
            "error_y": {
             "color": "#2a3f5f"
            },
            "marker": {
             "line": {
              "color": "#E5ECF6",
              "width": 0.5
             }
            },
            "type": "bar"
           }
          ],
          "barpolar": [
           {
            "marker": {
             "line": {
              "color": "#E5ECF6",
              "width": 0.5
             }
            },
            "type": "barpolar"
           }
          ],
          "carpet": [
           {
            "aaxis": {
             "endlinecolor": "#2a3f5f",
             "gridcolor": "white",
             "linecolor": "white",
             "minorgridcolor": "white",
             "startlinecolor": "#2a3f5f"
            },
            "baxis": {
             "endlinecolor": "#2a3f5f",
             "gridcolor": "white",
             "linecolor": "white",
             "minorgridcolor": "white",
             "startlinecolor": "#2a3f5f"
            },
            "type": "carpet"
           }
          ],
          "choropleth": [
           {
            "colorbar": {
             "outlinewidth": 0,
             "ticks": ""
            },
            "type": "choropleth"
           }
          ],
          "contour": [
           {
            "colorbar": {
             "outlinewidth": 0,
             "ticks": ""
            },
            "colorscale": [
             [
              0,
              "#0d0887"
             ],
             [
              0.1111111111111111,
              "#46039f"
             ],
             [
              0.2222222222222222,
              "#7201a8"
             ],
             [
              0.3333333333333333,
              "#9c179e"
             ],
             [
              0.4444444444444444,
              "#bd3786"
             ],
             [
              0.5555555555555556,
              "#d8576b"
             ],
             [
              0.6666666666666666,
              "#ed7953"
             ],
             [
              0.7777777777777778,
              "#fb9f3a"
             ],
             [
              0.8888888888888888,
              "#fdca26"
             ],
             [
              1,
              "#f0f921"
             ]
            ],
            "type": "contour"
           }
          ],
          "contourcarpet": [
           {
            "colorbar": {
             "outlinewidth": 0,
             "ticks": ""
            },
            "type": "contourcarpet"
           }
          ],
          "heatmap": [
           {
            "colorbar": {
             "outlinewidth": 0,
             "ticks": ""
            },
            "colorscale": [
             [
              0,
              "#0d0887"
             ],
             [
              0.1111111111111111,
              "#46039f"
             ],
             [
              0.2222222222222222,
              "#7201a8"
             ],
             [
              0.3333333333333333,
              "#9c179e"
             ],
             [
              0.4444444444444444,
              "#bd3786"
             ],
             [
              0.5555555555555556,
              "#d8576b"
             ],
             [
              0.6666666666666666,
              "#ed7953"
             ],
             [
              0.7777777777777778,
              "#fb9f3a"
             ],
             [
              0.8888888888888888,
              "#fdca26"
             ],
             [
              1,
              "#f0f921"
             ]
            ],
            "type": "heatmap"
           }
          ],
          "heatmapgl": [
           {
            "colorbar": {
             "outlinewidth": 0,
             "ticks": ""
            },
            "colorscale": [
             [
              0,
              "#0d0887"
             ],
             [
              0.1111111111111111,
              "#46039f"
             ],
             [
              0.2222222222222222,
              "#7201a8"
             ],
             [
              0.3333333333333333,
              "#9c179e"
             ],
             [
              0.4444444444444444,
              "#bd3786"
             ],
             [
              0.5555555555555556,
              "#d8576b"
             ],
             [
              0.6666666666666666,
              "#ed7953"
             ],
             [
              0.7777777777777778,
              "#fb9f3a"
             ],
             [
              0.8888888888888888,
              "#fdca26"
             ],
             [
              1,
              "#f0f921"
             ]
            ],
            "type": "heatmapgl"
           }
          ],
          "histogram": [
           {
            "marker": {
             "colorbar": {
              "outlinewidth": 0,
              "ticks": ""
             }
            },
            "type": "histogram"
           }
          ],
          "histogram2d": [
           {
            "colorbar": {
             "outlinewidth": 0,
             "ticks": ""
            },
            "colorscale": [
             [
              0,
              "#0d0887"
             ],
             [
              0.1111111111111111,
              "#46039f"
             ],
             [
              0.2222222222222222,
              "#7201a8"
             ],
             [
              0.3333333333333333,
              "#9c179e"
             ],
             [
              0.4444444444444444,
              "#bd3786"
             ],
             [
              0.5555555555555556,
              "#d8576b"
             ],
             [
              0.6666666666666666,
              "#ed7953"
             ],
             [
              0.7777777777777778,
              "#fb9f3a"
             ],
             [
              0.8888888888888888,
              "#fdca26"
             ],
             [
              1,
              "#f0f921"
             ]
            ],
            "type": "histogram2d"
           }
          ],
          "histogram2dcontour": [
           {
            "colorbar": {
             "outlinewidth": 0,
             "ticks": ""
            },
            "colorscale": [
             [
              0,
              "#0d0887"
             ],
             [
              0.1111111111111111,
              "#46039f"
             ],
             [
              0.2222222222222222,
              "#7201a8"
             ],
             [
              0.3333333333333333,
              "#9c179e"
             ],
             [
              0.4444444444444444,
              "#bd3786"
             ],
             [
              0.5555555555555556,
              "#d8576b"
             ],
             [
              0.6666666666666666,
              "#ed7953"
             ],
             [
              0.7777777777777778,
              "#fb9f3a"
             ],
             [
              0.8888888888888888,
              "#fdca26"
             ],
             [
              1,
              "#f0f921"
             ]
            ],
            "type": "histogram2dcontour"
           }
          ],
          "mesh3d": [
           {
            "colorbar": {
             "outlinewidth": 0,
             "ticks": ""
            },
            "type": "mesh3d"
           }
          ],
          "parcoords": [
           {
            "line": {
             "colorbar": {
              "outlinewidth": 0,
              "ticks": ""
             }
            },
            "type": "parcoords"
           }
          ],
          "pie": [
           {
            "automargin": true,
            "type": "pie"
           }
          ],
          "scatter": [
           {
            "marker": {
             "colorbar": {
              "outlinewidth": 0,
              "ticks": ""
             }
            },
            "type": "scatter"
           }
          ],
          "scatter3d": [
           {
            "line": {
             "colorbar": {
              "outlinewidth": 0,
              "ticks": ""
             }
            },
            "marker": {
             "colorbar": {
              "outlinewidth": 0,
              "ticks": ""
             }
            },
            "type": "scatter3d"
           }
          ],
          "scattercarpet": [
           {
            "marker": {
             "colorbar": {
              "outlinewidth": 0,
              "ticks": ""
             }
            },
            "type": "scattercarpet"
           }
          ],
          "scattergeo": [
           {
            "marker": {
             "colorbar": {
              "outlinewidth": 0,
              "ticks": ""
             }
            },
            "type": "scattergeo"
           }
          ],
          "scattergl": [
           {
            "marker": {
             "colorbar": {
              "outlinewidth": 0,
              "ticks": ""
             }
            },
            "type": "scattergl"
           }
          ],
          "scattermapbox": [
           {
            "marker": {
             "colorbar": {
              "outlinewidth": 0,
              "ticks": ""
             }
            },
            "type": "scattermapbox"
           }
          ],
          "scatterpolar": [
           {
            "marker": {
             "colorbar": {
              "outlinewidth": 0,
              "ticks": ""
             }
            },
            "type": "scatterpolar"
           }
          ],
          "scatterpolargl": [
           {
            "marker": {
             "colorbar": {
              "outlinewidth": 0,
              "ticks": ""
             }
            },
            "type": "scatterpolargl"
           }
          ],
          "scatterternary": [
           {
            "marker": {
             "colorbar": {
              "outlinewidth": 0,
              "ticks": ""
             }
            },
            "type": "scatterternary"
           }
          ],
          "surface": [
           {
            "colorbar": {
             "outlinewidth": 0,
             "ticks": ""
            },
            "colorscale": [
             [
              0,
              "#0d0887"
             ],
             [
              0.1111111111111111,
              "#46039f"
             ],
             [
              0.2222222222222222,
              "#7201a8"
             ],
             [
              0.3333333333333333,
              "#9c179e"
             ],
             [
              0.4444444444444444,
              "#bd3786"
             ],
             [
              0.5555555555555556,
              "#d8576b"
             ],
             [
              0.6666666666666666,
              "#ed7953"
             ],
             [
              0.7777777777777778,
              "#fb9f3a"
             ],
             [
              0.8888888888888888,
              "#fdca26"
             ],
             [
              1,
              "#f0f921"
             ]
            ],
            "type": "surface"
           }
          ],
          "table": [
           {
            "cells": {
             "fill": {
              "color": "#EBF0F8"
             },
             "line": {
              "color": "white"
             }
            },
            "header": {
             "fill": {
              "color": "#C8D4E3"
             },
             "line": {
              "color": "white"
             }
            },
            "type": "table"
           }
          ]
         },
         "layout": {
          "annotationdefaults": {
           "arrowcolor": "#2a3f5f",
           "arrowhead": 0,
           "arrowwidth": 1
          },
          "autotypenumbers": "strict",
          "coloraxis": {
           "colorbar": {
            "outlinewidth": 0,
            "ticks": ""
           }
          },
          "colorscale": {
           "diverging": [
            [
             0,
             "#8e0152"
            ],
            [
             0.1,
             "#c51b7d"
            ],
            [
             0.2,
             "#de77ae"
            ],
            [
             0.3,
             "#f1b6da"
            ],
            [
             0.4,
             "#fde0ef"
            ],
            [
             0.5,
             "#f7f7f7"
            ],
            [
             0.6,
             "#e6f5d0"
            ],
            [
             0.7,
             "#b8e186"
            ],
            [
             0.8,
             "#7fbc41"
            ],
            [
             0.9,
             "#4d9221"
            ],
            [
             1,
             "#276419"
            ]
           ],
           "sequential": [
            [
             0,
             "#0d0887"
            ],
            [
             0.1111111111111111,
             "#46039f"
            ],
            [
             0.2222222222222222,
             "#7201a8"
            ],
            [
             0.3333333333333333,
             "#9c179e"
            ],
            [
             0.4444444444444444,
             "#bd3786"
            ],
            [
             0.5555555555555556,
             "#d8576b"
            ],
            [
             0.6666666666666666,
             "#ed7953"
            ],
            [
             0.7777777777777778,
             "#fb9f3a"
            ],
            [
             0.8888888888888888,
             "#fdca26"
            ],
            [
             1,
             "#f0f921"
            ]
           ],
           "sequentialminus": [
            [
             0,
             "#0d0887"
            ],
            [
             0.1111111111111111,
             "#46039f"
            ],
            [
             0.2222222222222222,
             "#7201a8"
            ],
            [
             0.3333333333333333,
             "#9c179e"
            ],
            [
             0.4444444444444444,
             "#bd3786"
            ],
            [
             0.5555555555555556,
             "#d8576b"
            ],
            [
             0.6666666666666666,
             "#ed7953"
            ],
            [
             0.7777777777777778,
             "#fb9f3a"
            ],
            [
             0.8888888888888888,
             "#fdca26"
            ],
            [
             1,
             "#f0f921"
            ]
           ]
          },
          "colorway": [
           "#636efa",
           "#EF553B",
           "#00cc96",
           "#ab63fa",
           "#FFA15A",
           "#19d3f3",
           "#FF6692",
           "#B6E880",
           "#FF97FF",
           "#FECB52"
          ],
          "font": {
           "color": "#2a3f5f"
          },
          "geo": {
           "bgcolor": "white",
           "lakecolor": "white",
           "landcolor": "#E5ECF6",
           "showlakes": true,
           "showland": true,
           "subunitcolor": "white"
          },
          "hoverlabel": {
           "align": "left"
          },
          "hovermode": "closest",
          "mapbox": {
           "style": "light"
          },
          "paper_bgcolor": "white",
          "plot_bgcolor": "#E5ECF6",
          "polar": {
           "angularaxis": {
            "gridcolor": "white",
            "linecolor": "white",
            "ticks": ""
           },
           "bgcolor": "#E5ECF6",
           "radialaxis": {
            "gridcolor": "white",
            "linecolor": "white",
            "ticks": ""
           }
          },
          "scene": {
           "xaxis": {
            "backgroundcolor": "#E5ECF6",
            "gridcolor": "white",
            "gridwidth": 2,
            "linecolor": "white",
            "showbackground": true,
            "ticks": "",
            "zerolinecolor": "white"
           },
           "yaxis": {
            "backgroundcolor": "#E5ECF6",
            "gridcolor": "white",
            "gridwidth": 2,
            "linecolor": "white",
            "showbackground": true,
            "ticks": "",
            "zerolinecolor": "white"
           },
           "zaxis": {
            "backgroundcolor": "#E5ECF6",
            "gridcolor": "white",
            "gridwidth": 2,
            "linecolor": "white",
            "showbackground": true,
            "ticks": "",
            "zerolinecolor": "white"
           }
          },
          "shapedefaults": {
           "line": {
            "color": "#2a3f5f"
           }
          },
          "ternary": {
           "aaxis": {
            "gridcolor": "white",
            "linecolor": "white",
            "ticks": ""
           },
           "baxis": {
            "gridcolor": "white",
            "linecolor": "white",
            "ticks": ""
           },
           "bgcolor": "#E5ECF6",
           "caxis": {
            "gridcolor": "white",
            "linecolor": "white",
            "ticks": ""
           }
          },
          "title": {
           "x": 0.05
          },
          "xaxis": {
           "automargin": true,
           "gridcolor": "white",
           "linecolor": "white",
           "ticks": "",
           "title": {
            "standoff": 15
           },
           "zerolinecolor": "white",
           "zerolinewidth": 2
          },
          "yaxis": {
           "automargin": true,
           "gridcolor": "white",
           "linecolor": "white",
           "ticks": "",
           "title": {
            "standoff": 15
           },
           "zerolinecolor": "white",
           "zerolinewidth": 2
          }
         }
        },
        "title": "Value of element above diagonal σ_i",
        "xaxis": {
         "title": {
          "text": "Iteration"
         }
        },
        "yaxis": {
         "tickformat": "e",
         "title": {
          "text": "Error"
         },
         "type": "log"
        }
       }
      },
      "text/html": [
       "<div\n",
       "    class=\"webio-mountpoint\"\n",
       "    data-webio-mountpoint=\"12769577804577854341\"\n",
       ">\n",
       "    <script>\n",
       "    (function(){\n",
       "    // Some integrations (namely, IJulia/Jupyter) use an alternate render pathway than\n",
       "    // just putting the html on the page. If WebIO isn't defined, then it's pretty likely\n",
       "    // that we're in one of those situations and the integration just isn't installed\n",
       "    // correctly.\n",
       "    if (typeof window.WebIO === \"undefined\") {\n",
       "        document\n",
       "            .querySelector('[data-webio-mountpoint=\"12769577804577854341\"]')\n",
       "            .innerHTML = (\n",
       "                '<div style=\"padding: 1em; background-color: #f8d6da; border: 1px solid #f5c6cb; font-weight: bold;\">' +\n",
       "                '<p><strong>WebIO not detected.</strong></p>' +\n",
       "                '<p>Please read ' +\n",
       "                '<a href=\"https://juliagizmos.github.io/WebIO.jl/latest/troubleshooting/not-detected/\" target=\"_blank\">the troubleshooting guide</a> ' +\n",
       "                'for more information on how to resolve this issue.</p>' +\n",
       "                '<p><a href=\"https://juliagizmos.github.io/WebIO.jl/latest/troubleshooting/not-detected/\" target=\"_blank\">https://juliagizmos.github.io/WebIO.jl/latest/troubleshooting/not-detected/</a></p>' +\n",
       "                '</div>'\n",
       "            );\n",
       "        return;\n",
       "    }\n",
       "    WebIO.mount(\n",
       "        document.querySelector('[data-webio-mountpoint=\"12769577804577854341\"]'),\n",
       "        {\"props\":{},\"nodeType\":\"Scope\",\"type\":\"node\",\"instanceArgs\":{\"imports\":{\"data\":[{\"name\":\"Plotly\",\"type\":\"js\",\"url\":\"\\/assetserver\\/d6feb8d8ce4676ebdde817a0745950a35b4ba3ae-plotly.min.js\"},{\"name\":null,\"type\":\"js\",\"url\":\"\\/assetserver\\/46c9ff4df7c73b5875052df387368a00f6cfc484-plotly_webio.bundle.js\"}],\"type\":\"async_block\"},\"id\":\"5587810285631353838\",\"handlers\":{\"_toImage\":[\"(function (options){return this.Plotly.toImage(this.plotElem,options).then((function (data){return WebIO.setval({\\\"name\\\":\\\"image\\\",\\\"scope\\\":\\\"5587810285631353838\\\",\\\"id\\\":\\\"225\\\",\\\"type\\\":\\\"observable\\\"},data)}))})\"],\"__get_gd_contents\":[\"(function (prop){prop==\\\"data\\\" ? (WebIO.setval({\\\"name\\\":\\\"__gd_contents\\\",\\\"scope\\\":\\\"5587810285631353838\\\",\\\"id\\\":\\\"226\\\",\\\"type\\\":\\\"observable\\\"},this.plotElem.data)) : undefined; return prop==\\\"layout\\\" ? (WebIO.setval({\\\"name\\\":\\\"__gd_contents\\\",\\\"scope\\\":\\\"5587810285631353838\\\",\\\"id\\\":\\\"226\\\",\\\"type\\\":\\\"observable\\\"},this.plotElem.layout)) : undefined})\"],\"_downloadImage\":[\"(function (options){return this.Plotly.downloadImage(this.plotElem,options)})\"],\"_commands\":[\"(function (args){var fn=args.shift(); var elem=this.plotElem; var Plotly=this.Plotly; args.unshift(elem); return Plotly[fn].apply(this,args)})\"]},\"systemjs_options\":null,\"mount_callbacks\":[\"function () {\\n    var handler = ((function (Plotly,PlotlyWebIO){PlotlyWebIO.init(WebIO); var gd=this.dom.querySelector(\\\"#plot-e54fe39a-f699-4907-b0f5-8d94a4819d6c\\\"); this.plotElem=gd; this.Plotly=Plotly; (window.Blink!==undefined) ? (gd.style.width=\\\"100%\\\", gd.style.height=\\\"100vh\\\", gd.style.marginLeft=\\\"0%\\\", gd.style.marginTop=\\\"0vh\\\") : undefined; window.onresize=(function (){return Plotly.Plots.resize(gd)}); Plotly.newPlot(gd,[{\\\"x\\\":[1,2,3,4,5,6,7,8,9,10,11,12,13,14,15,16,17,18,19,20],\\\"mode\\\":\\\"lines+markers\\\",\\\"line\\\":{\\\"shape\\\":\\\"linear\\\"},\\\"y\\\":[3.0067948940298637,2.02515826997658,0.9840161853726349,0.38377881461502344,0.15240301113884047,0.06629473078359209,0.029542773047542187,0.013351357030064764,0.006243004706944152,0.0014267272464660778,0.00032849304485154453,6.645200032912747e-5,3.776600634237939e-14,3.776600634237939e-14,3.776600634237939e-14,3.776600634237939e-14,3.776600634237939e-14,3.776600634237939e-14,3.776600634237939e-14,3.776600634237939e-14],\\\"type\\\":\\\"scatter\\\",\\\"name\\\":\\\"σ2\\\",\\\"marker\\\":{\\\"color\\\":1}},{\\\"x\\\":[1,2,3,4,5,6,7,8,9,10,11,12,13,14,15,16,17,18,19,20],\\\"mode\\\":\\\"lines+markers\\\",\\\"line\\\":{\\\"shape\\\":\\\"linear\\\"},\\\"y\\\":[3.667142458331438,1.1694299170080389,0.6017197924857631,0.5314839666193468,0.4312299498472827,0.33025447142677333,0.24188232538495272,0.17296079469858378,0.12467708633937068,0.018682168127266165,0.002846949050043562,9.723889041043086e-16,9.723889039736009e-16,9.723889039736009e-16,9.723889039736009e-16,9.723889039736009e-16,9.723889039736009e-16,9.723889039736009e-16,9.723889039736009e-16,9.723889039736009e-16],\\\"type\\\":\\\"scatter\\\",\\\"name\\\":\\\"σ3\\\",\\\"marker\\\":{\\\"color\\\":2}},{\\\"x\\\":[1,2,3,4,5,6,7,8,9,10,11,12,13,14,15,16,17,18,19,20],\\\"mode\\\":\\\"lines+markers\\\",\\\"line\\\":{\\\"shape\\\":\\\"linear\\\"},\\\"y\\\":[1.3806348275086822,2.804762435700994,0.8765773694941119,0.1754850698529937,0.07436064955392303,0.06146420008348894,0.056159509305101794,0.05180157490478437,0.04822635843275829,0.00016804778443294625,1.5602457376253055e-13,1.5602414294667716e-13,1.5602414294667716e-13,1.5602414294667716e-13,1.5602414294667716e-13,1.5602414294667716e-13,1.5602414294667716e-13,1.5602414294667716e-13,1.5602414294667716e-13,1.5602414294667716e-13],\\\"type\\\":\\\"scatter\\\",\\\"name\\\":\\\"σ4\\\",\\\"marker\\\":{\\\"color\\\":3}},{\\\"x\\\":[1,2,3,4,5,6,7,8,9,10,11,12,13,14,15,16,17,18,19,20],\\\"mode\\\":\\\"lines+markers\\\",\\\"line\\\":{\\\"shape\\\":\\\"linear\\\"},\\\"y\\\":[1.4147259603441795,0.6171146648720504,1.744679007284986,2.519217886864201,1.1490367715790466,0.09500618033337889,0.007389885480019813,0.0005749583199410718,6.8621388566807235e-15,6.695756895228087e-15,6.696872488349678e-15,6.696872488349678e-15,6.696872488349678e-15,6.696872488349678e-15,6.696872488349678e-15,6.696872488349678e-15,6.696872488349678e-15,6.696872488349678e-15,6.696872488349678e-15,6.696872488349678e-15],\\\"type\\\":\\\"scatter\\\",\\\"name\\\":\\\"σ5\\\",\\\"marker\\\":{\\\"color\\\":4}},{\\\"x\\\":[1,2,3,4,5,6,7,8,9,10,11,12,13,14,15,16,17,18,19,20],\\\"mode\\\":\\\"lines+markers\\\",\\\"line\\\":{\\\"shape\\\":\\\"linear\\\"},\\\"y\\\":[1.266297881526187,2.1150935430652034,0.5653775020214276,0.23419196653365337,0.14176034383125743,0.0024352680247408387,9.087391169397777e-11,1.2724463491992228e-15,1.2724463383367715e-15,1.2724463383367715e-15,1.2724463383367715e-15,1.2724463383367715e-15,1.2724463383367715e-15,1.2724463383367715e-15,1.2724463383367715e-15,1.2724463383367715e-15,1.2724463383367715e-15,1.2724463383367715e-15,1.2724463383367715e-15,1.2724463383367715e-15],\\\"type\\\":\\\"scatter\\\",\\\"name\\\":\\\"σ6\\\",\\\"marker\\\":{\\\"color\\\":5}},{\\\"x\\\":[1,2,3,4,5,6,7,8,9,10,11,12,13,14,15,16,17,18,19,20],\\\"mode\\\":\\\"lines+markers\\\",\\\"line\\\":{\\\"shape\\\":\\\"linear\\\"},\\\"y\\\":[1.1727557848562513,0.08741553842075343,0.0003736131662739375,1.0085674943449381e-11,4.586802141384974e-18,4.6005819691168516e-18,4.602119725295979e-18,4.6021197253517286e-18,4.6021197253517286e-18,4.6021197253517286e-18,4.6021197253517286e-18,4.6021197253517286e-18,4.6021197253517286e-18,4.6021197253517286e-18,4.6021197253517286e-18,4.6021197253517286e-18,4.6021197253517286e-18,4.6021197253517286e-18,4.6021197253517286e-18,4.6021197253517286e-18],\\\"type\\\":\\\"scatter\\\",\\\"name\\\":\\\"σ7\\\",\\\"marker\\\":{\\\"color\\\":6}}],{\\\"showlegend\\\":true,\\\"xaxis\\\":{\\\"title\\\":{\\\"text\\\":\\\"Iteration\\\"}},\\\"template\\\":{\\\"layout\\\":{\\\"coloraxis\\\":{\\\"colorbar\\\":{\\\"ticks\\\":\\\"\\\",\\\"outlinewidth\\\":0}},\\\"xaxis\\\":{\\\"gridcolor\\\":\\\"white\\\",\\\"zerolinewidth\\\":2,\\\"title\\\":{\\\"standoff\\\":15},\\\"ticks\\\":\\\"\\\",\\\"zerolinecolor\\\":\\\"white\\\",\\\"automargin\\\":true,\\\"linecolor\\\":\\\"white\\\"},\\\"hovermode\\\":\\\"closest\\\",\\\"paper_bgcolor\\\":\\\"white\\\",\\\"geo\\\":{\\\"showlakes\\\":true,\\\"showland\\\":true,\\\"landcolor\\\":\\\"#E5ECF6\\\",\\\"bgcolor\\\":\\\"white\\\",\\\"subunitcolor\\\":\\\"white\\\",\\\"lakecolor\\\":\\\"white\\\"},\\\"colorscale\\\":{\\\"sequential\\\":[[0.0,\\\"#0d0887\\\"],[0.1111111111111111,\\\"#46039f\\\"],[0.2222222222222222,\\\"#7201a8\\\"],[0.3333333333333333,\\\"#9c179e\\\"],[0.4444444444444444,\\\"#bd3786\\\"],[0.5555555555555556,\\\"#d8576b\\\"],[0.6666666666666666,\\\"#ed7953\\\"],[0.7777777777777778,\\\"#fb9f3a\\\"],[0.8888888888888888,\\\"#fdca26\\\"],[1.0,\\\"#f0f921\\\"]],\\\"diverging\\\":[[0,\\\"#8e0152\\\"],[0.1,\\\"#c51b7d\\\"],[0.2,\\\"#de77ae\\\"],[0.3,\\\"#f1b6da\\\"],[0.4,\\\"#fde0ef\\\"],[0.5,\\\"#f7f7f7\\\"],[0.6,\\\"#e6f5d0\\\"],[0.7,\\\"#b8e186\\\"],[0.8,\\\"#7fbc41\\\"],[0.9,\\\"#4d9221\\\"],[1,\\\"#276419\\\"]],\\\"sequentialminus\\\":[[0.0,\\\"#0d0887\\\"],[0.1111111111111111,\\\"#46039f\\\"],[0.2222222222222222,\\\"#7201a8\\\"],[0.3333333333333333,\\\"#9c179e\\\"],[0.4444444444444444,\\\"#bd3786\\\"],[0.5555555555555556,\\\"#d8576b\\\"],[0.6666666666666666,\\\"#ed7953\\\"],[0.7777777777777778,\\\"#fb9f3a\\\"],[0.8888888888888888,\\\"#fdca26\\\"],[1.0,\\\"#f0f921\\\"]]},\\\"yaxis\\\":{\\\"gridcolor\\\":\\\"white\\\",\\\"zerolinewidth\\\":2,\\\"title\\\":{\\\"standoff\\\":15},\\\"ticks\\\":\\\"\\\",\\\"zerolinecolor\\\":\\\"white\\\",\\\"automargin\\\":true,\\\"linecolor\\\":\\\"white\\\"},\\\"shapedefaults\\\":{\\\"line\\\":{\\\"color\\\":\\\"#2a3f5f\\\"}},\\\"hoverlabel\\\":{\\\"align\\\":\\\"left\\\"},\\\"mapbox\\\":{\\\"style\\\":\\\"light\\\"},\\\"polar\\\":{\\\"angularaxis\\\":{\\\"gridcolor\\\":\\\"white\\\",\\\"ticks\\\":\\\"\\\",\\\"linecolor\\\":\\\"white\\\"},\\\"bgcolor\\\":\\\"#E5ECF6\\\",\\\"radialaxis\\\":{\\\"gridcolor\\\":\\\"white\\\",\\\"ticks\\\":\\\"\\\",\\\"linecolor\\\":\\\"white\\\"}},\\\"autotypenumbers\\\":\\\"strict\\\",\\\"font\\\":{\\\"color\\\":\\\"#2a3f5f\\\"},\\\"ternary\\\":{\\\"baxis\\\":{\\\"gridcolor\\\":\\\"white\\\",\\\"ticks\\\":\\\"\\\",\\\"linecolor\\\":\\\"white\\\"},\\\"bgcolor\\\":\\\"#E5ECF6\\\",\\\"caxis\\\":{\\\"gridcolor\\\":\\\"white\\\",\\\"ticks\\\":\\\"\\\",\\\"linecolor\\\":\\\"white\\\"},\\\"aaxis\\\":{\\\"gridcolor\\\":\\\"white\\\",\\\"ticks\\\":\\\"\\\",\\\"linecolor\\\":\\\"white\\\"}},\\\"annotationdefaults\\\":{\\\"arrowhead\\\":0,\\\"arrowwidth\\\":1,\\\"arrowcolor\\\":\\\"#2a3f5f\\\"},\\\"plot_bgcolor\\\":\\\"#E5ECF6\\\",\\\"title\\\":{\\\"x\\\":0.05},\\\"scene\\\":{\\\"xaxis\\\":{\\\"gridcolor\\\":\\\"white\\\",\\\"gridwidth\\\":2,\\\"backgroundcolor\\\":\\\"#E5ECF6\\\",\\\"ticks\\\":\\\"\\\",\\\"showbackground\\\":true,\\\"zerolinecolor\\\":\\\"white\\\",\\\"linecolor\\\":\\\"white\\\"},\\\"zaxis\\\":{\\\"gridcolor\\\":\\\"white\\\",\\\"gridwidth\\\":2,\\\"backgroundcolor\\\":\\\"#E5ECF6\\\",\\\"ticks\\\":\\\"\\\",\\\"showbackground\\\":true,\\\"zerolinecolor\\\":\\\"white\\\",\\\"linecolor\\\":\\\"white\\\"},\\\"yaxis\\\":{\\\"gridcolor\\\":\\\"white\\\",\\\"gridwidth\\\":2,\\\"backgroundcolor\\\":\\\"#E5ECF6\\\",\\\"ticks\\\":\\\"\\\",\\\"showbackground\\\":true,\\\"zerolinecolor\\\":\\\"white\\\",\\\"linecolor\\\":\\\"white\\\"}},\\\"colorway\\\":[\\\"#636efa\\\",\\\"#EF553B\\\",\\\"#00cc96\\\",\\\"#ab63fa\\\",\\\"#FFA15A\\\",\\\"#19d3f3\\\",\\\"#FF6692\\\",\\\"#B6E880\\\",\\\"#FF97FF\\\",\\\"#FECB52\\\"]},\\\"data\\\":{\\\"barpolar\\\":[{\\\"type\\\":\\\"barpolar\\\",\\\"marker\\\":{\\\"line\\\":{\\\"color\\\":\\\"#E5ECF6\\\",\\\"width\\\":0.5}}}],\\\"carpet\\\":[{\\\"aaxis\\\":{\\\"gridcolor\\\":\\\"white\\\",\\\"endlinecolor\\\":\\\"#2a3f5f\\\",\\\"minorgridcolor\\\":\\\"white\\\",\\\"startlinecolor\\\":\\\"#2a3f5f\\\",\\\"linecolor\\\":\\\"white\\\"},\\\"type\\\":\\\"carpet\\\",\\\"baxis\\\":{\\\"gridcolor\\\":\\\"white\\\",\\\"endlinecolor\\\":\\\"#2a3f5f\\\",\\\"minorgridcolor\\\":\\\"white\\\",\\\"startlinecolor\\\":\\\"#2a3f5f\\\",\\\"linecolor\\\":\\\"white\\\"}}],\\\"scatterpolar\\\":[{\\\"type\\\":\\\"scatterpolar\\\",\\\"marker\\\":{\\\"colorbar\\\":{\\\"ticks\\\":\\\"\\\",\\\"outlinewidth\\\":0}}}],\\\"parcoords\\\":[{\\\"line\\\":{\\\"colorbar\\\":{\\\"ticks\\\":\\\"\\\",\\\"outlinewidth\\\":0}},\\\"type\\\":\\\"parcoords\\\"}],\\\"scatter\\\":[{\\\"type\\\":\\\"scatter\\\",\\\"marker\\\":{\\\"colorbar\\\":{\\\"ticks\\\":\\\"\\\",\\\"outlinewidth\\\":0}}}],\\\"histogram2dcontour\\\":[{\\\"colorbar\\\":{\\\"ticks\\\":\\\"\\\",\\\"outlinewidth\\\":0},\\\"type\\\":\\\"histogram2dcontour\\\",\\\"colorscale\\\":[[0.0,\\\"#0d0887\\\"],[0.1111111111111111,\\\"#46039f\\\"],[0.2222222222222222,\\\"#7201a8\\\"],[0.3333333333333333,\\\"#9c179e\\\"],[0.4444444444444444,\\\"#bd3786\\\"],[0.5555555555555556,\\\"#d8576b\\\"],[0.6666666666666666,\\\"#ed7953\\\"],[0.7777777777777778,\\\"#fb9f3a\\\"],[0.8888888888888888,\\\"#fdca26\\\"],[1.0,\\\"#f0f921\\\"]]}],\\\"contour\\\":[{\\\"colorbar\\\":{\\\"ticks\\\":\\\"\\\",\\\"outlinewidth\\\":0},\\\"type\\\":\\\"contour\\\",\\\"colorscale\\\":[[0.0,\\\"#0d0887\\\"],[0.1111111111111111,\\\"#46039f\\\"],[0.2222222222222222,\\\"#7201a8\\\"],[0.3333333333333333,\\\"#9c179e\\\"],[0.4444444444444444,\\\"#bd3786\\\"],[0.5555555555555556,\\\"#d8576b\\\"],[0.6666666666666666,\\\"#ed7953\\\"],[0.7777777777777778,\\\"#fb9f3a\\\"],[0.8888888888888888,\\\"#fdca26\\\"],[1.0,\\\"#f0f921\\\"]]}],\\\"scattercarpet\\\":[{\\\"type\\\":\\\"scattercarpet\\\",\\\"marker\\\":{\\\"colorbar\\\":{\\\"ticks\\\":\\\"\\\",\\\"outlinewidth\\\":0}}}],\\\"mesh3d\\\":[{\\\"colorbar\\\":{\\\"ticks\\\":\\\"\\\",\\\"outlinewidth\\\":0},\\\"type\\\":\\\"mesh3d\\\"}],\\\"surface\\\":[{\\\"colorbar\\\":{\\\"ticks\\\":\\\"\\\",\\\"outlinewidth\\\":0},\\\"type\\\":\\\"surface\\\",\\\"colorscale\\\":[[0.0,\\\"#0d0887\\\"],[0.1111111111111111,\\\"#46039f\\\"],[0.2222222222222222,\\\"#7201a8\\\"],[0.3333333333333333,\\\"#9c179e\\\"],[0.4444444444444444,\\\"#bd3786\\\"],[0.5555555555555556,\\\"#d8576b\\\"],[0.6666666666666666,\\\"#ed7953\\\"],[0.7777777777777778,\\\"#fb9f3a\\\"],[0.8888888888888888,\\\"#fdca26\\\"],[1.0,\\\"#f0f921\\\"]]}],\\\"scattermapbox\\\":[{\\\"type\\\":\\\"scattermapbox\\\",\\\"marker\\\":{\\\"colorbar\\\":{\\\"ticks\\\":\\\"\\\",\\\"outlinewidth\\\":0}}}],\\\"scattergeo\\\":[{\\\"type\\\":\\\"scattergeo\\\",\\\"marker\\\":{\\\"colorbar\\\":{\\\"ticks\\\":\\\"\\\",\\\"outlinewidth\\\":0}}}],\\\"histogram\\\":[{\\\"type\\\":\\\"histogram\\\",\\\"marker\\\":{\\\"colorbar\\\":{\\\"ticks\\\":\\\"\\\",\\\"outlinewidth\\\":0}}}],\\\"pie\\\":[{\\\"type\\\":\\\"pie\\\",\\\"automargin\\\":true}],\\\"choropleth\\\":[{\\\"colorbar\\\":{\\\"ticks\\\":\\\"\\\",\\\"outlinewidth\\\":0},\\\"type\\\":\\\"choropleth\\\"}],\\\"heatmapgl\\\":[{\\\"colorbar\\\":{\\\"ticks\\\":\\\"\\\",\\\"outlinewidth\\\":0},\\\"type\\\":\\\"heatmapgl\\\",\\\"colorscale\\\":[[0.0,\\\"#0d0887\\\"],[0.1111111111111111,\\\"#46039f\\\"],[0.2222222222222222,\\\"#7201a8\\\"],[0.3333333333333333,\\\"#9c179e\\\"],[0.4444444444444444,\\\"#bd3786\\\"],[0.5555555555555556,\\\"#d8576b\\\"],[0.6666666666666666,\\\"#ed7953\\\"],[0.7777777777777778,\\\"#fb9f3a\\\"],[0.8888888888888888,\\\"#fdca26\\\"],[1.0,\\\"#f0f921\\\"]]}],\\\"bar\\\":[{\\\"type\\\":\\\"bar\\\",\\\"error_y\\\":{\\\"color\\\":\\\"#2a3f5f\\\"},\\\"error_x\\\":{\\\"color\\\":\\\"#2a3f5f\\\"},\\\"marker\\\":{\\\"line\\\":{\\\"color\\\":\\\"#E5ECF6\\\",\\\"width\\\":0.5}}}],\\\"heatmap\\\":[{\\\"colorbar\\\":{\\\"ticks\\\":\\\"\\\",\\\"outlinewidth\\\":0},\\\"type\\\":\\\"heatmap\\\",\\\"colorscale\\\":[[0.0,\\\"#0d0887\\\"],[0.1111111111111111,\\\"#46039f\\\"],[0.2222222222222222,\\\"#7201a8\\\"],[0.3333333333333333,\\\"#9c179e\\\"],[0.4444444444444444,\\\"#bd3786\\\"],[0.5555555555555556,\\\"#d8576b\\\"],[0.6666666666666666,\\\"#ed7953\\\"],[0.7777777777777778,\\\"#fb9f3a\\\"],[0.8888888888888888,\\\"#fdca26\\\"],[1.0,\\\"#f0f921\\\"]]}],\\\"contourcarpet\\\":[{\\\"colorbar\\\":{\\\"ticks\\\":\\\"\\\",\\\"outlinewidth\\\":0},\\\"type\\\":\\\"contourcarpet\\\"}],\\\"table\\\":[{\\\"type\\\":\\\"table\\\",\\\"header\\\":{\\\"line\\\":{\\\"color\\\":\\\"white\\\"},\\\"fill\\\":{\\\"color\\\":\\\"#C8D4E3\\\"}},\\\"cells\\\":{\\\"line\\\":{\\\"color\\\":\\\"white\\\"},\\\"fill\\\":{\\\"color\\\":\\\"#EBF0F8\\\"}}}],\\\"scatter3d\\\":[{\\\"line\\\":{\\\"colorbar\\\":{\\\"ticks\\\":\\\"\\\",\\\"outlinewidth\\\":0}},\\\"type\\\":\\\"scatter3d\\\",\\\"marker\\\":{\\\"colorbar\\\":{\\\"ticks\\\":\\\"\\\",\\\"outlinewidth\\\":0}}}],\\\"scattergl\\\":[{\\\"type\\\":\\\"scattergl\\\",\\\"marker\\\":{\\\"colorbar\\\":{\\\"ticks\\\":\\\"\\\",\\\"outlinewidth\\\":0}}}],\\\"histogram2d\\\":[{\\\"colorbar\\\":{\\\"ticks\\\":\\\"\\\",\\\"outlinewidth\\\":0},\\\"type\\\":\\\"histogram2d\\\",\\\"colorscale\\\":[[0.0,\\\"#0d0887\\\"],[0.1111111111111111,\\\"#46039f\\\"],[0.2222222222222222,\\\"#7201a8\\\"],[0.3333333333333333,\\\"#9c179e\\\"],[0.4444444444444444,\\\"#bd3786\\\"],[0.5555555555555556,\\\"#d8576b\\\"],[0.6666666666666666,\\\"#ed7953\\\"],[0.7777777777777778,\\\"#fb9f3a\\\"],[0.8888888888888888,\\\"#fdca26\\\"],[1.0,\\\"#f0f921\\\"]]}],\\\"scatterternary\\\":[{\\\"type\\\":\\\"scatterternary\\\",\\\"marker\\\":{\\\"colorbar\\\":{\\\"ticks\\\":\\\"\\\",\\\"outlinewidth\\\":0}}}],\\\"scatterpolargl\\\":[{\\\"type\\\":\\\"scatterpolargl\\\",\\\"marker\\\":{\\\"colorbar\\\":{\\\"ticks\\\":\\\"\\\",\\\"outlinewidth\\\":0}}}]}},\\\"margin\\\":{\\\"l\\\":50,\\\"b\\\":50,\\\"r\\\":50,\\\"t\\\":60},\\\"title\\\":\\\"Value of element above diagonal σ_i\\\",\\\"yaxis\\\":{\\\"type\\\":\\\"log\\\",\\\"title\\\":{\\\"text\\\":\\\"Error\\\"},\\\"tickformat\\\":\\\"e\\\"}},{\\\"showLink\\\":false,\\\"editable\\\":false,\\\"responsive\\\":true,\\\"staticPlot\\\":false,\\\"scrollZoom\\\":true}); gd.on(\\\"plotly_hover\\\",(function (data){var filtered_data=WebIO.PlotlyCommands.filterEventData(gd,data,\\\"hover\\\"); return !(filtered_data.isnil) ? (WebIO.setval({\\\"name\\\":\\\"hover\\\",\\\"scope\\\":\\\"5587810285631353838\\\",\\\"id\\\":\\\"221\\\",\\\"type\\\":\\\"observable\\\"},filtered_data.out)) : undefined})); gd.on(\\\"plotly_unhover\\\",(function (){return WebIO.setval({\\\"name\\\":\\\"hover\\\",\\\"scope\\\":\\\"5587810285631353838\\\",\\\"id\\\":\\\"221\\\",\\\"type\\\":\\\"observable\\\"},{})})); gd.on(\\\"plotly_selected\\\",(function (data){var filtered_data=WebIO.PlotlyCommands.filterEventData(gd,data,\\\"selected\\\"); return !(filtered_data.isnil) ? (WebIO.setval({\\\"name\\\":\\\"selected\\\",\\\"scope\\\":\\\"5587810285631353838\\\",\\\"id\\\":\\\"222\\\",\\\"type\\\":\\\"observable\\\"},filtered_data.out)) : undefined})); gd.on(\\\"plotly_deselect\\\",(function (){return WebIO.setval({\\\"name\\\":\\\"selected\\\",\\\"scope\\\":\\\"5587810285631353838\\\",\\\"id\\\":\\\"222\\\",\\\"type\\\":\\\"observable\\\"},{})})); gd.on(\\\"plotly_relayout\\\",(function (data){var filtered_data=WebIO.PlotlyCommands.filterEventData(gd,data,\\\"relayout\\\"); return !(filtered_data.isnil) ? (WebIO.setval({\\\"name\\\":\\\"relayout\\\",\\\"scope\\\":\\\"5587810285631353838\\\",\\\"id\\\":\\\"224\\\",\\\"type\\\":\\\"observable\\\"},filtered_data.out)) : undefined})); return gd.on(\\\"plotly_click\\\",(function (data){var filtered_data=WebIO.PlotlyCommands.filterEventData(gd,data,\\\"click\\\"); return !(filtered_data.isnil) ? (WebIO.setval({\\\"name\\\":\\\"click\\\",\\\"scope\\\":\\\"5587810285631353838\\\",\\\"id\\\":\\\"223\\\",\\\"type\\\":\\\"observable\\\"},filtered_data.out)) : undefined}))}));\\n    (WebIO.importBlock({\\\"data\\\":[{\\\"name\\\":\\\"Plotly\\\",\\\"type\\\":\\\"js\\\",\\\"url\\\":\\\"\\/assetserver\\/d6feb8d8ce4676ebdde817a0745950a35b4ba3ae-plotly.min.js\\\"},{\\\"name\\\":null,\\\"type\\\":\\\"js\\\",\\\"url\\\":\\\"\\/assetserver\\/46c9ff4df7c73b5875052df387368a00f6cfc484-plotly_webio.bundle.js\\\"}],\\\"type\\\":\\\"async_block\\\"})).then((imports) => handler.apply(this, imports));\\n}\\n\"],\"observables\":{\"_toImage\":{\"sync\":false,\"id\":\"228\",\"value\":{}},\"hover\":{\"sync\":false,\"id\":\"221\",\"value\":{}},\"selected\":{\"sync\":false,\"id\":\"222\",\"value\":{}},\"__gd_contents\":{\"sync\":false,\"id\":\"226\",\"value\":{}},\"click\":{\"sync\":false,\"id\":\"223\",\"value\":{}},\"image\":{\"sync\":true,\"id\":\"225\",\"value\":\"\"},\"__get_gd_contents\":{\"sync\":false,\"id\":\"230\",\"value\":\"\"},\"_downloadImage\":{\"sync\":false,\"id\":\"229\",\"value\":{}},\"relayout\":{\"sync\":false,\"id\":\"224\",\"value\":{}},\"_commands\":{\"sync\":false,\"id\":\"227\",\"value\":[]}}},\"children\":[{\"props\":{\"id\":\"plot-e54fe39a-f699-4907-b0f5-8d94a4819d6c\"},\"nodeType\":\"DOM\",\"type\":\"node\",\"instanceArgs\":{\"namespace\":\"html\",\"tag\":\"div\"},\"children\":[]}]},\n",
       "        window,\n",
       "    );\n",
       "    })()\n",
       "    </script>\n",
       "</div>\n"
      ],
      "text/plain": [
       "data: [\n",
       "  \"scatter with fields line, marker, mode, name, type, x, and y\",\n",
       "  \"scatter with fields line, marker, mode, name, type, x, and y\",\n",
       "  \"scatter with fields line, marker, mode, name, type, x, and y\",\n",
       "  \"scatter with fields line, marker, mode, name, type, x, and y\",\n",
       "  \"scatter with fields line, marker, mode, name, type, x, and y\",\n",
       "  \"scatter with fields line, marker, mode, name, type, x, and y\"\n",
       "]\n",
       "\n",
       "layout: \"layout with fields margin, showlegend, template, title, xaxis, and yaxis\"\n",
       "\n"
      ]
     },
     "execution_count": 429,
     "metadata": {},
     "output_type": "execute_result"
    }
   ],
   "source": [
    "error_vectors = [\n",
    "    abs.(results[1, 1, :]),\n",
    "    abs.(results[1, 2, :]),\n",
    "    abs.(results[1, 3, :]),\n",
    "    abs.(results[1, 4, :]),\n",
    "    abs.(results[1, 5, :]),\n",
    "    abs.(results[1, 6, :])\n",
    "]\n",
    "labels = [\"σ2\", \"σ3\", \"σ4\", \"σ5\", \"σ6\", \"σ7\"]\n",
    "plot_convergence_error(error_vectors, labels)"
   ]
  },
  {
   "cell_type": "code",
   "execution_count": 430,
   "id": "df187797",
   "metadata": {},
   "outputs": [
    {
     "name": "stdout",
     "output_type": "stream",
     "text": [
      "1×20 adjoint(::Vector{Float64}) with eltype Float64:\n",
      " 2.72406  -3.70802  -3.44529  -3.47032  -3.54304  -3.59026  -3.61786  -3.63253  -3.63968  -3.64711  -3.64727  -3.64728  -3.64728  -3.64728  -3.64728  -3.64728  -3.64728  -3.64728  -3.64728  -3.64728"
     ]
    }
   ],
   "source": [
    "# σ_2\n",
    "show(stdout, \"text/plain\", results[2, 1, :]')"
   ]
  },
  {
   "cell_type": "code",
   "execution_count": 431,
   "id": "9a719726",
   "metadata": {},
   "outputs": [
    {
     "name": "stdout",
     "output_type": "stream",
     "text": [
      "1×20 adjoint(::Vector{Float64}) with eltype Float64:\n",
      " -1.96495  1.85553  -3.23894  -3.24737  -3.17418  -3.13219  -3.10919  -3.09762  -3.09237  -3.09164  -3.0915  -3.09149  -3.09149  -3.09149  -3.09149  -3.09149  -3.09149  -3.09149  -3.09149  -3.09149"
     ]
    }
   ],
   "source": [
    "# σ_3\n",
    "show(stdout, \"text/plain\", results[2, 2, :]')"
   ]
  },
  {
   "cell_type": "code",
   "execution_count": 432,
   "id": "fcaad9fa",
   "metadata": {},
   "outputs": [
    {
     "name": "stdout",
     "output_type": "stream",
     "text": [
      "1×20 adjoint(::Vector{Float64}) with eltype Float64:\n",
      " -2.96145  1.0178  -0.575386  1.416  -2.75568  -2.98753  -2.98785  -2.98683  -2.98601  -2.98064  -2.98064  -2.98064  -2.98064  -2.98064  -2.98064  -2.98064  -2.98064  -2.98064  -2.98064  -2.98064"
     ]
    }
   ],
   "source": [
    "# σ_4\n",
    "show(stdout, \"text/plain\", results[2, 3, :]')"
   ]
  },
  {
   "cell_type": "code",
   "execution_count": 433,
   "id": "1f6bd205",
   "metadata": {},
   "outputs": [
    {
     "name": "stdout",
     "output_type": "stream",
     "text": [
      "1×20 adjoint(::Vector{Float64}) with eltype Float64:\n",
      " -0.766017  1.92396  -2.36424  0.879424  -0.43919  -0.39838  -0.398174  -0.398173  -0.398173  -0.398173  -0.398173  -0.398173  -0.398173  -0.398173  -0.398173  -0.398173  -0.398173  -0.398173  -0.398173  -0.398173"
     ]
    }
   ],
   "source": [
    "# σ_5\n",
    "show(stdout, \"text/plain\", results[2, 4, :]')"
   ]
  },
  {
   "cell_type": "code",
   "execution_count": 434,
   "id": "3af660e5",
   "metadata": {},
   "outputs": [
    {
     "name": "stdout",
     "output_type": "stream",
     "text": [
      "1×20 adjoint(::Vector{Float64}) with eltype Float64:\n",
      " 2.4361  -1.06266  0.809062  0.852169  0.875181  0.889486  0.88949  0.88949  0.88949  0.88949  0.88949  0.88949  0.88949  0.88949  0.88949  0.88949  0.88949  0.88949  0.88949  0.88949"
     ]
    }
   ],
   "source": [
    "# σ_6\n",
    "show(stdout, \"text/plain\", results[2, 5, :]')"
   ]
  },
  {
   "cell_type": "code",
   "execution_count": 435,
   "id": "bc6fb460",
   "metadata": {},
   "outputs": [
    {
     "name": "stdout",
     "output_type": "stream",
     "text": [
      "1×20 adjoint(::Vector{Float64}) with eltype Float64:\n",
      " -1.26356  -1.31652  -1.32047  -1.32047  -1.32047  -1.32047  -1.32047  -1.32047  -1.32047  -1.32047  -1.32047  -1.32047  -1.32047  -1.32047  -1.32047  -1.32047  -1.32047  -1.32047  -1.32047  -1.32047"
     ]
    }
   ],
   "source": [
    "# σ_7\n",
    "show(stdout, \"text/plain\", results[2, 6, :]')"
   ]
  },
  {
   "cell_type": "code",
   "execution_count": 436,
   "id": "53439d20",
   "metadata": {},
   "outputs": [
    {
     "data": {
      "text/plain": [
       "9×7 Matrix{Real}:\n",
       " 5.29825   0         0         0         0         0         0\n",
       " 0        -3.64728   0         0         0         0         0\n",
       " 0         0        -3.09149   0         0         0         0\n",
       " 0         0         0        -2.98064   0         0         0\n",
       " 0         0         0         0        -0.398173  0         0\n",
       " 0         0         0         0         0         0.88949   0\n",
       " 0         0         0         0         0         0        -1.32047\n",
       " 0         0         0         0         0         0         0\n",
       " 0         0         0         0         0         0         0"
      ]
     },
     "execution_count": 436,
     "metadata": {},
     "output_type": "execute_result"
    }
   ],
   "source": [
    "S"
   ]
  },
  {
   "cell_type": "markdown",
   "id": "7edea586",
   "metadata": {},
   "source": [
    "### Rectangular 7 x 9"
   ]
  },
  {
   "cell_type": "code",
   "execution_count": 441,
   "id": "022bafbb",
   "metadata": {},
   "outputs": [
    {
     "data": {
      "text/plain": [
       "7×9 Matrix{Float64}:\n",
       " -0.336277  -0.432672   -0.134245  …   0.749773   1.46903     2.10639\n",
       " -0.335129  -0.801359   -0.699933     -1.18924    0.436244    1.47546\n",
       " -0.599446   0.42317    -0.876958     -1.53689    1.74084    -0.280173\n",
       "  0.657268  -0.0463785  -0.159689      1.92622   -0.0598371  -1.70997\n",
       "  1.53532    1.30325     0.850459     -1.26265    1.15781     0.840584\n",
       " -0.889243  -1.13256    -0.447852  …  -1.79341   -1.61142     2.06114\n",
       " -0.152212   0.470221    0.362391      1.24283   -1.24057     0.462675"
      ]
     },
     "execution_count": 441,
     "metadata": {},
     "output_type": "execute_result"
    }
   ],
   "source": [
    "A = randn(7, 9)"
   ]
  },
  {
   "cell_type": "code",
   "execution_count": 442,
   "id": "bd92fe59",
   "metadata": {},
   "outputs": [],
   "source": [
    "U, S, V, results = svd_num(A, 20, true);"
   ]
  },
  {
   "cell_type": "code",
   "execution_count": 443,
   "id": "830aad45",
   "metadata": {},
   "outputs": [
    {
     "name": "stdout",
     "output_type": "stream",
     "text": [
      "3.2301829010138344e-15"
     ]
    }
   ],
   "source": [
    "show(stdout, \"text/plain\", opnorm(U * S * V' - A, 1)/opnorm(A, 1))"
   ]
  },
  {
   "cell_type": "code",
   "execution_count": 444,
   "id": "68de8cf4",
   "metadata": {},
   "outputs": [
    {
     "data": {
      "application/vnd.plotly.v1+json": {
       "config": {
        "editable": false,
        "responsive": true,
        "scrollZoom": true,
        "showLink": false,
        "staticPlot": false
       },
       "data": [
        {
         "line": {
          "shape": "linear"
         },
         "marker": {
          "color": 1
         },
         "mode": "lines+markers",
         "name": "σ2",
         "type": "scatter",
         "x": [
          1,
          2,
          3,
          4,
          5,
          6,
          7,
          8,
          9,
          10,
          11,
          12,
          13,
          14,
          15,
          16,
          17,
          18,
          19,
          20
         ],
         "y": [
          2.0361990133514887,
          1.6974801995862803,
          0.8328292124105834,
          0.4294117530494262,
          0.2290195433458728,
          0.12570723116501642,
          0.08197990193148133,
          0.055119876342778804,
          0.03692684988596171,
          0.024728006493619958,
          0.017434827223405943,
          0.012291617726797122,
          0.009284190665511718,
          6.901855733278971e-07,
          2.2726784377334723e-18,
          2.2726784377334723e-18,
          2.2726784377334723e-18,
          2.2726784377334723e-18,
          2.2726784377334723e-18,
          2.2726784377334723e-18
         ]
        },
        {
         "line": {
          "shape": "linear"
         },
         "marker": {
          "color": 2
         },
         "mode": "lines+markers",
         "name": "σ3",
         "type": "scatter",
         "x": [
          1,
          2,
          3,
          4,
          5,
          6,
          7,
          8,
          9,
          10,
          11,
          12,
          13,
          14,
          15,
          16,
          17,
          18,
          19,
          20
         ],
         "y": [
          1.994457914579542,
          1.1888695170987338,
          1.5991474619121409,
          1.4187895167552231,
          1.1157690808338672,
          0.9394143604408733,
          0.2505407029680082,
          0.1225358647180385,
          0.06409589035046377,
          0.0336205990326007,
          0.009815334053670719,
          0.002865710008320773,
          1.7269289186140683e-14,
          1.7268785348234502e-14,
          1.726878542313238e-14,
          1.726878542313238e-14,
          1.726878542313238e-14,
          1.726878542313238e-14,
          1.726878542313238e-14,
          1.726878542313238e-14
         ]
        },
        {
         "line": {
          "shape": "linear"
         },
         "marker": {
          "color": 3
         },
         "mode": "lines+markers",
         "name": "σ4",
         "type": "scatter",
         "x": [
          1,
          2,
          3,
          4,
          5,
          6,
          7,
          8,
          9,
          10,
          11,
          12,
          13,
          14,
          15,
          16,
          17,
          18,
          19,
          20
         ],
         "y": [
          1.7779280606680317,
          1.5257238599968357,
          0.31838004642642187,
          0.4311892094711971,
          0.6685337432277727,
          0.9470591825722877,
          0.6614572091816155,
          0.18109113724575612,
          0.06270352808039424,
          0.021556989375407225,
          9.862937300559701e-10,
          1.5691934154410708e-16,
          1.56919296694358e-16,
          1.56919296694358e-16,
          1.56919296694358e-16,
          1.56919296694358e-16,
          1.56919296694358e-16,
          1.56919296694358e-16,
          1.56919296694358e-16,
          1.56919296694358e-16
         ]
        },
        {
         "line": {
          "shape": "linear"
         },
         "marker": {
          "color": 4
         },
         "mode": "lines+markers",
         "name": "σ5",
         "type": "scatter",
         "x": [
          1,
          2,
          3,
          4,
          5,
          6,
          7,
          8,
          9,
          10,
          11,
          12,
          13,
          14,
          15,
          16,
          17,
          18,
          19,
          20
         ],
         "y": [
          0.6014302306872261,
          0.7641844561570845,
          0.8071276892552159,
          0.8962714077326993,
          0.8886199634016908,
          0.7203483083198903,
          0.38787120052037144,
          0.04524081238776825,
          1.416906079061957e-06,
          2.6969705619595276e-18,
          2.695648854004758e-18,
          2.6956488539442427e-18,
          2.6956488539442427e-18,
          2.6956488539442427e-18,
          2.6956488539442427e-18,
          2.6956488539442427e-18,
          2.6956488539442427e-18,
          2.6956488539442427e-18,
          2.6956488539442427e-18,
          2.6956488539442427e-18
         ]
        },
        {
         "line": {
          "shape": "linear"
         },
         "marker": {
          "color": 5
         },
         "mode": "lines+markers",
         "name": "σ6",
         "type": "scatter",
         "x": [
          1,
          2,
          3,
          4,
          5,
          6,
          7,
          8,
          9,
          10,
          11,
          12,
          13,
          14,
          15,
          16,
          17,
          18,
          19,
          20
         ],
         "y": [
          0.21009826642678264,
          0.47892389195597346,
          1.5073804383821654,
          0.036200473492334184,
          2.7803191405265656e-07,
          1.3299611123091027e-17,
          3.8175604341434346e-17,
          3.918117267476092e-17,
          4.039099240640258e-17,
          4.0390956156118226e-17,
          4.0390956156118226e-17,
          4.0390956156118226e-17,
          4.0390956156118226e-17,
          4.0390956156118226e-17,
          4.0390956156118226e-17,
          4.0390956156118226e-17,
          4.0390956156118226e-17,
          4.0390956156118226e-17,
          4.0390956156118226e-17,
          4.0390956156118226e-17
         ]
        },
        {
         "line": {
          "shape": "linear"
         },
         "marker": {
          "color": 6
         },
         "mode": "lines+markers",
         "name": "σ7",
         "type": "scatter",
         "x": [
          1,
          2,
          3,
          4,
          5,
          6,
          7,
          8,
          9,
          10,
          11,
          12,
          13,
          14,
          15,
          16,
          17,
          18,
          19,
          20
         ],
         "y": [
          0.6290082907438166,
          0.00014873670922744376,
          1.561866277495404e-14,
          1.0928424272522522e-14,
          1.1109475174944632e-14,
          1.110947374194414e-14,
          1.110947374194414e-14,
          1.110947374194414e-14,
          1.110947374194414e-14,
          1.110947374194414e-14,
          1.110947374194414e-14,
          1.110947374194414e-14,
          1.110947374194414e-14,
          1.110947374194414e-14,
          1.110947374194414e-14,
          1.110947374194414e-14,
          1.110947374194414e-14,
          1.110947374194414e-14,
          1.110947374194414e-14,
          1.110947374194414e-14
         ]
        }
       ],
       "frames": [],
       "layout": {
        "margin": {
         "b": 50,
         "l": 50,
         "r": 50,
         "t": 60
        },
        "showlegend": true,
        "template": {
         "data": {
          "bar": [
           {
            "error_x": {
             "color": "#2a3f5f"
            },
            "error_y": {
             "color": "#2a3f5f"
            },
            "marker": {
             "line": {
              "color": "#E5ECF6",
              "width": 0.5
             }
            },
            "type": "bar"
           }
          ],
          "barpolar": [
           {
            "marker": {
             "line": {
              "color": "#E5ECF6",
              "width": 0.5
             }
            },
            "type": "barpolar"
           }
          ],
          "carpet": [
           {
            "aaxis": {
             "endlinecolor": "#2a3f5f",
             "gridcolor": "white",
             "linecolor": "white",
             "minorgridcolor": "white",
             "startlinecolor": "#2a3f5f"
            },
            "baxis": {
             "endlinecolor": "#2a3f5f",
             "gridcolor": "white",
             "linecolor": "white",
             "minorgridcolor": "white",
             "startlinecolor": "#2a3f5f"
            },
            "type": "carpet"
           }
          ],
          "choropleth": [
           {
            "colorbar": {
             "outlinewidth": 0,
             "ticks": ""
            },
            "type": "choropleth"
           }
          ],
          "contour": [
           {
            "colorbar": {
             "outlinewidth": 0,
             "ticks": ""
            },
            "colorscale": [
             [
              0,
              "#0d0887"
             ],
             [
              0.1111111111111111,
              "#46039f"
             ],
             [
              0.2222222222222222,
              "#7201a8"
             ],
             [
              0.3333333333333333,
              "#9c179e"
             ],
             [
              0.4444444444444444,
              "#bd3786"
             ],
             [
              0.5555555555555556,
              "#d8576b"
             ],
             [
              0.6666666666666666,
              "#ed7953"
             ],
             [
              0.7777777777777778,
              "#fb9f3a"
             ],
             [
              0.8888888888888888,
              "#fdca26"
             ],
             [
              1,
              "#f0f921"
             ]
            ],
            "type": "contour"
           }
          ],
          "contourcarpet": [
           {
            "colorbar": {
             "outlinewidth": 0,
             "ticks": ""
            },
            "type": "contourcarpet"
           }
          ],
          "heatmap": [
           {
            "colorbar": {
             "outlinewidth": 0,
             "ticks": ""
            },
            "colorscale": [
             [
              0,
              "#0d0887"
             ],
             [
              0.1111111111111111,
              "#46039f"
             ],
             [
              0.2222222222222222,
              "#7201a8"
             ],
             [
              0.3333333333333333,
              "#9c179e"
             ],
             [
              0.4444444444444444,
              "#bd3786"
             ],
             [
              0.5555555555555556,
              "#d8576b"
             ],
             [
              0.6666666666666666,
              "#ed7953"
             ],
             [
              0.7777777777777778,
              "#fb9f3a"
             ],
             [
              0.8888888888888888,
              "#fdca26"
             ],
             [
              1,
              "#f0f921"
             ]
            ],
            "type": "heatmap"
           }
          ],
          "heatmapgl": [
           {
            "colorbar": {
             "outlinewidth": 0,
             "ticks": ""
            },
            "colorscale": [
             [
              0,
              "#0d0887"
             ],
             [
              0.1111111111111111,
              "#46039f"
             ],
             [
              0.2222222222222222,
              "#7201a8"
             ],
             [
              0.3333333333333333,
              "#9c179e"
             ],
             [
              0.4444444444444444,
              "#bd3786"
             ],
             [
              0.5555555555555556,
              "#d8576b"
             ],
             [
              0.6666666666666666,
              "#ed7953"
             ],
             [
              0.7777777777777778,
              "#fb9f3a"
             ],
             [
              0.8888888888888888,
              "#fdca26"
             ],
             [
              1,
              "#f0f921"
             ]
            ],
            "type": "heatmapgl"
           }
          ],
          "histogram": [
           {
            "marker": {
             "colorbar": {
              "outlinewidth": 0,
              "ticks": ""
             }
            },
            "type": "histogram"
           }
          ],
          "histogram2d": [
           {
            "colorbar": {
             "outlinewidth": 0,
             "ticks": ""
            },
            "colorscale": [
             [
              0,
              "#0d0887"
             ],
             [
              0.1111111111111111,
              "#46039f"
             ],
             [
              0.2222222222222222,
              "#7201a8"
             ],
             [
              0.3333333333333333,
              "#9c179e"
             ],
             [
              0.4444444444444444,
              "#bd3786"
             ],
             [
              0.5555555555555556,
              "#d8576b"
             ],
             [
              0.6666666666666666,
              "#ed7953"
             ],
             [
              0.7777777777777778,
              "#fb9f3a"
             ],
             [
              0.8888888888888888,
              "#fdca26"
             ],
             [
              1,
              "#f0f921"
             ]
            ],
            "type": "histogram2d"
           }
          ],
          "histogram2dcontour": [
           {
            "colorbar": {
             "outlinewidth": 0,
             "ticks": ""
            },
            "colorscale": [
             [
              0,
              "#0d0887"
             ],
             [
              0.1111111111111111,
              "#46039f"
             ],
             [
              0.2222222222222222,
              "#7201a8"
             ],
             [
              0.3333333333333333,
              "#9c179e"
             ],
             [
              0.4444444444444444,
              "#bd3786"
             ],
             [
              0.5555555555555556,
              "#d8576b"
             ],
             [
              0.6666666666666666,
              "#ed7953"
             ],
             [
              0.7777777777777778,
              "#fb9f3a"
             ],
             [
              0.8888888888888888,
              "#fdca26"
             ],
             [
              1,
              "#f0f921"
             ]
            ],
            "type": "histogram2dcontour"
           }
          ],
          "mesh3d": [
           {
            "colorbar": {
             "outlinewidth": 0,
             "ticks": ""
            },
            "type": "mesh3d"
           }
          ],
          "parcoords": [
           {
            "line": {
             "colorbar": {
              "outlinewidth": 0,
              "ticks": ""
             }
            },
            "type": "parcoords"
           }
          ],
          "pie": [
           {
            "automargin": true,
            "type": "pie"
           }
          ],
          "scatter": [
           {
            "marker": {
             "colorbar": {
              "outlinewidth": 0,
              "ticks": ""
             }
            },
            "type": "scatter"
           }
          ],
          "scatter3d": [
           {
            "line": {
             "colorbar": {
              "outlinewidth": 0,
              "ticks": ""
             }
            },
            "marker": {
             "colorbar": {
              "outlinewidth": 0,
              "ticks": ""
             }
            },
            "type": "scatter3d"
           }
          ],
          "scattercarpet": [
           {
            "marker": {
             "colorbar": {
              "outlinewidth": 0,
              "ticks": ""
             }
            },
            "type": "scattercarpet"
           }
          ],
          "scattergeo": [
           {
            "marker": {
             "colorbar": {
              "outlinewidth": 0,
              "ticks": ""
             }
            },
            "type": "scattergeo"
           }
          ],
          "scattergl": [
           {
            "marker": {
             "colorbar": {
              "outlinewidth": 0,
              "ticks": ""
             }
            },
            "type": "scattergl"
           }
          ],
          "scattermapbox": [
           {
            "marker": {
             "colorbar": {
              "outlinewidth": 0,
              "ticks": ""
             }
            },
            "type": "scattermapbox"
           }
          ],
          "scatterpolar": [
           {
            "marker": {
             "colorbar": {
              "outlinewidth": 0,
              "ticks": ""
             }
            },
            "type": "scatterpolar"
           }
          ],
          "scatterpolargl": [
           {
            "marker": {
             "colorbar": {
              "outlinewidth": 0,
              "ticks": ""
             }
            },
            "type": "scatterpolargl"
           }
          ],
          "scatterternary": [
           {
            "marker": {
             "colorbar": {
              "outlinewidth": 0,
              "ticks": ""
             }
            },
            "type": "scatterternary"
           }
          ],
          "surface": [
           {
            "colorbar": {
             "outlinewidth": 0,
             "ticks": ""
            },
            "colorscale": [
             [
              0,
              "#0d0887"
             ],
             [
              0.1111111111111111,
              "#46039f"
             ],
             [
              0.2222222222222222,
              "#7201a8"
             ],
             [
              0.3333333333333333,
              "#9c179e"
             ],
             [
              0.4444444444444444,
              "#bd3786"
             ],
             [
              0.5555555555555556,
              "#d8576b"
             ],
             [
              0.6666666666666666,
              "#ed7953"
             ],
             [
              0.7777777777777778,
              "#fb9f3a"
             ],
             [
              0.8888888888888888,
              "#fdca26"
             ],
             [
              1,
              "#f0f921"
             ]
            ],
            "type": "surface"
           }
          ],
          "table": [
           {
            "cells": {
             "fill": {
              "color": "#EBF0F8"
             },
             "line": {
              "color": "white"
             }
            },
            "header": {
             "fill": {
              "color": "#C8D4E3"
             },
             "line": {
              "color": "white"
             }
            },
            "type": "table"
           }
          ]
         },
         "layout": {
          "annotationdefaults": {
           "arrowcolor": "#2a3f5f",
           "arrowhead": 0,
           "arrowwidth": 1
          },
          "autotypenumbers": "strict",
          "coloraxis": {
           "colorbar": {
            "outlinewidth": 0,
            "ticks": ""
           }
          },
          "colorscale": {
           "diverging": [
            [
             0,
             "#8e0152"
            ],
            [
             0.1,
             "#c51b7d"
            ],
            [
             0.2,
             "#de77ae"
            ],
            [
             0.3,
             "#f1b6da"
            ],
            [
             0.4,
             "#fde0ef"
            ],
            [
             0.5,
             "#f7f7f7"
            ],
            [
             0.6,
             "#e6f5d0"
            ],
            [
             0.7,
             "#b8e186"
            ],
            [
             0.8,
             "#7fbc41"
            ],
            [
             0.9,
             "#4d9221"
            ],
            [
             1,
             "#276419"
            ]
           ],
           "sequential": [
            [
             0,
             "#0d0887"
            ],
            [
             0.1111111111111111,
             "#46039f"
            ],
            [
             0.2222222222222222,
             "#7201a8"
            ],
            [
             0.3333333333333333,
             "#9c179e"
            ],
            [
             0.4444444444444444,
             "#bd3786"
            ],
            [
             0.5555555555555556,
             "#d8576b"
            ],
            [
             0.6666666666666666,
             "#ed7953"
            ],
            [
             0.7777777777777778,
             "#fb9f3a"
            ],
            [
             0.8888888888888888,
             "#fdca26"
            ],
            [
             1,
             "#f0f921"
            ]
           ],
           "sequentialminus": [
            [
             0,
             "#0d0887"
            ],
            [
             0.1111111111111111,
             "#46039f"
            ],
            [
             0.2222222222222222,
             "#7201a8"
            ],
            [
             0.3333333333333333,
             "#9c179e"
            ],
            [
             0.4444444444444444,
             "#bd3786"
            ],
            [
             0.5555555555555556,
             "#d8576b"
            ],
            [
             0.6666666666666666,
             "#ed7953"
            ],
            [
             0.7777777777777778,
             "#fb9f3a"
            ],
            [
             0.8888888888888888,
             "#fdca26"
            ],
            [
             1,
             "#f0f921"
            ]
           ]
          },
          "colorway": [
           "#636efa",
           "#EF553B",
           "#00cc96",
           "#ab63fa",
           "#FFA15A",
           "#19d3f3",
           "#FF6692",
           "#B6E880",
           "#FF97FF",
           "#FECB52"
          ],
          "font": {
           "color": "#2a3f5f"
          },
          "geo": {
           "bgcolor": "white",
           "lakecolor": "white",
           "landcolor": "#E5ECF6",
           "showlakes": true,
           "showland": true,
           "subunitcolor": "white"
          },
          "hoverlabel": {
           "align": "left"
          },
          "hovermode": "closest",
          "mapbox": {
           "style": "light"
          },
          "paper_bgcolor": "white",
          "plot_bgcolor": "#E5ECF6",
          "polar": {
           "angularaxis": {
            "gridcolor": "white",
            "linecolor": "white",
            "ticks": ""
           },
           "bgcolor": "#E5ECF6",
           "radialaxis": {
            "gridcolor": "white",
            "linecolor": "white",
            "ticks": ""
           }
          },
          "scene": {
           "xaxis": {
            "backgroundcolor": "#E5ECF6",
            "gridcolor": "white",
            "gridwidth": 2,
            "linecolor": "white",
            "showbackground": true,
            "ticks": "",
            "zerolinecolor": "white"
           },
           "yaxis": {
            "backgroundcolor": "#E5ECF6",
            "gridcolor": "white",
            "gridwidth": 2,
            "linecolor": "white",
            "showbackground": true,
            "ticks": "",
            "zerolinecolor": "white"
           },
           "zaxis": {
            "backgroundcolor": "#E5ECF6",
            "gridcolor": "white",
            "gridwidth": 2,
            "linecolor": "white",
            "showbackground": true,
            "ticks": "",
            "zerolinecolor": "white"
           }
          },
          "shapedefaults": {
           "line": {
            "color": "#2a3f5f"
           }
          },
          "ternary": {
           "aaxis": {
            "gridcolor": "white",
            "linecolor": "white",
            "ticks": ""
           },
           "baxis": {
            "gridcolor": "white",
            "linecolor": "white",
            "ticks": ""
           },
           "bgcolor": "#E5ECF6",
           "caxis": {
            "gridcolor": "white",
            "linecolor": "white",
            "ticks": ""
           }
          },
          "title": {
           "x": 0.05
          },
          "xaxis": {
           "automargin": true,
           "gridcolor": "white",
           "linecolor": "white",
           "ticks": "",
           "title": {
            "standoff": 15
           },
           "zerolinecolor": "white",
           "zerolinewidth": 2
          },
          "yaxis": {
           "automargin": true,
           "gridcolor": "white",
           "linecolor": "white",
           "ticks": "",
           "title": {
            "standoff": 15
           },
           "zerolinecolor": "white",
           "zerolinewidth": 2
          }
         }
        },
        "title": "Value of element above diagonal σ_i",
        "xaxis": {
         "title": {
          "text": "Iteration"
         }
        },
        "yaxis": {
         "tickformat": "e",
         "title": {
          "text": "Error"
         },
         "type": "log"
        }
       }
      },
      "text/html": [
       "<div\n",
       "    class=\"webio-mountpoint\"\n",
       "    data-webio-mountpoint=\"16374687553283027813\"\n",
       ">\n",
       "    <script>\n",
       "    (function(){\n",
       "    // Some integrations (namely, IJulia/Jupyter) use an alternate render pathway than\n",
       "    // just putting the html on the page. If WebIO isn't defined, then it's pretty likely\n",
       "    // that we're in one of those situations and the integration just isn't installed\n",
       "    // correctly.\n",
       "    if (typeof window.WebIO === \"undefined\") {\n",
       "        document\n",
       "            .querySelector('[data-webio-mountpoint=\"16374687553283027813\"]')\n",
       "            .innerHTML = (\n",
       "                '<div style=\"padding: 1em; background-color: #f8d6da; border: 1px solid #f5c6cb; font-weight: bold;\">' +\n",
       "                '<p><strong>WebIO not detected.</strong></p>' +\n",
       "                '<p>Please read ' +\n",
       "                '<a href=\"https://juliagizmos.github.io/WebIO.jl/latest/troubleshooting/not-detected/\" target=\"_blank\">the troubleshooting guide</a> ' +\n",
       "                'for more information on how to resolve this issue.</p>' +\n",
       "                '<p><a href=\"https://juliagizmos.github.io/WebIO.jl/latest/troubleshooting/not-detected/\" target=\"_blank\">https://juliagizmos.github.io/WebIO.jl/latest/troubleshooting/not-detected/</a></p>' +\n",
       "                '</div>'\n",
       "            );\n",
       "        return;\n",
       "    }\n",
       "    WebIO.mount(\n",
       "        document.querySelector('[data-webio-mountpoint=\"16374687553283027813\"]'),\n",
       "        {\"props\":{},\"nodeType\":\"Scope\",\"type\":\"node\",\"instanceArgs\":{\"imports\":{\"data\":[{\"name\":\"Plotly\",\"type\":\"js\",\"url\":\"\\/assetserver\\/d6feb8d8ce4676ebdde817a0745950a35b4ba3ae-plotly.min.js\"},{\"name\":null,\"type\":\"js\",\"url\":\"\\/assetserver\\/46c9ff4df7c73b5875052df387368a00f6cfc484-plotly_webio.bundle.js\"}],\"type\":\"async_block\"},\"id\":\"4984730124591555106\",\"handlers\":{\"_toImage\":[\"(function (options){return this.Plotly.toImage(this.plotElem,options).then((function (data){return WebIO.setval({\\\"name\\\":\\\"image\\\",\\\"scope\\\":\\\"4984730124591555106\\\",\\\"id\\\":\\\"245\\\",\\\"type\\\":\\\"observable\\\"},data)}))})\"],\"__get_gd_contents\":[\"(function (prop){prop==\\\"data\\\" ? (WebIO.setval({\\\"name\\\":\\\"__gd_contents\\\",\\\"scope\\\":\\\"4984730124591555106\\\",\\\"id\\\":\\\"246\\\",\\\"type\\\":\\\"observable\\\"},this.plotElem.data)) : undefined; return prop==\\\"layout\\\" ? (WebIO.setval({\\\"name\\\":\\\"__gd_contents\\\",\\\"scope\\\":\\\"4984730124591555106\\\",\\\"id\\\":\\\"246\\\",\\\"type\\\":\\\"observable\\\"},this.plotElem.layout)) : undefined})\"],\"_downloadImage\":[\"(function (options){return this.Plotly.downloadImage(this.plotElem,options)})\"],\"_commands\":[\"(function (args){var fn=args.shift(); var elem=this.plotElem; var Plotly=this.Plotly; args.unshift(elem); return Plotly[fn].apply(this,args)})\"]},\"systemjs_options\":null,\"mount_callbacks\":[\"function () {\\n    var handler = ((function (Plotly,PlotlyWebIO){PlotlyWebIO.init(WebIO); var gd=this.dom.querySelector(\\\"#plot-8a265829-95c8-4624-bbf5-0e7567f46754\\\"); this.plotElem=gd; this.Plotly=Plotly; (window.Blink!==undefined) ? (gd.style.width=\\\"100%\\\", gd.style.height=\\\"100vh\\\", gd.style.marginLeft=\\\"0%\\\", gd.style.marginTop=\\\"0vh\\\") : undefined; window.onresize=(function (){return Plotly.Plots.resize(gd)}); Plotly.newPlot(gd,[{\\\"x\\\":[1,2,3,4,5,6,7,8,9,10,11,12,13,14,15,16,17,18,19,20],\\\"mode\\\":\\\"lines+markers\\\",\\\"line\\\":{\\\"shape\\\":\\\"linear\\\"},\\\"y\\\":[2.0361990133514887,1.6974801995862803,0.8328292124105834,0.4294117530494262,0.2290195433458728,0.12570723116501642,0.08197990193148133,0.055119876342778804,0.03692684988596171,0.024728006493619958,0.017434827223405943,0.012291617726797122,0.009284190665511718,6.901855733278971e-7,2.2726784377334723e-18,2.2726784377334723e-18,2.2726784377334723e-18,2.2726784377334723e-18,2.2726784377334723e-18,2.2726784377334723e-18],\\\"type\\\":\\\"scatter\\\",\\\"name\\\":\\\"σ2\\\",\\\"marker\\\":{\\\"color\\\":1}},{\\\"x\\\":[1,2,3,4,5,6,7,8,9,10,11,12,13,14,15,16,17,18,19,20],\\\"mode\\\":\\\"lines+markers\\\",\\\"line\\\":{\\\"shape\\\":\\\"linear\\\"},\\\"y\\\":[1.994457914579542,1.1888695170987338,1.5991474619121409,1.4187895167552231,1.1157690808338672,0.9394143604408733,0.2505407029680082,0.1225358647180385,0.06409589035046377,0.0336205990326007,0.009815334053670719,0.002865710008320773,1.7269289186140683e-14,1.7268785348234502e-14,1.726878542313238e-14,1.726878542313238e-14,1.726878542313238e-14,1.726878542313238e-14,1.726878542313238e-14,1.726878542313238e-14],\\\"type\\\":\\\"scatter\\\",\\\"name\\\":\\\"σ3\\\",\\\"marker\\\":{\\\"color\\\":2}},{\\\"x\\\":[1,2,3,4,5,6,7,8,9,10,11,12,13,14,15,16,17,18,19,20],\\\"mode\\\":\\\"lines+markers\\\",\\\"line\\\":{\\\"shape\\\":\\\"linear\\\"},\\\"y\\\":[1.7779280606680317,1.5257238599968357,0.31838004642642187,0.4311892094711971,0.6685337432277727,0.9470591825722877,0.6614572091816155,0.18109113724575612,0.06270352808039424,0.021556989375407225,9.862937300559701e-10,1.5691934154410708e-16,1.56919296694358e-16,1.56919296694358e-16,1.56919296694358e-16,1.56919296694358e-16,1.56919296694358e-16,1.56919296694358e-16,1.56919296694358e-16,1.56919296694358e-16],\\\"type\\\":\\\"scatter\\\",\\\"name\\\":\\\"σ4\\\",\\\"marker\\\":{\\\"color\\\":3}},{\\\"x\\\":[1,2,3,4,5,6,7,8,9,10,11,12,13,14,15,16,17,18,19,20],\\\"mode\\\":\\\"lines+markers\\\",\\\"line\\\":{\\\"shape\\\":\\\"linear\\\"},\\\"y\\\":[0.6014302306872261,0.7641844561570845,0.8071276892552159,0.8962714077326993,0.8886199634016908,0.7203483083198903,0.38787120052037144,0.04524081238776825,1.416906079061957e-6,2.6969705619595276e-18,2.695648854004758e-18,2.6956488539442427e-18,2.6956488539442427e-18,2.6956488539442427e-18,2.6956488539442427e-18,2.6956488539442427e-18,2.6956488539442427e-18,2.6956488539442427e-18,2.6956488539442427e-18,2.6956488539442427e-18],\\\"type\\\":\\\"scatter\\\",\\\"name\\\":\\\"σ5\\\",\\\"marker\\\":{\\\"color\\\":4}},{\\\"x\\\":[1,2,3,4,5,6,7,8,9,10,11,12,13,14,15,16,17,18,19,20],\\\"mode\\\":\\\"lines+markers\\\",\\\"line\\\":{\\\"shape\\\":\\\"linear\\\"},\\\"y\\\":[0.21009826642678264,0.47892389195597346,1.5073804383821654,0.036200473492334184,2.7803191405265656e-7,1.3299611123091027e-17,3.8175604341434346e-17,3.918117267476092e-17,4.039099240640258e-17,4.0390956156118226e-17,4.0390956156118226e-17,4.0390956156118226e-17,4.0390956156118226e-17,4.0390956156118226e-17,4.0390956156118226e-17,4.0390956156118226e-17,4.0390956156118226e-17,4.0390956156118226e-17,4.0390956156118226e-17,4.0390956156118226e-17],\\\"type\\\":\\\"scatter\\\",\\\"name\\\":\\\"σ6\\\",\\\"marker\\\":{\\\"color\\\":5}},{\\\"x\\\":[1,2,3,4,5,6,7,8,9,10,11,12,13,14,15,16,17,18,19,20],\\\"mode\\\":\\\"lines+markers\\\",\\\"line\\\":{\\\"shape\\\":\\\"linear\\\"},\\\"y\\\":[0.6290082907438166,0.00014873670922744376,1.561866277495404e-14,1.0928424272522522e-14,1.1109475174944632e-14,1.110947374194414e-14,1.110947374194414e-14,1.110947374194414e-14,1.110947374194414e-14,1.110947374194414e-14,1.110947374194414e-14,1.110947374194414e-14,1.110947374194414e-14,1.110947374194414e-14,1.110947374194414e-14,1.110947374194414e-14,1.110947374194414e-14,1.110947374194414e-14,1.110947374194414e-14,1.110947374194414e-14],\\\"type\\\":\\\"scatter\\\",\\\"name\\\":\\\"σ7\\\",\\\"marker\\\":{\\\"color\\\":6}}],{\\\"showlegend\\\":true,\\\"xaxis\\\":{\\\"title\\\":{\\\"text\\\":\\\"Iteration\\\"}},\\\"template\\\":{\\\"layout\\\":{\\\"coloraxis\\\":{\\\"colorbar\\\":{\\\"ticks\\\":\\\"\\\",\\\"outlinewidth\\\":0}},\\\"xaxis\\\":{\\\"gridcolor\\\":\\\"white\\\",\\\"zerolinewidth\\\":2,\\\"title\\\":{\\\"standoff\\\":15},\\\"ticks\\\":\\\"\\\",\\\"zerolinecolor\\\":\\\"white\\\",\\\"automargin\\\":true,\\\"linecolor\\\":\\\"white\\\"},\\\"hovermode\\\":\\\"closest\\\",\\\"paper_bgcolor\\\":\\\"white\\\",\\\"geo\\\":{\\\"showlakes\\\":true,\\\"showland\\\":true,\\\"landcolor\\\":\\\"#E5ECF6\\\",\\\"bgcolor\\\":\\\"white\\\",\\\"subunitcolor\\\":\\\"white\\\",\\\"lakecolor\\\":\\\"white\\\"},\\\"colorscale\\\":{\\\"sequential\\\":[[0.0,\\\"#0d0887\\\"],[0.1111111111111111,\\\"#46039f\\\"],[0.2222222222222222,\\\"#7201a8\\\"],[0.3333333333333333,\\\"#9c179e\\\"],[0.4444444444444444,\\\"#bd3786\\\"],[0.5555555555555556,\\\"#d8576b\\\"],[0.6666666666666666,\\\"#ed7953\\\"],[0.7777777777777778,\\\"#fb9f3a\\\"],[0.8888888888888888,\\\"#fdca26\\\"],[1.0,\\\"#f0f921\\\"]],\\\"diverging\\\":[[0,\\\"#8e0152\\\"],[0.1,\\\"#c51b7d\\\"],[0.2,\\\"#de77ae\\\"],[0.3,\\\"#f1b6da\\\"],[0.4,\\\"#fde0ef\\\"],[0.5,\\\"#f7f7f7\\\"],[0.6,\\\"#e6f5d0\\\"],[0.7,\\\"#b8e186\\\"],[0.8,\\\"#7fbc41\\\"],[0.9,\\\"#4d9221\\\"],[1,\\\"#276419\\\"]],\\\"sequentialminus\\\":[[0.0,\\\"#0d0887\\\"],[0.1111111111111111,\\\"#46039f\\\"],[0.2222222222222222,\\\"#7201a8\\\"],[0.3333333333333333,\\\"#9c179e\\\"],[0.4444444444444444,\\\"#bd3786\\\"],[0.5555555555555556,\\\"#d8576b\\\"],[0.6666666666666666,\\\"#ed7953\\\"],[0.7777777777777778,\\\"#fb9f3a\\\"],[0.8888888888888888,\\\"#fdca26\\\"],[1.0,\\\"#f0f921\\\"]]},\\\"yaxis\\\":{\\\"gridcolor\\\":\\\"white\\\",\\\"zerolinewidth\\\":2,\\\"title\\\":{\\\"standoff\\\":15},\\\"ticks\\\":\\\"\\\",\\\"zerolinecolor\\\":\\\"white\\\",\\\"automargin\\\":true,\\\"linecolor\\\":\\\"white\\\"},\\\"shapedefaults\\\":{\\\"line\\\":{\\\"color\\\":\\\"#2a3f5f\\\"}},\\\"hoverlabel\\\":{\\\"align\\\":\\\"left\\\"},\\\"mapbox\\\":{\\\"style\\\":\\\"light\\\"},\\\"polar\\\":{\\\"angularaxis\\\":{\\\"gridcolor\\\":\\\"white\\\",\\\"ticks\\\":\\\"\\\",\\\"linecolor\\\":\\\"white\\\"},\\\"bgcolor\\\":\\\"#E5ECF6\\\",\\\"radialaxis\\\":{\\\"gridcolor\\\":\\\"white\\\",\\\"ticks\\\":\\\"\\\",\\\"linecolor\\\":\\\"white\\\"}},\\\"autotypenumbers\\\":\\\"strict\\\",\\\"font\\\":{\\\"color\\\":\\\"#2a3f5f\\\"},\\\"ternary\\\":{\\\"baxis\\\":{\\\"gridcolor\\\":\\\"white\\\",\\\"ticks\\\":\\\"\\\",\\\"linecolor\\\":\\\"white\\\"},\\\"bgcolor\\\":\\\"#E5ECF6\\\",\\\"caxis\\\":{\\\"gridcolor\\\":\\\"white\\\",\\\"ticks\\\":\\\"\\\",\\\"linecolor\\\":\\\"white\\\"},\\\"aaxis\\\":{\\\"gridcolor\\\":\\\"white\\\",\\\"ticks\\\":\\\"\\\",\\\"linecolor\\\":\\\"white\\\"}},\\\"annotationdefaults\\\":{\\\"arrowhead\\\":0,\\\"arrowwidth\\\":1,\\\"arrowcolor\\\":\\\"#2a3f5f\\\"},\\\"plot_bgcolor\\\":\\\"#E5ECF6\\\",\\\"title\\\":{\\\"x\\\":0.05},\\\"scene\\\":{\\\"xaxis\\\":{\\\"gridcolor\\\":\\\"white\\\",\\\"gridwidth\\\":2,\\\"backgroundcolor\\\":\\\"#E5ECF6\\\",\\\"ticks\\\":\\\"\\\",\\\"showbackground\\\":true,\\\"zerolinecolor\\\":\\\"white\\\",\\\"linecolor\\\":\\\"white\\\"},\\\"zaxis\\\":{\\\"gridcolor\\\":\\\"white\\\",\\\"gridwidth\\\":2,\\\"backgroundcolor\\\":\\\"#E5ECF6\\\",\\\"ticks\\\":\\\"\\\",\\\"showbackground\\\":true,\\\"zerolinecolor\\\":\\\"white\\\",\\\"linecolor\\\":\\\"white\\\"},\\\"yaxis\\\":{\\\"gridcolor\\\":\\\"white\\\",\\\"gridwidth\\\":2,\\\"backgroundcolor\\\":\\\"#E5ECF6\\\",\\\"ticks\\\":\\\"\\\",\\\"showbackground\\\":true,\\\"zerolinecolor\\\":\\\"white\\\",\\\"linecolor\\\":\\\"white\\\"}},\\\"colorway\\\":[\\\"#636efa\\\",\\\"#EF553B\\\",\\\"#00cc96\\\",\\\"#ab63fa\\\",\\\"#FFA15A\\\",\\\"#19d3f3\\\",\\\"#FF6692\\\",\\\"#B6E880\\\",\\\"#FF97FF\\\",\\\"#FECB52\\\"]},\\\"data\\\":{\\\"barpolar\\\":[{\\\"type\\\":\\\"barpolar\\\",\\\"marker\\\":{\\\"line\\\":{\\\"color\\\":\\\"#E5ECF6\\\",\\\"width\\\":0.5}}}],\\\"carpet\\\":[{\\\"aaxis\\\":{\\\"gridcolor\\\":\\\"white\\\",\\\"endlinecolor\\\":\\\"#2a3f5f\\\",\\\"minorgridcolor\\\":\\\"white\\\",\\\"startlinecolor\\\":\\\"#2a3f5f\\\",\\\"linecolor\\\":\\\"white\\\"},\\\"type\\\":\\\"carpet\\\",\\\"baxis\\\":{\\\"gridcolor\\\":\\\"white\\\",\\\"endlinecolor\\\":\\\"#2a3f5f\\\",\\\"minorgridcolor\\\":\\\"white\\\",\\\"startlinecolor\\\":\\\"#2a3f5f\\\",\\\"linecolor\\\":\\\"white\\\"}}],\\\"scatterpolar\\\":[{\\\"type\\\":\\\"scatterpolar\\\",\\\"marker\\\":{\\\"colorbar\\\":{\\\"ticks\\\":\\\"\\\",\\\"outlinewidth\\\":0}}}],\\\"parcoords\\\":[{\\\"line\\\":{\\\"colorbar\\\":{\\\"ticks\\\":\\\"\\\",\\\"outlinewidth\\\":0}},\\\"type\\\":\\\"parcoords\\\"}],\\\"scatter\\\":[{\\\"type\\\":\\\"scatter\\\",\\\"marker\\\":{\\\"colorbar\\\":{\\\"ticks\\\":\\\"\\\",\\\"outlinewidth\\\":0}}}],\\\"histogram2dcontour\\\":[{\\\"colorbar\\\":{\\\"ticks\\\":\\\"\\\",\\\"outlinewidth\\\":0},\\\"type\\\":\\\"histogram2dcontour\\\",\\\"colorscale\\\":[[0.0,\\\"#0d0887\\\"],[0.1111111111111111,\\\"#46039f\\\"],[0.2222222222222222,\\\"#7201a8\\\"],[0.3333333333333333,\\\"#9c179e\\\"],[0.4444444444444444,\\\"#bd3786\\\"],[0.5555555555555556,\\\"#d8576b\\\"],[0.6666666666666666,\\\"#ed7953\\\"],[0.7777777777777778,\\\"#fb9f3a\\\"],[0.8888888888888888,\\\"#fdca26\\\"],[1.0,\\\"#f0f921\\\"]]}],\\\"contour\\\":[{\\\"colorbar\\\":{\\\"ticks\\\":\\\"\\\",\\\"outlinewidth\\\":0},\\\"type\\\":\\\"contour\\\",\\\"colorscale\\\":[[0.0,\\\"#0d0887\\\"],[0.1111111111111111,\\\"#46039f\\\"],[0.2222222222222222,\\\"#7201a8\\\"],[0.3333333333333333,\\\"#9c179e\\\"],[0.4444444444444444,\\\"#bd3786\\\"],[0.5555555555555556,\\\"#d8576b\\\"],[0.6666666666666666,\\\"#ed7953\\\"],[0.7777777777777778,\\\"#fb9f3a\\\"],[0.8888888888888888,\\\"#fdca26\\\"],[1.0,\\\"#f0f921\\\"]]}],\\\"scattercarpet\\\":[{\\\"type\\\":\\\"scattercarpet\\\",\\\"marker\\\":{\\\"colorbar\\\":{\\\"ticks\\\":\\\"\\\",\\\"outlinewidth\\\":0}}}],\\\"mesh3d\\\":[{\\\"colorbar\\\":{\\\"ticks\\\":\\\"\\\",\\\"outlinewidth\\\":0},\\\"type\\\":\\\"mesh3d\\\"}],\\\"surface\\\":[{\\\"colorbar\\\":{\\\"ticks\\\":\\\"\\\",\\\"outlinewidth\\\":0},\\\"type\\\":\\\"surface\\\",\\\"colorscale\\\":[[0.0,\\\"#0d0887\\\"],[0.1111111111111111,\\\"#46039f\\\"],[0.2222222222222222,\\\"#7201a8\\\"],[0.3333333333333333,\\\"#9c179e\\\"],[0.4444444444444444,\\\"#bd3786\\\"],[0.5555555555555556,\\\"#d8576b\\\"],[0.6666666666666666,\\\"#ed7953\\\"],[0.7777777777777778,\\\"#fb9f3a\\\"],[0.8888888888888888,\\\"#fdca26\\\"],[1.0,\\\"#f0f921\\\"]]}],\\\"scattermapbox\\\":[{\\\"type\\\":\\\"scattermapbox\\\",\\\"marker\\\":{\\\"colorbar\\\":{\\\"ticks\\\":\\\"\\\",\\\"outlinewidth\\\":0}}}],\\\"scattergeo\\\":[{\\\"type\\\":\\\"scattergeo\\\",\\\"marker\\\":{\\\"colorbar\\\":{\\\"ticks\\\":\\\"\\\",\\\"outlinewidth\\\":0}}}],\\\"histogram\\\":[{\\\"type\\\":\\\"histogram\\\",\\\"marker\\\":{\\\"colorbar\\\":{\\\"ticks\\\":\\\"\\\",\\\"outlinewidth\\\":0}}}],\\\"pie\\\":[{\\\"type\\\":\\\"pie\\\",\\\"automargin\\\":true}],\\\"choropleth\\\":[{\\\"colorbar\\\":{\\\"ticks\\\":\\\"\\\",\\\"outlinewidth\\\":0},\\\"type\\\":\\\"choropleth\\\"}],\\\"heatmapgl\\\":[{\\\"colorbar\\\":{\\\"ticks\\\":\\\"\\\",\\\"outlinewidth\\\":0},\\\"type\\\":\\\"heatmapgl\\\",\\\"colorscale\\\":[[0.0,\\\"#0d0887\\\"],[0.1111111111111111,\\\"#46039f\\\"],[0.2222222222222222,\\\"#7201a8\\\"],[0.3333333333333333,\\\"#9c179e\\\"],[0.4444444444444444,\\\"#bd3786\\\"],[0.5555555555555556,\\\"#d8576b\\\"],[0.6666666666666666,\\\"#ed7953\\\"],[0.7777777777777778,\\\"#fb9f3a\\\"],[0.8888888888888888,\\\"#fdca26\\\"],[1.0,\\\"#f0f921\\\"]]}],\\\"bar\\\":[{\\\"type\\\":\\\"bar\\\",\\\"error_y\\\":{\\\"color\\\":\\\"#2a3f5f\\\"},\\\"error_x\\\":{\\\"color\\\":\\\"#2a3f5f\\\"},\\\"marker\\\":{\\\"line\\\":{\\\"color\\\":\\\"#E5ECF6\\\",\\\"width\\\":0.5}}}],\\\"heatmap\\\":[{\\\"colorbar\\\":{\\\"ticks\\\":\\\"\\\",\\\"outlinewidth\\\":0},\\\"type\\\":\\\"heatmap\\\",\\\"colorscale\\\":[[0.0,\\\"#0d0887\\\"],[0.1111111111111111,\\\"#46039f\\\"],[0.2222222222222222,\\\"#7201a8\\\"],[0.3333333333333333,\\\"#9c179e\\\"],[0.4444444444444444,\\\"#bd3786\\\"],[0.5555555555555556,\\\"#d8576b\\\"],[0.6666666666666666,\\\"#ed7953\\\"],[0.7777777777777778,\\\"#fb9f3a\\\"],[0.8888888888888888,\\\"#fdca26\\\"],[1.0,\\\"#f0f921\\\"]]}],\\\"contourcarpet\\\":[{\\\"colorbar\\\":{\\\"ticks\\\":\\\"\\\",\\\"outlinewidth\\\":0},\\\"type\\\":\\\"contourcarpet\\\"}],\\\"table\\\":[{\\\"type\\\":\\\"table\\\",\\\"header\\\":{\\\"line\\\":{\\\"color\\\":\\\"white\\\"},\\\"fill\\\":{\\\"color\\\":\\\"#C8D4E3\\\"}},\\\"cells\\\":{\\\"line\\\":{\\\"color\\\":\\\"white\\\"},\\\"fill\\\":{\\\"color\\\":\\\"#EBF0F8\\\"}}}],\\\"scatter3d\\\":[{\\\"line\\\":{\\\"colorbar\\\":{\\\"ticks\\\":\\\"\\\",\\\"outlinewidth\\\":0}},\\\"type\\\":\\\"scatter3d\\\",\\\"marker\\\":{\\\"colorbar\\\":{\\\"ticks\\\":\\\"\\\",\\\"outlinewidth\\\":0}}}],\\\"scattergl\\\":[{\\\"type\\\":\\\"scattergl\\\",\\\"marker\\\":{\\\"colorbar\\\":{\\\"ticks\\\":\\\"\\\",\\\"outlinewidth\\\":0}}}],\\\"histogram2d\\\":[{\\\"colorbar\\\":{\\\"ticks\\\":\\\"\\\",\\\"outlinewidth\\\":0},\\\"type\\\":\\\"histogram2d\\\",\\\"colorscale\\\":[[0.0,\\\"#0d0887\\\"],[0.1111111111111111,\\\"#46039f\\\"],[0.2222222222222222,\\\"#7201a8\\\"],[0.3333333333333333,\\\"#9c179e\\\"],[0.4444444444444444,\\\"#bd3786\\\"],[0.5555555555555556,\\\"#d8576b\\\"],[0.6666666666666666,\\\"#ed7953\\\"],[0.7777777777777778,\\\"#fb9f3a\\\"],[0.8888888888888888,\\\"#fdca26\\\"],[1.0,\\\"#f0f921\\\"]]}],\\\"scatterternary\\\":[{\\\"type\\\":\\\"scatterternary\\\",\\\"marker\\\":{\\\"colorbar\\\":{\\\"ticks\\\":\\\"\\\",\\\"outlinewidth\\\":0}}}],\\\"scatterpolargl\\\":[{\\\"type\\\":\\\"scatterpolargl\\\",\\\"marker\\\":{\\\"colorbar\\\":{\\\"ticks\\\":\\\"\\\",\\\"outlinewidth\\\":0}}}]}},\\\"margin\\\":{\\\"l\\\":50,\\\"b\\\":50,\\\"r\\\":50,\\\"t\\\":60},\\\"title\\\":\\\"Value of element above diagonal σ_i\\\",\\\"yaxis\\\":{\\\"type\\\":\\\"log\\\",\\\"title\\\":{\\\"text\\\":\\\"Error\\\"},\\\"tickformat\\\":\\\"e\\\"}},{\\\"showLink\\\":false,\\\"editable\\\":false,\\\"responsive\\\":true,\\\"staticPlot\\\":false,\\\"scrollZoom\\\":true}); gd.on(\\\"plotly_hover\\\",(function (data){var filtered_data=WebIO.PlotlyCommands.filterEventData(gd,data,\\\"hover\\\"); return !(filtered_data.isnil) ? (WebIO.setval({\\\"name\\\":\\\"hover\\\",\\\"scope\\\":\\\"4984730124591555106\\\",\\\"id\\\":\\\"241\\\",\\\"type\\\":\\\"observable\\\"},filtered_data.out)) : undefined})); gd.on(\\\"plotly_unhover\\\",(function (){return WebIO.setval({\\\"name\\\":\\\"hover\\\",\\\"scope\\\":\\\"4984730124591555106\\\",\\\"id\\\":\\\"241\\\",\\\"type\\\":\\\"observable\\\"},{})})); gd.on(\\\"plotly_selected\\\",(function (data){var filtered_data=WebIO.PlotlyCommands.filterEventData(gd,data,\\\"selected\\\"); return !(filtered_data.isnil) ? (WebIO.setval({\\\"name\\\":\\\"selected\\\",\\\"scope\\\":\\\"4984730124591555106\\\",\\\"id\\\":\\\"242\\\",\\\"type\\\":\\\"observable\\\"},filtered_data.out)) : undefined})); gd.on(\\\"plotly_deselect\\\",(function (){return WebIO.setval({\\\"name\\\":\\\"selected\\\",\\\"scope\\\":\\\"4984730124591555106\\\",\\\"id\\\":\\\"242\\\",\\\"type\\\":\\\"observable\\\"},{})})); gd.on(\\\"plotly_relayout\\\",(function (data){var filtered_data=WebIO.PlotlyCommands.filterEventData(gd,data,\\\"relayout\\\"); return !(filtered_data.isnil) ? (WebIO.setval({\\\"name\\\":\\\"relayout\\\",\\\"scope\\\":\\\"4984730124591555106\\\",\\\"id\\\":\\\"244\\\",\\\"type\\\":\\\"observable\\\"},filtered_data.out)) : undefined})); return gd.on(\\\"plotly_click\\\",(function (data){var filtered_data=WebIO.PlotlyCommands.filterEventData(gd,data,\\\"click\\\"); return !(filtered_data.isnil) ? (WebIO.setval({\\\"name\\\":\\\"click\\\",\\\"scope\\\":\\\"4984730124591555106\\\",\\\"id\\\":\\\"243\\\",\\\"type\\\":\\\"observable\\\"},filtered_data.out)) : undefined}))}));\\n    (WebIO.importBlock({\\\"data\\\":[{\\\"name\\\":\\\"Plotly\\\",\\\"type\\\":\\\"js\\\",\\\"url\\\":\\\"\\/assetserver\\/d6feb8d8ce4676ebdde817a0745950a35b4ba3ae-plotly.min.js\\\"},{\\\"name\\\":null,\\\"type\\\":\\\"js\\\",\\\"url\\\":\\\"\\/assetserver\\/46c9ff4df7c73b5875052df387368a00f6cfc484-plotly_webio.bundle.js\\\"}],\\\"type\\\":\\\"async_block\\\"})).then((imports) => handler.apply(this, imports));\\n}\\n\"],\"observables\":{\"_toImage\":{\"sync\":false,\"id\":\"248\",\"value\":{}},\"hover\":{\"sync\":false,\"id\":\"241\",\"value\":{}},\"selected\":{\"sync\":false,\"id\":\"242\",\"value\":{}},\"__gd_contents\":{\"sync\":false,\"id\":\"246\",\"value\":{}},\"click\":{\"sync\":false,\"id\":\"243\",\"value\":{}},\"image\":{\"sync\":true,\"id\":\"245\",\"value\":\"\"},\"__get_gd_contents\":{\"sync\":false,\"id\":\"250\",\"value\":\"\"},\"_downloadImage\":{\"sync\":false,\"id\":\"249\",\"value\":{}},\"relayout\":{\"sync\":false,\"id\":\"244\",\"value\":{}},\"_commands\":{\"sync\":false,\"id\":\"247\",\"value\":[]}}},\"children\":[{\"props\":{\"id\":\"plot-8a265829-95c8-4624-bbf5-0e7567f46754\"},\"nodeType\":\"DOM\",\"type\":\"node\",\"instanceArgs\":{\"namespace\":\"html\",\"tag\":\"div\"},\"children\":[]}]},\n",
       "        window,\n",
       "    );\n",
       "    })()\n",
       "    </script>\n",
       "</div>\n"
      ],
      "text/plain": [
       "data: [\n",
       "  \"scatter with fields line, marker, mode, name, type, x, and y\",\n",
       "  \"scatter with fields line, marker, mode, name, type, x, and y\",\n",
       "  \"scatter with fields line, marker, mode, name, type, x, and y\",\n",
       "  \"scatter with fields line, marker, mode, name, type, x, and y\",\n",
       "  \"scatter with fields line, marker, mode, name, type, x, and y\",\n",
       "  \"scatter with fields line, marker, mode, name, type, x, and y\"\n",
       "]\n",
       "\n",
       "layout: \"layout with fields margin, showlegend, template, title, xaxis, and yaxis\"\n",
       "\n"
      ]
     },
     "execution_count": 444,
     "metadata": {},
     "output_type": "execute_result"
    }
   ],
   "source": [
    "error_vectors = [\n",
    "    abs.(results[1, 1, :]),\n",
    "    abs.(results[1, 2, :]),\n",
    "    abs.(results[1, 3, :]),\n",
    "    abs.(results[1, 4, :]),\n",
    "    abs.(results[1, 5, :]),\n",
    "    abs.(results[1, 6, :])\n",
    "]\n",
    "labels = [\"σ2\", \"σ3\", \"σ4\", \"σ5\", \"σ6\", \"σ7\"]\n",
    "plot_convergence_error(error_vectors, labels)"
   ]
  },
  {
   "cell_type": "code",
   "execution_count": 445,
   "id": "3d43a122",
   "metadata": {},
   "outputs": [
    {
     "name": "stdout",
     "output_type": "stream",
     "text": [
      "1×20 adjoint(::Vector{Float64}) with eltype Float64:\n",
      " -3.65831  -3.43602  -3.64846  3.98731  -4.1954  -4.28319  -4.42918  -4.43429  -4.43505  -4.43514  -4.43515  -4.4351  -4.43507  -4.43504  -4.43504  -4.43504  -4.43504  -4.43504  -4.43504  -4.43504"
     ]
    }
   ],
   "source": [
    "# σ_2\n",
    "show(stdout, \"text/plain\", results[2, 1, :]')"
   ]
  },
  {
   "cell_type": "code",
   "execution_count": 446,
   "id": "9cb803de",
   "metadata": {},
   "outputs": [
    {
     "name": "stdout",
     "output_type": "stream",
     "text": [
      "1×20 adjoint(::Vector{Float64}) with eltype Float64:\n",
      " -2.73866  3.99237  3.71717  -3.2367  2.91558  2.57934  -1.84467  -1.74927  -1.74192  -1.74096  -1.7408  -1.74079  -1.74079  -1.74079  -1.74079  -1.74079  -1.74079  -1.74079  -1.74079  -1.74079"
     ]
    }
   ],
   "source": [
    "# σ_3\n",
    "show(stdout, \"text/plain\", results[2, 2, :]')"
   ]
  },
  {
   "cell_type": "code",
   "execution_count": 447,
   "id": "c1839f21",
   "metadata": {},
   "outputs": [
    {
     "name": "stdout",
     "output_type": "stream",
     "text": [
      "1×20 adjoint(::Vector{Float64}) with eltype Float64:\n",
      " 3.97082  -2.11557  -2.45113  -2.24982  -2.09865  -2.10476  -2.63348  2.59578  2.60453  2.60573  2.60589  2.60589  2.60589  2.60589  2.60589  2.60589  2.60589  2.60589  2.60589  2.60589"
     ]
    }
   ],
   "source": [
    "# σ_4\n",
    "show(stdout, \"text/plain\", results[2, 3, :]')"
   ]
  },
  {
   "cell_type": "code",
   "execution_count": 448,
   "id": "fe3ac699",
   "metadata": {},
   "outputs": [
    {
     "name": "stdout",
     "output_type": "stream",
     "text": [
      "1×20 adjoint(::Vector{Float64}) with eltype Float64:\n",
      " 2.66584  2.46244  2.28655  -2.07992  -2.32942  -2.56389  2.76874  -2.95772  -2.95925  -2.95925  -2.95925  -2.95925  -2.95925  -2.95925  -2.95925  -2.95925  -2.95925  -2.95925  -2.95925  -2.95925"
     ]
    }
   ],
   "source": [
    "# σ_5\n",
    "show(stdout, \"text/plain\", results[2, 4, :]')"
   ]
  },
  {
   "cell_type": "code",
   "execution_count": 449,
   "id": "aa6eb1cb",
   "metadata": {},
   "outputs": [
    {
     "name": "stdout",
     "output_type": "stream",
     "text": [
      "1×20 adjoint(::Vector{Float64}) with eltype Float64:\n",
      " 3.49228  3.50474  2.93016  -3.57033  -3.57062  -3.57062  -3.57062  -3.57062  -3.57062  -3.57062  -3.57062  -3.57062  -3.57062  -3.57062  -3.57062  -3.57062  -3.57062  -3.57062  -3.57062  -3.57062"
     ]
    }
   ],
   "source": [
    "# σ_6\n",
    "show(stdout, \"text/plain\", results[2, 5, :]')"
   ]
  },
  {
   "cell_type": "code",
   "execution_count": 450,
   "id": "d1cfc363",
   "metadata": {},
   "outputs": [
    {
     "name": "stdout",
     "output_type": "stream",
     "text": [
      "1×20 adjoint(::Vector{Float64}) with eltype Float64:\n",
      " 1.32663  1.30208  1.30208  1.30208  1.30208  1.30208  1.30208  1.30208  1.30208  1.30208  1.30208  1.30208  1.30208  1.30208  1.30208  1.30208  1.30208  1.30208  1.30208  1.30208"
     ]
    }
   ],
   "source": [
    "# σ_7\n",
    "show(stdout, \"text/plain\", results[2, 6, :]')"
   ]
  },
  {
   "cell_type": "code",
   "execution_count": 451,
   "id": "d7aef93d",
   "metadata": {
    "scrolled": true
   },
   "outputs": [
    {
     "data": {
      "text/plain": [
       "7×9 adjoint(::Matrix{Real}) with eltype Real:\n",
       " 5.00606   0         0        0         0         0        0        0  0\n",
       " 0        -4.43504   0        0         0         0        0        0  0\n",
       " 0         0        -1.74079  0         0         0        0        0  0\n",
       " 0         0         0        2.60589   0         0        0        0  0\n",
       " 0         0         0        0        -2.95925   0        0        0  0\n",
       " 0         0         0        0         0        -3.57062  0        0  0\n",
       " 0         0         0        0         0         0        1.30208  0  0"
      ]
     },
     "execution_count": 451,
     "metadata": {},
     "output_type": "execute_result"
    }
   ],
   "source": [
    "S"
   ]
  },
  {
   "cell_type": "markdown",
   "id": "65c0228f",
   "metadata": {},
   "source": [
    "### Badly conditioned square matrix"
   ]
  },
  {
   "cell_type": "code",
   "execution_count": 489,
   "id": "4833e409",
   "metadata": {},
   "outputs": [
    {
     "data": {
      "text/plain": [
       "7×7 Matrix{Float64}:\n",
       "  0.850642     -0.0734124     0.000588389  …  -0.192072     0.117026\n",
       " -0.0734124     0.963916      0.000289207     -0.0944074    0.0575208\n",
       "  0.000588389   0.000289206   0.999998         0.00075666  -0.000461021\n",
       "  0.236744      0.116364     -0.000932643      0.304449    -0.185496\n",
       "  0.12258       0.0602505    -0.0004829        0.157636    -0.0960451\n",
       " -0.192072     -0.0944074     0.00075666   …   0.752998     0.150494\n",
       "  0.117026      0.0575208    -0.000461021      0.150494     0.908306"
      ]
     },
     "execution_count": 489,
     "metadata": {},
     "output_type": "execute_result"
    }
   ],
   "source": [
    "u = randn(7, 1)\n",
    "u = u/norm(u)\n",
    "A = (I - u * u') + 1e-9 * randn(7, 7)"
   ]
  },
  {
   "cell_type": "code",
   "execution_count": 490,
   "id": "1757a397",
   "metadata": {},
   "outputs": [],
   "source": [
    "U, S, V, results = svd_num(A, 25, true);"
   ]
  },
  {
   "cell_type": "code",
   "execution_count": 491,
   "id": "7c618bba",
   "metadata": {},
   "outputs": [
    {
     "name": "stdout",
     "output_type": "stream",
     "text": [
      "1.6144162962245394e-9"
     ]
    }
   ],
   "source": [
    "show(stdout, \"text/plain\", opnorm(U * S * V' - A, 1)/opnorm(A, 1))"
   ]
  },
  {
   "cell_type": "code",
   "execution_count": 492,
   "id": "24f37b3c",
   "metadata": {},
   "outputs": [
    {
     "data": {
      "application/vnd.plotly.v1+json": {
       "config": {
        "editable": false,
        "responsive": true,
        "scrollZoom": true,
        "showLink": false,
        "staticPlot": false
       },
       "data": [
        {
         "line": {
          "shape": "linear"
         },
         "marker": {
          "color": 1
         },
         "mode": "lines+markers",
         "name": "σ2",
         "type": "scatter",
         "x": [
          1,
          2,
          3,
          4,
          5,
          6,
          7,
          8,
          9,
          10,
          11,
          12,
          13,
          14,
          15,
          16,
          17,
          18,
          19,
          20,
          21,
          22,
          23,
          24,
          25
         ],
         "y": [
          0.386468503656647,
          0.9999019237130028,
          3.496270256491032e-07,
          2.386823960317391e-08,
          7.775619234675436e-16,
          7.775619234675436e-16,
          7.775619234675436e-16,
          7.775619234675436e-16,
          7.775619234675436e-16,
          7.775619234675436e-16,
          7.775619234675436e-16,
          7.775619234675436e-16,
          7.775619234675436e-16,
          7.775619234675436e-16,
          7.775619234675436e-16,
          7.775619234675436e-16,
          7.775619234675436e-16,
          7.775619234675436e-16,
          7.775619234675436e-16,
          7.775619234675436e-16,
          7.775619234675436e-16,
          7.775619234675436e-16,
          7.775619234675436e-16,
          7.775619234675436e-16,
          7.775619234675436e-16
         ]
        },
        {
         "line": {
          "shape": "linear"
         },
         "marker": {
          "color": 2
         },
         "mode": "lines+markers",
         "name": "σ3",
         "type": "scatter",
         "x": [
          1,
          2,
          3,
          4,
          5,
          6,
          7,
          8,
          9,
          10,
          11,
          12,
          13,
          14,
          15,
          16,
          17,
          18,
          19,
          20,
          21,
          22,
          23,
          24,
          25
         ],
         "y": [
          0.9998096448346363,
          8.843771172788111e-08,
          6.752051504684628e-10,
          6.75205147340469e-10,
          6.504418395957897e-10,
          6.504418395957897e-10,
          6.504418395957897e-10,
          6.504418395957897e-10,
          6.504418395957897e-10,
          6.504418395957897e-10,
          6.504418395957897e-10,
          6.504418395957897e-10,
          6.504418395957897e-10,
          6.504418395957897e-10,
          6.504418395957897e-10,
          6.504418395957897e-10,
          6.504418395957897e-10,
          6.504418395957897e-10,
          6.504418395957897e-10,
          6.504418395957897e-10,
          6.504418395957897e-10,
          6.504418395957897e-10,
          6.504418395957897e-10,
          6.504418395957897e-10,
          6.504418395957897e-10
         ]
        },
        {
         "line": {
          "shape": "linear"
         },
         "marker": {
          "color": 3
         },
         "mode": "lines+markers",
         "name": "σ4",
         "type": "scatter",
         "x": [
          1,
          2,
          3,
          4,
          5,
          6,
          7,
          8,
          9,
          10,
          11,
          12,
          13,
          14,
          15,
          16,
          17,
          18,
          19,
          20,
          21,
          22,
          23,
          24,
          25
         ],
         "y": [
          8.733372892620493e-08,
          1.9462874373801222e-09,
          1.835544925762913e-09,
          1.8355449251330604e-09,
          1.8216305696718638e-09,
          1.8216305696718638e-09,
          1.8216305696718638e-09,
          1.8216305696718638e-09,
          1.8216305696718638e-09,
          1.8216305696718638e-09,
          1.8216305696718638e-09,
          1.8216305696718638e-09,
          1.8216305696718638e-09,
          1.8216305696718638e-09,
          1.8216305696718638e-09,
          1.8216305696718638e-09,
          1.8216305696718638e-09,
          1.8216305696718638e-09,
          1.8216305696718638e-09,
          1.8216305696718638e-09,
          1.8216305696718638e-09,
          1.8216305696718638e-09,
          1.8216305696718638e-09,
          1.8216305696718638e-09,
          1.8216305696718638e-09
         ]
        },
        {
         "line": {
          "shape": "linear"
         },
         "marker": {
          "color": 4
         },
         "mode": "lines+markers",
         "name": "σ5",
         "type": "scatter",
         "x": [
          1,
          2,
          3,
          4,
          5,
          6,
          7,
          8,
          9,
          10,
          11,
          12,
          13,
          14,
          15,
          16,
          17,
          18,
          19,
          20,
          21,
          22,
          23,
          24,
          25
         ],
         "y": [
          1.1890353798871614e-09,
          2.506010851339478e-09,
          1.406118767549112e-09,
          1.406118967860107e-09,
          1.2318817696953778e-09,
          1.2318817696953778e-09,
          1.2318817696953778e-09,
          1.2318817696953778e-09,
          1.2318817696953778e-09,
          1.2318817696953778e-09,
          1.2318817696953778e-09,
          1.2318817696953778e-09,
          1.2318817696953778e-09,
          1.2318817696953778e-09,
          1.2318817696953778e-09,
          1.2318817696953778e-09,
          1.2318817696953778e-09,
          1.2318817696953778e-09,
          1.2318817696953778e-09,
          1.2318817696953778e-09,
          1.2318817696953778e-09,
          1.2318817696953778e-09,
          1.2318817696953778e-09,
          1.2318817696953778e-09,
          1.2318817696953778e-09
         ]
        },
        {
         "line": {
          "shape": "linear"
         },
         "marker": {
          "color": 5
         },
         "mode": "lines+markers",
         "name": "σ6",
         "type": "scatter",
         "x": [
          1,
          2,
          3,
          4,
          5,
          6,
          7,
          8,
          9,
          10,
          11,
          12,
          13,
          14,
          15,
          16,
          17,
          18,
          19,
          20,
          21,
          22,
          23,
          24,
          25
         ],
         "y": [
          8.883179411541563e-10,
          3.7553932114736413e-10,
          4.72551166010612e-10,
          4.725511257281142e-10,
          5.026921469318796e-10,
          5.026921469318796e-10,
          5.026921469318796e-10,
          5.026921469318796e-10,
          5.026921469318796e-10,
          5.026921469318796e-10,
          5.026921469318796e-10,
          5.026921469318796e-10,
          5.026921469318796e-10,
          5.026921469318796e-10,
          5.026921469318796e-10,
          5.026921469318796e-10,
          5.026921469318796e-10,
          5.026921469318796e-10,
          5.026921469318796e-10,
          5.026921469318796e-10,
          5.026921469318796e-10,
          5.026921469318796e-10,
          5.026921469318796e-10,
          5.026921469318796e-10,
          5.026921469318796e-10
         ]
        },
        {
         "line": {
          "shape": "linear"
         },
         "marker": {
          "color": 6
         },
         "mode": "lines+markers",
         "name": "σ7",
         "type": "scatter",
         "x": [
          1,
          2,
          3,
          4,
          5,
          6,
          7,
          8,
          9,
          10,
          11,
          12,
          13,
          14,
          15,
          16,
          17,
          18,
          19,
          20,
          21,
          22,
          23,
          24,
          25
         ],
         "y": [
          4.185920499111262e-10,
          4.6328921246045763e-10,
          4.757664740025689e-10,
          4.75766529281004e-10,
          4.1984690254976273e-10,
          4.1984690254976273e-10,
          4.1984690254976273e-10,
          4.1984690254976273e-10,
          4.1984690254976273e-10,
          4.1984690254976273e-10,
          4.1984690254976273e-10,
          4.1984690254976273e-10,
          4.1984690254976273e-10,
          4.1984690254976273e-10,
          4.1984690254976273e-10,
          4.1984690254976273e-10,
          4.1984690254976273e-10,
          4.1984690254976273e-10,
          4.1984690254976273e-10,
          4.1984690254976273e-10,
          4.1984690254976273e-10,
          4.1984690254976273e-10,
          4.1984690254976273e-10,
          4.1984690254976273e-10,
          4.1984690254976273e-10
         ]
        }
       ],
       "frames": [],
       "layout": {
        "margin": {
         "b": 50,
         "l": 50,
         "r": 50,
         "t": 60
        },
        "showlegend": true,
        "template": {
         "data": {
          "bar": [
           {
            "error_x": {
             "color": "#2a3f5f"
            },
            "error_y": {
             "color": "#2a3f5f"
            },
            "marker": {
             "line": {
              "color": "#E5ECF6",
              "width": 0.5
             }
            },
            "type": "bar"
           }
          ],
          "barpolar": [
           {
            "marker": {
             "line": {
              "color": "#E5ECF6",
              "width": 0.5
             }
            },
            "type": "barpolar"
           }
          ],
          "carpet": [
           {
            "aaxis": {
             "endlinecolor": "#2a3f5f",
             "gridcolor": "white",
             "linecolor": "white",
             "minorgridcolor": "white",
             "startlinecolor": "#2a3f5f"
            },
            "baxis": {
             "endlinecolor": "#2a3f5f",
             "gridcolor": "white",
             "linecolor": "white",
             "minorgridcolor": "white",
             "startlinecolor": "#2a3f5f"
            },
            "type": "carpet"
           }
          ],
          "choropleth": [
           {
            "colorbar": {
             "outlinewidth": 0,
             "ticks": ""
            },
            "type": "choropleth"
           }
          ],
          "contour": [
           {
            "colorbar": {
             "outlinewidth": 0,
             "ticks": ""
            },
            "colorscale": [
             [
              0,
              "#0d0887"
             ],
             [
              0.1111111111111111,
              "#46039f"
             ],
             [
              0.2222222222222222,
              "#7201a8"
             ],
             [
              0.3333333333333333,
              "#9c179e"
             ],
             [
              0.4444444444444444,
              "#bd3786"
             ],
             [
              0.5555555555555556,
              "#d8576b"
             ],
             [
              0.6666666666666666,
              "#ed7953"
             ],
             [
              0.7777777777777778,
              "#fb9f3a"
             ],
             [
              0.8888888888888888,
              "#fdca26"
             ],
             [
              1,
              "#f0f921"
             ]
            ],
            "type": "contour"
           }
          ],
          "contourcarpet": [
           {
            "colorbar": {
             "outlinewidth": 0,
             "ticks": ""
            },
            "type": "contourcarpet"
           }
          ],
          "heatmap": [
           {
            "colorbar": {
             "outlinewidth": 0,
             "ticks": ""
            },
            "colorscale": [
             [
              0,
              "#0d0887"
             ],
             [
              0.1111111111111111,
              "#46039f"
             ],
             [
              0.2222222222222222,
              "#7201a8"
             ],
             [
              0.3333333333333333,
              "#9c179e"
             ],
             [
              0.4444444444444444,
              "#bd3786"
             ],
             [
              0.5555555555555556,
              "#d8576b"
             ],
             [
              0.6666666666666666,
              "#ed7953"
             ],
             [
              0.7777777777777778,
              "#fb9f3a"
             ],
             [
              0.8888888888888888,
              "#fdca26"
             ],
             [
              1,
              "#f0f921"
             ]
            ],
            "type": "heatmap"
           }
          ],
          "heatmapgl": [
           {
            "colorbar": {
             "outlinewidth": 0,
             "ticks": ""
            },
            "colorscale": [
             [
              0,
              "#0d0887"
             ],
             [
              0.1111111111111111,
              "#46039f"
             ],
             [
              0.2222222222222222,
              "#7201a8"
             ],
             [
              0.3333333333333333,
              "#9c179e"
             ],
             [
              0.4444444444444444,
              "#bd3786"
             ],
             [
              0.5555555555555556,
              "#d8576b"
             ],
             [
              0.6666666666666666,
              "#ed7953"
             ],
             [
              0.7777777777777778,
              "#fb9f3a"
             ],
             [
              0.8888888888888888,
              "#fdca26"
             ],
             [
              1,
              "#f0f921"
             ]
            ],
            "type": "heatmapgl"
           }
          ],
          "histogram": [
           {
            "marker": {
             "colorbar": {
              "outlinewidth": 0,
              "ticks": ""
             }
            },
            "type": "histogram"
           }
          ],
          "histogram2d": [
           {
            "colorbar": {
             "outlinewidth": 0,
             "ticks": ""
            },
            "colorscale": [
             [
              0,
              "#0d0887"
             ],
             [
              0.1111111111111111,
              "#46039f"
             ],
             [
              0.2222222222222222,
              "#7201a8"
             ],
             [
              0.3333333333333333,
              "#9c179e"
             ],
             [
              0.4444444444444444,
              "#bd3786"
             ],
             [
              0.5555555555555556,
              "#d8576b"
             ],
             [
              0.6666666666666666,
              "#ed7953"
             ],
             [
              0.7777777777777778,
              "#fb9f3a"
             ],
             [
              0.8888888888888888,
              "#fdca26"
             ],
             [
              1,
              "#f0f921"
             ]
            ],
            "type": "histogram2d"
           }
          ],
          "histogram2dcontour": [
           {
            "colorbar": {
             "outlinewidth": 0,
             "ticks": ""
            },
            "colorscale": [
             [
              0,
              "#0d0887"
             ],
             [
              0.1111111111111111,
              "#46039f"
             ],
             [
              0.2222222222222222,
              "#7201a8"
             ],
             [
              0.3333333333333333,
              "#9c179e"
             ],
             [
              0.4444444444444444,
              "#bd3786"
             ],
             [
              0.5555555555555556,
              "#d8576b"
             ],
             [
              0.6666666666666666,
              "#ed7953"
             ],
             [
              0.7777777777777778,
              "#fb9f3a"
             ],
             [
              0.8888888888888888,
              "#fdca26"
             ],
             [
              1,
              "#f0f921"
             ]
            ],
            "type": "histogram2dcontour"
           }
          ],
          "mesh3d": [
           {
            "colorbar": {
             "outlinewidth": 0,
             "ticks": ""
            },
            "type": "mesh3d"
           }
          ],
          "parcoords": [
           {
            "line": {
             "colorbar": {
              "outlinewidth": 0,
              "ticks": ""
             }
            },
            "type": "parcoords"
           }
          ],
          "pie": [
           {
            "automargin": true,
            "type": "pie"
           }
          ],
          "scatter": [
           {
            "marker": {
             "colorbar": {
              "outlinewidth": 0,
              "ticks": ""
             }
            },
            "type": "scatter"
           }
          ],
          "scatter3d": [
           {
            "line": {
             "colorbar": {
              "outlinewidth": 0,
              "ticks": ""
             }
            },
            "marker": {
             "colorbar": {
              "outlinewidth": 0,
              "ticks": ""
             }
            },
            "type": "scatter3d"
           }
          ],
          "scattercarpet": [
           {
            "marker": {
             "colorbar": {
              "outlinewidth": 0,
              "ticks": ""
             }
            },
            "type": "scattercarpet"
           }
          ],
          "scattergeo": [
           {
            "marker": {
             "colorbar": {
              "outlinewidth": 0,
              "ticks": ""
             }
            },
            "type": "scattergeo"
           }
          ],
          "scattergl": [
           {
            "marker": {
             "colorbar": {
              "outlinewidth": 0,
              "ticks": ""
             }
            },
            "type": "scattergl"
           }
          ],
          "scattermapbox": [
           {
            "marker": {
             "colorbar": {
              "outlinewidth": 0,
              "ticks": ""
             }
            },
            "type": "scattermapbox"
           }
          ],
          "scatterpolar": [
           {
            "marker": {
             "colorbar": {
              "outlinewidth": 0,
              "ticks": ""
             }
            },
            "type": "scatterpolar"
           }
          ],
          "scatterpolargl": [
           {
            "marker": {
             "colorbar": {
              "outlinewidth": 0,
              "ticks": ""
             }
            },
            "type": "scatterpolargl"
           }
          ],
          "scatterternary": [
           {
            "marker": {
             "colorbar": {
              "outlinewidth": 0,
              "ticks": ""
             }
            },
            "type": "scatterternary"
           }
          ],
          "surface": [
           {
            "colorbar": {
             "outlinewidth": 0,
             "ticks": ""
            },
            "colorscale": [
             [
              0,
              "#0d0887"
             ],
             [
              0.1111111111111111,
              "#46039f"
             ],
             [
              0.2222222222222222,
              "#7201a8"
             ],
             [
              0.3333333333333333,
              "#9c179e"
             ],
             [
              0.4444444444444444,
              "#bd3786"
             ],
             [
              0.5555555555555556,
              "#d8576b"
             ],
             [
              0.6666666666666666,
              "#ed7953"
             ],
             [
              0.7777777777777778,
              "#fb9f3a"
             ],
             [
              0.8888888888888888,
              "#fdca26"
             ],
             [
              1,
              "#f0f921"
             ]
            ],
            "type": "surface"
           }
          ],
          "table": [
           {
            "cells": {
             "fill": {
              "color": "#EBF0F8"
             },
             "line": {
              "color": "white"
             }
            },
            "header": {
             "fill": {
              "color": "#C8D4E3"
             },
             "line": {
              "color": "white"
             }
            },
            "type": "table"
           }
          ]
         },
         "layout": {
          "annotationdefaults": {
           "arrowcolor": "#2a3f5f",
           "arrowhead": 0,
           "arrowwidth": 1
          },
          "autotypenumbers": "strict",
          "coloraxis": {
           "colorbar": {
            "outlinewidth": 0,
            "ticks": ""
           }
          },
          "colorscale": {
           "diverging": [
            [
             0,
             "#8e0152"
            ],
            [
             0.1,
             "#c51b7d"
            ],
            [
             0.2,
             "#de77ae"
            ],
            [
             0.3,
             "#f1b6da"
            ],
            [
             0.4,
             "#fde0ef"
            ],
            [
             0.5,
             "#f7f7f7"
            ],
            [
             0.6,
             "#e6f5d0"
            ],
            [
             0.7,
             "#b8e186"
            ],
            [
             0.8,
             "#7fbc41"
            ],
            [
             0.9,
             "#4d9221"
            ],
            [
             1,
             "#276419"
            ]
           ],
           "sequential": [
            [
             0,
             "#0d0887"
            ],
            [
             0.1111111111111111,
             "#46039f"
            ],
            [
             0.2222222222222222,
             "#7201a8"
            ],
            [
             0.3333333333333333,
             "#9c179e"
            ],
            [
             0.4444444444444444,
             "#bd3786"
            ],
            [
             0.5555555555555556,
             "#d8576b"
            ],
            [
             0.6666666666666666,
             "#ed7953"
            ],
            [
             0.7777777777777778,
             "#fb9f3a"
            ],
            [
             0.8888888888888888,
             "#fdca26"
            ],
            [
             1,
             "#f0f921"
            ]
           ],
           "sequentialminus": [
            [
             0,
             "#0d0887"
            ],
            [
             0.1111111111111111,
             "#46039f"
            ],
            [
             0.2222222222222222,
             "#7201a8"
            ],
            [
             0.3333333333333333,
             "#9c179e"
            ],
            [
             0.4444444444444444,
             "#bd3786"
            ],
            [
             0.5555555555555556,
             "#d8576b"
            ],
            [
             0.6666666666666666,
             "#ed7953"
            ],
            [
             0.7777777777777778,
             "#fb9f3a"
            ],
            [
             0.8888888888888888,
             "#fdca26"
            ],
            [
             1,
             "#f0f921"
            ]
           ]
          },
          "colorway": [
           "#636efa",
           "#EF553B",
           "#00cc96",
           "#ab63fa",
           "#FFA15A",
           "#19d3f3",
           "#FF6692",
           "#B6E880",
           "#FF97FF",
           "#FECB52"
          ],
          "font": {
           "color": "#2a3f5f"
          },
          "geo": {
           "bgcolor": "white",
           "lakecolor": "white",
           "landcolor": "#E5ECF6",
           "showlakes": true,
           "showland": true,
           "subunitcolor": "white"
          },
          "hoverlabel": {
           "align": "left"
          },
          "hovermode": "closest",
          "mapbox": {
           "style": "light"
          },
          "paper_bgcolor": "white",
          "plot_bgcolor": "#E5ECF6",
          "polar": {
           "angularaxis": {
            "gridcolor": "white",
            "linecolor": "white",
            "ticks": ""
           },
           "bgcolor": "#E5ECF6",
           "radialaxis": {
            "gridcolor": "white",
            "linecolor": "white",
            "ticks": ""
           }
          },
          "scene": {
           "xaxis": {
            "backgroundcolor": "#E5ECF6",
            "gridcolor": "white",
            "gridwidth": 2,
            "linecolor": "white",
            "showbackground": true,
            "ticks": "",
            "zerolinecolor": "white"
           },
           "yaxis": {
            "backgroundcolor": "#E5ECF6",
            "gridcolor": "white",
            "gridwidth": 2,
            "linecolor": "white",
            "showbackground": true,
            "ticks": "",
            "zerolinecolor": "white"
           },
           "zaxis": {
            "backgroundcolor": "#E5ECF6",
            "gridcolor": "white",
            "gridwidth": 2,
            "linecolor": "white",
            "showbackground": true,
            "ticks": "",
            "zerolinecolor": "white"
           }
          },
          "shapedefaults": {
           "line": {
            "color": "#2a3f5f"
           }
          },
          "ternary": {
           "aaxis": {
            "gridcolor": "white",
            "linecolor": "white",
            "ticks": ""
           },
           "baxis": {
            "gridcolor": "white",
            "linecolor": "white",
            "ticks": ""
           },
           "bgcolor": "#E5ECF6",
           "caxis": {
            "gridcolor": "white",
            "linecolor": "white",
            "ticks": ""
           }
          },
          "title": {
           "x": 0.05
          },
          "xaxis": {
           "automargin": true,
           "gridcolor": "white",
           "linecolor": "white",
           "ticks": "",
           "title": {
            "standoff": 15
           },
           "zerolinecolor": "white",
           "zerolinewidth": 2
          },
          "yaxis": {
           "automargin": true,
           "gridcolor": "white",
           "linecolor": "white",
           "ticks": "",
           "title": {
            "standoff": 15
           },
           "zerolinecolor": "white",
           "zerolinewidth": 2
          }
         }
        },
        "title": "Value of element above diagonal σ_i",
        "xaxis": {
         "title": {
          "text": "Iteration"
         }
        },
        "yaxis": {
         "tickformat": "e",
         "title": {
          "text": "Error"
         },
         "type": "log"
        }
       }
      },
      "text/html": [
       "<div\n",
       "    class=\"webio-mountpoint\"\n",
       "    data-webio-mountpoint=\"3297292517912637895\"\n",
       ">\n",
       "    <script>\n",
       "    (function(){\n",
       "    // Some integrations (namely, IJulia/Jupyter) use an alternate render pathway than\n",
       "    // just putting the html on the page. If WebIO isn't defined, then it's pretty likely\n",
       "    // that we're in one of those situations and the integration just isn't installed\n",
       "    // correctly.\n",
       "    if (typeof window.WebIO === \"undefined\") {\n",
       "        document\n",
       "            .querySelector('[data-webio-mountpoint=\"3297292517912637895\"]')\n",
       "            .innerHTML = (\n",
       "                '<div style=\"padding: 1em; background-color: #f8d6da; border: 1px solid #f5c6cb; font-weight: bold;\">' +\n",
       "                '<p><strong>WebIO not detected.</strong></p>' +\n",
       "                '<p>Please read ' +\n",
       "                '<a href=\"https://juliagizmos.github.io/WebIO.jl/latest/troubleshooting/not-detected/\" target=\"_blank\">the troubleshooting guide</a> ' +\n",
       "                'for more information on how to resolve this issue.</p>' +\n",
       "                '<p><a href=\"https://juliagizmos.github.io/WebIO.jl/latest/troubleshooting/not-detected/\" target=\"_blank\">https://juliagizmos.github.io/WebIO.jl/latest/troubleshooting/not-detected/</a></p>' +\n",
       "                '</div>'\n",
       "            );\n",
       "        return;\n",
       "    }\n",
       "    WebIO.mount(\n",
       "        document.querySelector('[data-webio-mountpoint=\"3297292517912637895\"]'),\n",
       "        {\"props\":{},\"nodeType\":\"Scope\",\"type\":\"node\",\"instanceArgs\":{\"imports\":{\"data\":[{\"name\":\"Plotly\",\"type\":\"js\",\"url\":\"\\/assetserver\\/d6feb8d8ce4676ebdde817a0745950a35b4ba3ae-plotly.min.js\"},{\"name\":null,\"type\":\"js\",\"url\":\"\\/assetserver\\/46c9ff4df7c73b5875052df387368a00f6cfc484-plotly_webio.bundle.js\"}],\"type\":\"async_block\"},\"id\":\"1061698926673750377\",\"handlers\":{\"_toImage\":[\"(function (options){return this.Plotly.toImage(this.plotElem,options).then((function (data){return WebIO.setval({\\\"name\\\":\\\"image\\\",\\\"scope\\\":\\\"1061698926673750377\\\",\\\"id\\\":\\\"285\\\",\\\"type\\\":\\\"observable\\\"},data)}))})\"],\"__get_gd_contents\":[\"(function (prop){prop==\\\"data\\\" ? (WebIO.setval({\\\"name\\\":\\\"__gd_contents\\\",\\\"scope\\\":\\\"1061698926673750377\\\",\\\"id\\\":\\\"286\\\",\\\"type\\\":\\\"observable\\\"},this.plotElem.data)) : undefined; return prop==\\\"layout\\\" ? (WebIO.setval({\\\"name\\\":\\\"__gd_contents\\\",\\\"scope\\\":\\\"1061698926673750377\\\",\\\"id\\\":\\\"286\\\",\\\"type\\\":\\\"observable\\\"},this.plotElem.layout)) : undefined})\"],\"_downloadImage\":[\"(function (options){return this.Plotly.downloadImage(this.plotElem,options)})\"],\"_commands\":[\"(function (args){var fn=args.shift(); var elem=this.plotElem; var Plotly=this.Plotly; args.unshift(elem); return Plotly[fn].apply(this,args)})\"]},\"systemjs_options\":null,\"mount_callbacks\":[\"function () {\\n    var handler = ((function (Plotly,PlotlyWebIO){PlotlyWebIO.init(WebIO); var gd=this.dom.querySelector(\\\"#plot-a1a3cd05-f155-488e-bfa2-87c44d04945e\\\"); this.plotElem=gd; this.Plotly=Plotly; (window.Blink!==undefined) ? (gd.style.width=\\\"100%\\\", gd.style.height=\\\"100vh\\\", gd.style.marginLeft=\\\"0%\\\", gd.style.marginTop=\\\"0vh\\\") : undefined; window.onresize=(function (){return Plotly.Plots.resize(gd)}); Plotly.newPlot(gd,[{\\\"x\\\":[1,2,3,4,5,6,7,8,9,10,11,12,13,14,15,16,17,18,19,20,21,22,23,24,25],\\\"mode\\\":\\\"lines+markers\\\",\\\"line\\\":{\\\"shape\\\":\\\"linear\\\"},\\\"y\\\":[0.386468503656647,0.9999019237130028,3.496270256491032e-7,2.386823960317391e-8,7.775619234675436e-16,7.775619234675436e-16,7.775619234675436e-16,7.775619234675436e-16,7.775619234675436e-16,7.775619234675436e-16,7.775619234675436e-16,7.775619234675436e-16,7.775619234675436e-16,7.775619234675436e-16,7.775619234675436e-16,7.775619234675436e-16,7.775619234675436e-16,7.775619234675436e-16,7.775619234675436e-16,7.775619234675436e-16,7.775619234675436e-16,7.775619234675436e-16,7.775619234675436e-16,7.775619234675436e-16,7.775619234675436e-16],\\\"type\\\":\\\"scatter\\\",\\\"name\\\":\\\"σ2\\\",\\\"marker\\\":{\\\"color\\\":1}},{\\\"x\\\":[1,2,3,4,5,6,7,8,9,10,11,12,13,14,15,16,17,18,19,20,21,22,23,24,25],\\\"mode\\\":\\\"lines+markers\\\",\\\"line\\\":{\\\"shape\\\":\\\"linear\\\"},\\\"y\\\":[0.9998096448346363,8.843771172788111e-8,6.752051504684628e-10,6.75205147340469e-10,6.504418395957897e-10,6.504418395957897e-10,6.504418395957897e-10,6.504418395957897e-10,6.504418395957897e-10,6.504418395957897e-10,6.504418395957897e-10,6.504418395957897e-10,6.504418395957897e-10,6.504418395957897e-10,6.504418395957897e-10,6.504418395957897e-10,6.504418395957897e-10,6.504418395957897e-10,6.504418395957897e-10,6.504418395957897e-10,6.504418395957897e-10,6.504418395957897e-10,6.504418395957897e-10,6.504418395957897e-10,6.504418395957897e-10],\\\"type\\\":\\\"scatter\\\",\\\"name\\\":\\\"σ3\\\",\\\"marker\\\":{\\\"color\\\":2}},{\\\"x\\\":[1,2,3,4,5,6,7,8,9,10,11,12,13,14,15,16,17,18,19,20,21,22,23,24,25],\\\"mode\\\":\\\"lines+markers\\\",\\\"line\\\":{\\\"shape\\\":\\\"linear\\\"},\\\"y\\\":[8.733372892620493e-8,1.9462874373801222e-9,1.835544925762913e-9,1.8355449251330604e-9,1.8216305696718638e-9,1.8216305696718638e-9,1.8216305696718638e-9,1.8216305696718638e-9,1.8216305696718638e-9,1.8216305696718638e-9,1.8216305696718638e-9,1.8216305696718638e-9,1.8216305696718638e-9,1.8216305696718638e-9,1.8216305696718638e-9,1.8216305696718638e-9,1.8216305696718638e-9,1.8216305696718638e-9,1.8216305696718638e-9,1.8216305696718638e-9,1.8216305696718638e-9,1.8216305696718638e-9,1.8216305696718638e-9,1.8216305696718638e-9,1.8216305696718638e-9],\\\"type\\\":\\\"scatter\\\",\\\"name\\\":\\\"σ4\\\",\\\"marker\\\":{\\\"color\\\":3}},{\\\"x\\\":[1,2,3,4,5,6,7,8,9,10,11,12,13,14,15,16,17,18,19,20,21,22,23,24,25],\\\"mode\\\":\\\"lines+markers\\\",\\\"line\\\":{\\\"shape\\\":\\\"linear\\\"},\\\"y\\\":[1.1890353798871614e-9,2.506010851339478e-9,1.406118767549112e-9,1.406118967860107e-9,1.2318817696953778e-9,1.2318817696953778e-9,1.2318817696953778e-9,1.2318817696953778e-9,1.2318817696953778e-9,1.2318817696953778e-9,1.2318817696953778e-9,1.2318817696953778e-9,1.2318817696953778e-9,1.2318817696953778e-9,1.2318817696953778e-9,1.2318817696953778e-9,1.2318817696953778e-9,1.2318817696953778e-9,1.2318817696953778e-9,1.2318817696953778e-9,1.2318817696953778e-9,1.2318817696953778e-9,1.2318817696953778e-9,1.2318817696953778e-9,1.2318817696953778e-9],\\\"type\\\":\\\"scatter\\\",\\\"name\\\":\\\"σ5\\\",\\\"marker\\\":{\\\"color\\\":4}},{\\\"x\\\":[1,2,3,4,5,6,7,8,9,10,11,12,13,14,15,16,17,18,19,20,21,22,23,24,25],\\\"mode\\\":\\\"lines+markers\\\",\\\"line\\\":{\\\"shape\\\":\\\"linear\\\"},\\\"y\\\":[8.883179411541563e-10,3.7553932114736413e-10,4.72551166010612e-10,4.725511257281142e-10,5.026921469318796e-10,5.026921469318796e-10,5.026921469318796e-10,5.026921469318796e-10,5.026921469318796e-10,5.026921469318796e-10,5.026921469318796e-10,5.026921469318796e-10,5.026921469318796e-10,5.026921469318796e-10,5.026921469318796e-10,5.026921469318796e-10,5.026921469318796e-10,5.026921469318796e-10,5.026921469318796e-10,5.026921469318796e-10,5.026921469318796e-10,5.026921469318796e-10,5.026921469318796e-10,5.026921469318796e-10,5.026921469318796e-10],\\\"type\\\":\\\"scatter\\\",\\\"name\\\":\\\"σ6\\\",\\\"marker\\\":{\\\"color\\\":5}},{\\\"x\\\":[1,2,3,4,5,6,7,8,9,10,11,12,13,14,15,16,17,18,19,20,21,22,23,24,25],\\\"mode\\\":\\\"lines+markers\\\",\\\"line\\\":{\\\"shape\\\":\\\"linear\\\"},\\\"y\\\":[4.185920499111262e-10,4.6328921246045763e-10,4.757664740025689e-10,4.75766529281004e-10,4.1984690254976273e-10,4.1984690254976273e-10,4.1984690254976273e-10,4.1984690254976273e-10,4.1984690254976273e-10,4.1984690254976273e-10,4.1984690254976273e-10,4.1984690254976273e-10,4.1984690254976273e-10,4.1984690254976273e-10,4.1984690254976273e-10,4.1984690254976273e-10,4.1984690254976273e-10,4.1984690254976273e-10,4.1984690254976273e-10,4.1984690254976273e-10,4.1984690254976273e-10,4.1984690254976273e-10,4.1984690254976273e-10,4.1984690254976273e-10,4.1984690254976273e-10],\\\"type\\\":\\\"scatter\\\",\\\"name\\\":\\\"σ7\\\",\\\"marker\\\":{\\\"color\\\":6}}],{\\\"showlegend\\\":true,\\\"xaxis\\\":{\\\"title\\\":{\\\"text\\\":\\\"Iteration\\\"}},\\\"template\\\":{\\\"layout\\\":{\\\"coloraxis\\\":{\\\"colorbar\\\":{\\\"ticks\\\":\\\"\\\",\\\"outlinewidth\\\":0}},\\\"xaxis\\\":{\\\"gridcolor\\\":\\\"white\\\",\\\"zerolinewidth\\\":2,\\\"title\\\":{\\\"standoff\\\":15},\\\"ticks\\\":\\\"\\\",\\\"zerolinecolor\\\":\\\"white\\\",\\\"automargin\\\":true,\\\"linecolor\\\":\\\"white\\\"},\\\"hovermode\\\":\\\"closest\\\",\\\"paper_bgcolor\\\":\\\"white\\\",\\\"geo\\\":{\\\"showlakes\\\":true,\\\"showland\\\":true,\\\"landcolor\\\":\\\"#E5ECF6\\\",\\\"bgcolor\\\":\\\"white\\\",\\\"subunitcolor\\\":\\\"white\\\",\\\"lakecolor\\\":\\\"white\\\"},\\\"colorscale\\\":{\\\"sequential\\\":[[0.0,\\\"#0d0887\\\"],[0.1111111111111111,\\\"#46039f\\\"],[0.2222222222222222,\\\"#7201a8\\\"],[0.3333333333333333,\\\"#9c179e\\\"],[0.4444444444444444,\\\"#bd3786\\\"],[0.5555555555555556,\\\"#d8576b\\\"],[0.6666666666666666,\\\"#ed7953\\\"],[0.7777777777777778,\\\"#fb9f3a\\\"],[0.8888888888888888,\\\"#fdca26\\\"],[1.0,\\\"#f0f921\\\"]],\\\"diverging\\\":[[0,\\\"#8e0152\\\"],[0.1,\\\"#c51b7d\\\"],[0.2,\\\"#de77ae\\\"],[0.3,\\\"#f1b6da\\\"],[0.4,\\\"#fde0ef\\\"],[0.5,\\\"#f7f7f7\\\"],[0.6,\\\"#e6f5d0\\\"],[0.7,\\\"#b8e186\\\"],[0.8,\\\"#7fbc41\\\"],[0.9,\\\"#4d9221\\\"],[1,\\\"#276419\\\"]],\\\"sequentialminus\\\":[[0.0,\\\"#0d0887\\\"],[0.1111111111111111,\\\"#46039f\\\"],[0.2222222222222222,\\\"#7201a8\\\"],[0.3333333333333333,\\\"#9c179e\\\"],[0.4444444444444444,\\\"#bd3786\\\"],[0.5555555555555556,\\\"#d8576b\\\"],[0.6666666666666666,\\\"#ed7953\\\"],[0.7777777777777778,\\\"#fb9f3a\\\"],[0.8888888888888888,\\\"#fdca26\\\"],[1.0,\\\"#f0f921\\\"]]},\\\"yaxis\\\":{\\\"gridcolor\\\":\\\"white\\\",\\\"zerolinewidth\\\":2,\\\"title\\\":{\\\"standoff\\\":15},\\\"ticks\\\":\\\"\\\",\\\"zerolinecolor\\\":\\\"white\\\",\\\"automargin\\\":true,\\\"linecolor\\\":\\\"white\\\"},\\\"shapedefaults\\\":{\\\"line\\\":{\\\"color\\\":\\\"#2a3f5f\\\"}},\\\"hoverlabel\\\":{\\\"align\\\":\\\"left\\\"},\\\"mapbox\\\":{\\\"style\\\":\\\"light\\\"},\\\"polar\\\":{\\\"angularaxis\\\":{\\\"gridcolor\\\":\\\"white\\\",\\\"ticks\\\":\\\"\\\",\\\"linecolor\\\":\\\"white\\\"},\\\"bgcolor\\\":\\\"#E5ECF6\\\",\\\"radialaxis\\\":{\\\"gridcolor\\\":\\\"white\\\",\\\"ticks\\\":\\\"\\\",\\\"linecolor\\\":\\\"white\\\"}},\\\"autotypenumbers\\\":\\\"strict\\\",\\\"font\\\":{\\\"color\\\":\\\"#2a3f5f\\\"},\\\"ternary\\\":{\\\"baxis\\\":{\\\"gridcolor\\\":\\\"white\\\",\\\"ticks\\\":\\\"\\\",\\\"linecolor\\\":\\\"white\\\"},\\\"bgcolor\\\":\\\"#E5ECF6\\\",\\\"caxis\\\":{\\\"gridcolor\\\":\\\"white\\\",\\\"ticks\\\":\\\"\\\",\\\"linecolor\\\":\\\"white\\\"},\\\"aaxis\\\":{\\\"gridcolor\\\":\\\"white\\\",\\\"ticks\\\":\\\"\\\",\\\"linecolor\\\":\\\"white\\\"}},\\\"annotationdefaults\\\":{\\\"arrowhead\\\":0,\\\"arrowwidth\\\":1,\\\"arrowcolor\\\":\\\"#2a3f5f\\\"},\\\"plot_bgcolor\\\":\\\"#E5ECF6\\\",\\\"title\\\":{\\\"x\\\":0.05},\\\"scene\\\":{\\\"xaxis\\\":{\\\"gridcolor\\\":\\\"white\\\",\\\"gridwidth\\\":2,\\\"backgroundcolor\\\":\\\"#E5ECF6\\\",\\\"ticks\\\":\\\"\\\",\\\"showbackground\\\":true,\\\"zerolinecolor\\\":\\\"white\\\",\\\"linecolor\\\":\\\"white\\\"},\\\"zaxis\\\":{\\\"gridcolor\\\":\\\"white\\\",\\\"gridwidth\\\":2,\\\"backgroundcolor\\\":\\\"#E5ECF6\\\",\\\"ticks\\\":\\\"\\\",\\\"showbackground\\\":true,\\\"zerolinecolor\\\":\\\"white\\\",\\\"linecolor\\\":\\\"white\\\"},\\\"yaxis\\\":{\\\"gridcolor\\\":\\\"white\\\",\\\"gridwidth\\\":2,\\\"backgroundcolor\\\":\\\"#E5ECF6\\\",\\\"ticks\\\":\\\"\\\",\\\"showbackground\\\":true,\\\"zerolinecolor\\\":\\\"white\\\",\\\"linecolor\\\":\\\"white\\\"}},\\\"colorway\\\":[\\\"#636efa\\\",\\\"#EF553B\\\",\\\"#00cc96\\\",\\\"#ab63fa\\\",\\\"#FFA15A\\\",\\\"#19d3f3\\\",\\\"#FF6692\\\",\\\"#B6E880\\\",\\\"#FF97FF\\\",\\\"#FECB52\\\"]},\\\"data\\\":{\\\"barpolar\\\":[{\\\"type\\\":\\\"barpolar\\\",\\\"marker\\\":{\\\"line\\\":{\\\"color\\\":\\\"#E5ECF6\\\",\\\"width\\\":0.5}}}],\\\"carpet\\\":[{\\\"aaxis\\\":{\\\"gridcolor\\\":\\\"white\\\",\\\"endlinecolor\\\":\\\"#2a3f5f\\\",\\\"minorgridcolor\\\":\\\"white\\\",\\\"startlinecolor\\\":\\\"#2a3f5f\\\",\\\"linecolor\\\":\\\"white\\\"},\\\"type\\\":\\\"carpet\\\",\\\"baxis\\\":{\\\"gridcolor\\\":\\\"white\\\",\\\"endlinecolor\\\":\\\"#2a3f5f\\\",\\\"minorgridcolor\\\":\\\"white\\\",\\\"startlinecolor\\\":\\\"#2a3f5f\\\",\\\"linecolor\\\":\\\"white\\\"}}],\\\"scatterpolar\\\":[{\\\"type\\\":\\\"scatterpolar\\\",\\\"marker\\\":{\\\"colorbar\\\":{\\\"ticks\\\":\\\"\\\",\\\"outlinewidth\\\":0}}}],\\\"parcoords\\\":[{\\\"line\\\":{\\\"colorbar\\\":{\\\"ticks\\\":\\\"\\\",\\\"outlinewidth\\\":0}},\\\"type\\\":\\\"parcoords\\\"}],\\\"scatter\\\":[{\\\"type\\\":\\\"scatter\\\",\\\"marker\\\":{\\\"colorbar\\\":{\\\"ticks\\\":\\\"\\\",\\\"outlinewidth\\\":0}}}],\\\"histogram2dcontour\\\":[{\\\"colorbar\\\":{\\\"ticks\\\":\\\"\\\",\\\"outlinewidth\\\":0},\\\"type\\\":\\\"histogram2dcontour\\\",\\\"colorscale\\\":[[0.0,\\\"#0d0887\\\"],[0.1111111111111111,\\\"#46039f\\\"],[0.2222222222222222,\\\"#7201a8\\\"],[0.3333333333333333,\\\"#9c179e\\\"],[0.4444444444444444,\\\"#bd3786\\\"],[0.5555555555555556,\\\"#d8576b\\\"],[0.6666666666666666,\\\"#ed7953\\\"],[0.7777777777777778,\\\"#fb9f3a\\\"],[0.8888888888888888,\\\"#fdca26\\\"],[1.0,\\\"#f0f921\\\"]]}],\\\"contour\\\":[{\\\"colorbar\\\":{\\\"ticks\\\":\\\"\\\",\\\"outlinewidth\\\":0},\\\"type\\\":\\\"contour\\\",\\\"colorscale\\\":[[0.0,\\\"#0d0887\\\"],[0.1111111111111111,\\\"#46039f\\\"],[0.2222222222222222,\\\"#7201a8\\\"],[0.3333333333333333,\\\"#9c179e\\\"],[0.4444444444444444,\\\"#bd3786\\\"],[0.5555555555555556,\\\"#d8576b\\\"],[0.6666666666666666,\\\"#ed7953\\\"],[0.7777777777777778,\\\"#fb9f3a\\\"],[0.8888888888888888,\\\"#fdca26\\\"],[1.0,\\\"#f0f921\\\"]]}],\\\"scattercarpet\\\":[{\\\"type\\\":\\\"scattercarpet\\\",\\\"marker\\\":{\\\"colorbar\\\":{\\\"ticks\\\":\\\"\\\",\\\"outlinewidth\\\":0}}}],\\\"mesh3d\\\":[{\\\"colorbar\\\":{\\\"ticks\\\":\\\"\\\",\\\"outlinewidth\\\":0},\\\"type\\\":\\\"mesh3d\\\"}],\\\"surface\\\":[{\\\"colorbar\\\":{\\\"ticks\\\":\\\"\\\",\\\"outlinewidth\\\":0},\\\"type\\\":\\\"surface\\\",\\\"colorscale\\\":[[0.0,\\\"#0d0887\\\"],[0.1111111111111111,\\\"#46039f\\\"],[0.2222222222222222,\\\"#7201a8\\\"],[0.3333333333333333,\\\"#9c179e\\\"],[0.4444444444444444,\\\"#bd3786\\\"],[0.5555555555555556,\\\"#d8576b\\\"],[0.6666666666666666,\\\"#ed7953\\\"],[0.7777777777777778,\\\"#fb9f3a\\\"],[0.8888888888888888,\\\"#fdca26\\\"],[1.0,\\\"#f0f921\\\"]]}],\\\"scattermapbox\\\":[{\\\"type\\\":\\\"scattermapbox\\\",\\\"marker\\\":{\\\"colorbar\\\":{\\\"ticks\\\":\\\"\\\",\\\"outlinewidth\\\":0}}}],\\\"scattergeo\\\":[{\\\"type\\\":\\\"scattergeo\\\",\\\"marker\\\":{\\\"colorbar\\\":{\\\"ticks\\\":\\\"\\\",\\\"outlinewidth\\\":0}}}],\\\"histogram\\\":[{\\\"type\\\":\\\"histogram\\\",\\\"marker\\\":{\\\"colorbar\\\":{\\\"ticks\\\":\\\"\\\",\\\"outlinewidth\\\":0}}}],\\\"pie\\\":[{\\\"type\\\":\\\"pie\\\",\\\"automargin\\\":true}],\\\"choropleth\\\":[{\\\"colorbar\\\":{\\\"ticks\\\":\\\"\\\",\\\"outlinewidth\\\":0},\\\"type\\\":\\\"choropleth\\\"}],\\\"heatmapgl\\\":[{\\\"colorbar\\\":{\\\"ticks\\\":\\\"\\\",\\\"outlinewidth\\\":0},\\\"type\\\":\\\"heatmapgl\\\",\\\"colorscale\\\":[[0.0,\\\"#0d0887\\\"],[0.1111111111111111,\\\"#46039f\\\"],[0.2222222222222222,\\\"#7201a8\\\"],[0.3333333333333333,\\\"#9c179e\\\"],[0.4444444444444444,\\\"#bd3786\\\"],[0.5555555555555556,\\\"#d8576b\\\"],[0.6666666666666666,\\\"#ed7953\\\"],[0.7777777777777778,\\\"#fb9f3a\\\"],[0.8888888888888888,\\\"#fdca26\\\"],[1.0,\\\"#f0f921\\\"]]}],\\\"bar\\\":[{\\\"type\\\":\\\"bar\\\",\\\"error_y\\\":{\\\"color\\\":\\\"#2a3f5f\\\"},\\\"error_x\\\":{\\\"color\\\":\\\"#2a3f5f\\\"},\\\"marker\\\":{\\\"line\\\":{\\\"color\\\":\\\"#E5ECF6\\\",\\\"width\\\":0.5}}}],\\\"heatmap\\\":[{\\\"colorbar\\\":{\\\"ticks\\\":\\\"\\\",\\\"outlinewidth\\\":0},\\\"type\\\":\\\"heatmap\\\",\\\"colorscale\\\":[[0.0,\\\"#0d0887\\\"],[0.1111111111111111,\\\"#46039f\\\"],[0.2222222222222222,\\\"#7201a8\\\"],[0.3333333333333333,\\\"#9c179e\\\"],[0.4444444444444444,\\\"#bd3786\\\"],[0.5555555555555556,\\\"#d8576b\\\"],[0.6666666666666666,\\\"#ed7953\\\"],[0.7777777777777778,\\\"#fb9f3a\\\"],[0.8888888888888888,\\\"#fdca26\\\"],[1.0,\\\"#f0f921\\\"]]}],\\\"contourcarpet\\\":[{\\\"colorbar\\\":{\\\"ticks\\\":\\\"\\\",\\\"outlinewidth\\\":0},\\\"type\\\":\\\"contourcarpet\\\"}],\\\"table\\\":[{\\\"type\\\":\\\"table\\\",\\\"header\\\":{\\\"line\\\":{\\\"color\\\":\\\"white\\\"},\\\"fill\\\":{\\\"color\\\":\\\"#C8D4E3\\\"}},\\\"cells\\\":{\\\"line\\\":{\\\"color\\\":\\\"white\\\"},\\\"fill\\\":{\\\"color\\\":\\\"#EBF0F8\\\"}}}],\\\"scatter3d\\\":[{\\\"line\\\":{\\\"colorbar\\\":{\\\"ticks\\\":\\\"\\\",\\\"outlinewidth\\\":0}},\\\"type\\\":\\\"scatter3d\\\",\\\"marker\\\":{\\\"colorbar\\\":{\\\"ticks\\\":\\\"\\\",\\\"outlinewidth\\\":0}}}],\\\"scattergl\\\":[{\\\"type\\\":\\\"scattergl\\\",\\\"marker\\\":{\\\"colorbar\\\":{\\\"ticks\\\":\\\"\\\",\\\"outlinewidth\\\":0}}}],\\\"histogram2d\\\":[{\\\"colorbar\\\":{\\\"ticks\\\":\\\"\\\",\\\"outlinewidth\\\":0},\\\"type\\\":\\\"histogram2d\\\",\\\"colorscale\\\":[[0.0,\\\"#0d0887\\\"],[0.1111111111111111,\\\"#46039f\\\"],[0.2222222222222222,\\\"#7201a8\\\"],[0.3333333333333333,\\\"#9c179e\\\"],[0.4444444444444444,\\\"#bd3786\\\"],[0.5555555555555556,\\\"#d8576b\\\"],[0.6666666666666666,\\\"#ed7953\\\"],[0.7777777777777778,\\\"#fb9f3a\\\"],[0.8888888888888888,\\\"#fdca26\\\"],[1.0,\\\"#f0f921\\\"]]}],\\\"scatterternary\\\":[{\\\"type\\\":\\\"scatterternary\\\",\\\"marker\\\":{\\\"colorbar\\\":{\\\"ticks\\\":\\\"\\\",\\\"outlinewidth\\\":0}}}],\\\"scatterpolargl\\\":[{\\\"type\\\":\\\"scatterpolargl\\\",\\\"marker\\\":{\\\"colorbar\\\":{\\\"ticks\\\":\\\"\\\",\\\"outlinewidth\\\":0}}}]}},\\\"margin\\\":{\\\"l\\\":50,\\\"b\\\":50,\\\"r\\\":50,\\\"t\\\":60},\\\"title\\\":\\\"Value of element above diagonal σ_i\\\",\\\"yaxis\\\":{\\\"type\\\":\\\"log\\\",\\\"title\\\":{\\\"text\\\":\\\"Error\\\"},\\\"tickformat\\\":\\\"e\\\"}},{\\\"showLink\\\":false,\\\"editable\\\":false,\\\"responsive\\\":true,\\\"staticPlot\\\":false,\\\"scrollZoom\\\":true}); gd.on(\\\"plotly_hover\\\",(function (data){var filtered_data=WebIO.PlotlyCommands.filterEventData(gd,data,\\\"hover\\\"); return !(filtered_data.isnil) ? (WebIO.setval({\\\"name\\\":\\\"hover\\\",\\\"scope\\\":\\\"1061698926673750377\\\",\\\"id\\\":\\\"281\\\",\\\"type\\\":\\\"observable\\\"},filtered_data.out)) : undefined})); gd.on(\\\"plotly_unhover\\\",(function (){return WebIO.setval({\\\"name\\\":\\\"hover\\\",\\\"scope\\\":\\\"1061698926673750377\\\",\\\"id\\\":\\\"281\\\",\\\"type\\\":\\\"observable\\\"},{})})); gd.on(\\\"plotly_selected\\\",(function (data){var filtered_data=WebIO.PlotlyCommands.filterEventData(gd,data,\\\"selected\\\"); return !(filtered_data.isnil) ? (WebIO.setval({\\\"name\\\":\\\"selected\\\",\\\"scope\\\":\\\"1061698926673750377\\\",\\\"id\\\":\\\"282\\\",\\\"type\\\":\\\"observable\\\"},filtered_data.out)) : undefined})); gd.on(\\\"plotly_deselect\\\",(function (){return WebIO.setval({\\\"name\\\":\\\"selected\\\",\\\"scope\\\":\\\"1061698926673750377\\\",\\\"id\\\":\\\"282\\\",\\\"type\\\":\\\"observable\\\"},{})})); gd.on(\\\"plotly_relayout\\\",(function (data){var filtered_data=WebIO.PlotlyCommands.filterEventData(gd,data,\\\"relayout\\\"); return !(filtered_data.isnil) ? (WebIO.setval({\\\"name\\\":\\\"relayout\\\",\\\"scope\\\":\\\"1061698926673750377\\\",\\\"id\\\":\\\"284\\\",\\\"type\\\":\\\"observable\\\"},filtered_data.out)) : undefined})); return gd.on(\\\"plotly_click\\\",(function (data){var filtered_data=WebIO.PlotlyCommands.filterEventData(gd,data,\\\"click\\\"); return !(filtered_data.isnil) ? (WebIO.setval({\\\"name\\\":\\\"click\\\",\\\"scope\\\":\\\"1061698926673750377\\\",\\\"id\\\":\\\"283\\\",\\\"type\\\":\\\"observable\\\"},filtered_data.out)) : undefined}))}));\\n    (WebIO.importBlock({\\\"data\\\":[{\\\"name\\\":\\\"Plotly\\\",\\\"type\\\":\\\"js\\\",\\\"url\\\":\\\"\\/assetserver\\/d6feb8d8ce4676ebdde817a0745950a35b4ba3ae-plotly.min.js\\\"},{\\\"name\\\":null,\\\"type\\\":\\\"js\\\",\\\"url\\\":\\\"\\/assetserver\\/46c9ff4df7c73b5875052df387368a00f6cfc484-plotly_webio.bundle.js\\\"}],\\\"type\\\":\\\"async_block\\\"})).then((imports) => handler.apply(this, imports));\\n}\\n\"],\"observables\":{\"_toImage\":{\"sync\":false,\"id\":\"288\",\"value\":{}},\"hover\":{\"sync\":false,\"id\":\"281\",\"value\":{}},\"selected\":{\"sync\":false,\"id\":\"282\",\"value\":{}},\"__gd_contents\":{\"sync\":false,\"id\":\"286\",\"value\":{}},\"click\":{\"sync\":false,\"id\":\"283\",\"value\":{}},\"image\":{\"sync\":true,\"id\":\"285\",\"value\":\"\"},\"__get_gd_contents\":{\"sync\":false,\"id\":\"290\",\"value\":\"\"},\"_downloadImage\":{\"sync\":false,\"id\":\"289\",\"value\":{}},\"relayout\":{\"sync\":false,\"id\":\"284\",\"value\":{}},\"_commands\":{\"sync\":false,\"id\":\"287\",\"value\":[]}}},\"children\":[{\"props\":{\"id\":\"plot-a1a3cd05-f155-488e-bfa2-87c44d04945e\"},\"nodeType\":\"DOM\",\"type\":\"node\",\"instanceArgs\":{\"namespace\":\"html\",\"tag\":\"div\"},\"children\":[]}]},\n",
       "        window,\n",
       "    );\n",
       "    })()\n",
       "    </script>\n",
       "</div>\n"
      ],
      "text/plain": [
       "data: [\n",
       "  \"scatter with fields line, marker, mode, name, type, x, and y\",\n",
       "  \"scatter with fields line, marker, mode, name, type, x, and y\",\n",
       "  \"scatter with fields line, marker, mode, name, type, x, and y\",\n",
       "  \"scatter with fields line, marker, mode, name, type, x, and y\",\n",
       "  \"scatter with fields line, marker, mode, name, type, x, and y\",\n",
       "  \"scatter with fields line, marker, mode, name, type, x, and y\"\n",
       "]\n",
       "\n",
       "layout: \"layout with fields margin, showlegend, template, title, xaxis, and yaxis\"\n",
       "\n"
      ]
     },
     "execution_count": 492,
     "metadata": {},
     "output_type": "execute_result"
    }
   ],
   "source": [
    "error_vectors = [\n",
    "    abs.(results[1, 1, :]),\n",
    "    abs.(results[1, 2, :]),\n",
    "    abs.(results[1, 3, :]),\n",
    "    abs.(results[1, 4, :]),\n",
    "    abs.(results[1, 5, :]),\n",
    "    abs.(results[1, 6, :])\n",
    "]\n",
    "labels = [\"σ2\", \"σ3\", \"σ4\", \"σ5\", \"σ6\", \"σ7\"]\n",
    "plot_convergence_error(error_vectors, labels)"
   ]
  },
  {
   "cell_type": "code",
   "execution_count": 493,
   "id": "50e339e7",
   "metadata": {},
   "outputs": [
    {
     "name": "stdout",
     "output_type": "stream",
     "text": [
      "1×25 adjoint(::Vector{Float64}) with eltype Float64:\n",
      " -6.23717e-9  -0.0140052  -1.0  -1.0  -1.0  -1.0  -1.0  -1.0  -1.0  -1.0  -1.0  -1.0  -1.0  -1.0  -1.0  -1.0  -1.0  -1.0  -1.0  -1.0  -1.0  -1.0  -1.0  -1.0  -1.0"
     ]
    }
   ],
   "source": [
    "# σ_2\n",
    "show(stdout, \"text/plain\", results[2, 1, :]')"
   ]
  },
  {
   "cell_type": "code",
   "execution_count": 494,
   "id": "3d0610be",
   "metadata": {},
   "outputs": [
    {
     "name": "stdout",
     "output_type": "stream",
     "text": [
      "1×25 adjoint(::Vector{Float64}) with eltype Float64:\n",
      " -0.0195109  1.0  -1.0  -1.0  -1.0  -1.0  -1.0  -1.0  -1.0  -1.0  -1.0  -1.0  -1.0  -1.0  -1.0  -1.0  -1.0  -1.0  -1.0  -1.0  -1.0  -1.0  -1.0  -1.0  -1.0"
     ]
    }
   ],
   "source": [
    "# σ_3\n",
    "show(stdout, \"text/plain\", results[2, 2, :]')"
   ]
  },
  {
   "cell_type": "code",
   "execution_count": 495,
   "id": "caa336a5",
   "metadata": {},
   "outputs": [
    {
     "name": "stdout",
     "output_type": "stream",
     "text": [
      "1×25 adjoint(::Vector{Float64}) with eltype Float64:\n",
      " 1.0  -1.0  1.0  1.0  1.0  1.0  1.0  1.0  1.0  1.0  1.0  1.0  1.0  1.0  1.0  1.0  1.0  1.0  1.0  1.0  1.0  1.0  1.0  1.0  1.0"
     ]
    }
   ],
   "source": [
    "# σ_4\n",
    "show(stdout, \"text/plain\", results[2, 3, :]')"
   ]
  },
  {
   "cell_type": "code",
   "execution_count": 496,
   "id": "ba018ebe",
   "metadata": {},
   "outputs": [
    {
     "name": "stdout",
     "output_type": "stream",
     "text": [
      "1×25 adjoint(::Vector{Float64}) with eltype Float64:\n",
      " 1.0  1.0  1.0  1.0  1.0  1.0  1.0  1.0  1.0  1.0  1.0  1.0  1.0  1.0  1.0  1.0  1.0  1.0  1.0  1.0  1.0  1.0  1.0  1.0  1.0"
     ]
    }
   ],
   "source": [
    "# σ_5\n",
    "show(stdout, \"text/plain\", results[2, 4, :]')"
   ]
  },
  {
   "cell_type": "code",
   "execution_count": 497,
   "id": "c25e0db5",
   "metadata": {},
   "outputs": [
    {
     "name": "stdout",
     "output_type": "stream",
     "text": [
      "1×25 adjoint(::Vector{Float64}) with eltype Float64:\n",
      " -1.0  -1.0  -1.0  -1.0  -1.0  -1.0  -1.0  -1.0  -1.0  -1.0  -1.0  -1.0  -1.0  -1.0  -1.0  -1.0  -1.0  -1.0  -1.0  -1.0  -1.0  -1.0  -1.0  -1.0  -1.0"
     ]
    }
   ],
   "source": [
    "# σ_6\n",
    "show(stdout, \"text/plain\", results[2, 5, :]')"
   ]
  },
  {
   "cell_type": "code",
   "execution_count": 498,
   "id": "c8de555b",
   "metadata": {},
   "outputs": [
    {
     "name": "stdout",
     "output_type": "stream",
     "text": [
      "1×25 adjoint(::Vector{Float64}) with eltype Float64:\n",
      " -1.0  -1.0  -1.0  -1.0  -1.0  -1.0  -1.0  -1.0  -1.0  -1.0  -1.0  -1.0  -1.0  -1.0  -1.0  -1.0  -1.0  -1.0  -1.0  -1.0  -1.0  -1.0  -1.0  -1.0  -1.0"
     ]
    }
   ],
   "source": [
    "# σ_7\n",
    "show(stdout, \"text/plain\", results[2, 6, :]')"
   ]
  },
  {
   "cell_type": "code",
   "execution_count": 499,
   "id": "b53393a6",
   "metadata": {
    "scrolled": true
   },
   "outputs": [
    {
     "data": {
      "text/plain": [
       "7-element Vector{Real}:\n",
       " -1.1223757029617512e-10\n",
       " -1.0000000021024165\n",
       " -1.0000000015716395\n",
       "  1.0000000013928907\n",
       "  0.9999999994387172\n",
       " -1.000000000319625\n",
       " -0.999999998608909"
      ]
     },
     "execution_count": 499,
     "metadata": {},
     "output_type": "execute_result"
    }
   ],
   "source": [
    "diag(S)"
   ]
  },
  {
   "cell_type": "code",
   "execution_count": 500,
   "id": "4e241989",
   "metadata": {},
   "outputs": [],
   "source": [
    "U, S, V = svd(A);"
   ]
  },
  {
   "cell_type": "code",
   "execution_count": 501,
   "id": "92f5d990",
   "metadata": {},
   "outputs": [
    {
     "name": "stdout",
     "output_type": "stream",
     "text": [
      "1.6625896668467898e-15"
     ]
    }
   ],
   "source": [
    "show(stdout, \"text/plain\", opnorm(U * diagm(S) * V' - A, 1)/opnorm(A, 1))"
   ]
  },
  {
   "cell_type": "code",
   "execution_count": 502,
   "id": "6a69d908",
   "metadata": {},
   "outputs": [
    {
     "data": {
      "text/plain": [
       "7-element Vector{Float64}:\n",
       " 1.000000002576357\n",
       " 1.0000000020201911\n",
       " 1.000000000700176\n",
       " 1.000000000372829\n",
       " 0.999999999182472\n",
       " 0.9999999985821685\n",
       " 1.1223759622003846e-10"
      ]
     },
     "execution_count": 502,
     "metadata": {},
     "output_type": "execute_result"
    }
   ],
   "source": [
    "S"
   ]
  },
  {
   "cell_type": "code",
   "execution_count": 381,
   "id": "12d4f9af",
   "metadata": {},
   "outputs": [],
   "source": [
    "# 4 times\n",
    "# bidiagonalize\n",
    "# bidiagonalize (with matrices)\n",
    "# from bidiag to diag (Golub Kahan) without singular vectors\n",
    "# from bidiag to diag (Golub Kahan) with singular vectors"
   ]
  },
  {
   "cell_type": "code",
   "execution_count": null,
   "id": "5a3cce2a",
   "metadata": {},
   "outputs": [],
   "source": []
  },
  {
   "cell_type": "code",
   "execution_count": null,
   "id": "55b9b79d",
   "metadata": {},
   "outputs": [],
   "source": []
  }
 ],
 "metadata": {
  "@webio": {
   "lastCommId": "f07da2929cf34e778af54960c0a43124",
   "lastKernelId": "322343ea-4290-41f1-a5a1-e1bf9fbd769d"
  },
  "kernelspec": {
   "display_name": "Julia 1.10.0",
   "language": "julia",
   "name": "julia-1.10"
  },
  "language_info": {
   "file_extension": ".jl",
   "mimetype": "application/julia",
   "name": "julia",
   "version": "1.10.0"
  }
 },
 "nbformat": 4,
 "nbformat_minor": 5
}
