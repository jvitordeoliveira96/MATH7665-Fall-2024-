{
 "cells": [
  {
   "cell_type": "code",
   "execution_count": 2381,
   "id": "6fa5b7c0",
   "metadata": {},
   "outputs": [],
   "source": [
    "using LinearAlgebra"
   ]
  },
  {
   "cell_type": "code",
   "execution_count": 2382,
   "id": "d3d9ec97",
   "metadata": {},
   "outputs": [
    {
     "data": {
      "text/plain": [
       "6×5 Matrix{Float64}:\n",
       "  0.914236   0.841109  -0.624812   0.916473  -0.225866\n",
       " -2.99593   -1.07236    0.229111   0.290857  -1.17597\n",
       "  0.106209   0.448856  -1.68395   -0.517156  -1.22232\n",
       "  0.35897   -0.714612  -1.72562    0.585243  -0.759884\n",
       "  0.782429  -0.297743   1.37032   -1.12302   -0.299499\n",
       "  0.763641   0.264969  -0.368358  -0.786932   0.737239"
      ]
     },
     "execution_count": 2382,
     "metadata": {},
     "output_type": "execute_result"
    }
   ],
   "source": [
    "# Example usage:\n",
    "A = randn(6, 5)"
   ]
  },
  {
   "cell_type": "code",
   "execution_count": 2383,
   "id": "90fc72a5",
   "metadata": {},
   "outputs": [
    {
     "data": {
      "text/plain": [
       "bidiagonalize (generic function with 2 methods)"
      ]
     },
     "execution_count": 2383,
     "metadata": {},
     "output_type": "execute_result"
    }
   ],
   "source": [
    "function householder(x)\n",
    "    \"\"\"Computes the Householder transformation for input vector x\n",
    "    \n",
    "    Returns \n",
    "    beta: float, the multiplier for future Householder reflection\n",
    "    v: vector, the householder reflector vector  \n",
    "    \"\"\"\n",
    "    sigma = dot(x[2:end],x[2:end])\n",
    "    v = copy(x)\n",
    "\n",
    "    if sigma == 0\n",
    "        beta = 0\n",
    "        return beta, v\n",
    "    end\n",
    "\n",
    "    sq = sqrt(x[1]^2 + sigma)\n",
    "    if x[1] > 0\n",
    "        v[1] += sq\n",
    "    else\n",
    "        v[1] -= sq\n",
    "    end\n",
    "\n",
    "    beta = 2.0 / (v[1]^2 + sigma)\n",
    "\n",
    "    return beta, v\n",
    "end\n",
    "\n",
    "\n",
    "function apply_householder_col!(B, H, cidx, m)\n",
    "    \"\"\"Apply Householder reflection from the left (B<- H * B)\n",
    "    \n",
    "    Returns (inplace) \n",
    "    B: input matrix\n",
    "    H: householder vectors v  \n",
    "    \"\"\"\n",
    "    beta, v = householder(B[cidx:m, cidx])\n",
    "    B[cidx:m, cidx:end] = B[cidx:m, cidx:end] - beta * v * (v' * B[cidx:m, cidx:end])\n",
    "    H[cidx:end, cidx] = v / norm(v)\n",
    "\n",
    "    return beta\n",
    "end\n",
    "\n",
    "function apply_householder_row!(B, H, ridx, n)\n",
    "    \"\"\"Apply Householder reflection from the right (B<- B * H)\n",
    "    \n",
    "    Returns (inplace) \n",
    "    B: input matrix\n",
    "    H: householder vectors v  \n",
    "    \"\"\"\n",
    "    beta, v = householder(B[ridx, ridx+1:n])\n",
    "    B[ridx:end, ridx+1:n] = B[ridx:end, ridx+1:n] - (B[ridx:end, ridx+1:n] * v) * (beta * v')\n",
    "    H[ridx, ridx+1:end] = v / norm(v)\n",
    "\n",
    "end\n",
    "\n",
    "function update_col_sim!(U, H, cidx, m)\n",
    "    \"\"\"Update column unitary transform (U<- H * U)\n",
    "    \n",
    "    Returns (inplace) \n",
    "    U: input matrix  \n",
    "    \"\"\"\n",
    "    v = H[cidx:end, cidx]\n",
    "    if cidx > 1\n",
    "        v = [zeros(cidx-1);v]\n",
    "    end\n",
    "    #U[cidx:end, cidx:end] = U[cidx:end, cidx:end] - 2 * v * (v' * U[cidx:end, cidx:end])\n",
    "    #show(stdout, \"text/plain\", I - 2 * v * v')\n",
    "    U[:,:] = U - 2 * v * (v' * U)\n",
    "    \n",
    "    return U\n",
    "    \n",
    "end\n",
    "\n",
    "function update_row_sim!(V, H, ridx, n)\n",
    "    \"\"\"Update row unitary transform (V<- V * H)\n",
    "    \n",
    "    Returns (inplace) \n",
    "    H: input matrix  \n",
    "    \"\"\"\n",
    "    v = H[ridx, ridx+1:end]\n",
    "    v = [zeros(ridx);v]\n",
    "    \n",
    "    \n",
    "    #V[ridx:end, ridx+1:end] = V[ridx:end, ridx+1:end] - (V[ridx:end, ridx+1:n] * v) * (2 * v')\n",
    "    #show(stdout, \"text/plain\", I - 2 * v * v')\n",
    "\n",
    "    V[:,:] = V - 2 * (V * v) * v'\n",
    "    \n",
    "    return V\n",
    "    \n",
    "end\n",
    "\n",
    "\n",
    "function bidiagonalize(A, return_orth = false)\n",
    "    \"\"\"Performs matrix bidiagonalization (for future singular value decomposition computation)\n",
    "    \n",
    "    Returns (inplace) \n",
    "    B: bidiagonal matrix with same singular values as input matrix (B = Q_r * A * Q_l)\n",
    "    \"\"\"\n",
    "    m, n = size(A)\n",
    "    B = copy(A)\n",
    "    H = copy(A)  # v vectors in householder\n",
    "    \n",
    "    if return_orth\n",
    "        U = zeros(m, m) + I\n",
    "        V = zeros(n, n) + I\n",
    "    end\n",
    "    \n",
    "    for k = 1:min(m,n)\n",
    "        \n",
    "        # column\n",
    "        \n",
    "        apply_householder_col!(B, H, k, m)\n",
    "    \n",
    "        \n",
    "        if return_orth\n",
    "            update_col_sim!(U, H, k, m)\n",
    "        end\n",
    "        \n",
    "        \n",
    "        # row\n",
    "        if k < n\n",
    "            apply_householder_row!(B, H, k, n) \n",
    "            \n",
    "            if return_orth \n",
    "                update_row_sim!(V, H, k, n)\n",
    "                #print(\"\\ni = \",k,\"\\n\")\n",
    "                #show(stdout, \"text/plain\", B)\n",
    "                #print(\"\\n\\n\")\n",
    "                #show(stdout, \"text/plain\", U * A * V)\n",
    "            end\n",
    "        end\n",
    "        \n",
    "                \n",
    "    end\n",
    "    \n",
    "    if return_orth\n",
    "        V[:, end] = -V[:, end] \n",
    "        U[end, :] = -U[end, :]\n",
    "        return U', B, V\n",
    "    else\n",
    "        return B, H\n",
    "    end\n",
    "end\n",
    "\n"
   ]
  },
  {
   "cell_type": "code",
   "execution_count": null,
   "id": "8af81e85",
   "metadata": {},
   "outputs": [],
   "source": []
  },
  {
   "cell_type": "code",
   "execution_count": null,
   "id": "e3a64bc3",
   "metadata": {},
   "outputs": [],
   "source": []
  },
  {
   "cell_type": "code",
   "execution_count": 2398,
   "id": "c38571cb",
   "metadata": {},
   "outputs": [
    {
     "data": {
      "text/plain": [
       "svd_num (generic function with 2 methods)"
      ]
     },
     "execution_count": 2398,
     "metadata": {},
     "output_type": "execute_result"
    }
   ],
   "source": [
    "function givens_rotation(v)\n",
    "    a, b = v[1], v[2]\n",
    "    if b == 0\n",
    "        c = 1\n",
    "        s = 0\n",
    "    else\n",
    "        if abs(b) > abs(a)\n",
    "            tau = -a/b\n",
    "            s = 1.0/sqrt(1.0+tau*tau)\n",
    "            c = s*tau\n",
    "        else\n",
    "            tau = -b/a\n",
    "            c = 1.0/sqrt(1.0+tau*tau)\n",
    "            s = c*tau\n",
    "        end\n",
    "    end\n",
    "    return [c -s;s c]\n",
    "end\n",
    "\n",
    "\n",
    "function svd_golub_reinsh!(B, U, V, maxiter, eps=1e-12)\n",
    "    \"\"\"Computes the Singular value decomposition of a bidiagonal matrix. Based on \n",
    "    https://www.cs.utexas.edu/~inderjit/public_papers/HLA_SVD.pdf\n",
    "    \n",
    "    Returns  \n",
    "    U: Left singular vector matrix\n",
    "    S: Singular values matrix\n",
    "    Vt: Right singular vector matrix\n",
    "    \"\"\"\n",
    "    \n",
    "    function golub_kahan_step!(B, U, V, l, k)\n",
    "        # Considering B22 -> (l:k x l:k)\n",
    "        \n",
    "        # Step 1: compute appropriate shift\n",
    "        \n",
    "        if k > 2\n",
    "            a, b, d = B[k-1, k-1]^2 + B[k-2, k-1]^2, B[k-1, k-1] * B[k-1, k], B[k, k]^2 + B[k-1, k]^2\n",
    "            t, r = - a - d, a * d - b^2\n",
    "            s_1, s_2 = 0.5 * (-t + sqrt(t^2 -4 * r)), 0.5 * (-t - sqrt(t^2 -4 * r))\n",
    "            if abs(B[k, k]^2 + B[k-1, k]^2 - s_1) < abs(B[k, k]^2 + B[k-1, k]^2 - s_2)\n",
    "                s = s_1 \n",
    "            else\n",
    "                s = s_2 \n",
    "            end\n",
    "        else\n",
    "           s = B[2, 2]^2 + B[1, 2]^2 \n",
    "        end\n",
    "        \n",
    "        # Step 2: Computing right Givens Rotations\n",
    "        alpha, beta = B[l, l]^2-s, B[l, l] * B[l, l + 1]\n",
    "        v = [alpha;beta]\n",
    "        for p = l:k-1\n",
    "            # Right rotation\n",
    "            G = givens_rotation(v)\n",
    "            B[:, p:p+1] = B[:, p:p+1] * G'\n",
    "            V[:, p:p+1] = V[:, p:p+1] * G'\n",
    "            \n",
    "            \n",
    "            # Left rotation\n",
    "            alpha, beta = B[p, p], B[p + 1, p] \n",
    "            v = [alpha; beta]\n",
    "            G = givens_rotation(v)\n",
    "            B[p:p+1, :] = G * B[p:p+1, :]\n",
    "            U[:, p:p+1] = U[:, p:p+1] * G'\n",
    "            \n",
    "            # Updating alpha, beta and v\n",
    "            if p < k -1 \n",
    "                alpha, beta = B[p, p+1], B[p, p+2]\n",
    "                v = [alpha;beta]\n",
    "            end\n",
    "        end\n",
    "    end\n",
    "    \n",
    "    m, n = size(B)\n",
    "    \n",
    "    if (n > m)\n",
    "        # To be done \"fat\" matrices\n",
    "    end\n",
    "        \n",
    "    m, n = size(B)\n",
    "    \n",
    "    #U = zeros(m, m) + I\n",
    "    #V = zeros(n, n) + I\n",
    "    maxiter_ = maxiter * log2(n * m) \n",
    "    \n",
    "    for iters = 1:min(maxiter, maxiter_)\n",
    "        \n",
    "        # Step 1 of main loop\n",
    "        # Find l and k such that matrix can be blocked as B11, B22 and B33 (diag) \n",
    "        \n",
    "        k = n\n",
    "        for j = n:-1:2  \n",
    "            #print(abs(B[j-1, j]), \" \", abs(B[j-1, j]) < eps, \"\\n\")\n",
    "            k = abs(B[j-1, j]) < eps * (abs(B[j, j]) + abs(B[j-1, j-1]))  ? j-1 : k\n",
    "        end\n",
    "        #print(\"After scan k = \", k, \"\\n\")\n",
    "        \n",
    "        \n",
    "        #show(stdout, \"text/plain\", B)\n",
    "        #print(\"\\n---------------\\n\")\n",
    "        \n",
    "        if k == 1\n",
    "           # Diagonal matrix, convergence obtained\n",
    "           return U, S, V\n",
    "        end\n",
    "        \n",
    "        if k == n \n",
    "            # B22 should be the full matrix \n",
    "            golub_kahan_step!(B, U, V, 1, n)\n",
    "    \n",
    "        else \n",
    "            # B33 (diagonal) found, have to check if where B22 starts (l) and ends (k)\n",
    "            l = k\n",
    "            for j = k:-1:2\n",
    "                l = B[j-1, j] == 0 ? j-1 : l \n",
    "            end\n",
    "            \n",
    "            l = (l == k) ? 1 : l\n",
    "            \n",
    "            golub_kahan_step!(B, U, V, l, k)\n",
    "        end\n",
    "    end\n",
    "end\n",
    "\n",
    "\n",
    "function svd_num(A, maxiter = 80)\n",
    "   \"\"\"Performs singular value decompositon of a rectangular m x n matrix A.\n",
    "    \n",
    "    Returns \n",
    "        U: Left singular vector matrix\n",
    "        S: Singular values matrix\n",
    "        Vt: Right singular vector matrix\n",
    "    \"\"\" \n",
    "    # Flag for transpose (case n > m)\n",
    "    m, n = size(A)\n",
    "    transpose_flag = false\n",
    "    \n",
    "    if n > m\n",
    "        transpose_flag = true\n",
    "    end\n",
    "    \n",
    "    # First main step: Find bidiagonalized matrix B\n",
    "    if transpose_flag\n",
    "        P_l, B, P_r = bidiagonalize(A', true);\n",
    "    else\n",
    "        P_l, B, P_r = bidiagonalize(A, true);\n",
    "    end\n",
    "    \n",
    "    # Second main step: perform svd_golub_reinsh algorithm iterations\n",
    "    svd_golub_reinsh!(B, P_l, P_r, maxiter)\n",
    "    \n",
    "    return P_l, B, P_r\n",
    "    \n",
    "    \n",
    "end"
   ]
  },
  {
   "cell_type": "code",
   "execution_count": 2399,
   "id": "1e805af4",
   "metadata": {},
   "outputs": [],
   "source": [
    "### TO DO: \n",
    "###1 - Create main SVD method which creates H matriz correctly for \"fat matrices\" (transpose before and fix after)\n",
    "###2 - Update Golub-Kahan to return orthogonal matrices (priority!!)"
   ]
  },
  {
   "cell_type": "code",
   "execution_count": null,
   "id": "68dab17b",
   "metadata": {},
   "outputs": [],
   "source": []
  },
  {
   "cell_type": "code",
   "execution_count": 2400,
   "id": "f9430085",
   "metadata": {},
   "outputs": [
    {
     "data": {
      "text/plain": [
       "6×5 Matrix{Float64}:\n",
       "  0.914236   0.841109  -0.624812   0.916473  -0.225866\n",
       " -2.99593   -1.07236    0.229111   0.290857  -1.17597\n",
       "  0.106209   0.448856  -1.68395   -0.517156  -1.22232\n",
       "  0.35897   -0.714612  -1.72562    0.585243  -0.759884\n",
       "  0.782429  -0.297743   1.37032   -1.12302   -0.299499\n",
       "  0.763641   0.264969  -0.368358  -0.786932   0.737239"
      ]
     },
     "execution_count": 2400,
     "metadata": {},
     "output_type": "execute_result"
    }
   ],
   "source": [
    "A"
   ]
  },
  {
   "cell_type": "code",
   "execution_count": 2401,
   "id": "ed1c0a59",
   "metadata": {},
   "outputs": [],
   "source": [
    "P_l, B, P_r = bidiagonalize(A, true);\n"
   ]
  },
  {
   "cell_type": "code",
   "execution_count": 2402,
   "id": "02fcee76",
   "metadata": {},
   "outputs": [
    {
     "name": "stdout",
     "output_type": "stream",
     "text": [
      "3.552713678800501e-15"
     ]
    }
   ],
   "source": [
    "show(stdout, \"text/plain\", opnorm(P_l * B * P_r' - A, 1))"
   ]
  },
  {
   "cell_type": "code",
   "execution_count": 2403,
   "id": "70eb8121",
   "metadata": {},
   "outputs": [],
   "source": [
    "U, S, V = svd_num(A);"
   ]
  },
  {
   "cell_type": "code",
   "execution_count": 2405,
   "id": "cdc346e0",
   "metadata": {},
   "outputs": [
    {
     "data": {
      "text/plain": [
       "6×6 adjoint(::Matrix{Float64}) with eltype Float64:\n",
       " -0.247281      0.322627    0.375255   -0.433301   0.444761   -0.555325\n",
       "  0.909559     -0.015942   -0.0703215   0.010039   0.0872764  -0.399732\n",
       "  0.000703282   0.577859   -0.608654    0.150089   0.484742    0.195236\n",
       "  0.0403618     0.611476   -0.0941378  -0.288885  -0.724918   -0.0815178\n",
       " -0.147622     -0.433035   -0.654081   -0.556633  -0.0412513  -0.226551\n",
       " -0.296872     -0.0177443  -0.217016    0.629546  -0.179964   -0.660107"
      ]
     },
     "execution_count": 2405,
     "metadata": {},
     "output_type": "execute_result"
    }
   ],
   "source": [
    "U"
   ]
  },
  {
   "cell_type": "code",
   "execution_count": 2406,
   "id": "5e896b14",
   "metadata": {},
   "outputs": [
    {
     "data": {
      "text/plain": [
       "6×5 Matrix{Float64}:\n",
       " -3.74752      -2.55092e-18  -4.53877e-15  -5.32678e-18   4.54605e-18\n",
       "  3.76239e-23  -3.16781      -5.65286e-13  -3.65235e-20  -5.02207e-17\n",
       "  9.92004e-17  -9.94286e-19   1.76201      -1.0642e-16    1.71537e-19\n",
       "  9.0859e-17   -3.2562e-18   -1.31829e-20  -1.15233       1.40036e-15\n",
       " -8.44656e-17  -1.17578e-18  -7.62395e-17   5.72544e-21  -1.08959\n",
       " -4.39203e-17   1.15043e-17   3.52901e-17  -1.29022e-16  -6.85448e-17"
      ]
     },
     "execution_count": 2406,
     "metadata": {},
     "output_type": "execute_result"
    }
   ],
   "source": [
    "S"
   ]
  },
  {
   "cell_type": "code",
   "execution_count": 2407,
   "id": "c730184b",
   "metadata": {},
   "outputs": [
    {
     "data": {
      "text/plain": [
       "5×5 Matrix{Float64}:\n",
       "  0.874897   -0.0856189  -0.126095    0.406789   0.214118\n",
       "  0.332647   -0.0742149   0.18295    -0.20058   -0.900075\n",
       " -0.0531359   0.890315    0.0683607   0.412964  -0.171181\n",
       " -0.122904   -0.268429    0.844749    0.443603   0.0495592\n",
       "  0.325534    0.349923    0.482032   -0.653428   0.335051"
      ]
     },
     "execution_count": 2407,
     "metadata": {},
     "output_type": "execute_result"
    }
   ],
   "source": [
    "V"
   ]
  },
  {
   "cell_type": "code",
   "execution_count": 2404,
   "id": "baf34ac1",
   "metadata": {},
   "outputs": [
    {
     "name": "stdout",
     "output_type": "stream",
     "text": [
      "6×5 Matrix{Float64}:\n",
      " -1.11022e-16   4.44089e-16   3.33067e-16   7.77156e-16  -8.04912e-16\n",
      " -8.88178e-16   0.0           4.44089e-16   0.0          -4.44089e-16\n",
      " -1.11022e-16   4.996e-16     1.55431e-15   0.0           2.22045e-16\n",
      "  2.77556e-16  -6.66134e-16  -2.22045e-16   1.44329e-15   7.77156e-16\n",
      "  3.33067e-16  -2.77556e-16   8.88178e-16  -1.33227e-15  -7.77156e-16\n",
      " -1.11022e-16   0.0          -5.55112e-16  -5.55112e-16   7.77156e-16"
     ]
    }
   ],
   "source": [
    "show(stdout, \"text/plain\", U * S * V' - A)"
   ]
  },
  {
   "cell_type": "code",
   "execution_count": null,
   "id": "998af721",
   "metadata": {},
   "outputs": [],
   "source": []
  },
  {
   "cell_type": "code",
   "execution_count": null,
   "id": "f82947a1",
   "metadata": {},
   "outputs": [],
   "source": []
  },
  {
   "cell_type": "code",
   "execution_count": null,
   "id": "acb87ce8",
   "metadata": {},
   "outputs": [],
   "source": []
  },
  {
   "cell_type": "code",
   "execution_count": null,
   "id": "212ae2ff",
   "metadata": {},
   "outputs": [],
   "source": []
  },
  {
   "cell_type": "code",
   "execution_count": null,
   "id": "a6964f15",
   "metadata": {},
   "outputs": [],
   "source": []
  },
  {
   "cell_type": "code",
   "execution_count": null,
   "id": "a5ee59f1",
   "metadata": {},
   "outputs": [],
   "source": []
  },
  {
   "cell_type": "code",
   "execution_count": null,
   "id": "d3f04b3a",
   "metadata": {},
   "outputs": [],
   "source": []
  },
  {
   "cell_type": "code",
   "execution_count": null,
   "id": "d679607f",
   "metadata": {},
   "outputs": [],
   "source": []
  },
  {
   "cell_type": "code",
   "execution_count": 2344,
   "id": "0f13d10d",
   "metadata": {},
   "outputs": [
    {
     "data": {
      "text/plain": [
       "4×3 Matrix{Float64}:\n",
       " 1.0   3.0   4.0\n",
       " 4.0  -1.0   8.0\n",
       " 7.0   8.0  -1.0\n",
       " 8.0   0.0   1.0"
      ]
     },
     "execution_count": 2344,
     "metadata": {},
     "output_type": "execute_result"
    }
   ],
   "source": [
    "A = [1.0 3 4;4 -1 8;7 8 -1;8 0 1]"
   ]
  },
  {
   "cell_type": "code",
   "execution_count": null,
   "id": "dab99de6",
   "metadata": {},
   "outputs": [],
   "source": []
  },
  {
   "cell_type": "code",
   "execution_count": 2345,
   "id": "305b87f0",
   "metadata": {},
   "outputs": [
    {
     "data": {
      "text/plain": [
       "4×3 Matrix{Float64}:\n",
       " 1.0   3.0   4.0\n",
       " 4.0  -1.0   8.0\n",
       " 7.0   8.0  -1.0\n",
       " 8.0   0.0   1.0"
      ]
     },
     "execution_count": 2345,
     "metadata": {},
     "output_type": "execute_result"
    }
   ],
   "source": [
    "A"
   ]
  },
  {
   "cell_type": "code",
   "execution_count": null,
   "id": "ad76c265",
   "metadata": {},
   "outputs": [],
   "source": []
  },
  {
   "cell_type": "code",
   "execution_count": 2346,
   "id": "ee9cd562",
   "metadata": {},
   "outputs": [
    {
     "data": {
      "text/plain": [
       "4×3 Matrix{Float64}:\n",
       " 1.0   3.0   4.0\n",
       " 4.0  -1.0   8.0\n",
       " 7.0   8.0  -1.0\n",
       " 8.0   0.0   1.0"
      ]
     },
     "execution_count": 2346,
     "metadata": {},
     "output_type": "execute_result"
    }
   ],
   "source": [
    "A"
   ]
  },
  {
   "cell_type": "code",
   "execution_count": 2347,
   "id": "81b0f829",
   "metadata": {},
   "outputs": [
    {
     "data": {
      "text/plain": [
       "2×2 Matrix{Float64}:\n",
       " -0.242536  -0.970143\n",
       "  0.970143  -0.242536"
      ]
     },
     "execution_count": 2347,
     "metadata": {},
     "output_type": "execute_result"
    }
   ],
   "source": [
    "G = givens_rotation(A[[1,2], 1])"
   ]
  },
  {
   "cell_type": "code",
   "execution_count": 2348,
   "id": "9886036d",
   "metadata": {},
   "outputs": [
    {
     "data": {
      "text/plain": [
       "4×3 Matrix{Float64}:\n",
       " -4.12311  0.242536  -8.73128\n",
       "  0.0      3.15296    1.94029\n",
       "  7.0      8.0       -1.0\n",
       "  8.0      0.0        1.0"
      ]
     },
     "execution_count": 2348,
     "metadata": {},
     "output_type": "execute_result"
    }
   ],
   "source": [
    "A[[1,2], :] = G * A[[1,2], :];\n",
    "A"
   ]
  },
  {
   "cell_type": "code",
   "execution_count": 2349,
   "id": "d9a7a0f1",
   "metadata": {},
   "outputs": [
    {
     "data": {
      "text/plain": [
       "2×2 Matrix{Float64}:\n",
       " 0.507519  -0.86164\n",
       " 0.86164    0.507519"
      ]
     },
     "execution_count": 2349,
     "metadata": {},
     "output_type": "execute_result"
    }
   ],
   "source": [
    "G = givens_rotation(A[[1,3], 1])"
   ]
  },
  {
   "cell_type": "code",
   "execution_count": 2350,
   "id": "be703efe",
   "metadata": {},
   "outputs": [
    {
     "data": {
      "text/plain": [
       "4×3 Matrix{Float64}:\n",
       " -8.12404      -6.77003  -3.56965\n",
       "  0.0           3.15296   1.94029\n",
       " -3.33067e-16   4.26913  -8.03075\n",
       "  8.0           0.0       1.0"
      ]
     },
     "execution_count": 2350,
     "metadata": {},
     "output_type": "execute_result"
    }
   ],
   "source": [
    "A[[1,3], :] = G * A[[1,3], :];\n",
    "A\n"
   ]
  },
  {
   "cell_type": "code",
   "execution_count": 2351,
   "id": "9964f8b9",
   "metadata": {},
   "outputs": [
    {
     "data": {
      "text/plain": [
       "2×2 Matrix{Float64}:\n",
       " -0.594089  -0.8044\n",
       "  0.8044    -0.594089"
      ]
     },
     "execution_count": 2351,
     "metadata": {},
     "output_type": "execute_result"
    }
   ],
   "source": [
    "G = givens_rotation(A[[2,3], 2])"
   ]
  },
  {
   "cell_type": "code",
   "execution_count": 2352,
   "id": "3dbfc0ea",
   "metadata": {},
   "outputs": [
    {
     "data": {
      "text/plain": [
       "4×3 Matrix{Float64}:\n",
       " -8.12404      -6.77003      -3.56965\n",
       "  2.67919e-16  -5.30723       5.30723\n",
       "  1.97871e-16   2.10348e-16   6.33174\n",
       "  8.0           0.0           1.0"
      ]
     },
     "execution_count": 2352,
     "metadata": {},
     "output_type": "execute_result"
    }
   ],
   "source": [
    "A[[2,3], :] = G * A[[2,3], :];\n",
    "A\n"
   ]
  },
  {
   "cell_type": "code",
   "execution_count": 2353,
   "id": "b4c6336b",
   "metadata": {},
   "outputs": [
    {
     "data": {
      "text/plain": [
       "LinearAlgebra.QRCompactWY{Float64, Matrix{Float64}, Matrix{Float64}}\n",
       "Q factor: 4×4 LinearAlgebra.QRCompactWYQ{Float64, Matrix{Float64}, Matrix{Float64}}\n",
       "R factor:\n",
       "3×3 Matrix{Float64}:\n",
       " 11.4018  4.82382   3.24511\n",
       "  0.0     7.12255  -2.75938\n",
       "  0.0     0.0      -7.99093"
      ]
     },
     "execution_count": 2353,
     "metadata": {},
     "output_type": "execute_result"
    }
   ],
   "source": [
    "qr(A)"
   ]
  },
  {
   "cell_type": "code",
   "execution_count": null,
   "id": "9748442d",
   "metadata": {},
   "outputs": [],
   "source": []
  },
  {
   "cell_type": "code",
   "execution_count": 2354,
   "id": "c50b9c9c",
   "metadata": {},
   "outputs": [],
   "source": [
    "B, H = bidiagonalize(A);"
   ]
  },
  {
   "cell_type": "code",
   "execution_count": 2355,
   "id": "e5ec0a3e",
   "metadata": {},
   "outputs": [
    {
     "name": "stdout",
     "output_type": "stream",
     "text": [
      "4×3 Matrix{Float64}:\n",
      " 11.4018       -5.81378   0.0\n",
      "  4.93038e-32  -6.24399   0.351945\n",
      "  2.46519e-32   0.0      -9.1153\n",
      "  1.77636e-15   0.0       0.0"
     ]
    }
   ],
   "source": [
    "show(stdout, \"text/plain\", B)"
   ]
  },
  {
   "cell_type": "code",
   "execution_count": 2356,
   "id": "6230d674",
   "metadata": {},
   "outputs": [
    {
     "name": "stdout",
     "output_type": "stream",
     "text": [
      "4×3 Matrix{Float64}:\n",
      " -0.925345      0.956484   0.291786\n",
      "  1.26969e-17   0.784476   1.0\n",
      "  9.37729e-18  -0.360763   0.982398\n",
      "  0.379127      0.504427  -0.186802"
     ]
    }
   ],
   "source": [
    "show(stdout, \"text/plain\", H)"
   ]
  },
  {
   "cell_type": "code",
   "execution_count": 2357,
   "id": "c29fc561",
   "metadata": {},
   "outputs": [],
   "source": [
    "_, S1, _ = svd(B);"
   ]
  },
  {
   "cell_type": "code",
   "execution_count": 2358,
   "id": "57d80223",
   "metadata": {},
   "outputs": [
    {
     "data": {
      "text/plain": [
       "3-element Vector{Float64}:\n",
       " 13.175972258951573\n",
       "  9.124625172206951\n",
       "  5.39768195599424"
      ]
     },
     "execution_count": 2358,
     "metadata": {},
     "output_type": "execute_result"
    }
   ],
   "source": [
    "S1"
   ]
  },
  {
   "cell_type": "code",
   "execution_count": 2359,
   "id": "b11cbb27",
   "metadata": {},
   "outputs": [],
   "source": [
    "_, S2, _ = svd(A);"
   ]
  },
  {
   "cell_type": "code",
   "execution_count": 2360,
   "id": "48fd1c4c",
   "metadata": {},
   "outputs": [
    {
     "data": {
      "text/plain": [
       "3-element Vector{Float64}:\n",
       " 13.175972258951575\n",
       "  9.12462517220695\n",
       "  5.397681955994235"
      ]
     },
     "execution_count": 2360,
     "metadata": {},
     "output_type": "execute_result"
    }
   ],
   "source": [
    "S2"
   ]
  },
  {
   "cell_type": "code",
   "execution_count": 2361,
   "id": "f493fdc0",
   "metadata": {},
   "outputs": [],
   "source": [
    "P_l, B, P_r = bidiagonalize(A, true);"
   ]
  },
  {
   "cell_type": "code",
   "execution_count": 2362,
   "id": "da87be52",
   "metadata": {},
   "outputs": [],
   "source": [
    "# Checking correctness"
   ]
  },
  {
   "cell_type": "code",
   "execution_count": 2363,
   "id": "c859b79f",
   "metadata": {},
   "outputs": [
    {
     "name": "stdout",
     "output_type": "stream",
     "text": [
      "1.6720045410306188"
     ]
    }
   ],
   "source": [
    "show(stdout, \"text/plain\", opnorm(B - P_l * A * P_r', 1)/opnorm(A, 1))"
   ]
  },
  {
   "cell_type": "code",
   "execution_count": 2364,
   "id": "22ea2285",
   "metadata": {},
   "outputs": [
    {
     "name": "stdout",
     "output_type": "stream",
     "text": [
      "2.220446049250313e-16"
     ]
    }
   ],
   "source": [
    "show(stdout, \"text/plain\", opnorm(P_r' * P_r -  I, 1))"
   ]
  },
  {
   "cell_type": "code",
   "execution_count": 2365,
   "id": "d5f5026e",
   "metadata": {},
   "outputs": [
    {
     "name": "stdout",
     "output_type": "stream",
     "text": [
      "1.1166580117841786e-15"
     ]
    }
   ],
   "source": [
    "show(stdout, \"text/plain\", opnorm(P_l' * P_l - I, 1))"
   ]
  },
  {
   "cell_type": "code",
   "execution_count": 2366,
   "id": "91f3b132",
   "metadata": {},
   "outputs": [
    {
     "data": {
      "text/plain": [
       "SVD{Float64, Float64, Matrix{Float64}, Vector{Float64}}\n",
       "U factor:\n",
       "4×3 Matrix{Float64}:\n",
       " -0.965355     -0.0238559    -0.259848\n",
       " -0.260777      0.0529289     0.963947\n",
       "  0.00924234   -0.998313      0.0573162\n",
       " -1.12622e-16  -5.80319e-18  -1.80637e-16\n",
       "singular values:\n",
       "3-element Vector{Float64}:\n",
       " 13.175972258951573\n",
       "  9.124625172206951\n",
       "  5.39768195599424\n",
       "Vt factor:\n",
       "3×3 Matrix{Float64}:\n",
       " -0.835364    0.549534   -0.0133596\n",
       " -0.0298093  -0.0210195   0.999335\n",
       " -0.548888   -0.835207   -0.0339402"
      ]
     },
     "execution_count": 2366,
     "metadata": {},
     "output_type": "execute_result"
    }
   ],
   "source": [
    "U, S, V = svd(B)"
   ]
  },
  {
   "cell_type": "code",
   "execution_count": 2367,
   "id": "86ad59a8",
   "metadata": {},
   "outputs": [
    {
     "data": {
      "text/plain": [
       "4×3 Matrix{Float64}:\n",
       " 0.68784    0.0169979   0.185148\n",
       " 0.60148   -0.564035   -0.0457499\n",
       " 0.315155   0.512966   -0.790456\n",
       " 0.256466   0.646871    0.582071"
      ]
     },
     "execution_count": 2367,
     "metadata": {},
     "output_type": "execute_result"
    }
   ],
   "source": [
    "P_l' * U"
   ]
  },
  {
   "cell_type": "code",
   "execution_count": 2368,
   "id": "dbb365ea",
   "metadata": {},
   "outputs": [
    {
     "data": {
      "text/plain": [
       "3×3 Matrix{Float64}:\n",
       " -0.835364  -0.0298093  -0.548888\n",
       " -0.448504  -0.540365    0.711934\n",
       " -0.317822   0.840903    0.438032"
      ]
     },
     "execution_count": 2368,
     "metadata": {},
     "output_type": "execute_result"
    }
   ],
   "source": [
    "P_r' * V  "
   ]
  },
  {
   "cell_type": "code",
   "execution_count": 2369,
   "id": "bcebca1b",
   "metadata": {},
   "outputs": [
    {
     "data": {
      "text/plain": [
       "SVD{Float64, Float64, Matrix{Float64}, Vector{Float64}}\n",
       "U factor:\n",
       "4×3 Matrix{Float64}:\n",
       " -0.831622  -0.0984949   0.356497\n",
       " -0.052638  -0.803398    0.269312\n",
       "  0.15273   -0.583517   -0.513833\n",
       "  0.531326  -0.0660222   0.732364\n",
       "singular values:\n",
       "3-element Vector{Float64}:\n",
       " 13.175972258951575\n",
       "  9.12462517220695\n",
       "  5.397681955994235\n",
       "Vt factor:\n",
       "3×3 Matrix{Float64}:\n",
       " 0.835364    0.448504   0.317822\n",
       " 0.0298093   0.540365  -0.840903\n",
       " 0.548888   -0.711934  -0.438032"
      ]
     },
     "execution_count": 2369,
     "metadata": {},
     "output_type": "execute_result"
    }
   ],
   "source": [
    "svd(A)"
   ]
  },
  {
   "cell_type": "code",
   "execution_count": 2370,
   "id": "f71923b8",
   "metadata": {
    "scrolled": true
   },
   "outputs": [
    {
     "data": {
      "text/plain": [
       "3×3 Matrix{Float64}:\n",
       "  5.52446    6.85996   -2.33767\n",
       " -5.76578   -0.998583  -0.347205\n",
       " -0.487225  -4.02701   -4.78307"
      ]
     },
     "execution_count": 2370,
     "metadata": {},
     "output_type": "execute_result"
    }
   ],
   "source": [
    "U' * P_l * A * P_r' * V   "
   ]
  },
  {
   "cell_type": "code",
   "execution_count": 2371,
   "id": "8e8b5b11",
   "metadata": {},
   "outputs": [
    {
     "name": "stdout",
     "output_type": "stream",
     "text": [
      "4×3 Matrix{Float64}:\n",
      " 11.4018       -5.81378   0.0\n",
      "  4.93038e-32  -6.24399   0.351945\n",
      "  2.46519e-32   0.0      -9.1153\n",
      "  1.77636e-15   0.0       0.0"
     ]
    }
   ],
   "source": [
    "show(stdout, \"text/plain\", B)"
   ]
  },
  {
   "cell_type": "code",
   "execution_count": null,
   "id": "216b29ac",
   "metadata": {},
   "outputs": [],
   "source": []
  },
  {
   "cell_type": "code",
   "execution_count": null,
   "id": "a8b05392",
   "metadata": {},
   "outputs": [],
   "source": []
  },
  {
   "cell_type": "code",
   "execution_count": null,
   "id": "086ee794",
   "metadata": {},
   "outputs": [],
   "source": []
  }
 ],
 "metadata": {
  "@webio": {
   "lastCommId": null,
   "lastKernelId": null
  },
  "kernelspec": {
   "display_name": "Julia 1.10.0",
   "language": "julia",
   "name": "julia-1.10"
  },
  "language_info": {
   "file_extension": ".jl",
   "mimetype": "application/julia",
   "name": "julia",
   "version": "1.10.0"
  }
 },
 "nbformat": 4,
 "nbformat_minor": 5
}
