{
 "cells": [
  {
   "cell_type": "code",
   "execution_count": 39,
   "id": "6fa5b7c0",
   "metadata": {},
   "outputs": [],
   "source": [
    "using LinearAlgebra"
   ]
  },
  {
   "cell_type": "code",
   "execution_count": 40,
   "id": "d3d9ec97",
   "metadata": {},
   "outputs": [
    {
     "data": {
      "text/plain": [
       "5×8 Matrix{Float64}:\n",
       " -1.62564   -1.84577   -0.128699  …  -1.16942     1.26451    1.47238\n",
       " -0.208826  -0.246249  -0.47711       0.559398   -1.70784   -0.791109\n",
       "  1.65281    0.857832   0.456961      0.63867     1.22422   -0.0705039\n",
       " -1.03827   -0.461344   0.966711      0.465617    0.42991    0.399561\n",
       "  0.167754   0.580231   0.788079      0.0147875   0.145683   2.24373"
      ]
     },
     "execution_count": 40,
     "metadata": {},
     "output_type": "execute_result"
    }
   ],
   "source": [
    "# Example usage:\n",
    "A = randn(5, 8)"
   ]
  },
  {
   "cell_type": "code",
   "execution_count": 41,
   "id": "90fc72a5",
   "metadata": {},
   "outputs": [
    {
     "data": {
      "text/plain": [
       "bidiagonalize (generic function with 2 methods)"
      ]
     },
     "execution_count": 41,
     "metadata": {},
     "output_type": "execute_result"
    }
   ],
   "source": [
    "function householder(x)\n",
    "    \"\"\"Computes the Householder transformation for input vector x\n",
    "    \n",
    "    Returns \n",
    "    beta: float, the multiplier for future Householder reflection\n",
    "    v: vector, the householder reflector vector  \n",
    "    \"\"\"\n",
    "    sigma = dot(x[2:end],x[2:end])\n",
    "    v = copy(x)\n",
    "\n",
    "    if sigma == 0\n",
    "        beta = 0\n",
    "        return beta, v\n",
    "    end\n",
    "\n",
    "    sq = sqrt(x[1]^2 + sigma)\n",
    "    if x[1] > 0\n",
    "        v[1] += sq\n",
    "    else\n",
    "        v[1] -= sq\n",
    "    end\n",
    "\n",
    "    beta = 2.0 / (v[1]^2 + sigma)\n",
    "\n",
    "    return beta, v\n",
    "end\n",
    "\n",
    "\n",
    "function apply_householder_col!(B, H, cidx, m)\n",
    "    \"\"\"Apply Householder reflection from the left (B<- H * B)\n",
    "    \n",
    "    Returns (inplace) \n",
    "    B: input matrix\n",
    "    H: householder vectors v  \n",
    "    \"\"\"\n",
    "    beta, v = householder(B[cidx:m, cidx])\n",
    "    B[cidx:m, cidx:end] = B[cidx:m, cidx:end] - beta * v * (v' * B[cidx:m, cidx:end])\n",
    "    H[cidx:end, cidx] = v / norm(v)\n",
    "\n",
    "    return beta\n",
    "end\n",
    "\n",
    "function apply_householder_row!(B, H, ridx, n)\n",
    "    \"\"\"Apply Householder reflection from the right (B<- B * H)\n",
    "    \n",
    "    Returns (inplace) \n",
    "    B: input matrix\n",
    "    H: householder vectors v  \n",
    "    \"\"\"\n",
    "    beta, v = householder(B[ridx, ridx+1:n])\n",
    "    B[ridx:end, ridx+1:n] = B[ridx:end, ridx+1:n] - (B[ridx:end, ridx+1:n] * v) * (beta * v')\n",
    "    H[ridx, ridx+1:end] = v / norm(v)\n",
    "\n",
    "end\n",
    "\n",
    "function update_col_sim!(U, H, cidx, m)\n",
    "    \"\"\"Update column unitary transform (U<- H * U)\n",
    "    \n",
    "    Input:\n",
    "    U: Left Householder matrix (orthogonal)\n",
    "    H: householder vectors v\n",
    "    cidx: index of column where householder transform is applied\n",
    "    m: number of columns of original matrix\n",
    "    \n",
    "    Returns (inplace) \n",
    "    U: Left Householder matrix (orthogonal)\n",
    "    \"\"\"\n",
    "    v = H[cidx:end, cidx]\n",
    "    if cidx > 1\n",
    "        v = [zeros(cidx-1);v]\n",
    "    end\n",
    "    \n",
    "    #U[cidx:end, cidx:end] = U[cidx:end, cidx:end] - 2 * v * (v' * U[cidx:end, cidx:end])\n",
    "    #show(stdout, \"text/plain\", I - 2 * v * v')\n",
    "    U[:,:] = U - 2 * v * (v' * U)\n",
    "    \n",
    "    return U\n",
    "    \n",
    "end\n",
    "\n",
    "function update_row_sim!(V, H, ridx, n)\n",
    "    \"\"\"Update row unitary transform (V<- V * H)\n",
    "    \n",
    "    Input:\n",
    "    V: Right Householder matrix (orthogonal)\n",
    "    H: householder vectors v\n",
    "    ridx: index of row where householder transform is applied\n",
    "    n: number of rows of original matrix\n",
    "    \n",
    "    Returns (inplace) \n",
    "    V: Right Householder matrix (orthogonal) \n",
    "    \"\"\"\n",
    "    v = H[ridx, ridx+1:end]\n",
    "    v = [zeros(ridx);v]\n",
    "    \n",
    "    \n",
    "    #V[ridx:end, ridx+1:end] = V[ridx:end, ridx+1:end] - (V[ridx:end, ridx+1:n] * v) * (2 * v')\n",
    "    #show(stdout, \"text/plain\", I - 2 * v * v')\n",
    "\n",
    "    V[:,:] = V - 2 * (V * v) * v'\n",
    "    \n",
    "    return V\n",
    "    \n",
    "end\n",
    "\n",
    "\n",
    "function bidiagonalize(A, return_orth = false)\n",
    "    \"\"\"Performs matrix bidiagonalization (for future singular value decomposition computation)\n",
    "    \n",
    "    Input:\n",
    "    A: Rectangular m x n matrix\n",
    "    \n",
    "    Returns (inplace) \n",
    "    B: bidiagonal matrix with same singular values as input matrix (A = U * B * V')\n",
    "    \"\"\"\n",
    "    m, n = size(A)\n",
    "    B = copy(A)\n",
    "    H = copy(A)  # v vectors in householder\n",
    "    \n",
    "    if return_orth\n",
    "        U = zeros(m, m) + I\n",
    "        V = zeros(n, n) + I\n",
    "    end\n",
    "    \n",
    "    for k = 1:min(m,n)\n",
    "        \n",
    "        # column\n",
    "        \n",
    "        apply_householder_col!(B, H, k, m)\n",
    "    \n",
    "        \n",
    "        if return_orth\n",
    "            update_col_sim!(U, H, k, m)\n",
    "        end\n",
    "        \n",
    "        \n",
    "        # row\n",
    "        if k < n\n",
    "            apply_householder_row!(B, H, k, n) \n",
    "            \n",
    "            if return_orth \n",
    "                update_row_sim!(V, H, k, n)\n",
    "            end\n",
    "        end\n",
    "        \n",
    "                \n",
    "    end\n",
    "    \n",
    "    if return_orth\n",
    "        V[:, end] = -V[:, end] \n",
    "        U[end, :] = -U[end, :]\n",
    "        return U', B, V\n",
    "    else\n",
    "        return B, H\n",
    "    end\n",
    "end\n",
    "\n"
   ]
  },
  {
   "cell_type": "code",
   "execution_count": 42,
   "id": "c38571cb",
   "metadata": {},
   "outputs": [
    {
     "data": {
      "text/plain": [
       "svd_num (generic function with 2 methods)"
      ]
     },
     "execution_count": 42,
     "metadata": {},
     "output_type": "execute_result"
    }
   ],
   "source": [
    "function givens_rotation(v)\n",
    "    \"\"\" Computers the 2x2 Givens Rotation matrix for a given 2d vector v.\n",
    "    \n",
    "    Input:\n",
    "    v: 2d vector\n",
    "    \n",
    "    Returns\n",
    "    G:  givens rotation matrix\n",
    "    \"\"\"\n",
    "    a, b = v[1], v[2]\n",
    "    if b == 0\n",
    "        c = 1\n",
    "        s = 0\n",
    "    else\n",
    "        if abs(b) > abs(a)\n",
    "            tau = -a/b\n",
    "            s = 1.0/sqrt(1.0+tau*tau)\n",
    "            c = s*tau\n",
    "        else\n",
    "            tau = -b/a\n",
    "            c = 1.0/sqrt(1.0+tau*tau)\n",
    "            s = c*tau\n",
    "        end\n",
    "    end\n",
    "    return [c -s;s c]\n",
    "end\n",
    "\n",
    "\n",
    "function svd_golub_reinsh!(B, U, V, maxiter, eps=1e-12)\n",
    "    \"\"\"Computes the Singular value decomposition of a bidiagonal matrix. Based on \n",
    "    https://www.cs.utexas.edu/~inderjit/public_papers/HLA_SVD.pdf\n",
    "    and\n",
    "    https://link.springer.com/article/10.1007/s11075-022-01459-9\n",
    "    \n",
    "    Returns  \n",
    "    U: Left singular vector matrix\n",
    "    S: Singular values matrix\n",
    "    Vt: Right singular vector matrix\n",
    "    \"\"\"\n",
    "    \n",
    "    function golub_kahan_step!(B, U, V, l, k)\n",
    "        # Considering B22 -> (l:k x l:k)\n",
    "        \n",
    "        # Step 1: compute appropriate shift\n",
    "        \n",
    "        if k > 2\n",
    "            a, b, d = B[k-1, k-1]^2 + B[k-2, k-1]^2, B[k-1, k-1] * B[k-1, k], B[k, k]^2 + B[k-1, k]^2\n",
    "            t, r = - a - d, a * d - b^2\n",
    "            s_1, s_2 = 0.5 * (-t + sqrt(t^2 -4 * r)), 0.5 * (-t - sqrt(t^2 -4 * r))\n",
    "            if abs(B[k, k]^2 + B[k-1, k]^2 - s_1) < abs(B[k, k]^2 + B[k-1, k]^2 - s_2)\n",
    "                s = s_1 \n",
    "            else\n",
    "                s = s_2 \n",
    "            end\n",
    "        else\n",
    "           s = B[2, 2]^2 + B[1, 2]^2 \n",
    "        end\n",
    "        \n",
    "        # Step 2: Computing Givens Rotations\n",
    "        alpha, beta = B[l, l]^2-s, B[l, l] * B[l, l + 1]\n",
    "        v = [alpha;beta]\n",
    "        for p = l:k-1\n",
    "            # Right rotation\n",
    "            G = givens_rotation(v)\n",
    "            B[:, p:p+1] = B[:, p:p+1] * G'\n",
    "            V[:, p:p+1] = V[:, p:p+1] * G'\n",
    "            \n",
    "            \n",
    "            # Left rotation\n",
    "            alpha, beta = B[p, p], B[p + 1, p] \n",
    "            v = [alpha; beta]\n",
    "            G = givens_rotation(v)\n",
    "            B[p:p+1, :] = G * B[p:p+1, :]\n",
    "            U[:, p:p+1] = U[:, p:p+1] * G'\n",
    "            \n",
    "            # Updating alpha, beta and v\n",
    "            if p < k -1 \n",
    "                alpha, beta = B[p, p+1], B[p, p+2]\n",
    "                v = [alpha;beta]\n",
    "            end\n",
    "        end\n",
    "    end\n",
    "    \n",
    "    m, n = size(B)\n",
    "    maxiter_ = maxiter * log2(n * m) \n",
    "    \n",
    "    for iters = 1:min(maxiter, maxiter_)\n",
    "        \n",
    "        # Step 1 of main loop\n",
    "        # Find l and k such that matrix can be blocked as B11, B22 and B33 (diag) \n",
    "        \n",
    "        k = n\n",
    "        for j = n:-1:2  \n",
    "            #print(abs(B[j-1, j]), \" \", abs(B[j-1, j]) < eps, \"\\n\")\n",
    "            k = abs(B[j-1, j]) < eps * (abs(B[j, j]) + abs(B[j-1, j-1]))  ? j-1 : k\n",
    "        end\n",
    "        #print(\"After scan k = \", k, \"\\n\")\n",
    "        \n",
    "        \n",
    "        #show(stdout, \"text/plain\", B)\n",
    "        #print(\"\\n---------------\\n\")\n",
    "        \n",
    "        if k == 1\n",
    "           # Diagonal matrix, convergence obtained\n",
    "           return U, B, V\n",
    "        end\n",
    "        \n",
    "        # Step 2 of main loop\n",
    "        # Performing Golub Kahan at matrix B22\n",
    "        if k == n \n",
    "            # B22 should be the full matrix \n",
    "            golub_kahan_step!(B, U, V, 1, n)\n",
    "    \n",
    "        else \n",
    "            # B33 (diagonal) found, have to check where B22 starts (l) and ends (k)\n",
    "            l = k\n",
    "            for j = k:-1:2\n",
    "                l = B[j-1, j] == 0 ? j-1 : l \n",
    "            end\n",
    "            \n",
    "            # If l is equal to k after previous scan, then l = 1 and there is no B11 matrix\n",
    "            l = (l == k) ? 1 : l \n",
    "            \n",
    "            golub_kahan_step!(B, U, V, l, k)\n",
    "        end\n",
    "    end\n",
    "end\n",
    "\n",
    "\n",
    "function svd_num(A, maxiter = 80)\n",
    "   \"\"\"Performs singular value decompositon of a rectangular m x n matrix A.\n",
    "    \n",
    "    Returns \n",
    "        U: Left singular vector matrix\n",
    "        S: Singular values matrix\n",
    "        Vt: Right singular vector matrix\n",
    "    \"\"\" \n",
    "    # Flag for transpose (case n > m)\n",
    "    m, n = size(A)\n",
    "    transpose_flag = false\n",
    "    \n",
    "    if n > m\n",
    "        transpose_flag = true\n",
    "    end\n",
    "    \n",
    "    # First main step: Find bidiagonalized matrix B\n",
    "    if transpose_flag\n",
    "        P_l, B, P_r = bidiagonalize(A', true);\n",
    "    else\n",
    "        P_l, B, P_r = bidiagonalize(A, true);\n",
    "    end\n",
    "    \n",
    "    # Second main step: perform svd_golub_reinsh algorithm iterations\n",
    "    svd_golub_reinsh!(B, P_l, P_r, maxiter)\n",
    "    \n",
    "    # Check if transpose\n",
    "    if transpose_flag\n",
    "        return P_r, B', P_l\n",
    "    else\n",
    "        return P_l, B, P_r\n",
    "    end\n",
    "    \n",
    "    \n",
    "    \n",
    "end"
   ]
  },
  {
   "cell_type": "code",
   "execution_count": 43,
   "id": "5821ce87",
   "metadata": {},
   "outputs": [
    {
     "data": {
      "text/plain": [
       "5×8 Matrix{Float64}:\n",
       " -1.62564   -1.84577   -0.128699  …  -1.16942     1.26451    1.47238\n",
       " -0.208826  -0.246249  -0.47711       0.559398   -1.70784   -0.791109\n",
       "  1.65281    0.857832   0.456961      0.63867     1.22422   -0.0705039\n",
       " -1.03827   -0.461344   0.966711      0.465617    0.42991    0.399561\n",
       "  0.167754   0.580231   0.788079      0.0147875   0.145683   2.24373"
      ]
     },
     "execution_count": 43,
     "metadata": {},
     "output_type": "execute_result"
    }
   ],
   "source": [
    "A"
   ]
  },
  {
   "cell_type": "code",
   "execution_count": 44,
   "id": "ad91435d",
   "metadata": {},
   "outputs": [],
   "source": [
    "P_l, B, P_r = bidiagonalize(A, true);"
   ]
  },
  {
   "cell_type": "code",
   "execution_count": 45,
   "id": "be11de7a",
   "metadata": {},
   "outputs": [
    {
     "name": "stdout",
     "output_type": "stream",
     "text": [
      "2.831068712794149e-15"
     ]
    }
   ],
   "source": [
    "show(stdout, \"text/plain\", opnorm(P_l * B * P_r' - A, 1))"
   ]
  },
  {
   "cell_type": "code",
   "execution_count": 46,
   "id": "70eb8121",
   "metadata": {},
   "outputs": [],
   "source": [
    "U, S, V = svd_num(A);"
   ]
  },
  {
   "cell_type": "code",
   "execution_count": 47,
   "id": "cdc346e0",
   "metadata": {},
   "outputs": [
    {
     "name": "stdout",
     "output_type": "stream",
     "text": [
      "5×5 Matrix{Float64}:\n",
      "  0.844858   0.193634  0.353692    0.348738  -0.0447691\n",
      " -0.271828   0.551856  0.694509   -0.329865   0.174388\n",
      " -0.246743  -0.629438  0.613178    0.288183  -0.289636\n",
      "  0.274527  -0.114118  0.0230676  -0.707375  -0.640859\n",
      "  0.275821  -0.498745  0.126648   -0.431442   0.687747"
     ]
    }
   ],
   "source": [
    "show(stdout, \"text/plain\", U)"
   ]
  },
  {
   "cell_type": "code",
   "execution_count": 48,
   "id": "5e896b14",
   "metadata": {},
   "outputs": [
    {
     "name": "stdout",
     "output_type": "stream",
     "text": [
      "5×8 adjoint(::Matrix{Float64}) with eltype Float64:\n",
      "  3.86688       1.57643e-23  -1.58091e-17   1.52206e-17  -3.64327e-18   4.18706e-18   1.46668e-16  -2.83633e-17\n",
      " -1.214e-18     3.1392       -6.38399e-20  -1.12454e-17  -2.48458e-17  -1.028e-16     3.4652e-16    1.52504e-16\n",
      "  1.97365e-19  -6.0204e-17   -1.11534       9.14506e-19  -4.76717e-17  -1.18136e-16   6.1568e-17   -1.30838e-16\n",
      " -6.88194e-18  -1.86497e-15   6.38998e-14  -1.81456      -9.80644e-19   1.56437e-16   1.09585e-17   1.41789e-16\n",
      " -4.28549e-17  -3.40407e-17  -2.55064e-17   4.1076e-16   -2.08366      -8.03295e-17  -1.21405e-16   1.95175e-16"
     ]
    }
   ],
   "source": [
    "show(stdout, \"text/plain\", S)"
   ]
  },
  {
   "cell_type": "code",
   "execution_count": 49,
   "id": "e5caf66a",
   "metadata": {},
   "outputs": [
    {
     "name": "stdout",
     "output_type": "stream",
     "text": [
      "8×8 Matrix{Float64}:\n",
      " -0.507709  -0.432068   0.101106   -0.0141972   0.0111274  -0.301468    0.359128   0.570215\n",
      " -0.457296  -0.404559  -0.343787   -0.0935981   0.254863   -0.121129   -0.506473  -0.405117\n",
      " -0.260689   0.210707  -0.0228003   0.730146   -0.444673   -0.339918   -0.036014  -0.198584\n",
      " -0.352891   0.131847   0.429664   -0.121381   -0.343437    0.41004    -0.545685   0.273654\n",
      " -0.162408  -0.233215   0.137892   -0.362054   -0.533304    0.15516     0.424414  -0.529644\n",
      " -0.14496   -0.214542  -0.160891    0.485234    0.194865    0.756449    0.247619  -0.0108526\n",
      " -0.454764   0.645007  -0.493368   -0.272266    0.0293526   0.0900743   0.210772   0.0788301\n",
      " -0.293974   0.267238   0.630987    0.0502784   0.544051   -0.079782    0.171978  -0.330995"
     ]
    }
   ],
   "source": [
    "show(stdout, \"text/plain\", V')"
   ]
  },
  {
   "cell_type": "code",
   "execution_count": 50,
   "id": "baf34ac1",
   "metadata": {},
   "outputs": [
    {
     "name": "stdout",
     "output_type": "stream",
     "text": [
      "4.9960036108132044e-15"
     ]
    }
   ],
   "source": [
    "show(stdout, \"text/plain\", opnorm(U * S * V' - A, 1))"
   ]
  },
  {
   "cell_type": "code",
   "execution_count": 51,
   "id": "6392b9b3",
   "metadata": {},
   "outputs": [
    {
     "data": {
      "text/plain": [
       "9×7 Matrix{Float64}:\n",
       " -0.0800253   1.19409     2.09825     …   1.11075     -3.18072     0.106149\n",
       " -0.485211   -0.674737    0.841982        0.356937    -0.233808   -0.78999\n",
       " -0.100065   -0.612103    0.835813        0.00412636  -1.397       0.0560684\n",
       "  0.557356   -0.810498    0.818767       -0.0261235    1.65778    -0.0150909\n",
       " -0.922566    0.654493    0.00237702     -0.0149955    0.0391884  -1.20029\n",
       "  0.387231    0.429389    0.883068    …   1.7368       0.86703     0.390452\n",
       "  0.337484    0.0853086  -0.253825       -0.888386    -0.0187609   0.486153\n",
       " -0.595768    0.472477   -1.10004        -1.14576     -0.0805163   1.43615\n",
       " -1.5212      0.811105    0.239316        0.389064    -0.81308    -0.145473"
      ]
     },
     "execution_count": 51,
     "metadata": {},
     "output_type": "execute_result"
    }
   ],
   "source": [
    "# Example usage 2:\n",
    "A = randn(9, 7)"
   ]
  },
  {
   "cell_type": "code",
   "execution_count": 52,
   "id": "260e879f",
   "metadata": {},
   "outputs": [],
   "source": [
    "U, S, V = svd_num(A);"
   ]
  },
  {
   "cell_type": "code",
   "execution_count": 53,
   "id": "b607efa2",
   "metadata": {},
   "outputs": [
    {
     "name": "stdout",
     "output_type": "stream",
     "text": [
      "9×9 adjoint(::Matrix{Float64}) with eltype Float64:\n",
      " -0.849438    0.0687316   -0.282726  -0.0788428   0.100955    0.295624     0.190665   -0.175119    -0.151577\n",
      " -0.123726    0.230999     0.281015   0.331459   -0.427721   -0.220012     0.353901   -0.48296      0.390704\n",
      " -0.288072   -0.0720062   -0.177736   0.430467   -0.367341   -0.249274    -0.0538492   0.698534     0.0837325\n",
      "  0.266936    0.411373    -0.122946   0.229184   -0.434781    0.619162    -0.0397277   0.0103598   -0.343212\n",
      " -0.0706154   0.00462991   0.667756  -0.0881386   0.153037    0.356638     0.44891     0.430361     0.063112\n",
      " -0.0172789   0.658308    -0.152971  -0.581849   -0.101652   -0.130288    -0.0333126   0.23631      0.346588\n",
      "  0.0744313  -0.262953    -0.247514   0.0955074   0.0648098   0.513404    -0.13311    -0.00166777   0.754603\n",
      "  0.134284   -0.480533    -0.228347  -0.467039   -0.5222      0.00785342   0.449375    0.00769797  -0.07769\n",
      " -0.28293    -0.184541     0.460095  -0.26931    -0.41502     0.104361    -0.64159    -0.0831269   -0.000117042"
     ]
    }
   ],
   "source": [
    "show(stdout, \"text/plain\", U)"
   ]
  },
  {
   "cell_type": "code",
   "execution_count": 54,
   "id": "e3bb4ce5",
   "metadata": {},
   "outputs": [
    {
     "name": "stdout",
     "output_type": "stream",
     "text": [
      "9×7 Matrix{Float64}:\n",
      " -4.79736       8.90024e-20   1.65874e-22  -1.47486e-16  -1.29325e-18   1.06416e-16   2.10668e-16\n",
      "  0.0           3.57549      -1.35817e-19  -4.00944e-19   4.17121e-17  -3.89999e-16   2.4284e-16\n",
      " -6.44465e-17   1.08897e-19  -2.29989       3.02486e-15   4.001e-13     2.22125e-17  -4.59242e-17\n",
      " -1.36465e-16  -1.51201e-16  -2.99742e-21   2.1891        2.4164e-12   -4.0936e-18   -7.78533e-17\n",
      "  5.23492e-17   1.80367e-16   2.7641e-16    4.80735e-17   1.17582      -1.05597e-16   1.77752e-18\n",
      "  1.80583e-17  -4.7044e-17   -7.66931e-17   9.99775e-17   1.47342e-19   0.880919     -5.24348e-15\n",
      " -3.37695e-17   2.77513e-17  -4.54484e-17   4.49085e-17  -7.41444e-17  -8.4563e-20    0.723971\n",
      "  1.1444e-16    2.31799e-16   3.24603e-17   4.48597e-18   7.46736e-17   1.89421e-17   1.095e-17\n",
      "  3.62694e-17   8.10975e-17   2.00624e-16   6.81267e-17   9.34317e-17   1.00145e-17   4.05451e-18"
     ]
    }
   ],
   "source": [
    "show(stdout, \"text/plain\", S)"
   ]
  },
  {
   "cell_type": "code",
   "execution_count": 55,
   "id": "45fddd81",
   "metadata": {},
   "outputs": [
    {
     "name": "stdout",
     "output_type": "stream",
     "text": [
      "7×7 adjoint(::Matrix{Float64}) with eltype Float64:\n",
      " -0.154165    0.246838    0.44993     0.0935762   0.282415   -0.787057  -0.0699557\n",
      "  0.237119   -0.133293    0.488849   -0.452641    0.560318    0.356471  -0.202787\n",
      "  0.646611   -0.129035    0.137054   -0.0314668  -0.0754725  -0.182844   0.711577\n",
      "  0.231283   -0.687733    0.261356    0.332882   -0.291086   -0.137636  -0.436737\n",
      "  0.661366    0.395533   -0.375949    0.122238    0.144355   -0.112742  -0.465102\n",
      "  0.0947763   0.524262    0.573797    0.206771   -0.480744    0.331138  -0.0583302\n",
      "  0.0449807   0.0194933  -0.0302938  -0.785406   -0.513717   -0.28059   -0.192822"
     ]
    }
   ],
   "source": [
    "show(stdout, \"text/plain\", V')"
   ]
  },
  {
   "cell_type": "code",
   "execution_count": 56,
   "id": "3ee210f5",
   "metadata": {},
   "outputs": [
    {
     "name": "stdout",
     "output_type": "stream",
     "text": [
      "1.0217521273503394e-14"
     ]
    }
   ],
   "source": [
    "show(stdout, \"text/plain\", opnorm(U * S * V' - A, 1))"
   ]
  },
  {
   "cell_type": "code",
   "execution_count": 57,
   "id": "e3666b7b",
   "metadata": {},
   "outputs": [
    {
     "data": {
      "text/plain": [
       "7×7 Matrix{Float64}:\n",
       "  1.09494    2.64617    0.512076    …   0.926954  -2.84069    3.38698\n",
       "  2.64617    0.957856   2.10516        -2.66119    0.649861   0.149081\n",
       "  0.512076   2.10516   -0.00822262      0.742708   0.96665   -0.593146\n",
       "  0.237239  -0.657437   0.220009        1.79742    1.23833    2.686\n",
       "  0.926954  -2.66119    0.742708       -2.6153    -1.07338   -1.55204\n",
       " -2.84069    0.649861   0.96665     …  -1.07338    0.701525   0.531877\n",
       "  3.38698    0.149081  -0.593146       -1.55204    0.531877  -1.80795"
      ]
     },
     "execution_count": 57,
     "metadata": {},
     "output_type": "execute_result"
    }
   ],
   "source": [
    "# Example usage 3:\n",
    "A = randn(7, 7)\n",
    "A = A + A'"
   ]
  },
  {
   "cell_type": "code",
   "execution_count": 58,
   "id": "965e0646",
   "metadata": {},
   "outputs": [],
   "source": [
    "U, S, V = svd_num(A);"
   ]
  },
  {
   "cell_type": "code",
   "execution_count": 59,
   "id": "0a8bfa1d",
   "metadata": {},
   "outputs": [
    {
     "name": "stdout",
     "output_type": "stream",
     "text": [
      "7×7 adjoint(::Matrix{Float64}) with eltype Float64:\n",
      "  0.437236    0.718072    0.0201956  -0.322743   0.262872    0.343752   -0.036861\n",
      " -0.331692    0.471174   -0.0155626   0.511897  -0.468491    0.238903   -0.359355\n",
      "  0.0588731   0.162245    0.734074   -0.285986  -0.3753     -0.448021   -0.0893556\n",
      "  0.21494     0.184907    0.107991    0.440348  -0.150217   -0.0486702   0.830125\n",
      " -0.566808   -0.0609897   0.50491    -0.1149     0.281462    0.520998    0.237091\n",
      "  0.107393   -0.218656   -0.18255    -0.444727  -0.684003    0.456081    0.183521\n",
      " -0.562437    0.387715   -0.400704   -0.383562  -0.0303018  -0.377119    0.287265"
     ]
    }
   ],
   "source": [
    "show(stdout, \"text/plain\", U)"
   ]
  },
  {
   "cell_type": "code",
   "execution_count": 60,
   "id": "0b215648",
   "metadata": {},
   "outputs": [
    {
     "name": "stdout",
     "output_type": "stream",
     "text": [
      "7×7 Matrix{Float64}:\n",
      " -6.98311       9.67671e-20  -8.23486e-19   9.87357e-18  -3.33493e-16  -6.02239e-17   1.65284e-16\n",
      "  0.0          -5.62309      -2.21543e-15  -6.84432e-21  -2.97786e-17   6.00799e-17   2.37304e-15\n",
      "  2.95432e-16  -2.20585e-20   0.587839     -6.99109e-18  -1.37833e-17   3.58961e-17  -3.95913e-13\n",
      " -8.99506e-17  -1.50144e-17  -2.39459e-20  -2.53113       1.68764e-17   1.05361e-16   8.31031e-14\n",
      "  4.04948e-16  -1.08289e-17  -5.64992e-17   1.01729e-17  -3.50594       2.62626e-16  -9.5232e-13\n",
      "  2.05297e-16   8.39369e-17  -5.22094e-17   3.61081e-16   1.761e-18     3.84678      -1.40768e-12\n",
      "  7.43776e-18  -4.5759e-18   -4.4591e-17    7.98498e-17  -6.9577e-17   -4.38091e-17   4.57617"
     ]
    }
   ],
   "source": [
    "show(stdout, \"text/plain\", S)"
   ]
  },
  {
   "cell_type": "code",
   "execution_count": 61,
   "id": "593fd832",
   "metadata": {},
   "outputs": [
    {
     "name": "stdout",
     "output_type": "stream",
     "text": [
      "7×7 adjoint(::Matrix{Float64}) with eltype Float64:\n",
      "  0.437236   -0.331692    0.0588731   0.21494    -0.566808    0.107393  -0.562437\n",
      " -0.718072   -0.471174   -0.162245   -0.184907    0.0609897   0.218656  -0.387715\n",
      "  0.0201956  -0.0155626   0.734074    0.107991    0.50491    -0.18255   -0.400704\n",
      " -0.322743    0.511897   -0.285986    0.440348   -0.1149     -0.444727  -0.383562\n",
      " -0.262872    0.468491    0.3753      0.150217   -0.281462    0.684003   0.0303018\n",
      " -0.343752   -0.238903    0.448021    0.0486702  -0.520998   -0.456081   0.377119\n",
      " -0.036861   -0.359355   -0.0893556   0.830125    0.237091    0.183521   0.287265"
     ]
    }
   ],
   "source": [
    "show(stdout, \"text/plain\", V')"
   ]
  },
  {
   "cell_type": "code",
   "execution_count": null,
   "id": "cfe630ad",
   "metadata": {},
   "outputs": [],
   "source": []
  },
  {
   "cell_type": "code",
   "execution_count": null,
   "id": "2001f18a",
   "metadata": {},
   "outputs": [],
   "source": []
  }
 ],
 "metadata": {
  "@webio": {
   "lastCommId": null,
   "lastKernelId": null
  },
  "kernelspec": {
   "display_name": "Julia 1.10.0",
   "language": "julia",
   "name": "julia-1.10"
  },
  "language_info": {
   "file_extension": ".jl",
   "mimetype": "application/julia",
   "name": "julia",
   "version": "1.10.0"
  }
 },
 "nbformat": 4,
 "nbformat_minor": 5
}
