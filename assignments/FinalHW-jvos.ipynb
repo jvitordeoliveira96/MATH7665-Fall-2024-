{
 "cells": [
  {
   "cell_type": "code",
   "execution_count": 4,
   "id": "6fa5b7c0",
   "metadata": {},
   "outputs": [],
   "source": [
    "using LinearAlgebra"
   ]
  },
  {
   "cell_type": "code",
   "execution_count": 5,
   "id": "d3d9ec97",
   "metadata": {},
   "outputs": [
    {
     "data": {
      "text/plain": [
       "7×5 Matrix{Float64}:\n",
       "  0.667667  -0.511743   -0.44913    -1.54506    1.62512\n",
       "  1.08274    0.752039   -0.638201    1.7185     0.286724\n",
       " -1.90628   -0.108286   -1.09271    -0.187644   0.446098\n",
       "  0.259341   0.286976    4.40673     1.0601     0.123095\n",
       " -1.81144    2.16624    -1.7263     -0.90353   -1.1491\n",
       "  0.57868    0.154887   -0.0426624  -2.14815    1.23479\n",
       "  0.621095  -0.0431452  -1.78538    -0.918631  -0.208526"
      ]
     },
     "execution_count": 5,
     "metadata": {},
     "output_type": "execute_result"
    }
   ],
   "source": [
    "# Example usage:\n",
    "A = randn(7, 5)"
   ]
  },
  {
   "cell_type": "code",
   "execution_count": 6,
   "id": "90fc72a5",
   "metadata": {},
   "outputs": [
    {
     "data": {
      "text/plain": [
       "bidiagonalize (generic function with 2 methods)"
      ]
     },
     "execution_count": 6,
     "metadata": {},
     "output_type": "execute_result"
    }
   ],
   "source": [
    "function householder(x)\n",
    "    \"\"\"Computes the Householder transformation for input vector x\n",
    "    \n",
    "    Returns \n",
    "    beta: float, the multiplier for future Householder reflection\n",
    "    v: vector, the householder reflector vector  \n",
    "    \"\"\"\n",
    "    sigma = dot(x[2:end],x[2:end])\n",
    "    v = copy(x)\n",
    "\n",
    "    if sigma == 0\n",
    "        beta = 0\n",
    "        return beta, v\n",
    "    end\n",
    "\n",
    "    sq = sqrt(x[1]^2 + sigma)\n",
    "    if x[1] > 0\n",
    "        v[1] += sq\n",
    "    else\n",
    "        v[1] -= sq\n",
    "    end\n",
    "\n",
    "    beta = 2.0 / (v[1]^2 + sigma)\n",
    "\n",
    "    return beta, v\n",
    "end\n",
    "\n",
    "\n",
    "function apply_householder_col!(B, H, cidx, m)\n",
    "    \"\"\"Apply Householder reflection from the left (B<- H * B)\n",
    "    \n",
    "    Returns (inplace) \n",
    "    B: input matrix\n",
    "    H: householder vectors v  \n",
    "    \"\"\"\n",
    "    beta, v = householder(B[cidx:m, cidx])\n",
    "    B[cidx:m, cidx:end] = B[cidx:m, cidx:end] - beta * v * (v' * B[cidx:m, cidx:end])\n",
    "    H[cidx:end, cidx] = v / norm(v)\n",
    "\n",
    "    return beta\n",
    "end\n",
    "\n",
    "function apply_householder_row!(B, H, ridx, n)\n",
    "    \"\"\"Apply Householder reflection from the right (B<- B * H)\n",
    "    \n",
    "    Returns (inplace) \n",
    "    B: input matrix\n",
    "    H: householder vectors v  \n",
    "    \"\"\"\n",
    "    beta, v = householder(B[ridx, ridx+1:n])\n",
    "    B[ridx:end, ridx+1:n] = B[ridx:end, ridx+1:n] - (B[ridx:end, ridx+1:n] * v) * (beta * v')\n",
    "    H[ridx, ridx+1:end] = v / norm(v)\n",
    "\n",
    "end\n",
    "\n",
    "function update_col_sim!(U, H, cidx, m)\n",
    "    \"\"\"Update column unitary transform (U<- H * U)\n",
    "    \n",
    "    Returns (inplace) \n",
    "    U: input matrix  \n",
    "    \"\"\"\n",
    "    v = H[cidx:end, cidx]\n",
    "    if cidx > 1\n",
    "        v = [zeros(cidx-1);v]\n",
    "    end\n",
    "    #U[cidx:end, cidx:end] = U[cidx:end, cidx:end] - 2 * v * (v' * U[cidx:end, cidx:end])\n",
    "    #show(stdout, \"text/plain\", I - 2 * v * v')\n",
    "    U[:,:] = U - 2 * v * (v' * U)\n",
    "    \n",
    "    return U\n",
    "    \n",
    "end\n",
    "\n",
    "function update_row_sim!(V, H, ridx, n)\n",
    "    \"\"\"Update row unitary transform (V<- V * H)\n",
    "    \n",
    "    Returns (inplace) \n",
    "    H: input matrix  \n",
    "    \"\"\"\n",
    "    v = H[ridx, ridx+1:end]\n",
    "    v = [zeros(ridx);v]\n",
    "    \n",
    "    \n",
    "    #V[ridx:end, ridx+1:end] = V[ridx:end, ridx+1:end] - (V[ridx:end, ridx+1:n] * v) * (2 * v')\n",
    "    #show(stdout, \"text/plain\", I - 2 * v * v')\n",
    "\n",
    "    V[:,:] = V - 2 * (V * v) * v'\n",
    "    \n",
    "    return V\n",
    "    \n",
    "end\n",
    "\n",
    "\n",
    "function bidiagonalize(A, return_orth = false)\n",
    "    \"\"\"Performs matrix bidiagonalization (for future singular value decomposition computation)\n",
    "    \n",
    "    Returns (inplace) \n",
    "    B: bidiagonal matrix with same singular values as input matrix (B = Q_r * A * Q_l)\n",
    "    \"\"\"\n",
    "    m, n = size(A)\n",
    "    B = copy(A)\n",
    "    H = copy(A)  # v vectors in householder\n",
    "    \n",
    "    if return_orth\n",
    "        U = zeros(m, m) + I\n",
    "        V = zeros(n, n) + I\n",
    "    end\n",
    "    \n",
    "    for k = 1:min(m,n)\n",
    "        \n",
    "        # column\n",
    "        \n",
    "        apply_householder_col!(B, H, k, m)\n",
    "    \n",
    "        \n",
    "        if return_orth\n",
    "            update_col_sim!(U, H, k, m)\n",
    "        end\n",
    "        \n",
    "        \n",
    "        # row\n",
    "        if k < n\n",
    "            apply_householder_row!(B, H, k, n) \n",
    "            \n",
    "            if return_orth \n",
    "                update_row_sim!(V, H, k, n)\n",
    "                #print(\"\\ni = \",k,\"\\n\")\n",
    "                #show(stdout, \"text/plain\", B)\n",
    "                #print(\"\\n\\n\")\n",
    "                #show(stdout, \"text/plain\", U * A * V)\n",
    "            end\n",
    "        end\n",
    "        \n",
    "                \n",
    "    end\n",
    "    \n",
    "    if return_orth\n",
    "        V[:, end] = -V[:, end] \n",
    "        U[end, :] = -U[end, :]\n",
    "        return U, B, V'\n",
    "    else\n",
    "        return B, H\n",
    "    end\n",
    "end\n",
    "\n"
   ]
  },
  {
   "cell_type": "code",
   "execution_count": null,
   "id": "9748442d",
   "metadata": {},
   "outputs": [],
   "source": []
  },
  {
   "cell_type": "code",
   "execution_count": 7,
   "id": "c50b9c9c",
   "metadata": {},
   "outputs": [],
   "source": [
    "B, H = bidiagonalize(A);"
   ]
  },
  {
   "cell_type": "code",
   "execution_count": 8,
   "id": "e5ec0a3e",
   "metadata": {},
   "outputs": [
    {
     "name": "stdout",
     "output_type": "stream",
     "text": [
      "7×5 Matrix{Float64}:\n",
      " -3.05307  -2.06401       2.22045e-16   5.55112e-17   2.22045e-16\n",
      "  0.0       4.13029      -2.66577      -1.11022e-16   2.22045e-16\n",
      "  0.0       2.22045e-16  -3.19993      -1.44762      -6.93889e-18\n",
      "  0.0       4.44089e-16   4.44089e-16   2.77522       0.813775\n",
      "  0.0      -2.22045e-16   2.77556e-17   2.22045e-16  -1.58337\n",
      "  0.0      -5.55112e-17   0.0           2.22045e-16   0.0\n",
      "  0.0      -2.22045e-16  -2.77556e-17   2.22045e-16  -5.55112e-17"
     ]
    }
   ],
   "source": [
    "show(stdout, \"text/plain\", B)"
   ]
  },
  {
   "cell_type": "code",
   "execution_count": 9,
   "id": "6230d674",
   "metadata": {},
   "outputs": [
    {
     "name": "stdout",
     "output_type": "stream",
     "text": [
      "7×5 Matrix{Float64}:\n",
      "  0.780605    0.864051   -0.388301   -0.117979  -0.297857\n",
      "  0.227157   -0.791085    0.969845    0.106133  -0.219401\n",
      " -0.399935    0.124116    0.926481    0.999887   0.0150592\n",
      "  0.0544093   0.446561   -0.360289   -0.794226   1.0\n",
      " -0.380038   -0.270475   -0.0263207   0.400981   0.931267\n",
      "  0.121406   -0.0461981   0.100784    0.39313    0.327251\n",
      "  0.130305   -0.289953    0.0312182   0.232096  -0.16015"
     ]
    }
   ],
   "source": [
    "show(stdout, \"text/plain\", H)"
   ]
  },
  {
   "cell_type": "code",
   "execution_count": 10,
   "id": "f04791ed",
   "metadata": {},
   "outputs": [
    {
     "ename": "LoadError",
     "evalue": "UndefVarError: `beta` not defined",
     "output_type": "error",
     "traceback": [
      "UndefVarError: `beta` not defined",
      "",
      "Stacktrace:",
      " [1] top-level scope",
      "   @ In[10]:1"
     ]
    }
   ],
   "source": [
    "show(stdout, \"text/plain\", beta)"
   ]
  },
  {
   "cell_type": "code",
   "execution_count": 11,
   "id": "c29fc561",
   "metadata": {},
   "outputs": [],
   "source": [
    "_, S1, _ = svd(B);"
   ]
  },
  {
   "cell_type": "code",
   "execution_count": 12,
   "id": "57d80223",
   "metadata": {},
   "outputs": [
    {
     "data": {
      "text/plain": [
       "5-element Vector{Float64}:\n",
       " 5.653447077105473\n",
       " 3.7909452105599586\n",
       " 2.955013482670139\n",
       " 1.9635073896516777\n",
       " 1.4258866193788597"
      ]
     },
     "execution_count": 12,
     "metadata": {},
     "output_type": "execute_result"
    }
   ],
   "source": [
    "S1"
   ]
  },
  {
   "cell_type": "code",
   "execution_count": 13,
   "id": "b11cbb27",
   "metadata": {},
   "outputs": [],
   "source": [
    "_, S2, _ = svd(A);"
   ]
  },
  {
   "cell_type": "code",
   "execution_count": 14,
   "id": "48fd1c4c",
   "metadata": {},
   "outputs": [
    {
     "data": {
      "text/plain": [
       "5-element Vector{Float64}:\n",
       " 5.653447077105471\n",
       " 3.7909452105599555\n",
       " 2.95501348267014\n",
       " 1.9635073896516786\n",
       " 1.4258866193788602"
      ]
     },
     "execution_count": 14,
     "metadata": {},
     "output_type": "execute_result"
    }
   ],
   "source": [
    "S2"
   ]
  },
  {
   "cell_type": "code",
   "execution_count": 15,
   "id": "f493fdc0",
   "metadata": {},
   "outputs": [],
   "source": [
    "P_l, B, P_r = bidiagonalize(A, true);"
   ]
  },
  {
   "cell_type": "code",
   "execution_count": 16,
   "id": "da87be52",
   "metadata": {},
   "outputs": [],
   "source": [
    "# Checking correctness"
   ]
  },
  {
   "cell_type": "code",
   "execution_count": 17,
   "id": "c859b79f",
   "metadata": {},
   "outputs": [
    {
     "name": "stdout",
     "output_type": "stream",
     "text": [
      "5.420541948354418e-16"
     ]
    }
   ],
   "source": [
    "show(stdout, \"text/plain\", opnorm(B - P_l * A * P_r', 1)/opnorm(A, 1))"
   ]
  },
  {
   "cell_type": "code",
   "execution_count": 18,
   "id": "22ea2285",
   "metadata": {},
   "outputs": [
    {
     "name": "stdout",
     "output_type": "stream",
     "text": [
      "1.461966616455773e-15"
     ]
    }
   ],
   "source": [
    "show(stdout, \"text/plain\", opnorm(P_r' * P_r -  I, 1))"
   ]
  },
  {
   "cell_type": "code",
   "execution_count": 19,
   "id": "d5f5026e",
   "metadata": {},
   "outputs": [
    {
     "name": "stdout",
     "output_type": "stream",
     "text": [
      "1.2433320166460106e-15"
     ]
    }
   ],
   "source": [
    "show(stdout, \"text/plain\", opnorm(P_l' * P_l - I, 1))"
   ]
  },
  {
   "cell_type": "code",
   "execution_count": 17,
   "id": "91f3b132",
   "metadata": {},
   "outputs": [
    {
     "data": {
      "text/plain": [
       "SVD{Float64, Float64, Matrix{Float64}, Vector{Float64}}\n",
       "U factor:\n",
       "7×5 Matrix{Float64}:\n",
       " -0.111962     -0.879563      0.138337     -0.438532      0.0488408\n",
       "  0.544171      0.333746      0.163524     -0.746307      0.0936866\n",
       "  0.830765     -0.334984     -0.0491754     0.437069     -0.0645631\n",
       "  0.0342412    -0.0524668    -0.947505     -0.173304      0.261293\n",
       "  0.000860157  -0.00394105   -0.232245     -0.172194     -0.957285\n",
       "  4.38407e-17   7.66039e-18   1.99815e-19   8.17493e-17  -2.0901e-17\n",
       "  3.6952e-19    5.71334e-18  -2.45056e-17  -2.10489e-18  -9.39519e-17\n",
       "singular values:\n",
       "5-element Vector{Float64}:\n",
       " 4.975317941707024\n",
       " 3.029726844353466\n",
       " 1.9369461909792187\n",
       " 1.3947000798229707\n",
       " 1.092302772956615\n",
       "Vt factor:\n",
       "5×5 Matrix{Float64}:\n",
       "  0.0515246  -0.271366    0.956612   -0.0926579   0.00367839\n",
       "  0.664705   -0.706364   -0.227949    0.0845593  -0.010263\n",
       " -0.163526   -0.0657986   0.0789751   0.901771   -0.386655\n",
       "  0.719924    0.640748    0.1511      0.0755615  -0.206423\n",
       " -0.102378   -0.111902   -0.0621618  -0.40665    -0.898759"
      ]
     },
     "execution_count": 17,
     "metadata": {},
     "output_type": "execute_result"
    }
   ],
   "source": [
    "U, S, V = svd(B)"
   ]
  },
  {
   "cell_type": "code",
   "execution_count": 18,
   "id": "86ad59a8",
   "metadata": {},
   "outputs": [
    {
     "data": {
      "text/plain": [
       "7×5 Matrix{Float64}:\n",
       "  0.818411   -0.0375795   0.363408    0.0432272   -0.322577\n",
       " -0.191216   -0.218328    0.372298    0.604596     0.452173\n",
       " -0.387131    0.431531    0.610525    0.131656    -0.44774\n",
       " -0.233064   -0.674955    0.313052   -0.524787    -0.0722531\n",
       "  0.243916    0.289015    0.369172   -0.31058      0.693977\n",
       "  0.0243332  -0.287951    0.338288    0.00444256  -0.0455568\n",
       "  0.171358   -0.377746   -0.0886577   0.493337    -0.0459517"
      ]
     },
     "execution_count": 18,
     "metadata": {},
     "output_type": "execute_result"
    }
   ],
   "source": [
    "P_l' * U"
   ]
  },
  {
   "cell_type": "code",
   "execution_count": 19,
   "id": "dbb365ea",
   "metadata": {},
   "outputs": [
    {
     "data": {
      "text/plain": [
       "5×5 Matrix{Float64}:\n",
       "  0.0515246   -0.404646     0.897196    0.104413     0.133205\n",
       " -0.271366     0.235211     0.225751    0.224773    -0.87724\n",
       "  0.956612     0.00301881  -0.0173622   0.0535212   -0.285864\n",
       " -0.0926579   -0.883484    -0.347517   -0.00926997  -0.300028\n",
       "  0.00367839  -0.0196121   -0.151677    0.967277     0.202414"
      ]
     },
     "execution_count": 19,
     "metadata": {},
     "output_type": "execute_result"
    }
   ],
   "source": [
    "V * P_r"
   ]
  },
  {
   "cell_type": "code",
   "execution_count": 20,
   "id": "bcebca1b",
   "metadata": {},
   "outputs": [
    {
     "data": {
      "text/plain": [
       "SVD{Float64, Float64, Matrix{Float64}, Vector{Float64}}\n",
       "U factor:\n",
       "7×5 Matrix{Float64}:\n",
       " -0.818411    0.0375795  -0.363408   -0.0432272    0.322577\n",
       "  0.191216    0.218328   -0.372298   -0.604596    -0.452173\n",
       "  0.387131   -0.431531   -0.610525   -0.131656     0.44774\n",
       "  0.233064    0.674955   -0.313052    0.524787     0.0722531\n",
       " -0.243916   -0.289015   -0.369172    0.31058     -0.693977\n",
       " -0.0243332   0.287951   -0.338288   -0.00444256   0.0455568\n",
       " -0.171358    0.377746    0.0886577  -0.493337     0.0459517\n",
       "singular values:\n",
       "5-element Vector{Float64}:\n",
       " 4.975317941707021\n",
       " 3.029726844353465\n",
       " 1.9369461909792178\n",
       " 1.3947000798229707\n",
       " 1.0923027729566164\n",
       "Vt factor:\n",
       "5×5 Matrix{Float64}:\n",
       " -0.0515246   0.547439   0.584519   0.367563    0.469991\n",
       " -0.664705   -0.507558   0.13115   -0.18433     0.499374\n",
       "  0.163526    0.359147  -0.592447  -0.349101    0.609432\n",
       " -0.719924    0.534727  -0.228103  -0.0549008  -0.375143\n",
       "  0.102378    0.166664   0.487968  -0.840259   -0.132645"
      ]
     },
     "execution_count": 20,
     "metadata": {},
     "output_type": "execute_result"
    }
   ],
   "source": [
    "svd(A)"
   ]
  },
  {
   "cell_type": "code",
   "execution_count": null,
   "id": "8e8b5b11",
   "metadata": {},
   "outputs": [],
   "source": []
  },
  {
   "cell_type": "code",
   "execution_count": null,
   "id": "216b29ac",
   "metadata": {},
   "outputs": [],
   "source": []
  },
  {
   "cell_type": "code",
   "execution_count": null,
   "id": "8af81e85",
   "metadata": {},
   "outputs": [],
   "source": []
  },
  {
   "cell_type": "code",
   "execution_count": null,
   "id": "012fc09a",
   "metadata": {},
   "outputs": [],
   "source": []
  },
  {
   "cell_type": "code",
   "execution_count": null,
   "id": "e3a64bc3",
   "metadata": {},
   "outputs": [],
   "source": []
  },
  {
   "cell_type": "code",
   "execution_count": 23,
   "id": "c38571cb",
   "metadata": {},
   "outputs": [
    {
     "data": {
      "text/plain": [
       "svd_golub_reinsh (generic function with 3 methods)"
      ]
     },
     "execution_count": 23,
     "metadata": {},
     "output_type": "execute_result"
    }
   ],
   "source": [
    "function svd_golub_reinsh(B, maxiter = 80, eps = 1e-8)\n",
    "    \"\"\"Computes the Singular value decomposition of a bidiagonal matrix. Based on \n",
    "    https://www.cs.utexas.edu/~inderjit/public_papers/HLA_SVD.pdf\n",
    "    \n",
    "    Returns  \n",
    "    U: Left singular vector matrix\n",
    "    S: Singular values matrix\n",
    "    Vt: Right singular vector matrix\n",
    "    \"\"\"\n",
    "    \n",
    "    function golub_kahan_step(n, B, U, V, p, q)\n",
    "       # to be DONE \n",
    "    end\n",
    "    \n",
    "    n, m = size(B)\n",
    "    U = zeros(m, m) + I\n",
    "    V = zeros(n, n) + I\n",
    "    maxiter_ = maxiter * (log2(n * m)) \n",
    "    \n",
    "    for k = 1:maxiter\n",
    "        # Step 1 of main loop\n",
    "        for i = 1:n-1\n",
    "            b[i, i + 1] = 0 ? abs(b[i, i + 1]) < eps * ( abs( b[i, i] ) + abs( b[i + 1, b + 1] ) ) :  b[i, i + 1]\n",
    "        end\n",
    "        \n",
    "        # Step 2 of main loop\n",
    "        # Find p and q such that matrix can be blocked as B11, B22 and B33 (diag) \n",
    "        #To be DONE\n",
    "        \n",
    "        # Step 3 of main loop\n",
    "        # If q = n, return B (converged)\n",
    "        \n",
    "        # Step 4 of main loop\n",
    "        \n",
    "        \n",
    "    end\n",
    "    \n",
    "end"
   ]
  },
  {
   "cell_type": "code",
   "execution_count": null,
   "id": "70eb8121",
   "metadata": {},
   "outputs": [],
   "source": []
  },
  {
   "cell_type": "code",
   "execution_count": null,
   "id": "cdc346e0",
   "metadata": {},
   "outputs": [],
   "source": []
  },
  {
   "cell_type": "code",
   "execution_count": null,
   "id": "5e896b14",
   "metadata": {},
   "outputs": [],
   "source": []
  },
  {
   "cell_type": "code",
   "execution_count": null,
   "id": "89502458",
   "metadata": {},
   "outputs": [],
   "source": []
  },
  {
   "cell_type": "code",
   "execution_count": null,
   "id": "baf34ac1",
   "metadata": {},
   "outputs": [],
   "source": []
  },
  {
   "cell_type": "code",
   "execution_count": null,
   "id": "be89b3c4",
   "metadata": {},
   "outputs": [],
   "source": []
  },
  {
   "cell_type": "code",
   "execution_count": null,
   "id": "c056a04c",
   "metadata": {},
   "outputs": [],
   "source": []
  },
  {
   "cell_type": "code",
   "execution_count": null,
   "id": "1f743a85",
   "metadata": {},
   "outputs": [],
   "source": []
  },
  {
   "cell_type": "code",
   "execution_count": null,
   "id": "32cb44a1",
   "metadata": {},
   "outputs": [],
   "source": []
  },
  {
   "cell_type": "code",
   "execution_count": null,
   "id": "2ebd89f7",
   "metadata": {},
   "outputs": [],
   "source": []
  },
  {
   "cell_type": "code",
   "execution_count": null,
   "id": "998af721",
   "metadata": {},
   "outputs": [],
   "source": []
  },
  {
   "cell_type": "code",
   "execution_count": null,
   "id": "f82947a1",
   "metadata": {},
   "outputs": [],
   "source": []
  },
  {
   "cell_type": "code",
   "execution_count": null,
   "id": "acb87ce8",
   "metadata": {},
   "outputs": [],
   "source": []
  },
  {
   "cell_type": "code",
   "execution_count": null,
   "id": "212ae2ff",
   "metadata": {},
   "outputs": [],
   "source": []
  },
  {
   "cell_type": "code",
   "execution_count": null,
   "id": "a6964f15",
   "metadata": {},
   "outputs": [],
   "source": []
  },
  {
   "cell_type": "code",
   "execution_count": null,
   "id": "a5ee59f1",
   "metadata": {},
   "outputs": [],
   "source": []
  },
  {
   "cell_type": "code",
   "execution_count": null,
   "id": "d3f04b3a",
   "metadata": {},
   "outputs": [],
   "source": []
  },
  {
   "cell_type": "code",
   "execution_count": 21,
   "id": "d679607f",
   "metadata": {},
   "outputs": [
    {
     "data": {
      "text/plain": [
       "givens_rotation (generic function with 1 method)"
      ]
     },
     "execution_count": 21,
     "metadata": {},
     "output_type": "execute_result"
    }
   ],
   "source": [
    "function givens_rotation(v)\n",
    "    a, b = v[1], v[2]\n",
    "    if b == 0\n",
    "        c = 1\n",
    "        s = 0\n",
    "    else\n",
    "        if abs(b) > abs(a)\n",
    "            tau = -a/b\n",
    "            s = 1.0/sqrt(1.0+tau*tau)\n",
    "            c = s*tau\n",
    "        else\n",
    "            tau = -b/a\n",
    "            c = 1.0/sqrt(1.0+tau*tau)\n",
    "            s = c*tau\n",
    "        end\n",
    "    end\n",
    "    return [c -s;s c]\n",
    "end"
   ]
  },
  {
   "cell_type": "code",
   "execution_count": 22,
   "id": "0f13d10d",
   "metadata": {},
   "outputs": [
    {
     "data": {
      "text/plain": [
       "3×3 Matrix{Float64}:\n",
       " 1.0   3.0   4.0\n",
       " 4.0  -1.0   8.0\n",
       " 7.0   8.0  -1.0"
      ]
     },
     "execution_count": 22,
     "metadata": {},
     "output_type": "execute_result"
    }
   ],
   "source": [
    "A = [1.0 3 4;4 -1 8;7 8 -1]"
   ]
  },
  {
   "cell_type": "code",
   "execution_count": 23,
   "id": "81b0f829",
   "metadata": {},
   "outputs": [
    {
     "data": {
      "text/plain": [
       "2×2 Matrix{Float64}:\n",
       " -0.242536  -0.970143\n",
       "  0.970143  -0.242536"
      ]
     },
     "execution_count": 23,
     "metadata": {},
     "output_type": "execute_result"
    }
   ],
   "source": [
    "G = givens_rotation(A[[1,2], 1])"
   ]
  },
  {
   "cell_type": "code",
   "execution_count": 24,
   "id": "9886036d",
   "metadata": {},
   "outputs": [
    {
     "data": {
      "text/plain": [
       "3×3 Matrix{Float64}:\n",
       " -4.12311  0.242536  -8.73128\n",
       "  0.0      3.15296    1.94029\n",
       "  7.0      8.0       -1.0"
      ]
     },
     "execution_count": 24,
     "metadata": {},
     "output_type": "execute_result"
    }
   ],
   "source": [
    "A[[1,2], :] = G * A[[1,2], :];\n",
    "A"
   ]
  },
  {
   "cell_type": "code",
   "execution_count": 25,
   "id": "d9a7a0f1",
   "metadata": {},
   "outputs": [
    {
     "data": {
      "text/plain": [
       "2×2 Matrix{Float64}:\n",
       " 0.507519  -0.86164\n",
       " 0.86164    0.507519"
      ]
     },
     "execution_count": 25,
     "metadata": {},
     "output_type": "execute_result"
    }
   ],
   "source": [
    "G = givens_rotation(A[[1,3], 1])"
   ]
  },
  {
   "cell_type": "code",
   "execution_count": 26,
   "id": "be703efe",
   "metadata": {},
   "outputs": [
    {
     "data": {
      "text/plain": [
       "3×3 Matrix{Float64}:\n",
       " -8.12404      -6.77003  -3.56965\n",
       "  0.0           3.15296   1.94029\n",
       " -3.33067e-16   4.26913  -8.03075"
      ]
     },
     "execution_count": 26,
     "metadata": {},
     "output_type": "execute_result"
    }
   ],
   "source": [
    "A[[1,3], :] = G * A[[1,3], :];\n",
    "A\n"
   ]
  },
  {
   "cell_type": "code",
   "execution_count": 27,
   "id": "9964f8b9",
   "metadata": {},
   "outputs": [
    {
     "data": {
      "text/plain": [
       "2×2 Matrix{Float64}:\n",
       " -0.594089  -0.8044\n",
       "  0.8044    -0.594089"
      ]
     },
     "execution_count": 27,
     "metadata": {},
     "output_type": "execute_result"
    }
   ],
   "source": [
    "G = givens_rotation(A[[2,3], 2])"
   ]
  },
  {
   "cell_type": "code",
   "execution_count": 28,
   "id": "3dbfc0ea",
   "metadata": {},
   "outputs": [
    {
     "data": {
      "text/plain": [
       "3×3 Matrix{Float64}:\n",
       " -8.12404      -6.77003      -3.56965\n",
       "  2.67919e-16  -5.30723       5.30723\n",
       "  1.97871e-16   2.10348e-16   6.33174"
      ]
     },
     "execution_count": 28,
     "metadata": {},
     "output_type": "execute_result"
    }
   ],
   "source": [
    "A[[2,3], :] = G * A[[2,3], :];\n",
    "A\n"
   ]
  },
  {
   "cell_type": "code",
   "execution_count": 29,
   "id": "b4c6336b",
   "metadata": {},
   "outputs": [
    {
     "data": {
      "text/plain": [
       "LinearAlgebra.QRCompactWY{Float64, Matrix{Float64}, Matrix{Float64}}\n",
       "Q factor: 3×3 LinearAlgebra.QRCompactWYQ{Float64, Matrix{Float64}, Matrix{Float64}}\n",
       "R factor:\n",
       "3×3 Matrix{Float64}:\n",
       " 8.12404  6.77003   3.56965\n",
       " 0.0      5.30723  -5.30723\n",
       " 0.0      0.0       6.33174"
      ]
     },
     "execution_count": 29,
     "metadata": {},
     "output_type": "execute_result"
    }
   ],
   "source": [
    "qr(A)"
   ]
  },
  {
   "cell_type": "code",
   "execution_count": null,
   "id": "a8b05392",
   "metadata": {},
   "outputs": [],
   "source": []
  },
  {
   "cell_type": "code",
   "execution_count": null,
   "id": "086ee794",
   "metadata": {},
   "outputs": [],
   "source": []
  }
 ],
 "metadata": {
  "kernelspec": {
   "display_name": "Julia 1.10.0",
   "language": "julia",
   "name": "julia-1.10"
  },
  "language_info": {
   "file_extension": ".jl",
   "mimetype": "application/julia",
   "name": "julia",
   "version": "1.10.0"
  }
 },
 "nbformat": 4,
 "nbformat_minor": 5
}
