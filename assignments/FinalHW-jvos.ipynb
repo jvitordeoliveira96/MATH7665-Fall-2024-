{
 "cells": [
  {
   "cell_type": "code",
   "execution_count": 1538,
   "id": "6fa5b7c0",
   "metadata": {},
   "outputs": [],
   "source": [
    "using LinearAlgebra"
   ]
  },
  {
   "cell_type": "code",
   "execution_count": 1539,
   "id": "d3d9ec97",
   "metadata": {},
   "outputs": [
    {
     "data": {
      "text/plain": [
       "7×5 Matrix{Float64}:\n",
       "  0.753147   0.565362     0.590011   -0.522405   -0.972895\n",
       "  0.136851   0.351542    -0.961913   -0.652498    0.331\n",
       " -1.21606   -0.833067    -0.905584    0.82773    -0.560869\n",
       "  0.179738   2.16464      0.959215    1.24051     0.772054\n",
       " -0.533359  -0.838793    -0.404893    2.38363     0.836403\n",
       " -0.335915   1.06327      0.906434   -0.595917   -0.923025\n",
       " -0.805714  -0.00801435   0.0616444  -0.0463836  -1.2036"
      ]
     },
     "execution_count": 1539,
     "metadata": {},
     "output_type": "execute_result"
    }
   ],
   "source": [
    "# Example usage:\n",
    "A = randn(7, 5)"
   ]
  },
  {
   "cell_type": "code",
   "execution_count": 1540,
   "id": "90fc72a5",
   "metadata": {},
   "outputs": [
    {
     "data": {
      "text/plain": [
       "bidiagonalize (generic function with 2 methods)"
      ]
     },
     "execution_count": 1540,
     "metadata": {},
     "output_type": "execute_result"
    }
   ],
   "source": [
    "function householder(x)\n",
    "    \"\"\"Computes the Householder transformation for input vector x\n",
    "    \n",
    "    Returns \n",
    "    beta: float, the multiplier for future Householder reflection\n",
    "    v: vector, the householder reflector vector  \n",
    "    \"\"\"\n",
    "    sigma = dot(x[2:end],x[2:end])\n",
    "    v = copy(x)\n",
    "\n",
    "    if sigma == 0\n",
    "        beta = 0\n",
    "        return beta, v\n",
    "    end\n",
    "\n",
    "    sq = sqrt(x[1]^2 + sigma)\n",
    "    if x[1] > 0\n",
    "        v[1] += sq\n",
    "    else\n",
    "        v[1] -= sq\n",
    "    end\n",
    "\n",
    "    beta = 2.0 / (v[1]^2 + sigma)\n",
    "\n",
    "    return beta, v\n",
    "end\n",
    "\n",
    "\n",
    "function apply_householder_col!(B, H, cidx, m)\n",
    "    \"\"\"Apply Householder reflection from the left (B<- H * B)\n",
    "    \n",
    "    Returns (inplace) \n",
    "    B: input matrix\n",
    "    H: householder vectors v  \n",
    "    \"\"\"\n",
    "    beta, v = householder(B[cidx:m, cidx])\n",
    "    B[cidx:m, cidx:end] = B[cidx:m, cidx:end] - beta * v * (v' * B[cidx:m, cidx:end])\n",
    "    H[cidx:end, cidx] = v / norm(v)\n",
    "\n",
    "    return beta\n",
    "end\n",
    "\n",
    "function apply_householder_row!(B, H, ridx, n)\n",
    "    \"\"\"Apply Householder reflection from the right (B<- B * H)\n",
    "    \n",
    "    Returns (inplace) \n",
    "    B: input matrix\n",
    "    H: householder vectors v  \n",
    "    \"\"\"\n",
    "    beta, v = householder(B[ridx, ridx+1:n])\n",
    "    B[ridx:end, ridx+1:n] = B[ridx:end, ridx+1:n] - (B[ridx:end, ridx+1:n] * v) * (beta * v')\n",
    "    H[ridx, ridx+1:end] = v / norm(v)\n",
    "\n",
    "end\n",
    "\n",
    "function update_col_sim!(U, H, cidx, m)\n",
    "    \"\"\"Update column unitary transform (U<- H * U)\n",
    "    \n",
    "    Returns (inplace) \n",
    "    U: input matrix  \n",
    "    \"\"\"\n",
    "    v = H[cidx:end, cidx]\n",
    "    if cidx > 1\n",
    "        v = [zeros(cidx-1);v]\n",
    "    end\n",
    "    #U[cidx:end, cidx:end] = U[cidx:end, cidx:end] - 2 * v * (v' * U[cidx:end, cidx:end])\n",
    "    #show(stdout, \"text/plain\", I - 2 * v * v')\n",
    "    U[:,:] = U - 2 * v * (v' * U)\n",
    "    \n",
    "    return U\n",
    "    \n",
    "end\n",
    "\n",
    "function update_row_sim!(V, H, ridx, n)\n",
    "    \"\"\"Update row unitary transform (V<- V * H)\n",
    "    \n",
    "    Returns (inplace) \n",
    "    H: input matrix  \n",
    "    \"\"\"\n",
    "    v = H[ridx, ridx+1:end]\n",
    "    v = [zeros(ridx);v]\n",
    "    \n",
    "    \n",
    "    #V[ridx:end, ridx+1:end] = V[ridx:end, ridx+1:end] - (V[ridx:end, ridx+1:n] * v) * (2 * v')\n",
    "    #show(stdout, \"text/plain\", I - 2 * v * v')\n",
    "\n",
    "    V[:,:] = V - 2 * (V * v) * v'\n",
    "    \n",
    "    return V\n",
    "    \n",
    "end\n",
    "\n",
    "\n",
    "function bidiagonalize(A, return_orth = false)\n",
    "    \"\"\"Performs matrix bidiagonalization (for future singular value decomposition computation)\n",
    "    \n",
    "    Returns (inplace) \n",
    "    B: bidiagonal matrix with same singular values as input matrix (B = Q_r * A * Q_l)\n",
    "    \"\"\"\n",
    "    m, n = size(A)\n",
    "    B = copy(A)\n",
    "    H = copy(A)  # v vectors in householder\n",
    "    \n",
    "    if return_orth\n",
    "        U = zeros(m, m) + I\n",
    "        V = zeros(n, n) + I\n",
    "    end\n",
    "    \n",
    "    for k = 1:min(m,n)\n",
    "        \n",
    "        # column\n",
    "        \n",
    "        apply_householder_col!(B, H, k, m)\n",
    "    \n",
    "        \n",
    "        if return_orth\n",
    "            update_col_sim!(U, H, k, m)\n",
    "        end\n",
    "        \n",
    "        \n",
    "        # row\n",
    "        if k < n\n",
    "            apply_householder_row!(B, H, k, n) \n",
    "            \n",
    "            if return_orth \n",
    "                update_row_sim!(V, H, k, n)\n",
    "                #print(\"\\ni = \",k,\"\\n\")\n",
    "                #show(stdout, \"text/plain\", B)\n",
    "                #print(\"\\n\\n\")\n",
    "                #show(stdout, \"text/plain\", U * A * V)\n",
    "            end\n",
    "        end\n",
    "        \n",
    "                \n",
    "    end\n",
    "    \n",
    "    if return_orth\n",
    "        V[:, end] = -V[:, end] \n",
    "        U[end, :] = -U[end, :]\n",
    "        return U, B, V'\n",
    "    else\n",
    "        return B, H\n",
    "    end\n",
    "end\n",
    "\n"
   ]
  },
  {
   "cell_type": "code",
   "execution_count": null,
   "id": "9748442d",
   "metadata": {},
   "outputs": [],
   "source": []
  },
  {
   "cell_type": "code",
   "execution_count": 1541,
   "id": "c50b9c9c",
   "metadata": {},
   "outputs": [],
   "source": [
    "B, H = bidiagonalize(A);"
   ]
  },
  {
   "cell_type": "code",
   "execution_count": 1542,
   "id": "e5ec0a3e",
   "metadata": {},
   "outputs": [
    {
     "name": "stdout",
     "output_type": "stream",
     "text": [
      "7×5 Matrix{Float64}:\n",
      " -1.77301       1.9712       1.11022e-16   0.0           1.11022e-16\n",
      "  2.77556e-17   2.29733      1.78797       0.0           0.0\n",
      " -2.22045e-16  -5.55112e-17  1.58271      -1.01315       0.0\n",
      "  5.55112e-17   0.0          0.0           2.20764      -1.71391\n",
      " -1.11022e-16   0.0          0.0           2.22045e-16   1.37324\n",
      " -5.55112e-17   2.22045e-16  0.0          -1.38778e-17   0.0\n",
      " -1.11022e-16   0.0          0.0          -1.38778e-17   0.0"
     ]
    }
   ],
   "source": [
    "show(stdout, \"text/plain\", B)"
   ]
  },
  {
   "cell_type": "code",
   "execution_count": 1543,
   "id": "6230d674",
   "metadata": {},
   "outputs": [
    {
     "name": "stdout",
     "output_type": "stream",
     "text": [
      "7×5 Matrix{Float64}:\n",
      "  0.844033   -0.884433   -0.234254      0.372063    -0.156435\n",
      "  0.0457244  -0.734213   -0.707527     -0.136104     0.693456\n",
      " -0.406308    0.0857534  -0.873305      0.982635    -0.185548\n",
      "  0.0600535  -0.246289    0.0997693    -0.961944    -1.0\n",
      " -0.178205    0.423183    0.000319838  -0.272541    -0.842233\n",
      " -0.112235   -0.432646   -0.234589      0.0170003    0.506119\n",
      " -0.269203   -0.163261   -0.415154      0.00977749   0.185706"
     ]
    }
   ],
   "source": [
    "show(stdout, \"text/plain\", H)"
   ]
  },
  {
   "cell_type": "code",
   "execution_count": 1544,
   "id": "c29fc561",
   "metadata": {},
   "outputs": [],
   "source": [
    "_, S1, _ = svd(B);"
   ]
  },
  {
   "cell_type": "code",
   "execution_count": 1545,
   "id": "57d80223",
   "metadata": {},
   "outputs": [
    {
     "data": {
      "text/plain": [
       "5-element Vector{Float64}:\n",
       " 3.594459797904591\n",
       " 3.0495938550862745\n",
       " 2.1247434192987416\n",
       " 1.2410508568569403\n",
       " 0.676137889769167"
      ]
     },
     "execution_count": 1545,
     "metadata": {},
     "output_type": "execute_result"
    }
   ],
   "source": [
    "S1"
   ]
  },
  {
   "cell_type": "code",
   "execution_count": 1546,
   "id": "b11cbb27",
   "metadata": {},
   "outputs": [],
   "source": [
    "_, S2, _ = svd(A);"
   ]
  },
  {
   "cell_type": "code",
   "execution_count": 1547,
   "id": "48fd1c4c",
   "metadata": {},
   "outputs": [
    {
     "data": {
      "text/plain": [
       "5-element Vector{Float64}:\n",
       " 3.5944597979045896\n",
       " 3.049593855086275\n",
       " 2.124743419298743\n",
       " 1.2410508568569398\n",
       " 0.6761378897691668"
      ]
     },
     "execution_count": 1547,
     "metadata": {},
     "output_type": "execute_result"
    }
   ],
   "source": [
    "S2"
   ]
  },
  {
   "cell_type": "code",
   "execution_count": 1548,
   "id": "f493fdc0",
   "metadata": {},
   "outputs": [],
   "source": [
    "P_l, B, P_r = bidiagonalize(A, true);"
   ]
  },
  {
   "cell_type": "code",
   "execution_count": 1549,
   "id": "da87be52",
   "metadata": {},
   "outputs": [],
   "source": [
    "# Checking correctness"
   ]
  },
  {
   "cell_type": "code",
   "execution_count": 1550,
   "id": "c859b79f",
   "metadata": {},
   "outputs": [
    {
     "name": "stdout",
     "output_type": "stream",
     "text": [
      "5.728463352749384e-16"
     ]
    }
   ],
   "source": [
    "show(stdout, \"text/plain\", opnorm(B - P_l * A * P_r', 1)/opnorm(A, 1))"
   ]
  },
  {
   "cell_type": "code",
   "execution_count": 1551,
   "id": "22ea2285",
   "metadata": {},
   "outputs": [
    {
     "name": "stdout",
     "output_type": "stream",
     "text": [
      "4.750301098720859e-16"
     ]
    }
   ],
   "source": [
    "show(stdout, \"text/plain\", opnorm(P_r' * P_r -  I, 1))"
   ]
  },
  {
   "cell_type": "code",
   "execution_count": 1552,
   "id": "d5f5026e",
   "metadata": {},
   "outputs": [
    {
     "name": "stdout",
     "output_type": "stream",
     "text": [
      "1.250796927910602e-15"
     ]
    }
   ],
   "source": [
    "show(stdout, \"text/plain\", opnorm(P_l' * P_l - I, 1))"
   ]
  },
  {
   "cell_type": "code",
   "execution_count": 1553,
   "id": "91f3b132",
   "metadata": {},
   "outputs": [
    {
     "data": {
      "text/plain": [
       "SVD{Float64, Float64, Matrix{Float64}, Vector{Float64}}\n",
       "U factor:\n",
       "7×5 Matrix{Float64}:\n",
       " -0.583482      0.201923     -0.674941     -0.333017     -0.228757\n",
       " -0.759033      0.101256      0.374791      0.403649      0.331986\n",
       " -0.258699     -0.293594      0.555614     -0.456203     -0.5745\n",
       "  0.125597      0.885321      0.229969      0.104557     -0.369613\n",
       " -0.0267895    -0.281039     -0.205897      0.71212      -0.608926\n",
       " -5.47586e-17   1.38337e-17  -3.76331e-17   1.15257e-17   1.09272e-16\n",
       " -9.46893e-18   9.13488e-19  -2.92591e-17  -4.8805e-17   -9.13965e-17\n",
       "singular values:\n",
       "5-element Vector{Float64}:\n",
       " 3.594459797904591\n",
       " 3.0495938550862745\n",
       " 2.1247434192987416\n",
       " 1.2410508568569403\n",
       " 0.676137889769167\n",
       "Vt factor:\n",
       "5×5 Matrix{Float64}:\n",
       "  0.287809  -0.805102  -0.49147       0.150057   -0.0701218\n",
       " -0.117396   0.206797  -0.0930061     0.738434   -0.624113\n",
       "  0.56321   -0.220933   0.729258     -0.0259934  -0.318575\n",
       "  0.475759   0.21826   -0.000260645   0.558417    0.643573\n",
       "  0.59986    0.461083  -0.466893     -0.345965   -0.299816"
      ]
     },
     "execution_count": 1553,
     "metadata": {},
     "output_type": "execute_result"
    }
   ],
   "source": [
    "U, S, V = svd(B)"
   ]
  },
  {
   "cell_type": "code",
   "execution_count": 1554,
   "id": "86ad59a8",
   "metadata": {},
   "outputs": [
    {
     "data": {
      "text/plain": [
       "7×5 Matrix{Float64}:\n",
       "  0.374733    0.0283601  -0.151169   0.384639   0.812218\n",
       "  0.0523573   0.114034    0.340185  -0.745482   0.386066\n",
       " -0.421971    0.228283   -0.468219  -0.36177    0.187661\n",
       "  0.165136   -0.879591   -0.142644  -0.290408   0.089169\n",
       " -0.696761   -0.343005   -0.123147   0.231219   0.18615\n",
       "  0.405383   -0.0547931  -0.483124  -0.107244  -0.329013\n",
       "  0.0411434   0.199358   -0.61096   -0.127008   0.0720116"
      ]
     },
     "execution_count": 1554,
     "metadata": {},
     "output_type": "execute_result"
    }
   ],
   "source": [
    "P_l' * U"
   ]
  },
  {
   "cell_type": "code",
   "execution_count": 1555,
   "id": "dbb365ea",
   "metadata": {},
   "outputs": [
    {
     "data": {
      "text/plain": [
       "5×5 Matrix{Float64}:\n",
       "  0.287809  -0.117396   0.56321    0.475759   0.59986\n",
       "  0.543724  -0.593586  -0.136528  -0.546967   0.184952\n",
       "  0.379297  -0.341652  -0.261186   0.640119  -0.511309\n",
       " -0.633936  -0.585519  -0.322301   0.198805   0.334502\n",
       " -0.2753    -0.41751    0.701469  -0.158757  -0.48232"
      ]
     },
     "execution_count": 1555,
     "metadata": {},
     "output_type": "execute_result"
    }
   ],
   "source": [
    "P_r' * V  "
   ]
  },
  {
   "cell_type": "code",
   "execution_count": 1556,
   "id": "bcebca1b",
   "metadata": {},
   "outputs": [
    {
     "data": {
      "text/plain": [
       "SVD{Float64, Float64, Matrix{Float64}, Vector{Float64}}\n",
       "U factor:\n",
       "7×5 Matrix{Float64}:\n",
       " -0.374733   -0.0283601   0.151169  -0.384639  -0.812218\n",
       " -0.0523573  -0.114034   -0.340185   0.745482  -0.386066\n",
       "  0.421971   -0.228283    0.468219   0.36177   -0.187661\n",
       " -0.165136    0.879591    0.142644   0.290408  -0.089169\n",
       "  0.696761    0.343005    0.123147  -0.231219  -0.18615\n",
       " -0.405383    0.0547931   0.483124   0.107244   0.329013\n",
       " -0.0411434  -0.199358    0.61096    0.127008  -0.0720116\n",
       "singular values:\n",
       "5-element Vector{Float64}:\n",
       " 3.5944597979045896\n",
       " 3.049593855086275\n",
       " 2.124743419298743\n",
       " 1.2410508568569398\n",
       " 0.6761378897691668\n",
       "Vt factor:\n",
       "5×5 Matrix{Float64}:\n",
       " -0.287809  -0.543724  -0.379297   0.633936   0.2753\n",
       "  0.117396   0.593586   0.341652   0.585519   0.41751\n",
       " -0.56321    0.136528   0.261186   0.322301  -0.701469\n",
       " -0.475759   0.546967  -0.640119  -0.198805   0.158757\n",
       " -0.59986   -0.184952   0.511309  -0.334502   0.48232"
      ]
     },
     "execution_count": 1556,
     "metadata": {},
     "output_type": "execute_result"
    }
   ],
   "source": [
    "svd(A)"
   ]
  },
  {
   "cell_type": "code",
   "execution_count": 1557,
   "id": "f71923b8",
   "metadata": {
    "scrolled": true
   },
   "outputs": [
    {
     "data": {
      "text/plain": [
       "5×5 Matrix{Float64}:\n",
       "  3.59446       1.77351e-16   4.61288e-17   7.36378e-16  -3.86466e-16\n",
       "  2.47131e-16   3.04959       3.36971e-16   1.12335e-16  -7.3393e-16\n",
       "  2.06903e-16  -7.03992e-16   2.12474       4.41162e-16   5.11039e-16\n",
       " -1.075e-15    -5.28849e-16  -2.7659e-16    1.24105       2.86604e-16\n",
       " -5.06795e-16   2.70131e-18  -2.99855e-16  -2.24255e-17   0.676138"
      ]
     },
     "execution_count": 1557,
     "metadata": {},
     "output_type": "execute_result"
    }
   ],
   "source": [
    "U' * P_l * A * P_r' * V   "
   ]
  },
  {
   "cell_type": "code",
   "execution_count": 1558,
   "id": "8e8b5b11",
   "metadata": {},
   "outputs": [
    {
     "name": "stdout",
     "output_type": "stream",
     "text": [
      "7×5 Matrix{Float64}:\n",
      " -1.77301       1.9712       1.11022e-16   0.0           1.11022e-16\n",
      "  2.77556e-17   2.29733      1.78797       0.0           0.0\n",
      " -2.22045e-16  -5.55112e-17  1.58271      -1.01315       0.0\n",
      "  5.55112e-17   0.0          0.0           2.20764      -1.71391\n",
      " -1.11022e-16   0.0          0.0           2.22045e-16   1.37324\n",
      " -5.55112e-17   2.22045e-16  0.0          -1.38778e-17   0.0\n",
      " -1.11022e-16   0.0          0.0          -1.38778e-17   0.0"
     ]
    }
   ],
   "source": [
    "show(stdout, \"text/plain\", B)"
   ]
  },
  {
   "cell_type": "code",
   "execution_count": null,
   "id": "216b29ac",
   "metadata": {},
   "outputs": [],
   "source": []
  },
  {
   "cell_type": "code",
   "execution_count": null,
   "id": "8af81e85",
   "metadata": {},
   "outputs": [],
   "source": []
  },
  {
   "cell_type": "code",
   "execution_count": null,
   "id": "e3a64bc3",
   "metadata": {},
   "outputs": [],
   "source": []
  },
  {
   "cell_type": "code",
   "execution_count": 1559,
   "id": "c38571cb",
   "metadata": {},
   "outputs": [
    {
     "data": {
      "text/plain": [
       "svd_golub_reinsh! (generic function with 3 methods)"
      ]
     },
     "execution_count": 1559,
     "metadata": {},
     "output_type": "execute_result"
    }
   ],
   "source": [
    "function svd_golub_reinsh!(B, maxiter = 80, eps=1e-12)\n",
    "    \"\"\"Computes the Singular value decomposition of a bidiagonal matrix. Based on \n",
    "    https://www.cs.utexas.edu/~inderjit/public_papers/HLA_SVD.pdf\n",
    "    \n",
    "    Returns  \n",
    "    U: Left singular vector matrix\n",
    "    S: Singular values matrix\n",
    "    Vt: Right singular vector matrix\n",
    "    \"\"\"\n",
    "    \n",
    "    function golub_kahan_step!(B, U, V, l, k)\n",
    "        # Considering B22 -> (l:k x l:k)\n",
    "        \n",
    "        # Step 1: compute appropriate shift\n",
    "        \n",
    "        if k > 2\n",
    "            a, b, d = B[k-1, k-1]^2 + B[k-2, k-1]^2, B[k-1, k-1] * B[k-1, k], B[k, k]^2 + B[k-1, k]^2\n",
    "            t, r = - a - d, a * d - b^2\n",
    "            s_1, s_2 = 0.5 * (-t + sqrt(t^2 -4 * r)), 0.5 * (-t - sqrt(t^2 -4 * r))\n",
    "            if abs(B[k, k]^2 + B[k-1, k]^2 - s_1) < abs(B[k, k]^2 + B[k-1, k]^2 - s_2)\n",
    "                s = s_1 \n",
    "            else\n",
    "                s = s_2 \n",
    "            end\n",
    "        else\n",
    "           s = B[2, 2]^2 + B[1, 2]^2 \n",
    "        end\n",
    "        \n",
    "        # Step 2: Computing right Givens Rotations\n",
    "        alpha, beta = B[l, l]^2-s, B[l, l] * B[l, l + 1]\n",
    "        v = [alpha;beta]\n",
    "        for p = l:k-1\n",
    "            # Right rotation\n",
    "            G = givens_rotation(v)\n",
    "            B[:, p:p+1] = B[:, p:p+1] * G'\n",
    "            \n",
    "            # Left rotation\n",
    "            alpha, beta = B[p, p], B[p + 1, p] \n",
    "            v = [alpha; beta]\n",
    "            G = givens_rotation(v)\n",
    "            B[p:p+1, :] = G * B[p:p+1, :] \n",
    "            \n",
    "            # Updating alpha, beta and v\n",
    "            if p < k -1 \n",
    "                alpha, beta = B[p, p+1], B[p, p+2]\n",
    "                v = [alpha;beta]\n",
    "            end\n",
    "        end\n",
    "    end\n",
    "    \n",
    "    m, n = size(B)\n",
    "    U = zeros(m, m) + I\n",
    "    V = zeros(n, n) + I\n",
    "    maxiter_ = maxiter * log2(n * m) \n",
    "    \n",
    "    for iters = 1:maxiter\n",
    "        \n",
    "        # Step 1 of main loop\n",
    "        # Find l and k such that matrix can be blocked as B11, B22 and B33 (diag) \n",
    "        \n",
    "        k = n\n",
    "        for j = n:-1:2  \n",
    "            #print(abs(B[j-1, j]), \" \", abs(B[j-1, j]) < eps, \"\\n\")\n",
    "            k = abs(B[j-1, j]) < eps * (abs(B[j, j]) + abs(B[j-1, j-1]))  ? j-1 : k\n",
    "        end\n",
    "        #print(\"After scan k = \", k, \"\\n\")\n",
    "        \n",
    "        \n",
    "        #show(stdout, \"text/plain\", B)\n",
    "        #print(\"\\n---------------\\n\")\n",
    "        \n",
    "        if k == 1\n",
    "           # Diagonal matrix, convergence obtained\n",
    "           return \n",
    "        end\n",
    "        \n",
    "        if k == n \n",
    "            # B22 should be the full matrix \n",
    "            golub_kahan_step!(B, U, V, 1, n)\n",
    "    \n",
    "        else \n",
    "            # B33 (diagonal) found, have to check if where B22 starts (l) and ends (k)\n",
    "            l = k\n",
    "            for j = k:-1:2\n",
    "                l = B[j-1, j] == 0 ? j-1 : l \n",
    "            end\n",
    "            \n",
    "            l = (l == k) ? 1 : l\n",
    "            \n",
    "            golub_kahan_step!(B, U, V, l, k)\n",
    "        end\n",
    "    end\n",
    "    \n",
    "end"
   ]
  },
  {
   "cell_type": "code",
   "execution_count": null,
   "id": "82d71034",
   "metadata": {},
   "outputs": [],
   "source": []
  },
  {
   "cell_type": "code",
   "execution_count": 1560,
   "id": "02087883",
   "metadata": {},
   "outputs": [
    {
     "data": {
      "text/plain": [
       "7×5 Matrix{Float64}:\n",
       " -1.77301       1.9712       1.11022e-16   0.0           1.11022e-16\n",
       "  2.77556e-17   2.29733      1.78797       0.0           0.0\n",
       " -2.22045e-16  -5.55112e-17  1.58271      -1.01315       0.0\n",
       "  5.55112e-17   0.0          0.0           2.20764      -1.71391\n",
       " -1.11022e-16   0.0          0.0           2.22045e-16   1.37324\n",
       " -5.55112e-17   2.22045e-16  0.0          -1.38778e-17   0.0\n",
       " -1.11022e-16   0.0          0.0          -1.38778e-17   0.0"
      ]
     },
     "execution_count": 1560,
     "metadata": {},
     "output_type": "execute_result"
    }
   ],
   "source": [
    "B"
   ]
  },
  {
   "cell_type": "code",
   "execution_count": 1561,
   "id": "70eb8121",
   "metadata": {},
   "outputs": [],
   "source": [
    "svd_golub_reinsh!(B, 30)"
   ]
  },
  {
   "cell_type": "code",
   "execution_count": null,
   "id": "cdc346e0",
   "metadata": {},
   "outputs": [],
   "source": []
  },
  {
   "cell_type": "code",
   "execution_count": null,
   "id": "5e896b14",
   "metadata": {},
   "outputs": [],
   "source": []
  },
  {
   "cell_type": "code",
   "execution_count": null,
   "id": "89502458",
   "metadata": {},
   "outputs": [],
   "source": []
  },
  {
   "cell_type": "code",
   "execution_count": 1562,
   "id": "baf34ac1",
   "metadata": {},
   "outputs": [
    {
     "data": {
      "text/plain": [
       "7×5 Matrix{Float64}:\n",
       " -3.59446      -4.24742e-17  -1.02123e-19   9.72358e-19   4.11563e-17\n",
       "  7.37682e-22   3.04959       8.04182e-18  -1.57628e-21   5.69212e-17\n",
       " -9.43853e-17   1.41274e-18   2.12474       9.40894e-19   3.52617e-17\n",
       "  1.11126e-16   3.08175e-17   2.04154e-18   0.676138     -2.35405e-16\n",
       "  1.22502e-16   8.22969e-17   1.35178e-16   1.54416e-17   1.24105\n",
       " -1.96828e-16   4.21872e-17   7.99606e-17   7.38832e-17   1.4304e-17\n",
       " -3.40357e-17   2.78577e-18   6.21681e-17  -6.17966e-17  -6.05695e-17"
      ]
     },
     "execution_count": 1562,
     "metadata": {},
     "output_type": "execute_result"
    }
   ],
   "source": [
    "B"
   ]
  },
  {
   "cell_type": "code",
   "execution_count": null,
   "id": "be89b3c4",
   "metadata": {},
   "outputs": [],
   "source": []
  },
  {
   "cell_type": "code",
   "execution_count": null,
   "id": "c056a04c",
   "metadata": {},
   "outputs": [],
   "source": []
  },
  {
   "cell_type": "code",
   "execution_count": null,
   "id": "1f743a85",
   "metadata": {},
   "outputs": [],
   "source": []
  },
  {
   "cell_type": "code",
   "execution_count": null,
   "id": "32cb44a1",
   "metadata": {},
   "outputs": [],
   "source": []
  },
  {
   "cell_type": "code",
   "execution_count": null,
   "id": "2ebd89f7",
   "metadata": {},
   "outputs": [],
   "source": []
  },
  {
   "cell_type": "code",
   "execution_count": null,
   "id": "998af721",
   "metadata": {},
   "outputs": [],
   "source": []
  },
  {
   "cell_type": "code",
   "execution_count": null,
   "id": "f82947a1",
   "metadata": {},
   "outputs": [],
   "source": []
  },
  {
   "cell_type": "code",
   "execution_count": null,
   "id": "acb87ce8",
   "metadata": {},
   "outputs": [],
   "source": []
  },
  {
   "cell_type": "code",
   "execution_count": null,
   "id": "212ae2ff",
   "metadata": {},
   "outputs": [],
   "source": []
  },
  {
   "cell_type": "code",
   "execution_count": null,
   "id": "a6964f15",
   "metadata": {},
   "outputs": [],
   "source": []
  },
  {
   "cell_type": "code",
   "execution_count": null,
   "id": "a5ee59f1",
   "metadata": {},
   "outputs": [],
   "source": []
  },
  {
   "cell_type": "code",
   "execution_count": null,
   "id": "d3f04b3a",
   "metadata": {},
   "outputs": [],
   "source": []
  },
  {
   "cell_type": "code",
   "execution_count": 802,
   "id": "d679607f",
   "metadata": {},
   "outputs": [
    {
     "data": {
      "text/plain": [
       "givens_rotation (generic function with 1 method)"
      ]
     },
     "execution_count": 802,
     "metadata": {},
     "output_type": "execute_result"
    }
   ],
   "source": [
    "function givens_rotation(v)\n",
    "    a, b = v[1], v[2]\n",
    "    if b == 0\n",
    "        c = 1\n",
    "        s = 0\n",
    "    else\n",
    "        if abs(b) > abs(a)\n",
    "            tau = -a/b\n",
    "            s = 1.0/sqrt(1.0+tau*tau)\n",
    "            c = s*tau\n",
    "        else\n",
    "            tau = -b/a\n",
    "            c = 1.0/sqrt(1.0+tau*tau)\n",
    "            s = c*tau\n",
    "        end\n",
    "    end\n",
    "    return [c -s;s c]\n",
    "end"
   ]
  },
  {
   "cell_type": "code",
   "execution_count": 803,
   "id": "0f13d10d",
   "metadata": {},
   "outputs": [
    {
     "data": {
      "text/plain": [
       "3×3 Matrix{Float64}:\n",
       " 1.0   3.0   4.0\n",
       " 4.0  -1.0   8.0\n",
       " 7.0   8.0  -1.0"
      ]
     },
     "execution_count": 803,
     "metadata": {},
     "output_type": "execute_result"
    }
   ],
   "source": [
    "A = [1.0 3 4;4 -1 8;7 8 -1]"
   ]
  },
  {
   "cell_type": "code",
   "execution_count": 804,
   "id": "81b0f829",
   "metadata": {},
   "outputs": [
    {
     "data": {
      "text/plain": [
       "2×2 Matrix{Float64}:\n",
       " -0.242536  -0.970143\n",
       "  0.970143  -0.242536"
      ]
     },
     "execution_count": 804,
     "metadata": {},
     "output_type": "execute_result"
    }
   ],
   "source": [
    "G = givens_rotation(A[[1,2], 1])"
   ]
  },
  {
   "cell_type": "code",
   "execution_count": 805,
   "id": "9886036d",
   "metadata": {},
   "outputs": [
    {
     "data": {
      "text/plain": [
       "3×3 Matrix{Float64}:\n",
       " -4.12311  0.242536  -8.73128\n",
       "  0.0      3.15296    1.94029\n",
       "  7.0      8.0       -1.0"
      ]
     },
     "execution_count": 805,
     "metadata": {},
     "output_type": "execute_result"
    }
   ],
   "source": [
    "A[[1,2], :] = G * A[[1,2], :];\n",
    "A"
   ]
  },
  {
   "cell_type": "code",
   "execution_count": 806,
   "id": "d9a7a0f1",
   "metadata": {},
   "outputs": [
    {
     "data": {
      "text/plain": [
       "2×2 Matrix{Float64}:\n",
       " 0.507519  -0.86164\n",
       " 0.86164    0.507519"
      ]
     },
     "execution_count": 806,
     "metadata": {},
     "output_type": "execute_result"
    }
   ],
   "source": [
    "G = givens_rotation(A[[1,3], 1])"
   ]
  },
  {
   "cell_type": "code",
   "execution_count": 807,
   "id": "be703efe",
   "metadata": {},
   "outputs": [
    {
     "data": {
      "text/plain": [
       "3×3 Matrix{Float64}:\n",
       " -8.12404      -6.77003  -3.56965\n",
       "  0.0           3.15296   1.94029\n",
       " -3.33067e-16   4.26913  -8.03075"
      ]
     },
     "execution_count": 807,
     "metadata": {},
     "output_type": "execute_result"
    }
   ],
   "source": [
    "A[[1,3], :] = G * A[[1,3], :];\n",
    "A\n"
   ]
  },
  {
   "cell_type": "code",
   "execution_count": 808,
   "id": "9964f8b9",
   "metadata": {},
   "outputs": [
    {
     "data": {
      "text/plain": [
       "2×2 Matrix{Float64}:\n",
       " -0.594089  -0.8044\n",
       "  0.8044    -0.594089"
      ]
     },
     "execution_count": 808,
     "metadata": {},
     "output_type": "execute_result"
    }
   ],
   "source": [
    "G = givens_rotation(A[[2,3], 2])"
   ]
  },
  {
   "cell_type": "code",
   "execution_count": 809,
   "id": "3dbfc0ea",
   "metadata": {},
   "outputs": [
    {
     "data": {
      "text/plain": [
       "3×3 Matrix{Float64}:\n",
       " -8.12404      -6.77003      -3.56965\n",
       "  2.67919e-16  -5.30723       5.30723\n",
       "  1.97871e-16   2.10348e-16   6.33174"
      ]
     },
     "execution_count": 809,
     "metadata": {},
     "output_type": "execute_result"
    }
   ],
   "source": [
    "A[[2,3], :] = G * A[[2,3], :];\n",
    "A\n"
   ]
  },
  {
   "cell_type": "code",
   "execution_count": 810,
   "id": "b4c6336b",
   "metadata": {},
   "outputs": [
    {
     "data": {
      "text/plain": [
       "LinearAlgebra.QRCompactWY{Float64, Matrix{Float64}, Matrix{Float64}}\n",
       "Q factor: 3×3 LinearAlgebra.QRCompactWYQ{Float64, Matrix{Float64}, Matrix{Float64}}\n",
       "R factor:\n",
       "3×3 Matrix{Float64}:\n",
       " 8.12404  6.77003   3.56965\n",
       " 0.0      5.30723  -5.30723\n",
       " 0.0      0.0       6.33174"
      ]
     },
     "execution_count": 810,
     "metadata": {},
     "output_type": "execute_result"
    }
   ],
   "source": [
    "qr(A)"
   ]
  },
  {
   "cell_type": "code",
   "execution_count": null,
   "id": "a8b05392",
   "metadata": {},
   "outputs": [],
   "source": []
  },
  {
   "cell_type": "code",
   "execution_count": null,
   "id": "086ee794",
   "metadata": {},
   "outputs": [],
   "source": []
  }
 ],
 "metadata": {
  "@webio": {
   "lastCommId": null,
   "lastKernelId": null
  },
  "kernelspec": {
   "display_name": "Julia 1.10.0",
   "language": "julia",
   "name": "julia-1.10"
  },
  "language_info": {
   "file_extension": ".jl",
   "mimetype": "application/julia",
   "name": "julia",
   "version": "1.10.0"
  }
 },
 "nbformat": 4,
 "nbformat_minor": 5
}
