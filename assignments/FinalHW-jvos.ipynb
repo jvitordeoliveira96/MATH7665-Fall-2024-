{
 "cells": [
  {
   "cell_type": "code",
   "execution_count": 2045,
   "id": "6fa5b7c0",
   "metadata": {},
   "outputs": [],
   "source": [
    "using LinearAlgebra"
   ]
  },
  {
   "cell_type": "code",
   "execution_count": 2058,
   "id": "d3d9ec97",
   "metadata": {},
   "outputs": [
    {
     "data": {
      "text/plain": [
       "6×5 Matrix{Float64}:\n",
       " -0.0556791   1.20965    -0.627233  -2.07211     0.784232\n",
       "  0.868782    1.59782     1.72299   -0.126004   -0.209718\n",
       " -1.13304    -0.376706    0.180235  -0.179324   -0.0656792\n",
       " -0.880801   -0.884252    0.979094   0.0184356   0.602879\n",
       "  0.453685    0.383784    0.605255  -0.2663      0.164394\n",
       "  0.109713   -0.0315348  -0.939072   0.150204    1.2844"
      ]
     },
     "execution_count": 2058,
     "metadata": {},
     "output_type": "execute_result"
    }
   ],
   "source": [
    "# Example usage:\n",
    "A = randn(6,5)"
   ]
  },
  {
   "cell_type": "code",
   "execution_count": 2047,
   "id": "90fc72a5",
   "metadata": {},
   "outputs": [
    {
     "data": {
      "text/plain": [
       "bidiagonalize (generic function with 2 methods)"
      ]
     },
     "execution_count": 2047,
     "metadata": {},
     "output_type": "execute_result"
    }
   ],
   "source": [
    "function householder(x)\n",
    "    \"\"\"Computes the Householder transformation for input vector x\n",
    "    \n",
    "    Returns \n",
    "    beta: float, the multiplier for future Householder reflection\n",
    "    v: vector, the householder reflector vector  \n",
    "    \"\"\"\n",
    "    sigma = dot(x[2:end],x[2:end])\n",
    "    v = copy(x)\n",
    "\n",
    "    if sigma == 0\n",
    "        beta = 0\n",
    "        return beta, v\n",
    "    end\n",
    "\n",
    "    sq = sqrt(x[1]^2 + sigma)\n",
    "    if x[1] > 0\n",
    "        v[1] += sq\n",
    "    else\n",
    "        v[1] -= sq\n",
    "    end\n",
    "\n",
    "    beta = 2.0 / (v[1]^2 + sigma)\n",
    "\n",
    "    return beta, v\n",
    "end\n",
    "\n",
    "\n",
    "function apply_householder_col!(B, H, cidx, m)\n",
    "    \"\"\"Apply Householder reflection from the left (B<- H * B)\n",
    "    \n",
    "    Returns (inplace) \n",
    "    B: input matrix\n",
    "    H: householder vectors v  \n",
    "    \"\"\"\n",
    "    beta, v = householder(B[cidx:m, cidx])\n",
    "    B[cidx:m, cidx:end] = B[cidx:m, cidx:end] - beta * v * (v' * B[cidx:m, cidx:end])\n",
    "    H[cidx:end, cidx] = v / norm(v)\n",
    "\n",
    "    return beta\n",
    "end\n",
    "\n",
    "function apply_householder_row!(B, H, ridx, n)\n",
    "    \"\"\"Apply Householder reflection from the right (B<- B * H)\n",
    "    \n",
    "    Returns (inplace) \n",
    "    B: input matrix\n",
    "    H: householder vectors v  \n",
    "    \"\"\"\n",
    "    beta, v = householder(B[ridx, ridx+1:n])\n",
    "    B[ridx:end, ridx+1:n] = B[ridx:end, ridx+1:n] - (B[ridx:end, ridx+1:n] * v) * (beta * v')\n",
    "    H[ridx, ridx+1:end] = v / norm(v)\n",
    "\n",
    "end\n",
    "\n",
    "function update_col_sim!(U, H, cidx, m)\n",
    "    \"\"\"Update column unitary transform (U<- H * U)\n",
    "    \n",
    "    Returns (inplace) \n",
    "    U: input matrix  \n",
    "    \"\"\"\n",
    "    v = H[cidx:end, cidx]\n",
    "    if cidx > 1\n",
    "        v = [zeros(cidx-1);v]\n",
    "    end\n",
    "    #U[cidx:end, cidx:end] = U[cidx:end, cidx:end] - 2 * v * (v' * U[cidx:end, cidx:end])\n",
    "    #show(stdout, \"text/plain\", I - 2 * v * v')\n",
    "    U[:,:] = U - 2 * v * (v' * U)\n",
    "    \n",
    "    return U\n",
    "    \n",
    "end\n",
    "\n",
    "function update_row_sim!(V, H, ridx, n)\n",
    "    \"\"\"Update row unitary transform (V<- V * H)\n",
    "    \n",
    "    Returns (inplace) \n",
    "    H: input matrix  \n",
    "    \"\"\"\n",
    "    v = H[ridx, ridx+1:end]\n",
    "    v = [zeros(ridx);v]\n",
    "    \n",
    "    \n",
    "    #V[ridx:end, ridx+1:end] = V[ridx:end, ridx+1:end] - (V[ridx:end, ridx+1:n] * v) * (2 * v')\n",
    "    #show(stdout, \"text/plain\", I - 2 * v * v')\n",
    "\n",
    "    V[:,:] = V - 2 * (V * v) * v'\n",
    "    \n",
    "    return V\n",
    "    \n",
    "end\n",
    "\n",
    "\n",
    "function bidiagonalize(A, return_orth = false)\n",
    "    \"\"\"Performs matrix bidiagonalization (for future singular value decomposition computation)\n",
    "    \n",
    "    Returns (inplace) \n",
    "    B: bidiagonal matrix with same singular values as input matrix (B = Q_r * A * Q_l)\n",
    "    \"\"\"\n",
    "    m, n = size(A)\n",
    "    B = copy(A)\n",
    "    H = copy(A)  # v vectors in householder\n",
    "    \n",
    "    if return_orth\n",
    "        U = zeros(m, m) + I\n",
    "        V = zeros(n, n) + I\n",
    "    end\n",
    "    \n",
    "    for k = 1:min(m,n)\n",
    "        \n",
    "        # column\n",
    "        \n",
    "        apply_householder_col!(B, H, k, m)\n",
    "    \n",
    "        \n",
    "        if return_orth\n",
    "            update_col_sim!(U, H, k, m)\n",
    "        end\n",
    "        \n",
    "        \n",
    "        # row\n",
    "        if k < n\n",
    "            apply_householder_row!(B, H, k, n) \n",
    "            \n",
    "            if return_orth \n",
    "                update_row_sim!(V, H, k, n)\n",
    "                #print(\"\\ni = \",k,\"\\n\")\n",
    "                #show(stdout, \"text/plain\", B)\n",
    "                #print(\"\\n\\n\")\n",
    "                #show(stdout, \"text/plain\", U * A * V)\n",
    "            end\n",
    "        end\n",
    "        \n",
    "                \n",
    "    end\n",
    "    \n",
    "    if return_orth\n",
    "        V[:, end] = -V[:, end] \n",
    "        U[end, :] = -U[end, :]\n",
    "        return U, B, V'\n",
    "    else\n",
    "        return B, H\n",
    "    end\n",
    "end\n",
    "\n"
   ]
  },
  {
   "cell_type": "code",
   "execution_count": null,
   "id": "9748442d",
   "metadata": {},
   "outputs": [],
   "source": []
  },
  {
   "cell_type": "code",
   "execution_count": 2054,
   "id": "c50b9c9c",
   "metadata": {},
   "outputs": [],
   "source": [
    "B, H = bidiagonalize(A);"
   ]
  },
  {
   "cell_type": "code",
   "execution_count": 2055,
   "id": "e5ec0a3e",
   "metadata": {},
   "outputs": [
    {
     "name": "stdout",
     "output_type": "stream",
     "text": [
      "5×6 Matrix{Float64}:\n",
      " -1.92997   2.52629       0.0           0.0           1.11022e-16   0.0\n",
      "  0.0       2.69382      -2.4906        0.0           0.0           0.0\n",
      "  0.0       4.44089e-16   1.45104       2.103         0.0          -2.22045e-16\n",
      "  0.0       4.44089e-16   0.0           0.688174     -1.86983       0.0\n",
      "  0.0      -5.55112e-17  -1.11022e-16  -5.55112e-17  -2.4955        1.19206"
     ]
    }
   ],
   "source": [
    "show(stdout, \"text/plain\", B)"
   ]
  },
  {
   "cell_type": "code",
   "execution_count": 2056,
   "id": "6230d674",
   "metadata": {},
   "outputs": [
    {
     "name": "stdout",
     "output_type": "stream",
     "text": [
      "5×6 Matrix{Float64}:\n",
      "  0.756867  -0.719782   -0.599406   0.276446  -0.208235  -0.0533098\n",
      " -0.378184  -0.720709    0.79136   -0.447529   0.178424  -0.376341\n",
      "  0.28968    0.442272   -0.918553  -0.713967   0.436192   0.547711\n",
      " -0.18185    0.530467   -0.194014  -0.975539   0.888434   0.459004\n",
      " -0.408835  -0.0598244  -0.34441    0.219825  -1.0        1.0"
     ]
    }
   ],
   "source": [
    "show(stdout, \"text/plain\", H)"
   ]
  },
  {
   "cell_type": "code",
   "execution_count": 2016,
   "id": "c29fc561",
   "metadata": {},
   "outputs": [],
   "source": [
    "_, S1, _ = svd(B);"
   ]
  },
  {
   "cell_type": "code",
   "execution_count": 2017,
   "id": "57d80223",
   "metadata": {},
   "outputs": [
    {
     "data": {
      "text/plain": [
       "5-element Vector{Float64}:\n",
       " 3.3921182626848583\n",
       " 2.8922258439481836\n",
       " 1.557223709872817\n",
       " 1.3125433231084516\n",
       " 0.13476574149231543"
      ]
     },
     "execution_count": 2017,
     "metadata": {},
     "output_type": "execute_result"
    }
   ],
   "source": [
    "S1"
   ]
  },
  {
   "cell_type": "code",
   "execution_count": 2018,
   "id": "b11cbb27",
   "metadata": {},
   "outputs": [],
   "source": [
    "_, S2, _ = svd(A);"
   ]
  },
  {
   "cell_type": "code",
   "execution_count": 2019,
   "id": "48fd1c4c",
   "metadata": {},
   "outputs": [
    {
     "data": {
      "text/plain": [
       "5-element Vector{Float64}:\n",
       " 3.3921182626848587\n",
       " 2.892225843948184\n",
       " 1.5572237098728174\n",
       " 1.3125433231084522\n",
       " 0.13476574149231518"
      ]
     },
     "execution_count": 2019,
     "metadata": {},
     "output_type": "execute_result"
    }
   ],
   "source": [
    "S2"
   ]
  },
  {
   "cell_type": "code",
   "execution_count": 2020,
   "id": "f493fdc0",
   "metadata": {},
   "outputs": [],
   "source": [
    "P_l, B, P_r = bidiagonalize(A, true);"
   ]
  },
  {
   "cell_type": "code",
   "execution_count": 2021,
   "id": "da87be52",
   "metadata": {},
   "outputs": [],
   "source": [
    "# Checking correctness"
   ]
  },
  {
   "cell_type": "code",
   "execution_count": 2022,
   "id": "c859b79f",
   "metadata": {},
   "outputs": [
    {
     "name": "stdout",
     "output_type": "stream",
     "text": [
      "3.935920311683696e-16"
     ]
    }
   ],
   "source": [
    "show(stdout, \"text/plain\", opnorm(B - P_l * A * P_r', 1)/opnorm(A, 1))"
   ]
  },
  {
   "cell_type": "code",
   "execution_count": 2023,
   "id": "22ea2285",
   "metadata": {},
   "outputs": [
    {
     "name": "stdout",
     "output_type": "stream",
     "text": [
      "1.1254685478910377e-15"
     ]
    }
   ],
   "source": [
    "show(stdout, \"text/plain\", opnorm(P_r' * P_r -  I, 1))"
   ]
  },
  {
   "cell_type": "code",
   "execution_count": 2024,
   "id": "d5f5026e",
   "metadata": {},
   "outputs": [
    {
     "name": "stdout",
     "output_type": "stream",
     "text": [
      "2.6251850054122525e-15"
     ]
    }
   ],
   "source": [
    "show(stdout, \"text/plain\", opnorm(P_l' * P_l - I, 1))"
   ]
  },
  {
   "cell_type": "code",
   "execution_count": 2025,
   "id": "91f3b132",
   "metadata": {},
   "outputs": [
    {
     "data": {
      "text/plain": [
       "SVD{Float64, Float64, Matrix{Float64}, Vector{Float64}}\n",
       "U factor:\n",
       "6×5 Matrix{Float64}:\n",
       " -0.133048      0.797278     -0.303782      0.497759     -0.0812264\n",
       " -0.224333      0.552684      0.359729     -0.699896      0.157973\n",
       " -0.88849      -0.201632      0.214735      0.165886     -0.310323\n",
       "  0.3751        0.133172      0.539728      0.0963275    -0.735513\n",
       "  0.0431019     0.0222942     0.663999      0.474957      0.575471\n",
       " -4.73456e-18   4.67675e-18  -6.92191e-17  -2.28831e-17  -3.66973e-16\n",
       "singular values:\n",
       "5-element Vector{Float64}:\n",
       " 3.3921182626848583\n",
       " 2.8922258439481836\n",
       " 1.557223709872817\n",
       " 1.3125433231084516\n",
       " 0.13476574149231543\n",
       "Vt factor:\n",
       "5×5 Matrix{Float64}:\n",
       "  0.0497057   0.181736    0.339433  -0.913747   0.119804\n",
       " -0.349339   -0.871982   -0.212066  -0.264283   0.0528359\n",
       "  0.247218    0.0747703  -0.462989  -0.0325799  0.847274\n",
       " -0.48059    -0.0207298   0.655145   0.280079   0.510827\n",
       "  0.763812   -0.447882    0.442989   0.125361   0.063549"
      ]
     },
     "execution_count": 2025,
     "metadata": {},
     "output_type": "execute_result"
    }
   ],
   "source": [
    "U, S, V = svd(B)"
   ]
  },
  {
   "cell_type": "code",
   "execution_count": 2026,
   "id": "86ad59a8",
   "metadata": {},
   "outputs": [
    {
     "data": {
      "text/plain": [
       "6×5 Matrix{Float64}:\n",
       " -0.0675653   0.0300736   0.236932  -0.392119     0.631531\n",
       " -0.251086   -0.0467461  -0.203986   0.631131     0.666124\n",
       "  0.638897    0.670367    0.1446     0.00829805   0.237841\n",
       " -0.459362    0.617668    0.243812   0.372848    -0.287857\n",
       " -0.442944    0.401553   -0.531767  -0.518768     0.0926575\n",
       "  0.342035    0.0689934  -0.73425    0.199279    -0.0971244"
      ]
     },
     "execution_count": 2026,
     "metadata": {},
     "output_type": "execute_result"
    }
   ],
   "source": [
    "P_l' * U"
   ]
  },
  {
   "cell_type": "code",
   "execution_count": 2027,
   "id": "dbb365ea",
   "metadata": {},
   "outputs": [
    {
     "data": {
      "text/plain": [
       "5×5 Matrix{Float64}:\n",
       "  0.0497057  -0.349339   0.247218  -0.48059     0.763812\n",
       "  0.0970165   0.709489   0.172743  -0.658917   -0.15232\n",
       " -0.0496224  -0.511817   0.562204  -0.275513   -0.586174\n",
       "  0.963692   -0.153648  -0.186224  -0.0485072  -0.103233\n",
       "  0.238646    0.298367   0.747188   0.506559    0.19782"
      ]
     },
     "execution_count": 2027,
     "metadata": {},
     "output_type": "execute_result"
    }
   ],
   "source": [
    "P_r' * V  "
   ]
  },
  {
   "cell_type": "code",
   "execution_count": 2028,
   "id": "bcebca1b",
   "metadata": {},
   "outputs": [
    {
     "data": {
      "text/plain": [
       "SVD{Float64, Float64, Matrix{Float64}, Vector{Float64}}\n",
       "U factor:\n",
       "6×5 Matrix{Float64}:\n",
       "  0.0675653  -0.0300736  -0.236932   0.392119    -0.631531\n",
       "  0.251086    0.0467461   0.203986  -0.631131    -0.666124\n",
       " -0.638897   -0.670367   -0.1446    -0.00829805  -0.237841\n",
       "  0.459362   -0.617668   -0.243812  -0.372848     0.287857\n",
       "  0.442944   -0.401553    0.531767   0.518768    -0.0926575\n",
       " -0.342035   -0.0689934   0.73425   -0.199279     0.0971244\n",
       "singular values:\n",
       "5-element Vector{Float64}:\n",
       " 3.3921182626848587\n",
       " 2.892225843948184\n",
       " 1.5572237098728174\n",
       " 1.3125433231084522\n",
       " 0.13476574149231518\n",
       "Vt factor:\n",
       "5×5 Matrix{Float64}:\n",
       " -0.0497057  -0.0970165   0.0496224  -0.963692   -0.238646\n",
       "  0.349339   -0.709489    0.511817    0.153648   -0.298367\n",
       " -0.247218   -0.172743   -0.562204    0.186224   -0.747188\n",
       "  0.48059     0.658917    0.275513    0.0485072  -0.506559\n",
       " -0.763812    0.15232     0.586174    0.103233   -0.19782"
      ]
     },
     "execution_count": 2028,
     "metadata": {},
     "output_type": "execute_result"
    }
   ],
   "source": [
    "svd(A)"
   ]
  },
  {
   "cell_type": "code",
   "execution_count": 2029,
   "id": "f71923b8",
   "metadata": {
    "scrolled": true
   },
   "outputs": [
    {
     "data": {
      "text/plain": [
       "5×5 Matrix{Float64}:\n",
       "  3.39212      -7.42748e-16  -1.35001e-16   6.93551e-16   3.20631e-16\n",
       " -1.42396e-15   2.89223      -5.60633e-16   7.23825e-16  -4.15013e-16\n",
       "  9.87789e-16  -2.11759e-16   1.55722      -3.00769e-16   5.47506e-17\n",
       " -1.82116e-16   6.70759e-16  -6.09238e-16   1.31254      -9.41377e-17\n",
       "  4.82617e-16   4.24334e-16  -5.78599e-16  -4.99991e-16   0.134766"
      ]
     },
     "execution_count": 2029,
     "metadata": {},
     "output_type": "execute_result"
    }
   ],
   "source": [
    "U' * P_l * A * P_r' * V   "
   ]
  },
  {
   "cell_type": "code",
   "execution_count": 2030,
   "id": "8e8b5b11",
   "metadata": {},
   "outputs": [
    {
     "name": "stdout",
     "output_type": "stream",
     "text": [
      "6×5 Matrix{Float64}:\n",
      " -1.26727      -2.13674  -2.22045e-16   0.0       0.0\n",
      "  0.0          -1.48076  -1.44905       0.0       0.0\n",
      " -5.55112e-17   0.0      -0.930034      2.95287   5.55112e-17\n",
      "  0.0           0.0       0.0          -1.26883   0.943189\n",
      "  0.0           0.0       0.0           0.0       1.22038\n",
      " -5.55112e-17   0.0       0.0           0.0      -1.11022e-16"
     ]
    }
   ],
   "source": [
    "show(stdout, \"text/plain\", B)"
   ]
  },
  {
   "cell_type": "code",
   "execution_count": null,
   "id": "216b29ac",
   "metadata": {},
   "outputs": [],
   "source": []
  },
  {
   "cell_type": "code",
   "execution_count": null,
   "id": "8af81e85",
   "metadata": {},
   "outputs": [],
   "source": []
  },
  {
   "cell_type": "code",
   "execution_count": null,
   "id": "e3a64bc3",
   "metadata": {},
   "outputs": [],
   "source": []
  },
  {
   "cell_type": "code",
   "execution_count": 2031,
   "id": "c38571cb",
   "metadata": {},
   "outputs": [
    {
     "data": {
      "text/plain": [
       "svd_golub_reinsh! (generic function with 3 methods)"
      ]
     },
     "execution_count": 2031,
     "metadata": {},
     "output_type": "execute_result"
    }
   ],
   "source": [
    "function svd_golub_reinsh!(B, maxiter = 80, eps=1e-12)\n",
    "    \"\"\"Computes the Singular value decomposition of a bidiagonal matrix. Based on \n",
    "    https://www.cs.utexas.edu/~inderjit/public_papers/HLA_SVD.pdf\n",
    "    \n",
    "    Returns  \n",
    "    U: Left singular vector matrix\n",
    "    S: Singular values matrix\n",
    "    Vt: Right singular vector matrix\n",
    "    \"\"\"\n",
    "    \n",
    "    function golub_kahan_step!(B, U, V, l, k)\n",
    "        # Considering B22 -> (l:k x l:k)\n",
    "        \n",
    "        # Step 1: compute appropriate shift\n",
    "        \n",
    "        if k > 2\n",
    "            a, b, d = B[k-1, k-1]^2 + B[k-2, k-1]^2, B[k-1, k-1] * B[k-1, k], B[k, k]^2 + B[k-1, k]^2\n",
    "            t, r = - a - d, a * d - b^2\n",
    "            s_1, s_2 = 0.5 * (-t + sqrt(t^2 -4 * r)), 0.5 * (-t - sqrt(t^2 -4 * r))\n",
    "            if abs(B[k, k]^2 + B[k-1, k]^2 - s_1) < abs(B[k, k]^2 + B[k-1, k]^2 - s_2)\n",
    "                s = s_1 \n",
    "            else\n",
    "                s = s_2 \n",
    "            end\n",
    "        else\n",
    "           s = B[2, 2]^2 + B[1, 2]^2 \n",
    "        end\n",
    "        \n",
    "        # Step 2: Computing right Givens Rotations\n",
    "        alpha, beta = B[l, l]^2-s, B[l, l] * B[l, l + 1]\n",
    "        v = [alpha;beta]\n",
    "        for p = l:k-1\n",
    "            # Right rotation\n",
    "            G = givens_rotation(v)\n",
    "            B[:, p:p+1] = B[:, p:p+1] * G'\n",
    "            \n",
    "            # Left rotation\n",
    "            alpha, beta = B[p, p], B[p + 1, p] \n",
    "            v = [alpha; beta]\n",
    "            G = givens_rotation(v)\n",
    "            B[p:p+1, :] = G * B[p:p+1, :] \n",
    "            \n",
    "            # Updating alpha, beta and v\n",
    "            if p < k -1 \n",
    "                alpha, beta = B[p, p+1], B[p, p+2]\n",
    "                v = [alpha;beta]\n",
    "            end\n",
    "        end\n",
    "    end\n",
    "    \n",
    "    m, n = size(B)\n",
    "    \n",
    "    if (n > m)\n",
    "        # To be done \"fat\" matrices\n",
    "    end\n",
    "        \n",
    "    m, n = size(B)\n",
    "    print(m, \" \", n, \"\\n\")\n",
    "    \n",
    "    U = zeros(m, m) + I\n",
    "    V = zeros(n, n) + I\n",
    "    maxiter_ = maxiter * log2(n * m) \n",
    "    \n",
    "    for iters = 1:maxiter\n",
    "        \n",
    "        # Step 1 of main loop\n",
    "        # Find l and k such that matrix can be blocked as B11, B22 and B33 (diag) \n",
    "        \n",
    "        k = n\n",
    "        for j = n:-1:2  \n",
    "            #print(abs(B[j-1, j]), \" \", abs(B[j-1, j]) < eps, \"\\n\")\n",
    "            k = abs(B[j-1, j]) < eps * (abs(B[j, j]) + abs(B[j-1, j-1]))  ? j-1 : k\n",
    "        end\n",
    "        #print(\"After scan k = \", k, \"\\n\")\n",
    "        \n",
    "        \n",
    "        #show(stdout, \"text/plain\", B)\n",
    "        #print(\"\\n---------------\\n\")\n",
    "        \n",
    "        if k == 1\n",
    "           # Diagonal matrix, convergence obtained\n",
    "           return B\n",
    "        end\n",
    "        \n",
    "        if k == n \n",
    "            # B22 should be the full matrix \n",
    "            golub_kahan_step!(B, U, V, 1, n)\n",
    "    \n",
    "        else \n",
    "            # B33 (diagonal) found, have to check if where B22 starts (l) and ends (k)\n",
    "            l = k\n",
    "            for j = k:-1:2\n",
    "                l = B[j-1, j] == 0 ? j-1 : l \n",
    "            end\n",
    "            \n",
    "            l = (l == k) ? 1 : l\n",
    "            \n",
    "            golub_kahan_step!(B, U, V, l, k)\n",
    "        end\n",
    "    end\n",
    "end"
   ]
  },
  {
   "cell_type": "code",
   "execution_count": 2057,
   "id": "5ceadd47",
   "metadata": {},
   "outputs": [],
   "source": [
    "### TO DO: \n",
    "###1 - Create main SVD method which creates H matriz correctly for \"fat matrices\" (transpose before and fix after)\n",
    "###2 - Update Golub-Kahan to return orthogonal matrices (priority!!)"
   ]
  },
  {
   "cell_type": "code",
   "execution_count": null,
   "id": "cfc75bba",
   "metadata": {},
   "outputs": [],
   "source": []
  },
  {
   "cell_type": "code",
   "execution_count": null,
   "id": "df5f9663",
   "metadata": {},
   "outputs": [],
   "source": []
  },
  {
   "cell_type": "code",
   "execution_count": 2032,
   "id": "70eb8121",
   "metadata": {},
   "outputs": [
    {
     "name": "stdout",
     "output_type": "stream",
     "text": [
      "6 5\n"
     ]
    },
    {
     "data": {
      "text/plain": [
       "6×5 Matrix{Float64}:\n",
       "  3.39212       2.95547e-14  -1.24376e-19  3.14078e-17   2.16016e-17\n",
       " -2.80117e-21   2.89223       4.61131e-19  1.73979e-17  -4.6141e-17\n",
       " -2.85991e-18  -9.04692e-19  -0.134766     1.9251e-15    1.4159e-18\n",
       " -4.32792e-18  -4.372e-18    -3.14688e-20  1.31254      -3.62305e-17\n",
       " -8.33741e-17   5.60188e-17  -1.83486e-17  3.10845e-20  -1.55722\n",
       "  1.60602e-17   1.35262e-17   4.94554e-17  3.00351e-17   1.0779e-16"
      ]
     },
     "execution_count": 2032,
     "metadata": {},
     "output_type": "execute_result"
    }
   ],
   "source": [
    "svd_golub_reinsh!(B, 30)"
   ]
  },
  {
   "cell_type": "code",
   "execution_count": null,
   "id": "cdc346e0",
   "metadata": {},
   "outputs": [],
   "source": []
  },
  {
   "cell_type": "code",
   "execution_count": null,
   "id": "5e896b14",
   "metadata": {},
   "outputs": [],
   "source": []
  },
  {
   "cell_type": "code",
   "execution_count": null,
   "id": "89502458",
   "metadata": {},
   "outputs": [],
   "source": []
  },
  {
   "cell_type": "code",
   "execution_count": 2033,
   "id": "baf34ac1",
   "metadata": {},
   "outputs": [
    {
     "name": "stdout",
     "output_type": "stream",
     "text": [
      "5×6 adjoint(::Matrix{Float64}) with eltype Float64:\n",
      "  3.39212      -2.80117e-21  -2.85991e-18  -4.32792e-18  -8.33741e-17  1.60602e-17\n",
      "  2.95547e-14   2.89223      -9.04692e-19  -4.372e-18     5.60188e-17  1.35262e-17\n",
      " -1.24376e-19   4.61131e-19  -0.134766     -3.14688e-20  -1.83486e-17  4.94554e-17\n",
      "  3.14078e-17   1.73979e-17   1.9251e-15    1.31254       3.10845e-20  3.00351e-17\n",
      "  2.16016e-17  -4.6141e-17    1.4159e-18   -3.62305e-17  -1.55722      1.0779e-16"
     ]
    }
   ],
   "source": [
    "show(stdout, \"text/plain\", B')"
   ]
  },
  {
   "cell_type": "code",
   "execution_count": 2034,
   "id": "c056a04c",
   "metadata": {},
   "outputs": [
    {
     "data": {
      "text/plain": [
       "SVD{Float64, Float64, Matrix{Float64}, Vector{Float64}}\n",
       "U factor:\n",
       "6×5 Matrix{Float64}:\n",
       "  0.0675653  -0.0300736  -0.236932   0.392119    -0.631531\n",
       "  0.251086    0.0467461   0.203986  -0.631131    -0.666124\n",
       " -0.638897   -0.670367   -0.1446    -0.00829805  -0.237841\n",
       "  0.459362   -0.617668   -0.243812  -0.372848     0.287857\n",
       "  0.442944   -0.401553    0.531767   0.518768    -0.0926575\n",
       " -0.342035   -0.0689934   0.73425   -0.199279     0.0971244\n",
       "singular values:\n",
       "5-element Vector{Float64}:\n",
       " 3.3921182626848587\n",
       " 2.892225843948184\n",
       " 1.5572237098728174\n",
       " 1.3125433231084522\n",
       " 0.13476574149231518\n",
       "Vt factor:\n",
       "5×5 Matrix{Float64}:\n",
       " -0.0497057  -0.0970165   0.0496224  -0.963692   -0.238646\n",
       "  0.349339   -0.709489    0.511817    0.153648   -0.298367\n",
       " -0.247218   -0.172743   -0.562204    0.186224   -0.747188\n",
       "  0.48059     0.658917    0.275513    0.0485072  -0.506559\n",
       " -0.763812    0.15232     0.586174    0.103233   -0.19782"
      ]
     },
     "execution_count": 2034,
     "metadata": {},
     "output_type": "execute_result"
    }
   ],
   "source": [
    "svd(A)"
   ]
  },
  {
   "cell_type": "code",
   "execution_count": null,
   "id": "1f743a85",
   "metadata": {},
   "outputs": [],
   "source": []
  },
  {
   "cell_type": "code",
   "execution_count": null,
   "id": "32cb44a1",
   "metadata": {},
   "outputs": [],
   "source": []
  },
  {
   "cell_type": "code",
   "execution_count": null,
   "id": "2ebd89f7",
   "metadata": {},
   "outputs": [],
   "source": []
  },
  {
   "cell_type": "code",
   "execution_count": null,
   "id": "998af721",
   "metadata": {},
   "outputs": [],
   "source": []
  },
  {
   "cell_type": "code",
   "execution_count": null,
   "id": "f82947a1",
   "metadata": {},
   "outputs": [],
   "source": []
  },
  {
   "cell_type": "code",
   "execution_count": null,
   "id": "acb87ce8",
   "metadata": {},
   "outputs": [],
   "source": []
  },
  {
   "cell_type": "code",
   "execution_count": null,
   "id": "212ae2ff",
   "metadata": {},
   "outputs": [],
   "source": []
  },
  {
   "cell_type": "code",
   "execution_count": null,
   "id": "a6964f15",
   "metadata": {},
   "outputs": [],
   "source": []
  },
  {
   "cell_type": "code",
   "execution_count": null,
   "id": "a5ee59f1",
   "metadata": {},
   "outputs": [],
   "source": []
  },
  {
   "cell_type": "code",
   "execution_count": null,
   "id": "d3f04b3a",
   "metadata": {},
   "outputs": [],
   "source": []
  },
  {
   "cell_type": "code",
   "execution_count": 1974,
   "id": "d679607f",
   "metadata": {},
   "outputs": [
    {
     "data": {
      "text/plain": [
       "givens_rotation (generic function with 1 method)"
      ]
     },
     "execution_count": 1974,
     "metadata": {},
     "output_type": "execute_result"
    }
   ],
   "source": [
    "function givens_rotation(v)\n",
    "    a, b = v[1], v[2]\n",
    "    if b == 0\n",
    "        c = 1\n",
    "        s = 0\n",
    "    else\n",
    "        if abs(b) > abs(a)\n",
    "            tau = -a/b\n",
    "            s = 1.0/sqrt(1.0+tau*tau)\n",
    "            c = s*tau\n",
    "        else\n",
    "            tau = -b/a\n",
    "            c = 1.0/sqrt(1.0+tau*tau)\n",
    "            s = c*tau\n",
    "        end\n",
    "    end\n",
    "    return [c -s;s c]\n",
    "end"
   ]
  },
  {
   "cell_type": "code",
   "execution_count": 2040,
   "id": "0f13d10d",
   "metadata": {},
   "outputs": [
    {
     "data": {
      "text/plain": [
       "4×3 Matrix{Float64}:\n",
       " 1.0   3.0   4.0\n",
       " 4.0  -1.0   8.0\n",
       " 7.0   8.0  -1.0\n",
       " 8.0   0.0   1.0"
      ]
     },
     "execution_count": 2040,
     "metadata": {},
     "output_type": "execute_result"
    }
   ],
   "source": [
    "A = [1.0 3 4;4 -1 8;7 8 -1;8 0 1]"
   ]
  },
  {
   "cell_type": "code",
   "execution_count": 2041,
   "id": "d163da56",
   "metadata": {},
   "outputs": [
    {
     "data": {
      "text/plain": [
       "inplace_transpose! (generic function with 1 method)"
      ]
     },
     "execution_count": 2041,
     "metadata": {},
     "output_type": "execute_result"
    }
   ],
   "source": [
    "function inplace_transpose!(A::AbstractMatrix)\n",
    "    m, n = size(A)\n",
    "    for i in 1:m\n",
    "        for j in i+1:n\n",
    "            A[i, j], A[j, i] = A[j, i], A[i, j]\n",
    "        end\n",
    "    end\n",
    "    if m != n\n",
    "        resize!(A, (n, m))  # Resize to swap rows and columns if rectangular\n",
    "    end\n",
    "    return A\n",
    "end"
   ]
  },
  {
   "cell_type": "code",
   "execution_count": 2042,
   "id": "26a807a5",
   "metadata": {},
   "outputs": [
    {
     "data": {
      "text/plain": [
       "4×3 Matrix{Float64}:\n",
       " 1.0   3.0   4.0\n",
       " 4.0  -1.0   8.0\n",
       " 7.0   8.0  -1.0\n",
       " 8.0   0.0   1.0"
      ]
     },
     "execution_count": 2042,
     "metadata": {},
     "output_type": "execute_result"
    }
   ],
   "source": [
    "A"
   ]
  },
  {
   "cell_type": "code",
   "execution_count": 2043,
   "id": "513bb279",
   "metadata": {},
   "outputs": [
    {
     "ename": "LoadError",
     "evalue": "MethodError: no method matching resize!(::Matrix{Float64}, ::Tuple{Int64, Int64})",
     "output_type": "error",
     "traceback": [
      "MethodError: no method matching resize!(::Matrix{Float64}, ::Tuple{Int64, Int64})",
      "",
      "Stacktrace:",
      " [1] inplace_transpose!(A::Matrix{Float64})",
      "   @ Main ./In[2041]:9",
      " [2] top-level scope",
      "   @ In[2043]:1"
     ]
    }
   ],
   "source": [
    "inplace_transpose!(A)"
   ]
  },
  {
   "cell_type": "code",
   "execution_count": 2044,
   "id": "feceac3f",
   "metadata": {},
   "outputs": [
    {
     "data": {
      "text/plain": [
       "4×3 Matrix{Float64}:\n",
       " 1.0   4.0   7.0\n",
       " 3.0  -1.0   8.0\n",
       " 4.0   8.0  -1.0\n",
       " 8.0   0.0   1.0"
      ]
     },
     "execution_count": 2044,
     "metadata": {},
     "output_type": "execute_result"
    }
   ],
   "source": [
    "A"
   ]
  },
  {
   "cell_type": "code",
   "execution_count": 1978,
   "id": "81b0f829",
   "metadata": {},
   "outputs": [
    {
     "data": {
      "text/plain": [
       "2×2 Matrix{Float64}:\n",
       " -0.242536  -0.970143\n",
       "  0.970143  -0.242536"
      ]
     },
     "execution_count": 1978,
     "metadata": {},
     "output_type": "execute_result"
    }
   ],
   "source": [
    "G = givens_rotation(A[[1,2], 1])"
   ]
  },
  {
   "cell_type": "code",
   "execution_count": 1979,
   "id": "9886036d",
   "metadata": {},
   "outputs": [
    {
     "data": {
      "text/plain": [
       "4×3 Matrix{Float64}:\n",
       " -4.12311  0.242536  -8.73128\n",
       "  0.0      3.15296    1.94029\n",
       "  7.0      8.0       -1.0\n",
       "  8.0      0.0        1.0"
      ]
     },
     "execution_count": 1979,
     "metadata": {},
     "output_type": "execute_result"
    }
   ],
   "source": [
    "A[[1,2], :] = G * A[[1,2], :];\n",
    "A"
   ]
  },
  {
   "cell_type": "code",
   "execution_count": 1980,
   "id": "d9a7a0f1",
   "metadata": {},
   "outputs": [
    {
     "data": {
      "text/plain": [
       "2×2 Matrix{Float64}:\n",
       " 0.507519  -0.86164\n",
       " 0.86164    0.507519"
      ]
     },
     "execution_count": 1980,
     "metadata": {},
     "output_type": "execute_result"
    }
   ],
   "source": [
    "G = givens_rotation(A[[1,3], 1])"
   ]
  },
  {
   "cell_type": "code",
   "execution_count": 1981,
   "id": "be703efe",
   "metadata": {},
   "outputs": [
    {
     "data": {
      "text/plain": [
       "4×3 Matrix{Float64}:\n",
       " -8.12404      -6.77003  -3.56965\n",
       "  0.0           3.15296   1.94029\n",
       " -3.33067e-16   4.26913  -8.03075\n",
       "  8.0           0.0       1.0"
      ]
     },
     "execution_count": 1981,
     "metadata": {},
     "output_type": "execute_result"
    }
   ],
   "source": [
    "A[[1,3], :] = G * A[[1,3], :];\n",
    "A\n"
   ]
  },
  {
   "cell_type": "code",
   "execution_count": 1982,
   "id": "9964f8b9",
   "metadata": {},
   "outputs": [
    {
     "data": {
      "text/plain": [
       "2×2 Matrix{Float64}:\n",
       " -0.594089  -0.8044\n",
       "  0.8044    -0.594089"
      ]
     },
     "execution_count": 1982,
     "metadata": {},
     "output_type": "execute_result"
    }
   ],
   "source": [
    "G = givens_rotation(A[[2,3], 2])"
   ]
  },
  {
   "cell_type": "code",
   "execution_count": 1983,
   "id": "3dbfc0ea",
   "metadata": {},
   "outputs": [
    {
     "data": {
      "text/plain": [
       "4×3 Matrix{Float64}:\n",
       " -8.12404      -6.77003      -3.56965\n",
       "  2.67919e-16  -5.30723       5.30723\n",
       "  1.97871e-16   2.10348e-16   6.33174\n",
       "  8.0           0.0           1.0"
      ]
     },
     "execution_count": 1983,
     "metadata": {},
     "output_type": "execute_result"
    }
   ],
   "source": [
    "A[[2,3], :] = G * A[[2,3], :];\n",
    "A\n"
   ]
  },
  {
   "cell_type": "code",
   "execution_count": 1984,
   "id": "b4c6336b",
   "metadata": {},
   "outputs": [
    {
     "data": {
      "text/plain": [
       "LinearAlgebra.QRCompactWY{Float64, Matrix{Float64}, Matrix{Float64}}\n",
       "Q factor: 4×4 LinearAlgebra.QRCompactWYQ{Float64, Matrix{Float64}, Matrix{Float64}}\n",
       "R factor:\n",
       "3×3 Matrix{Float64}:\n",
       " 11.4018  4.82382   3.24511\n",
       "  0.0     7.12255  -2.75938\n",
       "  0.0     0.0      -7.99093"
      ]
     },
     "execution_count": 1984,
     "metadata": {},
     "output_type": "execute_result"
    }
   ],
   "source": [
    "qr(A)"
   ]
  },
  {
   "cell_type": "code",
   "execution_count": null,
   "id": "a8b05392",
   "metadata": {},
   "outputs": [],
   "source": []
  },
  {
   "cell_type": "code",
   "execution_count": null,
   "id": "086ee794",
   "metadata": {},
   "outputs": [],
   "source": []
  }
 ],
 "metadata": {
  "@webio": {
   "lastCommId": null,
   "lastKernelId": null
  },
  "kernelspec": {
   "display_name": "Julia 1.10.0",
   "language": "julia",
   "name": "julia-1.10"
  },
  "language_info": {
   "file_extension": ".jl",
   "mimetype": "application/julia",
   "name": "julia",
   "version": "1.10.0"
  }
 },
 "nbformat": 4,
 "nbformat_minor": 5
}
