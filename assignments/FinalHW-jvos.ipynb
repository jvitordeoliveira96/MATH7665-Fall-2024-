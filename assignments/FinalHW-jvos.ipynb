{
 "cells": [
  {
   "cell_type": "code",
   "execution_count": 314,
   "id": "6fa5b7c0",
   "metadata": {},
   "outputs": [],
   "source": [
    "using LinearAlgebra\n",
    "using PlotlyJS"
   ]
  },
  {
   "cell_type": "code",
   "execution_count": 315,
   "id": "90fc72a5",
   "metadata": {},
   "outputs": [
    {
     "data": {
      "text/plain": [
       "bidiagonalize (generic function with 2 methods)"
      ]
     },
     "execution_count": 315,
     "metadata": {},
     "output_type": "execute_result"
    }
   ],
   "source": [
    "function householder(x)\n",
    "    \"\"\"Computes the Householder transformation for input vector x\n",
    "    \n",
    "    Returns \n",
    "    beta: float, the multiplier for future Householder reflection\n",
    "    v: vector, the householder reflector vector  \n",
    "    \"\"\"\n",
    "    sigma = dot(x[2:end],x[2:end])\n",
    "    v = copy(x)\n",
    "\n",
    "    if sigma == 0\n",
    "        beta = 0\n",
    "        return beta, v\n",
    "    end\n",
    "\n",
    "    sq = sqrt(x[1]^2 + sigma)\n",
    "    if x[1] > 0\n",
    "        v[1] += sq\n",
    "    else\n",
    "        v[1] -= sq\n",
    "    end\n",
    "\n",
    "    beta = 2.0 / (v[1]^2 + sigma)\n",
    "\n",
    "    return beta, v\n",
    "end\n",
    "\n",
    "\n",
    "function apply_householder_col!(B, H, cidx, m)\n",
    "    \"\"\"Apply Householder reflection from the left (B<- H * B)\n",
    "    \n",
    "    Returns (inplace) \n",
    "    B: input matrix\n",
    "    H: householder vectors v  \n",
    "    \"\"\"\n",
    "    beta, v = householder(B[cidx:m, cidx])\n",
    "    B[cidx:m, cidx:end] = B[cidx:m, cidx:end] - beta * v * (v' * B[cidx:m, cidx:end])\n",
    "    H[cidx:end, cidx] = v / norm(v)\n",
    "\n",
    "    return beta\n",
    "end\n",
    "\n",
    "function apply_householder_row!(B, H, ridx, n)\n",
    "    \"\"\"Apply Householder reflection from the right (B<- B * H)\n",
    "    \n",
    "    Returns (inplace) \n",
    "    B: input matrix\n",
    "    H: householder vectors v  \n",
    "    \"\"\"\n",
    "    beta, v = householder(B[ridx, ridx+1:n])\n",
    "    B[ridx:end, ridx+1:n] = B[ridx:end, ridx+1:n] - (B[ridx:end, ridx+1:n] * v) * (beta * v')\n",
    "    H[ridx, ridx+1:end] = v / norm(v)\n",
    "\n",
    "end\n",
    "\n",
    "function update_col_sim!(U, H, cidx, m)\n",
    "    \"\"\"Update column unitary transform (U<- H * U)\n",
    "    \n",
    "    Input:\n",
    "    U: Left Householder matrix (orthogonal)\n",
    "    H: householder vectors v\n",
    "    cidx: index of column where householder transform is applied\n",
    "    m: number of columns of original matrix\n",
    "    \n",
    "    Returns (inplace) \n",
    "    U: Left Householder matrix (orthogonal)\n",
    "    \"\"\"\n",
    "    v = H[cidx:end, cidx]\n",
    "    if cidx > 1\n",
    "        v = [zeros(cidx-1);v]\n",
    "    end\n",
    "    \n",
    "    \n",
    "    \n",
    "    U[:,:] = U - 2 * v * (v' * U)\n",
    "    \n",
    "    return U\n",
    "    \n",
    "end\n",
    "\n",
    "function update_row_sim!(V, H, ridx, n)\n",
    "    \"\"\"Update row unitary transform (V<- V * H)\n",
    "    \n",
    "    Input:\n",
    "    V: Right Householder matrix (orthogonal)\n",
    "    H: householder vectors v\n",
    "    ridx: index of row where householder transform is applied\n",
    "    n: number of rows of original matrix\n",
    "    \n",
    "    Returns (inplace) \n",
    "    V: Right Householder matrix (orthogonal) \n",
    "    \"\"\"\n",
    "    v = H[ridx, ridx+1:end]\n",
    "    v = [zeros(ridx);v]\n",
    "    \n",
    "    \n",
    "\n",
    "    V[:,:] = V - 2 * (V * v) * v'\n",
    "    \n",
    "    return V\n",
    "    \n",
    "end\n",
    "\n",
    "\n",
    "function bidiagonalize(A, return_orth = false)\n",
    "    \"\"\"Performs matrix bidiagonalization (for future singular value decomposition computation)\n",
    "    \n",
    "    Input:\n",
    "    A: Rectangular m x n matrix\n",
    "    \n",
    "    Returns (inplace) \n",
    "    B: bidiagonal matrix with same singular values as input matrix (A = U * B * V')\n",
    "    \"\"\"\n",
    "    m, n = size(A)\n",
    "    B = copy(A)\n",
    "    H = copy(A)  # v vectors in householder\n",
    "    \n",
    "    if return_orth\n",
    "        U = zeros(m, m) + I\n",
    "        V = zeros(n, n) + I\n",
    "    end\n",
    "    \n",
    "    for k = 1:min(m,n)\n",
    "        \n",
    "        # column\n",
    "        \n",
    "        apply_householder_col!(B, H, k, m)\n",
    "    \n",
    "        \n",
    "        if return_orth\n",
    "            update_col_sim!(U, H, k, m)\n",
    "        end\n",
    "        \n",
    "        \n",
    "        # row\n",
    "        if k < n\n",
    "            apply_householder_row!(B, H, k, n) \n",
    "            \n",
    "            if return_orth \n",
    "                update_row_sim!(V, H, k, n)\n",
    "            end\n",
    "        end\n",
    "        \n",
    "                \n",
    "    end\n",
    "    \n",
    "    if return_orth\n",
    "        V[:, end] = -V[:, end] \n",
    "        U[end, :] = -U[end, :]\n",
    "        return U', B, V\n",
    "    else\n",
    "        return B, H\n",
    "    end\n",
    "end\n",
    "\n"
   ]
  },
  {
   "cell_type": "code",
   "execution_count": 430,
   "id": "c38571cb",
   "metadata": {},
   "outputs": [
    {
     "data": {
      "text/plain": [
       "svd_num (generic function with 3 methods)"
      ]
     },
     "execution_count": 430,
     "metadata": {},
     "output_type": "execute_result"
    }
   ],
   "source": [
    "function givens_rotation(v)\n",
    "    \"\"\" Computers the 2x2 Givens Rotation matrix for a given 2d vector v.\n",
    "    \n",
    "    Input:\n",
    "    v: 2d vector\n",
    "    \n",
    "    Returns\n",
    "    G:  givens rotation matrix\n",
    "    \"\"\"\n",
    "    a, b = v[1], v[2]\n",
    "    if b == 0\n",
    "        c = 1\n",
    "        s = 0\n",
    "    else\n",
    "        if abs(b) > abs(a)\n",
    "            tau = -a/b\n",
    "            s = 1.0/sqrt(1.0+tau*tau)\n",
    "            c = s*tau\n",
    "        else\n",
    "            tau = -b/a\n",
    "            c = 1.0/sqrt(1.0+tau*tau)\n",
    "            s = c*tau\n",
    "        end\n",
    "    end\n",
    "    return [c -s;s c]\n",
    "end\n",
    "\n",
    "\n",
    "function svd_golub_reinsh!(B, U, V, maxiter, eps=1e-12)\n",
    "    \"\"\"Computes the Singular value decomposition of a bidiagonal matrix. Based on \n",
    "    https://www.cs.utexas.edu/~inderjit/public_papers/HLA_SVD.pdf\n",
    "    and\n",
    "    https://link.springer.com/article/10.1007/s11075-022-01459-9\n",
    "    \n",
    "    Returns  \n",
    "    U: Left singular vector matrix\n",
    "    S: Singular values matrix\n",
    "    Vt: Right singular vector matrix\n",
    "    \"\"\"\n",
    "    \n",
    "    function golub_kahan_step!(B, U, V, l, k)\n",
    "        # Considering B22 -> (l:k x l:k)\n",
    "        \n",
    "        # Step 1: compute appropriate shift\n",
    "        \n",
    "        if k > 2\n",
    "            a, b, d = B[k-1, k-1]^2 + B[k-2, k-1]^2, B[k-1, k-1] * B[k-1, k], B[k, k]^2 + B[k-1, k]^2\n",
    "            t, r = - a - d, a * d - b^2\n",
    "            s_1, s_2 = 0.5 * (-t + sqrt(t^2 -4 * r)), 0.5 * (-t - sqrt(t^2 -4 * r))\n",
    "            if abs(B[k, k]^2 + B[k-1, k]^2 - s_1) < abs(B[k, k]^2 + B[k-1, k]^2 - s_2)\n",
    "                s = s_1 \n",
    "            else\n",
    "                s = s_2 \n",
    "            end\n",
    "        else\n",
    "           s = B[2, 2]^2 + B[1, 2]^2 \n",
    "        end\n",
    "        \n",
    "        # Step 2: Computing Givens Rotations\n",
    "        alpha, beta = B[l, l]^2-s, B[l, l] * B[l, l + 1]\n",
    "        v = [alpha;beta]\n",
    "        for p = l:k-1\n",
    "            # Right rotation\n",
    "            G = givens_rotation(v)\n",
    "            B[:, p:p+1] = B[:, p:p+1] * G'\n",
    "            V[:, p:p+1] = V[:, p:p+1] * G'\n",
    "            \n",
    "            \n",
    "            # Left rotation\n",
    "            alpha, beta = B[p, p], B[p + 1, p] \n",
    "            v = [alpha; beta]\n",
    "            G = givens_rotation(v)\n",
    "            B[p:p+1, :] = G * B[p:p+1, :]\n",
    "            U[:, p:p+1] = U[:, p:p+1] * G'\n",
    "            \n",
    "            # Updating alpha, beta and v\n",
    "            if p < k -1 \n",
    "                alpha, beta = B[p, p+1], B[p, p+2]\n",
    "                v = [alpha;beta]\n",
    "            end\n",
    "        end\n",
    "    end\n",
    "    \n",
    "    m, n = size(B)\n",
    "    maxiter_ = log2(n * m) * 30 \n",
    "    \n",
    "    for iters = 1:min(maxiter, maxiter_)\n",
    "        \n",
    "        # Step 1 of main loop\n",
    "        # Find l and k such that matrix can be blocked as B11, B22 and B33 (diag) \n",
    "        \n",
    "        k = n\n",
    "        for j = n:-1:2  \n",
    "            k = abs(B[j-1, j]) < eps * (abs(B[j, j]) + abs(B[j-1, j-1]))  ? j-1 : k\n",
    "        end\n",
    "\n",
    "        \n",
    "        if k == 1\n",
    "           # Diagonal matrix, convergence obtained\n",
    "           return U, B, V\n",
    "        end\n",
    "        \n",
    "        # Step 2 of main loop\n",
    "        # Performing Golub Kahan at matrix B22\n",
    "        if k == n \n",
    "            # B22 should be the full matrix \n",
    "            golub_kahan_step!(B, U, V, 1, n)\n",
    "    \n",
    "        else \n",
    "            # B33 (diagonal) found, have to check where B22 starts (l) and ends (k)\n",
    "            l = k\n",
    "            for j = k:-1:2\n",
    "                l = abs(B[j-1, j]) < eps * (abs(B[j, j]) + abs(B[j-1, j-1])) ? j-1 : l\n",
    "                \n",
    "                if l!=k\n",
    "                    break\n",
    "                end\n",
    "                \n",
    "            end \n",
    "            \n",
    "            # If l is equal to k after previous scan, then l = 1 and there is no B11 matrix\n",
    "            l = (l == k) ? 1 : l \n",
    "            \n",
    "            golub_kahan_step!(B, U, V, l, k)\n",
    "        end\n",
    "    end\n",
    "end\n",
    "\n",
    "\n",
    "function svd_num(A, maxiter = 80, save_results = false)\n",
    "   \"\"\"Performs singular value decompositon of a rectangular m x n matrix A.\n",
    "    \n",
    "    Returns \n",
    "        U: Left singular vector matrix\n",
    "        S: Singular values matrix\n",
    "        Vt: Right singular vector matrix\n",
    "    \"\"\" \n",
    "    # Flag for transpose (case n > m)\n",
    "    m, n = size(A)\n",
    "    transpose_flag = false\n",
    "    \n",
    "    if n > m\n",
    "        transpose_flag = true\n",
    "    end\n",
    "    \n",
    "    # First main step: Find bidiagonalized matrix B\n",
    "    if transpose_flag\n",
    "        P_l, B, P_r = bidiagonalize(A', true);\n",
    "    else\n",
    "        P_l, B, P_r = bidiagonalize(A, true);\n",
    "    end\n",
    "    \n",
    "    # Second main step: perform svd_golub_reinsh algorithm iterations\n",
    "    if save_results\n",
    "        t = min(m, n)\n",
    "        results = zeros(2, t-1, maxiter)\n",
    "        \n",
    "        for k = 1:maxiter\n",
    "            for j = 2:t\n",
    "                results[:, j-1, k] = copy(B[j-1:j, j])\n",
    "            end\n",
    "            svd_golub_reinsh!(B, P_l, P_r, 1)\n",
    "        end\n",
    "        \n",
    "        B = [i == j ? B[i, j] : 0 for i in 1:size(B, 1), j in 1:size(B, 2)];\n",
    "        # Check if transpose\n",
    "        if transpose_flag\n",
    "            return P_r, B', P_l, results\n",
    "        else\n",
    "            return P_l, B, P_r, results\n",
    "        end\n",
    "        \n",
    "    else\n",
    "        svd_golub_reinsh!(B, P_l, P_r, maxiter)\n",
    "        B = [i == j ? B[i, j] : 0 for i in 1:size(B, 1), j in 1:size(B, 2)];\n",
    "        \n",
    "        # Check if transpose\n",
    "        if transpose_flag\n",
    "            return P_r, B', P_l\n",
    "        else\n",
    "            return P_l, B, P_r\n",
    "        end\n",
    "    end\n",
    "    \n",
    "    \n",
    "    \n",
    "    \n",
    "    \n",
    "end"
   ]
  },
  {
   "cell_type": "markdown",
   "id": "926b764c",
   "metadata": {},
   "source": [
    "## Initial tests"
   ]
  },
  {
   "cell_type": "code",
   "execution_count": 317,
   "id": "f80bcc4e",
   "metadata": {},
   "outputs": [
    {
     "data": {
      "text/plain": [
       "5×7 Matrix{Float64}:\n",
       " -0.0752544  -0.27911    -1.03886    …   1.25814   -0.155918  -0.681304\n",
       "  0.964703   -0.0732772   1.12003        1.30399    0.953374  -1.02104\n",
       "  1.5511     -0.770983    0.0727102     -0.668782  -0.524629   0.347018\n",
       " -0.588667   -0.642898   -0.48042        0.952482   0.958895  -1.2715\n",
       " -0.0978774  -0.250033   -0.778696      -1.50934   -1.1028    -1.15865"
      ]
     },
     "execution_count": 317,
     "metadata": {},
     "output_type": "execute_result"
    }
   ],
   "source": [
    "# Example usage 1:\n",
    "A = randn(5, 7)"
   ]
  },
  {
   "cell_type": "code",
   "execution_count": 318,
   "id": "5821ce87",
   "metadata": {},
   "outputs": [
    {
     "data": {
      "text/plain": [
       "5×7 Matrix{Float64}:\n",
       " -0.0752544  -0.27911    -1.03886    …   1.25814   -0.155918  -0.681304\n",
       "  0.964703   -0.0732772   1.12003        1.30399    0.953374  -1.02104\n",
       "  1.5511     -0.770983    0.0727102     -0.668782  -0.524629   0.347018\n",
       " -0.588667   -0.642898   -0.48042        0.952482   0.958895  -1.2715\n",
       " -0.0978774  -0.250033   -0.778696      -1.50934   -1.1028    -1.15865"
      ]
     },
     "execution_count": 318,
     "metadata": {},
     "output_type": "execute_result"
    }
   ],
   "source": [
    "A"
   ]
  },
  {
   "cell_type": "code",
   "execution_count": 319,
   "id": "ad91435d",
   "metadata": {},
   "outputs": [],
   "source": [
    "P_l, B, P_r = bidiagonalize(A, true);"
   ]
  },
  {
   "cell_type": "code",
   "execution_count": 320,
   "id": "77b9c26f",
   "metadata": {},
   "outputs": [
    {
     "data": {
      "text/plain": [
       "5×7 Matrix{Float64}:\n",
       "  1.92311      1.0278    1.11022e-16  …  -2.77556e-17   2.77556e-17\n",
       "  0.0          1.50666  -2.67619          1.38778e-17  -2.22045e-16\n",
       "  2.22045e-16  0.0       1.6127           2.22045e-16   2.77556e-17\n",
       "  0.0          0.0      -1.11022e-16     -5.55112e-17   0.0\n",
       " -1.38778e-17  0.0       2.22045e-16     -2.01556       0.0"
      ]
     },
     "execution_count": 320,
     "metadata": {},
     "output_type": "execute_result"
    }
   ],
   "source": [
    "B"
   ]
  },
  {
   "cell_type": "code",
   "execution_count": 321,
   "id": "be11de7a",
   "metadata": {},
   "outputs": [
    {
     "name": "stdout",
     "output_type": "stream",
     "text": [
      "2.831068712794149e-15"
     ]
    }
   ],
   "source": [
    "show(stdout, \"text/plain\", opnorm(P_l * B * P_r' - A, 1))"
   ]
  },
  {
   "cell_type": "code",
   "execution_count": 322,
   "id": "70eb8121",
   "metadata": {},
   "outputs": [],
   "source": [
    "U, S, V = svd_num(A);"
   ]
  },
  {
   "cell_type": "code",
   "execution_count": 323,
   "id": "cdc346e0",
   "metadata": {},
   "outputs": [
    {
     "name": "stdout",
     "output_type": "stream",
     "text": [
      "5×5 Matrix{Float64}:\n",
      "  0.54296    0.641674  -0.480324    0.215382  0.127861\n",
      "  0.320965   0.238041   0.631852   -0.416372  0.517413\n",
      " -0.121856  -0.248494   0.0110903   0.654753  0.703262\n",
      "  0.598224  -0.677529  -0.316621   -0.263871  0.114918\n",
      " -0.479015   0.103906  -0.519308   -0.530957  0.456237"
     ]
    }
   ],
   "source": [
    "show(stdout, \"text/plain\", U)"
   ]
  },
  {
   "cell_type": "code",
   "execution_count": 324,
   "id": "5e896b14",
   "metadata": {},
   "outputs": [
    {
     "name": "stdout",
     "output_type": "stream",
     "text": [
      "5×7 adjoint(::Matrix{Real}) with eltype Real:\n",
      " 3.73317   0         0        0         0        0  0\n",
      " 0        -0.86243   0        0         0        0  0\n",
      " 0         0        -2.57107  0         0        0  0\n",
      " 0         0         0        2.08033   0        0  0\n",
      " 0         0         0        0        -2.00803  0  0"
     ]
    }
   ],
   "source": [
    "show(stdout, \"text/plain\", S)"
   ]
  },
  {
   "cell_type": "code",
   "execution_count": 325,
   "id": "e5caf66a",
   "metadata": {},
   "outputs": [
    {
     "name": "stdout",
     "output_type": "stream",
     "text": [
      "7×7 Matrix{Float64}:\n",
      " -0.0604059  -0.0926675  -0.0342393  -0.586938     0.663229    0.371578  -0.253285\n",
      " -0.214023   -0.469193    0.201151   -0.187346    -0.55859     0.587881   0.029417\n",
      " -0.350092   -0.160482   -0.68609    -0.319554    -0.270094   -0.365821  -0.26846\n",
      "  0.386959   -0.111525   -0.0491615  -0.542597    -0.0768094  -0.212238   0.700037\n",
      " -0.73109     0.400272   -0.0434975   0.00111924   0.106532    0.143696   0.52096\n",
      "  0.374473    0.546537   -0.48756    -0.012583    -0.228899    0.519426  -0.0315543\n",
      " -0.0593435   0.523601    0.495604   -0.47299     -0.324824   -0.216803  -0.31696"
     ]
    }
   ],
   "source": [
    "show(stdout, \"text/plain\", V')"
   ]
  },
  {
   "cell_type": "code",
   "execution_count": 326,
   "id": "3ee210f5",
   "metadata": {},
   "outputs": [
    {
     "name": "stdout",
     "output_type": "stream",
     "text": [
      "1.014127504397588e-15"
     ]
    }
   ],
   "source": [
    "show(stdout, \"text/plain\", opnorm(U * S * V' - A, 1)/opnorm(A, 1))"
   ]
  },
  {
   "cell_type": "code",
   "execution_count": 327,
   "id": "344049e1",
   "metadata": {},
   "outputs": [
    {
     "name": "stdout",
     "output_type": "stream",
     "text": [
      "1.7961904612489356e-15"
     ]
    }
   ],
   "source": [
    "show(stdout, \"text/plain\", opnorm(U * U' - I, 1))"
   ]
  },
  {
   "cell_type": "code",
   "execution_count": 328,
   "id": "e35404a6",
   "metadata": {},
   "outputs": [
    {
     "name": "stdout",
     "output_type": "stream",
     "text": [
      "2.3204849836108594e-15"
     ]
    }
   ],
   "source": [
    "show(stdout, \"text/plain\", opnorm(V * V' - I, 1))"
   ]
  },
  {
   "cell_type": "code",
   "execution_count": null,
   "id": "447d5638",
   "metadata": {},
   "outputs": [],
   "source": []
  },
  {
   "cell_type": "code",
   "execution_count": 329,
   "id": "6392b9b3",
   "metadata": {},
   "outputs": [
    {
     "data": {
      "text/plain": [
       "9×7 Matrix{Float64}:\n",
       " -0.714696   0.0624033   1.12736   …   0.633315   -0.348537  -0.826319\n",
       "  0.323757  -1.00572    -1.48068       1.38463     0.505266  -0.822299\n",
       "  0.505125  -0.523177   -0.925007     -0.019165    0.663106   0.73671\n",
       " -1.01708   -0.102635   -0.157094     -0.692099    0.598486   0.704839\n",
       " -1.33441    0.938576   -0.36463      -0.678628   -0.077903  -0.822358\n",
       " -0.589611   0.175663    0.684995  …   0.0990116  -0.10495   -1.1874\n",
       "  1.05027    0.77366    -0.861943      1.26638     0.517102  -0.704662\n",
       " -0.306382  -0.683289    0.515447     -0.82917     0.9206    -0.50818\n",
       "  0.630765  -0.235222   -1.14458      -0.309931   -0.521669   1.09825"
      ]
     },
     "execution_count": 329,
     "metadata": {},
     "output_type": "execute_result"
    }
   ],
   "source": [
    "# Example usage 2:\n",
    "A = randn(9, 7)"
   ]
  },
  {
   "cell_type": "code",
   "execution_count": 330,
   "id": "260e879f",
   "metadata": {},
   "outputs": [],
   "source": [
    "U, S, V = svd_num(A);"
   ]
  },
  {
   "cell_type": "code",
   "execution_count": 331,
   "id": "b607efa2",
   "metadata": {},
   "outputs": [
    {
     "name": "stdout",
     "output_type": "stream",
     "text": [
      "9×9 adjoint(::Matrix{Float64}) with eltype Float64:\n",
      " -0.243068   0.350834    0.359939   0.30684    -0.113582    0.361267   -0.0928183   0.615786   -0.250808\n",
      "  0.539719   0.119581   -0.140639   0.475529   -0.660195   -0.0190835   0.02081    -0.103128    0.0347278\n",
      "  0.323987  -0.130893    0.565663  -0.115029    0.0284721  -0.29922     0.436994    0.334377    0.389331\n",
      " -0.263849  -0.467391    0.5114    -0.0289716  -0.407671   -0.181733   -0.15635    -0.272963   -0.389081\n",
      " -0.287382   0.194675   -0.172093   0.065944   -0.139533   -0.756677   -0.375812    0.279937    0.184174\n",
      " -0.143407   0.651234    0.243886   0.116666    0.11676    -0.253229    0.371838   -0.479636   -0.190174\n",
      "  0.491066   0.322504    0.121135  -0.614516   -0.0478815  -0.0513994  -0.366017    0.0714196  -0.344294\n",
      " -0.21109   -0.0150168  -0.383377  -0.372526   -0.398695   -0.0615609   0.59101     0.26712    -0.293373\n",
      "  0.293562  -0.246558   -0.135692   0.362333    0.435755   -0.321631    0.113065    0.19745    -0.598526"
     ]
    }
   ],
   "source": [
    "show(stdout, \"text/plain\", U)"
   ]
  },
  {
   "cell_type": "code",
   "execution_count": 332,
   "id": "e3bb4ce5",
   "metadata": {},
   "outputs": [
    {
     "name": "stdout",
     "output_type": "stream",
     "text": [
      "9×7 Matrix{Real}:\n",
      " -3.52867  0        0         0        0        0         0\n",
      "  0        3.70578  0         0        0        0         0\n",
      "  0        0        0.679037  0        0        0         0\n",
      "  0        0        0         1.23455  0        0         0\n",
      "  0        0        0         0        2.13411  0         0\n",
      "  0        0        0         0        0        1.86592   0\n",
      "  0        0        0         0        0        0        -1.73719\n",
      "  0        0        0         0        0        0         0\n",
      "  0        0        0         0        0        0         0"
     ]
    }
   ],
   "source": [
    "show(stdout, \"text/plain\", S)"
   ]
  },
  {
   "cell_type": "code",
   "execution_count": 333,
   "id": "45fddd81",
   "metadata": {},
   "outputs": [
    {
     "name": "stdout",
     "output_type": "stream",
     "text": [
      "7×7 adjoint(::Matrix{Float64}) with eltype Float64:\n",
      " -0.570782    0.153094   0.621465  -0.163205  -0.469446  -0.101524  -0.0850197\n",
      " -0.0698164   0.170804   0.21171    0.676304   0.308546  -0.062154  -0.603888\n",
      " -0.430378    0.124275   0.137757   0.234698   0.475261   0.372509   0.600529\n",
      " -0.44833    -0.501943  -0.217425   0.047052   0.210757  -0.670209   0.0629951\n",
      "  0.356366    0.330939   0.166373   0.395188  -0.217096  -0.533991   0.497345\n",
      "  0.369976   -0.246417   0.655986  -0.337547   0.486596  -0.146137   0.00313896\n",
      " -0.138674    0.713972  -0.211453  -0.434246   0.360862  -0.302299  -0.126988"
     ]
    }
   ],
   "source": [
    "show(stdout, \"text/plain\", V')"
   ]
  },
  {
   "cell_type": "code",
   "execution_count": 334,
   "id": "05b103f4",
   "metadata": {},
   "outputs": [
    {
     "name": "stdout",
     "output_type": "stream",
     "text": [
      "3.4539905580120652e-15"
     ]
    }
   ],
   "source": [
    "show(stdout, \"text/plain\", opnorm(U * S * V' - A, 1)/opnorm(A, 1))"
   ]
  },
  {
   "cell_type": "code",
   "execution_count": 335,
   "id": "6a5a8c65",
   "metadata": {},
   "outputs": [
    {
     "name": "stdout",
     "output_type": "stream",
     "text": [
      "3.554202815376226e-15"
     ]
    }
   ],
   "source": [
    "show(stdout, \"text/plain\", opnorm(U * U' - I, 1))"
   ]
  },
  {
   "cell_type": "code",
   "execution_count": 336,
   "id": "792fa114",
   "metadata": {},
   "outputs": [
    {
     "name": "stdout",
     "output_type": "stream",
     "text": [
      "2.4282695500914144e-15"
     ]
    }
   ],
   "source": [
    "show(stdout, \"text/plain\", opnorm(V * V' - I, 1))"
   ]
  },
  {
   "cell_type": "code",
   "execution_count": null,
   "id": "3890ec62",
   "metadata": {},
   "outputs": [],
   "source": []
  },
  {
   "cell_type": "code",
   "execution_count": 337,
   "id": "e3666b7b",
   "metadata": {},
   "outputs": [
    {
     "data": {
      "text/plain": [
       "7×7 Matrix{Float64}:\n",
       "  0.972751    0.188744  -0.263698    …  -2.25188   -0.0609383   0.484433\n",
       "  0.188744   -1.34399    2.24641        -3.70711    0.271103   -2.00879\n",
       " -0.263698    2.24641    0.00595172     -1.77605   -0.0996247  -1.20724\n",
       "  1.49879    -2.46259    0.0674447      -2.47969   -0.276394   -1.33608\n",
       " -2.25188    -3.70711   -1.77605         5.20593   -0.507679    3.23764\n",
       " -0.0609383   0.271103  -0.0996247   …  -0.507679  -0.765514   -2.29763\n",
       "  0.484433   -2.00879   -1.20724         3.23764   -2.29763     2.51218"
      ]
     },
     "execution_count": 337,
     "metadata": {},
     "output_type": "execute_result"
    }
   ],
   "source": [
    "# Example usage 3:\n",
    "A = randn(7, 7)\n",
    "A = A + A'"
   ]
  },
  {
   "cell_type": "code",
   "execution_count": 338,
   "id": "965e0646",
   "metadata": {},
   "outputs": [],
   "source": [
    "U, S, V = svd_num(A);"
   ]
  },
  {
   "cell_type": "code",
   "execution_count": 339,
   "id": "0a8bfa1d",
   "metadata": {},
   "outputs": [
    {
     "name": "stdout",
     "output_type": "stream",
     "text": [
      "7×7 adjoint(::Matrix{Float64}) with eltype Float64:\n",
      "  0.174943   0.0640936  -0.593528  -0.24224    0.532369    0.5045      0.128041\n",
      "  0.321801  -0.736645    0.324592  -0.167777   0.207892   -0.0423211   0.418663\n",
      "  0.239963   0.175661    0.248107   0.246154  -0.44828     0.695414    0.323815\n",
      "  0.173254  -0.550087   -0.483247   0.125958  -0.468765    0.106167   -0.432414\n",
      " -0.739344  -0.292915    0.240032  -0.231778   0.0560065   0.458272   -0.207568\n",
      "  0.126958  -0.0921622   0.228999   0.708834   0.499319    0.14855    -0.386155\n",
      " -0.464211  -0.159688   -0.370437   0.529667  -0.0145795  -0.129367    0.569463"
     ]
    }
   ],
   "source": [
    "show(stdout, \"text/plain\", U)"
   ]
  },
  {
   "cell_type": "code",
   "execution_count": 340,
   "id": "0b215648",
   "metadata": {},
   "outputs": [
    {
     "name": "stdout",
     "output_type": "stream",
     "text": [
      "7×7 Matrix{Real}:\n",
      " 10.6298  0        0         0         0          0        0\n",
      "  0       5.61064  0         0         0          0        0\n",
      "  0       0        3.43662   0         0          0        0\n",
      "  0       0        0        -2.44344   0          0        0\n",
      "  0       0        0         0        -0.358545   0        0\n",
      "  0       0        0         0         0         -1.27887  0\n",
      "  0       0        0         0         0          0        1.85023"
     ]
    }
   ],
   "source": [
    "show(stdout, \"text/plain\", S)"
   ]
  },
  {
   "cell_type": "code",
   "execution_count": 341,
   "id": "593fd832",
   "metadata": {},
   "outputs": [
    {
     "name": "stdout",
     "output_type": "stream",
     "text": [
      "7×7 adjoint(::Matrix{Float64}) with eltype Float64:\n",
      "  0.174943    0.321801    0.239963   0.173254  -0.739344    0.126958   -0.464211\n",
      " -0.0640936   0.736645   -0.175661   0.550087   0.292915    0.0921622   0.159688\n",
      " -0.593528    0.324592    0.248107  -0.483247   0.240032    0.228999   -0.370437\n",
      " -0.24224    -0.167777    0.246154   0.125958  -0.231778    0.708834    0.529667\n",
      "  0.532369    0.207892   -0.44828   -0.468765   0.0560065   0.499319   -0.0145795\n",
      "  0.5045     -0.0423211   0.695414   0.106167   0.458272    0.14855    -0.129367\n",
      "  0.128041    0.418663    0.323815  -0.432414  -0.207568   -0.386155    0.569463"
     ]
    }
   ],
   "source": [
    "show(stdout, \"text/plain\", V')"
   ]
  },
  {
   "cell_type": "code",
   "execution_count": 342,
   "id": "8898dd3c",
   "metadata": {},
   "outputs": [
    {
     "name": "stdout",
     "output_type": "stream",
     "text": [
      "6.259709455005749e-15"
     ]
    }
   ],
   "source": [
    "show(stdout, \"text/plain\", opnorm(U * S * V' - A, 1)/opnorm(A, 1))"
   ]
  },
  {
   "cell_type": "code",
   "execution_count": 343,
   "id": "a4360cca",
   "metadata": {},
   "outputs": [
    {
     "name": "stdout",
     "output_type": "stream",
     "text": [
      "3.4240546759456175e-15"
     ]
    }
   ],
   "source": [
    "show(stdout, \"text/plain\", opnorm(U * U' - I, 1))"
   ]
  },
  {
   "cell_type": "code",
   "execution_count": 344,
   "id": "d1ecd7aa",
   "metadata": {},
   "outputs": [
    {
     "name": "stdout",
     "output_type": "stream",
     "text": [
      "1.4179592197352932e-15"
     ]
    }
   ],
   "source": [
    "show(stdout, \"text/plain\", opnorm(V * V' - I, 1))"
   ]
  },
  {
   "cell_type": "code",
   "execution_count": null,
   "id": "cfe630ad",
   "metadata": {},
   "outputs": [],
   "source": []
  },
  {
   "cell_type": "code",
   "execution_count": null,
   "id": "a2e6a3dd",
   "metadata": {},
   "outputs": [],
   "source": []
  },
  {
   "cell_type": "markdown",
   "id": "bbb5671b",
   "metadata": {},
   "source": [
    "## Cubic convergence depiction"
   ]
  },
  {
   "cell_type": "markdown",
   "id": "1c280c17",
   "metadata": {},
   "source": [
    "### Square 7 x 7"
   ]
  },
  {
   "cell_type": "code",
   "execution_count": 345,
   "id": "a1136bbc",
   "metadata": {},
   "outputs": [
    {
     "data": {
      "text/plain": [
       "7×7 Matrix{Float64}:\n",
       " -1.04073    0.053814   -2.92224   …   1.44694   -1.39734   -0.725411\n",
       " -0.274919  -0.101573   -1.71808      -0.461289  -0.582377   0.479252\n",
       "  0.355803  -1.49176    -0.34424       0.502877   0.110579   0.701697\n",
       " -1.24524    1.34518     0.98848      -2.15816   -1.57999   -0.481111\n",
       "  0.869701  -0.0943626   0.18653      -0.899751  -0.419328   0.692226\n",
       "  1.32653    1.24485    -0.316911  …   0.732615   1.15753   -0.0764355\n",
       "  0.702917  -0.223941    0.198213      1.08421    1.01186    0.913431"
      ]
     },
     "execution_count": 345,
     "metadata": {},
     "output_type": "execute_result"
    }
   ],
   "source": [
    "A = randn(7, 7)"
   ]
  },
  {
   "cell_type": "code",
   "execution_count": 346,
   "id": "a41fc28b",
   "metadata": {},
   "outputs": [],
   "source": [
    "U, S, V, results = svd_num(A, 20, true);"
   ]
  },
  {
   "cell_type": "code",
   "execution_count": 347,
   "id": "f0501f22",
   "metadata": {},
   "outputs": [
    {
     "name": "stdout",
     "output_type": "stream",
     "text": [
      "7.21828265551578e-14"
     ]
    }
   ],
   "source": [
    "show(stdout, \"text/plain\", opnorm(U * S * V' - A, 1)/opnorm(A, 1))"
   ]
  },
  {
   "cell_type": "code",
   "execution_count": 348,
   "id": "7dc19f63",
   "metadata": {},
   "outputs": [
    {
     "data": {
      "application/vnd.plotly.v1+json": {
       "config": {
        "editable": false,
        "responsive": true,
        "scrollZoom": true,
        "showLink": false,
        "staticPlot": false
       },
       "data": [
        {
         "line": {
          "shape": "linear"
         },
         "marker": {
          "color": 1
         },
         "mode": "lines+markers",
         "name": "σ2",
         "type": "scatter",
         "x": [
          1,
          2,
          3,
          4,
          5,
          6,
          7,
          8,
          9,
          10,
          11,
          12,
          13,
          14,
          15,
          16,
          17,
          18,
          19,
          20
         ],
         "y": [
          2.91639911420135,
          0.6586155715688562,
          0.29777874257894843,
          0.3028773837193999,
          0.3341240457988935,
          0.3608742698781525,
          0.37875831448585623,
          0.3842463101313671,
          0.37336924313785974,
          0.3460268855821229,
          0.29808655252576227,
          0.08908746811398255,
          0.0013615000846900179,
          4.66361812136257e-09,
          2.952529351182887e-19,
          2.952529351182887e-19,
          2.952529351182887e-19,
          2.952529351182887e-19,
          2.952529351182887e-19,
          2.952529351182887e-19
         ]
        },
        {
         "line": {
          "shape": "linear"
         },
         "marker": {
          "color": 2
         },
         "mode": "lines+markers",
         "name": "σ3",
         "type": "scatter",
         "x": [
          1,
          2,
          3,
          4,
          5,
          6,
          7,
          8,
          9,
          10,
          11,
          12,
          13,
          14,
          15,
          16,
          17,
          18,
          19,
          20
         ],
         "y": [
          1.3590230804885595,
          2.2916010008330607,
          1.5417146237666408,
          0.33478789673377723,
          0.06087796157009297,
          0.011883969633240187,
          0.002496523745472686,
          0.0006565934937562603,
          0.00011471050341294923,
          2.2581568212404062e-05,
          1.4118610378806144e-17,
          1.2121936418671451e-17,
          1.2863569941984983e-17,
          1.2853705037525812e-17,
          1.2853705071379443e-17,
          1.2853705071379443e-17,
          1.2853705071379443e-17,
          1.2853705071379443e-17,
          1.2853705071379443e-17,
          1.2853705071379443e-17
         ]
        },
        {
         "line": {
          "shape": "linear"
         },
         "marker": {
          "color": 3
         },
         "mode": "lines+markers",
         "name": "σ4",
         "type": "scatter",
         "x": [
          1,
          2,
          3,
          4,
          5,
          6,
          7,
          8,
          9,
          10,
          11,
          12,
          13,
          14,
          15,
          16,
          17,
          18,
          19,
          20
         ],
         "y": [
          3.0323172031752135,
          0.7943815228978284,
          0.18218627350974295,
          0.2339884255230498,
          0.39215093065254986,
          0.566025826109528,
          0.5994854740708512,
          0.42840805352925143,
          1.7174737665049552e-08,
          3.291167837389897e-13,
          3.29116783773571e-13,
          3.29116783773571e-13,
          3.29116783773571e-13,
          3.29116783773571e-13,
          3.29116783773571e-13,
          3.29116783773571e-13,
          3.29116783773571e-13,
          3.29116783773571e-13,
          3.29116783773571e-13,
          3.29116783773571e-13
         ]
        },
        {
         "line": {
          "shape": "linear"
         },
         "marker": {
          "color": 4
         },
         "mode": "lines+markers",
         "name": "σ5",
         "type": "scatter",
         "x": [
          1,
          2,
          3,
          4,
          5,
          6,
          7,
          8,
          9,
          10,
          11,
          12,
          13,
          14,
          15,
          16,
          17,
          18,
          19,
          20
         ],
         "y": [
          0.4810923254225442,
          0.8633130139418724,
          1.3649815766155975,
          0.22933197896927837,
          0.016282105669375737,
          0.0012710120067817787,
          4.881984960208031e-11,
          8.617599804045992e-18,
          8.146599897185118e-18,
          8.146599930829394e-18,
          8.146599930829394e-18,
          8.146599930829394e-18,
          8.146599930829394e-18,
          8.146599930829394e-18,
          8.146599930829394e-18,
          8.146599930829394e-18,
          8.146599930829394e-18,
          8.146599930829394e-18,
          8.146599930829394e-18,
          8.146599930829394e-18
         ]
        },
        {
         "line": {
          "shape": "linear"
         },
         "marker": {
          "color": 5
         },
         "mode": "lines+markers",
         "name": "σ6",
         "type": "scatter",
         "x": [
          1,
          2,
          3,
          4,
          5,
          6,
          7,
          8,
          9,
          10,
          11,
          12,
          13,
          14,
          15,
          16,
          17,
          18,
          19,
          20
         ],
         "y": [
          1.712102235946106,
          0.4836065614194569,
          0.1064190036542314,
          0.05160383155543439,
          8.261338695119638e-05,
          1.4193846397619618e-15,
          1.4193880202513588e-15,
          1.419388020251089e-15,
          1.419388020251089e-15,
          1.419388020251089e-15,
          1.419388020251089e-15,
          1.419388020251089e-15,
          1.419388020251089e-15,
          1.419388020251089e-15,
          1.419388020251089e-15,
          1.419388020251089e-15,
          1.419388020251089e-15,
          1.419388020251089e-15,
          1.419388020251089e-15,
          1.419388020251089e-15
         ]
        },
        {
         "line": {
          "shape": "linear"
         },
         "marker": {
          "color": 6
         },
         "mode": "lines+markers",
         "name": "σ7",
         "type": "scatter",
         "x": [
          1,
          2,
          3,
          4,
          5,
          6,
          7,
          8,
          9,
          10,
          11,
          12,
          13,
          14,
          15,
          16,
          17,
          18,
          19,
          20
         ],
         "y": [
          0.36679756672910996,
          0.05667580345534409,
          0.00016048807939097432,
          3.0308446430325955e-13,
          3.0207081146356497e-13,
          3.0207402517933193e-13,
          3.0207402517933193e-13,
          3.0207402517933193e-13,
          3.0207402517933193e-13,
          3.0207402517933193e-13,
          3.0207402517933193e-13,
          3.0207402517933193e-13,
          3.0207402517933193e-13,
          3.0207402517933193e-13,
          3.0207402517933193e-13,
          3.0207402517933193e-13,
          3.0207402517933193e-13,
          3.0207402517933193e-13,
          3.0207402517933193e-13,
          3.0207402517933193e-13
         ]
        }
       ],
       "frames": [],
       "layout": {
        "margin": {
         "b": 50,
         "l": 50,
         "r": 50,
         "t": 60
        },
        "showlegend": true,
        "template": {
         "data": {
          "bar": [
           {
            "error_x": {
             "color": "#2a3f5f"
            },
            "error_y": {
             "color": "#2a3f5f"
            },
            "marker": {
             "line": {
              "color": "#E5ECF6",
              "width": 0.5
             }
            },
            "type": "bar"
           }
          ],
          "barpolar": [
           {
            "marker": {
             "line": {
              "color": "#E5ECF6",
              "width": 0.5
             }
            },
            "type": "barpolar"
           }
          ],
          "carpet": [
           {
            "aaxis": {
             "endlinecolor": "#2a3f5f",
             "gridcolor": "white",
             "linecolor": "white",
             "minorgridcolor": "white",
             "startlinecolor": "#2a3f5f"
            },
            "baxis": {
             "endlinecolor": "#2a3f5f",
             "gridcolor": "white",
             "linecolor": "white",
             "minorgridcolor": "white",
             "startlinecolor": "#2a3f5f"
            },
            "type": "carpet"
           }
          ],
          "choropleth": [
           {
            "colorbar": {
             "outlinewidth": 0,
             "ticks": ""
            },
            "type": "choropleth"
           }
          ],
          "contour": [
           {
            "colorbar": {
             "outlinewidth": 0,
             "ticks": ""
            },
            "colorscale": [
             [
              0,
              "#0d0887"
             ],
             [
              0.1111111111111111,
              "#46039f"
             ],
             [
              0.2222222222222222,
              "#7201a8"
             ],
             [
              0.3333333333333333,
              "#9c179e"
             ],
             [
              0.4444444444444444,
              "#bd3786"
             ],
             [
              0.5555555555555556,
              "#d8576b"
             ],
             [
              0.6666666666666666,
              "#ed7953"
             ],
             [
              0.7777777777777778,
              "#fb9f3a"
             ],
             [
              0.8888888888888888,
              "#fdca26"
             ],
             [
              1,
              "#f0f921"
             ]
            ],
            "type": "contour"
           }
          ],
          "contourcarpet": [
           {
            "colorbar": {
             "outlinewidth": 0,
             "ticks": ""
            },
            "type": "contourcarpet"
           }
          ],
          "heatmap": [
           {
            "colorbar": {
             "outlinewidth": 0,
             "ticks": ""
            },
            "colorscale": [
             [
              0,
              "#0d0887"
             ],
             [
              0.1111111111111111,
              "#46039f"
             ],
             [
              0.2222222222222222,
              "#7201a8"
             ],
             [
              0.3333333333333333,
              "#9c179e"
             ],
             [
              0.4444444444444444,
              "#bd3786"
             ],
             [
              0.5555555555555556,
              "#d8576b"
             ],
             [
              0.6666666666666666,
              "#ed7953"
             ],
             [
              0.7777777777777778,
              "#fb9f3a"
             ],
             [
              0.8888888888888888,
              "#fdca26"
             ],
             [
              1,
              "#f0f921"
             ]
            ],
            "type": "heatmap"
           }
          ],
          "heatmapgl": [
           {
            "colorbar": {
             "outlinewidth": 0,
             "ticks": ""
            },
            "colorscale": [
             [
              0,
              "#0d0887"
             ],
             [
              0.1111111111111111,
              "#46039f"
             ],
             [
              0.2222222222222222,
              "#7201a8"
             ],
             [
              0.3333333333333333,
              "#9c179e"
             ],
             [
              0.4444444444444444,
              "#bd3786"
             ],
             [
              0.5555555555555556,
              "#d8576b"
             ],
             [
              0.6666666666666666,
              "#ed7953"
             ],
             [
              0.7777777777777778,
              "#fb9f3a"
             ],
             [
              0.8888888888888888,
              "#fdca26"
             ],
             [
              1,
              "#f0f921"
             ]
            ],
            "type": "heatmapgl"
           }
          ],
          "histogram": [
           {
            "marker": {
             "colorbar": {
              "outlinewidth": 0,
              "ticks": ""
             }
            },
            "type": "histogram"
           }
          ],
          "histogram2d": [
           {
            "colorbar": {
             "outlinewidth": 0,
             "ticks": ""
            },
            "colorscale": [
             [
              0,
              "#0d0887"
             ],
             [
              0.1111111111111111,
              "#46039f"
             ],
             [
              0.2222222222222222,
              "#7201a8"
             ],
             [
              0.3333333333333333,
              "#9c179e"
             ],
             [
              0.4444444444444444,
              "#bd3786"
             ],
             [
              0.5555555555555556,
              "#d8576b"
             ],
             [
              0.6666666666666666,
              "#ed7953"
             ],
             [
              0.7777777777777778,
              "#fb9f3a"
             ],
             [
              0.8888888888888888,
              "#fdca26"
             ],
             [
              1,
              "#f0f921"
             ]
            ],
            "type": "histogram2d"
           }
          ],
          "histogram2dcontour": [
           {
            "colorbar": {
             "outlinewidth": 0,
             "ticks": ""
            },
            "colorscale": [
             [
              0,
              "#0d0887"
             ],
             [
              0.1111111111111111,
              "#46039f"
             ],
             [
              0.2222222222222222,
              "#7201a8"
             ],
             [
              0.3333333333333333,
              "#9c179e"
             ],
             [
              0.4444444444444444,
              "#bd3786"
             ],
             [
              0.5555555555555556,
              "#d8576b"
             ],
             [
              0.6666666666666666,
              "#ed7953"
             ],
             [
              0.7777777777777778,
              "#fb9f3a"
             ],
             [
              0.8888888888888888,
              "#fdca26"
             ],
             [
              1,
              "#f0f921"
             ]
            ],
            "type": "histogram2dcontour"
           }
          ],
          "mesh3d": [
           {
            "colorbar": {
             "outlinewidth": 0,
             "ticks": ""
            },
            "type": "mesh3d"
           }
          ],
          "parcoords": [
           {
            "line": {
             "colorbar": {
              "outlinewidth": 0,
              "ticks": ""
             }
            },
            "type": "parcoords"
           }
          ],
          "pie": [
           {
            "automargin": true,
            "type": "pie"
           }
          ],
          "scatter": [
           {
            "marker": {
             "colorbar": {
              "outlinewidth": 0,
              "ticks": ""
             }
            },
            "type": "scatter"
           }
          ],
          "scatter3d": [
           {
            "line": {
             "colorbar": {
              "outlinewidth": 0,
              "ticks": ""
             }
            },
            "marker": {
             "colorbar": {
              "outlinewidth": 0,
              "ticks": ""
             }
            },
            "type": "scatter3d"
           }
          ],
          "scattercarpet": [
           {
            "marker": {
             "colorbar": {
              "outlinewidth": 0,
              "ticks": ""
             }
            },
            "type": "scattercarpet"
           }
          ],
          "scattergeo": [
           {
            "marker": {
             "colorbar": {
              "outlinewidth": 0,
              "ticks": ""
             }
            },
            "type": "scattergeo"
           }
          ],
          "scattergl": [
           {
            "marker": {
             "colorbar": {
              "outlinewidth": 0,
              "ticks": ""
             }
            },
            "type": "scattergl"
           }
          ],
          "scattermapbox": [
           {
            "marker": {
             "colorbar": {
              "outlinewidth": 0,
              "ticks": ""
             }
            },
            "type": "scattermapbox"
           }
          ],
          "scatterpolar": [
           {
            "marker": {
             "colorbar": {
              "outlinewidth": 0,
              "ticks": ""
             }
            },
            "type": "scatterpolar"
           }
          ],
          "scatterpolargl": [
           {
            "marker": {
             "colorbar": {
              "outlinewidth": 0,
              "ticks": ""
             }
            },
            "type": "scatterpolargl"
           }
          ],
          "scatterternary": [
           {
            "marker": {
             "colorbar": {
              "outlinewidth": 0,
              "ticks": ""
             }
            },
            "type": "scatterternary"
           }
          ],
          "surface": [
           {
            "colorbar": {
             "outlinewidth": 0,
             "ticks": ""
            },
            "colorscale": [
             [
              0,
              "#0d0887"
             ],
             [
              0.1111111111111111,
              "#46039f"
             ],
             [
              0.2222222222222222,
              "#7201a8"
             ],
             [
              0.3333333333333333,
              "#9c179e"
             ],
             [
              0.4444444444444444,
              "#bd3786"
             ],
             [
              0.5555555555555556,
              "#d8576b"
             ],
             [
              0.6666666666666666,
              "#ed7953"
             ],
             [
              0.7777777777777778,
              "#fb9f3a"
             ],
             [
              0.8888888888888888,
              "#fdca26"
             ],
             [
              1,
              "#f0f921"
             ]
            ],
            "type": "surface"
           }
          ],
          "table": [
           {
            "cells": {
             "fill": {
              "color": "#EBF0F8"
             },
             "line": {
              "color": "white"
             }
            },
            "header": {
             "fill": {
              "color": "#C8D4E3"
             },
             "line": {
              "color": "white"
             }
            },
            "type": "table"
           }
          ]
         },
         "layout": {
          "annotationdefaults": {
           "arrowcolor": "#2a3f5f",
           "arrowhead": 0,
           "arrowwidth": 1
          },
          "autotypenumbers": "strict",
          "coloraxis": {
           "colorbar": {
            "outlinewidth": 0,
            "ticks": ""
           }
          },
          "colorscale": {
           "diverging": [
            [
             0,
             "#8e0152"
            ],
            [
             0.1,
             "#c51b7d"
            ],
            [
             0.2,
             "#de77ae"
            ],
            [
             0.3,
             "#f1b6da"
            ],
            [
             0.4,
             "#fde0ef"
            ],
            [
             0.5,
             "#f7f7f7"
            ],
            [
             0.6,
             "#e6f5d0"
            ],
            [
             0.7,
             "#b8e186"
            ],
            [
             0.8,
             "#7fbc41"
            ],
            [
             0.9,
             "#4d9221"
            ],
            [
             1,
             "#276419"
            ]
           ],
           "sequential": [
            [
             0,
             "#0d0887"
            ],
            [
             0.1111111111111111,
             "#46039f"
            ],
            [
             0.2222222222222222,
             "#7201a8"
            ],
            [
             0.3333333333333333,
             "#9c179e"
            ],
            [
             0.4444444444444444,
             "#bd3786"
            ],
            [
             0.5555555555555556,
             "#d8576b"
            ],
            [
             0.6666666666666666,
             "#ed7953"
            ],
            [
             0.7777777777777778,
             "#fb9f3a"
            ],
            [
             0.8888888888888888,
             "#fdca26"
            ],
            [
             1,
             "#f0f921"
            ]
           ],
           "sequentialminus": [
            [
             0,
             "#0d0887"
            ],
            [
             0.1111111111111111,
             "#46039f"
            ],
            [
             0.2222222222222222,
             "#7201a8"
            ],
            [
             0.3333333333333333,
             "#9c179e"
            ],
            [
             0.4444444444444444,
             "#bd3786"
            ],
            [
             0.5555555555555556,
             "#d8576b"
            ],
            [
             0.6666666666666666,
             "#ed7953"
            ],
            [
             0.7777777777777778,
             "#fb9f3a"
            ],
            [
             0.8888888888888888,
             "#fdca26"
            ],
            [
             1,
             "#f0f921"
            ]
           ]
          },
          "colorway": [
           "#636efa",
           "#EF553B",
           "#00cc96",
           "#ab63fa",
           "#FFA15A",
           "#19d3f3",
           "#FF6692",
           "#B6E880",
           "#FF97FF",
           "#FECB52"
          ],
          "font": {
           "color": "#2a3f5f"
          },
          "geo": {
           "bgcolor": "white",
           "lakecolor": "white",
           "landcolor": "#E5ECF6",
           "showlakes": true,
           "showland": true,
           "subunitcolor": "white"
          },
          "hoverlabel": {
           "align": "left"
          },
          "hovermode": "closest",
          "mapbox": {
           "style": "light"
          },
          "paper_bgcolor": "white",
          "plot_bgcolor": "#E5ECF6",
          "polar": {
           "angularaxis": {
            "gridcolor": "white",
            "linecolor": "white",
            "ticks": ""
           },
           "bgcolor": "#E5ECF6",
           "radialaxis": {
            "gridcolor": "white",
            "linecolor": "white",
            "ticks": ""
           }
          },
          "scene": {
           "xaxis": {
            "backgroundcolor": "#E5ECF6",
            "gridcolor": "white",
            "gridwidth": 2,
            "linecolor": "white",
            "showbackground": true,
            "ticks": "",
            "zerolinecolor": "white"
           },
           "yaxis": {
            "backgroundcolor": "#E5ECF6",
            "gridcolor": "white",
            "gridwidth": 2,
            "linecolor": "white",
            "showbackground": true,
            "ticks": "",
            "zerolinecolor": "white"
           },
           "zaxis": {
            "backgroundcolor": "#E5ECF6",
            "gridcolor": "white",
            "gridwidth": 2,
            "linecolor": "white",
            "showbackground": true,
            "ticks": "",
            "zerolinecolor": "white"
           }
          },
          "shapedefaults": {
           "line": {
            "color": "#2a3f5f"
           }
          },
          "ternary": {
           "aaxis": {
            "gridcolor": "white",
            "linecolor": "white",
            "ticks": ""
           },
           "baxis": {
            "gridcolor": "white",
            "linecolor": "white",
            "ticks": ""
           },
           "bgcolor": "#E5ECF6",
           "caxis": {
            "gridcolor": "white",
            "linecolor": "white",
            "ticks": ""
           }
          },
          "title": {
           "x": 0.05
          },
          "xaxis": {
           "automargin": true,
           "gridcolor": "white",
           "linecolor": "white",
           "ticks": "",
           "title": {
            "standoff": 15
           },
           "zerolinecolor": "white",
           "zerolinewidth": 2
          },
          "yaxis": {
           "automargin": true,
           "gridcolor": "white",
           "linecolor": "white",
           "ticks": "",
           "title": {
            "standoff": 15
           },
           "zerolinecolor": "white",
           "zerolinewidth": 2
          }
         }
        },
        "title": "Value of element above diagonal σ_i",
        "xaxis": {
         "title": {
          "text": "Iteration"
         }
        },
        "yaxis": {
         "tickformat": "e",
         "title": {
          "text": "Error"
         },
         "type": "log"
        }
       }
      },
      "text/html": [
       "<div\n",
       "    class=\"webio-mountpoint\"\n",
       "    data-webio-mountpoint=\"9618797360744954251\"\n",
       ">\n",
       "    <script>\n",
       "    (function(){\n",
       "    // Some integrations (namely, IJulia/Jupyter) use an alternate render pathway than\n",
       "    // just putting the html on the page. If WebIO isn't defined, then it's pretty likely\n",
       "    // that we're in one of those situations and the integration just isn't installed\n",
       "    // correctly.\n",
       "    if (typeof window.WebIO === \"undefined\") {\n",
       "        document\n",
       "            .querySelector('[data-webio-mountpoint=\"9618797360744954251\"]')\n",
       "            .innerHTML = (\n",
       "                '<div style=\"padding: 1em; background-color: #f8d6da; border: 1px solid #f5c6cb; font-weight: bold;\">' +\n",
       "                '<p><strong>WebIO not detected.</strong></p>' +\n",
       "                '<p>Please read ' +\n",
       "                '<a href=\"https://juliagizmos.github.io/WebIO.jl/latest/troubleshooting/not-detected/\" target=\"_blank\">the troubleshooting guide</a> ' +\n",
       "                'for more information on how to resolve this issue.</p>' +\n",
       "                '<p><a href=\"https://juliagizmos.github.io/WebIO.jl/latest/troubleshooting/not-detected/\" target=\"_blank\">https://juliagizmos.github.io/WebIO.jl/latest/troubleshooting/not-detected/</a></p>' +\n",
       "                '</div>'\n",
       "            );\n",
       "        return;\n",
       "    }\n",
       "    WebIO.mount(\n",
       "        document.querySelector('[data-webio-mountpoint=\"9618797360744954251\"]'),\n",
       "        {\"props\":{},\"nodeType\":\"Scope\",\"type\":\"node\",\"instanceArgs\":{\"imports\":{\"data\":[{\"name\":\"Plotly\",\"type\":\"js\",\"url\":\"\\/assetserver\\/d6feb8d8ce4676ebdde817a0745950a35b4ba3ae-plotly.min.js\"},{\"name\":null,\"type\":\"js\",\"url\":\"\\/assetserver\\/46c9ff4df7c73b5875052df387368a00f6cfc484-plotly_webio.bundle.js\"}],\"type\":\"async_block\"},\"id\":\"5848023416628533538\",\"handlers\":{\"_toImage\":[\"(function (options){return this.Plotly.toImage(this.plotElem,options).then((function (data){return WebIO.setval({\\\"name\\\":\\\"image\\\",\\\"scope\\\":\\\"5848023416628533538\\\",\\\"id\\\":\\\"155\\\",\\\"type\\\":\\\"observable\\\"},data)}))})\"],\"__get_gd_contents\":[\"(function (prop){prop==\\\"data\\\" ? (WebIO.setval({\\\"name\\\":\\\"__gd_contents\\\",\\\"scope\\\":\\\"5848023416628533538\\\",\\\"id\\\":\\\"156\\\",\\\"type\\\":\\\"observable\\\"},this.plotElem.data)) : undefined; return prop==\\\"layout\\\" ? (WebIO.setval({\\\"name\\\":\\\"__gd_contents\\\",\\\"scope\\\":\\\"5848023416628533538\\\",\\\"id\\\":\\\"156\\\",\\\"type\\\":\\\"observable\\\"},this.plotElem.layout)) : undefined})\"],\"_downloadImage\":[\"(function (options){return this.Plotly.downloadImage(this.plotElem,options)})\"],\"_commands\":[\"(function (args){var fn=args.shift(); var elem=this.plotElem; var Plotly=this.Plotly; args.unshift(elem); return Plotly[fn].apply(this,args)})\"]},\"systemjs_options\":null,\"mount_callbacks\":[\"function () {\\n    var handler = ((function (Plotly,PlotlyWebIO){PlotlyWebIO.init(WebIO); var gd=this.dom.querySelector(\\\"#plot-bf555f6d-dae7-4494-9c88-4f5fe9a0bac8\\\"); this.plotElem=gd; this.Plotly=Plotly; (window.Blink!==undefined) ? (gd.style.width=\\\"100%\\\", gd.style.height=\\\"100vh\\\", gd.style.marginLeft=\\\"0%\\\", gd.style.marginTop=\\\"0vh\\\") : undefined; window.onresize=(function (){return Plotly.Plots.resize(gd)}); Plotly.newPlot(gd,[{\\\"x\\\":[1,2,3,4,5,6,7,8,9,10,11,12,13,14,15,16,17,18,19,20],\\\"mode\\\":\\\"lines+markers\\\",\\\"line\\\":{\\\"shape\\\":\\\"linear\\\"},\\\"y\\\":[2.91639911420135,0.6586155715688562,0.29777874257894843,0.3028773837193999,0.3341240457988935,0.3608742698781525,0.37875831448585623,0.3842463101313671,0.37336924313785974,0.3460268855821229,0.29808655252576227,0.08908746811398255,0.0013615000846900179,4.66361812136257e-9,2.952529351182887e-19,2.952529351182887e-19,2.952529351182887e-19,2.952529351182887e-19,2.952529351182887e-19,2.952529351182887e-19],\\\"type\\\":\\\"scatter\\\",\\\"name\\\":\\\"σ2\\\",\\\"marker\\\":{\\\"color\\\":1}},{\\\"x\\\":[1,2,3,4,5,6,7,8,9,10,11,12,13,14,15,16,17,18,19,20],\\\"mode\\\":\\\"lines+markers\\\",\\\"line\\\":{\\\"shape\\\":\\\"linear\\\"},\\\"y\\\":[1.3590230804885595,2.2916010008330607,1.5417146237666408,0.33478789673377723,0.06087796157009297,0.011883969633240187,0.002496523745472686,0.0006565934937562603,0.00011471050341294923,2.2581568212404062e-5,1.4118610378806144e-17,1.2121936418671451e-17,1.2863569941984983e-17,1.2853705037525812e-17,1.2853705071379443e-17,1.2853705071379443e-17,1.2853705071379443e-17,1.2853705071379443e-17,1.2853705071379443e-17,1.2853705071379443e-17],\\\"type\\\":\\\"scatter\\\",\\\"name\\\":\\\"σ3\\\",\\\"marker\\\":{\\\"color\\\":2}},{\\\"x\\\":[1,2,3,4,5,6,7,8,9,10,11,12,13,14,15,16,17,18,19,20],\\\"mode\\\":\\\"lines+markers\\\",\\\"line\\\":{\\\"shape\\\":\\\"linear\\\"},\\\"y\\\":[3.0323172031752135,0.7943815228978284,0.18218627350974295,0.2339884255230498,0.39215093065254986,0.566025826109528,0.5994854740708512,0.42840805352925143,1.7174737665049552e-8,3.291167837389897e-13,3.29116783773571e-13,3.29116783773571e-13,3.29116783773571e-13,3.29116783773571e-13,3.29116783773571e-13,3.29116783773571e-13,3.29116783773571e-13,3.29116783773571e-13,3.29116783773571e-13,3.29116783773571e-13],\\\"type\\\":\\\"scatter\\\",\\\"name\\\":\\\"σ4\\\",\\\"marker\\\":{\\\"color\\\":3}},{\\\"x\\\":[1,2,3,4,5,6,7,8,9,10,11,12,13,14,15,16,17,18,19,20],\\\"mode\\\":\\\"lines+markers\\\",\\\"line\\\":{\\\"shape\\\":\\\"linear\\\"},\\\"y\\\":[0.4810923254225442,0.8633130139418724,1.3649815766155975,0.22933197896927837,0.016282105669375737,0.0012710120067817787,4.881984960208031e-11,8.617599804045992e-18,8.146599897185118e-18,8.146599930829394e-18,8.146599930829394e-18,8.146599930829394e-18,8.146599930829394e-18,8.146599930829394e-18,8.146599930829394e-18,8.146599930829394e-18,8.146599930829394e-18,8.146599930829394e-18,8.146599930829394e-18,8.146599930829394e-18],\\\"type\\\":\\\"scatter\\\",\\\"name\\\":\\\"σ5\\\",\\\"marker\\\":{\\\"color\\\":4}},{\\\"x\\\":[1,2,3,4,5,6,7,8,9,10,11,12,13,14,15,16,17,18,19,20],\\\"mode\\\":\\\"lines+markers\\\",\\\"line\\\":{\\\"shape\\\":\\\"linear\\\"},\\\"y\\\":[1.712102235946106,0.4836065614194569,0.1064190036542314,0.05160383155543439,8.261338695119638e-5,1.4193846397619618e-15,1.4193880202513588e-15,1.419388020251089e-15,1.419388020251089e-15,1.419388020251089e-15,1.419388020251089e-15,1.419388020251089e-15,1.419388020251089e-15,1.419388020251089e-15,1.419388020251089e-15,1.419388020251089e-15,1.419388020251089e-15,1.419388020251089e-15,1.419388020251089e-15,1.419388020251089e-15],\\\"type\\\":\\\"scatter\\\",\\\"name\\\":\\\"σ6\\\",\\\"marker\\\":{\\\"color\\\":5}},{\\\"x\\\":[1,2,3,4,5,6,7,8,9,10,11,12,13,14,15,16,17,18,19,20],\\\"mode\\\":\\\"lines+markers\\\",\\\"line\\\":{\\\"shape\\\":\\\"linear\\\"},\\\"y\\\":[0.36679756672910996,0.05667580345534409,0.00016048807939097432,3.0308446430325955e-13,3.0207081146356497e-13,3.0207402517933193e-13,3.0207402517933193e-13,3.0207402517933193e-13,3.0207402517933193e-13,3.0207402517933193e-13,3.0207402517933193e-13,3.0207402517933193e-13,3.0207402517933193e-13,3.0207402517933193e-13,3.0207402517933193e-13,3.0207402517933193e-13,3.0207402517933193e-13,3.0207402517933193e-13,3.0207402517933193e-13,3.0207402517933193e-13],\\\"type\\\":\\\"scatter\\\",\\\"name\\\":\\\"σ7\\\",\\\"marker\\\":{\\\"color\\\":6}}],{\\\"showlegend\\\":true,\\\"xaxis\\\":{\\\"title\\\":{\\\"text\\\":\\\"Iteration\\\"}},\\\"template\\\":{\\\"layout\\\":{\\\"coloraxis\\\":{\\\"colorbar\\\":{\\\"ticks\\\":\\\"\\\",\\\"outlinewidth\\\":0}},\\\"xaxis\\\":{\\\"gridcolor\\\":\\\"white\\\",\\\"zerolinewidth\\\":2,\\\"title\\\":{\\\"standoff\\\":15},\\\"ticks\\\":\\\"\\\",\\\"zerolinecolor\\\":\\\"white\\\",\\\"automargin\\\":true,\\\"linecolor\\\":\\\"white\\\"},\\\"hovermode\\\":\\\"closest\\\",\\\"paper_bgcolor\\\":\\\"white\\\",\\\"geo\\\":{\\\"showlakes\\\":true,\\\"showland\\\":true,\\\"landcolor\\\":\\\"#E5ECF6\\\",\\\"bgcolor\\\":\\\"white\\\",\\\"subunitcolor\\\":\\\"white\\\",\\\"lakecolor\\\":\\\"white\\\"},\\\"colorscale\\\":{\\\"sequential\\\":[[0.0,\\\"#0d0887\\\"],[0.1111111111111111,\\\"#46039f\\\"],[0.2222222222222222,\\\"#7201a8\\\"],[0.3333333333333333,\\\"#9c179e\\\"],[0.4444444444444444,\\\"#bd3786\\\"],[0.5555555555555556,\\\"#d8576b\\\"],[0.6666666666666666,\\\"#ed7953\\\"],[0.7777777777777778,\\\"#fb9f3a\\\"],[0.8888888888888888,\\\"#fdca26\\\"],[1.0,\\\"#f0f921\\\"]],\\\"diverging\\\":[[0,\\\"#8e0152\\\"],[0.1,\\\"#c51b7d\\\"],[0.2,\\\"#de77ae\\\"],[0.3,\\\"#f1b6da\\\"],[0.4,\\\"#fde0ef\\\"],[0.5,\\\"#f7f7f7\\\"],[0.6,\\\"#e6f5d0\\\"],[0.7,\\\"#b8e186\\\"],[0.8,\\\"#7fbc41\\\"],[0.9,\\\"#4d9221\\\"],[1,\\\"#276419\\\"]],\\\"sequentialminus\\\":[[0.0,\\\"#0d0887\\\"],[0.1111111111111111,\\\"#46039f\\\"],[0.2222222222222222,\\\"#7201a8\\\"],[0.3333333333333333,\\\"#9c179e\\\"],[0.4444444444444444,\\\"#bd3786\\\"],[0.5555555555555556,\\\"#d8576b\\\"],[0.6666666666666666,\\\"#ed7953\\\"],[0.7777777777777778,\\\"#fb9f3a\\\"],[0.8888888888888888,\\\"#fdca26\\\"],[1.0,\\\"#f0f921\\\"]]},\\\"yaxis\\\":{\\\"gridcolor\\\":\\\"white\\\",\\\"zerolinewidth\\\":2,\\\"title\\\":{\\\"standoff\\\":15},\\\"ticks\\\":\\\"\\\",\\\"zerolinecolor\\\":\\\"white\\\",\\\"automargin\\\":true,\\\"linecolor\\\":\\\"white\\\"},\\\"shapedefaults\\\":{\\\"line\\\":{\\\"color\\\":\\\"#2a3f5f\\\"}},\\\"hoverlabel\\\":{\\\"align\\\":\\\"left\\\"},\\\"mapbox\\\":{\\\"style\\\":\\\"light\\\"},\\\"polar\\\":{\\\"angularaxis\\\":{\\\"gridcolor\\\":\\\"white\\\",\\\"ticks\\\":\\\"\\\",\\\"linecolor\\\":\\\"white\\\"},\\\"bgcolor\\\":\\\"#E5ECF6\\\",\\\"radialaxis\\\":{\\\"gridcolor\\\":\\\"white\\\",\\\"ticks\\\":\\\"\\\",\\\"linecolor\\\":\\\"white\\\"}},\\\"autotypenumbers\\\":\\\"strict\\\",\\\"font\\\":{\\\"color\\\":\\\"#2a3f5f\\\"},\\\"ternary\\\":{\\\"baxis\\\":{\\\"gridcolor\\\":\\\"white\\\",\\\"ticks\\\":\\\"\\\",\\\"linecolor\\\":\\\"white\\\"},\\\"bgcolor\\\":\\\"#E5ECF6\\\",\\\"caxis\\\":{\\\"gridcolor\\\":\\\"white\\\",\\\"ticks\\\":\\\"\\\",\\\"linecolor\\\":\\\"white\\\"},\\\"aaxis\\\":{\\\"gridcolor\\\":\\\"white\\\",\\\"ticks\\\":\\\"\\\",\\\"linecolor\\\":\\\"white\\\"}},\\\"annotationdefaults\\\":{\\\"arrowhead\\\":0,\\\"arrowwidth\\\":1,\\\"arrowcolor\\\":\\\"#2a3f5f\\\"},\\\"plot_bgcolor\\\":\\\"#E5ECF6\\\",\\\"title\\\":{\\\"x\\\":0.05},\\\"scene\\\":{\\\"xaxis\\\":{\\\"gridcolor\\\":\\\"white\\\",\\\"gridwidth\\\":2,\\\"backgroundcolor\\\":\\\"#E5ECF6\\\",\\\"ticks\\\":\\\"\\\",\\\"showbackground\\\":true,\\\"zerolinecolor\\\":\\\"white\\\",\\\"linecolor\\\":\\\"white\\\"},\\\"zaxis\\\":{\\\"gridcolor\\\":\\\"white\\\",\\\"gridwidth\\\":2,\\\"backgroundcolor\\\":\\\"#E5ECF6\\\",\\\"ticks\\\":\\\"\\\",\\\"showbackground\\\":true,\\\"zerolinecolor\\\":\\\"white\\\",\\\"linecolor\\\":\\\"white\\\"},\\\"yaxis\\\":{\\\"gridcolor\\\":\\\"white\\\",\\\"gridwidth\\\":2,\\\"backgroundcolor\\\":\\\"#E5ECF6\\\",\\\"ticks\\\":\\\"\\\",\\\"showbackground\\\":true,\\\"zerolinecolor\\\":\\\"white\\\",\\\"linecolor\\\":\\\"white\\\"}},\\\"colorway\\\":[\\\"#636efa\\\",\\\"#EF553B\\\",\\\"#00cc96\\\",\\\"#ab63fa\\\",\\\"#FFA15A\\\",\\\"#19d3f3\\\",\\\"#FF6692\\\",\\\"#B6E880\\\",\\\"#FF97FF\\\",\\\"#FECB52\\\"]},\\\"data\\\":{\\\"barpolar\\\":[{\\\"type\\\":\\\"barpolar\\\",\\\"marker\\\":{\\\"line\\\":{\\\"color\\\":\\\"#E5ECF6\\\",\\\"width\\\":0.5}}}],\\\"carpet\\\":[{\\\"aaxis\\\":{\\\"gridcolor\\\":\\\"white\\\",\\\"endlinecolor\\\":\\\"#2a3f5f\\\",\\\"minorgridcolor\\\":\\\"white\\\",\\\"startlinecolor\\\":\\\"#2a3f5f\\\",\\\"linecolor\\\":\\\"white\\\"},\\\"type\\\":\\\"carpet\\\",\\\"baxis\\\":{\\\"gridcolor\\\":\\\"white\\\",\\\"endlinecolor\\\":\\\"#2a3f5f\\\",\\\"minorgridcolor\\\":\\\"white\\\",\\\"startlinecolor\\\":\\\"#2a3f5f\\\",\\\"linecolor\\\":\\\"white\\\"}}],\\\"scatterpolar\\\":[{\\\"type\\\":\\\"scatterpolar\\\",\\\"marker\\\":{\\\"colorbar\\\":{\\\"ticks\\\":\\\"\\\",\\\"outlinewidth\\\":0}}}],\\\"parcoords\\\":[{\\\"line\\\":{\\\"colorbar\\\":{\\\"ticks\\\":\\\"\\\",\\\"outlinewidth\\\":0}},\\\"type\\\":\\\"parcoords\\\"}],\\\"scatter\\\":[{\\\"type\\\":\\\"scatter\\\",\\\"marker\\\":{\\\"colorbar\\\":{\\\"ticks\\\":\\\"\\\",\\\"outlinewidth\\\":0}}}],\\\"histogram2dcontour\\\":[{\\\"colorbar\\\":{\\\"ticks\\\":\\\"\\\",\\\"outlinewidth\\\":0},\\\"type\\\":\\\"histogram2dcontour\\\",\\\"colorscale\\\":[[0.0,\\\"#0d0887\\\"],[0.1111111111111111,\\\"#46039f\\\"],[0.2222222222222222,\\\"#7201a8\\\"],[0.3333333333333333,\\\"#9c179e\\\"],[0.4444444444444444,\\\"#bd3786\\\"],[0.5555555555555556,\\\"#d8576b\\\"],[0.6666666666666666,\\\"#ed7953\\\"],[0.7777777777777778,\\\"#fb9f3a\\\"],[0.8888888888888888,\\\"#fdca26\\\"],[1.0,\\\"#f0f921\\\"]]}],\\\"contour\\\":[{\\\"colorbar\\\":{\\\"ticks\\\":\\\"\\\",\\\"outlinewidth\\\":0},\\\"type\\\":\\\"contour\\\",\\\"colorscale\\\":[[0.0,\\\"#0d0887\\\"],[0.1111111111111111,\\\"#46039f\\\"],[0.2222222222222222,\\\"#7201a8\\\"],[0.3333333333333333,\\\"#9c179e\\\"],[0.4444444444444444,\\\"#bd3786\\\"],[0.5555555555555556,\\\"#d8576b\\\"],[0.6666666666666666,\\\"#ed7953\\\"],[0.7777777777777778,\\\"#fb9f3a\\\"],[0.8888888888888888,\\\"#fdca26\\\"],[1.0,\\\"#f0f921\\\"]]}],\\\"scattercarpet\\\":[{\\\"type\\\":\\\"scattercarpet\\\",\\\"marker\\\":{\\\"colorbar\\\":{\\\"ticks\\\":\\\"\\\",\\\"outlinewidth\\\":0}}}],\\\"mesh3d\\\":[{\\\"colorbar\\\":{\\\"ticks\\\":\\\"\\\",\\\"outlinewidth\\\":0},\\\"type\\\":\\\"mesh3d\\\"}],\\\"surface\\\":[{\\\"colorbar\\\":{\\\"ticks\\\":\\\"\\\",\\\"outlinewidth\\\":0},\\\"type\\\":\\\"surface\\\",\\\"colorscale\\\":[[0.0,\\\"#0d0887\\\"],[0.1111111111111111,\\\"#46039f\\\"],[0.2222222222222222,\\\"#7201a8\\\"],[0.3333333333333333,\\\"#9c179e\\\"],[0.4444444444444444,\\\"#bd3786\\\"],[0.5555555555555556,\\\"#d8576b\\\"],[0.6666666666666666,\\\"#ed7953\\\"],[0.7777777777777778,\\\"#fb9f3a\\\"],[0.8888888888888888,\\\"#fdca26\\\"],[1.0,\\\"#f0f921\\\"]]}],\\\"scattermapbox\\\":[{\\\"type\\\":\\\"scattermapbox\\\",\\\"marker\\\":{\\\"colorbar\\\":{\\\"ticks\\\":\\\"\\\",\\\"outlinewidth\\\":0}}}],\\\"scattergeo\\\":[{\\\"type\\\":\\\"scattergeo\\\",\\\"marker\\\":{\\\"colorbar\\\":{\\\"ticks\\\":\\\"\\\",\\\"outlinewidth\\\":0}}}],\\\"histogram\\\":[{\\\"type\\\":\\\"histogram\\\",\\\"marker\\\":{\\\"colorbar\\\":{\\\"ticks\\\":\\\"\\\",\\\"outlinewidth\\\":0}}}],\\\"pie\\\":[{\\\"type\\\":\\\"pie\\\",\\\"automargin\\\":true}],\\\"choropleth\\\":[{\\\"colorbar\\\":{\\\"ticks\\\":\\\"\\\",\\\"outlinewidth\\\":0},\\\"type\\\":\\\"choropleth\\\"}],\\\"heatmapgl\\\":[{\\\"colorbar\\\":{\\\"ticks\\\":\\\"\\\",\\\"outlinewidth\\\":0},\\\"type\\\":\\\"heatmapgl\\\",\\\"colorscale\\\":[[0.0,\\\"#0d0887\\\"],[0.1111111111111111,\\\"#46039f\\\"],[0.2222222222222222,\\\"#7201a8\\\"],[0.3333333333333333,\\\"#9c179e\\\"],[0.4444444444444444,\\\"#bd3786\\\"],[0.5555555555555556,\\\"#d8576b\\\"],[0.6666666666666666,\\\"#ed7953\\\"],[0.7777777777777778,\\\"#fb9f3a\\\"],[0.8888888888888888,\\\"#fdca26\\\"],[1.0,\\\"#f0f921\\\"]]}],\\\"bar\\\":[{\\\"type\\\":\\\"bar\\\",\\\"error_y\\\":{\\\"color\\\":\\\"#2a3f5f\\\"},\\\"error_x\\\":{\\\"color\\\":\\\"#2a3f5f\\\"},\\\"marker\\\":{\\\"line\\\":{\\\"color\\\":\\\"#E5ECF6\\\",\\\"width\\\":0.5}}}],\\\"heatmap\\\":[{\\\"colorbar\\\":{\\\"ticks\\\":\\\"\\\",\\\"outlinewidth\\\":0},\\\"type\\\":\\\"heatmap\\\",\\\"colorscale\\\":[[0.0,\\\"#0d0887\\\"],[0.1111111111111111,\\\"#46039f\\\"],[0.2222222222222222,\\\"#7201a8\\\"],[0.3333333333333333,\\\"#9c179e\\\"],[0.4444444444444444,\\\"#bd3786\\\"],[0.5555555555555556,\\\"#d8576b\\\"],[0.6666666666666666,\\\"#ed7953\\\"],[0.7777777777777778,\\\"#fb9f3a\\\"],[0.8888888888888888,\\\"#fdca26\\\"],[1.0,\\\"#f0f921\\\"]]}],\\\"contourcarpet\\\":[{\\\"colorbar\\\":{\\\"ticks\\\":\\\"\\\",\\\"outlinewidth\\\":0},\\\"type\\\":\\\"contourcarpet\\\"}],\\\"table\\\":[{\\\"type\\\":\\\"table\\\",\\\"header\\\":{\\\"line\\\":{\\\"color\\\":\\\"white\\\"},\\\"fill\\\":{\\\"color\\\":\\\"#C8D4E3\\\"}},\\\"cells\\\":{\\\"line\\\":{\\\"color\\\":\\\"white\\\"},\\\"fill\\\":{\\\"color\\\":\\\"#EBF0F8\\\"}}}],\\\"scatter3d\\\":[{\\\"line\\\":{\\\"colorbar\\\":{\\\"ticks\\\":\\\"\\\",\\\"outlinewidth\\\":0}},\\\"type\\\":\\\"scatter3d\\\",\\\"marker\\\":{\\\"colorbar\\\":{\\\"ticks\\\":\\\"\\\",\\\"outlinewidth\\\":0}}}],\\\"scattergl\\\":[{\\\"type\\\":\\\"scattergl\\\",\\\"marker\\\":{\\\"colorbar\\\":{\\\"ticks\\\":\\\"\\\",\\\"outlinewidth\\\":0}}}],\\\"histogram2d\\\":[{\\\"colorbar\\\":{\\\"ticks\\\":\\\"\\\",\\\"outlinewidth\\\":0},\\\"type\\\":\\\"histogram2d\\\",\\\"colorscale\\\":[[0.0,\\\"#0d0887\\\"],[0.1111111111111111,\\\"#46039f\\\"],[0.2222222222222222,\\\"#7201a8\\\"],[0.3333333333333333,\\\"#9c179e\\\"],[0.4444444444444444,\\\"#bd3786\\\"],[0.5555555555555556,\\\"#d8576b\\\"],[0.6666666666666666,\\\"#ed7953\\\"],[0.7777777777777778,\\\"#fb9f3a\\\"],[0.8888888888888888,\\\"#fdca26\\\"],[1.0,\\\"#f0f921\\\"]]}],\\\"scatterternary\\\":[{\\\"type\\\":\\\"scatterternary\\\",\\\"marker\\\":{\\\"colorbar\\\":{\\\"ticks\\\":\\\"\\\",\\\"outlinewidth\\\":0}}}],\\\"scatterpolargl\\\":[{\\\"type\\\":\\\"scatterpolargl\\\",\\\"marker\\\":{\\\"colorbar\\\":{\\\"ticks\\\":\\\"\\\",\\\"outlinewidth\\\":0}}}]}},\\\"margin\\\":{\\\"l\\\":50,\\\"b\\\":50,\\\"r\\\":50,\\\"t\\\":60},\\\"title\\\":\\\"Value of element above diagonal σ_i\\\",\\\"yaxis\\\":{\\\"type\\\":\\\"log\\\",\\\"title\\\":{\\\"text\\\":\\\"Error\\\"},\\\"tickformat\\\":\\\"e\\\"}},{\\\"showLink\\\":false,\\\"editable\\\":false,\\\"responsive\\\":true,\\\"staticPlot\\\":false,\\\"scrollZoom\\\":true}); gd.on(\\\"plotly_hover\\\",(function (data){var filtered_data=WebIO.PlotlyCommands.filterEventData(gd,data,\\\"hover\\\"); return !(filtered_data.isnil) ? (WebIO.setval({\\\"name\\\":\\\"hover\\\",\\\"scope\\\":\\\"5848023416628533538\\\",\\\"id\\\":\\\"151\\\",\\\"type\\\":\\\"observable\\\"},filtered_data.out)) : undefined})); gd.on(\\\"plotly_unhover\\\",(function (){return WebIO.setval({\\\"name\\\":\\\"hover\\\",\\\"scope\\\":\\\"5848023416628533538\\\",\\\"id\\\":\\\"151\\\",\\\"type\\\":\\\"observable\\\"},{})})); gd.on(\\\"plotly_selected\\\",(function (data){var filtered_data=WebIO.PlotlyCommands.filterEventData(gd,data,\\\"selected\\\"); return !(filtered_data.isnil) ? (WebIO.setval({\\\"name\\\":\\\"selected\\\",\\\"scope\\\":\\\"5848023416628533538\\\",\\\"id\\\":\\\"152\\\",\\\"type\\\":\\\"observable\\\"},filtered_data.out)) : undefined})); gd.on(\\\"plotly_deselect\\\",(function (){return WebIO.setval({\\\"name\\\":\\\"selected\\\",\\\"scope\\\":\\\"5848023416628533538\\\",\\\"id\\\":\\\"152\\\",\\\"type\\\":\\\"observable\\\"},{})})); gd.on(\\\"plotly_relayout\\\",(function (data){var filtered_data=WebIO.PlotlyCommands.filterEventData(gd,data,\\\"relayout\\\"); return !(filtered_data.isnil) ? (WebIO.setval({\\\"name\\\":\\\"relayout\\\",\\\"scope\\\":\\\"5848023416628533538\\\",\\\"id\\\":\\\"154\\\",\\\"type\\\":\\\"observable\\\"},filtered_data.out)) : undefined})); return gd.on(\\\"plotly_click\\\",(function (data){var filtered_data=WebIO.PlotlyCommands.filterEventData(gd,data,\\\"click\\\"); return !(filtered_data.isnil) ? (WebIO.setval({\\\"name\\\":\\\"click\\\",\\\"scope\\\":\\\"5848023416628533538\\\",\\\"id\\\":\\\"153\\\",\\\"type\\\":\\\"observable\\\"},filtered_data.out)) : undefined}))}));\\n    (WebIO.importBlock({\\\"data\\\":[{\\\"name\\\":\\\"Plotly\\\",\\\"type\\\":\\\"js\\\",\\\"url\\\":\\\"\\/assetserver\\/d6feb8d8ce4676ebdde817a0745950a35b4ba3ae-plotly.min.js\\\"},{\\\"name\\\":null,\\\"type\\\":\\\"js\\\",\\\"url\\\":\\\"\\/assetserver\\/46c9ff4df7c73b5875052df387368a00f6cfc484-plotly_webio.bundle.js\\\"}],\\\"type\\\":\\\"async_block\\\"})).then((imports) => handler.apply(this, imports));\\n}\\n\"],\"observables\":{\"_toImage\":{\"sync\":false,\"id\":\"158\",\"value\":{}},\"hover\":{\"sync\":false,\"id\":\"151\",\"value\":{}},\"selected\":{\"sync\":false,\"id\":\"152\",\"value\":{}},\"__gd_contents\":{\"sync\":false,\"id\":\"156\",\"value\":{}},\"click\":{\"sync\":false,\"id\":\"153\",\"value\":{}},\"image\":{\"sync\":true,\"id\":\"155\",\"value\":\"\"},\"__get_gd_contents\":{\"sync\":false,\"id\":\"160\",\"value\":\"\"},\"_downloadImage\":{\"sync\":false,\"id\":\"159\",\"value\":{}},\"relayout\":{\"sync\":false,\"id\":\"154\",\"value\":{}},\"_commands\":{\"sync\":false,\"id\":\"157\",\"value\":[]}}},\"children\":[{\"props\":{\"id\":\"plot-bf555f6d-dae7-4494-9c88-4f5fe9a0bac8\"},\"nodeType\":\"DOM\",\"type\":\"node\",\"instanceArgs\":{\"namespace\":\"html\",\"tag\":\"div\"},\"children\":[]}]},\n",
       "        window,\n",
       "    );\n",
       "    })()\n",
       "    </script>\n",
       "</div>\n"
      ],
      "text/plain": [
       "data: [\n",
       "  \"scatter with fields line, marker, mode, name, type, x, and y\",\n",
       "  \"scatter with fields line, marker, mode, name, type, x, and y\",\n",
       "  \"scatter with fields line, marker, mode, name, type, x, and y\",\n",
       "  \"scatter with fields line, marker, mode, name, type, x, and y\",\n",
       "  \"scatter with fields line, marker, mode, name, type, x, and y\",\n",
       "  \"scatter with fields line, marker, mode, name, type, x, and y\"\n",
       "]\n",
       "\n",
       "layout: \"layout with fields margin, showlegend, template, title, xaxis, and yaxis\"\n",
       "\n"
      ]
     },
     "execution_count": 348,
     "metadata": {},
     "output_type": "execute_result"
    }
   ],
   "source": [
    "function plot_convergence_error(error_vectors, labels)\n",
    "    iterations = 1:length(error_vectors[1])\n",
    "    traces = Vector{GenericTrace{Dict{Symbol, Any}}}()\n",
    "    \n",
    "    for (i, error_vector) in enumerate(error_vectors)\n",
    "        trace = scatter(\n",
    "            x = iterations,\n",
    "            y = error_vector,\n",
    "            mode = \"lines+markers\",\n",
    "            marker_color = i,\n",
    "            line_shape = \"linear\",\n",
    "            name = labels[i]\n",
    "        )\n",
    "        push!(traces, trace)\n",
    "    end\n",
    "    \n",
    "    layout = Layout(\n",
    "        title = \"Value of element above diagonal σ_i\",\n",
    "        xaxis_title = \"Iteration\",\n",
    "        yaxis_title = \"Error\",\n",
    "        yaxis_type = \"log\",\n",
    "        yaxis_tickformat = \"e\",\n",
    "        showlegend = true\n",
    "    )\n",
    "    \n",
    "    plot(traces, layout)\n",
    "end\n",
    "\n",
    "error_vectors = [\n",
    "    abs.(results[1, 1, :]),\n",
    "    abs.(results[1, 2, :]),\n",
    "    abs.(results[1, 3, :]),\n",
    "    abs.(results[1, 4, :]),\n",
    "    abs.(results[1, 5, :]),\n",
    "    abs.(results[1, 6, :])\n",
    "]\n",
    "labels = [\"σ2\", \"σ3\", \"σ4\", \"σ5\", \"σ6\", \"σ7\"]\n",
    "plot_convergence_error(error_vectors, labels)"
   ]
  },
  {
   "cell_type": "code",
   "execution_count": 349,
   "id": "05362722",
   "metadata": {},
   "outputs": [
    {
     "name": "stdout",
     "output_type": "stream",
     "text": [
      "1×20 adjoint(::Vector{Float64}) with eltype Float64:\n",
      " 1.94247  -2.36683  -4.06312  -4.38968  -4.38026  -4.35131  -4.3174  -4.28156  -4.2395  -4.20198  -4.1652  -4.10192  -4.09692  -4.09692  -4.09692  -4.09692  -4.09692  -4.09692  -4.09692  -4.09692"
     ]
    }
   ],
   "source": [
    "# σ_2\n",
    "show(stdout, \"text/plain\", results[2, 1, :]')"
   ]
  },
  {
   "cell_type": "code",
   "execution_count": 350,
   "id": "d819f534",
   "metadata": {},
   "outputs": [
    {
     "name": "stdout",
     "output_type": "stream",
     "text": [
      "1×20 adjoint(::Vector{Float64}) with eltype Float64:\n",
      " -2.15009  3.45858  2.10265  1.95387  1.98919  2.09491  2.28887  2.44763  2.54438  2.54438  2.54438  2.54438  2.54438  2.54438  2.54438  2.54438  2.54438  2.54438  2.54438  2.54438"
     ]
    }
   ],
   "source": [
    "# σ_3\n",
    "show(stdout, \"text/plain\", results[2, 2, :]')"
   ]
  },
  {
   "cell_type": "code",
   "execution_count": 351,
   "id": "c46fa999",
   "metadata": {},
   "outputs": [
    {
     "name": "stdout",
     "output_type": "stream",
     "text": [
      "1×20 adjoint(::Vector{Float64}) with eltype Float64:\n",
      " 2.69296  -0.987768  -2.02819  -2.5066  -2.4654  -2.34077  -2.1424  -2.00344  -1.92726  -1.92726  -1.92726  -1.92726  -1.92726  -1.92726  -1.92726  -1.92726  -1.92726  -1.92726  -1.92726  -1.92726"
     ]
    }
   ],
   "source": [
    "# σ_4\n",
    "show(stdout, \"text/plain\", results[2, 3, :]')"
   ]
  },
  {
   "cell_type": "code",
   "execution_count": 352,
   "id": "56d199f1",
   "metadata": {},
   "outputs": [
    {
     "name": "stdout",
     "output_type": "stream",
     "text": [
      "1×20 adjoint(::Vector{Float64}) with eltype Float64:\n",
      " 1.03554  -2.31684  -1.12084  -0.907903  -0.906472  -0.906448  -0.906448  -0.906448  -0.906448  -0.906448  -0.906448  -0.906448  -0.906448  -0.906448  -0.906448  -0.906448  -0.906448  -0.906448  -0.906448  -0.906448"
     ]
    }
   ],
   "source": [
    "# σ_5\n",
    "show(stdout, \"text/plain\", results[2, 4, :]')"
   ]
  },
  {
   "cell_type": "code",
   "execution_count": 353,
   "id": "9ae74165",
   "metadata": {},
   "outputs": [
    {
     "name": "stdout",
     "output_type": "stream",
     "text": [
      "1×20 adjoint(::Vector{Float64}) with eltype Float64:\n",
      " 1.69522  -0.68404  -0.651165  -0.644669  -0.642554  -0.642554  -0.642554  -0.642554  -0.642554  -0.642554  -0.642554  -0.642554  -0.642554  -0.642554  -0.642554  -0.642554  -0.642554  -0.642554  -0.642554  -0.642554"
     ]
    }
   ],
   "source": [
    "# σ_6\n",
    "show(stdout, \"text/plain\", results[2, 5, :]')"
   ]
  },
  {
   "cell_type": "code",
   "execution_count": 354,
   "id": "345906ad",
   "metadata": {},
   "outputs": [
    {
     "name": "stdout",
     "output_type": "stream",
     "text": [
      "1×20 adjoint(::Vector{Float64}) with eltype Float64:\n",
      " 0.151774  0.138712  0.138177  0.138177  0.138177  0.138177  0.138177  0.138177  0.138177  0.138177  0.138177  0.138177  0.138177  0.138177  0.138177  0.138177  0.138177  0.138177  0.138177  0.138177"
     ]
    }
   ],
   "source": [
    "# σ_7\n",
    "show(stdout, \"text/plain\", results[2, 6, :]')"
   ]
  },
  {
   "cell_type": "code",
   "execution_count": 355,
   "id": "97deb2f4",
   "metadata": {},
   "outputs": [
    {
     "data": {
      "text/plain": [
       "7×7 Matrix{Real}:\n",
       " -4.48122   0        0         0         0          0         0\n",
       "  0        -4.09692  0         0         0          0         0\n",
       "  0         0        2.54438   0         0          0         0\n",
       "  0         0        0        -1.92726   0          0         0\n",
       "  0         0        0         0        -0.906448   0         0\n",
       "  0         0        0         0         0         -0.642554  0\n",
       "  0         0        0         0         0          0         0.138177"
      ]
     },
     "execution_count": 355,
     "metadata": {},
     "output_type": "execute_result"
    }
   ],
   "source": [
    "S"
   ]
  },
  {
   "cell_type": "markdown",
   "id": "8c73abb3",
   "metadata": {},
   "source": [
    "### Rectangular 9 x 7"
   ]
  },
  {
   "cell_type": "code",
   "execution_count": 356,
   "id": "27caf84a",
   "metadata": {},
   "outputs": [
    {
     "data": {
      "text/plain": [
       "9×7 Matrix{Float64}:\n",
       " -0.36701    -1.54798   -0.020379   …  -0.982355   1.40085     0.351149\n",
       " -0.0448802  -2.34579    0.164276      -0.158639  -1.04649    -0.297506\n",
       " -1.27934     0.485512   1.8194        -0.741982  -1.4488      0.535037\n",
       " -1.55612     1.68625    1.34646        0.754955  -1.9261      1.15668\n",
       " -0.436255    0.713838  -0.888913      -0.573039  -0.211743   -0.494425\n",
       "  1.69714    -0.51977    0.335986   …   1.90251    0.0500714  -0.926762\n",
       " -0.358702    0.654487   0.611217       1.78654    0.296555   -0.109295\n",
       "  0.135796    0.684345   0.214138      -0.590913  -0.262595   -2.20961\n",
       " -1.28752    -2.00483    0.0285233      0.276021  -1.33579    -1.02396"
      ]
     },
     "execution_count": 356,
     "metadata": {},
     "output_type": "execute_result"
    }
   ],
   "source": [
    "A = randn(9, 7)"
   ]
  },
  {
   "cell_type": "code",
   "execution_count": 357,
   "id": "39a9cf1f",
   "metadata": {},
   "outputs": [],
   "source": [
    "U, S, V, results = svd_num(A, 20, true);"
   ]
  },
  {
   "cell_type": "code",
   "execution_count": 358,
   "id": "81e9a12f",
   "metadata": {},
   "outputs": [
    {
     "name": "stdout",
     "output_type": "stream",
     "text": [
      "1.1735637131916358e-15"
     ]
    }
   ],
   "source": [
    "show(stdout, \"text/plain\", opnorm(U * S * V' - A, 1)/opnorm(A, 1))"
   ]
  },
  {
   "cell_type": "code",
   "execution_count": 359,
   "id": "1479be04",
   "metadata": {},
   "outputs": [
    {
     "data": {
      "application/vnd.plotly.v1+json": {
       "config": {
        "editable": false,
        "responsive": true,
        "scrollZoom": true,
        "showLink": false,
        "staticPlot": false
       },
       "data": [
        {
         "line": {
          "shape": "linear"
         },
         "marker": {
          "color": 1
         },
         "mode": "lines+markers",
         "name": "σ2",
         "type": "scatter",
         "x": [
          1,
          2,
          3,
          4,
          5,
          6,
          7,
          8,
          9,
          10,
          11,
          12,
          13,
          14,
          15,
          16,
          17,
          18,
          19,
          20
         ],
         "y": [
          3.2653957943580187,
          0.8457385122624813,
          0.36881381987159395,
          0.28717465619828175,
          0.2262362411306257,
          0.17105047786986582,
          0.12872914630734014,
          0.09654388037046285,
          0.076601448432314,
          0.0607251857590504,
          0.0403466621020277,
          0.026788277825606468,
          0.012039958379215808,
          0.005409587407720348,
          1.6954869774716693e-07,
          8.323267629835934e-19,
          8.323267629835934e-19,
          8.323267629835934e-19,
          8.323267629835934e-19,
          8.323267629835934e-19
         ]
        },
        {
         "line": {
          "shape": "linear"
         },
         "marker": {
          "color": 2
         },
         "mode": "lines+markers",
         "name": "σ3",
         "type": "scatter",
         "x": [
          1,
          2,
          3,
          4,
          5,
          6,
          7,
          8,
          9,
          10,
          11,
          12,
          13,
          14,
          15,
          16,
          17,
          18,
          19,
          20
         ],
         "y": [
          2.045689660308867,
          3.301959523542685,
          0.8895005901553553,
          0.26319570614751653,
          0.1732253058112636,
          0.12168353034444533,
          0.08756847935311902,
          0.06327138412504166,
          0.04968081331521585,
          0.0390108456800513,
          0.022878220830476467,
          0.01341431537399584,
          1.6046349254322488e-09,
          2.85084688626511e-18,
          2.8508112952007544e-18,
          2.8508112974316095e-18,
          2.8508112974316095e-18,
          2.8508112974316095e-18,
          2.8508112974316095e-18,
          2.8508112974316095e-18
         ]
        },
        {
         "line": {
          "shape": "linear"
         },
         "marker": {
          "color": 3
         },
         "mode": "lines+markers",
         "name": "σ4",
         "type": "scatter",
         "x": [
          1,
          2,
          3,
          4,
          5,
          6,
          7,
          8,
          9,
          10,
          11,
          12,
          13,
          14,
          15,
          16,
          17,
          18,
          19,
          20
         ],
         "y": [
          2.148208132206742,
          1.4691615361849002,
          2.7734366161996444,
          1.4324608995620771,
          0.4487312942750289,
          0.20589115553946796,
          0.09192087254183973,
          0.04099480713057324,
          0.022923749684240918,
          0.014029211708561036,
          7.927786923978e-10,
          1.0207108458583104e-16,
          1.0207682200063193e-16,
          1.020768220002513e-16,
          1.020768220002513e-16,
          1.020768220002513e-16,
          1.020768220002513e-16,
          1.020768220002513e-16,
          1.020768220002513e-16,
          1.020768220002513e-16
         ]
        },
        {
         "line": {
          "shape": "linear"
         },
         "marker": {
          "color": 4
         },
         "mode": "lines+markers",
         "name": "σ5",
         "type": "scatter",
         "x": [
          1,
          2,
          3,
          4,
          5,
          6,
          7,
          8,
          9,
          10,
          11,
          12,
          13,
          14,
          15,
          16,
          17,
          18,
          19,
          20
         ],
         "y": [
          1.212311696705615,
          1.3363558912056495,
          1.4650797807270168,
          2.2940716394474334,
          1.5119686464490556,
          1.3878819936435327,
          1.2555587109055717,
          1.1322951010046804,
          4.2893304943983826e-05,
          1.66599975198425e-16,
          1.6659517865175575e-16,
          1.6659517865230684e-16,
          1.6659517865230684e-16,
          1.6659517865230684e-16,
          1.6659517865230684e-16,
          1.6659517865230684e-16,
          1.6659517865230684e-16,
          1.6659517865230684e-16,
          1.6659517865230684e-16,
          1.6659517865230684e-16
         ]
        },
        {
         "line": {
          "shape": "linear"
         },
         "marker": {
          "color": 5
         },
         "mode": "lines+markers",
         "name": "σ6",
         "type": "scatter",
         "x": [
          1,
          2,
          3,
          4,
          5,
          6,
          7,
          8,
          9,
          10,
          11,
          12,
          13,
          14,
          15,
          16,
          17,
          18,
          19,
          20
         ],
         "y": [
          1.1605133550091562,
          1.1326779868519246,
          0.6349525299822018,
          0.37152067310120607,
          0.36274029979508216,
          0.005468025764756868,
          1.2298077911535813e-08,
          4.3798505839057865e-17,
          4.3526003900008225e-17,
          4.352602261337173e-17,
          4.352602261337173e-17,
          4.352602261337173e-17,
          4.352602261337173e-17,
          4.352602261337173e-17,
          4.352602261337173e-17,
          4.352602261337173e-17,
          4.352602261337173e-17,
          4.352602261337173e-17,
          4.352602261337173e-17,
          4.352602261337173e-17
         ]
        },
        {
         "line": {
          "shape": "linear"
         },
         "marker": {
          "color": 6
         },
         "mode": "lines+markers",
         "name": "σ7",
         "type": "scatter",
         "x": [
          1,
          2,
          3,
          4,
          5,
          6,
          7,
          8,
          9,
          10,
          11,
          12,
          13,
          14,
          15,
          16,
          17,
          18,
          19,
          20
         ],
         "y": [
          1.3987729840648013,
          0.30100855603875115,
          0.006297761631758159,
          3.652252891793751e-08,
          1.7509355958481154e-17,
          1.6286264499438466e-17,
          1.6280255144132733e-17,
          1.6280255091285785e-17,
          1.6280255091285785e-17,
          1.6280255091285785e-17,
          1.6280255091285785e-17,
          1.6280255091285785e-17,
          1.6280255091285785e-17,
          1.6280255091285785e-17,
          1.6280255091285785e-17,
          1.6280255091285785e-17,
          1.6280255091285785e-17,
          1.6280255091285785e-17,
          1.6280255091285785e-17,
          1.6280255091285785e-17
         ]
        }
       ],
       "frames": [],
       "layout": {
        "margin": {
         "b": 50,
         "l": 50,
         "r": 50,
         "t": 60
        },
        "showlegend": true,
        "template": {
         "data": {
          "bar": [
           {
            "error_x": {
             "color": "#2a3f5f"
            },
            "error_y": {
             "color": "#2a3f5f"
            },
            "marker": {
             "line": {
              "color": "#E5ECF6",
              "width": 0.5
             }
            },
            "type": "bar"
           }
          ],
          "barpolar": [
           {
            "marker": {
             "line": {
              "color": "#E5ECF6",
              "width": 0.5
             }
            },
            "type": "barpolar"
           }
          ],
          "carpet": [
           {
            "aaxis": {
             "endlinecolor": "#2a3f5f",
             "gridcolor": "white",
             "linecolor": "white",
             "minorgridcolor": "white",
             "startlinecolor": "#2a3f5f"
            },
            "baxis": {
             "endlinecolor": "#2a3f5f",
             "gridcolor": "white",
             "linecolor": "white",
             "minorgridcolor": "white",
             "startlinecolor": "#2a3f5f"
            },
            "type": "carpet"
           }
          ],
          "choropleth": [
           {
            "colorbar": {
             "outlinewidth": 0,
             "ticks": ""
            },
            "type": "choropleth"
           }
          ],
          "contour": [
           {
            "colorbar": {
             "outlinewidth": 0,
             "ticks": ""
            },
            "colorscale": [
             [
              0,
              "#0d0887"
             ],
             [
              0.1111111111111111,
              "#46039f"
             ],
             [
              0.2222222222222222,
              "#7201a8"
             ],
             [
              0.3333333333333333,
              "#9c179e"
             ],
             [
              0.4444444444444444,
              "#bd3786"
             ],
             [
              0.5555555555555556,
              "#d8576b"
             ],
             [
              0.6666666666666666,
              "#ed7953"
             ],
             [
              0.7777777777777778,
              "#fb9f3a"
             ],
             [
              0.8888888888888888,
              "#fdca26"
             ],
             [
              1,
              "#f0f921"
             ]
            ],
            "type": "contour"
           }
          ],
          "contourcarpet": [
           {
            "colorbar": {
             "outlinewidth": 0,
             "ticks": ""
            },
            "type": "contourcarpet"
           }
          ],
          "heatmap": [
           {
            "colorbar": {
             "outlinewidth": 0,
             "ticks": ""
            },
            "colorscale": [
             [
              0,
              "#0d0887"
             ],
             [
              0.1111111111111111,
              "#46039f"
             ],
             [
              0.2222222222222222,
              "#7201a8"
             ],
             [
              0.3333333333333333,
              "#9c179e"
             ],
             [
              0.4444444444444444,
              "#bd3786"
             ],
             [
              0.5555555555555556,
              "#d8576b"
             ],
             [
              0.6666666666666666,
              "#ed7953"
             ],
             [
              0.7777777777777778,
              "#fb9f3a"
             ],
             [
              0.8888888888888888,
              "#fdca26"
             ],
             [
              1,
              "#f0f921"
             ]
            ],
            "type": "heatmap"
           }
          ],
          "heatmapgl": [
           {
            "colorbar": {
             "outlinewidth": 0,
             "ticks": ""
            },
            "colorscale": [
             [
              0,
              "#0d0887"
             ],
             [
              0.1111111111111111,
              "#46039f"
             ],
             [
              0.2222222222222222,
              "#7201a8"
             ],
             [
              0.3333333333333333,
              "#9c179e"
             ],
             [
              0.4444444444444444,
              "#bd3786"
             ],
             [
              0.5555555555555556,
              "#d8576b"
             ],
             [
              0.6666666666666666,
              "#ed7953"
             ],
             [
              0.7777777777777778,
              "#fb9f3a"
             ],
             [
              0.8888888888888888,
              "#fdca26"
             ],
             [
              1,
              "#f0f921"
             ]
            ],
            "type": "heatmapgl"
           }
          ],
          "histogram": [
           {
            "marker": {
             "colorbar": {
              "outlinewidth": 0,
              "ticks": ""
             }
            },
            "type": "histogram"
           }
          ],
          "histogram2d": [
           {
            "colorbar": {
             "outlinewidth": 0,
             "ticks": ""
            },
            "colorscale": [
             [
              0,
              "#0d0887"
             ],
             [
              0.1111111111111111,
              "#46039f"
             ],
             [
              0.2222222222222222,
              "#7201a8"
             ],
             [
              0.3333333333333333,
              "#9c179e"
             ],
             [
              0.4444444444444444,
              "#bd3786"
             ],
             [
              0.5555555555555556,
              "#d8576b"
             ],
             [
              0.6666666666666666,
              "#ed7953"
             ],
             [
              0.7777777777777778,
              "#fb9f3a"
             ],
             [
              0.8888888888888888,
              "#fdca26"
             ],
             [
              1,
              "#f0f921"
             ]
            ],
            "type": "histogram2d"
           }
          ],
          "histogram2dcontour": [
           {
            "colorbar": {
             "outlinewidth": 0,
             "ticks": ""
            },
            "colorscale": [
             [
              0,
              "#0d0887"
             ],
             [
              0.1111111111111111,
              "#46039f"
             ],
             [
              0.2222222222222222,
              "#7201a8"
             ],
             [
              0.3333333333333333,
              "#9c179e"
             ],
             [
              0.4444444444444444,
              "#bd3786"
             ],
             [
              0.5555555555555556,
              "#d8576b"
             ],
             [
              0.6666666666666666,
              "#ed7953"
             ],
             [
              0.7777777777777778,
              "#fb9f3a"
             ],
             [
              0.8888888888888888,
              "#fdca26"
             ],
             [
              1,
              "#f0f921"
             ]
            ],
            "type": "histogram2dcontour"
           }
          ],
          "mesh3d": [
           {
            "colorbar": {
             "outlinewidth": 0,
             "ticks": ""
            },
            "type": "mesh3d"
           }
          ],
          "parcoords": [
           {
            "line": {
             "colorbar": {
              "outlinewidth": 0,
              "ticks": ""
             }
            },
            "type": "parcoords"
           }
          ],
          "pie": [
           {
            "automargin": true,
            "type": "pie"
           }
          ],
          "scatter": [
           {
            "marker": {
             "colorbar": {
              "outlinewidth": 0,
              "ticks": ""
             }
            },
            "type": "scatter"
           }
          ],
          "scatter3d": [
           {
            "line": {
             "colorbar": {
              "outlinewidth": 0,
              "ticks": ""
             }
            },
            "marker": {
             "colorbar": {
              "outlinewidth": 0,
              "ticks": ""
             }
            },
            "type": "scatter3d"
           }
          ],
          "scattercarpet": [
           {
            "marker": {
             "colorbar": {
              "outlinewidth": 0,
              "ticks": ""
             }
            },
            "type": "scattercarpet"
           }
          ],
          "scattergeo": [
           {
            "marker": {
             "colorbar": {
              "outlinewidth": 0,
              "ticks": ""
             }
            },
            "type": "scattergeo"
           }
          ],
          "scattergl": [
           {
            "marker": {
             "colorbar": {
              "outlinewidth": 0,
              "ticks": ""
             }
            },
            "type": "scattergl"
           }
          ],
          "scattermapbox": [
           {
            "marker": {
             "colorbar": {
              "outlinewidth": 0,
              "ticks": ""
             }
            },
            "type": "scattermapbox"
           }
          ],
          "scatterpolar": [
           {
            "marker": {
             "colorbar": {
              "outlinewidth": 0,
              "ticks": ""
             }
            },
            "type": "scatterpolar"
           }
          ],
          "scatterpolargl": [
           {
            "marker": {
             "colorbar": {
              "outlinewidth": 0,
              "ticks": ""
             }
            },
            "type": "scatterpolargl"
           }
          ],
          "scatterternary": [
           {
            "marker": {
             "colorbar": {
              "outlinewidth": 0,
              "ticks": ""
             }
            },
            "type": "scatterternary"
           }
          ],
          "surface": [
           {
            "colorbar": {
             "outlinewidth": 0,
             "ticks": ""
            },
            "colorscale": [
             [
              0,
              "#0d0887"
             ],
             [
              0.1111111111111111,
              "#46039f"
             ],
             [
              0.2222222222222222,
              "#7201a8"
             ],
             [
              0.3333333333333333,
              "#9c179e"
             ],
             [
              0.4444444444444444,
              "#bd3786"
             ],
             [
              0.5555555555555556,
              "#d8576b"
             ],
             [
              0.6666666666666666,
              "#ed7953"
             ],
             [
              0.7777777777777778,
              "#fb9f3a"
             ],
             [
              0.8888888888888888,
              "#fdca26"
             ],
             [
              1,
              "#f0f921"
             ]
            ],
            "type": "surface"
           }
          ],
          "table": [
           {
            "cells": {
             "fill": {
              "color": "#EBF0F8"
             },
             "line": {
              "color": "white"
             }
            },
            "header": {
             "fill": {
              "color": "#C8D4E3"
             },
             "line": {
              "color": "white"
             }
            },
            "type": "table"
           }
          ]
         },
         "layout": {
          "annotationdefaults": {
           "arrowcolor": "#2a3f5f",
           "arrowhead": 0,
           "arrowwidth": 1
          },
          "autotypenumbers": "strict",
          "coloraxis": {
           "colorbar": {
            "outlinewidth": 0,
            "ticks": ""
           }
          },
          "colorscale": {
           "diverging": [
            [
             0,
             "#8e0152"
            ],
            [
             0.1,
             "#c51b7d"
            ],
            [
             0.2,
             "#de77ae"
            ],
            [
             0.3,
             "#f1b6da"
            ],
            [
             0.4,
             "#fde0ef"
            ],
            [
             0.5,
             "#f7f7f7"
            ],
            [
             0.6,
             "#e6f5d0"
            ],
            [
             0.7,
             "#b8e186"
            ],
            [
             0.8,
             "#7fbc41"
            ],
            [
             0.9,
             "#4d9221"
            ],
            [
             1,
             "#276419"
            ]
           ],
           "sequential": [
            [
             0,
             "#0d0887"
            ],
            [
             0.1111111111111111,
             "#46039f"
            ],
            [
             0.2222222222222222,
             "#7201a8"
            ],
            [
             0.3333333333333333,
             "#9c179e"
            ],
            [
             0.4444444444444444,
             "#bd3786"
            ],
            [
             0.5555555555555556,
             "#d8576b"
            ],
            [
             0.6666666666666666,
             "#ed7953"
            ],
            [
             0.7777777777777778,
             "#fb9f3a"
            ],
            [
             0.8888888888888888,
             "#fdca26"
            ],
            [
             1,
             "#f0f921"
            ]
           ],
           "sequentialminus": [
            [
             0,
             "#0d0887"
            ],
            [
             0.1111111111111111,
             "#46039f"
            ],
            [
             0.2222222222222222,
             "#7201a8"
            ],
            [
             0.3333333333333333,
             "#9c179e"
            ],
            [
             0.4444444444444444,
             "#bd3786"
            ],
            [
             0.5555555555555556,
             "#d8576b"
            ],
            [
             0.6666666666666666,
             "#ed7953"
            ],
            [
             0.7777777777777778,
             "#fb9f3a"
            ],
            [
             0.8888888888888888,
             "#fdca26"
            ],
            [
             1,
             "#f0f921"
            ]
           ]
          },
          "colorway": [
           "#636efa",
           "#EF553B",
           "#00cc96",
           "#ab63fa",
           "#FFA15A",
           "#19d3f3",
           "#FF6692",
           "#B6E880",
           "#FF97FF",
           "#FECB52"
          ],
          "font": {
           "color": "#2a3f5f"
          },
          "geo": {
           "bgcolor": "white",
           "lakecolor": "white",
           "landcolor": "#E5ECF6",
           "showlakes": true,
           "showland": true,
           "subunitcolor": "white"
          },
          "hoverlabel": {
           "align": "left"
          },
          "hovermode": "closest",
          "mapbox": {
           "style": "light"
          },
          "paper_bgcolor": "white",
          "plot_bgcolor": "#E5ECF6",
          "polar": {
           "angularaxis": {
            "gridcolor": "white",
            "linecolor": "white",
            "ticks": ""
           },
           "bgcolor": "#E5ECF6",
           "radialaxis": {
            "gridcolor": "white",
            "linecolor": "white",
            "ticks": ""
           }
          },
          "scene": {
           "xaxis": {
            "backgroundcolor": "#E5ECF6",
            "gridcolor": "white",
            "gridwidth": 2,
            "linecolor": "white",
            "showbackground": true,
            "ticks": "",
            "zerolinecolor": "white"
           },
           "yaxis": {
            "backgroundcolor": "#E5ECF6",
            "gridcolor": "white",
            "gridwidth": 2,
            "linecolor": "white",
            "showbackground": true,
            "ticks": "",
            "zerolinecolor": "white"
           },
           "zaxis": {
            "backgroundcolor": "#E5ECF6",
            "gridcolor": "white",
            "gridwidth": 2,
            "linecolor": "white",
            "showbackground": true,
            "ticks": "",
            "zerolinecolor": "white"
           }
          },
          "shapedefaults": {
           "line": {
            "color": "#2a3f5f"
           }
          },
          "ternary": {
           "aaxis": {
            "gridcolor": "white",
            "linecolor": "white",
            "ticks": ""
           },
           "baxis": {
            "gridcolor": "white",
            "linecolor": "white",
            "ticks": ""
           },
           "bgcolor": "#E5ECF6",
           "caxis": {
            "gridcolor": "white",
            "linecolor": "white",
            "ticks": ""
           }
          },
          "title": {
           "x": 0.05
          },
          "xaxis": {
           "automargin": true,
           "gridcolor": "white",
           "linecolor": "white",
           "ticks": "",
           "title": {
            "standoff": 15
           },
           "zerolinecolor": "white",
           "zerolinewidth": 2
          },
          "yaxis": {
           "automargin": true,
           "gridcolor": "white",
           "linecolor": "white",
           "ticks": "",
           "title": {
            "standoff": 15
           },
           "zerolinecolor": "white",
           "zerolinewidth": 2
          }
         }
        },
        "title": "Value of element above diagonal σ_i",
        "xaxis": {
         "title": {
          "text": "Iteration"
         }
        },
        "yaxis": {
         "tickformat": "e",
         "title": {
          "text": "Error"
         },
         "type": "log"
        }
       }
      },
      "text/html": [
       "<div\n",
       "    class=\"webio-mountpoint\"\n",
       "    data-webio-mountpoint=\"10389712196474328004\"\n",
       ">\n",
       "    <script>\n",
       "    (function(){\n",
       "    // Some integrations (namely, IJulia/Jupyter) use an alternate render pathway than\n",
       "    // just putting the html on the page. If WebIO isn't defined, then it's pretty likely\n",
       "    // that we're in one of those situations and the integration just isn't installed\n",
       "    // correctly.\n",
       "    if (typeof window.WebIO === \"undefined\") {\n",
       "        document\n",
       "            .querySelector('[data-webio-mountpoint=\"10389712196474328004\"]')\n",
       "            .innerHTML = (\n",
       "                '<div style=\"padding: 1em; background-color: #f8d6da; border: 1px solid #f5c6cb; font-weight: bold;\">' +\n",
       "                '<p><strong>WebIO not detected.</strong></p>' +\n",
       "                '<p>Please read ' +\n",
       "                '<a href=\"https://juliagizmos.github.io/WebIO.jl/latest/troubleshooting/not-detected/\" target=\"_blank\">the troubleshooting guide</a> ' +\n",
       "                'for more information on how to resolve this issue.</p>' +\n",
       "                '<p><a href=\"https://juliagizmos.github.io/WebIO.jl/latest/troubleshooting/not-detected/\" target=\"_blank\">https://juliagizmos.github.io/WebIO.jl/latest/troubleshooting/not-detected/</a></p>' +\n",
       "                '</div>'\n",
       "            );\n",
       "        return;\n",
       "    }\n",
       "    WebIO.mount(\n",
       "        document.querySelector('[data-webio-mountpoint=\"10389712196474328004\"]'),\n",
       "        {\"props\":{},\"nodeType\":\"Scope\",\"type\":\"node\",\"instanceArgs\":{\"imports\":{\"data\":[{\"name\":\"Plotly\",\"type\":\"js\",\"url\":\"\\/assetserver\\/d6feb8d8ce4676ebdde817a0745950a35b4ba3ae-plotly.min.js\"},{\"name\":null,\"type\":\"js\",\"url\":\"\\/assetserver\\/46c9ff4df7c73b5875052df387368a00f6cfc484-plotly_webio.bundle.js\"}],\"type\":\"async_block\"},\"id\":\"2115673740623592868\",\"handlers\":{\"_toImage\":[\"(function (options){return this.Plotly.toImage(this.plotElem,options).then((function (data){return WebIO.setval({\\\"name\\\":\\\"image\\\",\\\"scope\\\":\\\"2115673740623592868\\\",\\\"id\\\":\\\"165\\\",\\\"type\\\":\\\"observable\\\"},data)}))})\"],\"__get_gd_contents\":[\"(function (prop){prop==\\\"data\\\" ? (WebIO.setval({\\\"name\\\":\\\"__gd_contents\\\",\\\"scope\\\":\\\"2115673740623592868\\\",\\\"id\\\":\\\"166\\\",\\\"type\\\":\\\"observable\\\"},this.plotElem.data)) : undefined; return prop==\\\"layout\\\" ? (WebIO.setval({\\\"name\\\":\\\"__gd_contents\\\",\\\"scope\\\":\\\"2115673740623592868\\\",\\\"id\\\":\\\"166\\\",\\\"type\\\":\\\"observable\\\"},this.plotElem.layout)) : undefined})\"],\"_downloadImage\":[\"(function (options){return this.Plotly.downloadImage(this.plotElem,options)})\"],\"_commands\":[\"(function (args){var fn=args.shift(); var elem=this.plotElem; var Plotly=this.Plotly; args.unshift(elem); return Plotly[fn].apply(this,args)})\"]},\"systemjs_options\":null,\"mount_callbacks\":[\"function () {\\n    var handler = ((function (Plotly,PlotlyWebIO){PlotlyWebIO.init(WebIO); var gd=this.dom.querySelector(\\\"#plot-732bfdc9-93d1-40ab-8fc7-db6b827b5ab3\\\"); this.plotElem=gd; this.Plotly=Plotly; (window.Blink!==undefined) ? (gd.style.width=\\\"100%\\\", gd.style.height=\\\"100vh\\\", gd.style.marginLeft=\\\"0%\\\", gd.style.marginTop=\\\"0vh\\\") : undefined; window.onresize=(function (){return Plotly.Plots.resize(gd)}); Plotly.newPlot(gd,[{\\\"x\\\":[1,2,3,4,5,6,7,8,9,10,11,12,13,14,15,16,17,18,19,20],\\\"mode\\\":\\\"lines+markers\\\",\\\"line\\\":{\\\"shape\\\":\\\"linear\\\"},\\\"y\\\":[3.2653957943580187,0.8457385122624813,0.36881381987159395,0.28717465619828175,0.2262362411306257,0.17105047786986582,0.12872914630734014,0.09654388037046285,0.076601448432314,0.0607251857590504,0.0403466621020277,0.026788277825606468,0.012039958379215808,0.005409587407720348,1.6954869774716693e-7,8.323267629835934e-19,8.323267629835934e-19,8.323267629835934e-19,8.323267629835934e-19,8.323267629835934e-19],\\\"type\\\":\\\"scatter\\\",\\\"name\\\":\\\"σ2\\\",\\\"marker\\\":{\\\"color\\\":1}},{\\\"x\\\":[1,2,3,4,5,6,7,8,9,10,11,12,13,14,15,16,17,18,19,20],\\\"mode\\\":\\\"lines+markers\\\",\\\"line\\\":{\\\"shape\\\":\\\"linear\\\"},\\\"y\\\":[2.045689660308867,3.301959523542685,0.8895005901553553,0.26319570614751653,0.1732253058112636,0.12168353034444533,0.08756847935311902,0.06327138412504166,0.04968081331521585,0.0390108456800513,0.022878220830476467,0.01341431537399584,1.6046349254322488e-9,2.85084688626511e-18,2.8508112952007544e-18,2.8508112974316095e-18,2.8508112974316095e-18,2.8508112974316095e-18,2.8508112974316095e-18,2.8508112974316095e-18],\\\"type\\\":\\\"scatter\\\",\\\"name\\\":\\\"σ3\\\",\\\"marker\\\":{\\\"color\\\":2}},{\\\"x\\\":[1,2,3,4,5,6,7,8,9,10,11,12,13,14,15,16,17,18,19,20],\\\"mode\\\":\\\"lines+markers\\\",\\\"line\\\":{\\\"shape\\\":\\\"linear\\\"},\\\"y\\\":[2.148208132206742,1.4691615361849002,2.7734366161996444,1.4324608995620771,0.4487312942750289,0.20589115553946796,0.09192087254183973,0.04099480713057324,0.022923749684240918,0.014029211708561036,7.927786923978e-10,1.0207108458583104e-16,1.0207682200063193e-16,1.020768220002513e-16,1.020768220002513e-16,1.020768220002513e-16,1.020768220002513e-16,1.020768220002513e-16,1.020768220002513e-16,1.020768220002513e-16],\\\"type\\\":\\\"scatter\\\",\\\"name\\\":\\\"σ4\\\",\\\"marker\\\":{\\\"color\\\":3}},{\\\"x\\\":[1,2,3,4,5,6,7,8,9,10,11,12,13,14,15,16,17,18,19,20],\\\"mode\\\":\\\"lines+markers\\\",\\\"line\\\":{\\\"shape\\\":\\\"linear\\\"},\\\"y\\\":[1.212311696705615,1.3363558912056495,1.4650797807270168,2.2940716394474334,1.5119686464490556,1.3878819936435327,1.2555587109055717,1.1322951010046804,4.2893304943983826e-5,1.66599975198425e-16,1.6659517865175575e-16,1.6659517865230684e-16,1.6659517865230684e-16,1.6659517865230684e-16,1.6659517865230684e-16,1.6659517865230684e-16,1.6659517865230684e-16,1.6659517865230684e-16,1.6659517865230684e-16,1.6659517865230684e-16],\\\"type\\\":\\\"scatter\\\",\\\"name\\\":\\\"σ5\\\",\\\"marker\\\":{\\\"color\\\":4}},{\\\"x\\\":[1,2,3,4,5,6,7,8,9,10,11,12,13,14,15,16,17,18,19,20],\\\"mode\\\":\\\"lines+markers\\\",\\\"line\\\":{\\\"shape\\\":\\\"linear\\\"},\\\"y\\\":[1.1605133550091562,1.1326779868519246,0.6349525299822018,0.37152067310120607,0.36274029979508216,0.005468025764756868,1.2298077911535813e-8,4.3798505839057865e-17,4.3526003900008225e-17,4.352602261337173e-17,4.352602261337173e-17,4.352602261337173e-17,4.352602261337173e-17,4.352602261337173e-17,4.352602261337173e-17,4.352602261337173e-17,4.352602261337173e-17,4.352602261337173e-17,4.352602261337173e-17,4.352602261337173e-17],\\\"type\\\":\\\"scatter\\\",\\\"name\\\":\\\"σ6\\\",\\\"marker\\\":{\\\"color\\\":5}},{\\\"x\\\":[1,2,3,4,5,6,7,8,9,10,11,12,13,14,15,16,17,18,19,20],\\\"mode\\\":\\\"lines+markers\\\",\\\"line\\\":{\\\"shape\\\":\\\"linear\\\"},\\\"y\\\":[1.3987729840648013,0.30100855603875115,0.006297761631758159,3.652252891793751e-8,1.7509355958481154e-17,1.6286264499438466e-17,1.6280255144132733e-17,1.6280255091285785e-17,1.6280255091285785e-17,1.6280255091285785e-17,1.6280255091285785e-17,1.6280255091285785e-17,1.6280255091285785e-17,1.6280255091285785e-17,1.6280255091285785e-17,1.6280255091285785e-17,1.6280255091285785e-17,1.6280255091285785e-17,1.6280255091285785e-17,1.6280255091285785e-17],\\\"type\\\":\\\"scatter\\\",\\\"name\\\":\\\"σ7\\\",\\\"marker\\\":{\\\"color\\\":6}}],{\\\"showlegend\\\":true,\\\"xaxis\\\":{\\\"title\\\":{\\\"text\\\":\\\"Iteration\\\"}},\\\"template\\\":{\\\"layout\\\":{\\\"coloraxis\\\":{\\\"colorbar\\\":{\\\"ticks\\\":\\\"\\\",\\\"outlinewidth\\\":0}},\\\"xaxis\\\":{\\\"gridcolor\\\":\\\"white\\\",\\\"zerolinewidth\\\":2,\\\"title\\\":{\\\"standoff\\\":15},\\\"ticks\\\":\\\"\\\",\\\"zerolinecolor\\\":\\\"white\\\",\\\"automargin\\\":true,\\\"linecolor\\\":\\\"white\\\"},\\\"hovermode\\\":\\\"closest\\\",\\\"paper_bgcolor\\\":\\\"white\\\",\\\"geo\\\":{\\\"showlakes\\\":true,\\\"showland\\\":true,\\\"landcolor\\\":\\\"#E5ECF6\\\",\\\"bgcolor\\\":\\\"white\\\",\\\"subunitcolor\\\":\\\"white\\\",\\\"lakecolor\\\":\\\"white\\\"},\\\"colorscale\\\":{\\\"sequential\\\":[[0.0,\\\"#0d0887\\\"],[0.1111111111111111,\\\"#46039f\\\"],[0.2222222222222222,\\\"#7201a8\\\"],[0.3333333333333333,\\\"#9c179e\\\"],[0.4444444444444444,\\\"#bd3786\\\"],[0.5555555555555556,\\\"#d8576b\\\"],[0.6666666666666666,\\\"#ed7953\\\"],[0.7777777777777778,\\\"#fb9f3a\\\"],[0.8888888888888888,\\\"#fdca26\\\"],[1.0,\\\"#f0f921\\\"]],\\\"diverging\\\":[[0,\\\"#8e0152\\\"],[0.1,\\\"#c51b7d\\\"],[0.2,\\\"#de77ae\\\"],[0.3,\\\"#f1b6da\\\"],[0.4,\\\"#fde0ef\\\"],[0.5,\\\"#f7f7f7\\\"],[0.6,\\\"#e6f5d0\\\"],[0.7,\\\"#b8e186\\\"],[0.8,\\\"#7fbc41\\\"],[0.9,\\\"#4d9221\\\"],[1,\\\"#276419\\\"]],\\\"sequentialminus\\\":[[0.0,\\\"#0d0887\\\"],[0.1111111111111111,\\\"#46039f\\\"],[0.2222222222222222,\\\"#7201a8\\\"],[0.3333333333333333,\\\"#9c179e\\\"],[0.4444444444444444,\\\"#bd3786\\\"],[0.5555555555555556,\\\"#d8576b\\\"],[0.6666666666666666,\\\"#ed7953\\\"],[0.7777777777777778,\\\"#fb9f3a\\\"],[0.8888888888888888,\\\"#fdca26\\\"],[1.0,\\\"#f0f921\\\"]]},\\\"yaxis\\\":{\\\"gridcolor\\\":\\\"white\\\",\\\"zerolinewidth\\\":2,\\\"title\\\":{\\\"standoff\\\":15},\\\"ticks\\\":\\\"\\\",\\\"zerolinecolor\\\":\\\"white\\\",\\\"automargin\\\":true,\\\"linecolor\\\":\\\"white\\\"},\\\"shapedefaults\\\":{\\\"line\\\":{\\\"color\\\":\\\"#2a3f5f\\\"}},\\\"hoverlabel\\\":{\\\"align\\\":\\\"left\\\"},\\\"mapbox\\\":{\\\"style\\\":\\\"light\\\"},\\\"polar\\\":{\\\"angularaxis\\\":{\\\"gridcolor\\\":\\\"white\\\",\\\"ticks\\\":\\\"\\\",\\\"linecolor\\\":\\\"white\\\"},\\\"bgcolor\\\":\\\"#E5ECF6\\\",\\\"radialaxis\\\":{\\\"gridcolor\\\":\\\"white\\\",\\\"ticks\\\":\\\"\\\",\\\"linecolor\\\":\\\"white\\\"}},\\\"autotypenumbers\\\":\\\"strict\\\",\\\"font\\\":{\\\"color\\\":\\\"#2a3f5f\\\"},\\\"ternary\\\":{\\\"baxis\\\":{\\\"gridcolor\\\":\\\"white\\\",\\\"ticks\\\":\\\"\\\",\\\"linecolor\\\":\\\"white\\\"},\\\"bgcolor\\\":\\\"#E5ECF6\\\",\\\"caxis\\\":{\\\"gridcolor\\\":\\\"white\\\",\\\"ticks\\\":\\\"\\\",\\\"linecolor\\\":\\\"white\\\"},\\\"aaxis\\\":{\\\"gridcolor\\\":\\\"white\\\",\\\"ticks\\\":\\\"\\\",\\\"linecolor\\\":\\\"white\\\"}},\\\"annotationdefaults\\\":{\\\"arrowhead\\\":0,\\\"arrowwidth\\\":1,\\\"arrowcolor\\\":\\\"#2a3f5f\\\"},\\\"plot_bgcolor\\\":\\\"#E5ECF6\\\",\\\"title\\\":{\\\"x\\\":0.05},\\\"scene\\\":{\\\"xaxis\\\":{\\\"gridcolor\\\":\\\"white\\\",\\\"gridwidth\\\":2,\\\"backgroundcolor\\\":\\\"#E5ECF6\\\",\\\"ticks\\\":\\\"\\\",\\\"showbackground\\\":true,\\\"zerolinecolor\\\":\\\"white\\\",\\\"linecolor\\\":\\\"white\\\"},\\\"zaxis\\\":{\\\"gridcolor\\\":\\\"white\\\",\\\"gridwidth\\\":2,\\\"backgroundcolor\\\":\\\"#E5ECF6\\\",\\\"ticks\\\":\\\"\\\",\\\"showbackground\\\":true,\\\"zerolinecolor\\\":\\\"white\\\",\\\"linecolor\\\":\\\"white\\\"},\\\"yaxis\\\":{\\\"gridcolor\\\":\\\"white\\\",\\\"gridwidth\\\":2,\\\"backgroundcolor\\\":\\\"#E5ECF6\\\",\\\"ticks\\\":\\\"\\\",\\\"showbackground\\\":true,\\\"zerolinecolor\\\":\\\"white\\\",\\\"linecolor\\\":\\\"white\\\"}},\\\"colorway\\\":[\\\"#636efa\\\",\\\"#EF553B\\\",\\\"#00cc96\\\",\\\"#ab63fa\\\",\\\"#FFA15A\\\",\\\"#19d3f3\\\",\\\"#FF6692\\\",\\\"#B6E880\\\",\\\"#FF97FF\\\",\\\"#FECB52\\\"]},\\\"data\\\":{\\\"barpolar\\\":[{\\\"type\\\":\\\"barpolar\\\",\\\"marker\\\":{\\\"line\\\":{\\\"color\\\":\\\"#E5ECF6\\\",\\\"width\\\":0.5}}}],\\\"carpet\\\":[{\\\"aaxis\\\":{\\\"gridcolor\\\":\\\"white\\\",\\\"endlinecolor\\\":\\\"#2a3f5f\\\",\\\"minorgridcolor\\\":\\\"white\\\",\\\"startlinecolor\\\":\\\"#2a3f5f\\\",\\\"linecolor\\\":\\\"white\\\"},\\\"type\\\":\\\"carpet\\\",\\\"baxis\\\":{\\\"gridcolor\\\":\\\"white\\\",\\\"endlinecolor\\\":\\\"#2a3f5f\\\",\\\"minorgridcolor\\\":\\\"white\\\",\\\"startlinecolor\\\":\\\"#2a3f5f\\\",\\\"linecolor\\\":\\\"white\\\"}}],\\\"scatterpolar\\\":[{\\\"type\\\":\\\"scatterpolar\\\",\\\"marker\\\":{\\\"colorbar\\\":{\\\"ticks\\\":\\\"\\\",\\\"outlinewidth\\\":0}}}],\\\"parcoords\\\":[{\\\"line\\\":{\\\"colorbar\\\":{\\\"ticks\\\":\\\"\\\",\\\"outlinewidth\\\":0}},\\\"type\\\":\\\"parcoords\\\"}],\\\"scatter\\\":[{\\\"type\\\":\\\"scatter\\\",\\\"marker\\\":{\\\"colorbar\\\":{\\\"ticks\\\":\\\"\\\",\\\"outlinewidth\\\":0}}}],\\\"histogram2dcontour\\\":[{\\\"colorbar\\\":{\\\"ticks\\\":\\\"\\\",\\\"outlinewidth\\\":0},\\\"type\\\":\\\"histogram2dcontour\\\",\\\"colorscale\\\":[[0.0,\\\"#0d0887\\\"],[0.1111111111111111,\\\"#46039f\\\"],[0.2222222222222222,\\\"#7201a8\\\"],[0.3333333333333333,\\\"#9c179e\\\"],[0.4444444444444444,\\\"#bd3786\\\"],[0.5555555555555556,\\\"#d8576b\\\"],[0.6666666666666666,\\\"#ed7953\\\"],[0.7777777777777778,\\\"#fb9f3a\\\"],[0.8888888888888888,\\\"#fdca26\\\"],[1.0,\\\"#f0f921\\\"]]}],\\\"contour\\\":[{\\\"colorbar\\\":{\\\"ticks\\\":\\\"\\\",\\\"outlinewidth\\\":0},\\\"type\\\":\\\"contour\\\",\\\"colorscale\\\":[[0.0,\\\"#0d0887\\\"],[0.1111111111111111,\\\"#46039f\\\"],[0.2222222222222222,\\\"#7201a8\\\"],[0.3333333333333333,\\\"#9c179e\\\"],[0.4444444444444444,\\\"#bd3786\\\"],[0.5555555555555556,\\\"#d8576b\\\"],[0.6666666666666666,\\\"#ed7953\\\"],[0.7777777777777778,\\\"#fb9f3a\\\"],[0.8888888888888888,\\\"#fdca26\\\"],[1.0,\\\"#f0f921\\\"]]}],\\\"scattercarpet\\\":[{\\\"type\\\":\\\"scattercarpet\\\",\\\"marker\\\":{\\\"colorbar\\\":{\\\"ticks\\\":\\\"\\\",\\\"outlinewidth\\\":0}}}],\\\"mesh3d\\\":[{\\\"colorbar\\\":{\\\"ticks\\\":\\\"\\\",\\\"outlinewidth\\\":0},\\\"type\\\":\\\"mesh3d\\\"}],\\\"surface\\\":[{\\\"colorbar\\\":{\\\"ticks\\\":\\\"\\\",\\\"outlinewidth\\\":0},\\\"type\\\":\\\"surface\\\",\\\"colorscale\\\":[[0.0,\\\"#0d0887\\\"],[0.1111111111111111,\\\"#46039f\\\"],[0.2222222222222222,\\\"#7201a8\\\"],[0.3333333333333333,\\\"#9c179e\\\"],[0.4444444444444444,\\\"#bd3786\\\"],[0.5555555555555556,\\\"#d8576b\\\"],[0.6666666666666666,\\\"#ed7953\\\"],[0.7777777777777778,\\\"#fb9f3a\\\"],[0.8888888888888888,\\\"#fdca26\\\"],[1.0,\\\"#f0f921\\\"]]}],\\\"scattermapbox\\\":[{\\\"type\\\":\\\"scattermapbox\\\",\\\"marker\\\":{\\\"colorbar\\\":{\\\"ticks\\\":\\\"\\\",\\\"outlinewidth\\\":0}}}],\\\"scattergeo\\\":[{\\\"type\\\":\\\"scattergeo\\\",\\\"marker\\\":{\\\"colorbar\\\":{\\\"ticks\\\":\\\"\\\",\\\"outlinewidth\\\":0}}}],\\\"histogram\\\":[{\\\"type\\\":\\\"histogram\\\",\\\"marker\\\":{\\\"colorbar\\\":{\\\"ticks\\\":\\\"\\\",\\\"outlinewidth\\\":0}}}],\\\"pie\\\":[{\\\"type\\\":\\\"pie\\\",\\\"automargin\\\":true}],\\\"choropleth\\\":[{\\\"colorbar\\\":{\\\"ticks\\\":\\\"\\\",\\\"outlinewidth\\\":0},\\\"type\\\":\\\"choropleth\\\"}],\\\"heatmapgl\\\":[{\\\"colorbar\\\":{\\\"ticks\\\":\\\"\\\",\\\"outlinewidth\\\":0},\\\"type\\\":\\\"heatmapgl\\\",\\\"colorscale\\\":[[0.0,\\\"#0d0887\\\"],[0.1111111111111111,\\\"#46039f\\\"],[0.2222222222222222,\\\"#7201a8\\\"],[0.3333333333333333,\\\"#9c179e\\\"],[0.4444444444444444,\\\"#bd3786\\\"],[0.5555555555555556,\\\"#d8576b\\\"],[0.6666666666666666,\\\"#ed7953\\\"],[0.7777777777777778,\\\"#fb9f3a\\\"],[0.8888888888888888,\\\"#fdca26\\\"],[1.0,\\\"#f0f921\\\"]]}],\\\"bar\\\":[{\\\"type\\\":\\\"bar\\\",\\\"error_y\\\":{\\\"color\\\":\\\"#2a3f5f\\\"},\\\"error_x\\\":{\\\"color\\\":\\\"#2a3f5f\\\"},\\\"marker\\\":{\\\"line\\\":{\\\"color\\\":\\\"#E5ECF6\\\",\\\"width\\\":0.5}}}],\\\"heatmap\\\":[{\\\"colorbar\\\":{\\\"ticks\\\":\\\"\\\",\\\"outlinewidth\\\":0},\\\"type\\\":\\\"heatmap\\\",\\\"colorscale\\\":[[0.0,\\\"#0d0887\\\"],[0.1111111111111111,\\\"#46039f\\\"],[0.2222222222222222,\\\"#7201a8\\\"],[0.3333333333333333,\\\"#9c179e\\\"],[0.4444444444444444,\\\"#bd3786\\\"],[0.5555555555555556,\\\"#d8576b\\\"],[0.6666666666666666,\\\"#ed7953\\\"],[0.7777777777777778,\\\"#fb9f3a\\\"],[0.8888888888888888,\\\"#fdca26\\\"],[1.0,\\\"#f0f921\\\"]]}],\\\"contourcarpet\\\":[{\\\"colorbar\\\":{\\\"ticks\\\":\\\"\\\",\\\"outlinewidth\\\":0},\\\"type\\\":\\\"contourcarpet\\\"}],\\\"table\\\":[{\\\"type\\\":\\\"table\\\",\\\"header\\\":{\\\"line\\\":{\\\"color\\\":\\\"white\\\"},\\\"fill\\\":{\\\"color\\\":\\\"#C8D4E3\\\"}},\\\"cells\\\":{\\\"line\\\":{\\\"color\\\":\\\"white\\\"},\\\"fill\\\":{\\\"color\\\":\\\"#EBF0F8\\\"}}}],\\\"scatter3d\\\":[{\\\"line\\\":{\\\"colorbar\\\":{\\\"ticks\\\":\\\"\\\",\\\"outlinewidth\\\":0}},\\\"type\\\":\\\"scatter3d\\\",\\\"marker\\\":{\\\"colorbar\\\":{\\\"ticks\\\":\\\"\\\",\\\"outlinewidth\\\":0}}}],\\\"scattergl\\\":[{\\\"type\\\":\\\"scattergl\\\",\\\"marker\\\":{\\\"colorbar\\\":{\\\"ticks\\\":\\\"\\\",\\\"outlinewidth\\\":0}}}],\\\"histogram2d\\\":[{\\\"colorbar\\\":{\\\"ticks\\\":\\\"\\\",\\\"outlinewidth\\\":0},\\\"type\\\":\\\"histogram2d\\\",\\\"colorscale\\\":[[0.0,\\\"#0d0887\\\"],[0.1111111111111111,\\\"#46039f\\\"],[0.2222222222222222,\\\"#7201a8\\\"],[0.3333333333333333,\\\"#9c179e\\\"],[0.4444444444444444,\\\"#bd3786\\\"],[0.5555555555555556,\\\"#d8576b\\\"],[0.6666666666666666,\\\"#ed7953\\\"],[0.7777777777777778,\\\"#fb9f3a\\\"],[0.8888888888888888,\\\"#fdca26\\\"],[1.0,\\\"#f0f921\\\"]]}],\\\"scatterternary\\\":[{\\\"type\\\":\\\"scatterternary\\\",\\\"marker\\\":{\\\"colorbar\\\":{\\\"ticks\\\":\\\"\\\",\\\"outlinewidth\\\":0}}}],\\\"scatterpolargl\\\":[{\\\"type\\\":\\\"scatterpolargl\\\",\\\"marker\\\":{\\\"colorbar\\\":{\\\"ticks\\\":\\\"\\\",\\\"outlinewidth\\\":0}}}]}},\\\"margin\\\":{\\\"l\\\":50,\\\"b\\\":50,\\\"r\\\":50,\\\"t\\\":60},\\\"title\\\":\\\"Value of element above diagonal σ_i\\\",\\\"yaxis\\\":{\\\"type\\\":\\\"log\\\",\\\"title\\\":{\\\"text\\\":\\\"Error\\\"},\\\"tickformat\\\":\\\"e\\\"}},{\\\"showLink\\\":false,\\\"editable\\\":false,\\\"responsive\\\":true,\\\"staticPlot\\\":false,\\\"scrollZoom\\\":true}); gd.on(\\\"plotly_hover\\\",(function (data){var filtered_data=WebIO.PlotlyCommands.filterEventData(gd,data,\\\"hover\\\"); return !(filtered_data.isnil) ? (WebIO.setval({\\\"name\\\":\\\"hover\\\",\\\"scope\\\":\\\"2115673740623592868\\\",\\\"id\\\":\\\"161\\\",\\\"type\\\":\\\"observable\\\"},filtered_data.out)) : undefined})); gd.on(\\\"plotly_unhover\\\",(function (){return WebIO.setval({\\\"name\\\":\\\"hover\\\",\\\"scope\\\":\\\"2115673740623592868\\\",\\\"id\\\":\\\"161\\\",\\\"type\\\":\\\"observable\\\"},{})})); gd.on(\\\"plotly_selected\\\",(function (data){var filtered_data=WebIO.PlotlyCommands.filterEventData(gd,data,\\\"selected\\\"); return !(filtered_data.isnil) ? (WebIO.setval({\\\"name\\\":\\\"selected\\\",\\\"scope\\\":\\\"2115673740623592868\\\",\\\"id\\\":\\\"162\\\",\\\"type\\\":\\\"observable\\\"},filtered_data.out)) : undefined})); gd.on(\\\"plotly_deselect\\\",(function (){return WebIO.setval({\\\"name\\\":\\\"selected\\\",\\\"scope\\\":\\\"2115673740623592868\\\",\\\"id\\\":\\\"162\\\",\\\"type\\\":\\\"observable\\\"},{})})); gd.on(\\\"plotly_relayout\\\",(function (data){var filtered_data=WebIO.PlotlyCommands.filterEventData(gd,data,\\\"relayout\\\"); return !(filtered_data.isnil) ? (WebIO.setval({\\\"name\\\":\\\"relayout\\\",\\\"scope\\\":\\\"2115673740623592868\\\",\\\"id\\\":\\\"164\\\",\\\"type\\\":\\\"observable\\\"},filtered_data.out)) : undefined})); return gd.on(\\\"plotly_click\\\",(function (data){var filtered_data=WebIO.PlotlyCommands.filterEventData(gd,data,\\\"click\\\"); return !(filtered_data.isnil) ? (WebIO.setval({\\\"name\\\":\\\"click\\\",\\\"scope\\\":\\\"2115673740623592868\\\",\\\"id\\\":\\\"163\\\",\\\"type\\\":\\\"observable\\\"},filtered_data.out)) : undefined}))}));\\n    (WebIO.importBlock({\\\"data\\\":[{\\\"name\\\":\\\"Plotly\\\",\\\"type\\\":\\\"js\\\",\\\"url\\\":\\\"\\/assetserver\\/d6feb8d8ce4676ebdde817a0745950a35b4ba3ae-plotly.min.js\\\"},{\\\"name\\\":null,\\\"type\\\":\\\"js\\\",\\\"url\\\":\\\"\\/assetserver\\/46c9ff4df7c73b5875052df387368a00f6cfc484-plotly_webio.bundle.js\\\"}],\\\"type\\\":\\\"async_block\\\"})).then((imports) => handler.apply(this, imports));\\n}\\n\"],\"observables\":{\"_toImage\":{\"sync\":false,\"id\":\"168\",\"value\":{}},\"hover\":{\"sync\":false,\"id\":\"161\",\"value\":{}},\"selected\":{\"sync\":false,\"id\":\"162\",\"value\":{}},\"__gd_contents\":{\"sync\":false,\"id\":\"166\",\"value\":{}},\"click\":{\"sync\":false,\"id\":\"163\",\"value\":{}},\"image\":{\"sync\":true,\"id\":\"165\",\"value\":\"\"},\"__get_gd_contents\":{\"sync\":false,\"id\":\"170\",\"value\":\"\"},\"_downloadImage\":{\"sync\":false,\"id\":\"169\",\"value\":{}},\"relayout\":{\"sync\":false,\"id\":\"164\",\"value\":{}},\"_commands\":{\"sync\":false,\"id\":\"167\",\"value\":[]}}},\"children\":[{\"props\":{\"id\":\"plot-732bfdc9-93d1-40ab-8fc7-db6b827b5ab3\"},\"nodeType\":\"DOM\",\"type\":\"node\",\"instanceArgs\":{\"namespace\":\"html\",\"tag\":\"div\"},\"children\":[]}]},\n",
       "        window,\n",
       "    );\n",
       "    })()\n",
       "    </script>\n",
       "</div>\n"
      ],
      "text/plain": [
       "data: [\n",
       "  \"scatter with fields line, marker, mode, name, type, x, and y\",\n",
       "  \"scatter with fields line, marker, mode, name, type, x, and y\",\n",
       "  \"scatter with fields line, marker, mode, name, type, x, and y\",\n",
       "  \"scatter with fields line, marker, mode, name, type, x, and y\",\n",
       "  \"scatter with fields line, marker, mode, name, type, x, and y\",\n",
       "  \"scatter with fields line, marker, mode, name, type, x, and y\"\n",
       "]\n",
       "\n",
       "layout: \"layout with fields margin, showlegend, template, title, xaxis, and yaxis\"\n",
       "\n"
      ]
     },
     "execution_count": 359,
     "metadata": {},
     "output_type": "execute_result"
    }
   ],
   "source": [
    "error_vectors = [\n",
    "    abs.(results[1, 1, :]),\n",
    "    abs.(results[1, 2, :]),\n",
    "    abs.(results[1, 3, :]),\n",
    "    abs.(results[1, 4, :]),\n",
    "    abs.(results[1, 5, :]),\n",
    "    abs.(results[1, 6, :])\n",
    "]\n",
    "labels = [\"σ2\", \"σ3\", \"σ4\", \"σ5\", \"σ6\", \"σ7\"]\n",
    "plot_convergence_error(error_vectors, labels)"
   ]
  },
  {
   "cell_type": "code",
   "execution_count": 360,
   "id": "df187797",
   "metadata": {},
   "outputs": [
    {
     "name": "stdout",
     "output_type": "stream",
     "text": [
      "1×20 adjoint(::Vector{Float64}) with eltype Float64:\n",
      " -1.64395  2.37812  4.16478  4.25014  4.24923  4.24652  4.24446  4.24312  4.24237  4.24189  4.2415  4.24128  4.24111  4.24106  4.24105  4.24105  4.24105  4.24105  4.24105  4.24105"
     ]
    }
   ],
   "source": [
    "# σ_2\n",
    "show(stdout, \"text/plain\", results[2, 1, :]')"
   ]
  },
  {
   "cell_type": "code",
   "execution_count": 361,
   "id": "9a719726",
   "metadata": {},
   "outputs": [
    {
     "name": "stdout",
     "output_type": "stream",
     "text": [
      "1×20 adjoint(::Vector{Float64}) with eltype Float64:\n",
      " 3.0555  1.5608  1.66586  -3.39392  -3.72687  -3.76828  -3.77497  -3.77521  -3.77479  -3.77443  -3.774  -3.77383  -3.77373  -3.77373  -3.77373  -3.77373  -3.77373  -3.77373  -3.77373  -3.77373"
     ]
    }
   ],
   "source": [
    "# σ_3\n",
    "show(stdout, \"text/plain\", results[2, 2, :]')"
   ]
  },
  {
   "cell_type": "code",
   "execution_count": 362,
   "id": "fcaad9fa",
   "metadata": {},
   "outputs": [
    {
     "name": "stdout",
     "output_type": "stream",
     "text": [
      "1×20 adjoint(::Vector{Float64}) with eltype Float64:\n",
      " -2.25944  -2.88199  1.86095  -1.5259  2.58484  2.62538  -2.6902  -2.74802  -2.98885  -2.98876  -2.9887  -2.9887  -2.9887  -2.9887  -2.9887  -2.9887  -2.9887  -2.9887  -2.9887  -2.9887"
     ]
    }
   ],
   "source": [
    "# σ_4\n",
    "show(stdout, \"text/plain\", results[2, 3, :]')"
   ]
  },
  {
   "cell_type": "code",
   "execution_count": 363,
   "id": "1f6bd205",
   "metadata": {},
   "outputs": [
    {
     "name": "stdout",
     "output_type": "stream",
     "text": [
      "1×20 adjoint(::Vector{Float64}) with eltype Float64:\n",
      " -3.09385  -2.78661  2.72295  1.64491  -0.887134  -0.84827  0.825585  0.807768  0.742612  0.742612  0.742612  0.742612  0.742612  0.742612  0.742612  0.742612  0.742612  0.742612  0.742612  0.742612"
     ]
    }
   ],
   "source": [
    "# σ_5\n",
    "show(stdout, \"text/plain\", results[2, 4, :]')"
   ]
  },
  {
   "cell_type": "code",
   "execution_count": 364,
   "id": "3af660e5",
   "metadata": {},
   "outputs": [
    {
     "name": "stdout",
     "output_type": "stream",
     "text": [
      "1×20 adjoint(::Vector{Float64}) with eltype Float64:\n",
      " -2.73596  2.57857  2.17083  2.09512  2.08108  2.11528  2.11529  2.11529  2.11529  2.11529  2.11529  2.11529  2.11529  2.11529  2.11529  2.11529  2.11529  2.11529  2.11529  2.11529"
     ]
    }
   ],
   "source": [
    "# σ_6\n",
    "show(stdout, \"text/plain\", results[2, 5, :]')"
   ]
  },
  {
   "cell_type": "code",
   "execution_count": 365,
   "id": "bc6fb460",
   "metadata": {},
   "outputs": [
    {
     "name": "stdout",
     "output_type": "stream",
     "text": [
      "1×20 adjoint(::Vector{Float64}) with eltype Float64:\n",
      " -1.91348  1.57384  1.55067  1.55066  1.55066  1.55066  1.55066  1.55066  1.55066  1.55066  1.55066  1.55066  1.55066  1.55066  1.55066  1.55066  1.55066  1.55066  1.55066  1.55066"
     ]
    }
   ],
   "source": [
    "# σ_7\n",
    "show(stdout, \"text/plain\", results[2, 6, :]')"
   ]
  },
  {
   "cell_type": "code",
   "execution_count": 366,
   "id": "53439d20",
   "metadata": {},
   "outputs": [
    {
     "data": {
      "text/plain": [
       "9×7 Matrix{Real}:\n",
       " -4.75164  0         0         0       0         0        0\n",
       "  0        4.24105   0         0       0         0        0\n",
       "  0        0        -3.77373   0       0         0        0\n",
       "  0        0         0        -2.9887  0         0        0\n",
       "  0        0         0         0       0.742612  0        0\n",
       "  0        0         0         0       0         2.11529  0\n",
       "  0        0         0         0       0         0        1.55066\n",
       "  0        0         0         0       0         0        0\n",
       "  0        0         0         0       0         0        0"
      ]
     },
     "execution_count": 366,
     "metadata": {},
     "output_type": "execute_result"
    }
   ],
   "source": [
    "S"
   ]
  },
  {
   "cell_type": "markdown",
   "id": "7edea586",
   "metadata": {},
   "source": [
    "### Rectangular 7 x 9"
   ]
  },
  {
   "cell_type": "code",
   "execution_count": 367,
   "id": "022bafbb",
   "metadata": {},
   "outputs": [
    {
     "data": {
      "text/plain": [
       "7×9 Matrix{Float64}:\n",
       "  1.57387    1.13738    1.1374    …  -0.294209   -1.09918    0.394352\n",
       "  0.358062   0.158178   1.98824       1.7301     -1.52803    0.58104\n",
       "  1.0284    -1.30114    0.712763     -0.858102    0.981143  -2.16646\n",
       " -0.299346   1.03899    0.332801     -0.992551   -0.339055  -1.6756\n",
       " -0.356325   0.243716   2.30767      -0.091576   -0.178417   1.28975\n",
       "  0.192341  -1.38566   -0.78685   …  -0.0432002   0.6258     0.133593\n",
       "  0.417498   0.646646   0.280309     -1.11082    -0.348757   0.916708"
      ]
     },
     "execution_count": 367,
     "metadata": {},
     "output_type": "execute_result"
    }
   ],
   "source": [
    "A = randn(7, 9)"
   ]
  },
  {
   "cell_type": "code",
   "execution_count": 368,
   "id": "bd92fe59",
   "metadata": {},
   "outputs": [],
   "source": [
    "U, S, V, results = svd_num(A, 20, true);"
   ]
  },
  {
   "cell_type": "code",
   "execution_count": 369,
   "id": "830aad45",
   "metadata": {},
   "outputs": [
    {
     "name": "stdout",
     "output_type": "stream",
     "text": [
      "3.59598221185909e-14"
     ]
    }
   ],
   "source": [
    "show(stdout, \"text/plain\", opnorm(U * S * V' - A, 1)/opnorm(A, 1))"
   ]
  },
  {
   "cell_type": "code",
   "execution_count": 370,
   "id": "68de8cf4",
   "metadata": {},
   "outputs": [
    {
     "data": {
      "application/vnd.plotly.v1+json": {
       "config": {
        "editable": false,
        "responsive": true,
        "scrollZoom": true,
        "showLink": false,
        "staticPlot": false
       },
       "data": [
        {
         "line": {
          "shape": "linear"
         },
         "marker": {
          "color": 1
         },
         "mode": "lines+markers",
         "name": "σ2",
         "type": "scatter",
         "x": [
          1,
          2,
          3,
          4,
          5,
          6,
          7,
          8,
          9,
          10,
          11,
          12,
          13,
          14,
          15,
          16,
          17,
          18,
          19,
          20
         ],
         "y": [
          1.7358734821219435,
          1.4976211139653999,
          1.7730360749363516,
          1.2078311208810717,
          0.5997719080634767,
          0.27196109011494646,
          0.10312032409348912,
          0.03894838951191742,
          0.011400099940045302,
          0.0033379215966360095,
          3.4196922354097026e-05,
          4.4389817343155147e-07,
          2.5628027468058024e-21,
          2.5628027468058024e-21,
          2.5628027468058024e-21,
          2.5628027468058024e-21,
          2.5628027468058024e-21,
          2.5628027468058024e-21,
          2.5628027468058024e-21,
          2.5628027468058024e-21
         ]
        },
        {
         "line": {
          "shape": "linear"
         },
         "marker": {
          "color": 2
         },
         "mode": "lines+markers",
         "name": "σ3",
         "type": "scatter",
         "x": [
          1,
          2,
          3,
          4,
          5,
          6,
          7,
          8,
          9,
          10,
          11,
          12,
          13,
          14,
          15,
          16,
          17,
          18,
          19,
          20
         ],
         "y": [
          3.199132829184928,
          1.3164039084605323,
          0.32064163708645066,
          0.12688952778134677,
          0.0625141723398576,
          0.03780747945385062,
          0.028115080892555478,
          0.027106467248854498,
          0.027210265826786362,
          0.027427329908421595,
          1.6439062628564252e-06,
          5.154287185837976e-16,
          5.15428718583795e-16,
          5.15428718583795e-16,
          5.15428718583795e-16,
          5.15428718583795e-16,
          5.15428718583795e-16,
          5.15428718583795e-16,
          5.15428718583795e-16,
          5.15428718583795e-16
         ]
        },
        {
         "line": {
          "shape": "linear"
         },
         "marker": {
          "color": 3
         },
         "mode": "lines+markers",
         "name": "σ4",
         "type": "scatter",
         "x": [
          1,
          2,
          3,
          4,
          5,
          6,
          7,
          8,
          9,
          10,
          11,
          12,
          13,
          14,
          15,
          16,
          17,
          18,
          19,
          20
         ],
         "y": [
          1.6874129383625602,
          0.7909384872904875,
          0.5054546502698359,
          0.5859935000507993,
          0.9262337520202342,
          1.058297297585973,
          0.5397821256267561,
          0.18189178728822253,
          3.9956359631080644e-07,
          1.6623957620226813e-17,
          1.3064914233661321e-17,
          1.3064614210739912e-17,
          1.3064614210739912e-17,
          1.3064614210739912e-17,
          1.3064614210739912e-17,
          1.3064614210739912e-17,
          1.3064614210739912e-17,
          1.3064614210739912e-17,
          1.3064614210739912e-17,
          1.3064614210739912e-17
         ]
        },
        {
         "line": {
          "shape": "linear"
         },
         "marker": {
          "color": 4
         },
         "mode": "lines+markers",
         "name": "σ5",
         "type": "scatter",
         "x": [
          1,
          2,
          3,
          4,
          5,
          6,
          7,
          8,
          9,
          10,
          11,
          12,
          13,
          14,
          15,
          16,
          17,
          18,
          19,
          20
         ],
         "y": [
          1.4344669299044297,
          1.0767699734047889,
          1.6831102890928051,
          0.9598950169280818,
          0.2912522460634333,
          0.09951493566887326,
          0.00013914685527503416,
          2.008487054651461e-13,
          2.0034094757307796e-13,
          2.0034094979071422e-13,
          2.0034094979071422e-13,
          2.0034094979071422e-13,
          2.0034094979071422e-13,
          2.0034094979071422e-13,
          2.0034094979071422e-13,
          2.0034094979071422e-13,
          2.0034094979071422e-13,
          2.0034094979071422e-13,
          2.0034094979071422e-13,
          2.0034094979071422e-13
         ]
        },
        {
         "line": {
          "shape": "linear"
         },
         "marker": {
          "color": 5
         },
         "mode": "lines+markers",
         "name": "σ6",
         "type": "scatter",
         "x": [
          1,
          2,
          3,
          4,
          5,
          6,
          7,
          8,
          9,
          10,
          11,
          12,
          13,
          14,
          15,
          16,
          17,
          18,
          19,
          20
         ],
         "y": [
          0.7840563533317033,
          2.522549977591489,
          0.4705946827294891,
          0.009992642680829375,
          8.629541180248767e-08,
          8.64964342006518e-17,
          8.668518293793435e-17,
          8.668488726707051e-17,
          8.668488726707051e-17,
          8.668488726707051e-17,
          8.668488726707051e-17,
          8.668488726707051e-17,
          8.668488726707051e-17,
          8.668488726707051e-17,
          8.668488726707051e-17,
          8.668488726707051e-17,
          8.668488726707051e-17,
          8.668488726707051e-17,
          8.668488726707051e-17,
          8.668488726707051e-17
         ]
        },
        {
         "line": {
          "shape": "linear"
         },
         "marker": {
          "color": 6
         },
         "mode": "lines+markers",
         "name": "σ7",
         "type": "scatter",
         "x": [
          1,
          2,
          3,
          4,
          5,
          6,
          7,
          8,
          9,
          10,
          11,
          12,
          13,
          14,
          15,
          16,
          17,
          18,
          19,
          20
         ],
         "y": [
          0.12174079096139012,
          4.964559239431172e-06,
          2.460554715302744e-17,
          1.9850698704973754e-17,
          2.0021687817025397e-17,
          2.0021686160287843e-17,
          2.0021686160287843e-17,
          2.0021686160287843e-17,
          2.0021686160287843e-17,
          2.0021686160287843e-17,
          2.0021686160287843e-17,
          2.0021686160287843e-17,
          2.0021686160287843e-17,
          2.0021686160287843e-17,
          2.0021686160287843e-17,
          2.0021686160287843e-17,
          2.0021686160287843e-17,
          2.0021686160287843e-17,
          2.0021686160287843e-17,
          2.0021686160287843e-17
         ]
        }
       ],
       "frames": [],
       "layout": {
        "margin": {
         "b": 50,
         "l": 50,
         "r": 50,
         "t": 60
        },
        "showlegend": true,
        "template": {
         "data": {
          "bar": [
           {
            "error_x": {
             "color": "#2a3f5f"
            },
            "error_y": {
             "color": "#2a3f5f"
            },
            "marker": {
             "line": {
              "color": "#E5ECF6",
              "width": 0.5
             }
            },
            "type": "bar"
           }
          ],
          "barpolar": [
           {
            "marker": {
             "line": {
              "color": "#E5ECF6",
              "width": 0.5
             }
            },
            "type": "barpolar"
           }
          ],
          "carpet": [
           {
            "aaxis": {
             "endlinecolor": "#2a3f5f",
             "gridcolor": "white",
             "linecolor": "white",
             "minorgridcolor": "white",
             "startlinecolor": "#2a3f5f"
            },
            "baxis": {
             "endlinecolor": "#2a3f5f",
             "gridcolor": "white",
             "linecolor": "white",
             "minorgridcolor": "white",
             "startlinecolor": "#2a3f5f"
            },
            "type": "carpet"
           }
          ],
          "choropleth": [
           {
            "colorbar": {
             "outlinewidth": 0,
             "ticks": ""
            },
            "type": "choropleth"
           }
          ],
          "contour": [
           {
            "colorbar": {
             "outlinewidth": 0,
             "ticks": ""
            },
            "colorscale": [
             [
              0,
              "#0d0887"
             ],
             [
              0.1111111111111111,
              "#46039f"
             ],
             [
              0.2222222222222222,
              "#7201a8"
             ],
             [
              0.3333333333333333,
              "#9c179e"
             ],
             [
              0.4444444444444444,
              "#bd3786"
             ],
             [
              0.5555555555555556,
              "#d8576b"
             ],
             [
              0.6666666666666666,
              "#ed7953"
             ],
             [
              0.7777777777777778,
              "#fb9f3a"
             ],
             [
              0.8888888888888888,
              "#fdca26"
             ],
             [
              1,
              "#f0f921"
             ]
            ],
            "type": "contour"
           }
          ],
          "contourcarpet": [
           {
            "colorbar": {
             "outlinewidth": 0,
             "ticks": ""
            },
            "type": "contourcarpet"
           }
          ],
          "heatmap": [
           {
            "colorbar": {
             "outlinewidth": 0,
             "ticks": ""
            },
            "colorscale": [
             [
              0,
              "#0d0887"
             ],
             [
              0.1111111111111111,
              "#46039f"
             ],
             [
              0.2222222222222222,
              "#7201a8"
             ],
             [
              0.3333333333333333,
              "#9c179e"
             ],
             [
              0.4444444444444444,
              "#bd3786"
             ],
             [
              0.5555555555555556,
              "#d8576b"
             ],
             [
              0.6666666666666666,
              "#ed7953"
             ],
             [
              0.7777777777777778,
              "#fb9f3a"
             ],
             [
              0.8888888888888888,
              "#fdca26"
             ],
             [
              1,
              "#f0f921"
             ]
            ],
            "type": "heatmap"
           }
          ],
          "heatmapgl": [
           {
            "colorbar": {
             "outlinewidth": 0,
             "ticks": ""
            },
            "colorscale": [
             [
              0,
              "#0d0887"
             ],
             [
              0.1111111111111111,
              "#46039f"
             ],
             [
              0.2222222222222222,
              "#7201a8"
             ],
             [
              0.3333333333333333,
              "#9c179e"
             ],
             [
              0.4444444444444444,
              "#bd3786"
             ],
             [
              0.5555555555555556,
              "#d8576b"
             ],
             [
              0.6666666666666666,
              "#ed7953"
             ],
             [
              0.7777777777777778,
              "#fb9f3a"
             ],
             [
              0.8888888888888888,
              "#fdca26"
             ],
             [
              1,
              "#f0f921"
             ]
            ],
            "type": "heatmapgl"
           }
          ],
          "histogram": [
           {
            "marker": {
             "colorbar": {
              "outlinewidth": 0,
              "ticks": ""
             }
            },
            "type": "histogram"
           }
          ],
          "histogram2d": [
           {
            "colorbar": {
             "outlinewidth": 0,
             "ticks": ""
            },
            "colorscale": [
             [
              0,
              "#0d0887"
             ],
             [
              0.1111111111111111,
              "#46039f"
             ],
             [
              0.2222222222222222,
              "#7201a8"
             ],
             [
              0.3333333333333333,
              "#9c179e"
             ],
             [
              0.4444444444444444,
              "#bd3786"
             ],
             [
              0.5555555555555556,
              "#d8576b"
             ],
             [
              0.6666666666666666,
              "#ed7953"
             ],
             [
              0.7777777777777778,
              "#fb9f3a"
             ],
             [
              0.8888888888888888,
              "#fdca26"
             ],
             [
              1,
              "#f0f921"
             ]
            ],
            "type": "histogram2d"
           }
          ],
          "histogram2dcontour": [
           {
            "colorbar": {
             "outlinewidth": 0,
             "ticks": ""
            },
            "colorscale": [
             [
              0,
              "#0d0887"
             ],
             [
              0.1111111111111111,
              "#46039f"
             ],
             [
              0.2222222222222222,
              "#7201a8"
             ],
             [
              0.3333333333333333,
              "#9c179e"
             ],
             [
              0.4444444444444444,
              "#bd3786"
             ],
             [
              0.5555555555555556,
              "#d8576b"
             ],
             [
              0.6666666666666666,
              "#ed7953"
             ],
             [
              0.7777777777777778,
              "#fb9f3a"
             ],
             [
              0.8888888888888888,
              "#fdca26"
             ],
             [
              1,
              "#f0f921"
             ]
            ],
            "type": "histogram2dcontour"
           }
          ],
          "mesh3d": [
           {
            "colorbar": {
             "outlinewidth": 0,
             "ticks": ""
            },
            "type": "mesh3d"
           }
          ],
          "parcoords": [
           {
            "line": {
             "colorbar": {
              "outlinewidth": 0,
              "ticks": ""
             }
            },
            "type": "parcoords"
           }
          ],
          "pie": [
           {
            "automargin": true,
            "type": "pie"
           }
          ],
          "scatter": [
           {
            "marker": {
             "colorbar": {
              "outlinewidth": 0,
              "ticks": ""
             }
            },
            "type": "scatter"
           }
          ],
          "scatter3d": [
           {
            "line": {
             "colorbar": {
              "outlinewidth": 0,
              "ticks": ""
             }
            },
            "marker": {
             "colorbar": {
              "outlinewidth": 0,
              "ticks": ""
             }
            },
            "type": "scatter3d"
           }
          ],
          "scattercarpet": [
           {
            "marker": {
             "colorbar": {
              "outlinewidth": 0,
              "ticks": ""
             }
            },
            "type": "scattercarpet"
           }
          ],
          "scattergeo": [
           {
            "marker": {
             "colorbar": {
              "outlinewidth": 0,
              "ticks": ""
             }
            },
            "type": "scattergeo"
           }
          ],
          "scattergl": [
           {
            "marker": {
             "colorbar": {
              "outlinewidth": 0,
              "ticks": ""
             }
            },
            "type": "scattergl"
           }
          ],
          "scattermapbox": [
           {
            "marker": {
             "colorbar": {
              "outlinewidth": 0,
              "ticks": ""
             }
            },
            "type": "scattermapbox"
           }
          ],
          "scatterpolar": [
           {
            "marker": {
             "colorbar": {
              "outlinewidth": 0,
              "ticks": ""
             }
            },
            "type": "scatterpolar"
           }
          ],
          "scatterpolargl": [
           {
            "marker": {
             "colorbar": {
              "outlinewidth": 0,
              "ticks": ""
             }
            },
            "type": "scatterpolargl"
           }
          ],
          "scatterternary": [
           {
            "marker": {
             "colorbar": {
              "outlinewidth": 0,
              "ticks": ""
             }
            },
            "type": "scatterternary"
           }
          ],
          "surface": [
           {
            "colorbar": {
             "outlinewidth": 0,
             "ticks": ""
            },
            "colorscale": [
             [
              0,
              "#0d0887"
             ],
             [
              0.1111111111111111,
              "#46039f"
             ],
             [
              0.2222222222222222,
              "#7201a8"
             ],
             [
              0.3333333333333333,
              "#9c179e"
             ],
             [
              0.4444444444444444,
              "#bd3786"
             ],
             [
              0.5555555555555556,
              "#d8576b"
             ],
             [
              0.6666666666666666,
              "#ed7953"
             ],
             [
              0.7777777777777778,
              "#fb9f3a"
             ],
             [
              0.8888888888888888,
              "#fdca26"
             ],
             [
              1,
              "#f0f921"
             ]
            ],
            "type": "surface"
           }
          ],
          "table": [
           {
            "cells": {
             "fill": {
              "color": "#EBF0F8"
             },
             "line": {
              "color": "white"
             }
            },
            "header": {
             "fill": {
              "color": "#C8D4E3"
             },
             "line": {
              "color": "white"
             }
            },
            "type": "table"
           }
          ]
         },
         "layout": {
          "annotationdefaults": {
           "arrowcolor": "#2a3f5f",
           "arrowhead": 0,
           "arrowwidth": 1
          },
          "autotypenumbers": "strict",
          "coloraxis": {
           "colorbar": {
            "outlinewidth": 0,
            "ticks": ""
           }
          },
          "colorscale": {
           "diverging": [
            [
             0,
             "#8e0152"
            ],
            [
             0.1,
             "#c51b7d"
            ],
            [
             0.2,
             "#de77ae"
            ],
            [
             0.3,
             "#f1b6da"
            ],
            [
             0.4,
             "#fde0ef"
            ],
            [
             0.5,
             "#f7f7f7"
            ],
            [
             0.6,
             "#e6f5d0"
            ],
            [
             0.7,
             "#b8e186"
            ],
            [
             0.8,
             "#7fbc41"
            ],
            [
             0.9,
             "#4d9221"
            ],
            [
             1,
             "#276419"
            ]
           ],
           "sequential": [
            [
             0,
             "#0d0887"
            ],
            [
             0.1111111111111111,
             "#46039f"
            ],
            [
             0.2222222222222222,
             "#7201a8"
            ],
            [
             0.3333333333333333,
             "#9c179e"
            ],
            [
             0.4444444444444444,
             "#bd3786"
            ],
            [
             0.5555555555555556,
             "#d8576b"
            ],
            [
             0.6666666666666666,
             "#ed7953"
            ],
            [
             0.7777777777777778,
             "#fb9f3a"
            ],
            [
             0.8888888888888888,
             "#fdca26"
            ],
            [
             1,
             "#f0f921"
            ]
           ],
           "sequentialminus": [
            [
             0,
             "#0d0887"
            ],
            [
             0.1111111111111111,
             "#46039f"
            ],
            [
             0.2222222222222222,
             "#7201a8"
            ],
            [
             0.3333333333333333,
             "#9c179e"
            ],
            [
             0.4444444444444444,
             "#bd3786"
            ],
            [
             0.5555555555555556,
             "#d8576b"
            ],
            [
             0.6666666666666666,
             "#ed7953"
            ],
            [
             0.7777777777777778,
             "#fb9f3a"
            ],
            [
             0.8888888888888888,
             "#fdca26"
            ],
            [
             1,
             "#f0f921"
            ]
           ]
          },
          "colorway": [
           "#636efa",
           "#EF553B",
           "#00cc96",
           "#ab63fa",
           "#FFA15A",
           "#19d3f3",
           "#FF6692",
           "#B6E880",
           "#FF97FF",
           "#FECB52"
          ],
          "font": {
           "color": "#2a3f5f"
          },
          "geo": {
           "bgcolor": "white",
           "lakecolor": "white",
           "landcolor": "#E5ECF6",
           "showlakes": true,
           "showland": true,
           "subunitcolor": "white"
          },
          "hoverlabel": {
           "align": "left"
          },
          "hovermode": "closest",
          "mapbox": {
           "style": "light"
          },
          "paper_bgcolor": "white",
          "plot_bgcolor": "#E5ECF6",
          "polar": {
           "angularaxis": {
            "gridcolor": "white",
            "linecolor": "white",
            "ticks": ""
           },
           "bgcolor": "#E5ECF6",
           "radialaxis": {
            "gridcolor": "white",
            "linecolor": "white",
            "ticks": ""
           }
          },
          "scene": {
           "xaxis": {
            "backgroundcolor": "#E5ECF6",
            "gridcolor": "white",
            "gridwidth": 2,
            "linecolor": "white",
            "showbackground": true,
            "ticks": "",
            "zerolinecolor": "white"
           },
           "yaxis": {
            "backgroundcolor": "#E5ECF6",
            "gridcolor": "white",
            "gridwidth": 2,
            "linecolor": "white",
            "showbackground": true,
            "ticks": "",
            "zerolinecolor": "white"
           },
           "zaxis": {
            "backgroundcolor": "#E5ECF6",
            "gridcolor": "white",
            "gridwidth": 2,
            "linecolor": "white",
            "showbackground": true,
            "ticks": "",
            "zerolinecolor": "white"
           }
          },
          "shapedefaults": {
           "line": {
            "color": "#2a3f5f"
           }
          },
          "ternary": {
           "aaxis": {
            "gridcolor": "white",
            "linecolor": "white",
            "ticks": ""
           },
           "baxis": {
            "gridcolor": "white",
            "linecolor": "white",
            "ticks": ""
           },
           "bgcolor": "#E5ECF6",
           "caxis": {
            "gridcolor": "white",
            "linecolor": "white",
            "ticks": ""
           }
          },
          "title": {
           "x": 0.05
          },
          "xaxis": {
           "automargin": true,
           "gridcolor": "white",
           "linecolor": "white",
           "ticks": "",
           "title": {
            "standoff": 15
           },
           "zerolinecolor": "white",
           "zerolinewidth": 2
          },
          "yaxis": {
           "automargin": true,
           "gridcolor": "white",
           "linecolor": "white",
           "ticks": "",
           "title": {
            "standoff": 15
           },
           "zerolinecolor": "white",
           "zerolinewidth": 2
          }
         }
        },
        "title": "Value of element above diagonal σ_i",
        "xaxis": {
         "title": {
          "text": "Iteration"
         }
        },
        "yaxis": {
         "tickformat": "e",
         "title": {
          "text": "Error"
         },
         "type": "log"
        }
       }
      },
      "text/html": [
       "<div\n",
       "    class=\"webio-mountpoint\"\n",
       "    data-webio-mountpoint=\"1790364045020149491\"\n",
       ">\n",
       "    <script>\n",
       "    (function(){\n",
       "    // Some integrations (namely, IJulia/Jupyter) use an alternate render pathway than\n",
       "    // just putting the html on the page. If WebIO isn't defined, then it's pretty likely\n",
       "    // that we're in one of those situations and the integration just isn't installed\n",
       "    // correctly.\n",
       "    if (typeof window.WebIO === \"undefined\") {\n",
       "        document\n",
       "            .querySelector('[data-webio-mountpoint=\"1790364045020149491\"]')\n",
       "            .innerHTML = (\n",
       "                '<div style=\"padding: 1em; background-color: #f8d6da; border: 1px solid #f5c6cb; font-weight: bold;\">' +\n",
       "                '<p><strong>WebIO not detected.</strong></p>' +\n",
       "                '<p>Please read ' +\n",
       "                '<a href=\"https://juliagizmos.github.io/WebIO.jl/latest/troubleshooting/not-detected/\" target=\"_blank\">the troubleshooting guide</a> ' +\n",
       "                'for more information on how to resolve this issue.</p>' +\n",
       "                '<p><a href=\"https://juliagizmos.github.io/WebIO.jl/latest/troubleshooting/not-detected/\" target=\"_blank\">https://juliagizmos.github.io/WebIO.jl/latest/troubleshooting/not-detected/</a></p>' +\n",
       "                '</div>'\n",
       "            );\n",
       "        return;\n",
       "    }\n",
       "    WebIO.mount(\n",
       "        document.querySelector('[data-webio-mountpoint=\"1790364045020149491\"]'),\n",
       "        {\"props\":{},\"nodeType\":\"Scope\",\"type\":\"node\",\"instanceArgs\":{\"imports\":{\"data\":[{\"name\":\"Plotly\",\"type\":\"js\",\"url\":\"\\/assetserver\\/d6feb8d8ce4676ebdde817a0745950a35b4ba3ae-plotly.min.js\"},{\"name\":null,\"type\":\"js\",\"url\":\"\\/assetserver\\/46c9ff4df7c73b5875052df387368a00f6cfc484-plotly_webio.bundle.js\"}],\"type\":\"async_block\"},\"id\":\"3465458439119731868\",\"handlers\":{\"_toImage\":[\"(function (options){return this.Plotly.toImage(this.plotElem,options).then((function (data){return WebIO.setval({\\\"name\\\":\\\"image\\\",\\\"scope\\\":\\\"3465458439119731868\\\",\\\"id\\\":\\\"175\\\",\\\"type\\\":\\\"observable\\\"},data)}))})\"],\"__get_gd_contents\":[\"(function (prop){prop==\\\"data\\\" ? (WebIO.setval({\\\"name\\\":\\\"__gd_contents\\\",\\\"scope\\\":\\\"3465458439119731868\\\",\\\"id\\\":\\\"176\\\",\\\"type\\\":\\\"observable\\\"},this.plotElem.data)) : undefined; return prop==\\\"layout\\\" ? (WebIO.setval({\\\"name\\\":\\\"__gd_contents\\\",\\\"scope\\\":\\\"3465458439119731868\\\",\\\"id\\\":\\\"176\\\",\\\"type\\\":\\\"observable\\\"},this.plotElem.layout)) : undefined})\"],\"_downloadImage\":[\"(function (options){return this.Plotly.downloadImage(this.plotElem,options)})\"],\"_commands\":[\"(function (args){var fn=args.shift(); var elem=this.plotElem; var Plotly=this.Plotly; args.unshift(elem); return Plotly[fn].apply(this,args)})\"]},\"systemjs_options\":null,\"mount_callbacks\":[\"function () {\\n    var handler = ((function (Plotly,PlotlyWebIO){PlotlyWebIO.init(WebIO); var gd=this.dom.querySelector(\\\"#plot-0a331fbe-b07b-40dc-9662-f3ec6d924661\\\"); this.plotElem=gd; this.Plotly=Plotly; (window.Blink!==undefined) ? (gd.style.width=\\\"100%\\\", gd.style.height=\\\"100vh\\\", gd.style.marginLeft=\\\"0%\\\", gd.style.marginTop=\\\"0vh\\\") : undefined; window.onresize=(function (){return Plotly.Plots.resize(gd)}); Plotly.newPlot(gd,[{\\\"x\\\":[1,2,3,4,5,6,7,8,9,10,11,12,13,14,15,16,17,18,19,20],\\\"mode\\\":\\\"lines+markers\\\",\\\"line\\\":{\\\"shape\\\":\\\"linear\\\"},\\\"y\\\":[1.7358734821219435,1.4976211139653999,1.7730360749363516,1.2078311208810717,0.5997719080634767,0.27196109011494646,0.10312032409348912,0.03894838951191742,0.011400099940045302,0.0033379215966360095,3.4196922354097026e-5,4.4389817343155147e-7,2.5628027468058024e-21,2.5628027468058024e-21,2.5628027468058024e-21,2.5628027468058024e-21,2.5628027468058024e-21,2.5628027468058024e-21,2.5628027468058024e-21,2.5628027468058024e-21],\\\"type\\\":\\\"scatter\\\",\\\"name\\\":\\\"σ2\\\",\\\"marker\\\":{\\\"color\\\":1}},{\\\"x\\\":[1,2,3,4,5,6,7,8,9,10,11,12,13,14,15,16,17,18,19,20],\\\"mode\\\":\\\"lines+markers\\\",\\\"line\\\":{\\\"shape\\\":\\\"linear\\\"},\\\"y\\\":[3.199132829184928,1.3164039084605323,0.32064163708645066,0.12688952778134677,0.0625141723398576,0.03780747945385062,0.028115080892555478,0.027106467248854498,0.027210265826786362,0.027427329908421595,1.6439062628564252e-6,5.154287185837976e-16,5.15428718583795e-16,5.15428718583795e-16,5.15428718583795e-16,5.15428718583795e-16,5.15428718583795e-16,5.15428718583795e-16,5.15428718583795e-16,5.15428718583795e-16],\\\"type\\\":\\\"scatter\\\",\\\"name\\\":\\\"σ3\\\",\\\"marker\\\":{\\\"color\\\":2}},{\\\"x\\\":[1,2,3,4,5,6,7,8,9,10,11,12,13,14,15,16,17,18,19,20],\\\"mode\\\":\\\"lines+markers\\\",\\\"line\\\":{\\\"shape\\\":\\\"linear\\\"},\\\"y\\\":[1.6874129383625602,0.7909384872904875,0.5054546502698359,0.5859935000507993,0.9262337520202342,1.058297297585973,0.5397821256267561,0.18189178728822253,3.9956359631080644e-7,1.6623957620226813e-17,1.3064914233661321e-17,1.3064614210739912e-17,1.3064614210739912e-17,1.3064614210739912e-17,1.3064614210739912e-17,1.3064614210739912e-17,1.3064614210739912e-17,1.3064614210739912e-17,1.3064614210739912e-17,1.3064614210739912e-17],\\\"type\\\":\\\"scatter\\\",\\\"name\\\":\\\"σ4\\\",\\\"marker\\\":{\\\"color\\\":3}},{\\\"x\\\":[1,2,3,4,5,6,7,8,9,10,11,12,13,14,15,16,17,18,19,20],\\\"mode\\\":\\\"lines+markers\\\",\\\"line\\\":{\\\"shape\\\":\\\"linear\\\"},\\\"y\\\":[1.4344669299044297,1.0767699734047889,1.6831102890928051,0.9598950169280818,0.2912522460634333,0.09951493566887326,0.00013914685527503416,2.008487054651461e-13,2.0034094757307796e-13,2.0034094979071422e-13,2.0034094979071422e-13,2.0034094979071422e-13,2.0034094979071422e-13,2.0034094979071422e-13,2.0034094979071422e-13,2.0034094979071422e-13,2.0034094979071422e-13,2.0034094979071422e-13,2.0034094979071422e-13,2.0034094979071422e-13],\\\"type\\\":\\\"scatter\\\",\\\"name\\\":\\\"σ5\\\",\\\"marker\\\":{\\\"color\\\":4}},{\\\"x\\\":[1,2,3,4,5,6,7,8,9,10,11,12,13,14,15,16,17,18,19,20],\\\"mode\\\":\\\"lines+markers\\\",\\\"line\\\":{\\\"shape\\\":\\\"linear\\\"},\\\"y\\\":[0.7840563533317033,2.522549977591489,0.4705946827294891,0.009992642680829375,8.629541180248767e-8,8.64964342006518e-17,8.668518293793435e-17,8.668488726707051e-17,8.668488726707051e-17,8.668488726707051e-17,8.668488726707051e-17,8.668488726707051e-17,8.668488726707051e-17,8.668488726707051e-17,8.668488726707051e-17,8.668488726707051e-17,8.668488726707051e-17,8.668488726707051e-17,8.668488726707051e-17,8.668488726707051e-17],\\\"type\\\":\\\"scatter\\\",\\\"name\\\":\\\"σ6\\\",\\\"marker\\\":{\\\"color\\\":5}},{\\\"x\\\":[1,2,3,4,5,6,7,8,9,10,11,12,13,14,15,16,17,18,19,20],\\\"mode\\\":\\\"lines+markers\\\",\\\"line\\\":{\\\"shape\\\":\\\"linear\\\"},\\\"y\\\":[0.12174079096139012,4.964559239431172e-6,2.460554715302744e-17,1.9850698704973754e-17,2.0021687817025397e-17,2.0021686160287843e-17,2.0021686160287843e-17,2.0021686160287843e-17,2.0021686160287843e-17,2.0021686160287843e-17,2.0021686160287843e-17,2.0021686160287843e-17,2.0021686160287843e-17,2.0021686160287843e-17,2.0021686160287843e-17,2.0021686160287843e-17,2.0021686160287843e-17,2.0021686160287843e-17,2.0021686160287843e-17,2.0021686160287843e-17],\\\"type\\\":\\\"scatter\\\",\\\"name\\\":\\\"σ7\\\",\\\"marker\\\":{\\\"color\\\":6}}],{\\\"showlegend\\\":true,\\\"xaxis\\\":{\\\"title\\\":{\\\"text\\\":\\\"Iteration\\\"}},\\\"template\\\":{\\\"layout\\\":{\\\"coloraxis\\\":{\\\"colorbar\\\":{\\\"ticks\\\":\\\"\\\",\\\"outlinewidth\\\":0}},\\\"xaxis\\\":{\\\"gridcolor\\\":\\\"white\\\",\\\"zerolinewidth\\\":2,\\\"title\\\":{\\\"standoff\\\":15},\\\"ticks\\\":\\\"\\\",\\\"zerolinecolor\\\":\\\"white\\\",\\\"automargin\\\":true,\\\"linecolor\\\":\\\"white\\\"},\\\"hovermode\\\":\\\"closest\\\",\\\"paper_bgcolor\\\":\\\"white\\\",\\\"geo\\\":{\\\"showlakes\\\":true,\\\"showland\\\":true,\\\"landcolor\\\":\\\"#E5ECF6\\\",\\\"bgcolor\\\":\\\"white\\\",\\\"subunitcolor\\\":\\\"white\\\",\\\"lakecolor\\\":\\\"white\\\"},\\\"colorscale\\\":{\\\"sequential\\\":[[0.0,\\\"#0d0887\\\"],[0.1111111111111111,\\\"#46039f\\\"],[0.2222222222222222,\\\"#7201a8\\\"],[0.3333333333333333,\\\"#9c179e\\\"],[0.4444444444444444,\\\"#bd3786\\\"],[0.5555555555555556,\\\"#d8576b\\\"],[0.6666666666666666,\\\"#ed7953\\\"],[0.7777777777777778,\\\"#fb9f3a\\\"],[0.8888888888888888,\\\"#fdca26\\\"],[1.0,\\\"#f0f921\\\"]],\\\"diverging\\\":[[0,\\\"#8e0152\\\"],[0.1,\\\"#c51b7d\\\"],[0.2,\\\"#de77ae\\\"],[0.3,\\\"#f1b6da\\\"],[0.4,\\\"#fde0ef\\\"],[0.5,\\\"#f7f7f7\\\"],[0.6,\\\"#e6f5d0\\\"],[0.7,\\\"#b8e186\\\"],[0.8,\\\"#7fbc41\\\"],[0.9,\\\"#4d9221\\\"],[1,\\\"#276419\\\"]],\\\"sequentialminus\\\":[[0.0,\\\"#0d0887\\\"],[0.1111111111111111,\\\"#46039f\\\"],[0.2222222222222222,\\\"#7201a8\\\"],[0.3333333333333333,\\\"#9c179e\\\"],[0.4444444444444444,\\\"#bd3786\\\"],[0.5555555555555556,\\\"#d8576b\\\"],[0.6666666666666666,\\\"#ed7953\\\"],[0.7777777777777778,\\\"#fb9f3a\\\"],[0.8888888888888888,\\\"#fdca26\\\"],[1.0,\\\"#f0f921\\\"]]},\\\"yaxis\\\":{\\\"gridcolor\\\":\\\"white\\\",\\\"zerolinewidth\\\":2,\\\"title\\\":{\\\"standoff\\\":15},\\\"ticks\\\":\\\"\\\",\\\"zerolinecolor\\\":\\\"white\\\",\\\"automargin\\\":true,\\\"linecolor\\\":\\\"white\\\"},\\\"shapedefaults\\\":{\\\"line\\\":{\\\"color\\\":\\\"#2a3f5f\\\"}},\\\"hoverlabel\\\":{\\\"align\\\":\\\"left\\\"},\\\"mapbox\\\":{\\\"style\\\":\\\"light\\\"},\\\"polar\\\":{\\\"angularaxis\\\":{\\\"gridcolor\\\":\\\"white\\\",\\\"ticks\\\":\\\"\\\",\\\"linecolor\\\":\\\"white\\\"},\\\"bgcolor\\\":\\\"#E5ECF6\\\",\\\"radialaxis\\\":{\\\"gridcolor\\\":\\\"white\\\",\\\"ticks\\\":\\\"\\\",\\\"linecolor\\\":\\\"white\\\"}},\\\"autotypenumbers\\\":\\\"strict\\\",\\\"font\\\":{\\\"color\\\":\\\"#2a3f5f\\\"},\\\"ternary\\\":{\\\"baxis\\\":{\\\"gridcolor\\\":\\\"white\\\",\\\"ticks\\\":\\\"\\\",\\\"linecolor\\\":\\\"white\\\"},\\\"bgcolor\\\":\\\"#E5ECF6\\\",\\\"caxis\\\":{\\\"gridcolor\\\":\\\"white\\\",\\\"ticks\\\":\\\"\\\",\\\"linecolor\\\":\\\"white\\\"},\\\"aaxis\\\":{\\\"gridcolor\\\":\\\"white\\\",\\\"ticks\\\":\\\"\\\",\\\"linecolor\\\":\\\"white\\\"}},\\\"annotationdefaults\\\":{\\\"arrowhead\\\":0,\\\"arrowwidth\\\":1,\\\"arrowcolor\\\":\\\"#2a3f5f\\\"},\\\"plot_bgcolor\\\":\\\"#E5ECF6\\\",\\\"title\\\":{\\\"x\\\":0.05},\\\"scene\\\":{\\\"xaxis\\\":{\\\"gridcolor\\\":\\\"white\\\",\\\"gridwidth\\\":2,\\\"backgroundcolor\\\":\\\"#E5ECF6\\\",\\\"ticks\\\":\\\"\\\",\\\"showbackground\\\":true,\\\"zerolinecolor\\\":\\\"white\\\",\\\"linecolor\\\":\\\"white\\\"},\\\"zaxis\\\":{\\\"gridcolor\\\":\\\"white\\\",\\\"gridwidth\\\":2,\\\"backgroundcolor\\\":\\\"#E5ECF6\\\",\\\"ticks\\\":\\\"\\\",\\\"showbackground\\\":true,\\\"zerolinecolor\\\":\\\"white\\\",\\\"linecolor\\\":\\\"white\\\"},\\\"yaxis\\\":{\\\"gridcolor\\\":\\\"white\\\",\\\"gridwidth\\\":2,\\\"backgroundcolor\\\":\\\"#E5ECF6\\\",\\\"ticks\\\":\\\"\\\",\\\"showbackground\\\":true,\\\"zerolinecolor\\\":\\\"white\\\",\\\"linecolor\\\":\\\"white\\\"}},\\\"colorway\\\":[\\\"#636efa\\\",\\\"#EF553B\\\",\\\"#00cc96\\\",\\\"#ab63fa\\\",\\\"#FFA15A\\\",\\\"#19d3f3\\\",\\\"#FF6692\\\",\\\"#B6E880\\\",\\\"#FF97FF\\\",\\\"#FECB52\\\"]},\\\"data\\\":{\\\"barpolar\\\":[{\\\"type\\\":\\\"barpolar\\\",\\\"marker\\\":{\\\"line\\\":{\\\"color\\\":\\\"#E5ECF6\\\",\\\"width\\\":0.5}}}],\\\"carpet\\\":[{\\\"aaxis\\\":{\\\"gridcolor\\\":\\\"white\\\",\\\"endlinecolor\\\":\\\"#2a3f5f\\\",\\\"minorgridcolor\\\":\\\"white\\\",\\\"startlinecolor\\\":\\\"#2a3f5f\\\",\\\"linecolor\\\":\\\"white\\\"},\\\"type\\\":\\\"carpet\\\",\\\"baxis\\\":{\\\"gridcolor\\\":\\\"white\\\",\\\"endlinecolor\\\":\\\"#2a3f5f\\\",\\\"minorgridcolor\\\":\\\"white\\\",\\\"startlinecolor\\\":\\\"#2a3f5f\\\",\\\"linecolor\\\":\\\"white\\\"}}],\\\"scatterpolar\\\":[{\\\"type\\\":\\\"scatterpolar\\\",\\\"marker\\\":{\\\"colorbar\\\":{\\\"ticks\\\":\\\"\\\",\\\"outlinewidth\\\":0}}}],\\\"parcoords\\\":[{\\\"line\\\":{\\\"colorbar\\\":{\\\"ticks\\\":\\\"\\\",\\\"outlinewidth\\\":0}},\\\"type\\\":\\\"parcoords\\\"}],\\\"scatter\\\":[{\\\"type\\\":\\\"scatter\\\",\\\"marker\\\":{\\\"colorbar\\\":{\\\"ticks\\\":\\\"\\\",\\\"outlinewidth\\\":0}}}],\\\"histogram2dcontour\\\":[{\\\"colorbar\\\":{\\\"ticks\\\":\\\"\\\",\\\"outlinewidth\\\":0},\\\"type\\\":\\\"histogram2dcontour\\\",\\\"colorscale\\\":[[0.0,\\\"#0d0887\\\"],[0.1111111111111111,\\\"#46039f\\\"],[0.2222222222222222,\\\"#7201a8\\\"],[0.3333333333333333,\\\"#9c179e\\\"],[0.4444444444444444,\\\"#bd3786\\\"],[0.5555555555555556,\\\"#d8576b\\\"],[0.6666666666666666,\\\"#ed7953\\\"],[0.7777777777777778,\\\"#fb9f3a\\\"],[0.8888888888888888,\\\"#fdca26\\\"],[1.0,\\\"#f0f921\\\"]]}],\\\"contour\\\":[{\\\"colorbar\\\":{\\\"ticks\\\":\\\"\\\",\\\"outlinewidth\\\":0},\\\"type\\\":\\\"contour\\\",\\\"colorscale\\\":[[0.0,\\\"#0d0887\\\"],[0.1111111111111111,\\\"#46039f\\\"],[0.2222222222222222,\\\"#7201a8\\\"],[0.3333333333333333,\\\"#9c179e\\\"],[0.4444444444444444,\\\"#bd3786\\\"],[0.5555555555555556,\\\"#d8576b\\\"],[0.6666666666666666,\\\"#ed7953\\\"],[0.7777777777777778,\\\"#fb9f3a\\\"],[0.8888888888888888,\\\"#fdca26\\\"],[1.0,\\\"#f0f921\\\"]]}],\\\"scattercarpet\\\":[{\\\"type\\\":\\\"scattercarpet\\\",\\\"marker\\\":{\\\"colorbar\\\":{\\\"ticks\\\":\\\"\\\",\\\"outlinewidth\\\":0}}}],\\\"mesh3d\\\":[{\\\"colorbar\\\":{\\\"ticks\\\":\\\"\\\",\\\"outlinewidth\\\":0},\\\"type\\\":\\\"mesh3d\\\"}],\\\"surface\\\":[{\\\"colorbar\\\":{\\\"ticks\\\":\\\"\\\",\\\"outlinewidth\\\":0},\\\"type\\\":\\\"surface\\\",\\\"colorscale\\\":[[0.0,\\\"#0d0887\\\"],[0.1111111111111111,\\\"#46039f\\\"],[0.2222222222222222,\\\"#7201a8\\\"],[0.3333333333333333,\\\"#9c179e\\\"],[0.4444444444444444,\\\"#bd3786\\\"],[0.5555555555555556,\\\"#d8576b\\\"],[0.6666666666666666,\\\"#ed7953\\\"],[0.7777777777777778,\\\"#fb9f3a\\\"],[0.8888888888888888,\\\"#fdca26\\\"],[1.0,\\\"#f0f921\\\"]]}],\\\"scattermapbox\\\":[{\\\"type\\\":\\\"scattermapbox\\\",\\\"marker\\\":{\\\"colorbar\\\":{\\\"ticks\\\":\\\"\\\",\\\"outlinewidth\\\":0}}}],\\\"scattergeo\\\":[{\\\"type\\\":\\\"scattergeo\\\",\\\"marker\\\":{\\\"colorbar\\\":{\\\"ticks\\\":\\\"\\\",\\\"outlinewidth\\\":0}}}],\\\"histogram\\\":[{\\\"type\\\":\\\"histogram\\\",\\\"marker\\\":{\\\"colorbar\\\":{\\\"ticks\\\":\\\"\\\",\\\"outlinewidth\\\":0}}}],\\\"pie\\\":[{\\\"type\\\":\\\"pie\\\",\\\"automargin\\\":true}],\\\"choropleth\\\":[{\\\"colorbar\\\":{\\\"ticks\\\":\\\"\\\",\\\"outlinewidth\\\":0},\\\"type\\\":\\\"choropleth\\\"}],\\\"heatmapgl\\\":[{\\\"colorbar\\\":{\\\"ticks\\\":\\\"\\\",\\\"outlinewidth\\\":0},\\\"type\\\":\\\"heatmapgl\\\",\\\"colorscale\\\":[[0.0,\\\"#0d0887\\\"],[0.1111111111111111,\\\"#46039f\\\"],[0.2222222222222222,\\\"#7201a8\\\"],[0.3333333333333333,\\\"#9c179e\\\"],[0.4444444444444444,\\\"#bd3786\\\"],[0.5555555555555556,\\\"#d8576b\\\"],[0.6666666666666666,\\\"#ed7953\\\"],[0.7777777777777778,\\\"#fb9f3a\\\"],[0.8888888888888888,\\\"#fdca26\\\"],[1.0,\\\"#f0f921\\\"]]}],\\\"bar\\\":[{\\\"type\\\":\\\"bar\\\",\\\"error_y\\\":{\\\"color\\\":\\\"#2a3f5f\\\"},\\\"error_x\\\":{\\\"color\\\":\\\"#2a3f5f\\\"},\\\"marker\\\":{\\\"line\\\":{\\\"color\\\":\\\"#E5ECF6\\\",\\\"width\\\":0.5}}}],\\\"heatmap\\\":[{\\\"colorbar\\\":{\\\"ticks\\\":\\\"\\\",\\\"outlinewidth\\\":0},\\\"type\\\":\\\"heatmap\\\",\\\"colorscale\\\":[[0.0,\\\"#0d0887\\\"],[0.1111111111111111,\\\"#46039f\\\"],[0.2222222222222222,\\\"#7201a8\\\"],[0.3333333333333333,\\\"#9c179e\\\"],[0.4444444444444444,\\\"#bd3786\\\"],[0.5555555555555556,\\\"#d8576b\\\"],[0.6666666666666666,\\\"#ed7953\\\"],[0.7777777777777778,\\\"#fb9f3a\\\"],[0.8888888888888888,\\\"#fdca26\\\"],[1.0,\\\"#f0f921\\\"]]}],\\\"contourcarpet\\\":[{\\\"colorbar\\\":{\\\"ticks\\\":\\\"\\\",\\\"outlinewidth\\\":0},\\\"type\\\":\\\"contourcarpet\\\"}],\\\"table\\\":[{\\\"type\\\":\\\"table\\\",\\\"header\\\":{\\\"line\\\":{\\\"color\\\":\\\"white\\\"},\\\"fill\\\":{\\\"color\\\":\\\"#C8D4E3\\\"}},\\\"cells\\\":{\\\"line\\\":{\\\"color\\\":\\\"white\\\"},\\\"fill\\\":{\\\"color\\\":\\\"#EBF0F8\\\"}}}],\\\"scatter3d\\\":[{\\\"line\\\":{\\\"colorbar\\\":{\\\"ticks\\\":\\\"\\\",\\\"outlinewidth\\\":0}},\\\"type\\\":\\\"scatter3d\\\",\\\"marker\\\":{\\\"colorbar\\\":{\\\"ticks\\\":\\\"\\\",\\\"outlinewidth\\\":0}}}],\\\"scattergl\\\":[{\\\"type\\\":\\\"scattergl\\\",\\\"marker\\\":{\\\"colorbar\\\":{\\\"ticks\\\":\\\"\\\",\\\"outlinewidth\\\":0}}}],\\\"histogram2d\\\":[{\\\"colorbar\\\":{\\\"ticks\\\":\\\"\\\",\\\"outlinewidth\\\":0},\\\"type\\\":\\\"histogram2d\\\",\\\"colorscale\\\":[[0.0,\\\"#0d0887\\\"],[0.1111111111111111,\\\"#46039f\\\"],[0.2222222222222222,\\\"#7201a8\\\"],[0.3333333333333333,\\\"#9c179e\\\"],[0.4444444444444444,\\\"#bd3786\\\"],[0.5555555555555556,\\\"#d8576b\\\"],[0.6666666666666666,\\\"#ed7953\\\"],[0.7777777777777778,\\\"#fb9f3a\\\"],[0.8888888888888888,\\\"#fdca26\\\"],[1.0,\\\"#f0f921\\\"]]}],\\\"scatterternary\\\":[{\\\"type\\\":\\\"scatterternary\\\",\\\"marker\\\":{\\\"colorbar\\\":{\\\"ticks\\\":\\\"\\\",\\\"outlinewidth\\\":0}}}],\\\"scatterpolargl\\\":[{\\\"type\\\":\\\"scatterpolargl\\\",\\\"marker\\\":{\\\"colorbar\\\":{\\\"ticks\\\":\\\"\\\",\\\"outlinewidth\\\":0}}}]}},\\\"margin\\\":{\\\"l\\\":50,\\\"b\\\":50,\\\"r\\\":50,\\\"t\\\":60},\\\"title\\\":\\\"Value of element above diagonal σ_i\\\",\\\"yaxis\\\":{\\\"type\\\":\\\"log\\\",\\\"title\\\":{\\\"text\\\":\\\"Error\\\"},\\\"tickformat\\\":\\\"e\\\"}},{\\\"showLink\\\":false,\\\"editable\\\":false,\\\"responsive\\\":true,\\\"staticPlot\\\":false,\\\"scrollZoom\\\":true}); gd.on(\\\"plotly_hover\\\",(function (data){var filtered_data=WebIO.PlotlyCommands.filterEventData(gd,data,\\\"hover\\\"); return !(filtered_data.isnil) ? (WebIO.setval({\\\"name\\\":\\\"hover\\\",\\\"scope\\\":\\\"3465458439119731868\\\",\\\"id\\\":\\\"171\\\",\\\"type\\\":\\\"observable\\\"},filtered_data.out)) : undefined})); gd.on(\\\"plotly_unhover\\\",(function (){return WebIO.setval({\\\"name\\\":\\\"hover\\\",\\\"scope\\\":\\\"3465458439119731868\\\",\\\"id\\\":\\\"171\\\",\\\"type\\\":\\\"observable\\\"},{})})); gd.on(\\\"plotly_selected\\\",(function (data){var filtered_data=WebIO.PlotlyCommands.filterEventData(gd,data,\\\"selected\\\"); return !(filtered_data.isnil) ? (WebIO.setval({\\\"name\\\":\\\"selected\\\",\\\"scope\\\":\\\"3465458439119731868\\\",\\\"id\\\":\\\"172\\\",\\\"type\\\":\\\"observable\\\"},filtered_data.out)) : undefined})); gd.on(\\\"plotly_deselect\\\",(function (){return WebIO.setval({\\\"name\\\":\\\"selected\\\",\\\"scope\\\":\\\"3465458439119731868\\\",\\\"id\\\":\\\"172\\\",\\\"type\\\":\\\"observable\\\"},{})})); gd.on(\\\"plotly_relayout\\\",(function (data){var filtered_data=WebIO.PlotlyCommands.filterEventData(gd,data,\\\"relayout\\\"); return !(filtered_data.isnil) ? (WebIO.setval({\\\"name\\\":\\\"relayout\\\",\\\"scope\\\":\\\"3465458439119731868\\\",\\\"id\\\":\\\"174\\\",\\\"type\\\":\\\"observable\\\"},filtered_data.out)) : undefined})); return gd.on(\\\"plotly_click\\\",(function (data){var filtered_data=WebIO.PlotlyCommands.filterEventData(gd,data,\\\"click\\\"); return !(filtered_data.isnil) ? (WebIO.setval({\\\"name\\\":\\\"click\\\",\\\"scope\\\":\\\"3465458439119731868\\\",\\\"id\\\":\\\"173\\\",\\\"type\\\":\\\"observable\\\"},filtered_data.out)) : undefined}))}));\\n    (WebIO.importBlock({\\\"data\\\":[{\\\"name\\\":\\\"Plotly\\\",\\\"type\\\":\\\"js\\\",\\\"url\\\":\\\"\\/assetserver\\/d6feb8d8ce4676ebdde817a0745950a35b4ba3ae-plotly.min.js\\\"},{\\\"name\\\":null,\\\"type\\\":\\\"js\\\",\\\"url\\\":\\\"\\/assetserver\\/46c9ff4df7c73b5875052df387368a00f6cfc484-plotly_webio.bundle.js\\\"}],\\\"type\\\":\\\"async_block\\\"})).then((imports) => handler.apply(this, imports));\\n}\\n\"],\"observables\":{\"_toImage\":{\"sync\":false,\"id\":\"178\",\"value\":{}},\"hover\":{\"sync\":false,\"id\":\"171\",\"value\":{}},\"selected\":{\"sync\":false,\"id\":\"172\",\"value\":{}},\"__gd_contents\":{\"sync\":false,\"id\":\"176\",\"value\":{}},\"click\":{\"sync\":false,\"id\":\"173\",\"value\":{}},\"image\":{\"sync\":true,\"id\":\"175\",\"value\":\"\"},\"__get_gd_contents\":{\"sync\":false,\"id\":\"180\",\"value\":\"\"},\"_downloadImage\":{\"sync\":false,\"id\":\"179\",\"value\":{}},\"relayout\":{\"sync\":false,\"id\":\"174\",\"value\":{}},\"_commands\":{\"sync\":false,\"id\":\"177\",\"value\":[]}}},\"children\":[{\"props\":{\"id\":\"plot-0a331fbe-b07b-40dc-9662-f3ec6d924661\"},\"nodeType\":\"DOM\",\"type\":\"node\",\"instanceArgs\":{\"namespace\":\"html\",\"tag\":\"div\"},\"children\":[]}]},\n",
       "        window,\n",
       "    );\n",
       "    })()\n",
       "    </script>\n",
       "</div>\n"
      ],
      "text/plain": [
       "data: [\n",
       "  \"scatter with fields line, marker, mode, name, type, x, and y\",\n",
       "  \"scatter with fields line, marker, mode, name, type, x, and y\",\n",
       "  \"scatter with fields line, marker, mode, name, type, x, and y\",\n",
       "  \"scatter with fields line, marker, mode, name, type, x, and y\",\n",
       "  \"scatter with fields line, marker, mode, name, type, x, and y\",\n",
       "  \"scatter with fields line, marker, mode, name, type, x, and y\"\n",
       "]\n",
       "\n",
       "layout: \"layout with fields margin, showlegend, template, title, xaxis, and yaxis\"\n",
       "\n"
      ]
     },
     "execution_count": 370,
     "metadata": {},
     "output_type": "execute_result"
    }
   ],
   "source": [
    "error_vectors = [\n",
    "    abs.(results[1, 1, :]),\n",
    "    abs.(results[1, 2, :]),\n",
    "    abs.(results[1, 3, :]),\n",
    "    abs.(results[1, 4, :]),\n",
    "    abs.(results[1, 5, :]),\n",
    "    abs.(results[1, 6, :])\n",
    "]\n",
    "labels = [\"σ2\", \"σ3\", \"σ4\", \"σ5\", \"σ6\", \"σ7\"]\n",
    "plot_convergence_error(error_vectors, labels)"
   ]
  },
  {
   "cell_type": "code",
   "execution_count": 371,
   "id": "3d43a122",
   "metadata": {},
   "outputs": [
    {
     "name": "stdout",
     "output_type": "stream",
     "text": [
      "1×20 adjoint(::Vector{Float64}) with eltype Float64:\n",
      " 2.93295  4.85235  4.376  3.89805  3.74697  3.71392  3.70711  3.70636  3.7066  3.707  3.69631  3.69631  3.69631  3.69631  3.69631  3.69631  3.69631  3.69631  3.69631  3.69631"
     ]
    }
   ],
   "source": [
    "# σ_2\n",
    "show(stdout, \"text/plain\", results[2, 1, :]')"
   ]
  },
  {
   "cell_type": "code",
   "execution_count": 372,
   "id": "9cb803de",
   "metadata": {},
   "outputs": [
    {
     "name": "stdout",
     "output_type": "stream",
     "text": [
      "1×20 adjoint(::Vector{Float64}) with eltype Float64:\n",
      " 3.6138  -2.46332  -2.59051  -2.68776  -2.86677  -3.22131  -3.63041  -3.70557  -3.71425  -3.71384  -3.72458  -3.72458  -3.72458  -3.72458  -3.72458  -3.72458  -3.72458  -3.72458  -3.72458  -3.72458"
     ]
    }
   ],
   "source": [
    "# σ_3\n",
    "show(stdout, \"text/plain\", results[2, 2, :]')"
   ]
  },
  {
   "cell_type": "code",
   "execution_count": 373,
   "id": "c1839f21",
   "metadata": {},
   "outputs": [
    {
     "name": "stdout",
     "output_type": "stream",
     "text": [
      "1×20 adjoint(::Vector{Float64}) with eltype Float64:\n",
      " -1.63794  2.0447  2.59511  3.4362  3.4035  3.04646  2.70613  2.65104  2.64455  2.64455  2.64455  2.64455  2.64455  2.64455  2.64455  2.64455  2.64455  2.64455  2.64455  2.64455"
     ]
    }
   ],
   "source": [
    "# σ_4\n",
    "show(stdout, \"text/plain\", results[2, 3, :]')"
   ]
  },
  {
   "cell_type": "code",
   "execution_count": 374,
   "id": "fe3ac699",
   "metadata": {},
   "outputs": [
    {
     "name": "stdout",
     "output_type": "stream",
     "text": [
      "1×20 adjoint(::Vector{Float64}) with eltype Float64:\n",
      " 1.75975  -2.30279  -2.817  -2.09073  -1.9773  -1.96545  -1.96306  -1.96306  -1.96306  -1.96306  -1.96306  -1.96306  -1.96306  -1.96306  -1.96306  -1.96306  -1.96306  -1.96306  -1.96306  -1.96306"
     ]
    }
   ],
   "source": [
    "# σ_5\n",
    "show(stdout, \"text/plain\", results[2, 4, :]')"
   ]
  },
  {
   "cell_type": "code",
   "execution_count": 375,
   "id": "aa6eb1cb",
   "metadata": {},
   "outputs": [
    {
     "name": "stdout",
     "output_type": "stream",
     "text": [
      "1×20 adjoint(::Vector{Float64}) with eltype Float64:\n",
      " -3.59769  1.57148  0.911098  0.88948  0.889466  0.889466  0.889466  0.889466  0.889466  0.889466  0.889466  0.889466  0.889466  0.889466  0.889466  0.889466  0.889466  0.889466  0.889466  0.889466"
     ]
    }
   ],
   "source": [
    "# σ_6\n",
    "show(stdout, \"text/plain\", results[2, 5, :]')"
   ]
  },
  {
   "cell_type": "code",
   "execution_count": 376,
   "id": "d1cfc363",
   "metadata": {},
   "outputs": [
    {
     "name": "stdout",
     "output_type": "stream",
     "text": [
      "1×20 adjoint(::Vector{Float64}) with eltype Float64:\n",
      " 1.23518  1.23466  1.23466  1.23466  1.23466  1.23466  1.23466  1.23466  1.23466  1.23466  1.23466  1.23466  1.23466  1.23466  1.23466  1.23466  1.23466  1.23466  1.23466  1.23466"
     ]
    }
   ],
   "source": [
    "# σ_7\n",
    "show(stdout, \"text/plain\", results[2, 6, :]')"
   ]
  },
  {
   "cell_type": "code",
   "execution_count": 377,
   "id": "d7aef93d",
   "metadata": {
    "scrolled": true
   },
   "outputs": [
    {
     "data": {
      "text/plain": [
       "7×9 adjoint(::Matrix{Real}) with eltype Real:\n",
       " -5.48027  0         0        0         0        0         0        0  0\n",
       "  0        3.69631   0        0         0        0         0        0  0\n",
       "  0        0        -3.72458  0         0        0         0        0  0\n",
       "  0        0         0        2.64455   0        0         0        0  0\n",
       "  0        0         0        0        -1.96306  0         0        0  0\n",
       "  0        0         0        0         0        0.889466  0        0  0\n",
       "  0        0         0        0         0        0         1.23466  0  0"
      ]
     },
     "execution_count": 377,
     "metadata": {},
     "output_type": "execute_result"
    }
   ],
   "source": [
    "S"
   ]
  },
  {
   "cell_type": "markdown",
   "id": "65c0228f",
   "metadata": {},
   "source": [
    "### Badly conditioned square matrix"
   ]
  },
  {
   "cell_type": "code",
   "execution_count": 378,
   "id": "4833e409",
   "metadata": {},
   "outputs": [
    {
     "data": {
      "text/plain": [
       "7×7 Matrix{Float64}:\n",
       "  0.733872    0.071464   -0.217697   …  -0.312908   -0.0893293  -0.116298\n",
       "  0.071464    0.98081     0.0584588      0.0840259   0.0239878   0.0312298\n",
       " -0.217697    0.0584588   0.82192       -0.255964   -0.0730728  -0.0951336\n",
       "  0.152933   -0.0410676   0.125102       0.179816    0.0513341   0.066832\n",
       " -0.312908    0.0840259  -0.255964       0.63209    -0.105031   -0.136741\n",
       " -0.0893293   0.0239878  -0.0730728  …  -0.105031    0.970015   -0.0390369\n",
       " -0.116298    0.0312298  -0.0951336     -0.136741   -0.0390369   0.949178"
      ]
     },
     "execution_count": 378,
     "metadata": {},
     "output_type": "execute_result"
    }
   ],
   "source": [
    "u = randn(7, 1)\n",
    "u = u/norm(u)\n",
    "A = (I - u * u') + 1e-9 * (rand(7, 7) - rand(7, 7))"
   ]
  },
  {
   "cell_type": "code",
   "execution_count": 379,
   "id": "1757a397",
   "metadata": {},
   "outputs": [],
   "source": [
    "U, S, V, results = svd_num(A, 25, true);"
   ]
  },
  {
   "cell_type": "code",
   "execution_count": 380,
   "id": "7c618bba",
   "metadata": {},
   "outputs": [
    {
     "name": "stdout",
     "output_type": "stream",
     "text": [
      "1.34010513502337e-9"
     ]
    }
   ],
   "source": [
    "show(stdout, \"text/plain\", opnorm(U * S * V' - A, 1)/opnorm(A, 1))"
   ]
  },
  {
   "cell_type": "code",
   "execution_count": 381,
   "id": "24f37b3c",
   "metadata": {},
   "outputs": [
    {
     "data": {
      "application/vnd.plotly.v1+json": {
       "config": {
        "editable": false,
        "responsive": true,
        "scrollZoom": true,
        "showLink": false,
        "staticPlot": false
       },
       "data": [
        {
         "line": {
          "shape": "linear"
         },
         "marker": {
          "color": 1
         },
         "mode": "lines+markers",
         "name": "σ2",
         "type": "scatter",
         "x": [
          1,
          2,
          3,
          4,
          5,
          6,
          7,
          8,
          9,
          10,
          11,
          12,
          13,
          14,
          15,
          16,
          17,
          18,
          19,
          20,
          21,
          22,
          23,
          24,
          25
         ],
         "y": [
          0.515875768406879,
          0.9947852617316489,
          1.0553685024184875e-08,
          9.497581224252299e-17,
          9.497581224252299e-17,
          9.497581224252299e-17,
          9.497581224252299e-17,
          9.497581224252299e-17,
          9.497581224252299e-17,
          9.497581224252299e-17,
          9.497581224252299e-17,
          9.497581224252299e-17,
          9.497581224252299e-17,
          9.497581224252299e-17,
          9.497581224252299e-17,
          9.497581224252299e-17,
          9.497581224252299e-17,
          9.497581224252299e-17,
          9.497581224252299e-17,
          9.497581224252299e-17,
          9.497581224252299e-17,
          9.497581224252299e-17,
          9.497581224252299e-17,
          9.497581224252299e-17,
          9.497581224252299e-17
         ]
        },
        {
         "line": {
          "shape": "linear"
         },
         "marker": {
          "color": 2
         },
         "mode": "lines+markers",
         "name": "σ3",
         "type": "scatter",
         "x": [
          1,
          2,
          3,
          4,
          5,
          6,
          7,
          8,
          9,
          10,
          11,
          12,
          13,
          14,
          15,
          16,
          17,
          18,
          19,
          20,
          21,
          22,
          23,
          24,
          25
         ],
         "y": [
          0.9868337498580144,
          7.1825564290899575e-09,
          1.0790246949768127e-09,
          1.286396708933735e-09,
          1.286396708933735e-09,
          1.286396708933735e-09,
          1.286396708933735e-09,
          1.286396708933735e-09,
          1.286396708933735e-09,
          1.286396708933735e-09,
          1.286396708933735e-09,
          1.286396708933735e-09,
          1.286396708933735e-09,
          1.286396708933735e-09,
          1.286396708933735e-09,
          1.286396708933735e-09,
          1.286396708933735e-09,
          1.286396708933735e-09,
          1.286396708933735e-09,
          1.286396708933735e-09,
          1.286396708933735e-09,
          1.286396708933735e-09,
          1.286396708933735e-09,
          1.286396708933735e-09,
          1.286396708933735e-09
         ]
        },
        {
         "line": {
          "shape": "linear"
         },
         "marker": {
          "color": 3
         },
         "mode": "lines+markers",
         "name": "σ4",
         "type": "scatter",
         "x": [
          1,
          2,
          3,
          4,
          5,
          6,
          7,
          8,
          9,
          10,
          11,
          12,
          13,
          14,
          15,
          16,
          17,
          18,
          19,
          20,
          21,
          22,
          23,
          24,
          25
         ],
         "y": [
          4.851142172016955e-09,
          6.097257944893136e-10,
          4.93706453131994e-10,
          4.952996454596221e-10,
          4.952996454596221e-10,
          4.952996454596221e-10,
          4.952996454596221e-10,
          4.952996454596221e-10,
          4.952996454596221e-10,
          4.952996454596221e-10,
          4.952996454596221e-10,
          4.952996454596221e-10,
          4.952996454596221e-10,
          4.952996454596221e-10,
          4.952996454596221e-10,
          4.952996454596221e-10,
          4.952996454596221e-10,
          4.952996454596221e-10,
          4.952996454596221e-10,
          4.952996454596221e-10,
          4.952996454596221e-10,
          4.952996454596221e-10,
          4.952996454596221e-10,
          4.952996454596221e-10,
          4.952996454596221e-10
         ]
        },
        {
         "line": {
          "shape": "linear"
         },
         "marker": {
          "color": 4
         },
         "mode": "lines+markers",
         "name": "σ5",
         "type": "scatter",
         "x": [
          1,
          2,
          3,
          4,
          5,
          6,
          7,
          8,
          9,
          10,
          11,
          12,
          13,
          14,
          15,
          16,
          17,
          18,
          19,
          20,
          21,
          22,
          23,
          24,
          25
         ],
         "y": [
          9.049954961726362e-10,
          6.759964182380128e-10,
          3.543886284078318e-10,
          3.032255702232588e-10,
          3.032255702232588e-10,
          3.032255702232588e-10,
          3.032255702232588e-10,
          3.032255702232588e-10,
          3.032255702232588e-10,
          3.032255702232588e-10,
          3.032255702232588e-10,
          3.032255702232588e-10,
          3.032255702232588e-10,
          3.032255702232588e-10,
          3.032255702232588e-10,
          3.032255702232588e-10,
          3.032255702232588e-10,
          3.032255702232588e-10,
          3.032255702232588e-10,
          3.032255702232588e-10,
          3.032255702232588e-10,
          3.032255702232588e-10,
          3.032255702232588e-10,
          3.032255702232588e-10,
          3.032255702232588e-10
         ]
        },
        {
         "line": {
          "shape": "linear"
         },
         "marker": {
          "color": 5
         },
         "mode": "lines+markers",
         "name": "σ6",
         "type": "scatter",
         "x": [
          1,
          2,
          3,
          4,
          5,
          6,
          7,
          8,
          9,
          10,
          11,
          12,
          13,
          14,
          15,
          16,
          17,
          18,
          19,
          20,
          21,
          22,
          23,
          24,
          25
         ],
         "y": [
          4.114435929572665e-10,
          6.170650548860442e-10,
          8.868626560000365e-10,
          9.272333247864956e-10,
          9.272333247864956e-10,
          9.272333247864956e-10,
          9.272333247864956e-10,
          9.272333247864956e-10,
          9.272333247864956e-10,
          9.272333247864956e-10,
          9.272333247864956e-10,
          9.272333247864956e-10,
          9.272333247864956e-10,
          9.272333247864956e-10,
          9.272333247864956e-10,
          9.272333247864956e-10,
          9.272333247864956e-10,
          9.272333247864956e-10,
          9.272333247864956e-10,
          9.272333247864956e-10,
          9.272333247864956e-10,
          9.272333247864956e-10,
          9.272333247864956e-10,
          9.272333247864956e-10,
          9.272333247864956e-10
         ]
        },
        {
         "line": {
          "shape": "linear"
         },
         "marker": {
          "color": 6
         },
         "mode": "lines+markers",
         "name": "σ7",
         "type": "scatter",
         "x": [
          1,
          2,
          3,
          4,
          5,
          6,
          7,
          8,
          9,
          10,
          11,
          12,
          13,
          14,
          15,
          16,
          17,
          18,
          19,
          20,
          21,
          22,
          23,
          24,
          25
         ],
         "y": [
          9.9121388874579e-10,
          8.064852475448433e-10,
          2.9952831990234793e-10,
          2.884076705822395e-10,
          2.884076705822395e-10,
          2.884076705822395e-10,
          2.884076705822395e-10,
          2.884076705822395e-10,
          2.884076705822395e-10,
          2.884076705822395e-10,
          2.884076705822395e-10,
          2.884076705822395e-10,
          2.884076705822395e-10,
          2.884076705822395e-10,
          2.884076705822395e-10,
          2.884076705822395e-10,
          2.884076705822395e-10,
          2.884076705822395e-10,
          2.884076705822395e-10,
          2.884076705822395e-10,
          2.884076705822395e-10,
          2.884076705822395e-10,
          2.884076705822395e-10,
          2.884076705822395e-10,
          2.884076705822395e-10
         ]
        }
       ],
       "frames": [],
       "layout": {
        "margin": {
         "b": 50,
         "l": 50,
         "r": 50,
         "t": 60
        },
        "showlegend": true,
        "template": {
         "data": {
          "bar": [
           {
            "error_x": {
             "color": "#2a3f5f"
            },
            "error_y": {
             "color": "#2a3f5f"
            },
            "marker": {
             "line": {
              "color": "#E5ECF6",
              "width": 0.5
             }
            },
            "type": "bar"
           }
          ],
          "barpolar": [
           {
            "marker": {
             "line": {
              "color": "#E5ECF6",
              "width": 0.5
             }
            },
            "type": "barpolar"
           }
          ],
          "carpet": [
           {
            "aaxis": {
             "endlinecolor": "#2a3f5f",
             "gridcolor": "white",
             "linecolor": "white",
             "minorgridcolor": "white",
             "startlinecolor": "#2a3f5f"
            },
            "baxis": {
             "endlinecolor": "#2a3f5f",
             "gridcolor": "white",
             "linecolor": "white",
             "minorgridcolor": "white",
             "startlinecolor": "#2a3f5f"
            },
            "type": "carpet"
           }
          ],
          "choropleth": [
           {
            "colorbar": {
             "outlinewidth": 0,
             "ticks": ""
            },
            "type": "choropleth"
           }
          ],
          "contour": [
           {
            "colorbar": {
             "outlinewidth": 0,
             "ticks": ""
            },
            "colorscale": [
             [
              0,
              "#0d0887"
             ],
             [
              0.1111111111111111,
              "#46039f"
             ],
             [
              0.2222222222222222,
              "#7201a8"
             ],
             [
              0.3333333333333333,
              "#9c179e"
             ],
             [
              0.4444444444444444,
              "#bd3786"
             ],
             [
              0.5555555555555556,
              "#d8576b"
             ],
             [
              0.6666666666666666,
              "#ed7953"
             ],
             [
              0.7777777777777778,
              "#fb9f3a"
             ],
             [
              0.8888888888888888,
              "#fdca26"
             ],
             [
              1,
              "#f0f921"
             ]
            ],
            "type": "contour"
           }
          ],
          "contourcarpet": [
           {
            "colorbar": {
             "outlinewidth": 0,
             "ticks": ""
            },
            "type": "contourcarpet"
           }
          ],
          "heatmap": [
           {
            "colorbar": {
             "outlinewidth": 0,
             "ticks": ""
            },
            "colorscale": [
             [
              0,
              "#0d0887"
             ],
             [
              0.1111111111111111,
              "#46039f"
             ],
             [
              0.2222222222222222,
              "#7201a8"
             ],
             [
              0.3333333333333333,
              "#9c179e"
             ],
             [
              0.4444444444444444,
              "#bd3786"
             ],
             [
              0.5555555555555556,
              "#d8576b"
             ],
             [
              0.6666666666666666,
              "#ed7953"
             ],
             [
              0.7777777777777778,
              "#fb9f3a"
             ],
             [
              0.8888888888888888,
              "#fdca26"
             ],
             [
              1,
              "#f0f921"
             ]
            ],
            "type": "heatmap"
           }
          ],
          "heatmapgl": [
           {
            "colorbar": {
             "outlinewidth": 0,
             "ticks": ""
            },
            "colorscale": [
             [
              0,
              "#0d0887"
             ],
             [
              0.1111111111111111,
              "#46039f"
             ],
             [
              0.2222222222222222,
              "#7201a8"
             ],
             [
              0.3333333333333333,
              "#9c179e"
             ],
             [
              0.4444444444444444,
              "#bd3786"
             ],
             [
              0.5555555555555556,
              "#d8576b"
             ],
             [
              0.6666666666666666,
              "#ed7953"
             ],
             [
              0.7777777777777778,
              "#fb9f3a"
             ],
             [
              0.8888888888888888,
              "#fdca26"
             ],
             [
              1,
              "#f0f921"
             ]
            ],
            "type": "heatmapgl"
           }
          ],
          "histogram": [
           {
            "marker": {
             "colorbar": {
              "outlinewidth": 0,
              "ticks": ""
             }
            },
            "type": "histogram"
           }
          ],
          "histogram2d": [
           {
            "colorbar": {
             "outlinewidth": 0,
             "ticks": ""
            },
            "colorscale": [
             [
              0,
              "#0d0887"
             ],
             [
              0.1111111111111111,
              "#46039f"
             ],
             [
              0.2222222222222222,
              "#7201a8"
             ],
             [
              0.3333333333333333,
              "#9c179e"
             ],
             [
              0.4444444444444444,
              "#bd3786"
             ],
             [
              0.5555555555555556,
              "#d8576b"
             ],
             [
              0.6666666666666666,
              "#ed7953"
             ],
             [
              0.7777777777777778,
              "#fb9f3a"
             ],
             [
              0.8888888888888888,
              "#fdca26"
             ],
             [
              1,
              "#f0f921"
             ]
            ],
            "type": "histogram2d"
           }
          ],
          "histogram2dcontour": [
           {
            "colorbar": {
             "outlinewidth": 0,
             "ticks": ""
            },
            "colorscale": [
             [
              0,
              "#0d0887"
             ],
             [
              0.1111111111111111,
              "#46039f"
             ],
             [
              0.2222222222222222,
              "#7201a8"
             ],
             [
              0.3333333333333333,
              "#9c179e"
             ],
             [
              0.4444444444444444,
              "#bd3786"
             ],
             [
              0.5555555555555556,
              "#d8576b"
             ],
             [
              0.6666666666666666,
              "#ed7953"
             ],
             [
              0.7777777777777778,
              "#fb9f3a"
             ],
             [
              0.8888888888888888,
              "#fdca26"
             ],
             [
              1,
              "#f0f921"
             ]
            ],
            "type": "histogram2dcontour"
           }
          ],
          "mesh3d": [
           {
            "colorbar": {
             "outlinewidth": 0,
             "ticks": ""
            },
            "type": "mesh3d"
           }
          ],
          "parcoords": [
           {
            "line": {
             "colorbar": {
              "outlinewidth": 0,
              "ticks": ""
             }
            },
            "type": "parcoords"
           }
          ],
          "pie": [
           {
            "automargin": true,
            "type": "pie"
           }
          ],
          "scatter": [
           {
            "marker": {
             "colorbar": {
              "outlinewidth": 0,
              "ticks": ""
             }
            },
            "type": "scatter"
           }
          ],
          "scatter3d": [
           {
            "line": {
             "colorbar": {
              "outlinewidth": 0,
              "ticks": ""
             }
            },
            "marker": {
             "colorbar": {
              "outlinewidth": 0,
              "ticks": ""
             }
            },
            "type": "scatter3d"
           }
          ],
          "scattercarpet": [
           {
            "marker": {
             "colorbar": {
              "outlinewidth": 0,
              "ticks": ""
             }
            },
            "type": "scattercarpet"
           }
          ],
          "scattergeo": [
           {
            "marker": {
             "colorbar": {
              "outlinewidth": 0,
              "ticks": ""
             }
            },
            "type": "scattergeo"
           }
          ],
          "scattergl": [
           {
            "marker": {
             "colorbar": {
              "outlinewidth": 0,
              "ticks": ""
             }
            },
            "type": "scattergl"
           }
          ],
          "scattermapbox": [
           {
            "marker": {
             "colorbar": {
              "outlinewidth": 0,
              "ticks": ""
             }
            },
            "type": "scattermapbox"
           }
          ],
          "scatterpolar": [
           {
            "marker": {
             "colorbar": {
              "outlinewidth": 0,
              "ticks": ""
             }
            },
            "type": "scatterpolar"
           }
          ],
          "scatterpolargl": [
           {
            "marker": {
             "colorbar": {
              "outlinewidth": 0,
              "ticks": ""
             }
            },
            "type": "scatterpolargl"
           }
          ],
          "scatterternary": [
           {
            "marker": {
             "colorbar": {
              "outlinewidth": 0,
              "ticks": ""
             }
            },
            "type": "scatterternary"
           }
          ],
          "surface": [
           {
            "colorbar": {
             "outlinewidth": 0,
             "ticks": ""
            },
            "colorscale": [
             [
              0,
              "#0d0887"
             ],
             [
              0.1111111111111111,
              "#46039f"
             ],
             [
              0.2222222222222222,
              "#7201a8"
             ],
             [
              0.3333333333333333,
              "#9c179e"
             ],
             [
              0.4444444444444444,
              "#bd3786"
             ],
             [
              0.5555555555555556,
              "#d8576b"
             ],
             [
              0.6666666666666666,
              "#ed7953"
             ],
             [
              0.7777777777777778,
              "#fb9f3a"
             ],
             [
              0.8888888888888888,
              "#fdca26"
             ],
             [
              1,
              "#f0f921"
             ]
            ],
            "type": "surface"
           }
          ],
          "table": [
           {
            "cells": {
             "fill": {
              "color": "#EBF0F8"
             },
             "line": {
              "color": "white"
             }
            },
            "header": {
             "fill": {
              "color": "#C8D4E3"
             },
             "line": {
              "color": "white"
             }
            },
            "type": "table"
           }
          ]
         },
         "layout": {
          "annotationdefaults": {
           "arrowcolor": "#2a3f5f",
           "arrowhead": 0,
           "arrowwidth": 1
          },
          "autotypenumbers": "strict",
          "coloraxis": {
           "colorbar": {
            "outlinewidth": 0,
            "ticks": ""
           }
          },
          "colorscale": {
           "diverging": [
            [
             0,
             "#8e0152"
            ],
            [
             0.1,
             "#c51b7d"
            ],
            [
             0.2,
             "#de77ae"
            ],
            [
             0.3,
             "#f1b6da"
            ],
            [
             0.4,
             "#fde0ef"
            ],
            [
             0.5,
             "#f7f7f7"
            ],
            [
             0.6,
             "#e6f5d0"
            ],
            [
             0.7,
             "#b8e186"
            ],
            [
             0.8,
             "#7fbc41"
            ],
            [
             0.9,
             "#4d9221"
            ],
            [
             1,
             "#276419"
            ]
           ],
           "sequential": [
            [
             0,
             "#0d0887"
            ],
            [
             0.1111111111111111,
             "#46039f"
            ],
            [
             0.2222222222222222,
             "#7201a8"
            ],
            [
             0.3333333333333333,
             "#9c179e"
            ],
            [
             0.4444444444444444,
             "#bd3786"
            ],
            [
             0.5555555555555556,
             "#d8576b"
            ],
            [
             0.6666666666666666,
             "#ed7953"
            ],
            [
             0.7777777777777778,
             "#fb9f3a"
            ],
            [
             0.8888888888888888,
             "#fdca26"
            ],
            [
             1,
             "#f0f921"
            ]
           ],
           "sequentialminus": [
            [
             0,
             "#0d0887"
            ],
            [
             0.1111111111111111,
             "#46039f"
            ],
            [
             0.2222222222222222,
             "#7201a8"
            ],
            [
             0.3333333333333333,
             "#9c179e"
            ],
            [
             0.4444444444444444,
             "#bd3786"
            ],
            [
             0.5555555555555556,
             "#d8576b"
            ],
            [
             0.6666666666666666,
             "#ed7953"
            ],
            [
             0.7777777777777778,
             "#fb9f3a"
            ],
            [
             0.8888888888888888,
             "#fdca26"
            ],
            [
             1,
             "#f0f921"
            ]
           ]
          },
          "colorway": [
           "#636efa",
           "#EF553B",
           "#00cc96",
           "#ab63fa",
           "#FFA15A",
           "#19d3f3",
           "#FF6692",
           "#B6E880",
           "#FF97FF",
           "#FECB52"
          ],
          "font": {
           "color": "#2a3f5f"
          },
          "geo": {
           "bgcolor": "white",
           "lakecolor": "white",
           "landcolor": "#E5ECF6",
           "showlakes": true,
           "showland": true,
           "subunitcolor": "white"
          },
          "hoverlabel": {
           "align": "left"
          },
          "hovermode": "closest",
          "mapbox": {
           "style": "light"
          },
          "paper_bgcolor": "white",
          "plot_bgcolor": "#E5ECF6",
          "polar": {
           "angularaxis": {
            "gridcolor": "white",
            "linecolor": "white",
            "ticks": ""
           },
           "bgcolor": "#E5ECF6",
           "radialaxis": {
            "gridcolor": "white",
            "linecolor": "white",
            "ticks": ""
           }
          },
          "scene": {
           "xaxis": {
            "backgroundcolor": "#E5ECF6",
            "gridcolor": "white",
            "gridwidth": 2,
            "linecolor": "white",
            "showbackground": true,
            "ticks": "",
            "zerolinecolor": "white"
           },
           "yaxis": {
            "backgroundcolor": "#E5ECF6",
            "gridcolor": "white",
            "gridwidth": 2,
            "linecolor": "white",
            "showbackground": true,
            "ticks": "",
            "zerolinecolor": "white"
           },
           "zaxis": {
            "backgroundcolor": "#E5ECF6",
            "gridcolor": "white",
            "gridwidth": 2,
            "linecolor": "white",
            "showbackground": true,
            "ticks": "",
            "zerolinecolor": "white"
           }
          },
          "shapedefaults": {
           "line": {
            "color": "#2a3f5f"
           }
          },
          "ternary": {
           "aaxis": {
            "gridcolor": "white",
            "linecolor": "white",
            "ticks": ""
           },
           "baxis": {
            "gridcolor": "white",
            "linecolor": "white",
            "ticks": ""
           },
           "bgcolor": "#E5ECF6",
           "caxis": {
            "gridcolor": "white",
            "linecolor": "white",
            "ticks": ""
           }
          },
          "title": {
           "x": 0.05
          },
          "xaxis": {
           "automargin": true,
           "gridcolor": "white",
           "linecolor": "white",
           "ticks": "",
           "title": {
            "standoff": 15
           },
           "zerolinecolor": "white",
           "zerolinewidth": 2
          },
          "yaxis": {
           "automargin": true,
           "gridcolor": "white",
           "linecolor": "white",
           "ticks": "",
           "title": {
            "standoff": 15
           },
           "zerolinecolor": "white",
           "zerolinewidth": 2
          }
         }
        },
        "title": "Value of element above diagonal σ_i",
        "xaxis": {
         "title": {
          "text": "Iteration"
         }
        },
        "yaxis": {
         "tickformat": "e",
         "title": {
          "text": "Error"
         },
         "type": "log"
        }
       }
      },
      "text/html": [
       "<div\n",
       "    class=\"webio-mountpoint\"\n",
       "    data-webio-mountpoint=\"14541451299151685129\"\n",
       ">\n",
       "    <script>\n",
       "    (function(){\n",
       "    // Some integrations (namely, IJulia/Jupyter) use an alternate render pathway than\n",
       "    // just putting the html on the page. If WebIO isn't defined, then it's pretty likely\n",
       "    // that we're in one of those situations and the integration just isn't installed\n",
       "    // correctly.\n",
       "    if (typeof window.WebIO === \"undefined\") {\n",
       "        document\n",
       "            .querySelector('[data-webio-mountpoint=\"14541451299151685129\"]')\n",
       "            .innerHTML = (\n",
       "                '<div style=\"padding: 1em; background-color: #f8d6da; border: 1px solid #f5c6cb; font-weight: bold;\">' +\n",
       "                '<p><strong>WebIO not detected.</strong></p>' +\n",
       "                '<p>Please read ' +\n",
       "                '<a href=\"https://juliagizmos.github.io/WebIO.jl/latest/troubleshooting/not-detected/\" target=\"_blank\">the troubleshooting guide</a> ' +\n",
       "                'for more information on how to resolve this issue.</p>' +\n",
       "                '<p><a href=\"https://juliagizmos.github.io/WebIO.jl/latest/troubleshooting/not-detected/\" target=\"_blank\">https://juliagizmos.github.io/WebIO.jl/latest/troubleshooting/not-detected/</a></p>' +\n",
       "                '</div>'\n",
       "            );\n",
       "        return;\n",
       "    }\n",
       "    WebIO.mount(\n",
       "        document.querySelector('[data-webio-mountpoint=\"14541451299151685129\"]'),\n",
       "        {\"props\":{},\"nodeType\":\"Scope\",\"type\":\"node\",\"instanceArgs\":{\"imports\":{\"data\":[{\"name\":\"Plotly\",\"type\":\"js\",\"url\":\"\\/assetserver\\/d6feb8d8ce4676ebdde817a0745950a35b4ba3ae-plotly.min.js\"},{\"name\":null,\"type\":\"js\",\"url\":\"\\/assetserver\\/46c9ff4df7c73b5875052df387368a00f6cfc484-plotly_webio.bundle.js\"}],\"type\":\"async_block\"},\"id\":\"387891920854896438\",\"handlers\":{\"_toImage\":[\"(function (options){return this.Plotly.toImage(this.plotElem,options).then((function (data){return WebIO.setval({\\\"name\\\":\\\"image\\\",\\\"scope\\\":\\\"387891920854896438\\\",\\\"id\\\":\\\"185\\\",\\\"type\\\":\\\"observable\\\"},data)}))})\"],\"__get_gd_contents\":[\"(function (prop){prop==\\\"data\\\" ? (WebIO.setval({\\\"name\\\":\\\"__gd_contents\\\",\\\"scope\\\":\\\"387891920854896438\\\",\\\"id\\\":\\\"186\\\",\\\"type\\\":\\\"observable\\\"},this.plotElem.data)) : undefined; return prop==\\\"layout\\\" ? (WebIO.setval({\\\"name\\\":\\\"__gd_contents\\\",\\\"scope\\\":\\\"387891920854896438\\\",\\\"id\\\":\\\"186\\\",\\\"type\\\":\\\"observable\\\"},this.plotElem.layout)) : undefined})\"],\"_downloadImage\":[\"(function (options){return this.Plotly.downloadImage(this.plotElem,options)})\"],\"_commands\":[\"(function (args){var fn=args.shift(); var elem=this.plotElem; var Plotly=this.Plotly; args.unshift(elem); return Plotly[fn].apply(this,args)})\"]},\"systemjs_options\":null,\"mount_callbacks\":[\"function () {\\n    var handler = ((function (Plotly,PlotlyWebIO){PlotlyWebIO.init(WebIO); var gd=this.dom.querySelector(\\\"#plot-63d5b189-fc2f-4a2c-a24b-8fe8da52c8bf\\\"); this.plotElem=gd; this.Plotly=Plotly; (window.Blink!==undefined) ? (gd.style.width=\\\"100%\\\", gd.style.height=\\\"100vh\\\", gd.style.marginLeft=\\\"0%\\\", gd.style.marginTop=\\\"0vh\\\") : undefined; window.onresize=(function (){return Plotly.Plots.resize(gd)}); Plotly.newPlot(gd,[{\\\"x\\\":[1,2,3,4,5,6,7,8,9,10,11,12,13,14,15,16,17,18,19,20,21,22,23,24,25],\\\"mode\\\":\\\"lines+markers\\\",\\\"line\\\":{\\\"shape\\\":\\\"linear\\\"},\\\"y\\\":[0.515875768406879,0.9947852617316489,1.0553685024184875e-8,9.497581224252299e-17,9.497581224252299e-17,9.497581224252299e-17,9.497581224252299e-17,9.497581224252299e-17,9.497581224252299e-17,9.497581224252299e-17,9.497581224252299e-17,9.497581224252299e-17,9.497581224252299e-17,9.497581224252299e-17,9.497581224252299e-17,9.497581224252299e-17,9.497581224252299e-17,9.497581224252299e-17,9.497581224252299e-17,9.497581224252299e-17,9.497581224252299e-17,9.497581224252299e-17,9.497581224252299e-17,9.497581224252299e-17,9.497581224252299e-17],\\\"type\\\":\\\"scatter\\\",\\\"name\\\":\\\"σ2\\\",\\\"marker\\\":{\\\"color\\\":1}},{\\\"x\\\":[1,2,3,4,5,6,7,8,9,10,11,12,13,14,15,16,17,18,19,20,21,22,23,24,25],\\\"mode\\\":\\\"lines+markers\\\",\\\"line\\\":{\\\"shape\\\":\\\"linear\\\"},\\\"y\\\":[0.9868337498580144,7.1825564290899575e-9,1.0790246949768127e-9,1.286396708933735e-9,1.286396708933735e-9,1.286396708933735e-9,1.286396708933735e-9,1.286396708933735e-9,1.286396708933735e-9,1.286396708933735e-9,1.286396708933735e-9,1.286396708933735e-9,1.286396708933735e-9,1.286396708933735e-9,1.286396708933735e-9,1.286396708933735e-9,1.286396708933735e-9,1.286396708933735e-9,1.286396708933735e-9,1.286396708933735e-9,1.286396708933735e-9,1.286396708933735e-9,1.286396708933735e-9,1.286396708933735e-9,1.286396708933735e-9],\\\"type\\\":\\\"scatter\\\",\\\"name\\\":\\\"σ3\\\",\\\"marker\\\":{\\\"color\\\":2}},{\\\"x\\\":[1,2,3,4,5,6,7,8,9,10,11,12,13,14,15,16,17,18,19,20,21,22,23,24,25],\\\"mode\\\":\\\"lines+markers\\\",\\\"line\\\":{\\\"shape\\\":\\\"linear\\\"},\\\"y\\\":[4.851142172016955e-9,6.097257944893136e-10,4.93706453131994e-10,4.952996454596221e-10,4.952996454596221e-10,4.952996454596221e-10,4.952996454596221e-10,4.952996454596221e-10,4.952996454596221e-10,4.952996454596221e-10,4.952996454596221e-10,4.952996454596221e-10,4.952996454596221e-10,4.952996454596221e-10,4.952996454596221e-10,4.952996454596221e-10,4.952996454596221e-10,4.952996454596221e-10,4.952996454596221e-10,4.952996454596221e-10,4.952996454596221e-10,4.952996454596221e-10,4.952996454596221e-10,4.952996454596221e-10,4.952996454596221e-10],\\\"type\\\":\\\"scatter\\\",\\\"name\\\":\\\"σ4\\\",\\\"marker\\\":{\\\"color\\\":3}},{\\\"x\\\":[1,2,3,4,5,6,7,8,9,10,11,12,13,14,15,16,17,18,19,20,21,22,23,24,25],\\\"mode\\\":\\\"lines+markers\\\",\\\"line\\\":{\\\"shape\\\":\\\"linear\\\"},\\\"y\\\":[9.049954961726362e-10,6.759964182380128e-10,3.543886284078318e-10,3.032255702232588e-10,3.032255702232588e-10,3.032255702232588e-10,3.032255702232588e-10,3.032255702232588e-10,3.032255702232588e-10,3.032255702232588e-10,3.032255702232588e-10,3.032255702232588e-10,3.032255702232588e-10,3.032255702232588e-10,3.032255702232588e-10,3.032255702232588e-10,3.032255702232588e-10,3.032255702232588e-10,3.032255702232588e-10,3.032255702232588e-10,3.032255702232588e-10,3.032255702232588e-10,3.032255702232588e-10,3.032255702232588e-10,3.032255702232588e-10],\\\"type\\\":\\\"scatter\\\",\\\"name\\\":\\\"σ5\\\",\\\"marker\\\":{\\\"color\\\":4}},{\\\"x\\\":[1,2,3,4,5,6,7,8,9,10,11,12,13,14,15,16,17,18,19,20,21,22,23,24,25],\\\"mode\\\":\\\"lines+markers\\\",\\\"line\\\":{\\\"shape\\\":\\\"linear\\\"},\\\"y\\\":[4.114435929572665e-10,6.170650548860442e-10,8.868626560000365e-10,9.272333247864956e-10,9.272333247864956e-10,9.272333247864956e-10,9.272333247864956e-10,9.272333247864956e-10,9.272333247864956e-10,9.272333247864956e-10,9.272333247864956e-10,9.272333247864956e-10,9.272333247864956e-10,9.272333247864956e-10,9.272333247864956e-10,9.272333247864956e-10,9.272333247864956e-10,9.272333247864956e-10,9.272333247864956e-10,9.272333247864956e-10,9.272333247864956e-10,9.272333247864956e-10,9.272333247864956e-10,9.272333247864956e-10,9.272333247864956e-10],\\\"type\\\":\\\"scatter\\\",\\\"name\\\":\\\"σ6\\\",\\\"marker\\\":{\\\"color\\\":5}},{\\\"x\\\":[1,2,3,4,5,6,7,8,9,10,11,12,13,14,15,16,17,18,19,20,21,22,23,24,25],\\\"mode\\\":\\\"lines+markers\\\",\\\"line\\\":{\\\"shape\\\":\\\"linear\\\"},\\\"y\\\":[9.9121388874579e-10,8.064852475448433e-10,2.9952831990234793e-10,2.884076705822395e-10,2.884076705822395e-10,2.884076705822395e-10,2.884076705822395e-10,2.884076705822395e-10,2.884076705822395e-10,2.884076705822395e-10,2.884076705822395e-10,2.884076705822395e-10,2.884076705822395e-10,2.884076705822395e-10,2.884076705822395e-10,2.884076705822395e-10,2.884076705822395e-10,2.884076705822395e-10,2.884076705822395e-10,2.884076705822395e-10,2.884076705822395e-10,2.884076705822395e-10,2.884076705822395e-10,2.884076705822395e-10,2.884076705822395e-10],\\\"type\\\":\\\"scatter\\\",\\\"name\\\":\\\"σ7\\\",\\\"marker\\\":{\\\"color\\\":6}}],{\\\"showlegend\\\":true,\\\"xaxis\\\":{\\\"title\\\":{\\\"text\\\":\\\"Iteration\\\"}},\\\"template\\\":{\\\"layout\\\":{\\\"coloraxis\\\":{\\\"colorbar\\\":{\\\"ticks\\\":\\\"\\\",\\\"outlinewidth\\\":0}},\\\"xaxis\\\":{\\\"gridcolor\\\":\\\"white\\\",\\\"zerolinewidth\\\":2,\\\"title\\\":{\\\"standoff\\\":15},\\\"ticks\\\":\\\"\\\",\\\"zerolinecolor\\\":\\\"white\\\",\\\"automargin\\\":true,\\\"linecolor\\\":\\\"white\\\"},\\\"hovermode\\\":\\\"closest\\\",\\\"paper_bgcolor\\\":\\\"white\\\",\\\"geo\\\":{\\\"showlakes\\\":true,\\\"showland\\\":true,\\\"landcolor\\\":\\\"#E5ECF6\\\",\\\"bgcolor\\\":\\\"white\\\",\\\"subunitcolor\\\":\\\"white\\\",\\\"lakecolor\\\":\\\"white\\\"},\\\"colorscale\\\":{\\\"sequential\\\":[[0.0,\\\"#0d0887\\\"],[0.1111111111111111,\\\"#46039f\\\"],[0.2222222222222222,\\\"#7201a8\\\"],[0.3333333333333333,\\\"#9c179e\\\"],[0.4444444444444444,\\\"#bd3786\\\"],[0.5555555555555556,\\\"#d8576b\\\"],[0.6666666666666666,\\\"#ed7953\\\"],[0.7777777777777778,\\\"#fb9f3a\\\"],[0.8888888888888888,\\\"#fdca26\\\"],[1.0,\\\"#f0f921\\\"]],\\\"diverging\\\":[[0,\\\"#8e0152\\\"],[0.1,\\\"#c51b7d\\\"],[0.2,\\\"#de77ae\\\"],[0.3,\\\"#f1b6da\\\"],[0.4,\\\"#fde0ef\\\"],[0.5,\\\"#f7f7f7\\\"],[0.6,\\\"#e6f5d0\\\"],[0.7,\\\"#b8e186\\\"],[0.8,\\\"#7fbc41\\\"],[0.9,\\\"#4d9221\\\"],[1,\\\"#276419\\\"]],\\\"sequentialminus\\\":[[0.0,\\\"#0d0887\\\"],[0.1111111111111111,\\\"#46039f\\\"],[0.2222222222222222,\\\"#7201a8\\\"],[0.3333333333333333,\\\"#9c179e\\\"],[0.4444444444444444,\\\"#bd3786\\\"],[0.5555555555555556,\\\"#d8576b\\\"],[0.6666666666666666,\\\"#ed7953\\\"],[0.7777777777777778,\\\"#fb9f3a\\\"],[0.8888888888888888,\\\"#fdca26\\\"],[1.0,\\\"#f0f921\\\"]]},\\\"yaxis\\\":{\\\"gridcolor\\\":\\\"white\\\",\\\"zerolinewidth\\\":2,\\\"title\\\":{\\\"standoff\\\":15},\\\"ticks\\\":\\\"\\\",\\\"zerolinecolor\\\":\\\"white\\\",\\\"automargin\\\":true,\\\"linecolor\\\":\\\"white\\\"},\\\"shapedefaults\\\":{\\\"line\\\":{\\\"color\\\":\\\"#2a3f5f\\\"}},\\\"hoverlabel\\\":{\\\"align\\\":\\\"left\\\"},\\\"mapbox\\\":{\\\"style\\\":\\\"light\\\"},\\\"polar\\\":{\\\"angularaxis\\\":{\\\"gridcolor\\\":\\\"white\\\",\\\"ticks\\\":\\\"\\\",\\\"linecolor\\\":\\\"white\\\"},\\\"bgcolor\\\":\\\"#E5ECF6\\\",\\\"radialaxis\\\":{\\\"gridcolor\\\":\\\"white\\\",\\\"ticks\\\":\\\"\\\",\\\"linecolor\\\":\\\"white\\\"}},\\\"autotypenumbers\\\":\\\"strict\\\",\\\"font\\\":{\\\"color\\\":\\\"#2a3f5f\\\"},\\\"ternary\\\":{\\\"baxis\\\":{\\\"gridcolor\\\":\\\"white\\\",\\\"ticks\\\":\\\"\\\",\\\"linecolor\\\":\\\"white\\\"},\\\"bgcolor\\\":\\\"#E5ECF6\\\",\\\"caxis\\\":{\\\"gridcolor\\\":\\\"white\\\",\\\"ticks\\\":\\\"\\\",\\\"linecolor\\\":\\\"white\\\"},\\\"aaxis\\\":{\\\"gridcolor\\\":\\\"white\\\",\\\"ticks\\\":\\\"\\\",\\\"linecolor\\\":\\\"white\\\"}},\\\"annotationdefaults\\\":{\\\"arrowhead\\\":0,\\\"arrowwidth\\\":1,\\\"arrowcolor\\\":\\\"#2a3f5f\\\"},\\\"plot_bgcolor\\\":\\\"#E5ECF6\\\",\\\"title\\\":{\\\"x\\\":0.05},\\\"scene\\\":{\\\"xaxis\\\":{\\\"gridcolor\\\":\\\"white\\\",\\\"gridwidth\\\":2,\\\"backgroundcolor\\\":\\\"#E5ECF6\\\",\\\"ticks\\\":\\\"\\\",\\\"showbackground\\\":true,\\\"zerolinecolor\\\":\\\"white\\\",\\\"linecolor\\\":\\\"white\\\"},\\\"zaxis\\\":{\\\"gridcolor\\\":\\\"white\\\",\\\"gridwidth\\\":2,\\\"backgroundcolor\\\":\\\"#E5ECF6\\\",\\\"ticks\\\":\\\"\\\",\\\"showbackground\\\":true,\\\"zerolinecolor\\\":\\\"white\\\",\\\"linecolor\\\":\\\"white\\\"},\\\"yaxis\\\":{\\\"gridcolor\\\":\\\"white\\\",\\\"gridwidth\\\":2,\\\"backgroundcolor\\\":\\\"#E5ECF6\\\",\\\"ticks\\\":\\\"\\\",\\\"showbackground\\\":true,\\\"zerolinecolor\\\":\\\"white\\\",\\\"linecolor\\\":\\\"white\\\"}},\\\"colorway\\\":[\\\"#636efa\\\",\\\"#EF553B\\\",\\\"#00cc96\\\",\\\"#ab63fa\\\",\\\"#FFA15A\\\",\\\"#19d3f3\\\",\\\"#FF6692\\\",\\\"#B6E880\\\",\\\"#FF97FF\\\",\\\"#FECB52\\\"]},\\\"data\\\":{\\\"barpolar\\\":[{\\\"type\\\":\\\"barpolar\\\",\\\"marker\\\":{\\\"line\\\":{\\\"color\\\":\\\"#E5ECF6\\\",\\\"width\\\":0.5}}}],\\\"carpet\\\":[{\\\"aaxis\\\":{\\\"gridcolor\\\":\\\"white\\\",\\\"endlinecolor\\\":\\\"#2a3f5f\\\",\\\"minorgridcolor\\\":\\\"white\\\",\\\"startlinecolor\\\":\\\"#2a3f5f\\\",\\\"linecolor\\\":\\\"white\\\"},\\\"type\\\":\\\"carpet\\\",\\\"baxis\\\":{\\\"gridcolor\\\":\\\"white\\\",\\\"endlinecolor\\\":\\\"#2a3f5f\\\",\\\"minorgridcolor\\\":\\\"white\\\",\\\"startlinecolor\\\":\\\"#2a3f5f\\\",\\\"linecolor\\\":\\\"white\\\"}}],\\\"scatterpolar\\\":[{\\\"type\\\":\\\"scatterpolar\\\",\\\"marker\\\":{\\\"colorbar\\\":{\\\"ticks\\\":\\\"\\\",\\\"outlinewidth\\\":0}}}],\\\"parcoords\\\":[{\\\"line\\\":{\\\"colorbar\\\":{\\\"ticks\\\":\\\"\\\",\\\"outlinewidth\\\":0}},\\\"type\\\":\\\"parcoords\\\"}],\\\"scatter\\\":[{\\\"type\\\":\\\"scatter\\\",\\\"marker\\\":{\\\"colorbar\\\":{\\\"ticks\\\":\\\"\\\",\\\"outlinewidth\\\":0}}}],\\\"histogram2dcontour\\\":[{\\\"colorbar\\\":{\\\"ticks\\\":\\\"\\\",\\\"outlinewidth\\\":0},\\\"type\\\":\\\"histogram2dcontour\\\",\\\"colorscale\\\":[[0.0,\\\"#0d0887\\\"],[0.1111111111111111,\\\"#46039f\\\"],[0.2222222222222222,\\\"#7201a8\\\"],[0.3333333333333333,\\\"#9c179e\\\"],[0.4444444444444444,\\\"#bd3786\\\"],[0.5555555555555556,\\\"#d8576b\\\"],[0.6666666666666666,\\\"#ed7953\\\"],[0.7777777777777778,\\\"#fb9f3a\\\"],[0.8888888888888888,\\\"#fdca26\\\"],[1.0,\\\"#f0f921\\\"]]}],\\\"contour\\\":[{\\\"colorbar\\\":{\\\"ticks\\\":\\\"\\\",\\\"outlinewidth\\\":0},\\\"type\\\":\\\"contour\\\",\\\"colorscale\\\":[[0.0,\\\"#0d0887\\\"],[0.1111111111111111,\\\"#46039f\\\"],[0.2222222222222222,\\\"#7201a8\\\"],[0.3333333333333333,\\\"#9c179e\\\"],[0.4444444444444444,\\\"#bd3786\\\"],[0.5555555555555556,\\\"#d8576b\\\"],[0.6666666666666666,\\\"#ed7953\\\"],[0.7777777777777778,\\\"#fb9f3a\\\"],[0.8888888888888888,\\\"#fdca26\\\"],[1.0,\\\"#f0f921\\\"]]}],\\\"scattercarpet\\\":[{\\\"type\\\":\\\"scattercarpet\\\",\\\"marker\\\":{\\\"colorbar\\\":{\\\"ticks\\\":\\\"\\\",\\\"outlinewidth\\\":0}}}],\\\"mesh3d\\\":[{\\\"colorbar\\\":{\\\"ticks\\\":\\\"\\\",\\\"outlinewidth\\\":0},\\\"type\\\":\\\"mesh3d\\\"}],\\\"surface\\\":[{\\\"colorbar\\\":{\\\"ticks\\\":\\\"\\\",\\\"outlinewidth\\\":0},\\\"type\\\":\\\"surface\\\",\\\"colorscale\\\":[[0.0,\\\"#0d0887\\\"],[0.1111111111111111,\\\"#46039f\\\"],[0.2222222222222222,\\\"#7201a8\\\"],[0.3333333333333333,\\\"#9c179e\\\"],[0.4444444444444444,\\\"#bd3786\\\"],[0.5555555555555556,\\\"#d8576b\\\"],[0.6666666666666666,\\\"#ed7953\\\"],[0.7777777777777778,\\\"#fb9f3a\\\"],[0.8888888888888888,\\\"#fdca26\\\"],[1.0,\\\"#f0f921\\\"]]}],\\\"scattermapbox\\\":[{\\\"type\\\":\\\"scattermapbox\\\",\\\"marker\\\":{\\\"colorbar\\\":{\\\"ticks\\\":\\\"\\\",\\\"outlinewidth\\\":0}}}],\\\"scattergeo\\\":[{\\\"type\\\":\\\"scattergeo\\\",\\\"marker\\\":{\\\"colorbar\\\":{\\\"ticks\\\":\\\"\\\",\\\"outlinewidth\\\":0}}}],\\\"histogram\\\":[{\\\"type\\\":\\\"histogram\\\",\\\"marker\\\":{\\\"colorbar\\\":{\\\"ticks\\\":\\\"\\\",\\\"outlinewidth\\\":0}}}],\\\"pie\\\":[{\\\"type\\\":\\\"pie\\\",\\\"automargin\\\":true}],\\\"choropleth\\\":[{\\\"colorbar\\\":{\\\"ticks\\\":\\\"\\\",\\\"outlinewidth\\\":0},\\\"type\\\":\\\"choropleth\\\"}],\\\"heatmapgl\\\":[{\\\"colorbar\\\":{\\\"ticks\\\":\\\"\\\",\\\"outlinewidth\\\":0},\\\"type\\\":\\\"heatmapgl\\\",\\\"colorscale\\\":[[0.0,\\\"#0d0887\\\"],[0.1111111111111111,\\\"#46039f\\\"],[0.2222222222222222,\\\"#7201a8\\\"],[0.3333333333333333,\\\"#9c179e\\\"],[0.4444444444444444,\\\"#bd3786\\\"],[0.5555555555555556,\\\"#d8576b\\\"],[0.6666666666666666,\\\"#ed7953\\\"],[0.7777777777777778,\\\"#fb9f3a\\\"],[0.8888888888888888,\\\"#fdca26\\\"],[1.0,\\\"#f0f921\\\"]]}],\\\"bar\\\":[{\\\"type\\\":\\\"bar\\\",\\\"error_y\\\":{\\\"color\\\":\\\"#2a3f5f\\\"},\\\"error_x\\\":{\\\"color\\\":\\\"#2a3f5f\\\"},\\\"marker\\\":{\\\"line\\\":{\\\"color\\\":\\\"#E5ECF6\\\",\\\"width\\\":0.5}}}],\\\"heatmap\\\":[{\\\"colorbar\\\":{\\\"ticks\\\":\\\"\\\",\\\"outlinewidth\\\":0},\\\"type\\\":\\\"heatmap\\\",\\\"colorscale\\\":[[0.0,\\\"#0d0887\\\"],[0.1111111111111111,\\\"#46039f\\\"],[0.2222222222222222,\\\"#7201a8\\\"],[0.3333333333333333,\\\"#9c179e\\\"],[0.4444444444444444,\\\"#bd3786\\\"],[0.5555555555555556,\\\"#d8576b\\\"],[0.6666666666666666,\\\"#ed7953\\\"],[0.7777777777777778,\\\"#fb9f3a\\\"],[0.8888888888888888,\\\"#fdca26\\\"],[1.0,\\\"#f0f921\\\"]]}],\\\"contourcarpet\\\":[{\\\"colorbar\\\":{\\\"ticks\\\":\\\"\\\",\\\"outlinewidth\\\":0},\\\"type\\\":\\\"contourcarpet\\\"}],\\\"table\\\":[{\\\"type\\\":\\\"table\\\",\\\"header\\\":{\\\"line\\\":{\\\"color\\\":\\\"white\\\"},\\\"fill\\\":{\\\"color\\\":\\\"#C8D4E3\\\"}},\\\"cells\\\":{\\\"line\\\":{\\\"color\\\":\\\"white\\\"},\\\"fill\\\":{\\\"color\\\":\\\"#EBF0F8\\\"}}}],\\\"scatter3d\\\":[{\\\"line\\\":{\\\"colorbar\\\":{\\\"ticks\\\":\\\"\\\",\\\"outlinewidth\\\":0}},\\\"type\\\":\\\"scatter3d\\\",\\\"marker\\\":{\\\"colorbar\\\":{\\\"ticks\\\":\\\"\\\",\\\"outlinewidth\\\":0}}}],\\\"scattergl\\\":[{\\\"type\\\":\\\"scattergl\\\",\\\"marker\\\":{\\\"colorbar\\\":{\\\"ticks\\\":\\\"\\\",\\\"outlinewidth\\\":0}}}],\\\"histogram2d\\\":[{\\\"colorbar\\\":{\\\"ticks\\\":\\\"\\\",\\\"outlinewidth\\\":0},\\\"type\\\":\\\"histogram2d\\\",\\\"colorscale\\\":[[0.0,\\\"#0d0887\\\"],[0.1111111111111111,\\\"#46039f\\\"],[0.2222222222222222,\\\"#7201a8\\\"],[0.3333333333333333,\\\"#9c179e\\\"],[0.4444444444444444,\\\"#bd3786\\\"],[0.5555555555555556,\\\"#d8576b\\\"],[0.6666666666666666,\\\"#ed7953\\\"],[0.7777777777777778,\\\"#fb9f3a\\\"],[0.8888888888888888,\\\"#fdca26\\\"],[1.0,\\\"#f0f921\\\"]]}],\\\"scatterternary\\\":[{\\\"type\\\":\\\"scatterternary\\\",\\\"marker\\\":{\\\"colorbar\\\":{\\\"ticks\\\":\\\"\\\",\\\"outlinewidth\\\":0}}}],\\\"scatterpolargl\\\":[{\\\"type\\\":\\\"scatterpolargl\\\",\\\"marker\\\":{\\\"colorbar\\\":{\\\"ticks\\\":\\\"\\\",\\\"outlinewidth\\\":0}}}]}},\\\"margin\\\":{\\\"l\\\":50,\\\"b\\\":50,\\\"r\\\":50,\\\"t\\\":60},\\\"title\\\":\\\"Value of element above diagonal σ_i\\\",\\\"yaxis\\\":{\\\"type\\\":\\\"log\\\",\\\"title\\\":{\\\"text\\\":\\\"Error\\\"},\\\"tickformat\\\":\\\"e\\\"}},{\\\"showLink\\\":false,\\\"editable\\\":false,\\\"responsive\\\":true,\\\"staticPlot\\\":false,\\\"scrollZoom\\\":true}); gd.on(\\\"plotly_hover\\\",(function (data){var filtered_data=WebIO.PlotlyCommands.filterEventData(gd,data,\\\"hover\\\"); return !(filtered_data.isnil) ? (WebIO.setval({\\\"name\\\":\\\"hover\\\",\\\"scope\\\":\\\"387891920854896438\\\",\\\"id\\\":\\\"181\\\",\\\"type\\\":\\\"observable\\\"},filtered_data.out)) : undefined})); gd.on(\\\"plotly_unhover\\\",(function (){return WebIO.setval({\\\"name\\\":\\\"hover\\\",\\\"scope\\\":\\\"387891920854896438\\\",\\\"id\\\":\\\"181\\\",\\\"type\\\":\\\"observable\\\"},{})})); gd.on(\\\"plotly_selected\\\",(function (data){var filtered_data=WebIO.PlotlyCommands.filterEventData(gd,data,\\\"selected\\\"); return !(filtered_data.isnil) ? (WebIO.setval({\\\"name\\\":\\\"selected\\\",\\\"scope\\\":\\\"387891920854896438\\\",\\\"id\\\":\\\"182\\\",\\\"type\\\":\\\"observable\\\"},filtered_data.out)) : undefined})); gd.on(\\\"plotly_deselect\\\",(function (){return WebIO.setval({\\\"name\\\":\\\"selected\\\",\\\"scope\\\":\\\"387891920854896438\\\",\\\"id\\\":\\\"182\\\",\\\"type\\\":\\\"observable\\\"},{})})); gd.on(\\\"plotly_relayout\\\",(function (data){var filtered_data=WebIO.PlotlyCommands.filterEventData(gd,data,\\\"relayout\\\"); return !(filtered_data.isnil) ? (WebIO.setval({\\\"name\\\":\\\"relayout\\\",\\\"scope\\\":\\\"387891920854896438\\\",\\\"id\\\":\\\"184\\\",\\\"type\\\":\\\"observable\\\"},filtered_data.out)) : undefined})); return gd.on(\\\"plotly_click\\\",(function (data){var filtered_data=WebIO.PlotlyCommands.filterEventData(gd,data,\\\"click\\\"); return !(filtered_data.isnil) ? (WebIO.setval({\\\"name\\\":\\\"click\\\",\\\"scope\\\":\\\"387891920854896438\\\",\\\"id\\\":\\\"183\\\",\\\"type\\\":\\\"observable\\\"},filtered_data.out)) : undefined}))}));\\n    (WebIO.importBlock({\\\"data\\\":[{\\\"name\\\":\\\"Plotly\\\",\\\"type\\\":\\\"js\\\",\\\"url\\\":\\\"\\/assetserver\\/d6feb8d8ce4676ebdde817a0745950a35b4ba3ae-plotly.min.js\\\"},{\\\"name\\\":null,\\\"type\\\":\\\"js\\\",\\\"url\\\":\\\"\\/assetserver\\/46c9ff4df7c73b5875052df387368a00f6cfc484-plotly_webio.bundle.js\\\"}],\\\"type\\\":\\\"async_block\\\"})).then((imports) => handler.apply(this, imports));\\n}\\n\"],\"observables\":{\"_toImage\":{\"sync\":false,\"id\":\"188\",\"value\":{}},\"hover\":{\"sync\":false,\"id\":\"181\",\"value\":{}},\"selected\":{\"sync\":false,\"id\":\"182\",\"value\":{}},\"__gd_contents\":{\"sync\":false,\"id\":\"186\",\"value\":{}},\"click\":{\"sync\":false,\"id\":\"183\",\"value\":{}},\"image\":{\"sync\":true,\"id\":\"185\",\"value\":\"\"},\"__get_gd_contents\":{\"sync\":false,\"id\":\"190\",\"value\":\"\"},\"_downloadImage\":{\"sync\":false,\"id\":\"189\",\"value\":{}},\"relayout\":{\"sync\":false,\"id\":\"184\",\"value\":{}},\"_commands\":{\"sync\":false,\"id\":\"187\",\"value\":[]}}},\"children\":[{\"props\":{\"id\":\"plot-63d5b189-fc2f-4a2c-a24b-8fe8da52c8bf\"},\"nodeType\":\"DOM\",\"type\":\"node\",\"instanceArgs\":{\"namespace\":\"html\",\"tag\":\"div\"},\"children\":[]}]},\n",
       "        window,\n",
       "    );\n",
       "    })()\n",
       "    </script>\n",
       "</div>\n"
      ],
      "text/plain": [
       "data: [\n",
       "  \"scatter with fields line, marker, mode, name, type, x, and y\",\n",
       "  \"scatter with fields line, marker, mode, name, type, x, and y\",\n",
       "  \"scatter with fields line, marker, mode, name, type, x, and y\",\n",
       "  \"scatter with fields line, marker, mode, name, type, x, and y\",\n",
       "  \"scatter with fields line, marker, mode, name, type, x, and y\",\n",
       "  \"scatter with fields line, marker, mode, name, type, x, and y\"\n",
       "]\n",
       "\n",
       "layout: \"layout with fields margin, showlegend, template, title, xaxis, and yaxis\"\n",
       "\n"
      ]
     },
     "execution_count": 381,
     "metadata": {},
     "output_type": "execute_result"
    }
   ],
   "source": [
    "error_vectors = [\n",
    "    abs.(results[1, 1, :]),\n",
    "    abs.(results[1, 2, :]),\n",
    "    abs.(results[1, 3, :]),\n",
    "    abs.(results[1, 4, :]),\n",
    "    abs.(results[1, 5, :]),\n",
    "    abs.(results[1, 6, :])\n",
    "]\n",
    "labels = [\"σ2\", \"σ3\", \"σ4\", \"σ5\", \"σ6\", \"σ7\"]\n",
    "plot_convergence_error(error_vectors, labels)"
   ]
  },
  {
   "cell_type": "code",
   "execution_count": 382,
   "id": "50e339e7",
   "metadata": {},
   "outputs": [
    {
     "name": "stdout",
     "output_type": "stream",
     "text": [
      "1×25 adjoint(::Vector{Float64}) with eltype Float64:\n",
      " -1.21828e-9  0.101992  -1.0  -1.0  -1.0  -1.0  -1.0  -1.0  -1.0  -1.0  -1.0  -1.0  -1.0  -1.0  -1.0  -1.0  -1.0  -1.0  -1.0  -1.0  -1.0  -1.0  -1.0  -1.0  -1.0"
     ]
    }
   ],
   "source": [
    "# σ_2\n",
    "show(stdout, \"text/plain\", results[2, 1, :]')"
   ]
  },
  {
   "cell_type": "code",
   "execution_count": 383,
   "id": "3d0610be",
   "metadata": {},
   "outputs": [
    {
     "name": "stdout",
     "output_type": "stream",
     "text": [
      "1×25 adjoint(::Vector{Float64}) with eltype Float64:\n",
      " -0.161738  1.0  1.0  1.0  1.0  1.0  1.0  1.0  1.0  1.0  1.0  1.0  1.0  1.0  1.0  1.0  1.0  1.0  1.0  1.0  1.0  1.0  1.0  1.0  1.0"
     ]
    }
   ],
   "source": [
    "# σ_3\n",
    "show(stdout, \"text/plain\", results[2, 2, :]')"
   ]
  },
  {
   "cell_type": "code",
   "execution_count": 384,
   "id": "caa336a5",
   "metadata": {},
   "outputs": [
    {
     "name": "stdout",
     "output_type": "stream",
     "text": [
      "1×25 adjoint(::Vector{Float64}) with eltype Float64:\n",
      " 1.0  1.0  1.0  1.0  1.0  1.0  1.0  1.0  1.0  1.0  1.0  1.0  1.0  1.0  1.0  1.0  1.0  1.0  1.0  1.0  1.0  1.0  1.0  1.0  1.0"
     ]
    }
   ],
   "source": [
    "# σ_4\n",
    "show(stdout, \"text/plain\", results[2, 3, :]')"
   ]
  },
  {
   "cell_type": "code",
   "execution_count": 385,
   "id": "ba018ebe",
   "metadata": {},
   "outputs": [
    {
     "name": "stdout",
     "output_type": "stream",
     "text": [
      "1×25 adjoint(::Vector{Float64}) with eltype Float64:\n",
      " 1.0  1.0  1.0  1.0  1.0  1.0  1.0  1.0  1.0  1.0  1.0  1.0  1.0  1.0  1.0  1.0  1.0  1.0  1.0  1.0  1.0  1.0  1.0  1.0  1.0"
     ]
    }
   ],
   "source": [
    "# σ_5\n",
    "show(stdout, \"text/plain\", results[2, 4, :]')"
   ]
  },
  {
   "cell_type": "code",
   "execution_count": 386,
   "id": "c25e0db5",
   "metadata": {},
   "outputs": [
    {
     "name": "stdout",
     "output_type": "stream",
     "text": [
      "1×25 adjoint(::Vector{Float64}) with eltype Float64:\n",
      " 1.0  1.0  1.0  1.0  1.0  1.0  1.0  1.0  1.0  1.0  1.0  1.0  1.0  1.0  1.0  1.0  1.0  1.0  1.0  1.0  1.0  1.0  1.0  1.0  1.0"
     ]
    }
   ],
   "source": [
    "# σ_6\n",
    "show(stdout, \"text/plain\", results[2, 5, :]')"
   ]
  },
  {
   "cell_type": "code",
   "execution_count": 387,
   "id": "c8de555b",
   "metadata": {},
   "outputs": [
    {
     "name": "stdout",
     "output_type": "stream",
     "text": [
      "1×25 adjoint(::Vector{Float64}) with eltype Float64:\n",
      " 1.0  1.0  1.0  1.0  1.0  1.0  1.0  1.0  1.0  1.0  1.0  1.0  1.0  1.0  1.0  1.0  1.0  1.0  1.0  1.0  1.0  1.0  1.0  1.0  1.0"
     ]
    }
   ],
   "source": [
    "# σ_7\n",
    "show(stdout, \"text/plain\", results[2, 6, :]')"
   ]
  },
  {
   "cell_type": "code",
   "execution_count": 388,
   "id": "b53393a6",
   "metadata": {
    "scrolled": true
   },
   "outputs": [
    {
     "data": {
      "text/plain": [
       "7-element Vector{Real}:\n",
       "  1.687987146613597e-10\n",
       " -1.0000000003414529\n",
       "  0.9999999996048783\n",
       "  0.9999999995637554\n",
       "  1.0000000002822327\n",
       "  1.0000000001509228\n",
       "  1.000000000317067"
      ]
     },
     "execution_count": 388,
     "metadata": {},
     "output_type": "execute_result"
    }
   ],
   "source": [
    "diag(S)"
   ]
  },
  {
   "cell_type": "code",
   "execution_count": 389,
   "id": "4e241989",
   "metadata": {},
   "outputs": [],
   "source": [
    "U, S, V = svd(A);"
   ]
  },
  {
   "cell_type": "code",
   "execution_count": 390,
   "id": "92f5d990",
   "metadata": {},
   "outputs": [
    {
     "name": "stdout",
     "output_type": "stream",
     "text": [
      "3.1633296914595044e-15"
     ]
    }
   ],
   "source": [
    "show(stdout, \"text/plain\", opnorm(U * diagm(S) * V' - A, 1)/opnorm(A, 1))"
   ]
  },
  {
   "cell_type": "code",
   "execution_count": 391,
   "id": "6a69d908",
   "metadata": {},
   "outputs": [
    {
     "data": {
      "text/plain": [
       "7-element Vector{Float64}:\n",
       " 1.000000000736198\n",
       " 1.0000000007106347\n",
       " 1.000000000316699\n",
       " 0.9999999997822111\n",
       " 0.9999999995945633\n",
       " 0.9999999991200019\n",
       " 1.6879872422932705e-10"
      ]
     },
     "execution_count": 391,
     "metadata": {},
     "output_type": "execute_result"
    }
   ],
   "source": [
    "S"
   ]
  },
  {
   "cell_type": "markdown",
   "id": "2b642070",
   "metadata": {},
   "source": [
    "## Time measurements"
   ]
  },
  {
   "cell_type": "markdown",
   "id": "1aa690d1",
   "metadata": {},
   "source": [
    "#### Bidiagonalize (without matrices - actually almost)"
   ]
  },
  {
   "cell_type": "code",
   "execution_count": 392,
   "id": "b8623350",
   "metadata": {},
   "outputs": [],
   "source": [
    "using BenchmarkTools"
   ]
  },
  {
   "cell_type": "code",
   "execution_count": 393,
   "id": "dcdf8ade",
   "metadata": {},
   "outputs": [
    {
     "name": "stdout",
     "output_type": "stream",
     "text": [
      "  711.841 μs (1084 allocations: 2.83 MiB)\n",
      "  4.449 ms (2534 allocations: 21.31 MiB)\n",
      "  14.576 ms (3984 allocations: 70.72 MiB)\n",
      "  34.600 ms (5434 allocations: 166.32 MiB)\n"
     ]
    }
   ],
   "source": [
    "for size_m = 50:50:200\n",
    "    A = randn(size_m, size_m)\n",
    "    @btime bidiagonalize(A);\n",
    "end"
   ]
  },
  {
   "cell_type": "markdown",
   "id": "488bf79a",
   "metadata": {},
   "source": [
    "#### Bidiagonalize (with matrices)"
   ]
  },
  {
   "cell_type": "code",
   "execution_count": 394,
   "id": "839a15da",
   "metadata": {},
   "outputs": [
    {
     "name": "stdout",
     "output_type": "stream",
     "text": [
      "  1.750 ms (1886 allocations: 6.84 MiB)\n",
      "  12.127 ms (4136 allocations: 52.52 MiB)\n",
      "  40.872 ms (6386 allocations: 175.27 MiB)\n",
      "  104.286 ms (8636 allocations: 413.17 MiB)\n"
     ]
    }
   ],
   "source": [
    "for size_m = 50:50:200\n",
    "    A = randn(size_m, size_m)\n",
    "    @btime bidiagonalize(A, true);\n",
    "end"
   ]
  },
  {
   "cell_type": "markdown",
   "id": "8229b541",
   "metadata": {},
   "source": [
    "#### From bidiag to diag (Golub Kahan) with matrices"
   ]
  },
  {
   "cell_type": "code",
   "execution_count": 418,
   "id": "12d4f9af",
   "metadata": {},
   "outputs": [],
   "source": [
    "execs = zeros(4, 1);\n",
    "j = 1;\n",
    "for size_m = 50:50:200\n",
    "    A = randn(size_m, size_m)\n",
    "    P_l, B, P_r = bidiagonalize(A, true);\n",
    "    exec1 = @elapsed svd_golub_reinsh!(B, P_l, P_r, 2 * size_m);\n",
    "    P_l, B, P_r = bidiagonalize(A, true);\n",
    "    exec2 = @elapsed svd_golub_reinsh!(B, P_l, P_r, 2 * size_m);\n",
    "    P_l, B, P_r = bidiagonalize(A, true);\n",
    "    exec3 = @elapsed svd_golub_reinsh!(B, P_l, P_r, 2 * size_m);\n",
    "    execs[j] = (exec1 + exec2 + exec3)/3;\n",
    "    j = j + 1;\n",
    "end\n",
    "\n",
    "# 4 times\n",
    "# bidiagonalize\n",
    "# bidiagonalize (with matrices)\n",
    "# from bidiag to diag (Golub Kahan) without singular vectors\n",
    "# from bidiag to diag (Golub Kahan) with singular vectors"
   ]
  },
  {
   "cell_type": "code",
   "execution_count": 419,
   "id": "5a3cce2a",
   "metadata": {},
   "outputs": [
    {
     "data": {
      "text/plain": [
       "4×1 Matrix{Float64}:\n",
       " 0.187062399\n",
       " 0.8744790026666668\n",
       " 1.6255494160000001\n",
       " 2.834247203"
      ]
     },
     "execution_count": 419,
     "metadata": {},
     "output_type": "execute_result"
    }
   ],
   "source": [
    "execs"
   ]
  },
  {
   "cell_type": "code",
   "execution_count": 421,
   "id": "eeecf8a7",
   "metadata": {},
   "outputs": [
    {
     "name": "stdout",
     "output_type": "stream",
     "text": [
      "2.6006574336156495e-14"
     ]
    }
   ],
   "source": [
    "show(stdout, \"text/plain\", opnorm(P_l * B * P_r' - A, 1)/opnorm(A, 1))"
   ]
  },
  {
   "cell_type": "markdown",
   "id": "96207dfc",
   "metadata": {},
   "source": [
    "#### Native SVD\n"
   ]
  },
  {
   "cell_type": "code",
   "execution_count": 414,
   "id": "b02fa1a3",
   "metadata": {},
   "outputs": [],
   "source": [
    "execs = zeros(4, 1);\n",
    "j = 1;\n",
    "for size_m = 50:50:200\n",
    "    A = randn(size_m, size_m)\n",
    "    exec1 = @elapsed svd(A);\n",
    "    exec2 = @elapsed svd(A);\n",
    "    exec3 = @elapsed svd(A);\n",
    "    execs[j] = (exec1 + exec2 + exec3)/3;\n",
    "    j = j + 1;\n",
    "end\n",
    "\n",
    "# 4 times\n",
    "# bidiagonalize\n",
    "# bidiagonalize (with matrices)\n",
    "# from bidiag to diag (Golub Kahan) without singular vectors\n",
    "# from bidiag to diag (Golub Kahan) with singular vectors"
   ]
  },
  {
   "cell_type": "code",
   "execution_count": 415,
   "id": "af922173",
   "metadata": {},
   "outputs": [
    {
     "data": {
      "text/plain": [
       "4×1 Matrix{Float64}:\n",
       " 0.0005442566666666667\n",
       " 0.0021198616666666665\n",
       " 0.0055248273333333335\n",
       " 0.009943249"
      ]
     },
     "execution_count": 415,
     "metadata": {},
     "output_type": "execute_result"
    }
   ],
   "source": [
    "execs"
   ]
  },
  {
   "cell_type": "code",
   "execution_count": null,
   "id": "84084cd4",
   "metadata": {},
   "outputs": [],
   "source": []
  },
  {
   "cell_type": "code",
   "execution_count": null,
   "id": "15b6a11f",
   "metadata": {},
   "outputs": [],
   "source": []
  },
  {
   "cell_type": "code",
   "execution_count": null,
   "id": "ba36b076",
   "metadata": {},
   "outputs": [],
   "source": []
  }
 ],
 "metadata": {
  "@webio": {
   "lastCommId": "43d0e80263b1445f87e00278e71db5af",
   "lastKernelId": "64fd22e9-c3ba-42ef-a63d-9b5601d1a8a6"
  },
  "kernelspec": {
   "display_name": "Julia 1.10.0",
   "language": "julia",
   "name": "julia-1.10"
  },
  "language_info": {
   "file_extension": ".jl",
   "mimetype": "application/julia",
   "name": "julia",
   "version": "1.10.0"
  }
 },
 "nbformat": 4,
 "nbformat_minor": 5
}
